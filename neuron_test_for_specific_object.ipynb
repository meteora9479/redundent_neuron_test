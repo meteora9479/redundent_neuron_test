{
 "cells": [
  {
   "cell_type": "code",
   "execution_count": 183,
   "metadata": {
    "collapsed": false
   },
   "outputs": [
    {
     "data": {
      "text/plain": [
       "==> Loading network\t\n"
      ]
     },
     "execution_count": 183,
     "metadata": {},
     "output_type": "execute_result"
    },
    {
     "data": {
      "text/plain": [
       "==> Loading synsets\t\n"
      ]
     },
     "execution_count": 183,
     "metadata": {},
     "output_type": "execute_result"
    },
    {
     "data": {
      "text/plain": [
       "==> Loading image and imagenet mean\t\n"
      ]
     },
     "execution_count": 183,
     "metadata": {},
     "output_type": "execute_result"
    }
   ],
   "source": [
    "require 'cudnn'\n",
    "require 'inn'\n",
    "require 'image'\n",
    "require 'dcnn'\n",
    "Plot = require 'itorch.Plot'\n",
    "\n",
    "-- Loads the mapping from net outputs to human readable labels\n",
    "function load_synset()\n",
    "  local file = io.open 'synset_words.txt'\n",
    "  local list = {}\n",
    "  while true do\n",
    "    local line = file:read()\n",
    "    if not line then break end\n",
    "    table.insert(list, string.sub(line,11))\n",
    "  end\n",
    "  return list\n",
    "end\n",
    "\n",
    "-- Converts an image from RGB to BGR format and subtracts mean\n",
    "function preprocess(im, img_mean)\n",
    "  -- rescale the image\n",
    "  local im3 = image.scale(im,224,224,'bilinear')*255\n",
    "  -- RGB2BGR\n",
    "  local im4 = im3:clone()\n",
    "  im4[{1,{},{}}] = im3[{3,{},{}}]\n",
    "  im4[{3,{},{}}] = im3[{1,{},{}}]\n",
    "\n",
    "  -- subtract imagenet mean\n",
    "  return im4 - image.scale(img_mean, 224, 224, 'bilinear')\n",
    "end\n",
    "\n",
    "-- Lua implementation of PHP scandir function\n",
    "function scandir(directory)\n",
    "    local i, t, popen = 0, {}, io.popen\n",
    "    for filename in popen('ls -a \"'..directory..'\"'):lines() do\n",
    "        if filename:match \"%.JPEG$\" then\n",
    "            i = i + 1\n",
    "            t[i] = filename\n",
    "\n",
    "        end\n",
    "    end\n",
    "    return t, i\n",
    "end\n",
    "\n",
    "\n",
    "--fileDir = './test_n01443537'\n",
    "fileDir = './n01443537'\n",
    "fileList, total_files = scandir( fileDir )\n",
    "true_label = 2\n",
    "\n",
    "\n",
    "\n",
    "-- Setting up networks \n",
    "print '==> Loading network'\n",
    "\n",
    "--net = torch.load('/home/yusheng/Workspace/DeepLearning/models/zeilerNet/zeilerNet.net')\n",
    "net = torch.load('/usr/local/data/zeilerNet/zeilerNet.net')\n",
    "--net:add(nn.Sigmoid())\n",
    "net:cuda()\n",
    "-- as we want to classify, let's disable dropouts by enabling evaluation mode\n",
    "net:evaluate()\n",
    "\n",
    "\n",
    "print '==> Loading synsets'\n",
    "synset_words = load_synset()\n",
    "\n",
    "print '==> Loading image and imagenet mean'\n",
    "image_name = 'Goldfish3.jpg'\n",
    "--image_name = 'lena.jpg'\n",
    "--image_name='people2.jpg'\n",
    "img_mean_name = 'ilsvrc_2012_mean.t7'\n",
    "\n",
    "im = image.load(image_name)\n",
    "img_mean = torch.load(img_mean_name).img_mean:transpose(3,1)"
   ]
  },
  {
   "cell_type": "code",
   "execution_count": 184,
   "metadata": {
    "collapsed": true
   },
   "outputs": [],
   "source": [
    "function Find_diff_by_drop1( output_org )\n",
    "    local topN_index = {}\n",
    "    local n = 256\n",
    "    for i=1, n do\n",
    "        topN_index[i] = { idx=0, diff=nil }\n",
    "    end\n",
    "\n",
    "    for i=1, net:get(1):get(13).output:size(1) do\n",
    "        local incomplete_fm = net:get(1):get(13).output:clone()\n",
    "        incomplete_fm[i]:zero()\n",
    "        local label_prob = {}\n",
    "        label_prob = classifier:forward(incomplete_fm):view(-1):float()\n",
    "        --local diff = output_org - NormalizedMax( sorted_prob )\n",
    "        local diff = output_org - label_prob[true_label]\n",
    "        --print( i.. '  '..diff )\n",
    "\n",
    "        if topN_index[n].diff == nil then \n",
    "            topN_index[n].diff = diff\n",
    "            topN_index[n].idx = i\n",
    "\n",
    "            local idx = n-1\n",
    "            while idx>=1 and topN_index[idx].diff == nil do\n",
    "                topN_index[idx].diff = topN_index[idx+1].diff\n",
    "                topN_index[idx].idx = topN_index[idx+1].idx\n",
    "                topN_index[idx+1].diff = nil\n",
    "                idx = idx - 1\n",
    "            end\n",
    "        \n",
    "            if i==256 then\n",
    "                for j=1,n-1 do \n",
    "                    for k=n,j+1,-1 do\n",
    "                        -- print(k ..' '.. j )\n",
    "                        if topN_index[k].diff > topN_index[k-1].diff then  \n",
    "                            temp_diff = topN_index[k].diff\n",
    "                            temp_idx = topN_index[k].idx\n",
    "                            topN_index[k].diff = topN_index[k-1].diff\n",
    "                            topN_index[k].idx = topN_index[k-1].idx\n",
    "                            topN_index[k-1].diff = temp_diff\n",
    "                            topN_index[k-1].idx = temp_idx\n",
    "                        end\n",
    "                    end\n",
    "                end\n",
    "            end\n",
    "        else\n",
    "            local temp_diff = nil\n",
    "            local temp_idx = 0\n",
    "            if n>1 then\n",
    "                for j=1,n-1 do \n",
    "                    for k=n,j+1,-1 do\n",
    "                        -- print(k ..' '.. j )\n",
    "                        if topN_index[k].diff > topN_index[k-1].diff then  \n",
    "                            temp_diff = topN_index[k].diff\n",
    "                            temp_idx = topN_index[k].idx\n",
    "                            topN_index[k].diff = topN_index[k-1].diff\n",
    "                            topN_index[k].idx = topN_index[k-1].idx\n",
    "                            topN_index[k-1].diff = temp_diff\n",
    "                            topN_index[k-1].idx = temp_idx\n",
    "                        end\n",
    "                    end\n",
    "                end\n",
    "            end\n",
    "\n",
    "            if topN_index[n].diff < diff then\n",
    "                topN_index[n].diff = diff\n",
    "                topN_index[n].idx = i\n",
    "            end\n",
    "        end\n",
    "    end\n",
    "--     for i=1,n do\n",
    "--         print( 'Top'.. i ..' drop down : ' .. topN_index[i].idx .. ' Diff: ' .. topN_index[i].diff) \n",
    "--     end\n",
    "    return topN_index\n",
    "end"
   ]
  },
  {
   "cell_type": "code",
   "execution_count": 185,
   "metadata": {
    "collapsed": true
   },
   "outputs": [],
   "source": [
    "function Insertion( topN_index )\n",
    "    local classification_curve = torch.Tensor(256)\n",
    "    \n",
    "    for top_n=1, 256 do\n",
    "        local incomplete_fm = net:get(1):get(13).output:clone()\n",
    "        for i=1,net:get(1):get(13).output:size(1) do\n",
    "            local drop = true\n",
    "            for j=1,top_n do\n",
    "                if i == topN_index[j].idx then\n",
    "                    drop = false\n",
    "                end  \n",
    "            end\n",
    "\n",
    "            if drop == true then\n",
    "                --print(i)\n",
    "                incomplete_fm[i]:zero()\n",
    "            end\n",
    "        end\n",
    "\n",
    "        local sorted_prob = {}\n",
    "        local classess = {}\n",
    "        sorted_prob, classes = classifier:forward(incomplete_fm):view(-1):float():sort(true)\n",
    "        --output_org, average = NormalizedMax( sorted_prob )\n",
    "        --local ratio_of_mean_error = (output_org - average)/average\n",
    "\n",
    "--         for i=1,3 do\n",
    "--             print('Top '..tostring(top_n)..' feature map classification: ', synset_words[classes[i]] .. ' ' .. sorted_prob[i] )\n",
    "--         end\n",
    "        \n",
    "        --print(classes[1])\n",
    "        if true_label == classes[1] then\n",
    "            classification_curve[top_n]= sorted_prob[1] \n",
    "        else\n",
    "            classification_curve[top_n] = 0\n",
    "        end\n",
    "    end\n",
    "    \n",
    "    return classification_curve\n",
    "end"
   ]
  },
  {
   "cell_type": "code",
   "execution_count": 186,
   "metadata": {
    "collapsed": true
   },
   "outputs": [],
   "source": [
    "function Dropout( topN_index )\n",
    "    local classification_curve = torch.Tensor(256)\n",
    "    \n",
    "    for top_n=1, 256 do\n",
    "        local incomplete_fm = net:get(1):get(13).output:clone()\n",
    "        for i=1,net:get(1):get(13).output:size(1) do\n",
    "            local drop = false\n",
    "            for j=1,top_n do\n",
    "                if i == topN_index[j].idx then\n",
    "                    drop = true\n",
    "                end  \n",
    "            end\n",
    "\n",
    "            if drop == true then\n",
    "                --print(i)\n",
    "                --print('Drop neuron :'.. i)\n",
    "                incomplete_fm[i]:zero()\n",
    "            end\n",
    "        end\n",
    "\n",
    "        local sorted_prob = {}\n",
    "        local classess = {}\n",
    "        sorted_prob, classes = classifier:forward(incomplete_fm):view(-1):float():sort(true)\n",
    "        --output_org, average = NormalizedMax( sorted_prob )\n",
    "        --local ratio_of_mean_error = (output_org - average)/average\n",
    "\n",
    "        --print('Top '..tostring(top_n)..' feature map classification: ', synset_words[classes[1]] .. ' ' .. sorted_prob[1] )\n",
    "\n",
    "        --print(classes[1])\n",
    "        if true_label == classes[1] then\n",
    "            classification_curve[top_n]= sorted_prob[1] \n",
    "        else\n",
    "            classification_curve[top_n] = 0\n",
    "        end\n",
    "    end\n",
    "    \n",
    "    return classification_curve\n",
    "end"
   ]
  },
  {
   "cell_type": "code",
   "execution_count": 187,
   "metadata": {
    "collapsed": false,
    "scrolled": true
   },
   "outputs": [
    {
     "data": {
      "text/plain": [
       "==> Preprocessing\t\n"
      ]
     },
     "execution_count": 187,
     "metadata": {},
     "output_type": "execute_result"
    },
    {
     "data": {
      "text/plain": [
       "Top nil feature map classification: \tgoldfish, Carassius auratus 14.475586891174\t\n",
       "14.475586891174\t\n",
       "1 is finished\t\n"
      ]
     },
     "execution_count": 187,
     "metadata": {},
     "output_type": "execute_result"
    },
    {
     "data": {
      "text/plain": [
       "Top nil feature map classification: \tgoldfish, Carassius auratus 25.032028198242\t\n"
      ]
     },
     "execution_count": 187,
     "metadata": {},
     "output_type": "execute_result"
    },
    {
     "data": {
      "text/plain": [
       "25.032028198242\t\n",
       "2 is finished\t\n"
      ]
     },
     "execution_count": 187,
     "metadata": {},
     "output_type": "execute_result"
    },
    {
     "data": {
      "text/plain": [
       "Top nil feature map classification: \tgoldfish, Carassius auratus 12.869455337524\t\n",
       "12.869455337524\t\n",
       "3 is finished\t\n"
      ]
     },
     "execution_count": 187,
     "metadata": {},
     "output_type": "execute_result"
    },
    {
     "data": {
      "text/plain": [
       "Top nil feature map classification: \tstarfish, sea star 9.9497489929199\t\n",
       "8.3770742416382\t\n",
       "4 is finished\t\n"
      ]
     },
     "execution_count": 187,
     "metadata": {},
     "output_type": "execute_result"
    },
    {
     "data": {
      "text/plain": [
       "Top nil feature map classification: \tgoldfish, Carassius auratus 15.751955032349\t\n",
       "15.751955032349\t\n",
       "5 is finished\t\n"
      ]
     },
     "execution_count": 187,
     "metadata": {},
     "output_type": "execute_result"
    },
    {
     "data": {
      "text/plain": [
       "Top nil feature map classification: \tgoldfish, Carassius auratus 13.057186126709\t\n",
       "13.057186126709\t\n",
       "6 is finished\t\n"
      ]
     },
     "execution_count": 187,
     "metadata": {},
     "output_type": "execute_result"
    },
    {
     "data": {
      "text/plain": [
       "Top nil feature map classification: \tanemone fish 10.443514823914\t\n",
       "8.8476638793945\t\n",
       "7 is finished\t\n"
      ]
     },
     "execution_count": 187,
     "metadata": {},
     "output_type": "execute_result"
    },
    {
     "data": {
      "text/plain": [
       "Top nil feature map classification: \tgoldfish, Carassius auratus 10.911069869995\t\n",
       "10.911069869995\t\n",
       "8 is finished\t\n"
      ]
     },
     "execution_count": 187,
     "metadata": {},
     "output_type": "execute_result"
    },
    {
     "data": {
      "text/plain": [
       "Top nil feature map classification: \tgoldfish, Carassius auratus 25.51904296875\t\n",
       "25.51904296875\t\n",
       "9 is finished\t\n"
      ]
     },
     "execution_count": 187,
     "metadata": {},
     "output_type": "execute_result"
    },
    {
     "data": {
      "text/plain": [
       "Top nil feature map classification: \tgoldfish, Carassius auratus 14.321776390076\t\n",
       "14.321776390076\t\n",
       "10 is finished\t\n"
      ]
     },
     "execution_count": 187,
     "metadata": {},
     "output_type": "execute_result"
    },
    {
     "data": {
      "text/plain": [
       "Top nil feature map classification: \tgoldfish, Carassius auratus 15.063273429871\t\n",
       "15.063273429871\t\n",
       "11 is finished\t\n"
      ]
     },
     "execution_count": 187,
     "metadata": {},
     "output_type": "execute_result"
    },
    {
     "data": {
      "text/plain": [
       "Top nil feature map classification: \tgoldfish, Carassius auratus 10.541299819946\t\n",
       "10.541299819946\t\n",
       "12 is finished\t\n"
      ]
     },
     "execution_count": 187,
     "metadata": {},
     "output_type": "execute_result"
    },
    {
     "data": {
      "text/plain": [
       "Top nil feature map classification: \tgoldfish, Carassius auratus 10.837626457214\t\n",
       "10.837626457214\t\n",
       "13 is finished\t\n"
      ]
     },
     "execution_count": 187,
     "metadata": {},
     "output_type": "execute_result"
    },
    {
     "data": {
      "text/plain": [
       "Top nil feature map classification: \tmatchstick 8.3448734283447\t\n",
       "8.0249729156494\t\n",
       "14 is finished\t\n"
      ]
     },
     "execution_count": 187,
     "metadata": {},
     "output_type": "execute_result"
    },
    {
     "data": {
      "text/plain": [
       "Top nil feature map classification: \tgoldfish, Carassius auratus 11.351353645325\t\n",
       "11.351353645325\t\n",
       "15 is finished\t\n"
      ]
     },
     "execution_count": 187,
     "metadata": {},
     "output_type": "execute_result"
    },
    {
     "data": {
      "text/plain": [
       "Top nil feature map classification: \tgoldfish, Carassius auratus 15.321005821228\t\n",
       "15.321005821228\t\n",
       "16 is finished\t\n"
      ]
     },
     "execution_count": 187,
     "metadata": {},
     "output_type": "execute_result"
    },
    {
     "data": {
      "text/plain": [
       "Top nil feature map classification: \tgoldfish, Carassius auratus 14.768460273743\t\n",
       "14.768460273743\t\n",
       "17 is finished\t\n"
      ]
     },
     "execution_count": 187,
     "metadata": {},
     "output_type": "execute_result"
    },
    {
     "data": {
      "text/plain": [
       "Top nil feature map classification: \tgoldfish, Carassius auratus 28.708522796631\t\n",
       "28.708522796631\t\n",
       "18 is finished\t\n"
      ]
     },
     "execution_count": 187,
     "metadata": {},
     "output_type": "execute_result"
    },
    {
     "data": {
      "text/plain": [
       "Top nil feature map classification: \tgoldfish, Carassius auratus 15.427196502686\t\n",
       "15.427196502686\t\n",
       "19 is finished\t\n"
      ]
     },
     "execution_count": 187,
     "metadata": {},
     "output_type": "execute_result"
    },
    {
     "data": {
      "text/plain": [
       "Top nil feature map classification: \tgoldfish, Carassius auratus 18.23136138916\t\n",
       "18.23136138916\t\n",
       "20 is finished\t\n"
      ]
     },
     "execution_count": 187,
     "metadata": {},
     "output_type": "execute_result"
    },
    {
     "data": {
      "text/plain": [
       "Top nil feature map classification: \tgoldfish, Carassius auratus 26.705675125122\t\n",
       "26.705675125122\t\n",
       "21 is finished\t\n"
      ]
     },
     "execution_count": 187,
     "metadata": {},
     "output_type": "execute_result"
    },
    {
     "data": {
      "text/plain": [
       "Top nil feature map classification: \tgoldfish, Carassius auratus 25.390027999878\t\n",
       "25.390027999878\t\n",
       "22 is finished\t\n"
      ]
     },
     "execution_count": 187,
     "metadata": {},
     "output_type": "execute_result"
    },
    {
     "data": {
      "text/plain": [
       "Top nil feature map classification: \tgoldfish, Carassius auratus 19.847579956055\t\n",
       "19.847579956055\t\n",
       "23 is finished\t\n"
      ]
     },
     "execution_count": 187,
     "metadata": {},
     "output_type": "execute_result"
    },
    {
     "data": {
      "text/plain": [
       "Top nil feature map classification: \tgoldfish, Carassius auratus 13.221324920654\t\n",
       "13.221324920654\t\n",
       "24 is finished\t\n"
      ]
     },
     "execution_count": 187,
     "metadata": {},
     "output_type": "execute_result"
    },
    {
     "data": {
      "text/plain": [
       "Top nil feature map classification: \tgoldfish, Carassius auratus 14.324673652649\t\n",
       "14.324673652649\t\n",
       "25 is finished\t\n"
      ]
     },
     "execution_count": 187,
     "metadata": {},
     "output_type": "execute_result"
    },
    {
     "data": {
      "text/plain": [
       "Top nil feature map classification: \tgoldfish, Carassius auratus 10.432035446167\t\n",
       "10.432035446167\t\n",
       "26 is finished\t\n"
      ]
     },
     "execution_count": 187,
     "metadata": {},
     "output_type": "execute_result"
    },
    {
     "data": {
      "text/plain": [
       "Top nil feature map classification: \tgoldfish, Carassius auratus 14.45254611969\t\n",
       "14.45254611969\t\n",
       "27 is finished\t\n"
      ]
     },
     "execution_count": 187,
     "metadata": {},
     "output_type": "execute_result"
    },
    {
     "data": {
      "text/plain": [
       "Top nil feature map classification: \tgoldfish, Carassius auratus 12.151430130005\t\n",
       "12.151430130005\t\n",
       "28 is finished\t\n"
      ]
     },
     "execution_count": 187,
     "metadata": {},
     "output_type": "execute_result"
    },
    {
     "data": {
      "text/plain": [
       "Top nil feature map classification: \tgoldfish, Carassius auratus 18.875207901001\t\n",
       "18.875207901001\t\n",
       "29 is finished\t\n"
      ]
     },
     "execution_count": 187,
     "metadata": {},
     "output_type": "execute_result"
    },
    {
     "data": {
      "text/plain": [
       "Top nil feature map classification: \tgoldfish, Carassius auratus 18.306671142578\t\n",
       "18.306671142578\t\n",
       "30 is finished\t\n"
      ]
     },
     "execution_count": 187,
     "metadata": {},
     "output_type": "execute_result"
    },
    {
     "data": {
      "text/plain": [
       "Top nil feature map classification: \tgoldfish, Carassius auratus 15.224356651306\t\n",
       "15.224356651306\t\n",
       "31 is finished\t\n"
      ]
     },
     "execution_count": 187,
     "metadata": {},
     "output_type": "execute_result"
    },
    {
     "data": {
      "text/plain": [
       "Top nil feature map classification: \tteddy, teddy bear 9.5891027450562\t\n",
       "8.5846328735352\t\n",
       "32 is finished\t\n"
      ]
     },
     "execution_count": 187,
     "metadata": {},
     "output_type": "execute_result"
    },
    {
     "data": {
      "text/plain": [
       "Top nil feature map classification: \tgoldfish, Carassius auratus 15.728332519531\t\n",
       "15.728332519531\t\n",
       "33 is finished\t\n"
      ]
     },
     "execution_count": 187,
     "metadata": {},
     "output_type": "execute_result"
    },
    {
     "data": {
      "text/plain": [
       "Top nil feature map classification: \tgoldfish, Carassius auratus 13.765409469604\t\n",
       "13.765409469604\t\n",
       "34 is finished\t\n"
      ]
     },
     "execution_count": 187,
     "metadata": {},
     "output_type": "execute_result"
    },
    {
     "data": {
      "text/plain": [
       "Top nil feature map classification: \tgoldfish, Carassius auratus 16.397508621216\t\n",
       "16.397508621216\t\n",
       "35 is finished\t\n"
      ]
     },
     "execution_count": 187,
     "metadata": {},
     "output_type": "execute_result"
    },
    {
     "data": {
      "text/plain": [
       "Top nil feature map classification: \tgoldfish, Carassius auratus 12.625635147095\t\n",
       "12.625635147095\t\n",
       "36 is finished\t\n"
      ]
     },
     "execution_count": 187,
     "metadata": {},
     "output_type": "execute_result"
    },
    {
     "data": {
      "text/plain": [
       "Top nil feature map classification: \tgoldfish, Carassius auratus 23.903144836426\t\n",
       "23.903144836426\t\n",
       "37 is finished\t\n"
      ]
     },
     "execution_count": 187,
     "metadata": {},
     "output_type": "execute_result"
    },
    {
     "data": {
      "text/plain": [
       "Top nil feature map classification: \tgoldfish, Carassius auratus 23.920526504517\t\n",
       "23.920526504517\t\n",
       "38 is finished\t\n"
      ]
     },
     "execution_count": 187,
     "metadata": {},
     "output_type": "execute_result"
    },
    {
     "data": {
      "text/plain": [
       "Top nil feature map classification: \tgoldfish, Carassius auratus 17.843355178833\t\n",
       "17.843355178833\t\n",
       "39 is finished\t\n"
      ]
     },
     "execution_count": 187,
     "metadata": {},
     "output_type": "execute_result"
    },
    {
     "data": {
      "text/plain": [
       "Top nil feature map classification: \tgoldfish, Carassius auratus 19.770092010498\t\n",
       "19.770092010498\t\n",
       "40 is finished\t\n"
      ]
     },
     "execution_count": 187,
     "metadata": {},
     "output_type": "execute_result"
    },
    {
     "data": {
      "text/plain": [
       "Top nil feature map classification: \tgoldfish, Carassius auratus 20.348485946655\t\n",
       "20.348485946655\t\n",
       "41 is finished\t\n"
      ]
     },
     "execution_count": 187,
     "metadata": {},
     "output_type": "execute_result"
    },
    {
     "data": {
      "text/plain": [
       "Top nil feature map classification: \tgoldfish, Carassius auratus 11.731197357178\t\n",
       "11.731197357178\t\n",
       "42 is finished\t\n"
      ]
     },
     "execution_count": 187,
     "metadata": {},
     "output_type": "execute_result"
    },
    {
     "data": {
      "text/plain": [
       "Top nil feature map classification: \tgoldfish, Carassius auratus 25.844825744629\t\n",
       "25.844825744629\t\n",
       "43 is finished\t\n"
      ]
     },
     "execution_count": 187,
     "metadata": {},
     "output_type": "execute_result"
    },
    {
     "data": {
      "text/plain": [
       "Top nil feature map classification: \tanemone fish 22.798763275146\t\n",
       "21.652053833008\t\n",
       "44 is finished\t\n"
      ]
     },
     "execution_count": 187,
     "metadata": {},
     "output_type": "execute_result"
    },
    {
     "data": {
      "text/plain": [
       "Top nil feature map classification: \tgoldfish, Carassius auratus 17.353410720825\t\n",
       "17.353410720825\t\n",
       "45 is finished\t\n"
      ]
     },
     "execution_count": 187,
     "metadata": {},
     "output_type": "execute_result"
    },
    {
     "data": {
      "text/plain": [
       "Top nil feature map classification: \tgoldfish, Carassius auratus 19.443935394287\t\n",
       "19.443935394287\t\n",
       "46 is finished\t\n"
      ]
     },
     "execution_count": 187,
     "metadata": {},
     "output_type": "execute_result"
    },
    {
     "data": {
      "text/plain": [
       "Top nil feature map classification: \tpiggy bank, penny bank 11.47159576416\t\n",
       "9.6635065078735\t\n",
       "47 is finished\t\n"
      ]
     },
     "execution_count": 187,
     "metadata": {},
     "output_type": "execute_result"
    },
    {
     "data": {
      "text/plain": [
       "Top nil feature map classification: \tgoldfish, Carassius auratus 31.715612411499\t\n",
       "31.715612411499\t\n",
       "48 is finished\t\n"
      ]
     },
     "execution_count": 187,
     "metadata": {},
     "output_type": "execute_result"
    },
    {
     "data": {
      "text/plain": [
       "Top nil feature map classification: \tgoldfish, Carassius auratus 16.850522994995\t\n",
       "16.850522994995\t\n",
       "49 is finished\t\n"
      ]
     },
     "execution_count": 187,
     "metadata": {},
     "output_type": "execute_result"
    },
    {
     "data": {
      "text/plain": [
       "Top nil feature map classification: \tgoldfish, Carassius auratus 14.052169799805\t\n",
       "14.052169799805\t\n",
       "50 is finished\t\n"
      ]
     },
     "execution_count": 187,
     "metadata": {},
     "output_type": "execute_result"
    },
    {
     "data": {
      "text/plain": [
       "Top nil feature map classification: \tgoldfish, Carassius auratus 15.857908248901\t\n",
       "15.857908248901\t\n",
       "51 is finished\t\n"
      ]
     },
     "execution_count": 187,
     "metadata": {},
     "output_type": "execute_result"
    },
    {
     "data": {
      "text/plain": [
       "Top nil feature map classification: \tgoldfish, Carassius auratus 15.497928619385\t\n",
       "15.497928619385\t\n",
       "52 is finished\t\n"
      ]
     },
     "execution_count": 187,
     "metadata": {},
     "output_type": "execute_result"
    },
    {
     "data": {
      "text/plain": [
       "Top nil feature map classification: \tgoldfish, Carassius auratus 21.614309310913\t\n",
       "21.614309310913\t\n",
       "53 is finished\t\n"
      ]
     },
     "execution_count": 187,
     "metadata": {},
     "output_type": "execute_result"
    },
    {
     "data": {
      "text/plain": [
       "Top nil feature map classification: \tgoldfish, Carassius auratus 14.482420921326\t\n",
       "14.482420921326\t\n",
       "54 is finished\t\n"
      ]
     },
     "execution_count": 187,
     "metadata": {},
     "output_type": "execute_result"
    },
    {
     "data": {
      "text/plain": [
       "Top nil feature map classification: \tgoldfish, Carassius auratus 9.1010608673096\t\n",
       "9.1010608673096\t\n",
       "55 is finished\t\n"
      ]
     },
     "execution_count": 187,
     "metadata": {},
     "output_type": "execute_result"
    },
    {
     "data": {
      "text/plain": [
       "Top nil feature map classification: \tgoldfish, Carassius auratus 16.980354309082\t\n",
       "16.980354309082\t\n",
       "56 is finished\t\n"
      ]
     },
     "execution_count": 187,
     "metadata": {},
     "output_type": "execute_result"
    },
    {
     "data": {
      "text/plain": [
       "Top nil feature map classification: \tgoldfish, Carassius auratus 7.3182139396667\t\n",
       "7.3182139396667\t\n",
       "57 is finished\t\n"
      ]
     },
     "execution_count": 187,
     "metadata": {},
     "output_type": "execute_result"
    },
    {
     "data": {
      "text/plain": [
       "Top nil feature map classification: \tgoldfish, Carassius auratus 18.796083450317\t\n",
       "18.796083450317\t\n",
       "58 is finished\t\n"
      ]
     },
     "execution_count": 187,
     "metadata": {},
     "output_type": "execute_result"
    },
    {
     "data": {
      "text/plain": [
       "Top nil feature map classification: \tpineapple, ananas 9.9588098526001\t\n",
       "9.9584226608276\t\n",
       "59 is finished\t\n"
      ]
     },
     "execution_count": 187,
     "metadata": {},
     "output_type": "execute_result"
    },
    {
     "data": {
      "text/plain": [
       "Top nil feature map classification: \tgoldfish, Carassius auratus 23.267143249512\t\n",
       "23.267143249512\t\n",
       "60 is finished\t\n"
      ]
     },
     "execution_count": 187,
     "metadata": {},
     "output_type": "execute_result"
    },
    {
     "data": {
      "text/plain": [
       "Top nil feature map classification: \tgoldfish, Carassius auratus 20.242347717285\t\n",
       "20.242347717285\t\n",
       "61 is finished\t\n"
      ]
     },
     "execution_count": 187,
     "metadata": {},
     "output_type": "execute_result"
    },
    {
     "data": {
      "text/plain": [
       "Top nil feature map classification: \tgoldfish, Carassius auratus 13.023787498474\t\n",
       "13.023787498474\t\n",
       "62 is finished\t\n"
      ]
     },
     "execution_count": 187,
     "metadata": {},
     "output_type": "execute_result"
    },
    {
     "data": {
      "text/plain": [
       "Top nil feature map classification: \tgoldfish, Carassius auratus 16.368686676025\t\n",
       "16.368686676025\t\n",
       "63 is finished\t\n"
      ]
     },
     "execution_count": 187,
     "metadata": {},
     "output_type": "execute_result"
    },
    {
     "data": {
      "text/plain": [
       "Top nil feature map classification: \tgoldfish, Carassius auratus 16.179155349731\t\n",
       "16.179155349731\t\n",
       "64 is finished\t\n"
      ]
     },
     "execution_count": 187,
     "metadata": {},
     "output_type": "execute_result"
    },
    {
     "data": {
      "text/plain": [
       "Top nil feature map classification: \tgoldfish, Carassius auratus 20.527063369751\t\n",
       "20.527063369751\t\n",
       "65 is finished\t\n"
      ]
     },
     "execution_count": 187,
     "metadata": {},
     "output_type": "execute_result"
    },
    {
     "data": {
      "text/plain": [
       "Top nil feature map classification: \tgoldfish, Carassius auratus 19.640491485596\t\n",
       "19.640491485596\t\n",
       "66 is finished\t\n"
      ]
     },
     "execution_count": 187,
     "metadata": {},
     "output_type": "execute_result"
    },
    {
     "data": {
      "text/plain": [
       "Top nil feature map classification: \tgoldfish, Carassius auratus 20.508518218994\t\n",
       "20.508518218994\t\n",
       "67 is finished\t\n"
      ]
     },
     "execution_count": 187,
     "metadata": {},
     "output_type": "execute_result"
    },
    {
     "data": {
      "text/plain": [
       "Top nil feature map classification: \tgroom, bridegroom 10.52502822876\t\n",
       "3.3849589824677\t\n",
       "68 is finished\t\n"
      ]
     },
     "execution_count": 187,
     "metadata": {},
     "output_type": "execute_result"
    },
    {
     "data": {
      "text/plain": [
       "Top nil feature map classification: \tgoldfish, Carassius auratus 16.145488739014\t\n",
       "16.145488739014\t\n",
       "69 is finished\t\n"
      ]
     },
     "execution_count": 187,
     "metadata": {},
     "output_type": "execute_result"
    },
    {
     "data": {
      "text/plain": [
       "Top nil feature map classification: \tgoldfish, Carassius auratus 14.168966293335\t\n",
       "14.168966293335\t\n",
       "70 is finished\t\n"
      ]
     },
     "execution_count": 187,
     "metadata": {},
     "output_type": "execute_result"
    },
    {
     "data": {
      "text/plain": [
       "Top nil feature map classification: \tgoldfish, Carassius auratus 16.582799911499\t\n",
       "16.582799911499\t\n",
       "71 is finished\t\n"
      ]
     },
     "execution_count": 187,
     "metadata": {},
     "output_type": "execute_result"
    },
    {
     "data": {
      "text/plain": [
       "Top nil feature map classification: \tgoldfish, Carassius auratus 30.152620315552\t\n",
       "30.152620315552\t\n",
       "72 is finished\t\n"
      ]
     },
     "execution_count": 187,
     "metadata": {},
     "output_type": "execute_result"
    },
    {
     "data": {
      "text/plain": [
       "Top nil feature map classification: \tgoldfish, Carassius auratus 14.65839099884\t\n",
       "14.65839099884\t\n",
       "73 is finished\t\n"
      ]
     },
     "execution_count": 187,
     "metadata": {},
     "output_type": "execute_result"
    },
    {
     "data": {
      "text/plain": [
       "Top nil feature map classification: \tgoldfish, Carassius auratus 16.172508239746\t\n",
       "16.172508239746\t\n",
       "74 is finished\t\n"
      ]
     },
     "execution_count": 187,
     "metadata": {},
     "output_type": "execute_result"
    },
    {
     "data": {
      "text/plain": [
       "Top nil feature map classification: \tgoldfish, Carassius auratus 23.983726501465\t\n",
       "23.983726501465\t\n",
       "75 is finished\t\n"
      ]
     },
     "execution_count": 187,
     "metadata": {},
     "output_type": "execute_result"
    },
    {
     "data": {
      "text/plain": [
       "Top nil feature map classification: \tgoldfish, Carassius auratus 16.553396224976\t\n",
       "16.553396224976\t\n",
       "76 is finished\t\n"
      ]
     },
     "execution_count": 187,
     "metadata": {},
     "output_type": "execute_result"
    },
    {
     "data": {
      "text/plain": [
       "Top nil feature map classification: \tgoldfish, Carassius auratus 16.408355712891\t\n",
       "16.408355712891\t\n",
       "77 is finished\t\n"
      ]
     },
     "execution_count": 187,
     "metadata": {},
     "output_type": "execute_result"
    },
    {
     "data": {
      "text/plain": [
       "Top nil feature map classification: \tgoldfish, Carassius auratus 17.715448379517\t\n",
       "17.715448379517\t\n",
       "78 is finished\t\n"
      ]
     },
     "execution_count": 187,
     "metadata": {},
     "output_type": "execute_result"
    },
    {
     "data": {
      "text/plain": [
       "Top nil feature map classification: \tgoldfish, Carassius auratus 21.075042724609\t\n",
       "21.075042724609\t\n",
       "79 is finished\t\n"
      ]
     },
     "execution_count": 187,
     "metadata": {},
     "output_type": "execute_result"
    },
    {
     "data": {
      "text/plain": [
       "Top nil feature map classification: \tgoldfish, Carassius auratus 16.121587753296\t\n",
       "16.121587753296\t\n",
       "80 is finished\t\n"
      ]
     },
     "execution_count": 187,
     "metadata": {},
     "output_type": "execute_result"
    },
    {
     "data": {
      "text/plain": [
       "Top nil feature map classification: \tgoldfish, Carassius auratus 26.225053787231\t\n",
       "26.225053787231\t\n",
       "81 is finished\t\n"
      ]
     },
     "execution_count": 187,
     "metadata": {},
     "output_type": "execute_result"
    },
    {
     "data": {
      "text/plain": [
       "Top nil feature map classification: \tgoldfish, Carassius auratus 14.286489486694\t\n",
       "14.286489486694\t\n",
       "82 is finished\t\n"
      ]
     },
     "execution_count": 187,
     "metadata": {},
     "output_type": "execute_result"
    },
    {
     "data": {
      "text/plain": [
       "Top nil feature map classification: \tgoldfish, Carassius auratus 28.531272888184\t\n",
       "28.531272888184\t\n",
       "83 is finished\t\n"
      ]
     },
     "execution_count": 187,
     "metadata": {},
     "output_type": "execute_result"
    },
    {
     "data": {
      "text/plain": [
       "Top nil feature map classification: \tgoldfish, Carassius auratus 16.249040603638\t\n",
       "16.249040603638\t\n",
       "84 is finished\t\n"
      ]
     },
     "execution_count": 187,
     "metadata": {},
     "output_type": "execute_result"
    },
    {
     "data": {
      "text/plain": [
       "Top nil feature map classification: \tgoldfish, Carassius auratus 16.432500839233\t\n",
       "16.432500839233\t\n",
       "85 is finished\t\n"
      ]
     },
     "execution_count": 187,
     "metadata": {},
     "output_type": "execute_result"
    },
    {
     "data": {
      "text/plain": [
       "Top nil feature map classification: \t"
      ]
     },
     "execution_count": 187,
     "metadata": {},
     "output_type": "execute_result"
    },
    {
     "data": {
      "text/plain": [
       "goldfish, Carassius auratus 18.482727050781\t\n",
       "18.482727050781\t\n",
       "86 is finished\t\n"
      ]
     },
     "execution_count": 187,
     "metadata": {},
     "output_type": "execute_result"
    },
    {
     "data": {
      "text/plain": [
       "Top nil feature map classification: \tgoldfish, Carassius auratus 18.453020095825\t\n",
       "18.453020095825\t\n",
       "87 is finished\t\n"
      ]
     },
     "execution_count": 187,
     "metadata": {},
     "output_type": "execute_result"
    },
    {
     "data": {
      "text/plain": [
       "Top nil feature map classification: \tgoldfish, Carassius auratus 21.506271362305\t\n",
       "21.506271362305\t\n",
       "88 is finished\t\n"
      ]
     },
     "execution_count": 187,
     "metadata": {},
     "output_type": "execute_result"
    },
    {
     "data": {
      "text/plain": [
       "Top nil feature map classification: \tgoldfish, Carassius auratus 25.469326019287\t\n",
       "25.469326019287\t\n",
       "89 is finished\t\n"
      ]
     },
     "execution_count": 187,
     "metadata": {},
     "output_type": "execute_result"
    },
    {
     "data": {
      "text/plain": [
       "Top nil feature map classification: \tgoldfish, Carassius auratus 16.041160583496\t\n",
       "16.041160583496\t\n",
       "90 is finished\t\n"
      ]
     },
     "execution_count": 187,
     "metadata": {},
     "output_type": "execute_result"
    },
    {
     "data": {
      "text/plain": [
       "Top nil feature map classification: \tgoldfish, Carassius auratus 15.01690196991\t\n",
       "15.01690196991\t\n",
       "91 is finished\t\n"
      ]
     },
     "execution_count": 187,
     "metadata": {},
     "output_type": "execute_result"
    },
    {
     "data": {
      "text/plain": [
       "Top nil feature map classification: \tgoldfish, Carassius auratus 30.50700378418\t\n",
       "30.50700378418\t\n",
       "92 is finished\t\n"
      ]
     },
     "execution_count": 187,
     "metadata": {},
     "output_type": "execute_result"
    },
    {
     "data": {
      "text/plain": [
       "Top nil feature map classification: \tgoldfish, Carassius auratus 30.401494979858\t\n",
       "30.401494979858\t\n",
       "93 is finished\t\n"
      ]
     },
     "execution_count": 187,
     "metadata": {},
     "output_type": "execute_result"
    },
    {
     "data": {
      "text/plain": [
       "Top nil feature map classification: \tgoldfish, Carassius auratus 18.933807373047\t\n",
       "18.933807373047\t\n",
       "94 is finished\t\n"
      ]
     },
     "execution_count": 187,
     "metadata": {},
     "output_type": "execute_result"
    },
    {
     "data": {
      "text/plain": [
       "Top nil feature map classification: \tgoldfish, Carassius auratus 16.246078491211\t\n",
       "16.246078491211\t\n",
       "95 is finished\t\n"
      ]
     },
     "execution_count": 187,
     "metadata": {},
     "output_type": "execute_result"
    },
    {
     "data": {
      "text/plain": [
       "Top nil feature map classification: \tgoldfish, Carassius auratus 16.410213470459\t\n",
       "16.410213470459\t\n",
       "96 is finished\t\n"
      ]
     },
     "execution_count": 187,
     "metadata": {},
     "output_type": "execute_result"
    },
    {
     "data": {
      "text/plain": [
       "Top nil feature map classification: \tgoldfish, Carassius auratus 15.512963294983\t\n",
       "15.512963294983\t\n",
       "97 is finished\t\n"
      ]
     },
     "execution_count": 187,
     "metadata": {},
     "output_type": "execute_result"
    },
    {
     "data": {
      "text/plain": [
       "Top nil feature map classification: \tgoldfish, Carassius auratus 20.530296325684\t\n",
       "20.530296325684\t\n",
       "98 is finished\t\n"
      ]
     },
     "execution_count": 187,
     "metadata": {},
     "output_type": "execute_result"
    },
    {
     "data": {
      "text/plain": [
       "Top nil feature map classification: \tgoldfish, Carassius auratus 16.799741744995\t\n",
       "16.799741744995\t\n",
       "99 is finished\t\n"
      ]
     },
     "execution_count": 187,
     "metadata": {},
     "output_type": "execute_result"
    },
    {
     "data": {
      "text/plain": [
       "Top nil feature map classification: \tquilt, comforter, comfort, puff 8.3488903045654\t\n",
       "4.6868014335632\t\n",
       "100 is finished\t\n"
      ]
     },
     "execution_count": 187,
     "metadata": {},
     "output_type": "execute_result"
    },
    {
     "data": {
      "text/plain": [
       "Top nil feature map classification: \tgoldfish, Carassius auratus 29.607807159424\t\n",
       "29.607807159424\t\n",
       "101 is finished\t\n"
      ]
     },
     "execution_count": 187,
     "metadata": {},
     "output_type": "execute_result"
    },
    {
     "data": {
      "text/plain": [
       "Top nil feature map classification: \tgoldfish, Carassius auratus 10.292765617371\t\n",
       "10.292765617371\t\n",
       "102 is finished\t\n"
      ]
     },
     "execution_count": 187,
     "metadata": {},
     "output_type": "execute_result"
    },
    {
     "data": {
      "text/plain": [
       "Top nil feature map classification: \tgoldfish, Carassius auratus 19.379594802856\t\n",
       "19.379594802856\t\n",
       "103 is finished\t\n"
      ]
     },
     "execution_count": 187,
     "metadata": {},
     "output_type": "execute_result"
    },
    {
     "data": {
      "text/plain": [
       "Top nil feature map classification: \tAmerican lobster, Northern lobster, Maine lobster, Homarus americanus 12.530777931213\t\n",
       "11.723641395569\t\n",
       "104 is finished\t\n"
      ]
     },
     "execution_count": 187,
     "metadata": {},
     "output_type": "execute_result"
    },
    {
     "data": {
      "text/plain": [
       "Top nil feature map classification: \twok 8.6613130569458\t\n",
       "4.9273338317871\t\n",
       "105 is finished\t\n"
      ]
     },
     "execution_count": 187,
     "metadata": {},
     "output_type": "execute_result"
    },
    {
     "data": {
      "text/plain": [
       "Top nil feature map classification: \tgoldfish, Carassius auratus 21.846145629883\t\n",
       "21.846145629883\t\n",
       "106 is finished\t\n"
      ]
     },
     "execution_count": 187,
     "metadata": {},
     "output_type": "execute_result"
    },
    {
     "data": {
      "text/plain": [
       "Top nil feature map classification: \tgoldfish, Carassius auratus 14.395997047424\t\n",
       "14.395997047424\t\n",
       "107 is finished\t\n"
      ]
     },
     "execution_count": 187,
     "metadata": {},
     "output_type": "execute_result"
    },
    {
     "data": {
      "text/plain": [
       "Top nil feature map classification: \tgoldfish, Carassius auratus 18.454416275024\t\n",
       "18.454416275024\t\n",
       "108 is finished\t\n"
      ]
     },
     "execution_count": 187,
     "metadata": {},
     "output_type": "execute_result"
    },
    {
     "data": {
      "text/plain": [
       "Top nil feature map classification: \tgoldfish, Carassius auratus 13.749446868896\t\n",
       "13.749446868896\t\n",
       "109 is finished\t\n"
      ]
     },
     "execution_count": 187,
     "metadata": {},
     "output_type": "execute_result"
    },
    {
     "data": {
      "text/plain": [
       "Top nil feature map classification: \thot pot, hotpot 13.737854003906\t\n",
       "13.248104095459\t\n",
       "110 is finished\t\n"
      ]
     },
     "execution_count": 187,
     "metadata": {},
     "output_type": "execute_result"
    },
    {
     "data": {
      "text/plain": [
       "Top nil feature map classification: \tgoldfish, Carassius auratus 23.691129684448\t\n",
       "23.691129684448\t\n",
       "111 is finished\t\n"
      ]
     },
     "execution_count": 187,
     "metadata": {},
     "output_type": "execute_result"
    },
    {
     "data": {
      "text/plain": [
       "Top nil feature map classification: \tgoldfish, Carassius auratus 23.150537490845\t\n",
       "23.150537490845\t\n",
       "112 is finished\t\n"
      ]
     },
     "execution_count": 187,
     "metadata": {},
     "output_type": "execute_result"
    },
    {
     "data": {
      "text/plain": [
       "Top nil feature map classification: \tgoldfish, Carassius auratus 23.34189414978\t\n",
       "23.34189414978\t\n",
       "113 is finished\t\n"
      ]
     },
     "execution_count": 187,
     "metadata": {},
     "output_type": "execute_result"
    },
    {
     "data": {
      "text/plain": [
       "Top nil feature map classification: \tanemone fish 13.929388999939\t\n",
       "12.894746780396\t\n",
       "114 is finished\t\n"
      ]
     },
     "execution_count": 187,
     "metadata": {},
     "output_type": "execute_result"
    },
    {
     "data": {
      "text/plain": [
       "Top nil feature map classification: \tgoldfish, Carassius auratus 28.708665847778\t\n",
       "28.708665847778\t\n",
       "115 is finished\t\n"
      ]
     },
     "execution_count": 187,
     "metadata": {},
     "output_type": "execute_result"
    },
    {
     "data": {
      "text/plain": [
       "Top nil feature map classification: \tpinwheel 11.555322647095\t\n",
       "11.325133323669\t\n",
       "116 is finished\t\n"
      ]
     },
     "execution_count": 187,
     "metadata": {},
     "output_type": "execute_result"
    },
    {
     "data": {
      "text/plain": [
       "Top nil feature map classification: \tgoldfish, Carassius auratus 20.25369644165\t\n",
       "20.25369644165\t\n",
       "117 is finished\t\n"
      ]
     },
     "execution_count": 187,
     "metadata": {},
     "output_type": "execute_result"
    },
    {
     "data": {
      "text/plain": [
       "Top nil feature map classification: \tgoldfish, Carassius auratus 27.565446853638\t\n",
       "27.565446853638\t\n",
       "118 is finished\t\n"
      ]
     },
     "execution_count": 187,
     "metadata": {},
     "output_type": "execute_result"
    },
    {
     "data": {
      "text/plain": [
       "Top nil feature map classification: \tgoldfish, Carassius auratus 10.975456237793\t\n",
       "10.975456237793\t\n",
       "119 is finished\t\n"
      ]
     },
     "execution_count": 187,
     "metadata": {},
     "output_type": "execute_result"
    },
    {
     "data": {
      "text/plain": [
       "Top nil feature map classification: \tgoldfish, Carassius auratus 15.496053695679\t\n",
       "15.496053695679\t\n",
       "120 is finished\t\n"
      ]
     },
     "execution_count": 187,
     "metadata": {},
     "output_type": "execute_result"
    },
    {
     "data": {
      "text/plain": [
       "Top nil feature map classification: \tgoldfish, Carassius auratus 19.54083442688\t\n",
       "19.54083442688\t\n",
       "121 is finished\t\n"
      ]
     },
     "execution_count": 187,
     "metadata": {},
     "output_type": "execute_result"
    },
    {
     "data": {
      "text/plain": [
       "Top nil feature map classification: \tgoldfish, Carassius auratus 14.609984397888\t\n",
       "14.609984397888\t\n",
       "122 is finished\t\n"
      ]
     },
     "execution_count": 187,
     "metadata": {},
     "output_type": "execute_result"
    },
    {
     "data": {
      "text/plain": [
       "Top nil feature map classification: \tgoldfish, Carassius auratus 20.230375289917\t\n",
       "20.230375289917\t\n",
       "123 is finished\t\n"
      ]
     },
     "execution_count": 187,
     "metadata": {},
     "output_type": "execute_result"
    },
    {
     "data": {
      "text/plain": [
       "Top nil feature map classification: \tgoldfish, Carassius auratus 26.215534210205\t\n",
       "26.215534210205\t\n",
       "124 is finished\t\n"
      ]
     },
     "execution_count": 187,
     "metadata": {},
     "output_type": "execute_result"
    },
    {
     "data": {
      "text/plain": [
       "Top nil feature map classification: \tgoldfish, Carassius auratus 12.956197738647\t\n",
       "12.956197738647\t\n",
       "125 is finished\t\n"
      ]
     },
     "execution_count": 187,
     "metadata": {},
     "output_type": "execute_result"
    },
    {
     "data": {
      "text/plain": [
       "Top nil feature map classification: \tgoldfish, Carassius auratus 35.602710723877\t\n",
       "35.602710723877\t\n",
       "126 is finished\t\n"
      ]
     },
     "execution_count": 187,
     "metadata": {},
     "output_type": "execute_result"
    },
    {
     "data": {
      "text/plain": [
       "Top nil feature map classification: \tshower cap 7.4420123100281\t\n",
       "4.8795118331909\t\n",
       "127 is finished\t\n"
      ]
     },
     "execution_count": 187,
     "metadata": {},
     "output_type": "execute_result"
    },
    {
     "data": {
      "text/plain": [
       "Top nil feature map classification: \tgoldfish, Carassius auratus 19.205808639526\t\n",
       "19.205808639526\t\n",
       "128 is finished\t\n"
      ]
     },
     "execution_count": 187,
     "metadata": {},
     "output_type": "execute_result"
    },
    {
     "data": {
      "text/plain": [
       "Top nil feature map classification: \tgoldfish, Carassius auratus 25.67366027832\t\n",
       "25.67366027832\t\n",
       "129 is finished\t\n"
      ]
     },
     "execution_count": 187,
     "metadata": {},
     "output_type": "execute_result"
    },
    {
     "data": {
      "text/plain": [
       "Top nil feature map classification: \tgoldfish, Carassius auratus 12.334681510925\t\n",
       "12.334681510925\t\n",
       "130 is finished\t\n"
      ]
     },
     "execution_count": 187,
     "metadata": {},
     "output_type": "execute_result"
    },
    {
     "data": {
      "text/plain": [
       "Top nil feature map classification: \tgoldfish, Carassius auratus 15.305485725403\t\n",
       "15.305485725403\t\n",
       "131 is finished\t\n"
      ]
     },
     "execution_count": 187,
     "metadata": {},
     "output_type": "execute_result"
    },
    {
     "data": {
      "text/plain": [
       "Top nil feature map classification: \tgoldfish, Carassius auratus 27.336206436157\t\n",
       "27.336206436157\t\n",
       "132 is finished\t\n"
      ]
     },
     "execution_count": 187,
     "metadata": {},
     "output_type": "execute_result"
    },
    {
     "data": {
      "text/plain": [
       "Top nil feature map classification: \tgoldfish, Carassius auratus 14.139003753662\t\n",
       "14.139003753662\t\n",
       "133 is finished\t\n"
      ]
     },
     "execution_count": 187,
     "metadata": {},
     "output_type": "execute_result"
    },
    {
     "data": {
      "text/plain": [
       "Top nil feature map classification: \tgoldfish, Carassius auratus 17.26661491394\t\n",
       "17.26661491394\t\n",
       "134 is finished\t\n"
      ]
     },
     "execution_count": 187,
     "metadata": {},
     "output_type": "execute_result"
    },
    {
     "data": {
      "text/plain": [
       "Top nil feature map classification: \tgoldfish, Carassius auratus 16.949563980103\t"
      ]
     },
     "execution_count": 187,
     "metadata": {},
     "output_type": "execute_result"
    },
    {
     "data": {
      "text/plain": [
       "\n",
       "16.949563980103\t\n",
       "135 is finished\t\n"
      ]
     },
     "execution_count": 187,
     "metadata": {},
     "output_type": "execute_result"
    },
    {
     "data": {
      "text/plain": [
       "Top nil feature map classification: \tsea slug, nudibranch 11.335700035095\t\n",
       "9.7779483795166\t\n",
       "136 is finished\t\n"
      ]
     },
     "execution_count": 187,
     "metadata": {},
     "output_type": "execute_result"
    },
    {
     "data": {
      "text/plain": [
       "Top nil feature map classification: \tgoldfish, Carassius auratus 11.405475616455\t\n",
       "11.405475616455\t\n",
       "137 is finished\t\n"
      ]
     },
     "execution_count": 187,
     "metadata": {},
     "output_type": "execute_result"
    },
    {
     "data": {
      "text/plain": [
       "Top nil feature map classification: \tgoldfish, Carassius auratus 10.554705619812\t\n",
       "10.554705619812\t\n",
       "138 is finished\t\n"
      ]
     },
     "execution_count": 187,
     "metadata": {},
     "output_type": "execute_result"
    },
    {
     "data": {
      "text/plain": [
       "Top nil feature map classification: \tgoldfish, Carassius auratus 21.525291442871\t\n",
       "21.525291442871\t\n",
       "139 is finished\t\n"
      ]
     },
     "execution_count": 187,
     "metadata": {},
     "output_type": "execute_result"
    },
    {
     "data": {
      "text/plain": [
       "Top nil feature map classification: \tgoldfish, Carassius auratus 14.553263664246\t\n",
       "14.553263664246\t\n",
       "140 is finished\t\n"
      ]
     },
     "execution_count": 187,
     "metadata": {},
     "output_type": "execute_result"
    },
    {
     "data": {
      "text/plain": [
       "Top nil feature map classification: \tanemone fish 20.399955749512\t\n",
       "20.330934524536\t\n",
       "141 is finished\t\n"
      ]
     },
     "execution_count": 187,
     "metadata": {},
     "output_type": "execute_result"
    },
    {
     "data": {
      "text/plain": [
       "Top nil feature map classification: \tgoldfish, Carassius auratus 16.309576034546\t\n",
       "16.309576034546\t\n",
       "142 is finished\t\n"
      ]
     },
     "execution_count": 187,
     "metadata": {},
     "output_type": "execute_result"
    },
    {
     "data": {
      "text/plain": [
       "Top nil feature map classification: \tgoldfish, Carassius auratus 19.373453140259\t\n",
       "19.373453140259\t\n",
       "143 is finished\t\n"
      ]
     },
     "execution_count": 187,
     "metadata": {},
     "output_type": "execute_result"
    },
    {
     "data": {
      "text/plain": [
       "Top nil feature map classification: \tgoldfish, Carassius auratus 12.205216407776\t\n",
       "12.205216407776\t\n",
       "144 is finished\t\n"
      ]
     },
     "execution_count": 187,
     "metadata": {},
     "output_type": "execute_result"
    },
    {
     "data": {
      "text/plain": [
       "Top nil feature map classification: \tgoldfish, Carassius auratus 12.679753303528\t\n",
       "12.679753303528\t\n",
       "145 is finished\t\n"
      ]
     },
     "execution_count": 187,
     "metadata": {},
     "output_type": "execute_result"
    },
    {
     "data": {
      "text/plain": [
       "Top nil feature map classification: \tgoldfish, Carassius auratus 9.7448024749756\t\n",
       "9.7448024749756\t\n",
       "146 is finished\t\n"
      ]
     },
     "execution_count": 187,
     "metadata": {},
     "output_type": "execute_result"
    },
    {
     "data": {
      "text/plain": [
       "Top nil feature map classification: \t"
      ]
     },
     "execution_count": 187,
     "metadata": {},
     "output_type": "execute_result"
    },
    {
     "data": {
      "text/plain": [
       "goldfish, Carassius auratus 7.6610341072083\t\n",
       "7.6610341072083\t\n",
       "147 is finished\t\n"
      ]
     },
     "execution_count": 187,
     "metadata": {},
     "output_type": "execute_result"
    },
    {
     "data": {
      "text/plain": [
       "Top nil feature map classification: \tgoldfish, Carassius auratus 27.038003921509\t\n",
       "27.038003921509\t\n",
       "148 is finished\t\n"
      ]
     },
     "execution_count": 187,
     "metadata": {},
     "output_type": "execute_result"
    },
    {
     "data": {
      "text/plain": [
       "Top nil feature map classification: \tgoldfish, Carassius auratus 25.777584075928\t\n",
       "25.777584075928\t\n",
       "149 is finished\t\n"
      ]
     },
     "execution_count": 187,
     "metadata": {},
     "output_type": "execute_result"
    },
    {
     "data": {
      "text/plain": [
       "Top nil feature map classification: \tgoldfish, Carassius auratus 23.036912918091\t\n",
       "23.036912918091\t\n",
       "150 is finished\t\n"
      ]
     },
     "execution_count": 187,
     "metadata": {},
     "output_type": "execute_result"
    },
    {
     "data": {
      "text/plain": [
       "Top nil feature map classification: \tgoldfish, Carassius auratus 15.177353858948\t\n",
       "15.177353858948\t\n",
       "151 is finished\t\n"
      ]
     },
     "execution_count": 187,
     "metadata": {},
     "output_type": "execute_result"
    },
    {
     "data": {
      "text/plain": [
       "Top nil feature map classification: \tgoldfish, Carassius auratus 12.101741790771\t\n",
       "12.101741790771\t\n",
       "152 is finished\t\n"
      ]
     },
     "execution_count": 187,
     "metadata": {},
     "output_type": "execute_result"
    },
    {
     "data": {
      "text/plain": [
       "Top nil feature map classification: \tgoldfish, Carassius auratus 21.957933425903\t\n",
       "21.957933425903\t\n",
       "153 is finished\t\n"
      ]
     },
     "execution_count": 187,
     "metadata": {},
     "output_type": "execute_result"
    },
    {
     "data": {
      "text/plain": [
       "Top nil feature map classification: \tgoldfish, Carassius auratus 24.826274871826\t\n",
       "24.826274871826\t\n",
       "154 is finished\t\n"
      ]
     },
     "execution_count": 187,
     "metadata": {},
     "output_type": "execute_result"
    },
    {
     "data": {
      "text/plain": [
       "Top nil feature map classification: \tgoldfish, Carassius auratus 12.841758728027\t\n",
       "12.841758728027\t\n",
       "155 is finished\t\n"
      ]
     },
     "execution_count": 187,
     "metadata": {},
     "output_type": "execute_result"
    },
    {
     "data": {
      "text/plain": [
       "Top nil feature map classification: \tgoldfish, Carassius auratus 19.345729827881\t\n",
       "19.345729827881\t\n",
       "156 is finished\t\n"
      ]
     },
     "execution_count": 187,
     "metadata": {},
     "output_type": "execute_result"
    },
    {
     "data": {
      "text/plain": [
       "Top nil feature map classification: \tgoldfish, Carassius auratus 23.014333724976\t\n",
       "23.014333724976\t\n",
       "157 is finished\t\n"
      ]
     },
     "execution_count": 187,
     "metadata": {},
     "output_type": "execute_result"
    },
    {
     "data": {
      "text/plain": [
       "Top nil feature map classification: \tstarfish, sea star 9.3999261856079\t\n",
       "9.2628211975098\t\n",
       "158 is finished\t\n"
      ]
     },
     "execution_count": 187,
     "metadata": {},
     "output_type": "execute_result"
    },
    {
     "data": {
      "text/plain": [
       "Top nil feature map classification: \tgoldfish, Carassius auratus 23.057292938232\t\n",
       "23.057292938232\t\n",
       "159 is finished\t\n"
      ]
     },
     "execution_count": 187,
     "metadata": {},
     "output_type": "execute_result"
    },
    {
     "data": {
      "text/plain": [
       "Top nil feature map classification: \tpinwheel 12.276209831238\t"
      ]
     },
     "execution_count": 187,
     "metadata": {},
     "output_type": "execute_result"
    },
    {
     "data": {
      "text/plain": [
       "\n",
       "11.468062400818\t\n",
       "160 is finished\t\n"
      ]
     },
     "execution_count": 187,
     "metadata": {},
     "output_type": "execute_result"
    },
    {
     "data": {
      "text/plain": [
       "Top nil feature map classification: \tgoldfish, Carassius auratus 11.801819801331\t\n",
       "11.801819801331\t\n",
       "161 is finished\t\n"
      ]
     },
     "execution_count": 187,
     "metadata": {},
     "output_type": "execute_result"
    },
    {
     "data": {
      "text/plain": [
       "Top nil feature map classification: \tgoldfish, Carassius auratus 25.513750076294\t\n",
       "25.513750076294\t\n",
       "162 is finished\t\n"
      ]
     },
     "execution_count": 187,
     "metadata": {},
     "output_type": "execute_result"
    },
    {
     "data": {
      "text/plain": [
       "Top nil feature map classification: \tgoldfish, Carassius auratus 19.999256134033\t\n",
       "19.999256134033\t\n",
       "163 is finished\t\n"
      ]
     },
     "execution_count": 187,
     "metadata": {},
     "output_type": "execute_result"
    },
    {
     "data": {
      "text/plain": [
       "Top nil feature map classification: \tgoldfish, Carassius auratus 15.341934204102\t\n",
       "15.341934204102\t\n",
       "164 is finished\t\n"
      ]
     },
     "execution_count": 187,
     "metadata": {},
     "output_type": "execute_result"
    },
    {
     "data": {
      "text/plain": [
       "Top nil feature map classification: \tgoldfish, Carassius auratus 13.590077400208\t\n",
       "13.590077400208\t\n",
       "165 is finished\t\n"
      ]
     },
     "execution_count": 187,
     "metadata": {},
     "output_type": "execute_result"
    },
    {
     "data": {
      "text/plain": [
       "Top nil feature map classification: \tgoldfish, Carassius auratus 21.042831420898\t\n",
       "21.042831420898\t\n",
       "166 is finished\t\n"
      ]
     },
     "execution_count": 187,
     "metadata": {},
     "output_type": "execute_result"
    },
    {
     "data": {
      "text/plain": [
       "Top nil feature map classification: \tgoldfish, Carassius auratus 8.978367805481\t\n",
       "8.978367805481\t\n",
       "167 is finished\t\n"
      ]
     },
     "execution_count": 187,
     "metadata": {},
     "output_type": "execute_result"
    },
    {
     "data": {
      "text/plain": [
       "Top nil feature map classification: \tgoldfish, Carassius auratus 11.614832878113\t\n",
       "11.614832878113\t\n",
       "168 is finished\t\n"
      ]
     },
     "execution_count": 187,
     "metadata": {},
     "output_type": "execute_result"
    },
    {
     "data": {
      "text/plain": [
       "Top nil feature map classification: \taltar 12.460440635681\t\n",
       "12.129835128784\t\n",
       "169 is finished\t\n"
      ]
     },
     "execution_count": 187,
     "metadata": {},
     "output_type": "execute_result"
    },
    {
     "data": {
      "text/plain": [
       "Top nil feature map classification: \tgoldfish, Carassius auratus 13.2330493927\t\n",
       "13.2330493927\t\n",
       "170 is finished\t\n"
      ]
     },
     "execution_count": 187,
     "metadata": {},
     "output_type": "execute_result"
    },
    {
     "data": {
      "text/plain": [
       "Top nil feature map classification: \tgoldfish, Carassius auratus 15.600853919983\t\n",
       "15.600853919983\t\n",
       "171 is finished\t\n"
      ]
     },
     "execution_count": 187,
     "metadata": {},
     "output_type": "execute_result"
    },
    {
     "data": {
      "text/plain": [
       "Top nil feature map classification: \tgoldfish, Carassius auratus 13.796586036682\t\n",
       "13.796586036682\t\n",
       "172 is finished\t\n"
      ]
     },
     "execution_count": 187,
     "metadata": {},
     "output_type": "execute_result"
    },
    {
     "data": {
      "text/plain": [
       "Top nil feature map classification: \tgoldfish, Carassius auratus 18.734590530396\t\n",
       "18.734590530396\t\n",
       "173 is finished\t\n"
      ]
     },
     "execution_count": 187,
     "metadata": {},
     "output_type": "execute_result"
    },
    {
     "data": {
      "text/plain": [
       "Top nil feature map classification: \tgoldfish, Carassius auratus 15.238519668579\t\n",
       "15.238519668579\t\n",
       "174 is finished\t\n"
      ]
     },
     "execution_count": 187,
     "metadata": {},
     "output_type": "execute_result"
    },
    {
     "data": {
      "text/plain": [
       "Top nil feature map classification: \tgoldfish, Carassius auratus 19.269773483276\t\n",
       "19.269773483276\t\n",
       "175 is finished\t\n"
      ]
     },
     "execution_count": 187,
     "metadata": {},
     "output_type": "execute_result"
    },
    {
     "data": {
      "text/plain": [
       "Top nil feature map classification: \tgoldfish, Carassius auratus 12.853868484497\t\n",
       "12.853868484497\t"
      ]
     },
     "execution_count": 187,
     "metadata": {},
     "output_type": "execute_result"
    },
    {
     "data": {
      "text/plain": [
       "\n",
       "176 is finished\t\n"
      ]
     },
     "execution_count": 187,
     "metadata": {},
     "output_type": "execute_result"
    },
    {
     "data": {
      "text/plain": [
       "Top nil feature map classification: \tgoldfish, Carassius auratus 26.63136100769\t\n",
       "26.63136100769\t\n",
       "177 is finished\t\n"
      ]
     },
     "execution_count": 187,
     "metadata": {},
     "output_type": "execute_result"
    },
    {
     "data": {
      "text/plain": [
       "Top nil feature map classification: \tgoldfish, Carassius auratus 16.563140869141\t\n",
       "16.563140869141\t\n",
       "178 is finished\t\n"
      ]
     },
     "execution_count": 187,
     "metadata": {},
     "output_type": "execute_result"
    },
    {
     "data": {
      "text/plain": [
       "Top nil feature map classification: \tgoldfish, Carassius auratus 15.918803215027\t\n",
       "15.918803215027\t\n",
       "179 is finished\t\n"
      ]
     },
     "execution_count": 187,
     "metadata": {},
     "output_type": "execute_result"
    },
    {
     "data": {
      "text/plain": [
       "Top nil feature map classification: \tgoldfish, Carassius auratus 11.829317092896\t\n",
       "11.829317092896\t\n",
       "180 is finished\t\n"
      ]
     },
     "execution_count": 187,
     "metadata": {},
     "output_type": "execute_result"
    },
    {
     "data": {
      "text/plain": [
       "Top nil feature map classification: \tgoldfish, Carassius auratus 16.200006484985\t\n",
       "16.200006484985\t\n",
       "181 is finished\t\n"
      ]
     },
     "execution_count": 187,
     "metadata": {},
     "output_type": "execute_result"
    },
    {
     "data": {
      "text/plain": [
       "Top nil feature map classification: \tgoldfish, Carassius auratus 17.223489761353\t\n",
       "17.223489761353\t\n",
       "182 is finished\t\n"
      ]
     },
     "execution_count": 187,
     "metadata": {},
     "output_type": "execute_result"
    },
    {
     "data": {
      "text/plain": [
       "Top nil feature map classification: \tgoldfish, Carassius auratus 15.994397163391\t\n",
       "15.994397163391\t\n",
       "183 is finished\t\n"
      ]
     },
     "execution_count": 187,
     "metadata": {},
     "output_type": "execute_result"
    },
    {
     "data": {
      "text/plain": [
       "Top nil feature map classification: \tgoldfish, Carassius auratus 19.195960998535\t\n",
       "19.195960998535\t\n",
       "184 is finished\t\n"
      ]
     },
     "execution_count": 187,
     "metadata": {},
     "output_type": "execute_result"
    },
    {
     "data": {
      "text/plain": [
       "Top nil feature map classification: \tgoldfish, Carassius auratus 14.943276405334\t\n",
       "14.943276405334\t\n",
       "185 is finished\t\n"
      ]
     },
     "execution_count": 187,
     "metadata": {},
     "output_type": "execute_result"
    },
    {
     "data": {
      "text/plain": [
       "Top nil feature map classification: \tgoldfish, Carassius auratus 21.274801254272\t\n",
       "21.274801254272\t\n",
       "186 is finished\t\n"
      ]
     },
     "execution_count": 187,
     "metadata": {},
     "output_type": "execute_result"
    },
    {
     "data": {
      "text/plain": [
       "Top nil feature map classification: \tgoldfish, Carassius auratus 11.470349311829\t\n",
       "11.470349311829\t\n",
       "187 is finished\t\n"
      ]
     },
     "execution_count": 187,
     "metadata": {},
     "output_type": "execute_result"
    },
    {
     "data": {
      "text/plain": [
       "Top nil feature map classification: \tgoldfish, Carassius auratus 31.882123947144\t\n",
       "31.882123947144\t\n",
       "188 is finished\t\n"
      ]
     },
     "execution_count": 187,
     "metadata": {},
     "output_type": "execute_result"
    },
    {
     "data": {
      "text/plain": [
       "Top nil feature map classification: \tgoldfish, Carassius auratus 24.848876953125\t\n",
       "24.848876953125\t\n",
       "189 is finished\t\n"
      ]
     },
     "execution_count": 187,
     "metadata": {},
     "output_type": "execute_result"
    },
    {
     "data": {
      "text/plain": [
       "Top nil feature map classification: \tgoldfish, Carassius auratus 21.364318847656\t\n",
       "21.364318847656\t\n",
       "190 is finished\t\n"
      ]
     },
     "execution_count": 187,
     "metadata": {},
     "output_type": "execute_result"
    },
    {
     "data": {
      "text/plain": [
       "Top nil feature map classification: \tgoldfish, Carassius auratus 32.322971343994\t\n",
       "32.322971343994\t\n",
       "191 is finished\t\n"
      ]
     },
     "execution_count": 187,
     "metadata": {},
     "output_type": "execute_result"
    },
    {
     "data": {
      "text/plain": [
       "Top nil feature map classification: \tseat belt, seatbelt 7.9224667549133\t\n",
       "7.8266568183899\t\n",
       "192 is finished\t\n"
      ]
     },
     "execution_count": 187,
     "metadata": {},
     "output_type": "execute_result"
    },
    {
     "data": {
      "text/plain": [
       "Top nil feature map classification: \tgoldfish, Carassius auratus 14.642080307007\t\n",
       "14.642080307007\t\n",
       "193 is finished\t\n"
      ]
     },
     "execution_count": 187,
     "metadata": {},
     "output_type": "execute_result"
    },
    {
     "data": {
      "text/plain": [
       "Top nil feature map classification: \tgoldfish, Carassius auratus 14.152723312378\t\n",
       "14.152723312378\t\n",
       "194 is finished\t\n"
      ]
     },
     "execution_count": 187,
     "metadata": {},
     "output_type": "execute_result"
    },
    {
     "data": {
      "text/plain": [
       "Top nil feature map classification: \thand blower, blow dryer, blow drier, hair dryer, hair drier 7.3527874946594\t\n",
       "7.0692181587219\t\n",
       "195 is finished\t\n"
      ]
     },
     "execution_count": 187,
     "metadata": {},
     "output_type": "execute_result"
    },
    {
     "data": {
      "text/plain": [
       "Top nil feature map classification: \tgoldfish, Carassius auratus 18.727445602417\t\n",
       "18.727445602417\t\n",
       "196 is finished\t\n"
      ]
     },
     "execution_count": 187,
     "metadata": {},
     "output_type": "execute_result"
    },
    {
     "data": {
      "text/plain": [
       "Top nil feature map classification: \tgoldfish, Carassius auratus 22.48007774353\t\n",
       "22.48007774353\t\n",
       "197 is finished\t\n"
      ]
     },
     "execution_count": 187,
     "metadata": {},
     "output_type": "execute_result"
    },
    {
     "data": {
      "text/plain": [
       "Top nil feature map classification: \tgoldfish, Carassius auratus 24.58362197876\t\n",
       "24.58362197876\t\n",
       "198 is finished\t\n"
      ]
     },
     "execution_count": 187,
     "metadata": {},
     "output_type": "execute_result"
    },
    {
     "data": {
      "text/plain": [
       "Top nil feature map classification: \tconsomme 9.2584161758423\t\n"
      ]
     },
     "execution_count": 187,
     "metadata": {},
     "output_type": "execute_result"
    },
    {
     "data": {
      "text/plain": [
       "9.2401752471924\t\n",
       "199 is finished\t\n"
      ]
     },
     "execution_count": 187,
     "metadata": {},
     "output_type": "execute_result"
    },
    {
     "data": {
      "text/plain": [
       "Top nil feature map classification: \tgoldfish, Carassius auratus 13.719910621643\t\n",
       "13.719910621643\t\n",
       "200 is finished\t\n"
      ]
     },
     "execution_count": 187,
     "metadata": {},
     "output_type": "execute_result"
    },
    {
     "data": {
      "text/plain": [
       "Top nil feature map classification: \tgoldfish, Carassius auratus 8.8549861907959\t\n",
       "8.8549861907959\t\n",
       "201 is finished\t\n"
      ]
     },
     "execution_count": 187,
     "metadata": {},
     "output_type": "execute_result"
    },
    {
     "data": {
      "text/plain": [
       "Top nil feature map classification: \tgoldfish, Carassius auratus 12.951021194458\t\n",
       "12.951021194458\t\n",
       "202 is finished\t\n"
      ]
     },
     "execution_count": 187,
     "metadata": {},
     "output_type": "execute_result"
    },
    {
     "data": {
      "text/plain": [
       "Top nil feature map classification: \tgoldfish, Carassius auratus 13.29395866394\t\n",
       "13.29395866394\t\n",
       "203 is finished\t\n"
      ]
     },
     "execution_count": 187,
     "metadata": {},
     "output_type": "execute_result"
    },
    {
     "data": {
      "text/plain": [
       "Top nil feature map classification: \tgoldfish, Carassius auratus 17.550777435303\t\n",
       "17.550777435303\t\n",
       "204 is finished\t\n"
      ]
     },
     "execution_count": 187,
     "metadata": {},
     "output_type": "execute_result"
    },
    {
     "data": {
      "text/plain": [
       "Top nil feature map classification: \tgoldfish, Carassius auratus 14.552707672119\t\n",
       "14.552707672119\t\n",
       "205 is finished\t\n"
      ]
     },
     "execution_count": 187,
     "metadata": {},
     "output_type": "execute_result"
    },
    {
     "data": {
      "text/plain": [
       "Top nil feature map classification: \tgoldfish, Carassius auratus 11.331287384033\t\n",
       "11.331287384033\t\n",
       "206 is finished\t\n"
      ]
     },
     "execution_count": 187,
     "metadata": {},
     "output_type": "execute_result"
    },
    {
     "data": {
      "text/plain": [
       "Top nil feature map classification: \tgoldfish, Carassius auratus 12.784706115723\t\n",
       "12.784706115723\t\n",
       "207 is finished\t\n"
      ]
     },
     "execution_count": 187,
     "metadata": {},
     "output_type": "execute_result"
    },
    {
     "data": {
      "text/plain": [
       "Top nil feature map classification: \tgoldfish, Carassius auratus 12.783568382263\t\n",
       "12.783568382263\t\n",
       "208 is finished\t\n"
      ]
     },
     "execution_count": 187,
     "metadata": {},
     "output_type": "execute_result"
    },
    {
     "data": {
      "text/plain": [
       "Top nil feature map classification: \tgoldfish, Carassius auratus 10.790170669556\t\n",
       "10.790170669556\t\n",
       "209 is finished\t\n"
      ]
     },
     "execution_count": 187,
     "metadata": {},
     "output_type": "execute_result"
    },
    {
     "data": {
      "text/plain": [
       "Top nil feature map classification: \tgoldfish, Carassius auratus 20.890893936157\t\n",
       "20.890893936157\t\n",
       "210 is finished\t\n"
      ]
     },
     "execution_count": 187,
     "metadata": {},
     "output_type": "execute_result"
    },
    {
     "data": {
      "text/plain": [
       "Top nil feature map classification: \tgoldfish, Carassius auratus 22.323511123657\t\n",
       "22.323511123657\t\n",
       "211 is finished\t\n"
      ]
     },
     "execution_count": 187,
     "metadata": {},
     "output_type": "execute_result"
    },
    {
     "data": {
      "text/plain": [
       "Top nil feature map classification: \tgoldfish, Carassius auratus 15.85520362854\t\n",
       "15.85520362854\t\n",
       "212 is finished\t\n"
      ]
     },
     "execution_count": 187,
     "metadata": {},
     "output_type": "execute_result"
    },
    {
     "data": {
      "text/plain": [
       "Top nil feature map classification: \tgoldfish, Carassius auratus 14.274012565613\t\n",
       "14.274012565613\t\n",
       "213 is finished\t\n"
      ]
     },
     "execution_count": 187,
     "metadata": {},
     "output_type": "execute_result"
    },
    {
     "data": {
      "text/plain": [
       "Top nil feature map classification: \tgoldfish, Carassius auratus 19.817308425903\t\n",
       "19.817308425903\t\n",
       "214 is finished\t\n"
      ]
     },
     "execution_count": 187,
     "metadata": {},
     "output_type": "execute_result"
    },
    {
     "data": {
      "text/plain": [
       "Top nil feature map classification: \tgoldfish, Carassius auratus 11.72209072113\t\n",
       "11.72209072113\t\n",
       "215 is finished\t\n"
      ]
     },
     "execution_count": 187,
     "metadata": {},
     "output_type": "execute_result"
    },
    {
     "data": {
      "text/plain": [
       "Top nil feature map classification: \tgoldfish, Carassius auratus 21.795267105103\t\n",
       "21.795267105103\t\n",
       "216 is finished\t\n"
      ]
     },
     "execution_count": 187,
     "metadata": {},
     "output_type": "execute_result"
    },
    {
     "data": {
      "text/plain": [
       "Top nil feature map classification: \tgoldfish, Carassius auratus 22.046182632446\t\n",
       "22.046182632446\t\n",
       "217 is finished\t\n"
      ]
     },
     "execution_count": 187,
     "metadata": {},
     "output_type": "execute_result"
    },
    {
     "data": {
      "text/plain": [
       "Top nil feature map classification: \tgoldfish, Carassius auratus 32.036731719971\t\n",
       "32.036731719971\t\n",
       "218 is finished\t\n"
      ]
     },
     "execution_count": 187,
     "metadata": {},
     "output_type": "execute_result"
    },
    {
     "data": {
      "text/plain": [
       "Top nil feature map classification: \tlorikeet 13.334410667419\t\n",
       "12.605890274048\t\n",
       "219 is finished\t\n"
      ]
     },
     "execution_count": 187,
     "metadata": {},
     "output_type": "execute_result"
    },
    {
     "data": {
      "text/plain": [
       "Top nil feature map classification: \tgoldfish, Carassius auratus 14.174263000488\t\n",
       "14.174263000488\t\n",
       "220 is finished\t\n"
      ]
     },
     "execution_count": 187,
     "metadata": {},
     "output_type": "execute_result"
    },
    {
     "data": {
      "text/plain": [
       "Top nil feature map classification: \tgoldfish, Carassius auratus 25.049003601074\t\n",
       "25.049003601074\t\n",
       "221 is finished\t\n"
      ]
     },
     "execution_count": 187,
     "metadata": {},
     "output_type": "execute_result"
    },
    {
     "data": {
      "text/plain": [
       "Top nil feature map classification: \tgoldfish, Carassius auratus 28.056184768677\t\n",
       "28.056184768677\t\n",
       "222 is finished\t\n"
      ]
     },
     "execution_count": 187,
     "metadata": {},
     "output_type": "execute_result"
    },
    {
     "data": {
      "text/plain": [
       "Top nil feature map classification: \tgoldfish, Carassius auratus 22.573108673096\t\n",
       "22.573108673096\t\n",
       "223 is finished\t\n"
      ]
     },
     "execution_count": 187,
     "metadata": {},
     "output_type": "execute_result"
    },
    {
     "data": {
      "text/plain": [
       "Top nil feature map classification: \tgoldfish, Carassius auratus 16.552433013916\t\n",
       "16.552433013916\t\n",
       "224 is finished\t\n"
      ]
     },
     "execution_count": 187,
     "metadata": {},
     "output_type": "execute_result"
    },
    {
     "data": {
      "text/plain": [
       "Top nil feature map classification: \tgoldfish, Carassius auratus 13.699415206909\t\n",
       "13.699415206909\t\n",
       "225 is finished\t\n"
      ]
     },
     "execution_count": 187,
     "metadata": {},
     "output_type": "execute_result"
    },
    {
     "data": {
      "text/plain": [
       "Top nil feature map classification: \tgoldfish, Carassius auratus 28.900941848755\t\n",
       "28.900941848755\t\n",
       "226 is finished\t\n"
      ]
     },
     "execution_count": 187,
     "metadata": {},
     "output_type": "execute_result"
    },
    {
     "data": {
      "text/plain": [
       "Top nil feature map classification: \tgoldfish, Carassius auratus 28.325595855713\t\n",
       "28.325595855713\t\n",
       "227 is finished\t\n"
      ]
     },
     "execution_count": 187,
     "metadata": {},
     "output_type": "execute_result"
    },
    {
     "data": {
      "text/plain": [
       "Top nil feature map classification: \tgoldfish, Carassius auratus 25.875858306885\t\n",
       "25.875858306885\t\n",
       "228 is finished\t\n"
      ]
     },
     "execution_count": 187,
     "metadata": {},
     "output_type": "execute_result"
    },
    {
     "data": {
      "text/plain": [
       "Top nil feature map classification: \tgoldfish, Carassius auratus 13.972570419312\t\n",
       "13.972570419312\t\n",
       "229 is finished\t\n"
      ]
     },
     "execution_count": 187,
     "metadata": {},
     "output_type": "execute_result"
    },
    {
     "data": {
      "text/plain": [
       "Top nil feature map classification: \tgoldfish, Carassius auratus 12.057752609253\t\n",
       "12.057752609253\t\n",
       "230 is finished\t\n"
      ]
     },
     "execution_count": 187,
     "metadata": {},
     "output_type": "execute_result"
    },
    {
     "data": {
      "text/plain": [
       "Top nil feature map classification: \tgoldfish, Carassius auratus 23.236961364746\t\n",
       "23.236961364746\t\n",
       "231 is finished\t\n"
      ]
     },
     "execution_count": 187,
     "metadata": {},
     "output_type": "execute_result"
    },
    {
     "data": {
      "text/plain": [
       "Top nil feature map classification: \ttoaster 9.018967628479\t\n",
       "7.1168541908264\t\n",
       "232 is finished\t\n"
      ]
     },
     "execution_count": 187,
     "metadata": {},
     "output_type": "execute_result"
    },
    {
     "data": {
      "text/plain": [
       "Top nil feature map classification: \tgoldfish, Carassius auratus 17.095542907715\t\n",
       "17.095542907715\t\n",
       "233 is finished\t\n"
      ]
     },
     "execution_count": 187,
     "metadata": {},
     "output_type": "execute_result"
    },
    {
     "data": {
      "text/plain": [
       "Top nil feature map classification: \tgoldfish, Carassius auratus 14.732824325562\t\n",
       "14.732824325562\t\n",
       "234 is finished\t\n"
      ]
     },
     "execution_count": 187,
     "metadata": {},
     "output_type": "execute_result"
    },
    {
     "data": {
      "text/plain": [
       "Top nil feature map classification: \tanemone fish 16.622039794922\t\n",
       "16.141319274902\t\n",
       "235 is finished\t\n"
      ]
     },
     "execution_count": 187,
     "metadata": {},
     "output_type": "execute_result"
    },
    {
     "data": {
      "text/plain": [
       "Top nil feature map classification: \thourglass 8.4199800491333\t\n",
       "4.399097442627\t\n",
       "236 is finished\t\n"
      ]
     },
     "execution_count": 187,
     "metadata": {},
     "output_type": "execute_result"
    },
    {
     "data": {
      "text/plain": [
       "Top nil feature map classification: \tgoldfish, Carassius auratus 21.553804397583\t\n",
       "21.553804397583\t\n",
       "237 is finished\t\n"
      ]
     },
     "execution_count": 187,
     "metadata": {},
     "output_type": "execute_result"
    },
    {
     "data": {
      "text/plain": [
       "Top nil feature map classification: \tkimono 8.58655834198\t\n",
       "4.3547458648682\t\n",
       "238 is finished\t\n"
      ]
     },
     "execution_count": 187,
     "metadata": {},
     "output_type": "execute_result"
    },
    {
     "data": {
      "text/plain": [
       "Top nil feature map classification: \tgoldfish, Carassius auratus 15.794629096985\t\n",
       "15.794629096985\t\n",
       "239 is finished\t\n"
      ]
     },
     "execution_count": 187,
     "metadata": {},
     "output_type": "execute_result"
    },
    {
     "data": {
      "text/plain": [
       "Top nil feature map classification: \tgoldfish, Carassius auratus 27.829549789429\t\n",
       "27.829549789429\t\n",
       "240 is finished\t\n"
      ]
     },
     "execution_count": 187,
     "metadata": {},
     "output_type": "execute_result"
    },
    {
     "data": {
      "text/plain": [
       "Top nil feature map classification: \tmatchstick 8.1073989868164\t\n",
       "8.0057668685913\t\n",
       "241 is finished\t\n"
      ]
     },
     "execution_count": 187,
     "metadata": {},
     "output_type": "execute_result"
    },
    {
     "data": {
      "text/plain": [
       "Top nil feature map classification: \tbell pepper 10.884888648987\t\n",
       "7.2573390007019\t\n",
       "242 is finished\t\n"
      ]
     },
     "execution_count": 187,
     "metadata": {},
     "output_type": "execute_result"
    },
    {
     "data": {
      "text/plain": [
       "Top nil feature map classification: \tgoldfish, Carassius auratus 19.709089279175\t\n",
       "19.709089279175\t\n",
       "243 is finished\t\n"
      ]
     },
     "execution_count": 187,
     "metadata": {},
     "output_type": "execute_result"
    },
    {
     "data": {
      "text/plain": [
       "Top nil feature map classification: \tgoldfish, Carassius auratus 19.874942779541\t\n",
       "19.874942779541\t\n",
       "244 is finished\t\n"
      ]
     },
     "execution_count": 187,
     "metadata": {},
     "output_type": "execute_result"
    },
    {
     "data": {
      "text/plain": [
       "Top nil feature map classification: \tgoldfish, Carassius auratus 13.879721641541\t\n",
       "13.879721641541\t\n",
       "245 is finished\t\n"
      ]
     },
     "execution_count": 187,
     "metadata": {},
     "output_type": "execute_result"
    },
    {
     "data": {
      "text/plain": [
       "Top nil feature map classification: \tgoldfish, Carassius auratus 10.290575027466\t\n",
       "10.290575027466\t\n",
       "246 is finished\t\n"
      ]
     },
     "execution_count": 187,
     "metadata": {},
     "output_type": "execute_result"
    },
    {
     "data": {
      "text/plain": [
       "Top nil feature map classification: \tgoldfish, Carassius auratus 19.582706451416\t\n",
       "19.582706451416\t\n",
       "247 is finished\t\n"
      ]
     },
     "execution_count": 187,
     "metadata": {},
     "output_type": "execute_result"
    },
    {
     "data": {
      "text/plain": [
       "Top nil feature map classification: \tgoldfish, Carassius auratus 15.047263145447\t\n",
       "15.047263145447\t\n",
       "248 is finished\t\n"
      ]
     },
     "execution_count": 187,
     "metadata": {},
     "output_type": "execute_result"
    },
    {
     "data": {
      "text/plain": [
       "Top nil feature map classification: \tgoldfish, Carassius auratus 13.745198249817\t\n",
       "13.745198249817\t\n",
       "249 is finished\t\n"
      ]
     },
     "execution_count": 187,
     "metadata": {},
     "output_type": "execute_result"
    },
    {
     "data": {
      "text/plain": [
       "Top nil feature map classification: \tgoldfish, Carassius auratus 18.645946502686\t\n",
       "18.645946502686\t\n"
      ]
     },
     "execution_count": 187,
     "metadata": {},
     "output_type": "execute_result"
    },
    {
     "data": {
      "text/plain": [
       "250 is finished\t\n"
      ]
     },
     "execution_count": 187,
     "metadata": {},
     "output_type": "execute_result"
    },
    {
     "data": {
      "text/plain": [
       "Top nil feature map classification: \tAmerican alligator, Alligator mississipiensis 6.9869074821472\t\n",
       "6.8063426017761\t\n",
       "251 is finished\t\n"
      ]
     },
     "execution_count": 187,
     "metadata": {},
     "output_type": "execute_result"
    },
    {
     "data": {
      "text/plain": [
       "Top nil feature map classification: \tgoldfish, Carassius auratus 26.093933105469\t\n",
       "26.093933105469\t\n",
       "252 is finished\t\n"
      ]
     },
     "execution_count": 187,
     "metadata": {},
     "output_type": "execute_result"
    },
    {
     "data": {
      "text/plain": [
       "Top nil feature map classification: \tmortar 13.831629753113\t\n",
       "7.3896961212158\t\n",
       "253 is finished\t\n"
      ]
     },
     "execution_count": 187,
     "metadata": {},
     "output_type": "execute_result"
    },
    {
     "data": {
      "text/plain": [
       "Top nil feature map classification: \tgoldfish, Carassius auratus 22.57311630249\t\n",
       "22.57311630249\t\n",
       "254 is finished\t\n"
      ]
     },
     "execution_count": 187,
     "metadata": {},
     "output_type": "execute_result"
    },
    {
     "data": {
      "text/plain": [
       "Top nil feature map classification: \tgoldfish, Carassius auratus 27.326972961426\t\n",
       "27.326972961426\t\n",
       "255 is finished\t\n"
      ]
     },
     "execution_count": 187,
     "metadata": {},
     "output_type": "execute_result"
    },
    {
     "data": {
      "text/plain": [
       "Top nil feature map classification: \tgoldfish, Carassius auratus 18.02251625061\t\n",
       "18.02251625061\t\n",
       "256 is finished\t\n"
      ]
     },
     "execution_count": 187,
     "metadata": {},
     "output_type": "execute_result"
    },
    {
     "data": {
      "text/plain": [
       "Top nil feature map classification: \tashcan, trash can, garbage can, wastebin, ash bin, ash-bin, ashbin, dustbin, trash barrel, trash bin 8.347749710083\t\n",
       "6.673713684082\t\n",
       "257 is finished\t\n"
      ]
     },
     "execution_count": 187,
     "metadata": {},
     "output_type": "execute_result"
    },
    {
     "data": {
      "text/plain": [
       "Top nil feature map classification: \tgoldfish, Carassius auratus 17.548868179321\t\n",
       "17.548868179321\t\n",
       "258 is finished\t\n"
      ]
     },
     "execution_count": 187,
     "metadata": {},
     "output_type": "execute_result"
    },
    {
     "data": {
      "text/plain": [
       "Top nil feature map classification: \tgoldfish, Carassius auratus 11.746202468872\t\n",
       "11.746202468872\t\n",
       "259 is finished\t\n"
      ]
     },
     "execution_count": 187,
     "metadata": {},
     "output_type": "execute_result"
    },
    {
     "data": {
      "text/plain": [
       "Top nil feature map classification: \tgoldfish, Carassius auratus 11.216595649719\t\n",
       "11.216595649719\t\n",
       "260 is finished\t\n"
      ]
     },
     "execution_count": 187,
     "metadata": {},
     "output_type": "execute_result"
    },
    {
     "data": {
      "text/plain": [
       "Top nil feature map classification: \tgoldfish, Carassius auratus 13.629916191101\t\n",
       "13.629916191101\t\n",
       "261 is finished\t\n"
      ]
     },
     "execution_count": 187,
     "metadata": {},
     "output_type": "execute_result"
    },
    {
     "data": {
      "text/plain": [
       "Top nil feature map classification: \tgoldfish, Carassius auratus 22.254289627075\t\n",
       "22.254289627075\t\n",
       "262 is finished\t\n"
      ]
     },
     "execution_count": 187,
     "metadata": {},
     "output_type": "execute_result"
    },
    {
     "data": {
      "text/plain": [
       "Top nil feature map classification: \tgoldfish, Carassius auratus 22.665224075317\t\n",
       "22.665224075317\t\n",
       "263 is finished\t\n"
      ]
     },
     "execution_count": 187,
     "metadata": {},
     "output_type": "execute_result"
    },
    {
     "data": {
      "text/plain": [
       "Top nil feature map classification: \tpiggy bank, penny bank 13.939579963684\t\n",
       "12.043590545654\t\n",
       "264 is finished\t\n"
      ]
     },
     "execution_count": 187,
     "metadata": {},
     "output_type": "execute_result"
    },
    {
     "data": {
      "text/plain": [
       "Top nil feature map classification: \tgoldfish, Carassius auratus 13.638661384583\t\n",
       "13.638661384583\t\n",
       "265 is finished\t\n"
      ]
     },
     "execution_count": 187,
     "metadata": {},
     "output_type": "execute_result"
    },
    {
     "data": {
      "text/plain": [
       "Top nil feature map classification: \tflamingo 8.5261907577515\t\n",
       "8.5049085617065\t\n",
       "266 is finished\t\n"
      ]
     },
     "execution_count": 187,
     "metadata": {},
     "output_type": "execute_result"
    },
    {
     "data": {
      "text/plain": [
       "Top nil feature map classification: \tgoldfish, Carassius auratus 20.775856018066\t\n"
      ]
     },
     "execution_count": 187,
     "metadata": {},
     "output_type": "execute_result"
    },
    {
     "data": {
      "text/plain": [
       "20.775856018066\t\n",
       "267 is finished\t\n"
      ]
     },
     "execution_count": 187,
     "metadata": {},
     "output_type": "execute_result"
    },
    {
     "data": {
      "text/plain": [
       "Top nil feature map classification: \tgoldfish, Carassius auratus 29.345300674438\t\n",
       "29.345300674438\t\n",
       "268 is finished\t\n"
      ]
     },
     "execution_count": 187,
     "metadata": {},
     "output_type": "execute_result"
    },
    {
     "data": {
      "text/plain": [
       "Top nil feature map classification: \tgoldfish, Carassius auratus 23.657554626465\t\n",
       "23.657554626465\t\n",
       "269 is finished\t\n"
      ]
     },
     "execution_count": 187,
     "metadata": {},
     "output_type": "execute_result"
    },
    {
     "data": {
      "text/plain": [
       "Top nil feature map classification: \tgoldfish, Carassius auratus 27.099493026733\t\n",
       "27.099493026733\t\n",
       "270 is finished\t\n"
      ]
     },
     "execution_count": 187,
     "metadata": {},
     "output_type": "execute_result"
    },
    {
     "data": {
      "text/plain": [
       "Top nil feature map classification: \tgoldfish, Carassius auratus 21.072507858276\t\n",
       "21.072507858276\t\n",
       "271 is finished\t\n"
      ]
     },
     "execution_count": 187,
     "metadata": {},
     "output_type": "execute_result"
    },
    {
     "data": {
      "text/plain": [
       "Top nil feature map classification: \tgoldfish, Carassius auratus 11.058881759644\t\n",
       "11.058881759644\t\n",
       "272 is finished\t\n"
      ]
     },
     "execution_count": 187,
     "metadata": {},
     "output_type": "execute_result"
    },
    {
     "data": {
      "text/plain": [
       "Top nil feature map classification: \tgoldfish, Carassius auratus 10.719475746155\t\n",
       "10.719475746155\t\n",
       "273 is finished\t\n"
      ]
     },
     "execution_count": 187,
     "metadata": {},
     "output_type": "execute_result"
    },
    {
     "data": {
      "text/plain": [
       "Top nil feature map classification: \tgoldfish, Carassius auratus 28.549667358398\t\n",
       "28.549667358398\t\n",
       "274 is finished\t\n"
      ]
     },
     "execution_count": 187,
     "metadata": {},
     "output_type": "execute_result"
    },
    {
     "data": {
      "text/plain": [
       "Top nil feature map classification: \tgoldfish, Carassius auratus 14.512885093689\t\n",
       "14.512885093689\t\n",
       "275 is finished\t\n"
      ]
     },
     "execution_count": 187,
     "metadata": {},
     "output_type": "execute_result"
    },
    {
     "data": {
      "text/plain": [
       "Top nil feature map classification: \tgoldfish, Carassius auratus 17.115404129028\t\n",
       "17.115404129028\t\n",
       "276 is finished\t\n"
      ]
     },
     "execution_count": 187,
     "metadata": {},
     "output_type": "execute_result"
    },
    {
     "data": {
      "text/plain": [
       "Top nil feature map classification: \tgoldfish, Carassius auratus 20.107122421265\t\n",
       "20.107122421265\t\n",
       "277 is finished\t\n"
      ]
     },
     "execution_count": 187,
     "metadata": {},
     "output_type": "execute_result"
    },
    {
     "data": {
      "text/plain": [
       "Top nil feature map classification: \tgoldfish, Carassius auratus 18.859916687012\t\n",
       "18.859916687012\t\n",
       "278 is finished\t\n"
      ]
     },
     "execution_count": 187,
     "metadata": {},
     "output_type": "execute_result"
    },
    {
     "data": {
      "text/plain": [
       "Top nil feature map classification: \tgoldfish, Carassius auratus 12.290093421936\t\n",
       "12.290093421936\t\n",
       "279 is finished\t\n"
      ]
     },
     "execution_count": 187,
     "metadata": {},
     "output_type": "execute_result"
    },
    {
     "data": {
      "text/plain": [
       "Top nil feature map classification: \tgoldfish, Carassius auratus 19.058393478394\t\n",
       "19.058393478394\t\n",
       "280 is finished\t\n"
      ]
     },
     "execution_count": 187,
     "metadata": {},
     "output_type": "execute_result"
    },
    {
     "data": {
      "text/plain": [
       "Top nil feature map classification: \tgoldfish, Carassius auratus 27.441173553467\t\n",
       "27.441173553467\t\n",
       "281 is finished\t\n"
      ]
     },
     "execution_count": 187,
     "metadata": {},
     "output_type": "execute_result"
    },
    {
     "data": {
      "text/plain": [
       "Top nil feature map classification: \tgoldfish, Carassius auratus 15.49755859375\t\n",
       "15.49755859375\t\n",
       "282 is finished\t\n"
      ]
     },
     "execution_count": 187,
     "metadata": {},
     "output_type": "execute_result"
    },
    {
     "data": {
      "text/plain": [
       "Top nil feature map classification: \tgoldfish, Carassius auratus 19.518501281738\t\n",
       "19.518501281738\t\n",
       "283 is finished\t\n"
      ]
     },
     "execution_count": 187,
     "metadata": {},
     "output_type": "execute_result"
    },
    {
     "data": {
      "text/plain": [
       "Top nil feature map classification: \tgoldfish, Carassius auratus 22.578266143799\t\n",
       "22.578266143799\t\n",
       "284 is finished\t\n"
      ]
     },
     "execution_count": 187,
     "metadata": {},
     "output_type": "execute_result"
    },
    {
     "data": {
      "text/plain": [
       "Top nil feature map classification: \tgoldfish, Carassius auratus 19.210571289062\t\n",
       "19.210571289062\t\n",
       "285 is finished\t\n"
      ]
     },
     "execution_count": 187,
     "metadata": {},
     "output_type": "execute_result"
    },
    {
     "data": {
      "text/plain": [
       "Top nil feature map classification: \tgoldfish, Carassius auratus 18.968687057495\t\n",
       "18.968687057495\t\n",
       "286 is finished\t\n"
      ]
     },
     "execution_count": 187,
     "metadata": {},
     "output_type": "execute_result"
    },
    {
     "data": {
      "text/plain": [
       "Top nil feature map classification: \tleafhopper 9.206934928894\t\n",
       "7.9267611503601\t\n",
       "287 is finished\t\n"
      ]
     },
     "execution_count": 187,
     "metadata": {},
     "output_type": "execute_result"
    },
    {
     "data": {
      "text/plain": [
       "Top nil feature map classification: \tgoldfish, Carassius auratus 19.558935165405\t\n",
       "19.558935165405\t\n",
       "288 is finished\t\n"
      ]
     },
     "execution_count": 187,
     "metadata": {},
     "output_type": "execute_result"
    },
    {
     "data": {
      "text/plain": [
       "Top nil feature map classification: \tgoldfish, Carassius auratus 19.24409866333\t\n",
       "19.24409866333\t\n",
       "289 is finished\t\n"
      ]
     },
     "execution_count": 187,
     "metadata": {},
     "output_type": "execute_result"
    },
    {
     "data": {
      "text/plain": [
       "Top nil feature map classification: \tgoldfish, Carassius auratus 17.19361114502\t\n",
       "17.19361114502\t\n",
       "290 is finished\t\n"
      ]
     },
     "execution_count": 187,
     "metadata": {},
     "output_type": "execute_result"
    },
    {
     "data": {
      "text/plain": [
       "Top nil feature map classification: \tgoldfish, Carassius auratus 17.601915359497\t\n",
       "17.601915359497\t\n",
       "291 is finished\t\n"
      ]
     },
     "execution_count": 187,
     "metadata": {},
     "output_type": "execute_result"
    },
    {
     "data": {
      "text/plain": [
       "Top nil feature map classification: \tgoldfish, Carassius auratus 14.818917274475\t\n",
       "14.818917274475\t\n",
       "292 is finished\t\n"
      ]
     },
     "execution_count": 187,
     "metadata": {},
     "output_type": "execute_result"
    },
    {
     "data": {
      "text/plain": [
       "Top nil feature map classification: \tgoldfish, Carassius auratus 12.289367675781\t\n",
       "12.289367675781\t\n",
       "293 is finished\t\n"
      ]
     },
     "execution_count": 187,
     "metadata": {},
     "output_type": "execute_result"
    },
    {
     "data": {
      "text/plain": [
       "Top nil feature map classification: \tgoldfish, Carassius auratus 18.252872467041\t\n",
       "18.252872467041\t\n",
       "294 is finished\t\n"
      ]
     },
     "execution_count": 187,
     "metadata": {},
     "output_type": "execute_result"
    },
    {
     "data": {
      "text/plain": [
       "Top nil feature map classification: \tgoldfish, Carassius auratus 21.180479049683\t\n",
       "21.180479049683\t\n",
       "295 is finished\t\n"
      ]
     },
     "execution_count": 187,
     "metadata": {},
     "output_type": "execute_result"
    },
    {
     "data": {
      "text/plain": [
       "Top nil feature map classification: \tgoldfish, Carassius auratus 15.911281585693\t\n",
       "15.911281585693\t\n",
       "296 is finished\t\n"
      ]
     },
     "execution_count": 187,
     "metadata": {},
     "output_type": "execute_result"
    },
    {
     "data": {
      "text/plain": [
       "Top nil feature map classification: \tgoldfish, Carassius auratus 24.078741073608\t\n",
       "24.078741073608\t\n",
       "297 is finished\t\n"
      ]
     },
     "execution_count": 187,
     "metadata": {},
     "output_type": "execute_result"
    },
    {
     "data": {
      "text/plain": [
       "Top nil feature map classification: \tgoldfish, Carassius auratus 20.465326309204\t\n",
       "20.465326309204\t\n",
       "298 is finished\t\n"
      ]
     },
     "execution_count": 187,
     "metadata": {},
     "output_type": "execute_result"
    },
    {
     "data": {
      "text/plain": [
       "Top nil feature map classification: \tgoldfish, Carassius auratus 21.619548797607\t\n",
       "21.619548797607\t\n",
       "299 is finished\t\n"
      ]
     },
     "execution_count": 187,
     "metadata": {},
     "output_type": "execute_result"
    },
    {
     "data": {
      "text/plain": [
       "Top nil feature map classification: \tgoldfish, Carassius auratus 25.509149551392\t\n",
       "25.509149551392\t\n",
       "300 is finished\t\n"
      ]
     },
     "execution_count": 187,
     "metadata": {},
     "output_type": "execute_result"
    },
    {
     "data": {
      "text/plain": [
       "Top nil feature map classification: \tgoldfish, Carassius auratus 22.155391693115\t\n",
       "22.155391693115\t\n",
       "301 is finished\t\n"
      ]
     },
     "execution_count": 187,
     "metadata": {},
     "output_type": "execute_result"
    },
    {
     "data": {
      "text/plain": [
       "Top nil feature map classification: \tgoldfish, Carassius auratus 10.632513046265\t\n",
       "10.632513046265\t\n",
       "302 is finished\t\n"
      ]
     },
     "execution_count": 187,
     "metadata": {},
     "output_type": "execute_result"
    },
    {
     "data": {
      "text/plain": [
       "Top nil feature map classification: \tgoldfish, Carassius auratus 26.571487426758\t\n",
       "26.571487426758\t\n",
       "303 is finished\t\n"
      ]
     },
     "execution_count": 187,
     "metadata": {},
     "output_type": "execute_result"
    },
    {
     "data": {
      "text/plain": [
       "Top nil feature map classification: \tgoldfish, Carassius auratus 15.936712265015\t\n",
       "15.936712265015\t\n",
       "304 is finished\t\n"
      ]
     },
     "execution_count": 187,
     "metadata": {},
     "output_type": "execute_result"
    },
    {
     "data": {
      "text/plain": [
       "Top nil feature map classification: \tgoldfish, Carassius auratus 23.072826385498\t\n",
       "23.072826385498\t\n",
       "305 is finished\t\n"
      ]
     },
     "execution_count": 187,
     "metadata": {},
     "output_type": "execute_result"
    },
    {
     "data": {
      "text/plain": [
       "Top nil feature map classification: \tgoldfish, Carassius auratus 27.465700149536\t\n",
       "27.465700149536\t\n",
       "306 is finished\t\n"
      ]
     },
     "execution_count": 187,
     "metadata": {},
     "output_type": "execute_result"
    },
    {
     "data": {
      "text/plain": [
       "Top nil feature map classification: \tlorikeet 11.955845832825\t\n",
       "10.767129898071\t\n",
       "307 is finished\t\n"
      ]
     },
     "execution_count": 187,
     "metadata": {},
     "output_type": "execute_result"
    },
    {
     "data": {
      "text/plain": [
       "Top nil feature map classification: \tgoldfish, Carassius auratus 21.976669311523\t\n",
       "21.976669311523\t\n",
       "308 is finished\t\n"
      ]
     },
     "execution_count": 187,
     "metadata": {},
     "output_type": "execute_result"
    },
    {
     "data": {
      "text/plain": [
       "Top nil feature map classification: \tgoldfish, Carassius auratus 23.972646713257\t\n",
       "23.972646713257\t\n",
       "309 is finished\t\n"
      ]
     },
     "execution_count": 187,
     "metadata": {},
     "output_type": "execute_result"
    },
    {
     "data": {
      "text/plain": [
       "Top nil feature map classification: \tgoldfish, Carassius auratus 19.806282043457\t\n",
       "19.806282043457\t\n",
       "310 is finished\t\n"
      ]
     },
     "execution_count": 187,
     "metadata": {},
     "output_type": "execute_result"
    },
    {
     "data": {
      "text/plain": [
       "Top nil feature map classification: \tstarfish, sea star 12.178926467896\t\n",
       "12.128471374512\t\n",
       "311 is finished\t\n"
      ]
     },
     "execution_count": 187,
     "metadata": {},
     "output_type": "execute_result"
    },
    {
     "data": {
      "text/plain": [
       "Top nil feature map classification: \ttoyshop 10.383255004883\t\n",
       "9.6763582229614\t\n",
       "312 is finished\t\n"
      ]
     },
     "execution_count": 187,
     "metadata": {},
     "output_type": "execute_result"
    },
    {
     "data": {
      "text/plain": [
       "Top nil feature map classification: \tgoldfish, Carassius auratus 16.874307632446\t\n",
       "16.874307632446\t\n",
       "313 is finished\t\n"
      ]
     },
     "execution_count": 187,
     "metadata": {},
     "output_type": "execute_result"
    },
    {
     "data": {
      "text/plain": [
       "Top nil feature map classification: \tgoldfish, Carassius auratus 32.096492767334\t\n",
       "32.096492767334\t\n",
       "314 is finished\t\n"
      ]
     },
     "execution_count": 187,
     "metadata": {},
     "output_type": "execute_result"
    },
    {
     "data": {
      "text/plain": [
       "Top nil feature map classification: \tgoldfish, Carassius auratus 23.136421203613\t\n",
       "23.136421203613\t\n",
       "315 is finished\t\n"
      ]
     },
     "execution_count": 187,
     "metadata": {},
     "output_type": "execute_result"
    },
    {
     "data": {
      "text/plain": [
       "Top nil feature map classification: \tgoldfish, Carassius auratus 15.717171669006\t\n",
       "15.717171669006\t\n",
       "316 is finished\t\n"
      ]
     },
     "execution_count": 187,
     "metadata": {},
     "output_type": "execute_result"
    },
    {
     "data": {
      "text/plain": [
       "Top nil feature map classification: \tgoldfish, Carassius auratus 30.021507263184\t\n",
       "30.021507263184\t\n",
       "317 is finished\t\n"
      ]
     },
     "execution_count": 187,
     "metadata": {},
     "output_type": "execute_result"
    },
    {
     "data": {
      "text/plain": [
       "Top nil feature map classification: \tgoldfish, Carassius auratus 20.982110977173\t\n",
       "20.982110977173\t\n",
       "318 is finished\t\n"
      ]
     },
     "execution_count": 187,
     "metadata": {},
     "output_type": "execute_result"
    },
    {
     "data": {
      "text/plain": [
       "Top nil feature map classification: \tgoldfish, Carassius auratus 19.291835784912\t\n",
       "19.291835784912\t\n",
       "319 is finished\t\n"
      ]
     },
     "execution_count": 187,
     "metadata": {},
     "output_type": "execute_result"
    },
    {
     "data": {
      "text/plain": [
       "Top nil feature map classification: \tgoldfish, Carassius auratus 24.28804397583\t\n",
       "24.28804397583\t\n",
       "320 is finished\t\n"
      ]
     },
     "execution_count": 187,
     "metadata": {},
     "output_type": "execute_result"
    },
    {
     "data": {
      "text/plain": [
       "Top nil feature map classification: \tgoldfish, Carassius auratus 20.552139282227\t\n",
       "20.552139282227\t\n",
       "321 is finished\t\n"
      ]
     },
     "execution_count": 187,
     "metadata": {},
     "output_type": "execute_result"
    },
    {
     "data": {
      "text/plain": [
       "Top nil feature map classification: \tgoldfish, Carassius auratus 18.253149032593\t\n"
      ]
     },
     "execution_count": 187,
     "metadata": {},
     "output_type": "execute_result"
    },
    {
     "data": {
      "text/plain": [
       "18.253149032593\t\n",
       "322 is finished\t\n"
      ]
     },
     "execution_count": 187,
     "metadata": {},
     "output_type": "execute_result"
    },
    {
     "data": {
      "text/plain": [
       "Top nil feature map classification: \tgoldfish, Carassius auratus 11.349891662598\t\n",
       "11.349891662598\t\n",
       "323 is finished\t\n"
      ]
     },
     "execution_count": 187,
     "metadata": {},
     "output_type": "execute_result"
    },
    {
     "data": {
      "text/plain": [
       "Top nil feature map classification: \tgoldfish, Carassius auratus 15.193782806396\t\n",
       "15.193782806396\t\n",
       "324 is finished\t\n"
      ]
     },
     "execution_count": 187,
     "metadata": {},
     "output_type": "execute_result"
    },
    {
     "data": {
      "text/plain": [
       "Top nil feature map classification: \tgoldfish, Carassius auratus 29.973751068115\t\n",
       "29.973751068115\t\n",
       "325 is finished\t\n"
      ]
     },
     "execution_count": 187,
     "metadata": {},
     "output_type": "execute_result"
    },
    {
     "data": {
      "text/plain": [
       "Top nil feature map classification: \tgoldfish, Carassius auratus 18.626008987427\t\n",
       "18.626008987427\t\n",
       "326 is finished\t\n"
      ]
     },
     "execution_count": 187,
     "metadata": {},
     "output_type": "execute_result"
    },
    {
     "data": {
      "text/plain": [
       "Top nil feature map classification: \tgoldfish, Carassius auratus 21.271081924438\t\n",
       "21.271081924438\t\n",
       "327 is finished\t\n"
      ]
     },
     "execution_count": 187,
     "metadata": {},
     "output_type": "execute_result"
    },
    {
     "data": {
      "text/plain": [
       "Top nil feature map classification: \tgoldfish, Carassius auratus 18.179807662964\t\n",
       "18.179807662964\t\n",
       "328 is finished\t\n"
      ]
     },
     "execution_count": 187,
     "metadata": {},
     "output_type": "execute_result"
    },
    {
     "data": {
      "text/plain": [
       "Top nil feature map classification: \tanemone fish 21.967720031738\t\n",
       "16.768831253052\t\n",
       "329 is finished\t\n"
      ]
     },
     "execution_count": 187,
     "metadata": {},
     "output_type": "execute_result"
    },
    {
     "data": {
      "text/plain": [
       "Top nil feature map classification: \tspatula 9.2864656448364\t\n",
       "6.4889397621155\t\n",
       "330 is finished\t\n"
      ]
     },
     "execution_count": 187,
     "metadata": {},
     "output_type": "execute_result"
    },
    {
     "data": {
      "text/plain": [
       "Top nil feature map classification: \tgoldfish, Carassius auratus 23.094076156616\t\n",
       "23.094076156616\t\n",
       "331 is finished\t\n"
      ]
     },
     "execution_count": 187,
     "metadata": {},
     "output_type": "execute_result"
    },
    {
     "data": {
      "text/plain": [
       "Top nil feature map classification: \tgoldfish, Carassius auratus 16.439298629761\t\n",
       "16.439298629761\t\n",
       "332 is finished\t\n"
      ]
     },
     "execution_count": 187,
     "metadata": {},
     "output_type": "execute_result"
    },
    {
     "data": {
      "text/plain": [
       "Top nil feature map classification: \tgoldfish, Carassius auratus 16.800754547119\t\n",
       "16.800754547119\t\n",
       "333 is finished\t\n"
      ]
     },
     "execution_count": 187,
     "metadata": {},
     "output_type": "execute_result"
    },
    {
     "data": {
      "text/plain": [
       "Top nil feature map classification: \tgoldfish, Carassius auratus 21.222528457642\t\n",
       "21.222528457642\t\n",
       "334 is finished\t\n"
      ]
     },
     "execution_count": 187,
     "metadata": {},
     "output_type": "execute_result"
    },
    {
     "data": {
      "text/plain": [
       "Top nil feature map classification: \tgoldfish, Carassius auratus 25.06427192688\t\n",
       "25.06427192688\t\n",
       "335 is finished\t\n"
      ]
     },
     "execution_count": 187,
     "metadata": {},
     "output_type": "execute_result"
    },
    {
     "data": {
      "text/plain": [
       "Top nil feature map classification: \tgoldfish, Carassius auratus 23.223560333252\t\n",
       "23.223560333252\t\n",
       "336 is finished\t\n"
      ]
     },
     "execution_count": 187,
     "metadata": {},
     "output_type": "execute_result"
    },
    {
     "data": {
      "text/plain": [
       "Top nil feature map classification: \tgoldfish, Carassius auratus 25.991649627686\t\n",
       "25.991649627686\t\n",
       "337 is finished\t\n"
      ]
     },
     "execution_count": 187,
     "metadata": {},
     "output_type": "execute_result"
    },
    {
     "data": {
      "text/plain": [
       "Top nil feature map classification: \tgoldfish, Carassius auratus 15.72186756134\t\n",
       "15.72186756134\t\n",
       "338 is finished\t\n"
      ]
     },
     "execution_count": 187,
     "metadata": {},
     "output_type": "execute_result"
    },
    {
     "data": {
      "text/plain": [
       "Top nil feature map classification: \tgoldfish, Carassius auratus 14.356021881104\t\n",
       "14.356021881104\t\n",
       "339 is finished\t\n"
      ]
     },
     "execution_count": 187,
     "metadata": {},
     "output_type": "execute_result"
    },
    {
     "data": {
      "text/plain": [
       "Top nil feature map classification: \tgoldfish, Carassius auratus 23.7209815979\t\n",
       "23.7209815979\t\n",
       "340 is finished\t\n"
      ]
     },
     "execution_count": 187,
     "metadata": {},
     "output_type": "execute_result"
    },
    {
     "data": {
      "text/plain": [
       "Top nil feature map classification: \tgoldfish, Carassius auratus 20.142141342163\t\n",
       "20.142141342163\t\n",
       "341 is finished\t\n"
      ]
     },
     "execution_count": 187,
     "metadata": {},
     "output_type": "execute_result"
    },
    {
     "data": {
      "text/plain": [
       "Top nil feature map classification: \tgoldfish, Carassius auratus 23.231868743896\t\n",
       "23.231868743896\t\n",
       "342 is finished\t\n"
      ]
     },
     "execution_count": 187,
     "metadata": {},
     "output_type": "execute_result"
    },
    {
     "data": {
      "text/plain": [
       "Top nil feature map classification: \tgoldfish, Carassius auratus 20.950204849243\t\n",
       "20.950204849243\t\n",
       "343 is finished\t\n"
      ]
     },
     "execution_count": 187,
     "metadata": {},
     "output_type": "execute_result"
    },
    {
     "data": {
      "text/plain": [
       "Top nil feature map classification: \tgoldfish, Carassius auratus 13.857720375061\t\n",
       "13.857720375061\t\n",
       "344 is finished\t\n"
      ]
     },
     "execution_count": 187,
     "metadata": {},
     "output_type": "execute_result"
    },
    {
     "data": {
      "text/plain": [
       "Top nil feature map classification: \tgoldfish, Carassius auratus 16.205501556396\t\n",
       "16.205501556396\t\n",
       "345 is finished\t\n"
      ]
     },
     "execution_count": 187,
     "metadata": {},
     "output_type": "execute_result"
    },
    {
     "data": {
      "text/plain": [
       "Top nil feature map classification: \tgoldfish, Carassius auratus 9.8172845840454\t\n",
       "9.8172845840454\t\n",
       "346 is finished\t\n"
      ]
     },
     "execution_count": 187,
     "metadata": {},
     "output_type": "execute_result"
    },
    {
     "data": {
      "text/plain": [
       "Top nil feature map classification: \tgoldfish, Carassius auratus 22.688016891479\t\n",
       "22.688016891479\t\n",
       "347 is finished\t\n"
      ]
     },
     "execution_count": 187,
     "metadata": {},
     "output_type": "execute_result"
    },
    {
     "data": {
      "text/plain": [
       "Top nil feature map classification: \tgoldfish, Carassius auratus 17.402296066284\t\n",
       "17.402296066284\t\n",
       "348 is finished\t\n"
      ]
     },
     "execution_count": 187,
     "metadata": {},
     "output_type": "execute_result"
    },
    {
     "data": {
      "text/plain": [
       "Top nil feature map classification: \tgoldfish, Carassius auratus 17.100891113281\t\n",
       "17.100891113281\t\n",
       "349 is finished\t\n"
      ]
     },
     "execution_count": 187,
     "metadata": {},
     "output_type": "execute_result"
    },
    {
     "data": {
      "text/plain": [
       "Top nil feature map classification: \tgoldfish, Carassius auratus 23.943683624268\t\n",
       "23.943683624268\t\n",
       "350 is finished\t\n"
      ]
     },
     "execution_count": 187,
     "metadata": {},
     "output_type": "execute_result"
    },
    {
     "data": {
      "text/plain": [
       "Top nil feature map classification: \tgoldfish, Carassius auratus 23.330493927002\t\n",
       "23.330493927002\t\n",
       "351 is finished\t\n"
      ]
     },
     "execution_count": 187,
     "metadata": {},
     "output_type": "execute_result"
    },
    {
     "data": {
      "text/plain": [
       "Top nil feature map classification: \tgoldfish, Carassius auratus 14.882013320923\t\n",
       "14.882013320923\t\n",
       "352 is finished\t\n"
      ]
     },
     "execution_count": 187,
     "metadata": {},
     "output_type": "execute_result"
    },
    {
     "data": {
      "text/plain": [
       "Top nil feature map classification: \tgoldfish, Carassius auratus 18.700490951538\t\n",
       "18.700490951538\t\n",
       "353 is finished\t\n"
      ]
     },
     "execution_count": 187,
     "metadata": {},
     "output_type": "execute_result"
    },
    {
     "data": {
      "text/plain": [
       "Top nil feature map classification: \tgoldfish, Carassius auratus 22.15669631958\t\n",
       "22.15669631958\t\n",
       "354 is finished\t\n"
      ]
     },
     "execution_count": 187,
     "metadata": {},
     "output_type": "execute_result"
    },
    {
     "data": {
      "text/plain": [
       "Top nil feature map classification: \tgoldfish, Carassius auratus 20.141696929932\t\n",
       "20.141696929932\t\n",
       "355 is finished\t\n"
      ]
     },
     "execution_count": 187,
     "metadata": {},
     "output_type": "execute_result"
    },
    {
     "data": {
      "text/plain": [
       "Top nil feature map classification: \tgoldfish, Carassius auratus 21.668378829956\t\n",
       "21.668378829956\t\n"
      ]
     },
     "execution_count": 187,
     "metadata": {},
     "output_type": "execute_result"
    },
    {
     "data": {
      "text/plain": [
       "356 is finished\t\n"
      ]
     },
     "execution_count": 187,
     "metadata": {},
     "output_type": "execute_result"
    },
    {
     "data": {
      "text/plain": [
       "Top nil feature map classification: \tgoldfish, Carassius auratus 24.113182067871\t\n",
       "24.113182067871\t\n",
       "357 is finished\t\n"
      ]
     },
     "execution_count": 187,
     "metadata": {},
     "output_type": "execute_result"
    },
    {
     "data": {
      "text/plain": [
       "Top nil feature map classification: \tgoldfish, Carassius auratus 24.299646377563\t\n",
       "24.299646377563\t\n",
       "358 is finished\t\n"
      ]
     },
     "execution_count": 187,
     "metadata": {},
     "output_type": "execute_result"
    },
    {
     "data": {
      "text/plain": [
       "Top nil feature map classification: \tgoldfish, Carassius auratus 18.598848342896\t\n",
       "18.598848342896\t\n",
       "359 is finished\t\n"
      ]
     },
     "execution_count": 187,
     "metadata": {},
     "output_type": "execute_result"
    },
    {
     "data": {
      "text/plain": [
       "Top nil feature map classification: \tgoldfish, Carassius auratus 12.667531967163\t\n",
       "12.667531967163\t\n",
       "360 is finished\t\n"
      ]
     },
     "execution_count": 187,
     "metadata": {},
     "output_type": "execute_result"
    },
    {
     "data": {
      "text/plain": [
       "Top nil feature map classification: \tgoldfish, Carassius auratus 14.893648147583\t\n",
       "14.893648147583\t\n",
       "361 is finished\t\n"
      ]
     },
     "execution_count": 187,
     "metadata": {},
     "output_type": "execute_result"
    },
    {
     "data": {
      "text/plain": [
       "Top nil feature map classification: \tgoldfish, Carassius auratus 17.170785903931\t\n",
       "17.170785903931\t\n",
       "362 is finished\t\n"
      ]
     },
     "execution_count": 187,
     "metadata": {},
     "output_type": "execute_result"
    },
    {
     "data": {
      "text/plain": [
       "Top nil feature map classification: \tgoldfish, Carassius auratus 20.902791976929\t\n",
       "20.902791976929\t\n",
       "363 is finished\t\n"
      ]
     },
     "execution_count": 187,
     "metadata": {},
     "output_type": "execute_result"
    },
    {
     "data": {
      "text/plain": [
       "Top nil feature map classification: \tgoldfish, Carassius auratus 15.254265785217\t\n",
       "15.254265785217\t\n",
       "364 is finished\t\n"
      ]
     },
     "execution_count": 187,
     "metadata": {},
     "output_type": "execute_result"
    },
    {
     "data": {
      "text/plain": [
       "Top nil feature map classification: \tgoldfish, Carassius auratus 18.983543395996\t\n",
       "18.983543395996\t\n",
       "365 is finished\t\n"
      ]
     },
     "execution_count": 187,
     "metadata": {},
     "output_type": "execute_result"
    },
    {
     "data": {
      "text/plain": [
       "Top nil feature map classification: \tgoldfish, Carassius auratus 13.015649795532\t\n"
      ]
     },
     "execution_count": 187,
     "metadata": {},
     "output_type": "execute_result"
    },
    {
     "data": {
      "text/plain": [
       "13.015649795532\t\n",
       "366 is finished\t\n"
      ]
     },
     "execution_count": 187,
     "metadata": {},
     "output_type": "execute_result"
    },
    {
     "data": {
      "text/plain": [
       "Top nil feature map classification: \tgoldfish, Carassius auratus 27.777341842651\t\n",
       "27.777341842651\t\n",
       "367 is finished\t\n"
      ]
     },
     "execution_count": 187,
     "metadata": {},
     "output_type": "execute_result"
    },
    {
     "data": {
      "text/plain": [
       "Top nil feature map classification: \tgoldfish, Carassius auratus 19.54638671875\t\n",
       "19.54638671875\t\n",
       "368 is finished\t\n"
      ]
     },
     "execution_count": 187,
     "metadata": {},
     "output_type": "execute_result"
    },
    {
     "data": {
      "text/plain": [
       "Top nil feature map classification: \tgoldfish, Carassius auratus 13.800532341003\t\n",
       "13.800532341003\t\n",
       "369 is finished\t\n"
      ]
     },
     "execution_count": 187,
     "metadata": {},
     "output_type": "execute_result"
    },
    {
     "data": {
      "text/plain": [
       "Top nil feature map classification: \tgoldfish, Carassius auratus 11.655193328857\t\n",
       "11.655193328857\t\n",
       "370 is finished\t\n"
      ]
     },
     "execution_count": 187,
     "metadata": {},
     "output_type": "execute_result"
    },
    {
     "data": {
      "text/plain": [
       "Top nil feature map classification: \tgoldfish, Carassius auratus 17.989797592163\t\n",
       "17.989797592163\t\n",
       "371 is finished\t\n"
      ]
     },
     "execution_count": 187,
     "metadata": {},
     "output_type": "execute_result"
    },
    {
     "data": {
      "text/plain": [
       "Top nil feature map classification: \tgoldfish, Carassius auratus 12.67878818512\t\n",
       "12.67878818512\t\n",
       "372 is finished\t\n"
      ]
     },
     "execution_count": 187,
     "metadata": {},
     "output_type": "execute_result"
    },
    {
     "data": {
      "text/plain": [
       "Top nil feature map classification: \tgoldfish, Carassius auratus 17.134613037109\t\n",
       "17.134613037109\t\n",
       "373 is finished\t\n"
      ]
     },
     "execution_count": 187,
     "metadata": {},
     "output_type": "execute_result"
    },
    {
     "data": {
      "text/plain": [
       "Top nil feature map classification: \tgoldfish, Carassius auratus 21.064712524414\t\n",
       "21.064712524414\t\n",
       "374 is finished\t\n"
      ]
     },
     "execution_count": 187,
     "metadata": {},
     "output_type": "execute_result"
    },
    {
     "data": {
      "text/plain": [
       "Top nil feature map classification: \tgoldfish, Carassius auratus 11.041142463684\t\n",
       "11.041142463684\t\n",
       "375 is finished\t\n"
      ]
     },
     "execution_count": 187,
     "metadata": {},
     "output_type": "execute_result"
    },
    {
     "data": {
      "text/plain": [
       "Top nil feature map classification: \tgoldfish, Carassius auratus 16.004644393921\t\n",
       "16.004644393921\t\n",
       "376 is finished\t\n"
      ]
     },
     "execution_count": 187,
     "metadata": {},
     "output_type": "execute_result"
    },
    {
     "data": {
      "text/plain": [
       "Top nil feature map classification: \tgoldfish, Carassius auratus 20.895034790039\t\n",
       "20.895034790039\t\n",
       "377 is finished\t\n"
      ]
     },
     "execution_count": 187,
     "metadata": {},
     "output_type": "execute_result"
    },
    {
     "data": {
      "text/plain": [
       "Top nil feature map classification: \tgoldfish, Carassius auratus 17.548305511475\t\n",
       "17.548305511475\t\n",
       "378 is finished\t\n"
      ]
     },
     "execution_count": 187,
     "metadata": {},
     "output_type": "execute_result"
    },
    {
     "data": {
      "text/plain": [
       "Top nil feature map classification: \tmatchstick 9.9060525894165\t\n",
       "6.7732181549072\t\n",
       "379 is finished\t\n"
      ]
     },
     "execution_count": 187,
     "metadata": {},
     "output_type": "execute_result"
    },
    {
     "data": {
      "text/plain": [
       "Top nil feature map classification: \tgoldfish, Carassius auratus 25.444128036499\t\n",
       "25.444128036499\t\n",
       "380 is finished\t\n"
      ]
     },
     "execution_count": 187,
     "metadata": {},
     "output_type": "execute_result"
    },
    {
     "data": {
      "text/plain": [
       "Top nil feature map classification: \tanemone fish 13.653694152832\t\n",
       "13.387397766113\t\n",
       "381 is finished\t\n"
      ]
     },
     "execution_count": 187,
     "metadata": {},
     "output_type": "execute_result"
    },
    {
     "data": {
      "text/plain": [
       "Top nil feature map classification: \tgoldfish, Carassius auratus 17.573040008545\t\n",
       "17.573040008545\t\n",
       "382 is finished\t\n"
      ]
     },
     "execution_count": 187,
     "metadata": {},
     "output_type": "execute_result"
    },
    {
     "data": {
      "text/plain": [
       "Top nil feature map classification: \tgoldfish, Carassius auratus 20.536918640137\t\n",
       "20.536918640137\t\n",
       "383 is finished\t\n"
      ]
     },
     "execution_count": 187,
     "metadata": {},
     "output_type": "execute_result"
    },
    {
     "data": {
      "text/plain": [
       "Top nil feature map classification: \tocarina, sweet potato 8.7072248458862\t\n",
       "8.4672784805298\t\n",
       "384 is finished\t\n"
      ]
     },
     "execution_count": 187,
     "metadata": {},
     "output_type": "execute_result"
    },
    {
     "data": {
      "text/plain": [
       "Top nil feature map classification: \tgoldfish, Carassius auratus 20.785667419434\t\n",
       "20.785667419434\t\n",
       "385 is finished\t\n"
      ]
     },
     "execution_count": 187,
     "metadata": {},
     "output_type": "execute_result"
    },
    {
     "data": {
      "text/plain": [
       "Top nil feature map classification: \tgoldfish, Carassius auratus 23.22815322876\t\n",
       "23.22815322876\t\n",
       "386 is finished\t\n"
      ]
     },
     "execution_count": 187,
     "metadata": {},
     "output_type": "execute_result"
    },
    {
     "data": {
      "text/plain": [
       "Top nil feature map classification: \tgoldfish, Carassius auratus 27.15615272522\t\n",
       "27.15615272522\t\n",
       "387 is finished\t\n"
      ]
     },
     "execution_count": 187,
     "metadata": {},
     "output_type": "execute_result"
    },
    {
     "data": {
      "text/plain": [
       "Top nil feature map classification: \tgoldfish, Carassius auratus 15.567770957947\t\n",
       "15.567770957947\t\n",
       "388 is finished\t\n"
      ]
     },
     "execution_count": 187,
     "metadata": {},
     "output_type": "execute_result"
    },
    {
     "data": {
      "text/plain": [
       "Top nil feature map classification: \tgoldfish, Carassius auratus 19.534002304077\t\n",
       "19.534002304077\t\n",
       "389 is finished\t\n"
      ]
     },
     "execution_count": 187,
     "metadata": {},
     "output_type": "execute_result"
    },
    {
     "data": {
      "text/plain": [
       "Top nil feature map classification: \tgoldfish, Carassius auratus 18.970668792725\t\n",
       "18.970668792725\t\n",
       "390 is finished\t\n"
      ]
     },
     "execution_count": 187,
     "metadata": {},
     "output_type": "execute_result"
    },
    {
     "data": {
      "text/plain": [
       "Top nil feature map classification: \tgoldfish, Carassius auratus 14.24359703064\t\n",
       "14.24359703064\t\n",
       "391 is finished\t\n"
      ]
     },
     "execution_count": 187,
     "metadata": {},
     "output_type": "execute_result"
    },
    {
     "data": {
      "text/plain": [
       "Top nil feature map classification: \tgoldfish, Carassius auratus 16.581060409546\t\n",
       "16.581060409546\t\n",
       "392 is finished\t\n"
      ]
     },
     "execution_count": 187,
     "metadata": {},
     "output_type": "execute_result"
    },
    {
     "data": {
      "text/plain": [
       "Top nil feature map classification: \tgoldfish, Carassius auratus 13.61057472229\t\n",
       "13.61057472229\t\n",
       "393 is finished\t\n"
      ]
     },
     "execution_count": 187,
     "metadata": {},
     "output_type": "execute_result"
    },
    {
     "data": {
      "text/plain": [
       "Top nil feature map classification: \tgoldfish, Carassius auratus 18.008769989014\t\n",
       "18.008769989014\t\n",
       "394 is finished\t\n"
      ]
     },
     "execution_count": 187,
     "metadata": {},
     "output_type": "execute_result"
    },
    {
     "data": {
      "text/plain": [
       "Top nil feature map classification: \tcoral reef 14.293869018555\t\n",
       "10.160641670227\t\n",
       "395 is finished\t\n"
      ]
     },
     "execution_count": 187,
     "metadata": {},
     "output_type": "execute_result"
    },
    {
     "data": {
      "text/plain": [
       "Top nil feature map classification: \tgoldfish, Carassius auratus 16.436281204224\t\n",
       "16.436281204224\t\n",
       "396 is finished\t\n"
      ]
     },
     "execution_count": 187,
     "metadata": {},
     "output_type": "execute_result"
    },
    {
     "data": {
      "text/plain": [
       "Top nil feature map classification: \tgoldfish, Carassius auratus 24.422956466675\t\n",
       "24.422956466675\t\n",
       "397 is finished\t\n"
      ]
     },
     "execution_count": 187,
     "metadata": {},
     "output_type": "execute_result"
    },
    {
     "data": {
      "text/plain": [
       "Top nil feature map classification: \tgoldfish, Carassius auratus 11.211099624634\t\n",
       "11.211099624634\t\n",
       "398 is finished\t\n"
      ]
     },
     "execution_count": 187,
     "metadata": {},
     "output_type": "execute_result"
    },
    {
     "data": {
      "text/plain": [
       "Top nil feature map classification: \tgoldfish, Carassius auratus 17.542297363281\t\n",
       "17.542297363281\t\n",
       "399 is finished\t\n"
      ]
     },
     "execution_count": 187,
     "metadata": {},
     "output_type": "execute_result"
    },
    {
     "data": {
      "text/plain": [
       "Top nil feature map classification: \tvase 7.4385328292847\t\n",
       "6.4837827682495\t\n",
       "400 is finished\t\n"
      ]
     },
     "execution_count": 187,
     "metadata": {},
     "output_type": "execute_result"
    },
    {
     "data": {
      "text/plain": [
       "Top nil feature map classification: \tanemone fish 20.298261642456\t\n",
       "17.283954620361\t\n",
       "401 is finished\t\n"
      ]
     },
     "execution_count": 187,
     "metadata": {},
     "output_type": "execute_result"
    },
    {
     "data": {
      "text/plain": [
       "Top nil feature map classification: \tgoldfish, Carassius auratus 24.142541885376\t\n",
       "24.142541885376\t\n",
       "402 is finished\t\n"
      ]
     },
     "execution_count": 187,
     "metadata": {},
     "output_type": "execute_result"
    },
    {
     "data": {
      "text/plain": [
       "Top nil feature map classification: \tgoldfish, Carassius auratus 20.618999481201\t\n",
       "20.618999481201\t\n",
       "403 is finished\t\n"
      ]
     },
     "execution_count": 187,
     "metadata": {},
     "output_type": "execute_result"
    },
    {
     "data": {
      "text/plain": [
       "Top nil feature map classification: \tgoldfish, Carassius auratus 13.697490692139\t\n",
       "13.697490692139\t\n",
       "404 is finished\t\n"
      ]
     },
     "execution_count": 187,
     "metadata": {},
     "output_type": "execute_result"
    },
    {
     "data": {
      "text/plain": [
       "Top nil feature map classification: \tgoldfish, Carassius auratus 35.164413452148\t\n",
       "35.164413452148\t\n",
       "405 is finished\t\n"
      ]
     },
     "execution_count": 187,
     "metadata": {},
     "output_type": "execute_result"
    },
    {
     "data": {
      "text/plain": [
       "Top nil feature map classification: \t"
      ]
     },
     "execution_count": 187,
     "metadata": {},
     "output_type": "execute_result"
    },
    {
     "data": {
      "text/plain": [
       "goldfish, Carassius auratus 20.58805847168\t\n",
       "20.58805847168\t\n",
       "406 is finished\t\n"
      ]
     },
     "execution_count": 187,
     "metadata": {},
     "output_type": "execute_result"
    },
    {
     "data": {
      "text/plain": [
       "Top nil feature map classification: \tgoldfish, Carassius auratus 20.520812988281\t\n"
      ]
     },
     "execution_count": 187,
     "metadata": {},
     "output_type": "execute_result"
    },
    {
     "data": {
      "text/plain": [
       "20.520812988281\t\n",
       "407 is finished\t\n"
      ]
     },
     "execution_count": 187,
     "metadata": {},
     "output_type": "execute_result"
    },
    {
     "data": {
      "text/plain": [
       "Top nil feature map classification: \tgoldfish, Carassius auratus 16.922613143921\t\n",
       "16.922613143921\t\n",
       "408 is finished\t\n"
      ]
     },
     "execution_count": 187,
     "metadata": {},
     "output_type": "execute_result"
    },
    {
     "data": {
      "text/plain": [
       "Top nil feature map classification: \tgoldfish, Carassius auratus 24.53853225708\t\n",
       "24.53853225708\t\n",
       "409 is finished\t\n"
      ]
     },
     "execution_count": 187,
     "metadata": {},
     "output_type": "execute_result"
    },
    {
     "data": {
      "text/plain": [
       "Top nil feature map classification: \tgoldfish, Carassius auratus 29.837121963501\t\n",
       "29.837121963501\t\n",
       "410 is finished\t\n"
      ]
     },
     "execution_count": 187,
     "metadata": {},
     "output_type": "execute_result"
    },
    {
     "data": {
      "text/plain": [
       "Top nil feature map classification: \tgoldfish, Carassius auratus 19.571168899536\t\n",
       "19.571168899536\t\n",
       "411 is finished\t\n"
      ]
     },
     "execution_count": 187,
     "metadata": {},
     "output_type": "execute_result"
    },
    {
     "data": {
      "text/plain": [
       "Top nil feature map classification: \tgoldfish, Carassius auratus 25.783409118652\t\n",
       "25.783409118652\t\n",
       "412 is finished\t\n"
      ]
     },
     "execution_count": 187,
     "metadata": {},
     "output_type": "execute_result"
    },
    {
     "data": {
      "text/plain": [
       "Top nil feature map classification: \tgoldfish, Carassius auratus 14.76665687561\t\n",
       "14.76665687561\t\n",
       "413 is finished\t\n"
      ]
     },
     "execution_count": 187,
     "metadata": {},
     "output_type": "execute_result"
    },
    {
     "data": {
      "text/plain": [
       "Top nil feature map classification: \tgoldfish, Carassius auratus 15.075180053711\t\n",
       "15.075180053711\t\n",
       "414 is finished\t\n"
      ]
     },
     "execution_count": 187,
     "metadata": {},
     "output_type": "execute_result"
    },
    {
     "data": {
      "text/plain": [
       "Top nil feature map classification: \tgoldfish, Carassius auratus 15.07384967804\t\n",
       "15.07384967804\t\n",
       "415 is finished\t\n"
      ]
     },
     "execution_count": 187,
     "metadata": {},
     "output_type": "execute_result"
    },
    {
     "data": {
      "text/plain": [
       "Top nil feature map classification: \tgoldfish, Carassius auratus 20.378206253052\t\n",
       "20.378206253052\t\n",
       "416 is finished\t\n"
      ]
     },
     "execution_count": 187,
     "metadata": {},
     "output_type": "execute_result"
    },
    {
     "data": {
      "text/plain": [
       "Top nil feature map classification: \tpinwheel 10.690022468567\t\n",
       "10.165386199951\t\n",
       "417 is finished\t\n"
      ]
     },
     "execution_count": 187,
     "metadata": {},
     "output_type": "execute_result"
    },
    {
     "data": {
      "text/plain": [
       "Top nil feature map classification: \tgoldfish, Carassius auratus 18.617502212524\t\n",
       "18.617502212524\t\n",
       "418 is finished\t\n"
      ]
     },
     "execution_count": 187,
     "metadata": {},
     "output_type": "execute_result"
    },
    {
     "data": {
      "text/plain": [
       "Top nil feature map classification: \tgoldfish, Carassius auratus 25.4986743927\t\n",
       "25.4986743927\t\n",
       "419 is finished\t\n"
      ]
     },
     "execution_count": 187,
     "metadata": {},
     "output_type": "execute_result"
    },
    {
     "data": {
      "text/plain": [
       "Top nil feature map classification: \tgoldfish, Carassius auratus 10.956936836243\t\n",
       "10.956936836243\t\n",
       "420 is finished\t\n"
      ]
     },
     "execution_count": 187,
     "metadata": {},
     "output_type": "execute_result"
    },
    {
     "data": {
      "text/plain": [
       "Top nil feature map classification: \tgoldfish, Carassius auratus 18.062074661255\t\n",
       "18.062074661255\t\n",
       "421 is finished\t\n"
      ]
     },
     "execution_count": 187,
     "metadata": {},
     "output_type": "execute_result"
    },
    {
     "data": {
      "text/plain": [
       "Top nil feature map classification: \tgoldfish, Carassius auratus 14.269721031189\t\n",
       "14.269721031189\t\n",
       "422 is finished\t\n"
      ]
     },
     "execution_count": 187,
     "metadata": {},
     "output_type": "execute_result"
    },
    {
     "data": {
      "text/plain": [
       "Top nil feature map classification: \tgoldfish, Carassius auratus 10.441676139832\t\n",
       "10.441676139832\t\n",
       "423 is finished\t\n"
      ]
     },
     "execution_count": 187,
     "metadata": {},
     "output_type": "execute_result"
    },
    {
     "data": {
      "text/plain": [
       "Top nil feature map classification: \tgoldfish, Carassius auratus 30.688650131226\t\n",
       "30.688650131226\t\n",
       "424 is finished\t\n"
      ]
     },
     "execution_count": 187,
     "metadata": {},
     "output_type": "execute_result"
    },
    {
     "data": {
      "text/plain": [
       "Top nil feature map classification: \tgoldfish, Carassius auratus 22.11026763916\t\n",
       "22.11026763916\t\n",
       "425 is finished\t\n"
      ]
     },
     "execution_count": 187,
     "metadata": {},
     "output_type": "execute_result"
    },
    {
     "data": {
      "text/plain": [
       "Top nil feature map classification: \tgoldfish, Carassius auratus 23.078437805176\t\n",
       "23.078437805176\t\n",
       "426 is finished\t\n"
      ]
     },
     "execution_count": 187,
     "metadata": {},
     "output_type": "execute_result"
    },
    {
     "data": {
      "text/plain": [
       "Top nil feature map classification: \tgoldfish, Carassius auratus 25.892896652222\t\n",
       "25.892896652222\t\n",
       "427 is finished\t\n"
      ]
     },
     "execution_count": 187,
     "metadata": {},
     "output_type": "execute_result"
    },
    {
     "data": {
      "text/plain": [
       "Top nil feature map classification: \tgoldfish, Carassius auratus 28.206899642944\t\n",
       "28.206899642944\t\n",
       "428 is finished\t\n"
      ]
     },
     "execution_count": 187,
     "metadata": {},
     "output_type": "execute_result"
    },
    {
     "data": {
      "text/plain": [
       "Top nil feature map classification: \tgoldfish, Carassius auratus 13.369422912598\t\n",
       "13.369422912598\t\n",
       "429 is finished\t\n"
      ]
     },
     "execution_count": 187,
     "metadata": {},
     "output_type": "execute_result"
    },
    {
     "data": {
      "text/plain": [
       "Top nil feature map classification: \tbroccoli 6.2923350334167\t\n",
       "4.2349648475647\t\n",
       "430 is finished\t\n"
      ]
     },
     "execution_count": 187,
     "metadata": {},
     "output_type": "execute_result"
    },
    {
     "data": {
      "text/plain": [
       "Top nil feature map classification: \tgoldfish, Carassius auratus 12.961552619934\t\n",
       "12.961552619934\t\n",
       "431 is finished\t\n"
      ]
     },
     "execution_count": 187,
     "metadata": {},
     "output_type": "execute_result"
    },
    {
     "data": {
      "text/plain": [
       "Top nil feature map classification: \tgoldfish, Carassius auratus 17.361667633057\t\n",
       "17.361667633057\t\n",
       "432 is finished\t\n"
      ]
     },
     "execution_count": 187,
     "metadata": {},
     "output_type": "execute_result"
    },
    {
     "data": {
      "text/plain": [
       "Top nil feature map classification: \tgoldfish, Carassius auratus 13.47622013092\t\n",
       "13.47622013092\t\n",
       "433 is finished\t\n"
      ]
     },
     "execution_count": 187,
     "metadata": {},
     "output_type": "execute_result"
    },
    {
     "data": {
      "text/plain": [
       "Top nil feature map classification: \tgoldfish, Carassius auratus 16.009315490723\t\n",
       "16.009315490723\t\n",
       "434 is finished\t\n"
      ]
     },
     "execution_count": 187,
     "metadata": {},
     "output_type": "execute_result"
    },
    {
     "data": {
      "text/plain": [
       "Top nil feature map classification: \tgoldfish, Carassius auratus 19.411224365234\t\n",
       "19.411224365234\t\n",
       "435 is finished\t\n"
      ]
     },
     "execution_count": 187,
     "metadata": {},
     "output_type": "execute_result"
    },
    {
     "data": {
      "text/plain": [
       "Top nil feature map classification: \tgoldfish, Carassius auratus 17.017473220825\t\n",
       "17.017473220825\t\n",
       "436 is finished\t\n"
      ]
     },
     "execution_count": 187,
     "metadata": {},
     "output_type": "execute_result"
    },
    {
     "data": {
      "text/plain": [
       "Top nil feature map classification: \tgoldfish, Carassius auratus 12.300411224365\t\n",
       "12.300411224365\t\n",
       "437 is finished\t\n"
      ]
     },
     "execution_count": 187,
     "metadata": {},
     "output_type": "execute_result"
    },
    {
     "data": {
      "text/plain": [
       "Top nil feature map classification: \tgoldfish, Carassius auratus 13.213500976562\t\n",
       "13.213500976562\t\n",
       "438 is finished\t\n"
      ]
     },
     "execution_count": 187,
     "metadata": {},
     "output_type": "execute_result"
    },
    {
     "data": {
      "text/plain": [
       "Top nil feature map classification: \tgoldfish, Carassius auratus 11.004831314087\t\n",
       "11.004831314087\t\n",
       "439 is finished\t\n"
      ]
     },
     "execution_count": 187,
     "metadata": {},
     "output_type": "execute_result"
    },
    {
     "data": {
      "text/plain": [
       "Top nil feature map classification: \tgoldfish, Carassius auratus 15.120757102966\t\n",
       "15.120757102966\t\n",
       "440 is finished\t\n"
      ]
     },
     "execution_count": 187,
     "metadata": {},
     "output_type": "execute_result"
    },
    {
     "data": {
      "text/plain": [
       "Top nil feature map classification: \tgoldfish, Carassius auratus 16.736192703247\t\n",
       "16.736192703247\t\n",
       "441 is finished\t\n"
      ]
     },
     "execution_count": 187,
     "metadata": {},
     "output_type": "execute_result"
    },
    {
     "data": {
      "text/plain": [
       "Top nil feature map classification: \tgoldfish, Carassius auratus 18.141340255737\t\n",
       "18.141340255737\t\n",
       "442 is finished\t\n"
      ]
     },
     "execution_count": 187,
     "metadata": {},
     "output_type": "execute_result"
    },
    {
     "data": {
      "text/plain": [
       "Top nil feature map classification: \tgoldfish, Carassius auratus 15.381753921509\t\n",
       "15.381753921509\t\n",
       "443 is finished\t\n"
      ]
     },
     "execution_count": 187,
     "metadata": {},
     "output_type": "execute_result"
    },
    {
     "data": {
      "text/plain": [
       "Top nil feature map classification: \tgoldfish, Carassius auratus 21.5185546875\t\n",
       "21.5185546875\t\n",
       "444 is finished\t\n"
      ]
     },
     "execution_count": 187,
     "metadata": {},
     "output_type": "execute_result"
    },
    {
     "data": {
      "text/plain": [
       "Top nil feature map classification: \tgoldfish, Carassius auratus 9.3514566421509\t\n",
       "9.3514566421509\t\n",
       "445 is finished\t\n"
      ]
     },
     "execution_count": 187,
     "metadata": {},
     "output_type": "execute_result"
    },
    {
     "data": {
      "text/plain": [
       "Top nil feature map classification: \tgoldfish, Carassius auratus 16.229047775269\t\n",
       "16.229047775269\t\n",
       "446 is finished\t\n"
      ]
     },
     "execution_count": 187,
     "metadata": {},
     "output_type": "execute_result"
    },
    {
     "data": {
      "text/plain": [
       "Top nil feature map classification: \tgoldfish, Carassius auratus 13.82928276062\t\n"
      ]
     },
     "execution_count": 187,
     "metadata": {},
     "output_type": "execute_result"
    },
    {
     "data": {
      "text/plain": [
       "13.82928276062\t\n",
       "447 is finished\t\n"
      ]
     },
     "execution_count": 187,
     "metadata": {},
     "output_type": "execute_result"
    },
    {
     "data": {
      "text/plain": [
       "Top nil feature map classification: \tgoldfish, Carassius auratus 17.907861709595\t\n",
       "17.907861709595\t\n",
       "448 is finished\t\n"
      ]
     },
     "execution_count": 187,
     "metadata": {},
     "output_type": "execute_result"
    },
    {
     "data": {
      "text/plain": [
       "Top nil feature map classification: \tladybug, ladybeetle, lady beetle, ladybird, ladybird beetle 12.024981498718\t\n",
       "11.736595153809\t\n",
       "449 is finished\t\n"
      ]
     },
     "execution_count": 187,
     "metadata": {},
     "output_type": "execute_result"
    },
    {
     "data": {
      "text/plain": [
       "Top nil feature map classification: \tgoldfish, Carassius auratus 15.831340789795\t\n",
       "15.831340789795\t\n",
       "450 is finished\t\n"
      ]
     },
     "execution_count": 187,
     "metadata": {},
     "output_type": "execute_result"
    },
    {
     "data": {
      "text/plain": [
       "Top nil feature map classification: \tgoldfish, Carassius auratus 18.09197807312\t\n",
       "18.09197807312\t\n",
       "451 is finished\t\n"
      ]
     },
     "execution_count": 187,
     "metadata": {},
     "output_type": "execute_result"
    },
    {
     "data": {
      "text/plain": [
       "Top nil feature map classification: \tgoldfish, Carassius auratus 33.382431030273\t\n",
       "33.382431030273\t\n",
       "452 is finished\t\n"
      ]
     },
     "execution_count": 187,
     "metadata": {},
     "output_type": "execute_result"
    },
    {
     "data": {
      "text/plain": [
       "Top nil feature map classification: \tgoldfish, Carassius auratus 27.834932327271\t\n",
       "27.834932327271\t\n",
       "453 is finished\t\n"
      ]
     },
     "execution_count": 187,
     "metadata": {},
     "output_type": "execute_result"
    },
    {
     "data": {
      "text/plain": [
       "Top nil feature map classification: \tgoldfish, Carassius auratus 11.768077850342\t\n",
       "11.768077850342\t\n",
       "454 is finished\t\n"
      ]
     },
     "execution_count": 187,
     "metadata": {},
     "output_type": "execute_result"
    },
    {
     "data": {
      "text/plain": [
       "Top nil feature map classification: \tgoldfish, Carassius auratus 21.843580245972\t\n",
       "21.843580245972\t\n",
       "455 is finished\t\n"
      ]
     },
     "execution_count": 187,
     "metadata": {},
     "output_type": "execute_result"
    },
    {
     "data": {
      "text/plain": [
       "Top nil feature map classification: \tblack widow, Latrodectus mactans 8.2352046966553\t\n",
       "7.3848071098328\t\n",
       "456 is finished\t\n"
      ]
     },
     "execution_count": 187,
     "metadata": {},
     "output_type": "execute_result"
    },
    {
     "data": {
      "text/plain": [
       "Top nil feature map classification: \tgoldfish, Carassius auratus 11.824946403503\t\n",
       "11.824946403503\t\n",
       "457 is finished\t\n"
      ]
     },
     "execution_count": 187,
     "metadata": {},
     "output_type": "execute_result"
    },
    {
     "data": {
      "text/plain": [
       "Top nil feature map classification: \tgoldfish, Carassius auratus 14.426940917969\t\n",
       "14.426940917969\t\n",
       "458 is finished\t\n"
      ]
     },
     "execution_count": 187,
     "metadata": {},
     "output_type": "execute_result"
    },
    {
     "data": {
      "text/plain": [
       "Top nil feature map classification: \tgoldfish, Carassius auratus 15.880167007446\t\n",
       "15.880167007446\t\n",
       "459 is finished\t\n"
      ]
     },
     "execution_count": 187,
     "metadata": {},
     "output_type": "execute_result"
    },
    {
     "data": {
      "text/plain": [
       "Top nil feature map classification: \tgoldfish, Carassius auratus 15.602472305298\t\n",
       "15.602472305298\t\n",
       "460 is finished\t\n"
      ]
     },
     "execution_count": 187,
     "metadata": {},
     "output_type": "execute_result"
    },
    {
     "data": {
      "text/plain": [
       "Top nil feature map classification: \tgoldfish, Carassius auratus 8.2372360229492\t\n",
       "8.2372360229492\t\n",
       "461 is finished\t\n"
      ]
     },
     "execution_count": 187,
     "metadata": {},
     "output_type": "execute_result"
    },
    {
     "data": {
      "text/plain": [
       "Top nil feature map classification: \tgoldfish, Carassius auratus 20.082889556885\t\n",
       "20.082889556885\t\n",
       "462 is finished\t\n"
      ]
     },
     "execution_count": 187,
     "metadata": {},
     "output_type": "execute_result"
    },
    {
     "data": {
      "text/plain": [
       "Top nil feature map classification: \tgoldfish, Carassius auratus 13.222541809082\t\n",
       "13.222541809082\t\n",
       "463 is finished\t\n"
      ]
     },
     "execution_count": 187,
     "metadata": {},
     "output_type": "execute_result"
    },
    {
     "data": {
      "text/plain": [
       "Top nil feature map classification: \t"
      ]
     },
     "execution_count": 187,
     "metadata": {},
     "output_type": "execute_result"
    },
    {
     "data": {
      "text/plain": [
       "goldfish, Carassius auratus 18.968957901001\t\n",
       "18.968957901001\t\n",
       "464 is finished\t\n"
      ]
     },
     "execution_count": 187,
     "metadata": {},
     "output_type": "execute_result"
    },
    {
     "data": {
      "text/plain": [
       "Top nil feature map classification: \tgoldfish, Carassius auratus 12.765257835388\t\n",
       "12.765257835388\t\n",
       "465 is finished\t\n"
      ]
     },
     "execution_count": 187,
     "metadata": {},
     "output_type": "execute_result"
    },
    {
     "data": {
      "text/plain": [
       "Top nil feature map classification: \tgoldfish, Carassius auratus 17.878143310547\t\n",
       "17.878143310547\t\n",
       "466 is finished\t\n"
      ]
     },
     "execution_count": 187,
     "metadata": {},
     "output_type": "execute_result"
    },
    {
     "data": {
      "text/plain": [
       "Top nil feature map classification: \tgoldfish, Carassius auratus 24.508380889893\t\n",
       "24.508380889893\t\n",
       "467 is finished\t\n"
      ]
     },
     "execution_count": 187,
     "metadata": {},
     "output_type": "execute_result"
    },
    {
     "data": {
      "text/plain": [
       "Top nil feature map classification: \tgoldfish, Carassius auratus 20.421501159668\t\n",
       "20.421501159668\t\n",
       "468 is finished\t\n"
      ]
     },
     "execution_count": 187,
     "metadata": {},
     "output_type": "execute_result"
    },
    {
     "data": {
      "text/plain": [
       "Top nil feature map classification: \tgoldfish, Carassius auratus 16.056200027466\t\n",
       "16.056200027466\t\n",
       "469 is finished\t\n"
      ]
     },
     "execution_count": 187,
     "metadata": {},
     "output_type": "execute_result"
    },
    {
     "data": {
      "text/plain": [
       "Top nil feature map classification: \tmosquito net 8.1743307113647\t\n",
       "4.2968354225159\t\n",
       "470 is finished\t\n"
      ]
     },
     "execution_count": 187,
     "metadata": {},
     "output_type": "execute_result"
    },
    {
     "data": {
      "text/plain": [
       "Top nil feature map classification: \tgoldfish, Carassius auratus 22.945413589478\t\n",
       "22.945413589478\t\n",
       "471 is finished\t\n"
      ]
     },
     "execution_count": 187,
     "metadata": {},
     "output_type": "execute_result"
    },
    {
     "data": {
      "text/plain": [
       "Top nil feature map classification: \tgoldfish, Carassius auratus 11.741033554077\t\n",
       "11.741033554077\t\n",
       "472 is finished\t\n"
      ]
     },
     "execution_count": 187,
     "metadata": {},
     "output_type": "execute_result"
    },
    {
     "data": {
      "text/plain": [
       "Top nil feature map classification: \tpacket 8.2914342880249\t\n",
       "6.3346977233887\t\n",
       "473 is finished\t\n"
      ]
     },
     "execution_count": 187,
     "metadata": {},
     "output_type": "execute_result"
    },
    {
     "data": {
      "text/plain": [
       "Top nil feature map classification: \tgoldfish, Carassius auratus 12.591806411743\t\n",
       "12.591806411743\t\n",
       "474 is finished\t\n"
      ]
     },
     "execution_count": 187,
     "metadata": {},
     "output_type": "execute_result"
    },
    {
     "data": {
      "text/plain": [
       "Top nil feature map classification: \tgoldfish, Carassius auratus 13.931431770325\t"
      ]
     },
     "execution_count": 187,
     "metadata": {},
     "output_type": "execute_result"
    },
    {
     "data": {
      "text/plain": [
       "\n",
       "13.931431770325\t\n",
       "475 is finished\t\n"
      ]
     },
     "execution_count": 187,
     "metadata": {},
     "output_type": "execute_result"
    },
    {
     "data": {
      "text/plain": [
       "Top nil feature map classification: \tgoldfish, Carassius auratus 15.663329124451\t\n",
       "15.663329124451\t\n",
       "476 is finished\t\n"
      ]
     },
     "execution_count": 187,
     "metadata": {},
     "output_type": "execute_result"
    },
    {
     "data": {
      "text/plain": [
       "Top nil feature map classification: \tgoldfish, Carassius auratus 10.884745597839\t\n",
       "10.884745597839\t\n",
       "477 is finished\t\n"
      ]
     },
     "execution_count": 187,
     "metadata": {},
     "output_type": "execute_result"
    },
    {
     "data": {
      "text/plain": [
       "Top nil feature map classification: \tgoldfish, Carassius auratus 15.629853248596\t\n",
       "15.629853248596\t\n",
       "478 is finished\t\n"
      ]
     },
     "execution_count": 187,
     "metadata": {},
     "output_type": "execute_result"
    },
    {
     "data": {
      "text/plain": [
       "Top nil feature map classification: \tgoldfish, Carassius auratus 27.943058013916\t\n",
       "27.943058013916\t\n",
       "479 is finished\t\n"
      ]
     },
     "execution_count": 187,
     "metadata": {},
     "output_type": "execute_result"
    },
    {
     "data": {
      "text/plain": [
       "Top nil feature map classification: \tgoldfish, Carassius auratus 14.238121986389\t\n",
       "14.238121986389\t\n",
       "480 is finished\t\n"
      ]
     },
     "execution_count": 187,
     "metadata": {},
     "output_type": "execute_result"
    },
    {
     "data": {
      "text/plain": [
       "Top nil feature map classification: \tgoldfish, Carassius auratus 14.594779014587\t\n",
       "14.594779014587\t\n",
       "481 is finished\t\n"
      ]
     },
     "execution_count": 187,
     "metadata": {},
     "output_type": "execute_result"
    },
    {
     "data": {
      "text/plain": [
       "Top nil feature map classification: \tgoldfish, Carassius auratus 13.156604766846\t\n",
       "13.156604766846\t\n",
       "482 is finished\t\n"
      ]
     },
     "execution_count": 187,
     "metadata": {},
     "output_type": "execute_result"
    },
    {
     "data": {
      "text/plain": [
       "Top nil feature map classification: \tgoldfish, Carassius auratus 21.092947006226\t\n",
       "21.092947006226\t\n",
       "483 is finished\t\n"
      ]
     },
     "execution_count": 187,
     "metadata": {},
     "output_type": "execute_result"
    },
    {
     "data": {
      "text/plain": [
       "Top nil feature map classification: \tgoldfish, Carassius auratus 25.048053741455\t\n",
       "25.048053741455\t\n",
       "484 is finished\t\n"
      ]
     },
     "execution_count": 187,
     "metadata": {},
     "output_type": "execute_result"
    },
    {
     "data": {
      "text/plain": [
       "Top nil feature map classification: \tgoldfish, Carassius auratus 12.097912788391\t\n",
       "12.097912788391\t\n",
       "485 is finished\t"
      ]
     },
     "execution_count": 187,
     "metadata": {},
     "output_type": "execute_result"
    },
    {
     "data": {
      "text/plain": [
       "\n"
      ]
     },
     "execution_count": 187,
     "metadata": {},
     "output_type": "execute_result"
    },
    {
     "data": {
      "text/plain": [
       "Top nil feature map classification: \tgoldfish, Carassius auratus 26.887599945068\t\n",
       "26.887599945068\t\n",
       "486 is finished\t\n"
      ]
     },
     "execution_count": 187,
     "metadata": {},
     "output_type": "execute_result"
    },
    {
     "data": {
      "text/plain": [
       "Top nil feature map classification: \tgoldfish, Carassius auratus 10.455680847168\t\n",
       "10.455680847168\t\n",
       "487 is finished\t\n"
      ]
     },
     "execution_count": 187,
     "metadata": {},
     "output_type": "execute_result"
    },
    {
     "data": {
      "text/plain": [
       "Top nil feature map classification: \tgoldfish, Carassius auratus 21.633674621582\t\n",
       "21.633674621582\t\n",
       "488 is finished\t\n"
      ]
     },
     "execution_count": 187,
     "metadata": {},
     "output_type": "execute_result"
    },
    {
     "data": {
      "text/plain": [
       "Top nil feature map classification: \tgoldfish, Carassius auratus 28.360918045044\t\n",
       "28.360918045044\t\n",
       "489 is finished\t\n"
      ]
     },
     "execution_count": 187,
     "metadata": {},
     "output_type": "execute_result"
    },
    {
     "data": {
      "text/plain": [
       "Top nil feature map classification: \tgoldfish, Carassius auratus 21.821674346924\t\n",
       "21.821674346924\t\n",
       "490 is finished\t\n"
      ]
     },
     "execution_count": 187,
     "metadata": {},
     "output_type": "execute_result"
    },
    {
     "data": {
      "text/plain": [
       "Top nil feature map classification: \tgoldfish, Carassius auratus 11.166564941406\t\n"
      ]
     },
     "execution_count": 187,
     "metadata": {},
     "output_type": "execute_result"
    },
    {
     "data": {
      "text/plain": [
       "11.166564941406\t\n",
       "491 is finished\t\n"
      ]
     },
     "execution_count": 187,
     "metadata": {},
     "output_type": "execute_result"
    },
    {
     "data": {
      "text/plain": [
       "Top nil feature map classification: \tgoldfish, Carassius auratus 10.7541847229\t\n",
       "10.7541847229\t\n",
       "492 is finished\t\n"
      ]
     },
     "execution_count": 187,
     "metadata": {},
     "output_type": "execute_result"
    },
    {
     "data": {
      "text/plain": [
       "Top nil feature map classification: \tgoldfish, Carassius auratus 14.717103004456\t\n",
       "14.717103004456\t\n",
       "493 is finished\t\n"
      ]
     },
     "execution_count": 187,
     "metadata": {},
     "output_type": "execute_result"
    },
    {
     "data": {
      "text/plain": [
       "Top nil feature map classification: \tgoldfish, Carassius auratus 10.941928863525\t\n",
       "10.941928863525\t\n",
       "494 is finished\t\n"
      ]
     },
     "execution_count": 187,
     "metadata": {},
     "output_type": "execute_result"
    },
    {
     "data": {
      "text/plain": [
       "Top nil feature map classification: \tgoldfish, Carassius auratus 24.89263343811\t\n",
       "24.89263343811\t\n",
       "495 is finished\t\n"
      ]
     },
     "execution_count": 187,
     "metadata": {},
     "output_type": "execute_result"
    },
    {
     "data": {
      "text/plain": [
       "Top nil feature map classification: \tgoldfish, Carassius auratus 7.6292734146118\t\n",
       "7.6292734146118\t"
      ]
     },
     "execution_count": 187,
     "metadata": {},
     "output_type": "execute_result"
    },
    {
     "data": {
      "text/plain": [
       "\n",
       "496 is finished\t\n"
      ]
     },
     "execution_count": 187,
     "metadata": {},
     "output_type": "execute_result"
    },
    {
     "data": {
      "text/plain": [
       "Top nil feature map classification: \tgoldfish, Carassius auratus 21.61337852478\t\n",
       "21.61337852478\t\n",
       "497 is finished\t\n"
      ]
     },
     "execution_count": 187,
     "metadata": {},
     "output_type": "execute_result"
    },
    {
     "data": {
      "text/plain": [
       "Top nil feature map classification: \tgoldfish, Carassius auratus 16.426359176636\t\n",
       "16.426359176636\t\n",
       "498 is finished\t\n"
      ]
     },
     "execution_count": 187,
     "metadata": {},
     "output_type": "execute_result"
    },
    {
     "data": {
      "text/plain": [
       "Top nil feature map classification: \tgoldfish, Carassius auratus 9.44091796875\t\n",
       "9.44091796875\t\n",
       "499 is finished\t\n"
      ]
     },
     "execution_count": 187,
     "metadata": {},
     "output_type": "execute_result"
    },
    {
     "data": {
      "text/plain": [
       "Top nil feature map classification: \tgoldfish, Carassius auratus 19.117938995361\t\n",
       "19.117938995361\t\n",
       "500 is finished\t\n"
      ]
     },
     "execution_count": 187,
     "metadata": {},
     "output_type": "execute_result"
    },
    {
     "data": {
      "text/plain": [
       "Top nil feature map classification: \tgoldfish, Carassius auratus 21.504055023193\t\n",
       "21.504055023193\t\n",
       "501 is finished\t\n"
      ]
     },
     "execution_count": 187,
     "metadata": {},
     "output_type": "execute_result"
    },
    {
     "data": {
      "text/plain": [
       "Top nil feature map classification: \tgoldfish, Carassius auratus 21.468818664551\t\n",
       "21.468818664551\t\n",
       "502 is finished\t\n"
      ]
     },
     "execution_count": 187,
     "metadata": {},
     "output_type": "execute_result"
    },
    {
     "data": {
      "text/plain": [
       "Top nil feature map classification: \tgoldfish, Carassius auratus 15.42201423645\t\n",
       "15.42201423645\t\n",
       "503 is finished\t\n"
      ]
     },
     "execution_count": 187,
     "metadata": {},
     "output_type": "execute_result"
    },
    {
     "data": {
      "text/plain": [
       "Top nil feature map classification: \tgoldfish, Carassius auratus 14.597043991089\t\n",
       "14.597043991089\t\n",
       "504 is finished\t\n"
      ]
     },
     "execution_count": 187,
     "metadata": {},
     "output_type": "execute_result"
    },
    {
     "data": {
      "text/plain": [
       "Top nil feature map classification: \tgoldfish, Carassius auratus 18.670892715454\t\n",
       "18.670892715454\t\n",
       "505 is finished\t\n"
      ]
     },
     "execution_count": 187,
     "metadata": {},
     "output_type": "execute_result"
    },
    {
     "data": {
      "text/plain": [
       "Top nil feature map classification: \tgoldfish, Carassius auratus 16.069606781006\t\n",
       "16.069606781006\t\n",
       "506 is finished\t\n"
      ]
     },
     "execution_count": 187,
     "metadata": {},
     "output_type": "execute_result"
    },
    {
     "data": {
      "text/plain": [
       "Top nil feature map classification: \tgoldfish, Carassius auratus 26.085113525391\t\n",
       "26.085113525391\t\n",
       "507 is finished\t\n"
      ]
     },
     "execution_count": 187,
     "metadata": {},
     "output_type": "execute_result"
    },
    {
     "data": {
      "text/plain": [
       "Top nil feature map classification: \tgoldfish, Carassius auratus 9.8577613830566\t\n",
       "9.8577613830566\t\n",
       "508 is finished\t\n"
      ]
     },
     "execution_count": 187,
     "metadata": {},
     "output_type": "execute_result"
    },
    {
     "data": {
      "text/plain": [
       "Top nil feature map classification: \tgoldfish, Carassius auratus 17.683320999146\t\n",
       "17.683320999146\t\n",
       "509 is finished\t\n"
      ]
     },
     "execution_count": 187,
     "metadata": {},
     "output_type": "execute_result"
    },
    {
     "data": {
      "text/plain": [
       "Top nil feature map classification: \tgoldfish, Carassius auratus 13.151376724243\t\n",
       "13.151376724243\t\n",
       "510 is finished\t\n"
      ]
     },
     "execution_count": 187,
     "metadata": {},
     "output_type": "execute_result"
    },
    {
     "data": {
      "text/plain": [
       "Top nil feature map classification: \tgoldfish, Carassius auratus 21.414257049561\t\n",
       "21.414257049561\t\n",
       "511 is finished\t\n"
      ]
     },
     "execution_count": 187,
     "metadata": {},
     "output_type": "execute_result"
    },
    {
     "data": {
      "text/plain": [
       "Top nil feature map classification: \tgoldfish, Carassius auratus 21.795007705688\t\n",
       "21.795007705688\t\n",
       "512 is finished\t\n"
      ]
     },
     "execution_count": 187,
     "metadata": {},
     "output_type": "execute_result"
    },
    {
     "data": {
      "text/plain": [
       "Top nil feature map classification: \tcoral reef 17.017744064331\t\n",
       "12.082607269287\t\n",
       "513 is finished\t\n"
      ]
     },
     "execution_count": 187,
     "metadata": {},
     "output_type": "execute_result"
    },
    {
     "data": {
      "text/plain": [
       "Top nil feature map classification: \tgoldfish, Carassius auratus 19.55278968811\t\n",
       "19.55278968811\t\n",
       "514 is finished\t\n"
      ]
     },
     "execution_count": 187,
     "metadata": {},
     "output_type": "execute_result"
    },
    {
     "data": {
      "text/plain": [
       "Top nil feature map classification: \tgoldfish, Carassius auratus 19.090818405151\t\n",
       "19.090818405151\t\n",
       "515 is finished\t\n"
      ]
     },
     "execution_count": 187,
     "metadata": {},
     "output_type": "execute_result"
    },
    {
     "data": {
      "text/plain": [
       "Top nil feature map classification: \tgoldfish, Carassius auratus 16.402584075928\t\n",
       "16.402584075928\t\n",
       "516 is finished\t\n"
      ]
     },
     "execution_count": 187,
     "metadata": {},
     "output_type": "execute_result"
    },
    {
     "data": {
      "text/plain": [
       "Top nil feature map classification: \tgoldfish, Carassius auratus 11.644142150879\t\n"
      ]
     },
     "execution_count": 187,
     "metadata": {},
     "output_type": "execute_result"
    },
    {
     "data": {
      "text/plain": [
       "11.644142150879\t\n",
       "517 is finished\t\n"
      ]
     },
     "execution_count": 187,
     "metadata": {},
     "output_type": "execute_result"
    },
    {
     "data": {
      "text/plain": [
       "Top nil feature map classification: \tanemone fish 13.963850021362\t\n",
       "13.602138519287\t\n",
       "518 is finished\t\n"
      ]
     },
     "execution_count": 187,
     "metadata": {},
     "output_type": "execute_result"
    },
    {
     "data": {
      "text/plain": [
       "Top nil feature map classification: \tgoldfish, Carassius auratus 25.722200393677\t\n",
       "25.722200393677\t\n",
       "519 is finished\t\n"
      ]
     },
     "execution_count": 187,
     "metadata": {},
     "output_type": "execute_result"
    },
    {
     "data": {
      "text/plain": [
       "Top nil feature map classification: \tgoldfish, Carassius auratus 10.502453804016\t\n",
       "10.502453804016\t\n",
       "520 is finished\t\n"
      ]
     },
     "execution_count": 187,
     "metadata": {},
     "output_type": "execute_result"
    },
    {
     "data": {
      "text/plain": [
       "Top nil feature map classification: \tgoldfish, Carassius auratus 12.583572387695\t\n",
       "12.583572387695\t\n",
       "521 is finished\t\n"
      ]
     },
     "execution_count": 187,
     "metadata": {},
     "output_type": "execute_result"
    },
    {
     "data": {
      "text/plain": [
       "Top nil feature map classification: \tgoldfish, Carassius auratus 15.792054176331\t\n",
       "15.792054176331\t\n",
       "522 is finished\t\n"
      ]
     },
     "execution_count": 187,
     "metadata": {},
     "output_type": "execute_result"
    },
    {
     "data": {
      "text/plain": [
       "Top nil feature map classification: \tgoldfish, Carassius auratus 17.324785232544\t\n",
       "17.324785232544\t\n",
       "523 is finished\t\n"
      ]
     },
     "execution_count": 187,
     "metadata": {},
     "output_type": "execute_result"
    },
    {
     "data": {
      "text/plain": [
       "Top nil feature map classification: \tgoldfish, Carassius auratus 15.25571346283\t\n",
       "15.25571346283\t\n",
       "524 is finished\t\n"
      ]
     },
     "execution_count": 187,
     "metadata": {},
     "output_type": "execute_result"
    },
    {
     "data": {
      "text/plain": [
       "Top nil feature map classification: \tgoldfish, Carassius auratus 15.965518951416\t\n",
       "15.965518951416\t\n",
       "525 is finished\t\n"
      ]
     },
     "execution_count": 187,
     "metadata": {},
     "output_type": "execute_result"
    },
    {
     "data": {
      "text/plain": [
       "Top nil feature map classification: \tgoldfish, Carassius auratus 19.448894500732\t\n",
       "19.448894500732\t\n",
       "526 is finished\t\n"
      ]
     },
     "execution_count": 187,
     "metadata": {},
     "output_type": "execute_result"
    },
    {
     "data": {
      "text/plain": [
       "Top nil feature map classification: \tanemone fish 13.249360084534\t\n",
       "12.253855705261\t\n",
       "527 is finished\t\n"
      ]
     },
     "execution_count": 187,
     "metadata": {},
     "output_type": "execute_result"
    },
    {
     "data": {
      "text/plain": [
       "Top nil feature map classification: \tgoldfish, Carassius auratus 19.626661300659\t\n",
       "19.626661300659\t\n",
       "528 is finished\t\n"
      ]
     },
     "execution_count": 187,
     "metadata": {},
     "output_type": "execute_result"
    },
    {
     "data": {
      "text/plain": [
       "Top nil feature map classification: \tgoldfish, Carassius auratus 23.657499313354\t\n",
       "23.657499313354\t\n",
       "529 is finished\t\n"
      ]
     },
     "execution_count": 187,
     "metadata": {},
     "output_type": "execute_result"
    },
    {
     "data": {
      "text/plain": [
       "Top nil feature map classification: \tgoldfish, Carassius auratus 11.425688743591\t\n",
       "11.425688743591\t\n",
       "530 is finished\t\n"
      ]
     },
     "execution_count": 187,
     "metadata": {},
     "output_type": "execute_result"
    },
    {
     "data": {
      "text/plain": [
       "Top nil feature map classification: \tgoldfish, Carassius auratus 15.753774642944\t\n",
       "15.753774642944\t\n",
       "531 is finished\t\n"
      ]
     },
     "execution_count": 187,
     "metadata": {},
     "output_type": "execute_result"
    },
    {
     "data": {
      "text/plain": [
       "Top nil feature map classification: \tgoldfish, Carassius auratus 23.682172775269\t\n",
       "23.682172775269\t\n",
       "532 is finished\t\n"
      ]
     },
     "execution_count": 187,
     "metadata": {},
     "output_type": "execute_result"
    },
    {
     "data": {
      "text/plain": [
       "Top nil feature map classification: \tgoldfish, Carassius auratus 15.639904022217\t\n",
       "15.639904022217\t\n",
       "533 is finished\t\n"
      ]
     },
     "execution_count": 187,
     "metadata": {},
     "output_type": "execute_result"
    },
    {
     "data": {
      "text/plain": [
       "Top nil feature map classification: \tgoldfish, Carassius auratus 8.8999834060669\t\n",
       "8.8999834060669\t\n",
       "534 is finished\t\n"
      ]
     },
     "execution_count": 187,
     "metadata": {},
     "output_type": "execute_result"
    },
    {
     "data": {
      "text/plain": [
       "Top nil feature map classification: \tmonitor 6.7566900253296\t\n",
       "6.6559472084045\t\n",
       "535 is finished\t\n"
      ]
     },
     "execution_count": 187,
     "metadata": {},
     "output_type": "execute_result"
    },
    {
     "data": {
      "text/plain": [
       "Top nil feature map classification: \tgoldfish, Carassius auratus 10.712262153625\t\n",
       "10.712262153625\t\n",
       "536 is finished\t\n"
      ]
     },
     "execution_count": 187,
     "metadata": {},
     "output_type": "execute_result"
    },
    {
     "data": {
      "text/plain": [
       "Top nil feature map classification: \tgoldfish, Carassius auratus 12.471129417419\t\n",
       "12.471129417419\t\n",
       "537 is finished\t\n"
      ]
     },
     "execution_count": 187,
     "metadata": {},
     "output_type": "execute_result"
    },
    {
     "data": {
      "text/plain": [
       "Top nil feature map classification: \tgoldfish, Carassius auratus 22.30233001709\t\n",
       "22.30233001709\t\n",
       "538 is finished\t\n"
      ]
     },
     "execution_count": 187,
     "metadata": {},
     "output_type": "execute_result"
    },
    {
     "data": {
      "text/plain": [
       "Top nil feature map classification: \tpuffer, pufferfish, blowfish, globefish 11.577682495117\t\n",
       "10.822692871094\t\n",
       "539 is finished\t\n"
      ]
     },
     "execution_count": 187,
     "metadata": {},
     "output_type": "execute_result"
    },
    {
     "data": {
      "text/plain": [
       "Top nil feature map classification: \tgoldfish, Carassius auratus 12.952963829041\t\n",
       "12.952963829041\t\n",
       "540 is finished\t\n"
      ]
     },
     "execution_count": 187,
     "metadata": {},
     "output_type": "execute_result"
    },
    {
     "data": {
      "text/plain": [
       "Top nil feature map classification: \tgoldfish, Carassius auratus 20.038619995117\t\n",
       "20.038619995117\t\n",
       "541 is finished\t\n"
      ]
     },
     "execution_count": 187,
     "metadata": {},
     "output_type": "execute_result"
    },
    {
     "data": {
      "text/plain": [
       "Top nil feature map classification: \tgoldfish, Carassius auratus 18.336553573608\t\n",
       "18.336553573608\t\n",
       "542 is finished\t\n"
      ]
     },
     "execution_count": 187,
     "metadata": {},
     "output_type": "execute_result"
    },
    {
     "data": {
      "text/plain": [
       "Top nil feature map classification: \tgoldfish, Carassius auratus 17.768522262573\t\n",
       "17.768522262573\t\n",
       "543 is finished\t\n"
      ]
     },
     "execution_count": 187,
     "metadata": {},
     "output_type": "execute_result"
    },
    {
     "data": {
      "text/plain": [
       "Top nil feature map classification: \tgoldfish, Carassius auratus 17.345886230469\t\n",
       "17.345886230469\t\n",
       "544 is finished\t\n"
      ]
     },
     "execution_count": 187,
     "metadata": {},
     "output_type": "execute_result"
    },
    {
     "data": {
      "text/plain": [
       "Top nil feature map classification: \tgoldfish, Carassius auratus 26.038152694702\t\n",
       "26.038152694702\t\n",
       "545 is finished\t\n"
      ]
     },
     "execution_count": 187,
     "metadata": {},
     "output_type": "execute_result"
    },
    {
     "data": {
      "text/plain": [
       "Top nil feature map classification: \tgoldfish, Carassius auratus 16.372249603271\t\n",
       "16.372249603271\t\n",
       "546 is finished\t\n"
      ]
     },
     "execution_count": 187,
     "metadata": {},
     "output_type": "execute_result"
    },
    {
     "data": {
      "text/plain": [
       "Top nil feature map classification: \tgoldfish, Carassius auratus 22.814323425293\t\n",
       "22.814323425293\t\n",
       "547 is finished\t\n"
      ]
     },
     "execution_count": 187,
     "metadata": {},
     "output_type": "execute_result"
    },
    {
     "data": {
      "text/plain": [
       "Top nil feature map classification: \tgoldfish, Carassius auratus 13.57689666748\t\n",
       "13.57689666748\t\n",
       "548 is finished\t\n"
      ]
     },
     "execution_count": 187,
     "metadata": {},
     "output_type": "execute_result"
    },
    {
     "data": {
      "text/plain": [
       "Top nil feature map classification: \tgoldfish, Carassius auratus 14.591777801514\t\n",
       "14.591777801514\t\n",
       "549 is finished\t\n"
      ]
     },
     "execution_count": 187,
     "metadata": {},
     "output_type": "execute_result"
    },
    {
     "data": {
      "text/plain": [
       "Top nil feature map classification: \tgoldfish, Carassius auratus 15.146950721741\t\n",
       "15.146950721741\t\n",
       "550 is finished\t\n"
      ]
     },
     "execution_count": 187,
     "metadata": {},
     "output_type": "execute_result"
    },
    {
     "data": {
      "text/plain": [
       "Top nil feature map classification: \tgoldfish, Carassius auratus 14.437012672424\t\n",
       "14.437012672424\t\n",
       "551 is finished\t\n"
      ]
     },
     "execution_count": 187,
     "metadata": {},
     "output_type": "execute_result"
    },
    {
     "data": {
      "text/plain": [
       "Top nil feature map classification: \tgoldfish, Carassius auratus 21.150419235229\t\n",
       "21.150419235229\t\n",
       "552 is finished\t\n"
      ]
     },
     "execution_count": 187,
     "metadata": {},
     "output_type": "execute_result"
    },
    {
     "data": {
      "text/plain": [
       "Top nil feature map classification: \tgoldfish, Carassius auratus 29.120851516724\t\n",
       "29.120851516724\t\n",
       "553 is finished\t\n"
      ]
     },
     "execution_count": 187,
     "metadata": {},
     "output_type": "execute_result"
    },
    {
     "data": {
      "text/plain": [
       "Top nil feature map classification: \tgoldfish, Carassius auratus 19.672225952148\t\n",
       "19.672225952148\t\n",
       "554 is finished\t\n"
      ]
     },
     "execution_count": 187,
     "metadata": {},
     "output_type": "execute_result"
    },
    {
     "data": {
      "text/plain": [
       "Top nil feature map classification: \tgoldfish, Carassius auratus 16.123586654663\t\n",
       "16.123586654663\t\n",
       "555 is finished\t\n"
      ]
     },
     "execution_count": 187,
     "metadata": {},
     "output_type": "execute_result"
    },
    {
     "data": {
      "text/plain": [
       "Top nil feature map classification: \tgoldfish, Carassius auratus 21.016851425171\t\n",
       "21.016851425171\t\n",
       "556 is finished\t\n"
      ]
     },
     "execution_count": 187,
     "metadata": {},
     "output_type": "execute_result"
    },
    {
     "data": {
      "text/plain": [
       "Top nil feature map classification: \tgoldfish, Carassius auratus 20.643484115601\t\n",
       "20.643484115601\t\n",
       "557 is finished\t\n"
      ]
     },
     "execution_count": 187,
     "metadata": {},
     "output_type": "execute_result"
    },
    {
     "data": {
      "text/plain": [
       "Top nil feature map classification: \tgoldfish, Carassius auratus 16.852386474609\t\n",
       "16.852386474609\t\n",
       "558 is finished\t\n"
      ]
     },
     "execution_count": 187,
     "metadata": {},
     "output_type": "execute_result"
    },
    {
     "data": {
      "text/plain": [
       "Top nil feature map classification: \tgoldfish, Carassius auratus 20.956514358521\t\n",
       "20.956514358521\t\n",
       "559 is finished\t\n"
      ]
     },
     "execution_count": 187,
     "metadata": {},
     "output_type": "execute_result"
    },
    {
     "data": {
      "text/plain": [
       "Top nil feature map classification: \tgoldfish, Carassius auratus 19.853296279907\t\n",
       "19.853296279907\t\n",
       "560 is finished\t\n"
      ]
     },
     "execution_count": 187,
     "metadata": {},
     "output_type": "execute_result"
    },
    {
     "data": {
      "text/plain": [
       "Top nil feature map classification: \tgoldfish, Carassius auratus 13.237440109253\t\n",
       "13.237440109253\t\n",
       "561 is finished\t\n"
      ]
     },
     "execution_count": 187,
     "metadata": {},
     "output_type": "execute_result"
    },
    {
     "data": {
      "text/plain": [
       "Top nil feature map classification: \tgoldfish, Carassius auratus 14.451522827148\t\n",
       "14.451522827148\t\n",
       "562 is finished\t\n"
      ]
     },
     "execution_count": 187,
     "metadata": {},
     "output_type": "execute_result"
    },
    {
     "data": {
      "text/plain": [
       "Top nil feature map classification: \tgoldfish, Carassius auratus 22.231678009033\t\n",
       "22.231678009033\t\n",
       "563 is finished\t\n"
      ]
     },
     "execution_count": 187,
     "metadata": {},
     "output_type": "execute_result"
    },
    {
     "data": {
      "text/plain": [
       "Top nil feature map classification: \tgoldfish, Carassius auratus 12.301556587219\t\n",
       "12.301556587219\t\n",
       "564 is finished\t\n"
      ]
     },
     "execution_count": 187,
     "metadata": {},
     "output_type": "execute_result"
    },
    {
     "data": {
      "text/plain": [
       "Top nil feature map classification: \tgoldfish, Carassius auratus 20.552722930908\t\n",
       "20.552722930908\t\n",
       "565 is finished\t\n"
      ]
     },
     "execution_count": 187,
     "metadata": {},
     "output_type": "execute_result"
    },
    {
     "data": {
      "text/plain": [
       "Top nil feature map classification: \tgoldfish, Carassius auratus 14.2416639328\t\n",
       "14.2416639328\t\n",
       "566 is finished\t\n"
      ]
     },
     "execution_count": 187,
     "metadata": {},
     "output_type": "execute_result"
    },
    {
     "data": {
      "text/plain": [
       "Top nil feature map classification: \tgoldfish, Carassius auratus 13.888197898865\t\n",
       "13.888197898865\t\n",
       "567 is finished\t\n"
      ]
     },
     "execution_count": 187,
     "metadata": {},
     "output_type": "execute_result"
    },
    {
     "data": {
      "text/plain": [
       "Top nil feature map classification: \tgoldfish, Carassius auratus 10.372048377991\t\n",
       "10.372048377991\t\n",
       "568 is finished\t\n"
      ]
     },
     "execution_count": 187,
     "metadata": {},
     "output_type": "execute_result"
    },
    {
     "data": {
      "text/plain": [
       "Top nil feature map classification: \tgoldfish, Carassius auratus 19.091655731201\t\n",
       "19.091655731201\t\n",
       "569 is finished\t\n"
      ]
     },
     "execution_count": 187,
     "metadata": {},
     "output_type": "execute_result"
    },
    {
     "data": {
      "text/plain": [
       "Top nil feature map classification: \tgoldfish, Carassius auratus 14.528073310852\t\n",
       "14.528073310852\t\n",
       "570 is finished\t\n"
      ]
     },
     "execution_count": 187,
     "metadata": {},
     "output_type": "execute_result"
    },
    {
     "data": {
      "text/plain": [
       "Top nil feature map classification: \tgoldfish, Carassius auratus 13.980874061584\t\n",
       "13.980874061584\t\n",
       "571 is finished\t\n"
      ]
     },
     "execution_count": 187,
     "metadata": {},
     "output_type": "execute_result"
    },
    {
     "data": {
      "text/plain": [
       "Top nil feature map classification: \tanemone fish 16.632354736328\t\n",
       "14.455079078674\t\n",
       "572 is finished\t\n"
      ]
     },
     "execution_count": 187,
     "metadata": {},
     "output_type": "execute_result"
    },
    {
     "data": {
      "text/plain": [
       "Top nil feature map classification: \tgoldfish, Carassius auratus 16.565393447876\t\n",
       "16.565393447876\t\n",
       "573 is finished\t\n"
      ]
     },
     "execution_count": 187,
     "metadata": {},
     "output_type": "execute_result"
    },
    {
     "data": {
      "text/plain": [
       "Top nil feature map classification: \tgoldfish, Carassius auratus 20.777160644531\t\n",
       "20.777160644531\t\n",
       "574 is finished\t\n"
      ]
     },
     "execution_count": 187,
     "metadata": {},
     "output_type": "execute_result"
    },
    {
     "data": {
      "text/plain": [
       "Top nil feature map classification: \tgoldfish, Carassius auratus 15.338496208191\t\n",
       "15.338496208191\t\n",
       "575 is finished\t\n"
      ]
     },
     "execution_count": 187,
     "metadata": {},
     "output_type": "execute_result"
    },
    {
     "data": {
      "text/plain": [
       "Top nil feature map classification: \tgoldfish, Carassius auratus 9.3880615234375\t\n",
       "9.3880615234375\t\n",
       "576 is finished\t\n"
      ]
     },
     "execution_count": 187,
     "metadata": {},
     "output_type": "execute_result"
    },
    {
     "data": {
      "text/plain": [
       "Top nil feature map classification: \tgoldfish, Carassius auratus 14.857675552368\t\n",
       "14.857675552368\t\n",
       "577 is finished\t\n"
      ]
     },
     "execution_count": 187,
     "metadata": {},
     "output_type": "execute_result"
    },
    {
     "data": {
      "text/plain": [
       "Top nil feature map classification: \tgoldfish, Carassius auratus 12.762528419495\t\n",
       "12.762528419495\t\n",
       "578 is finished\t\n"
      ]
     },
     "execution_count": 187,
     "metadata": {},
     "output_type": "execute_result"
    },
    {
     "data": {
      "text/plain": [
       "Top nil feature map classification: \tgoldfish, Carassius auratus 20.220436096191\t\n",
       "20.220436096191\t\n",
       "579 is finished\t\n"
      ]
     },
     "execution_count": 187,
     "metadata": {},
     "output_type": "execute_result"
    },
    {
     "data": {
      "text/plain": [
       "Top nil feature map classification: \tgoldfish, Carassius auratus 13.669661521912\t\n",
       "13.669661521912\t\n",
       "580 is finished\t\n"
      ]
     },
     "execution_count": 187,
     "metadata": {},
     "output_type": "execute_result"
    },
    {
     "data": {
      "text/plain": [
       "Top nil feature map classification: \tgoldfish, Carassius auratus 25.12944984436\t\n",
       "25.12944984436\t\n",
       "581 is finished\t\n"
      ]
     },
     "execution_count": 187,
     "metadata": {},
     "output_type": "execute_result"
    },
    {
     "data": {
      "text/plain": [
       "Top nil feature map classification: \tgoldfish, Carassius auratus 18.936670303345\t\n",
       "18.936670303345\t\n",
       "582 is finished\t\n"
      ]
     },
     "execution_count": 187,
     "metadata": {},
     "output_type": "execute_result"
    },
    {
     "data": {
      "text/plain": [
       "Top nil feature map classification: \tanemone fish 13.64085483551\t\n",
       "8.9080600738525\t\n",
       "583 is finished\t\n"
      ]
     },
     "execution_count": 187,
     "metadata": {},
     "output_type": "execute_result"
    },
    {
     "data": {
      "text/plain": [
       "Top nil feature map classification: \tgoldfish, Carassius auratus 12.296750068665\t\n",
       "12.296750068665\t\n",
       "584 is finished\t\n"
      ]
     },
     "execution_count": 187,
     "metadata": {},
     "output_type": "execute_result"
    },
    {
     "data": {
      "text/plain": [
       "Top nil feature map classification: \tgoldfish, Carassius auratus 15.405130386353\t\n",
       "15.405130386353\t\n",
       "585 is finished\t\n"
      ]
     },
     "execution_count": 187,
     "metadata": {},
     "output_type": "execute_result"
    },
    {
     "data": {
      "text/plain": [
       "Top nil feature map classification: \tgoldfish, Carassius auratus 17.840847015381\t\n",
       "17.840847015381\t\n",
       "586 is finished\t\n"
      ]
     },
     "execution_count": 187,
     "metadata": {},
     "output_type": "execute_result"
    },
    {
     "data": {
      "text/plain": [
       "Top nil feature map classification: \tgoldfish, Carassius auratus 10.976594924927\t\n",
       "10.976594924927\t\n",
       "587 is finished\t\n"
      ]
     },
     "execution_count": 187,
     "metadata": {},
     "output_type": "execute_result"
    },
    {
     "data": {
      "text/plain": [
       "Top nil feature map classification: \tbee 9.3190870285034\t\n",
       "7.897036075592\t\n",
       "588 is finished\t\n"
      ]
     },
     "execution_count": 187,
     "metadata": {},
     "output_type": "execute_result"
    },
    {
     "data": {
      "text/plain": [
       "Top nil feature map classification: \tgoldfish, Carassius auratus 30.226102828979\t\n",
       "30.226102828979\t\n",
       "589 is finished\t\n"
      ]
     },
     "execution_count": 187,
     "metadata": {},
     "output_type": "execute_result"
    },
    {
     "data": {
      "text/plain": [
       "Top nil feature map classification: \tgoldfish, Carassius auratus 12.46773147583\t\n",
       "12.46773147583\t\n",
       "590 is finished\t\n"
      ]
     },
     "execution_count": 187,
     "metadata": {},
     "output_type": "execute_result"
    },
    {
     "data": {
      "text/plain": [
       "Top nil feature map classification: \tparking meter 7.0346307754517\t\n",
       "5.6550335884094\t\n",
       "591 is finished\t\n"
      ]
     },
     "execution_count": 187,
     "metadata": {},
     "output_type": "execute_result"
    },
    {
     "data": {
      "text/plain": [
       "Top nil feature map classification: \tgoldfish, Carassius auratus 18.844181060791\t\n",
       "18.844181060791\t\n",
       "592 is finished\t\n"
      ]
     },
     "execution_count": 187,
     "metadata": {},
     "output_type": "execute_result"
    },
    {
     "data": {
      "text/plain": [
       "Top nil feature map classification: \tgoldfish, Carassius auratus 12.750335693359\t\n",
       "12.750335693359\t\n",
       "593 is finished\t\n"
      ]
     },
     "execution_count": 187,
     "metadata": {},
     "output_type": "execute_result"
    },
    {
     "data": {
      "text/plain": [
       "Top nil feature map classification: \tgoldfish, Carassius auratus 11.308870315552\t\n",
       "11.308870315552\t\n",
       "594 is finished\t\n"
      ]
     },
     "execution_count": 187,
     "metadata": {},
     "output_type": "execute_result"
    },
    {
     "data": {
      "text/plain": [
       "Top nil feature map classification: \tgoldfish, Carassius auratus 22.419689178467\t\n",
       "22.419689178467\t\n",
       "595 is finished\t\n"
      ]
     },
     "execution_count": 187,
     "metadata": {},
     "output_type": "execute_result"
    },
    {
     "data": {
      "text/plain": [
       "Top nil feature map classification: \tgoldfish, Carassius auratus 10.302525520325\t\n",
       "10.302525520325\t\n",
       "596 is finished\t\n"
      ]
     },
     "execution_count": 187,
     "metadata": {},
     "output_type": "execute_result"
    },
    {
     "data": {
      "text/plain": [
       "Top nil feature map classification: \tChristmas stocking 8.9131574630737\t\n",
       "7.0479888916016\t\n",
       "597 is finished\t\n"
      ]
     },
     "execution_count": 187,
     "metadata": {},
     "output_type": "execute_result"
    },
    {
     "data": {
      "text/plain": [
       "Top nil feature map classification: \tgoldfish, Carassius auratus 20.897687911987\t\n",
       "20.897687911987\t\n",
       "598 is finished\t\n"
      ]
     },
     "execution_count": 187,
     "metadata": {},
     "output_type": "execute_result"
    },
    {
     "data": {
      "text/plain": [
       "Top nil feature map classification: \tgoldfish, Carassius auratus 18.094329833984\t\n",
       "18.094329833984\t\n",
       "599 is finished\t\n"
      ]
     },
     "execution_count": 187,
     "metadata": {},
     "output_type": "execute_result"
    },
    {
     "data": {
      "text/plain": [
       "Top nil feature map classification: \tgoldfish, Carassius auratus 18.203319549561\t\n",
       "18.203319549561\t\n",
       "600 is finished\t\n"
      ]
     },
     "execution_count": 187,
     "metadata": {},
     "output_type": "execute_result"
    },
    {
     "data": {
      "text/plain": [
       "Top nil feature map classification: \tgoldfish, Carassius auratus 16.266735076904\t\n",
       "16.266735076904\t\n",
       "601 is finished\t\n"
      ]
     },
     "execution_count": 187,
     "metadata": {},
     "output_type": "execute_result"
    },
    {
     "data": {
      "text/plain": [
       "Top nil feature map classification: \tgoldfish, Carassius auratus 28.153072357178\t\n",
       "28.153072357178\t\n",
       "602 is finished\t\n"
      ]
     },
     "execution_count": 187,
     "metadata": {},
     "output_type": "execute_result"
    },
    {
     "data": {
      "text/plain": [
       "Top nil feature map classification: \tgoldfish, Carassius auratus 31.98802947998\t\n",
       "31.98802947998\t\n",
       "603 is finished\t\n"
      ]
     },
     "execution_count": 187,
     "metadata": {},
     "output_type": "execute_result"
    },
    {
     "data": {
      "text/plain": [
       "Top nil feature map classification: \tgoldfish, Carassius auratus 23.502857208252\t\n",
       "23.502857208252\t\n",
       "604 is finished\t\n"
      ]
     },
     "execution_count": 187,
     "metadata": {},
     "output_type": "execute_result"
    },
    {
     "data": {
      "text/plain": [
       "Top nil feature map classification: \tgoldfish, Carassius auratus 22.814544677734\t\n",
       "22.814544677734\t\n",
       "605 is finished\t\n"
      ]
     },
     "execution_count": 187,
     "metadata": {},
     "output_type": "execute_result"
    },
    {
     "data": {
      "text/plain": [
       "Top nil feature map classification: \tcrayfish, crawfish, crawdad, crawdaddy 16.261249542236\t\n",
       "9.9506874084473\t\n",
       "606 is finished\t\n"
      ]
     },
     "execution_count": 187,
     "metadata": {},
     "output_type": "execute_result"
    },
    {
     "data": {
      "text/plain": [
       "Top nil feature map classification: \tgoldfish, Carassius auratus 19.608306884766\t\n",
       "19.608306884766\t\n",
       "607 is finished\t\n"
      ]
     },
     "execution_count": 187,
     "metadata": {},
     "output_type": "execute_result"
    },
    {
     "data": {
      "text/plain": [
       "Top nil feature map classification: \tgoldfish, Carassius auratus 15.537719726562\t\n",
       "15.537719726562\t\n",
       "608 is finished\t\n"
      ]
     },
     "execution_count": 187,
     "metadata": {},
     "output_type": "execute_result"
    },
    {
     "data": {
      "text/plain": [
       "Top nil feature map classification: \tgoldfish, Carassius auratus 12.392745018005\t\n",
       "12.392745018005\t\n",
       "609 is finished\t\n"
      ]
     },
     "execution_count": 187,
     "metadata": {},
     "output_type": "execute_result"
    },
    {
     "data": {
      "text/plain": [
       "Top nil feature map classification: \tgoldfish, Carassius auratus 25.11399269104\t\n",
       "25.11399269104\t\n",
       "610 is finished\t\n"
      ]
     },
     "execution_count": 187,
     "metadata": {},
     "output_type": "execute_result"
    },
    {
     "data": {
      "text/plain": [
       "Top nil feature map classification: \tgoldfish, Carassius auratus 19.332244873047\t\n",
       "19.332244873047\t\n",
       "611 is finished\t\n"
      ]
     },
     "execution_count": 187,
     "metadata": {},
     "output_type": "execute_result"
    },
    {
     "data": {
      "text/plain": [
       "Top nil feature map classification: \tgoldfish, Carassius auratus 8.9492454528809\t\n",
       "8.9492454528809\t\n",
       "612 is finished\t\n"
      ]
     },
     "execution_count": 187,
     "metadata": {},
     "output_type": "execute_result"
    },
    {
     "data": {
      "text/plain": [
       "Top nil feature map classification: \tgoldfish, Carassius auratus 15.553855895996\t\n",
       "15.553855895996\t\n",
       "613 is finished\t\n"
      ]
     },
     "execution_count": 187,
     "metadata": {},
     "output_type": "execute_result"
    },
    {
     "data": {
      "text/plain": [
       "Top nil feature map classification: \tgoldfish, Carassius auratus 10.30121421814\t\n",
       "10.30121421814\t\n",
       "614 is finished\t\n"
      ]
     },
     "execution_count": 187,
     "metadata": {},
     "output_type": "execute_result"
    },
    {
     "data": {
      "text/plain": [
       "Top nil feature map classification: \tanemone fish 17.695322036743\t\n",
       "15.829169273376\t\n",
       "615 is finished\t\n"
      ]
     },
     "execution_count": 187,
     "metadata": {},
     "output_type": "execute_result"
    },
    {
     "data": {
      "text/plain": [
       "Top nil feature map classification: \tgoldfish, Carassius auratus 12.665977478027\t\n",
       "12.665977478027\t\n",
       "616 is finished\t\n"
      ]
     },
     "execution_count": 187,
     "metadata": {},
     "output_type": "execute_result"
    },
    {
     "data": {
      "text/plain": [
       "Top nil feature map classification: \tgoldfish, Carassius auratus 20.36563873291\t\n",
       "20.36563873291\t\n",
       "617 is finished\t\n"
      ]
     },
     "execution_count": 187,
     "metadata": {},
     "output_type": "execute_result"
    },
    {
     "data": {
      "text/plain": [
       "Top nil feature map classification: \tgoldfish, Carassius auratus 15.348490715027\t\n",
       "15.348490715027\t\n",
       "618 is finished\t\n"
      ]
     },
     "execution_count": 187,
     "metadata": {},
     "output_type": "execute_result"
    },
    {
     "data": {
      "text/plain": [
       "Top nil feature map classification: \tgoldfish, Carassius auratus 12.174523353577\t\n",
       "12.174523353577\t\n",
       "619 is finished\t\n"
      ]
     },
     "execution_count": 187,
     "metadata": {},
     "output_type": "execute_result"
    },
    {
     "data": {
      "text/plain": [
       "Top nil feature map classification: \tgoldfish, Carassius auratus 14.705554008484\t\n",
       "14.705554008484\t\n",
       "620 is finished\t\n"
      ]
     },
     "execution_count": 187,
     "metadata": {},
     "output_type": "execute_result"
    },
    {
     "data": {
      "text/plain": [
       "Top nil feature map classification: \tgoldfish, Carassius auratus 12.129280090332\t\n",
       "12.129280090332\t\n",
       "621 is finished\t\n"
      ]
     },
     "execution_count": 187,
     "metadata": {},
     "output_type": "execute_result"
    },
    {
     "data": {
      "text/plain": [
       "Top nil feature map classification: \tgoldfish, Carassius auratus 17.277841567993\t"
      ]
     },
     "execution_count": 187,
     "metadata": {},
     "output_type": "execute_result"
    },
    {
     "data": {
      "text/plain": [
       "\n",
       "17.277841567993\t\n",
       "622 is finished\t\n"
      ]
     },
     "execution_count": 187,
     "metadata": {},
     "output_type": "execute_result"
    },
    {
     "data": {
      "text/plain": [
       "Top nil feature map classification: \tgoldfish, Carassius auratus 24.097942352295\t\n",
       "24.097942352295\t\n",
       "623 is finished\t\n"
      ]
     },
     "execution_count": 187,
     "metadata": {},
     "output_type": "execute_result"
    },
    {
     "data": {
      "text/plain": [
       "Top nil feature map classification: \tgoldfish, Carassius auratus 15.655968666077\t\n",
       "15.655968666077\t\n",
       "624 is finished\t\n"
      ]
     },
     "execution_count": 187,
     "metadata": {},
     "output_type": "execute_result"
    },
    {
     "data": {
      "text/plain": [
       "Top nil feature map classification: \tgoldfish, Carassius auratus 20.9937915802\t\n",
       "20.9937915802\t\n",
       "625 is finished\t\n"
      ]
     },
     "execution_count": 187,
     "metadata": {},
     "output_type": "execute_result"
    },
    {
     "data": {
      "text/plain": [
       "Top nil feature map classification: \tgoldfish, Carassius auratus 11.857058525085\t\n",
       "11.857058525085\t\n",
       "626 is finished\t\n"
      ]
     },
     "execution_count": 187,
     "metadata": {},
     "output_type": "execute_result"
    },
    {
     "data": {
      "text/plain": [
       "Top nil feature map classification: \tshoe shop, shoe-shop, shoe store 9.8752489089966\t\n",
       "5.5044369697571\t\n",
       "627 is finished\t\n"
      ]
     },
     "execution_count": 187,
     "metadata": {},
     "output_type": "execute_result"
    },
    {
     "data": {
      "text/plain": [
       "Top nil feature map classification: \tgoldfish, Carassius auratus 18.236166000366\t\n",
       "18.236166000366\t\n",
       "628 is finished\t\n"
      ]
     },
     "execution_count": 187,
     "metadata": {},
     "output_type": "execute_result"
    },
    {
     "data": {
      "text/plain": [
       "Top nil feature map classification: \tgoldfish, Carassius auratus 17.917688369751\t\n",
       "17.917688369751\t\n",
       "629 is finished\t\n"
      ]
     },
     "execution_count": 187,
     "metadata": {},
     "output_type": "execute_result"
    },
    {
     "data": {
      "text/plain": [
       "Top nil feature map classification: \tgoldfish, Carassius auratus 18.991760253906\t\n",
       "18.991760253906\t\n",
       "630 is finished\t\n"
      ]
     },
     "execution_count": 187,
     "metadata": {},
     "output_type": "execute_result"
    },
    {
     "data": {
      "text/plain": [
       "Top nil feature map classification: \tlorikeet 13.814628601074\t\n",
       "11.987682342529\t\n",
       "631 is finished\t\n"
      ]
     },
     "execution_count": 187,
     "metadata": {},
     "output_type": "execute_result"
    },
    {
     "data": {
      "text/plain": [
       "Top nil feature map classification: \tgoldfish, Carassius auratus 12.629988670349\t\n",
       "12.629988670349\t\n",
       "632 is finished\t\n"
      ]
     },
     "execution_count": 187,
     "metadata": {},
     "output_type": "execute_result"
    },
    {
     "data": {
      "text/plain": [
       "Top nil feature map classification: \tgoldfish, Carassius auratus 20.113079071045\t\n",
       "20.113079071045\t\n",
       "633 is finished\t\n"
      ]
     },
     "execution_count": 187,
     "metadata": {},
     "output_type": "execute_result"
    },
    {
     "data": {
      "text/plain": [
       "Top nil feature map classification: \tgoldfish, Carassius auratus 13.400282859802\t\n",
       "13.400282859802\t\n",
       "634 is finished\t\n"
      ]
     },
     "execution_count": 187,
     "metadata": {},
     "output_type": "execute_result"
    },
    {
     "data": {
      "text/plain": [
       "Top nil feature map classification: \tgoldfish, Carassius auratus 28.420448303223\t\n",
       "28.420448303223\t\n",
       "635 is finished\t\n"
      ]
     },
     "execution_count": 187,
     "metadata": {},
     "output_type": "execute_result"
    },
    {
     "data": {
      "text/plain": [
       "Top nil feature map classification: \tgoldfish, Carassius auratus 14.030628204346\t\n",
       "14.030628204346\t\n",
       "636 is finished\t\n"
      ]
     },
     "execution_count": 187,
     "metadata": {},
     "output_type": "execute_result"
    },
    {
     "data": {
      "text/plain": [
       "Top nil feature map classification: \tgoldfish, Carassius auratus 15.66806602478\t\n",
       "15.66806602478\t\n",
       "637 is finished\t\n"
      ]
     },
     "execution_count": 187,
     "metadata": {},
     "output_type": "execute_result"
    },
    {
     "data": {
      "text/plain": [
       "Top nil feature map classification: \tgoldfish, Carassius auratus 24.165296554565\t\n",
       "24.165296554565\t\n",
       "638 is finished\t\n"
      ]
     },
     "execution_count": 187,
     "metadata": {},
     "output_type": "execute_result"
    },
    {
     "data": {
      "text/plain": [
       "Top nil feature map classification: \tgoldfish, Carassius auratus 31.525093078613\t\n",
       "31.525093078613\t\n",
       "639 is finished\t\n"
      ]
     },
     "execution_count": 187,
     "metadata": {},
     "output_type": "execute_result"
    },
    {
     "data": {
      "text/plain": [
       "Top nil feature map classification: \tgoldfish, Carassius auratus 12.707220077515\t\n",
       "12.707220077515\t\n",
       "640 is finished\t\n"
      ]
     },
     "execution_count": 187,
     "metadata": {},
     "output_type": "execute_result"
    },
    {
     "data": {
      "text/plain": [
       "Top nil feature map classification: \tgoldfish, Carassius auratus 22.822881698608\t\n",
       "22.822881698608\t\n",
       "641 is finished\t\n"
      ]
     },
     "execution_count": 187,
     "metadata": {},
     "output_type": "execute_result"
    },
    {
     "data": {
      "text/plain": [
       "Top nil feature map classification: \tgoldfish, Carassius auratus 14.435585021973\t\n",
       "14.435585021973\t\n",
       "642 is finished\t\n"
      ]
     },
     "execution_count": 187,
     "metadata": {},
     "output_type": "execute_result"
    },
    {
     "data": {
      "text/plain": [
       "Top nil feature map classification: \tladybug, ladybeetle, lady beetle, ladybird, ladybird beetle 9.6298122406006\t\n",
       "8.7613534927368\t\n",
       "643 is finished\t\n"
      ]
     },
     "execution_count": 187,
     "metadata": {},
     "output_type": "execute_result"
    },
    {
     "data": {
      "text/plain": [
       "Top nil feature map classification: \tgoblet 12.436161994934\t\n",
       "5.8386330604553\t\n",
       "644 is finished\t\n"
      ]
     },
     "execution_count": 187,
     "metadata": {},
     "output_type": "execute_result"
    },
    {
     "data": {
      "text/plain": [
       "Top nil feature map classification: \tgoldfish, Carassius auratus 19.936332702637\t\n",
       "19.936332702637\t\n",
       "645 is finished\t\n"
      ]
     },
     "execution_count": 187,
     "metadata": {},
     "output_type": "execute_result"
    },
    {
     "data": {
      "text/plain": [
       "Top nil feature map classification: \tgoldfish, Carassius auratus 14.879096984863\t\n",
       "14.879096984863\t\n",
       "646 is finished\t\n"
      ]
     },
     "execution_count": 187,
     "metadata": {},
     "output_type": "execute_result"
    },
    {
     "data": {
      "text/plain": [
       "Top nil feature map classification: \tgoldfish, Carassius auratus 18.152948379517\t\n",
       "18.152948379517\t\n",
       "647 is finished\t\n"
      ]
     },
     "execution_count": 187,
     "metadata": {},
     "output_type": "execute_result"
    },
    {
     "data": {
      "text/plain": [
       "Top nil feature map classification: \tsea slug, nudibranch 14.420969009399\t\n",
       "14.250166893005\t\n",
       "648 is finished\t\n"
      ]
     },
     "execution_count": 187,
     "metadata": {},
     "output_type": "execute_result"
    },
    {
     "data": {
      "text/plain": [
       "Top nil feature map classification: \tgoldfish, Carassius auratus 16.312168121338\t\n",
       "16.312168121338\t\n",
       "649 is finished\t\n"
      ]
     },
     "execution_count": 187,
     "metadata": {},
     "output_type": "execute_result"
    },
    {
     "data": {
      "text/plain": [
       "Top nil feature map classification: \tgoldfish, Carassius auratus 15.937302589417\t\n",
       "15.937302589417\t\n",
       "650 is finished\t\n"
      ]
     },
     "execution_count": 187,
     "metadata": {},
     "output_type": "execute_result"
    },
    {
     "data": {
      "text/plain": [
       "Top nil feature map classification: \tgoldfish, Carassius auratus 16.280891418457\t\n",
       "16.280891418457\t\n",
       "651 is finished\t\n"
      ]
     },
     "execution_count": 187,
     "metadata": {},
     "output_type": "execute_result"
    },
    {
     "data": {
      "text/plain": [
       "Top nil feature map classification: \tgoldfish, Carassius auratus 15.363315582275\t\n",
       "15.363315582275\t\n",
       "652 is finished\t\n"
      ]
     },
     "execution_count": 187,
     "metadata": {},
     "output_type": "execute_result"
    },
    {
     "data": {
      "text/plain": [
       "Top nil feature map classification: \tgoldfish, Carassius auratus 30.132808685303\t\n",
       "30.132808685303\t\n",
       "653 is finished\t\n"
      ]
     },
     "execution_count": 187,
     "metadata": {},
     "output_type": "execute_result"
    },
    {
     "data": {
      "text/plain": [
       "Top nil feature map classification: \tgoldfish, Carassius auratus 19.461576461792\t\n",
       "19.461576461792\t\n",
       "654 is finished\t\n"
      ]
     },
     "execution_count": 187,
     "metadata": {},
     "output_type": "execute_result"
    },
    {
     "data": {
      "text/plain": [
       "Top nil feature map classification: \tgoldfish, Carassius auratus 16.72642326355\t\n",
       "16.72642326355\t\n",
       "655 is finished\t\n"
      ]
     },
     "execution_count": 187,
     "metadata": {},
     "output_type": "execute_result"
    },
    {
     "data": {
      "text/plain": [
       "Top nil feature map classification: \tgoldfish, Carassius auratus 16.57479095459\t\n",
       "16.57479095459\t\n",
       "656 is finished\t\n"
      ]
     },
     "execution_count": 187,
     "metadata": {},
     "output_type": "execute_result"
    },
    {
     "data": {
      "text/plain": [
       "Top nil feature map classification: \tgoldfish, Carassius auratus 16.915788650513\t\n",
       "16.915788650513\t\n",
       "657 is finished\t\n"
      ]
     },
     "execution_count": 187,
     "metadata": {},
     "output_type": "execute_result"
    },
    {
     "data": {
      "text/plain": [
       "Top nil feature map classification: \tgoldfish, Carassius auratus 13.032816886902\t\n",
       "13.032816886902\t\n",
       "658 is finished\t\n"
      ]
     },
     "execution_count": 187,
     "metadata": {},
     "output_type": "execute_result"
    },
    {
     "data": {
      "text/plain": [
       "Top nil feature map classification: \tgoldfish, Carassius auratus 16.599601745605\t\n",
       "16.599601745605\t\n",
       "659 is finished\t\n"
      ]
     },
     "execution_count": 187,
     "metadata": {},
     "output_type": "execute_result"
    },
    {
     "data": {
      "text/plain": [
       "Top nil feature map classification: \tgoldfish, Carassius auratus 10.965584754944\t\n",
       "10.965584754944\t\n",
       "660 is finished\t\n"
      ]
     },
     "execution_count": 187,
     "metadata": {},
     "output_type": "execute_result"
    },
    {
     "data": {
      "text/plain": [
       "Top nil feature map classification: \tgoldfish, Carassius auratus 17.024684906006\t\n",
       "17.024684906006\t\n",
       "661 is finished\t\n"
      ]
     },
     "execution_count": 187,
     "metadata": {},
     "output_type": "execute_result"
    },
    {
     "data": {
      "text/plain": [
       "Top nil feature map classification: \tgoldfish, Carassius auratus 15.568503379822\t\n",
       "15.568503379822\t\n",
       "662 is finished\t\n"
      ]
     },
     "execution_count": 187,
     "metadata": {},
     "output_type": "execute_result"
    },
    {
     "data": {
      "text/plain": [
       "Top nil feature map classification: \tgoldfish, Carassius auratus 14.239714622498\t\n",
       "14.239714622498\t\n",
       "663 is finished\t\n"
      ]
     },
     "execution_count": 187,
     "metadata": {},
     "output_type": "execute_result"
    },
    {
     "data": {
      "text/plain": [
       "Top nil feature map classification: \tgoldfish, Carassius auratus 12.287896156311\t\n",
       "12.287896156311\t\n",
       "664 is finished\t\n"
      ]
     },
     "execution_count": 187,
     "metadata": {},
     "output_type": "execute_result"
    },
    {
     "data": {
      "text/plain": [
       "Top nil feature map classification: \ttorch 9.6755924224854\t\n",
       "2.3824622631073\t\n",
       "665 is finished\t\n"
      ]
     },
     "execution_count": 187,
     "metadata": {},
     "output_type": "execute_result"
    },
    {
     "data": {
      "text/plain": [
       "Top nil feature map classification: \tgoldfish, Carassius auratus 8.4726648330688\t\n",
       "8.4726648330688\t\n",
       "666 is finished\t\n"
      ]
     },
     "execution_count": 187,
     "metadata": {},
     "output_type": "execute_result"
    },
    {
     "data": {
      "text/plain": [
       "Top nil feature map classification: \tgoldfish, Carassius auratus 21.713607788086\t\n",
       "21.713607788086\t\n",
       "667 is finished\t\n"
      ]
     },
     "execution_count": 187,
     "metadata": {},
     "output_type": "execute_result"
    },
    {
     "data": {
      "text/plain": [
       "Top nil feature map classification: \tgoldfish, Carassius auratus 10.789921760559\t\n",
       "10.789921760559\t\n",
       "668 is finished\t\n"
      ]
     },
     "execution_count": 187,
     "metadata": {},
     "output_type": "execute_result"
    },
    {
     "data": {
      "text/plain": [
       "Top nil feature map classification: \tgoldfish, Carassius auratus 16.936666488647\t\n",
       "16.936666488647\t\n",
       "669 is finished\t\n"
      ]
     },
     "execution_count": 187,
     "metadata": {},
     "output_type": "execute_result"
    },
    {
     "data": {
      "text/plain": [
       "Top nil feature map classification: \tgoldfish, Carassius auratus 16.6519947052\t\n",
       "16.6519947052\t\n",
       "670 is finished\t\n"
      ]
     },
     "execution_count": 187,
     "metadata": {},
     "output_type": "execute_result"
    },
    {
     "data": {
      "text/plain": [
       "Top nil feature map classification: \tgoldfish, Carassius auratus 25.065559387207\t\n",
       "25.065559387207\t\n",
       "671 is finished\t\n"
      ]
     },
     "execution_count": 187,
     "metadata": {},
     "output_type": "execute_result"
    },
    {
     "data": {
      "text/plain": [
       "Top nil feature map classification: \tgoldfish, Carassius auratus 14.507090568542\t\n",
       "14.507090568542\t\n",
       "672 is finished\t\n"
      ]
     },
     "execution_count": 187,
     "metadata": {},
     "output_type": "execute_result"
    },
    {
     "data": {
      "text/plain": [
       "Top nil feature map classification: \tgoldfish, Carassius auratus 13.746762275696\t\n",
       "13.746762275696\t\n",
       "673 is finished\t\n"
      ]
     },
     "execution_count": 187,
     "metadata": {},
     "output_type": "execute_result"
    },
    {
     "data": {
      "text/plain": [
       "Top nil feature map classification: \ttorch 8.527229309082\t\n",
       "3.7153298854828\t\n",
       "674 is finished\t\n"
      ]
     },
     "execution_count": 187,
     "metadata": {},
     "output_type": "execute_result"
    },
    {
     "data": {
      "text/plain": [
       "Top nil feature map classification: \tgoldfish, Carassius auratus 15.474820137024\t\n",
       "15.474820137024\t\n",
       "675 is finished\t\n"
      ]
     },
     "execution_count": 187,
     "metadata": {},
     "output_type": "execute_result"
    },
    {
     "data": {
      "text/plain": [
       "Top nil feature map classification: \tgoldfish, Carassius auratus 21.139423370361\t\n",
       "21.139423370361\t\n",
       "676 is finished\t\n"
      ]
     },
     "execution_count": 187,
     "metadata": {},
     "output_type": "execute_result"
    },
    {
     "data": {
      "text/plain": [
       "Top nil feature map classification: \tgoldfish, Carassius auratus 22.084121704102\t\n",
       "22.084121704102\t\n",
       "677 is finished\t\n"
      ]
     },
     "execution_count": 187,
     "metadata": {},
     "output_type": "execute_result"
    },
    {
     "data": {
      "text/plain": [
       "Top nil feature map classification: \tgoldfish, Carassius auratus 16.941581726074\t\n",
       "16.941581726074\t\n",
       "678 is finished\t\n"
      ]
     },
     "execution_count": 187,
     "metadata": {},
     "output_type": "execute_result"
    },
    {
     "data": {
      "text/plain": [
       "Top nil feature map classification: \tgoldfish, Carassius auratus 9.8782634735107\t\n",
       "9.8782634735107\t\n",
       "679 is finished\t\n"
      ]
     },
     "execution_count": 187,
     "metadata": {},
     "output_type": "execute_result"
    },
    {
     "data": {
      "text/plain": [
       "Top nil feature map classification: \tgoldfish, Carassius auratus 20.14377784729\t\n",
       "20.14377784729\t\n",
       "680 is finished\t\n"
      ]
     },
     "execution_count": 187,
     "metadata": {},
     "output_type": "execute_result"
    },
    {
     "data": {
      "text/plain": [
       "Top nil feature map classification: \tgoldfish, Carassius auratus 17.166158676147\t\n",
       "17.166158676147\t\n",
       "681 is finished\t\n"
      ]
     },
     "execution_count": 187,
     "metadata": {},
     "output_type": "execute_result"
    },
    {
     "data": {
      "text/plain": [
       "Top nil feature map classification: \tsea slug, nudibranch 15.715449333191\t\n",
       "13.627725601196\t\n",
       "682 is finished\t\n"
      ]
     },
     "execution_count": 187,
     "metadata": {},
     "output_type": "execute_result"
    },
    {
     "data": {
      "text/plain": [
       "Top nil feature map classification: \tgoldfish, Carassius auratus 29.586874008179\t\n",
       "29.586874008179\t\n",
       "683 is finished\t\n"
      ]
     },
     "execution_count": 187,
     "metadata": {},
     "output_type": "execute_result"
    },
    {
     "data": {
      "text/plain": [
       "Top nil feature map classification: \tgoldfish, Carassius auratus 10.739011764526\t\n",
       "10.739011764526\t\n",
       "684 is finished\t\n"
      ]
     },
     "execution_count": 187,
     "metadata": {},
     "output_type": "execute_result"
    },
    {
     "data": {
      "text/plain": [
       "Top nil feature map classification: \tgoldfish, Carassius auratus 17.214046478271\t\n",
       "17.214046478271\t\n",
       "685 is finished\t\n"
      ]
     },
     "execution_count": 187,
     "metadata": {},
     "output_type": "execute_result"
    },
    {
     "data": {
      "text/plain": [
       "Top nil feature map classification: \tgoldfish, Carassius auratus 8.7217121124268\t\n",
       "8.7217121124268\t\n",
       "686 is finished\t\n"
      ]
     },
     "execution_count": 187,
     "metadata": {},
     "output_type": "execute_result"
    },
    {
     "data": {
      "text/plain": [
       "Top nil feature map classification: \tshower curtain 10.087314605713\t\n",
       "9.6891822814941\t\n",
       "687 is finished\t\n"
      ]
     },
     "execution_count": 187,
     "metadata": {},
     "output_type": "execute_result"
    },
    {
     "data": {
      "text/plain": [
       "Top nil feature map classification: \tgoldfish, Carassius auratus 27.224187850952\t\n",
       "27.224187850952\t\n",
       "688 is finished\t\n"
      ]
     },
     "execution_count": 187,
     "metadata": {},
     "output_type": "execute_result"
    },
    {
     "data": {
      "text/plain": [
       "Top nil feature map classification: \tgoldfish, Carassius auratus 13.513249397278\t\n",
       "13.513249397278\t\n",
       "689 is finished\t\n"
      ]
     },
     "execution_count": 187,
     "metadata": {},
     "output_type": "execute_result"
    },
    {
     "data": {
      "text/plain": [
       "Top nil feature map classification: \trefrigerator, icebox 7.8127360343933\t\n",
       "6.1987452507019\t\n",
       "690 is finished\t\n"
      ]
     },
     "execution_count": 187,
     "metadata": {},
     "output_type": "execute_result"
    },
    {
     "data": {
      "text/plain": [
       "Top nil feature map classification: \tcockroach, roach 5.633505821228\t\n",
       "4.2097244262695\t\n",
       "691 is finished\t\n"
      ]
     },
     "execution_count": 187,
     "metadata": {},
     "output_type": "execute_result"
    },
    {
     "data": {
      "text/plain": [
       "Top nil feature map classification: \tgoldfish, Carassius auratus 13.600826263428\t\n",
       "13.600826263428\t\n",
       "692 is finished\t\n"
      ]
     },
     "execution_count": 187,
     "metadata": {},
     "output_type": "execute_result"
    },
    {
     "data": {
      "text/plain": [
       "Top nil feature map classification: \tgoldfish, Carassius auratus 21.342403411865\t\n",
       "21.342403411865\t\n",
       "693 is finished\t\n"
      ]
     },
     "execution_count": 187,
     "metadata": {},
     "output_type": "execute_result"
    },
    {
     "data": {
      "text/plain": [
       "Top nil feature map classification: \tgoldfish, Carassius auratus 12.00860118866\t\n",
       "12.00860118866\t\n",
       "694 is finished\t\n"
      ]
     },
     "execution_count": 187,
     "metadata": {},
     "output_type": "execute_result"
    },
    {
     "data": {
      "text/plain": [
       "Top nil feature map classification: \tgoldfish, Carassius auratus 13.077955245972\t\n",
       "13.077955245972\t\n",
       "695 is finished\t\n"
      ]
     },
     "execution_count": 187,
     "metadata": {},
     "output_type": "execute_result"
    },
    {
     "data": {
      "text/plain": [
       "Top nil feature map classification: \tgoldfish, Carassius auratus 15.108409881592\t\n",
       "15.108409881592\t\n",
       "696 is finished\t\n"
      ]
     },
     "execution_count": 187,
     "metadata": {},
     "output_type": "execute_result"
    },
    {
     "data": {
      "text/plain": [
       "Top nil feature map classification: \tgoldfish, Carassius auratus 11.950290679932\t\n",
       "11.950290679932\t\n",
       "697 is finished\t\n"
      ]
     },
     "execution_count": 187,
     "metadata": {},
     "output_type": "execute_result"
    },
    {
     "data": {
      "text/plain": [
       "Top nil feature map classification: \tbroccoli 10.418703079224\t\n",
       "10.303506851196\t\n",
       "698 is finished\t\n"
      ]
     },
     "execution_count": 187,
     "metadata": {},
     "output_type": "execute_result"
    },
    {
     "data": {
      "text/plain": [
       "Top nil feature map classification: \tgoldfish, Carassius auratus 17.92080116272\t\n",
       "17.92080116272\t\n",
       "699 is finished\t\n"
      ]
     },
     "execution_count": 187,
     "metadata": {},
     "output_type": "execute_result"
    },
    {
     "data": {
      "text/plain": [
       "Top nil feature map classification: \tgoldfish, Carassius auratus 8.6053056716919\t\n",
       "8.6053056716919\t\n",
       "700 is finished\t\n"
      ]
     },
     "execution_count": 187,
     "metadata": {},
     "output_type": "execute_result"
    },
    {
     "data": {
      "text/plain": [
       "Top nil feature map classification: \tflamingo 10.700362205505\t\n",
       "8.5914888381958\t\n",
       "701 is finished\t\n"
      ]
     },
     "execution_count": 187,
     "metadata": {},
     "output_type": "execute_result"
    },
    {
     "data": {
      "text/plain": [
       "Top nil feature map classification: \tgoldfish, Carassius auratus 17.816652297974\t\n",
       "17.816652297974\t\n",
       "702 is finished\t\n"
      ]
     },
     "execution_count": 187,
     "metadata": {},
     "output_type": "execute_result"
    },
    {
     "data": {
      "text/plain": [
       "Top nil feature map classification: \tgoldfish, Carassius auratus 15.124614715576\t\n",
       "15.124614715576\t\n",
       "703 is finished\t\n"
      ]
     },
     "execution_count": 187,
     "metadata": {},
     "output_type": "execute_result"
    },
    {
     "data": {
      "text/plain": [
       "Top nil feature map classification: \tgoldfish, Carassius auratus 14.458149909973\t\n",
       "14.458149909973\t\n",
       "704 is finished\t\n"
      ]
     },
     "execution_count": 187,
     "metadata": {},
     "output_type": "execute_result"
    },
    {
     "data": {
      "text/plain": [
       "Top nil feature map classification: \tgoldfish, Carassius auratus 12.951723098755\t\n",
       "12.951723098755\t\n",
       "705 is finished\t\n"
      ]
     },
     "execution_count": 187,
     "metadata": {},
     "output_type": "execute_result"
    },
    {
     "data": {
      "text/plain": [
       "Top nil feature map classification: \tgoldfish, Carassius auratus 27.79075050354\t\n",
       "27.79075050354\t\n",
       "706 is finished\t\n"
      ]
     },
     "execution_count": 187,
     "metadata": {},
     "output_type": "execute_result"
    },
    {
     "data": {
      "text/plain": [
       "Top nil feature map classification: \tgoldfish, Carassius auratus 17.166145324707\t\n",
       "17.166145324707\t\n",
       "707 is finished\t\n"
      ]
     },
     "execution_count": 187,
     "metadata": {},
     "output_type": "execute_result"
    },
    {
     "data": {
      "text/plain": [
       "Top nil feature map classification: \tgoldfish, Carassius auratus 19.769176483154\t\n",
       "19.769176483154\t\n",
       "708 is finished\t\n"
      ]
     },
     "execution_count": 187,
     "metadata": {},
     "output_type": "execute_result"
    },
    {
     "data": {
      "text/plain": [
       "Top nil feature map classification: \tgoldfish, Carassius auratus 21.793743133545\t\n",
       "21.793743133545\t\n",
       "709 is finished\t\n"
      ]
     },
     "execution_count": 187,
     "metadata": {},
     "output_type": "execute_result"
    },
    {
     "data": {
      "text/plain": [
       "Top nil feature map classification: \tanemone fish 18.162887573242\t\n",
       "12.3381690979\t\n",
       "710 is finished\t\n"
      ]
     },
     "execution_count": 187,
     "metadata": {},
     "output_type": "execute_result"
    },
    {
     "data": {
      "text/plain": [
       "Top nil feature map classification: \tgoldfish, Carassius auratus 20.288623809814\t\n",
       "20.288623809814\t\n",
       "711 is finished\t\n"
      ]
     },
     "execution_count": 187,
     "metadata": {},
     "output_type": "execute_result"
    },
    {
     "data": {
      "text/plain": [
       "Top nil feature map classification: \tgoldfish, Carassius auratus 13.579763412476\t\n",
       "13.579763412476\t\n",
       "712 is finished\t\n"
      ]
     },
     "execution_count": 187,
     "metadata": {},
     "output_type": "execute_result"
    },
    {
     "data": {
      "text/plain": [
       "Top nil feature map classification: \tgoldfish, Carassius auratus 25.549146652222\t\n",
       "25.549146652222\t\n",
       "713 is finished\t\n"
      ]
     },
     "execution_count": 187,
     "metadata": {},
     "output_type": "execute_result"
    },
    {
     "data": {
      "text/plain": [
       "Top nil feature map classification: \tgoldfish, Carassius auratus 21.069181442261\t\n",
       "21.069181442261\t\n",
       "714 is finished\t\n"
      ]
     },
     "execution_count": 187,
     "metadata": {},
     "output_type": "execute_result"
    },
    {
     "data": {
      "text/plain": [
       "Top nil feature map classification: \tpillow 10.12889289856\t\n",
       "7.4063510894775\t\n",
       "715 is finished\t\n"
      ]
     },
     "execution_count": 187,
     "metadata": {},
     "output_type": "execute_result"
    },
    {
     "data": {
      "text/plain": [
       "Top nil feature map classification: \tgoldfish, Carassius auratus 12.616980552673\t\n",
       "12.616980552673\t\n",
       "716 is finished\t\n"
      ]
     },
     "execution_count": 187,
     "metadata": {},
     "output_type": "execute_result"
    },
    {
     "data": {
      "text/plain": [
       "Top nil feature map classification: \tgoldfish, Carassius auratus 21.760915756226\t\n",
       "21.760915756226\t\n",
       "717 is finished\t\n"
      ]
     },
     "execution_count": 187,
     "metadata": {},
     "output_type": "execute_result"
    },
    {
     "data": {
      "text/plain": [
       "Top nil feature map classification: \tgoldfish, Carassius auratus 10.110478401184\t\n",
       "10.110478401184\t\n",
       "718 is finished\t\n"
      ]
     },
     "execution_count": 187,
     "metadata": {},
     "output_type": "execute_result"
    },
    {
     "data": {
      "text/plain": [
       "Top nil feature map classification: \tgoldfish, Carassius auratus 17.10523223877\t\n",
       "17.10523223877\t\n",
       "719 is finished\t\n"
      ]
     },
     "execution_count": 187,
     "metadata": {},
     "output_type": "execute_result"
    },
    {
     "data": {
      "text/plain": [
       "Top nil feature map classification: \tgoldfish, Carassius auratus 12.641390800476\t\n",
       "12.641390800476\t\n",
       "720 is finished\t\n"
      ]
     },
     "execution_count": 187,
     "metadata": {},
     "output_type": "execute_result"
    },
    {
     "data": {
      "text/plain": [
       "Top nil feature map classification: \tcello, violoncello 13.330244064331\t\n",
       "11.949981689453\t\n",
       "721 is finished\t\n"
      ]
     },
     "execution_count": 187,
     "metadata": {},
     "output_type": "execute_result"
    },
    {
     "data": {
      "text/plain": [
       "Top nil feature map classification: \tgoldfish, Carassius auratus 22.683004379272\t\n",
       "22.683004379272\t\n",
       "722 is finished\t\n"
      ]
     },
     "execution_count": 187,
     "metadata": {},
     "output_type": "execute_result"
    },
    {
     "data": {
      "text/plain": [
       "Top nil feature map classification: \tgoldfish, Carassius auratus 10.412287712097\t\n",
       "10.412287712097\t\n",
       "723 is finished\t\n"
      ]
     },
     "execution_count": 187,
     "metadata": {},
     "output_type": "execute_result"
    },
    {
     "data": {
      "text/plain": [
       "Top nil feature map classification: \tgoldfish, Carassius auratus 25.733934402466\t\n",
       "25.733934402466\t\n",
       "724 is finished\t\n"
      ]
     },
     "execution_count": 187,
     "metadata": {},
     "output_type": "execute_result"
    },
    {
     "data": {
      "text/plain": [
       "Top nil feature map classification: \tgoldfish, Carassius auratus 16.447854995728\t\n",
       "16.447854995728\t\n"
      ]
     },
     "execution_count": 187,
     "metadata": {},
     "output_type": "execute_result"
    },
    {
     "data": {
      "text/plain": [
       "725 is finished\t\n"
      ]
     },
     "execution_count": 187,
     "metadata": {},
     "output_type": "execute_result"
    },
    {
     "data": {
      "text/plain": [
       "Top nil feature map classification: \tmailbag, postbag 8.7544822692871\t\n",
       "7.3177409172058\t\n",
       "726 is finished\t\n"
      ]
     },
     "execution_count": 187,
     "metadata": {},
     "output_type": "execute_result"
    },
    {
     "data": {
      "text/plain": [
       "Top nil feature map classification: \tgoldfish, Carassius auratus 26.857389450073\t\n",
       "26.857389450073\t\n",
       "727 is finished\t\n"
      ]
     },
     "execution_count": 187,
     "metadata": {},
     "output_type": "execute_result"
    },
    {
     "data": {
      "text/plain": [
       "Top nil feature map classification: \tgoldfish, Carassius auratus 13.1990442276\t\n",
       "13.1990442276\t\n",
       "728 is finished\t\n"
      ]
     },
     "execution_count": 187,
     "metadata": {},
     "output_type": "execute_result"
    },
    {
     "data": {
      "text/plain": [
       "Top nil feature map classification: \tgoldfish, Carassius auratus 13.315335273743\t\n",
       "13.315335273743\t\n",
       "729 is finished\t\n"
      ]
     },
     "execution_count": 187,
     "metadata": {},
     "output_type": "execute_result"
    },
    {
     "data": {
      "text/plain": [
       "Top nil feature map classification: \tgoldfish, Carassius auratus 13.267585754395\t\n",
       "13.267585754395\t\n",
       "730 is finished\t\n"
      ]
     },
     "execution_count": 187,
     "metadata": {},
     "output_type": "execute_result"
    },
    {
     "data": {
      "text/plain": [
       "Top nil feature map classification: \totterhound, otter hound 9.9397773742676\t\n",
       "5.8565850257874\t\n",
       "731 is finished\t\n"
      ]
     },
     "execution_count": 187,
     "metadata": {},
     "output_type": "execute_result"
    },
    {
     "data": {
      "text/plain": [
       "Top nil feature map classification: \tgoldfish, Carassius auratus 31.84849357605\t\n",
       "31.84849357605\t\n",
       "732 is finished\t\n"
      ]
     },
     "execution_count": 187,
     "metadata": {},
     "output_type": "execute_result"
    },
    {
     "data": {
      "text/plain": [
       "Top nil feature map classification: \tgoldfish, Carassius auratus 16.204128265381\t\n",
       "16.204128265381\t\n",
       "733 is finished\t\n"
      ]
     },
     "execution_count": 187,
     "metadata": {},
     "output_type": "execute_result"
    },
    {
     "data": {
      "text/plain": [
       "Top nil feature map classification: \tstove 9.0696973800659\t\n",
       "7.3894500732422\t\n",
       "734 is finished\t\n"
      ]
     },
     "execution_count": 187,
     "metadata": {},
     "output_type": "execute_result"
    },
    {
     "data": {
      "text/plain": [
       "Top nil feature map classification: \tgoldfish, Carassius auratus 25.592470169067\t\n",
       "25.592470169067\t\n",
       "735 is finished\t\n"
      ]
     },
     "execution_count": 187,
     "metadata": {},
     "output_type": "execute_result"
    },
    {
     "data": {
      "text/plain": [
       "Top nil feature map classification: \tgoldfish, Carassius auratus 17.083885192871\t\n",
       "17.083885192871\t\n",
       "736 is finished\t\n"
      ]
     },
     "execution_count": 187,
     "metadata": {},
     "output_type": "execute_result"
    },
    {
     "data": {
      "text/plain": [
       "Top nil feature map classification: \tgoldfish, Carassius auratus 18.392574310303\t\n",
       "18.392574310303\t\n",
       "737 is finished\t\n"
      ]
     },
     "execution_count": 187,
     "metadata": {},
     "output_type": "execute_result"
    },
    {
     "data": {
      "text/plain": [
       "Top nil feature map classification: \tgoldfish, Carassius auratus 16.069900512695\t\n",
       "16.069900512695\t\n",
       "738 is finished\t\n"
      ]
     },
     "execution_count": 187,
     "metadata": {},
     "output_type": "execute_result"
    },
    {
     "data": {
      "text/plain": [
       "Top nil feature map classification: \tgoldfish, Carassius auratus 15.51079082489\t\n",
       "15.51079082489\t\n",
       "739 is finished\t\n"
      ]
     },
     "execution_count": 187,
     "metadata": {},
     "output_type": "execute_result"
    },
    {
     "data": {
      "text/plain": [
       "Top nil feature map classification: \tgoldfish, Carassius auratus 34.061977386475\t\n",
       "34.061977386475\t\n",
       "740 is finished\t\n"
      ]
     },
     "execution_count": 187,
     "metadata": {},
     "output_type": "execute_result"
    },
    {
     "data": {
      "text/plain": [
       "Top nil feature map classification: \tlangur 10.911244392395\t\n",
       "10.659714698792\t\n",
       "741 is finished\t\n"
      ]
     },
     "execution_count": 187,
     "metadata": {},
     "output_type": "execute_result"
    },
    {
     "data": {
      "text/plain": [
       "Top nil feature map classification: \tgoldfish, Carassius auratus 17.791435241699\t\n",
       "17.791435241699\t\n",
       "742 is finished\t\n"
      ]
     },
     "execution_count": 187,
     "metadata": {},
     "output_type": "execute_result"
    },
    {
     "data": {
      "text/plain": [
       "Top nil feature map classification: \tgoldfish, Carassius auratus 11.983868598938\t\n",
       "11.983868598938\t\n",
       "743 is finished\t\n"
      ]
     },
     "execution_count": 187,
     "metadata": {},
     "output_type": "execute_result"
    },
    {
     "data": {
      "text/plain": [
       "Top nil feature map classification: \tgoldfish, Carassius auratus 23.04400062561\t\n",
       "23.04400062561\t\n",
       "744 is finished\t\n"
      ]
     },
     "execution_count": 187,
     "metadata": {},
     "output_type": "execute_result"
    },
    {
     "data": {
      "text/plain": [
       "Top nil feature map classification: \tgoldfish, Carassius auratus 16.643943786621\t\n",
       "16.643943786621\t\n",
       "745 is finished\t\n"
      ]
     },
     "execution_count": 187,
     "metadata": {},
     "output_type": "execute_result"
    },
    {
     "data": {
      "text/plain": [
       "Top nil feature map classification: \tgoldfish, Carassius auratus 17.130632400513\t\n",
       "17.130632400513\t\n",
       "746 is finished\t\n"
      ]
     },
     "execution_count": 187,
     "metadata": {},
     "output_type": "execute_result"
    },
    {
     "data": {
      "text/plain": [
       "Top nil feature map classification: \twater jug 11.513812065125\t\n",
       "7.7063174247742\t\n",
       "747 is finished\t\n"
      ]
     },
     "execution_count": 187,
     "metadata": {},
     "output_type": "execute_result"
    },
    {
     "data": {
      "text/plain": [
       "Top nil feature map classification: \tgoldfish, Carassius auratus 28.424650192261\t\n",
       "28.424650192261\t\n",
       "748 is finished\t\n"
      ]
     },
     "execution_count": 187,
     "metadata": {},
     "output_type": "execute_result"
    },
    {
     "data": {
      "text/plain": [
       "Top nil feature map classification: \tgoldfish, Carassius auratus 17.537481307983\t\n",
       "17.537481307983\t\n",
       "749 is finished\t\n"
      ]
     },
     "execution_count": 187,
     "metadata": {},
     "output_type": "execute_result"
    },
    {
     "data": {
      "text/plain": [
       "Top nil feature map classification: \tbagel, beigel 8.5713205337524\t\n",
       "7.3908905982971\t\n",
       "750 is finished\t\n"
      ]
     },
     "execution_count": 187,
     "metadata": {},
     "output_type": "execute_result"
    },
    {
     "data": {
      "text/plain": [
       "Top nil feature map classification: \tgoldfish, Carassius auratus 15.418051719666\t\n",
       "15.418051719666\t\n",
       "751 is finished\t\n"
      ]
     },
     "execution_count": 187,
     "metadata": {},
     "output_type": "execute_result"
    },
    {
     "data": {
      "text/plain": [
       "Top nil feature map classification: \tgoldfish, Carassius auratus 13.020177841187\t\n",
       "13.020177841187\t\n",
       "752 is finished\t\n"
      ]
     },
     "execution_count": 187,
     "metadata": {},
     "output_type": "execute_result"
    },
    {
     "data": {
      "text/plain": [
       "Top nil feature map classification: \tgoldfish, Carassius auratus 14.165730476379\t\n",
       "14.165730476379\t\n",
       "753 is finished\t\n"
      ]
     },
     "execution_count": 187,
     "metadata": {},
     "output_type": "execute_result"
    },
    {
     "data": {
      "text/plain": [
       "Top nil feature map classification: \tgoldfish, Carassius auratus 17.411046981812\t\n",
       "17.411046981812\t\n",
       "754 is finished\t\n"
      ]
     },
     "execution_count": 187,
     "metadata": {},
     "output_type": "execute_result"
    },
    {
     "data": {
      "text/plain": [
       "Top nil feature map classification: \tgoldfish, Carassius auratus 16.57413482666\t\n",
       "16.57413482666\t\n",
       "755 is finished\t\n"
      ]
     },
     "execution_count": 187,
     "metadata": {},
     "output_type": "execute_result"
    },
    {
     "data": {
      "text/plain": [
       "Top nil feature map classification: \tgoldfish, Carassius auratus 28.227890014648\t\n",
       "28.227890014648\t\n",
       "756 is finished\t\n"
      ]
     },
     "execution_count": 187,
     "metadata": {},
     "output_type": "execute_result"
    },
    {
     "data": {
      "text/plain": [
       "Top nil feature map classification: \tgoldfish, Carassius auratus 28.580457687378\t\n",
       "28.580457687378\t\n",
       "757 is finished\t\n"
      ]
     },
     "execution_count": 187,
     "metadata": {},
     "output_type": "execute_result"
    },
    {
     "data": {
      "text/plain": [
       "Top nil feature map classification: \tgoldfish, Carassius auratus 8.6531276702881\t\n",
       "8.6531276702881\t\n",
       "758 is finished\t\n"
      ]
     },
     "execution_count": 187,
     "metadata": {},
     "output_type": "execute_result"
    },
    {
     "data": {
      "text/plain": [
       "Top nil feature map classification: \tgoldfish, Carassius auratus 13.302351951599\t\n",
       "13.302351951599\t\n",
       "759 is finished\t\n"
      ]
     },
     "execution_count": 187,
     "metadata": {},
     "output_type": "execute_result"
    },
    {
     "data": {
      "text/plain": [
       "Top nil feature map classification: \tblack swan, Cygnus atratus 7.7758259773254\t\n",
       "6.7271056175232\t\n",
       "760 is finished\t\n"
      ]
     },
     "execution_count": 187,
     "metadata": {},
     "output_type": "execute_result"
    },
    {
     "data": {
      "text/plain": [
       "Top nil feature map classification: \tgoldfish, Carassius auratus 12.217220306396\t\n",
       "12.217220306396\t\n",
       "761 is finished\t\n"
      ]
     },
     "execution_count": 187,
     "metadata": {},
     "output_type": "execute_result"
    },
    {
     "data": {
      "text/plain": [
       "Top nil feature map classification: \tgoldfish, Carassius auratus 14.579500198364\t\n",
       "14.579500198364\t\n",
       "762 is finished\t\n"
      ]
     },
     "execution_count": 187,
     "metadata": {},
     "output_type": "execute_result"
    },
    {
     "data": {
      "text/plain": [
       "Top nil feature map classification: \tgoldfish, Carassius auratus 20.797735214233\t\n",
       "20.797735214233\t\n",
       "763 is finished\t\n"
      ]
     },
     "execution_count": 187,
     "metadata": {},
     "output_type": "execute_result"
    },
    {
     "data": {
      "text/plain": [
       "Top nil feature map classification: \tgoldfish, Carassius auratus 16.74116897583\t\n",
       "16.74116897583\t\n",
       "764 is finished\t\n"
      ]
     },
     "execution_count": 187,
     "metadata": {},
     "output_type": "execute_result"
    },
    {
     "data": {
      "text/plain": [
       "Top nil feature map classification: \tgoldfish, Carassius auratus 16.187412261963\t\n",
       "16.187412261963\t\n",
       "765 is finished\t\n"
      ]
     },
     "execution_count": 187,
     "metadata": {},
     "output_type": "execute_result"
    },
    {
     "data": {
      "text/plain": [
       "Top nil feature map classification: \tpiggy bank, penny bank 13.502550125122\t\n",
       "13.357092857361\t\n",
       "766 is finished\t\n"
      ]
     },
     "execution_count": 187,
     "metadata": {},
     "output_type": "execute_result"
    },
    {
     "data": {
      "text/plain": [
       "Top nil feature map classification: \tgoldfish, Carassius auratus 14.800899505615\t\n",
       "14.800899505615\t\n",
       "767 is finished\t\n"
      ]
     },
     "execution_count": 187,
     "metadata": {},
     "output_type": "execute_result"
    },
    {
     "data": {
      "text/plain": [
       "Top nil feature map classification: \tgoldfish, Carassius auratus 15.303900718689\t\n",
       "15.303900718689\t\n",
       "768 is finished\t\n"
      ]
     },
     "execution_count": 187,
     "metadata": {},
     "output_type": "execute_result"
    },
    {
     "data": {
      "text/plain": [
       "Top nil feature map classification: \tgoldfish, Carassius auratus 21.261337280273\t\n",
       "21.261337280273\t\n",
       "769 is finished\t\n"
      ]
     },
     "execution_count": 187,
     "metadata": {},
     "output_type": "execute_result"
    },
    {
     "data": {
      "text/plain": [
       "Top nil feature map classification: \tgoldfish, Carassius auratus 11.0997838974\t\n",
       "11.0997838974\t\n",
       "770 is finished\t\n"
      ]
     },
     "execution_count": 187,
     "metadata": {},
     "output_type": "execute_result"
    },
    {
     "data": {
      "text/plain": [
       "Top nil feature map classification: \tgoldfish, Carassius auratus 14.499146461487\t\n",
       "14.499146461487\t\n",
       "771 is finished\t\n"
      ]
     },
     "execution_count": 187,
     "metadata": {},
     "output_type": "execute_result"
    },
    {
     "data": {
      "text/plain": [
       "Top nil feature map classification: \tjack-o'-lantern 12.341079711914\t\n",
       "12.071303367615\t\n",
       "772 is finished\t\n"
      ]
     },
     "execution_count": 187,
     "metadata": {},
     "output_type": "execute_result"
    },
    {
     "data": {
      "text/plain": [
       "Top nil feature map classification: \tgoldfish, Carassius auratus 21.895366668701\t\n",
       "21.895366668701\t\n",
       "773 is finished\t\n"
      ]
     },
     "execution_count": 187,
     "metadata": {},
     "output_type": "execute_result"
    },
    {
     "data": {
      "text/plain": [
       "Top nil feature map classification: \tgoldfish, Carassius auratus 13.352063179016\t\n",
       "13.352063179016\t\n",
       "774 is finished\t\n"
      ]
     },
     "execution_count": 187,
     "metadata": {},
     "output_type": "execute_result"
    },
    {
     "data": {
      "text/plain": [
       "Top nil feature map classification: \tgoldfish, Carassius auratus 11.253149986267\t\n",
       "11.253149986267\t\n",
       "775 is finished\t\n"
      ]
     },
     "execution_count": 187,
     "metadata": {},
     "output_type": "execute_result"
    },
    {
     "data": {
      "text/plain": [
       "Top nil feature map classification: \tgoldfish, Carassius auratus 13.451168060303\t\n",
       "13.451168060303\t\n",
       "776 is finished\t\n"
      ]
     },
     "execution_count": 187,
     "metadata": {},
     "output_type": "execute_result"
    },
    {
     "data": {
      "text/plain": [
       "Top nil feature map classification: \tgoldfish, Carassius auratus 20.93729019165\t\n",
       "20.93729019165\t\n",
       "777 is finished\t\n"
      ]
     },
     "execution_count": 187,
     "metadata": {},
     "output_type": "execute_result"
    },
    {
     "data": {
      "text/plain": [
       "Top nil feature map classification: \tgoldfish, Carassius auratus 16.629150390625\t\n",
       "16.629150390625\t\n",
       "778 is finished\t\n"
      ]
     },
     "execution_count": 187,
     "metadata": {},
     "output_type": "execute_result"
    },
    {
     "data": {
      "text/plain": [
       "Top nil feature map classification: \tgoldfish, Carassius auratus 30.965591430664\t\n",
       "30.965591430664\t\n",
       "779 is finished\t\n"
      ]
     },
     "execution_count": 187,
     "metadata": {},
     "output_type": "execute_result"
    },
    {
     "data": {
      "text/plain": [
       "Top nil feature map classification: \tgoldfish, Carassius auratus 24.750637054443\t\n",
       "24.750637054443\t\n",
       "780 is finished\t\n"
      ]
     },
     "execution_count": 187,
     "metadata": {},
     "output_type": "execute_result"
    },
    {
     "data": {
      "text/plain": [
       "Top nil feature map classification: \tgoldfish, Carassius auratus 14.502517700195\t\n",
       "14.502517700195\t\n",
       "781 is finished\t\n"
      ]
     },
     "execution_count": 187,
     "metadata": {},
     "output_type": "execute_result"
    },
    {
     "data": {
      "text/plain": [
       "Top nil feature map classification: \tgoldfish, Carassius auratus 28.06489944458\t\n",
       "28.06489944458\t\n",
       "782 is finished\t\n"
      ]
     },
     "execution_count": 187,
     "metadata": {},
     "output_type": "execute_result"
    },
    {
     "data": {
      "text/plain": [
       "Top nil feature map classification: \tgoldfish, Carassius auratus 20.681335449219\t\n",
       "20.681335449219\t\n",
       "783 is finished\t\n"
      ]
     },
     "execution_count": 187,
     "metadata": {},
     "output_type": "execute_result"
    },
    {
     "data": {
      "text/plain": [
       "Top nil feature map classification: \tgoldfish, Carassius auratus 13.084964752197\t\n",
       "13.084964752197\t\n",
       "784 is finished\t\n"
      ]
     },
     "execution_count": 187,
     "metadata": {},
     "output_type": "execute_result"
    },
    {
     "data": {
      "text/plain": [
       "Top nil feature map classification: \tgoldfish, Carassius auratus 14.646207809448\t\n",
       "14.646207809448\t\n",
       "785 is finished\t\n"
      ]
     },
     "execution_count": 187,
     "metadata": {},
     "output_type": "execute_result"
    },
    {
     "data": {
      "text/plain": [
       "Top nil feature map classification: \tgoldfish, Carassius auratus 11.089740753174\t\n",
       "11.089740753174\t\n",
       "786 is finished\t\n"
      ]
     },
     "execution_count": 187,
     "metadata": {},
     "output_type": "execute_result"
    },
    {
     "data": {
      "text/plain": [
       "Top nil feature map classification: \ttorch 11.43341255188\t\n",
       "7.7137479782104\t\n"
      ]
     },
     "execution_count": 187,
     "metadata": {},
     "output_type": "execute_result"
    },
    {
     "data": {
      "text/plain": [
       "787 is finished\t\n"
      ]
     },
     "execution_count": 187,
     "metadata": {},
     "output_type": "execute_result"
    },
    {
     "data": {
      "text/plain": [
       "Top nil feature map classification: \tgoldfish, Carassius auratus 11.939743041992\t\n",
       "11.939743041992\t\n",
       "788 is finished\t\n"
      ]
     },
     "execution_count": 187,
     "metadata": {},
     "output_type": "execute_result"
    },
    {
     "data": {
      "text/plain": [
       "Top nil feature map classification: \tanemone fish 14.615912437439\t\n",
       "10.384338378906\t\n",
       "789 is finished\t\n"
      ]
     },
     "execution_count": 187,
     "metadata": {},
     "output_type": "execute_result"
    },
    {
     "data": {
      "text/plain": [
       "Top nil feature map classification: \tgoldfish, Carassius auratus 11.482398986816\t\n",
       "11.482398986816\t\n",
       "790 is finished\t\n"
      ]
     },
     "execution_count": 187,
     "metadata": {},
     "output_type": "execute_result"
    },
    {
     "data": {
      "text/plain": [
       "Top nil feature map classification: \tgoldfish, Carassius auratus 14.789032936096\t\n",
       "14.789032936096\t\n",
       "791 is finished\t\n"
      ]
     },
     "execution_count": 187,
     "metadata": {},
     "output_type": "execute_result"
    },
    {
     "data": {
      "text/plain": [
       "Top nil feature map classification: \tgoldfish, Carassius auratus 24.607343673706\t\n",
       "24.607343673706\t\n",
       "792 is finished\t\n"
      ]
     },
     "execution_count": 187,
     "metadata": {},
     "output_type": "execute_result"
    },
    {
     "data": {
      "text/plain": [
       "Top nil feature map classification: \tgoldfish, Carassius auratus 18.288272857666\t\n",
       "18.288272857666\t\n",
       "793 is finished\t\n"
      ]
     },
     "execution_count": 187,
     "metadata": {},
     "output_type": "execute_result"
    },
    {
     "data": {
      "text/plain": [
       "Top nil feature map classification: \tjack-o'-lantern 10.811440467834\t\n",
       "10.324633598328\t\n",
       "794 is finished\t\n"
      ]
     },
     "execution_count": 187,
     "metadata": {},
     "output_type": "execute_result"
    },
    {
     "data": {
      "text/plain": [
       "Top nil feature map classification: \tgoldfish, Carassius auratus 16.491275787354\t\n",
       "16.491275787354\t\n",
       "795 is finished\t\n"
      ]
     },
     "execution_count": 187,
     "metadata": {},
     "output_type": "execute_result"
    },
    {
     "data": {
      "text/plain": [
       "Top nil feature map classification: \tgoldfish, Carassius auratus 18.843120574951\t\n",
       "18.843120574951\t\n",
       "796 is finished\t\n"
      ]
     },
     "execution_count": 187,
     "metadata": {},
     "output_type": "execute_result"
    },
    {
     "data": {
      "text/plain": [
       "Top nil feature map classification: \tgoldfish, Carassius auratus 20.877895355225\t\n",
       "20.877895355225\t\n",
       "797 is finished\t\n"
      ]
     },
     "execution_count": 187,
     "metadata": {},
     "output_type": "execute_result"
    },
    {
     "data": {
      "text/plain": [
       "Top nil feature map classification: \tgoldfish, Carassius auratus 26.356273651123\t\n",
       "26.356273651123\t\n",
       "798 is finished\t\n"
      ]
     },
     "execution_count": 187,
     "metadata": {},
     "output_type": "execute_result"
    },
    {
     "data": {
      "text/plain": [
       "Top nil feature map classification: \tgoldfish, Carassius auratus 17.39818572998\t\n",
       "17.39818572998\t\n",
       "799 is finished\t\n"
      ]
     },
     "execution_count": 187,
     "metadata": {},
     "output_type": "execute_result"
    },
    {
     "data": {
      "text/plain": [
       "Top nil feature map classification: \tgoldfish, Carassius auratus 24.124624252319\t\n",
       "24.124624252319\t\n",
       "800 is finished\t\n"
      ]
     },
     "execution_count": 187,
     "metadata": {},
     "output_type": "execute_result"
    },
    {
     "data": {
      "text/plain": [
       "Top nil feature map classification: \thip, rose hip, rosehip 9.4891090393066\t\n",
       "7.2968893051147\t\n",
       "801 is finished\t\n"
      ]
     },
     "execution_count": 187,
     "metadata": {},
     "output_type": "execute_result"
    },
    {
     "data": {
      "text/plain": [
       "Top nil feature map classification: \tcandle, taper, wax light 13.218465805054\t\n",
       "12.930459022522\t\n",
       "802 is finished\t\n"
      ]
     },
     "execution_count": 187,
     "metadata": {},
     "output_type": "execute_result"
    },
    {
     "data": {
      "text/plain": [
       "Top nil feature map classification: \tgoldfish, Carassius auratus 19.794807434082\t\n",
       "19.794807434082\t\n",
       "803 is finished\t\n"
      ]
     },
     "execution_count": 187,
     "metadata": {},
     "output_type": "execute_result"
    },
    {
     "data": {
      "text/plain": [
       "Top nil feature map classification: \tgoldfish, Carassius auratus 23.145753860474\t\n",
       "23.145753860474\t\n",
       "804 is finished\t\n"
      ]
     },
     "execution_count": 187,
     "metadata": {},
     "output_type": "execute_result"
    },
    {
     "data": {
      "text/plain": [
       "Top nil feature map classification: \tgoldfish, Carassius auratus 9.5431299209595\t\n",
       "9.5431299209595\t\n",
       "805 is finished\t\n"
      ]
     },
     "execution_count": 187,
     "metadata": {},
     "output_type": "execute_result"
    },
    {
     "data": {
      "text/plain": [
       "Top nil feature map classification: \tgoldfish, Carassius auratus 10.579117774963\t\n",
       "10.579117774963\t\n",
       "806 is finished\t\n"
      ]
     },
     "execution_count": 187,
     "metadata": {},
     "output_type": "execute_result"
    },
    {
     "data": {
      "text/plain": [
       "Top nil feature map classification: \tchurch, church building 12.879922866821\t\n",
       "5.951141834259\t\n",
       "807 is finished\t\n"
      ]
     },
     "execution_count": 187,
     "metadata": {},
     "output_type": "execute_result"
    },
    {
     "data": {
      "text/plain": [
       "Top nil feature map classification: \tgoldfish, Carassius auratus 23.172386169434\t\n",
       "23.172386169434\t\n",
       "808 is finished\t\n"
      ]
     },
     "execution_count": 187,
     "metadata": {},
     "output_type": "execute_result"
    },
    {
     "data": {
      "text/plain": [
       "Top nil feature map classification: \tgoldfish, Carassius auratus 25.871353149414\t\n",
       "25.871353149414\t\n",
       "809 is finished\t\n"
      ]
     },
     "execution_count": 187,
     "metadata": {},
     "output_type": "execute_result"
    },
    {
     "data": {
      "text/plain": [
       "Top nil feature map classification: \tgoldfish, Carassius auratus 30.017812728882\t\n",
       "30.017812728882\t\n",
       "810 is finished\t\n"
      ]
     },
     "execution_count": 187,
     "metadata": {},
     "output_type": "execute_result"
    },
    {
     "data": {
      "text/plain": [
       "Top nil feature map classification: \tmeasuring cup 20.378049850464\t\n",
       "13.075048446655\t\n",
       "811 is finished\t\n"
      ]
     },
     "execution_count": 187,
     "metadata": {},
     "output_type": "execute_result"
    },
    {
     "data": {
      "text/plain": [
       "Top nil feature map classification: \tgoldfish, Carassius auratus 12.949224472046\t\n",
       "12.949224472046\t\n",
       "812 is finished\t\n"
      ]
     },
     "execution_count": 187,
     "metadata": {},
     "output_type": "execute_result"
    },
    {
     "data": {
      "text/plain": [
       "Top nil feature map classification: \tgoldfish, Carassius auratus 16.439107894897\t\n",
       "16.439107894897\t\n",
       "813 is finished\t\n"
      ]
     },
     "execution_count": 187,
     "metadata": {},
     "output_type": "execute_result"
    },
    {
     "data": {
      "text/plain": [
       "Top nil feature map classification: \tgoldfish, Carassius auratus 18.838018417358\t\n",
       "18.838018417358\t\n",
       "814 is finished\t\n"
      ]
     },
     "execution_count": 187,
     "metadata": {},
     "output_type": "execute_result"
    },
    {
     "data": {
      "text/plain": [
       "Top nil feature map classification: \tbubble 7.4036889076233\t\n",
       "3.6807272434235\t\n",
       "815 is finished\t\n"
      ]
     },
     "execution_count": 187,
     "metadata": {},
     "output_type": "execute_result"
    },
    {
     "data": {
      "text/plain": [
       "Top nil feature map classification: \tgoldfish, Carassius auratus 16.63000869751\t\n",
       "16.63000869751\t\n",
       "816 is finished\t\n"
      ]
     },
     "execution_count": 187,
     "metadata": {},
     "output_type": "execute_result"
    },
    {
     "data": {
      "text/plain": [
       "Top nil feature map classification: \tgoldfish, Carassius auratus 18.966375350952\t\n",
       "18.966375350952\t\n",
       "817 is finished\t\n"
      ]
     },
     "execution_count": 187,
     "metadata": {},
     "output_type": "execute_result"
    },
    {
     "data": {
      "text/plain": [
       "Top nil feature map classification: \tgoldfish, Carassius auratus 19.241451263428\t\n",
       "19.241451263428\t\n",
       "818 is finished\t\n"
      ]
     },
     "execution_count": 187,
     "metadata": {},
     "output_type": "execute_result"
    },
    {
     "data": {
      "text/plain": [
       "Top nil feature map classification: \tgoldfish, Carassius auratus 13.75176525116\t\n",
       "13.75176525116\t\n",
       "819 is finished\t\n"
      ]
     },
     "execution_count": 187,
     "metadata": {},
     "output_type": "execute_result"
    },
    {
     "data": {
      "text/plain": [
       "Top nil feature map classification: \tcoral fungus 13.102269172668\t\n",
       "11.361882209778\t\n",
       "820 is finished\t\n"
      ]
     },
     "execution_count": 187,
     "metadata": {},
     "output_type": "execute_result"
    },
    {
     "data": {
      "text/plain": [
       "Top nil feature map classification: \tgoldfish, Carassius auratus 13.612147331238\t\n",
       "13.612147331238\t\n",
       "821 is finished\t\n"
      ]
     },
     "execution_count": 187,
     "metadata": {},
     "output_type": "execute_result"
    },
    {
     "data": {
      "text/plain": [
       "Top nil feature map classification: \tgoldfish, Carassius auratus 17.898511886597\t\n",
       "17.898511886597\t\n",
       "822 is finished\t\n"
      ]
     },
     "execution_count": 187,
     "metadata": {},
     "output_type": "execute_result"
    },
    {
     "data": {
      "text/plain": [
       "Top nil feature map classification: \tgoldfish, Carassius auratus 21.458211898804\t\n",
       "21.458211898804\t\n",
       "823 is finished\t\n"
      ]
     },
     "execution_count": 187,
     "metadata": {},
     "output_type": "execute_result"
    },
    {
     "data": {
      "text/plain": [
       "Top nil feature map classification: \twater jug 12.387932777405\t\n",
       "9.1472148895264\t\n",
       "824 is finished\t\n"
      ]
     },
     "execution_count": 187,
     "metadata": {},
     "output_type": "execute_result"
    },
    {
     "data": {
      "text/plain": [
       "Top nil feature map classification: \tgoblet 17.433950424194\t\n",
       "8.0279970169067\t\n"
      ]
     },
     "execution_count": 187,
     "metadata": {},
     "output_type": "execute_result"
    },
    {
     "data": {
      "text/plain": [
       "825 is finished\t\n"
      ]
     },
     "execution_count": 187,
     "metadata": {},
     "output_type": "execute_result"
    },
    {
     "data": {
      "text/plain": [
       "Top nil feature map classification: \tgoldfish, Carassius auratus 20.94366645813\t\n",
       "20.94366645813\t\n",
       "826 is finished\t\n"
      ]
     },
     "execution_count": 187,
     "metadata": {},
     "output_type": "execute_result"
    },
    {
     "data": {
      "text/plain": [
       "Top nil feature map classification: \tgoblet 9.8633184432983\t\n",
       "6.8912935256958\t\n",
       "827 is finished\t\n"
      ]
     },
     "execution_count": 187,
     "metadata": {},
     "output_type": "execute_result"
    },
    {
     "data": {
      "text/plain": [
       "Top nil feature map classification: \tlionfish 12.405903816223\t\n",
       "10.463270187378\t\n",
       "828 is finished\t\n"
      ]
     },
     "execution_count": 187,
     "metadata": {},
     "output_type": "execute_result"
    },
    {
     "data": {
      "text/plain": [
       "Top nil feature map classification: \tgoldfish, Carassius auratus 18.322717666626\t\n",
       "18.322717666626\t\n",
       "829 is finished\t\n"
      ]
     },
     "execution_count": 187,
     "metadata": {},
     "output_type": "execute_result"
    },
    {
     "data": {
      "text/plain": [
       "Top nil feature map classification: \tgoldfish, Carassius auratus 24.755222320557\t\n",
       "24.755222320557\t\n",
       "830 is finished\t\n"
      ]
     },
     "execution_count": 187,
     "metadata": {},
     "output_type": "execute_result"
    },
    {
     "data": {
      "text/plain": [
       "Top nil feature map classification: \tgoldfish, Carassius auratus 21.501823425293\t\n",
       "21.501823425293\t\n",
       "831 is finished\t\n"
      ]
     },
     "execution_count": 187,
     "metadata": {},
     "output_type": "execute_result"
    },
    {
     "data": {
      "text/plain": [
       "Top nil feature map classification: \tgoldfish, Carassius auratus 24.128175735474\t\n",
       "24.128175735474\t\n",
       "832 is finished\t\n"
      ]
     },
     "execution_count": 187,
     "metadata": {},
     "output_type": "execute_result"
    },
    {
     "data": {
      "text/plain": [
       "Top nil feature map classification: \tgoldfish, Carassius auratus 27.655309677124\t\n",
       "27.655309677124\t\n",
       "833 is finished\t\n"
      ]
     },
     "execution_count": 187,
     "metadata": {},
     "output_type": "execute_result"
    },
    {
     "data": {
      "text/plain": [
       "Top nil feature map classification: \tgoldfish, Carassius auratus 27.275157928467\t\n",
       "27.275157928467\t\n",
       "834 is finished\t\n"
      ]
     },
     "execution_count": 187,
     "metadata": {},
     "output_type": "execute_result"
    },
    {
     "data": {
      "text/plain": [
       "Top nil feature map classification: \tgoldfish, Carassius auratus 24.342685699463\t\n",
       "24.342685699463\t\n",
       "835 is finished\t\n"
      ]
     },
     "execution_count": 187,
     "metadata": {},
     "output_type": "execute_result"
    },
    {
     "data": {
      "text/plain": [
       "Top nil feature map classification: \tgoldfish, Carassius auratus 31.324426651001\t\n",
       "31.324426651001\t\n",
       "836 is finished\t\n"
      ]
     },
     "execution_count": 187,
     "metadata": {},
     "output_type": "execute_result"
    },
    {
     "data": {
      "text/plain": [
       "Top nil feature map classification: \tanemone fish 15.069823265076\t\n",
       "12.41873550415\t\n",
       "837 is finished\t\n"
      ]
     },
     "execution_count": 187,
     "metadata": {},
     "output_type": "execute_result"
    },
    {
     "data": {
      "text/plain": [
       "Top nil feature map classification: \tgoldfish, Carassius auratus 11.319032669067\t\n",
       "11.319032669067\t\n",
       "838 is finished\t\n"
      ]
     },
     "execution_count": 187,
     "metadata": {},
     "output_type": "execute_result"
    },
    {
     "data": {
      "text/plain": [
       "Top nil feature map classification: \tgoldfish, Carassius auratus 21.614183425903\t\n",
       "21.614183425903\t\n",
       "839 is finished\t\n"
      ]
     },
     "execution_count": 187,
     "metadata": {},
     "output_type": "execute_result"
    },
    {
     "data": {
      "text/plain": [
       "Top nil feature map classification: \tgoldfish, Carassius auratus 15.189300537109\t\n",
       "15.189300537109\t\n",
       "840 is finished\t\n"
      ]
     },
     "execution_count": 187,
     "metadata": {},
     "output_type": "execute_result"
    },
    {
     "data": {
      "text/plain": [
       "Top nil feature map classification: \tgoldfish, Carassius auratus 17.719432830811\t\n",
       "17.719432830811\t\n",
       "841 is finished\t\n"
      ]
     },
     "execution_count": 187,
     "metadata": {},
     "output_type": "execute_result"
    },
    {
     "data": {
      "text/plain": [
       "Top nil feature map classification: \tgoldfish, Carassius auratus 12.745240211487\t\n",
       "12.745240211487\t\n",
       "842 is finished\t\n"
      ]
     },
     "execution_count": 187,
     "metadata": {},
     "output_type": "execute_result"
    },
    {
     "data": {
      "text/plain": [
       "Top nil feature map classification: \tgoldfish, Carassius auratus 17.56981086731\t\n",
       "17.56981086731\t\n",
       "843 is finished\t\n"
      ]
     },
     "execution_count": 187,
     "metadata": {},
     "output_type": "execute_result"
    },
    {
     "data": {
      "text/plain": [
       "Top nil feature map classification: \tgoldfish, Carassius auratus 9.2397804260254\t\n",
       "9.2397804260254\t\n",
       "844 is finished\t\n"
      ]
     },
     "execution_count": 187,
     "metadata": {},
     "output_type": "execute_result"
    },
    {
     "data": {
      "text/plain": [
       "Top nil feature map classification: \tgoldfish, Carassius auratus 18.512771606445\t\n",
       "18.512771606445\t\n",
       "845 is finished\t\n"
      ]
     },
     "execution_count": 187,
     "metadata": {},
     "output_type": "execute_result"
    },
    {
     "data": {
      "text/plain": [
       "Top nil feature map classification: \tgoldfish, Carassius auratus 12.404147148132\t\n",
       "12.404147148132\t\n",
       "846 is finished\t\n"
      ]
     },
     "execution_count": 187,
     "metadata": {},
     "output_type": "execute_result"
    },
    {
     "data": {
      "text/plain": [
       "Top nil feature map classification: \tgoldfish, Carassius auratus 20.903823852539\t\n",
       "20.903823852539\t\n",
       "847 is finished\t\n"
      ]
     },
     "execution_count": 187,
     "metadata": {},
     "output_type": "execute_result"
    },
    {
     "data": {
      "text/plain": [
       "Top nil feature map classification: \tgoldfish, Carassius auratus 26.096027374268\t\n",
       "26.096027374268\t\n",
       "848 is finished\t\n"
      ]
     },
     "execution_count": 187,
     "metadata": {},
     "output_type": "execute_result"
    },
    {
     "data": {
      "text/plain": [
       "Top nil feature map classification: \tgoldfish, Carassius auratus 19.990211486816\t\n",
       "19.990211486816\t\n",
       "849 is finished\t\n"
      ]
     },
     "execution_count": 187,
     "metadata": {},
     "output_type": "execute_result"
    },
    {
     "data": {
      "text/plain": [
       "Top nil feature map classification: \tgoldfish, Carassius auratus 12.24644947052\t\n",
       "12.24644947052\t\n",
       "850 is finished\t\n"
      ]
     },
     "execution_count": 187,
     "metadata": {},
     "output_type": "execute_result"
    },
    {
     "data": {
      "text/plain": [
       "Top nil feature map classification: \tcoral fungus 11.633401870728\t\n",
       "8.0491495132446\t\n",
       "851 is finished\t\n"
      ]
     },
     "execution_count": 187,
     "metadata": {},
     "output_type": "execute_result"
    },
    {
     "data": {
      "text/plain": [
       "Top nil feature map classification: \tcoral reef 14.057955741882\t\n",
       "12.582201004028\t\n",
       "852 is finished\t\n"
      ]
     },
     "execution_count": 187,
     "metadata": {},
     "output_type": "execute_result"
    },
    {
     "data": {
      "text/plain": [
       "Top nil feature map classification: \tsea slug, nudibranch 14.245927810669\t\n",
       "13.75385761261\t\n",
       "853 is finished\t\n"
      ]
     },
     "execution_count": 187,
     "metadata": {},
     "output_type": "execute_result"
    },
    {
     "data": {
      "text/plain": [
       "Top nil feature map classification: \tgoldfish, Carassius auratus 12.468292236328\t\n",
       "12.468292236328\t\n",
       "854 is finished\t\n"
      ]
     },
     "execution_count": 187,
     "metadata": {},
     "output_type": "execute_result"
    },
    {
     "data": {
      "text/plain": [
       "Top nil feature map classification: \tgoldfish, Carassius auratus 12.748962402344\t\n",
       "12.748962402344\t\n",
       "855 is finished\t\n"
      ]
     },
     "execution_count": 187,
     "metadata": {},
     "output_type": "execute_result"
    },
    {
     "data": {
      "text/plain": [
       "Top nil feature map classification: \tgoldfish, Carassius auratus 15.829403877258\t\n",
       "15.829403877258\t\n",
       "856 is finished\t\n"
      ]
     },
     "execution_count": 187,
     "metadata": {},
     "output_type": "execute_result"
    },
    {
     "data": {
      "text/plain": [
       "Top nil feature map classification: \tgoldfish, Carassius auratus 17.997159957886\t\n",
       "17.997159957886\t\n",
       "857 is finished\t\n"
      ]
     },
     "execution_count": 187,
     "metadata": {},
     "output_type": "execute_result"
    },
    {
     "data": {
      "text/plain": [
       "Top nil feature map classification: \tgoldfish, Carassius auratus 16.1803150177\t\n",
       "16.1803150177\t\n",
       "858 is finished\t\n"
      ]
     },
     "execution_count": 187,
     "metadata": {},
     "output_type": "execute_result"
    },
    {
     "data": {
      "text/plain": [
       "Top nil feature map classification: \tgoldfish, Carassius auratus 17.917802810669\t\n",
       "17.917802810669\t\n",
       "859 is finished\t\n"
      ]
     },
     "execution_count": 187,
     "metadata": {},
     "output_type": "execute_result"
    },
    {
     "data": {
      "text/plain": [
       "Top nil feature map classification: \tgoldfish, Carassius auratus 11.422288894653\t\n",
       "11.422288894653\t\n",
       "860 is finished\t\n"
      ]
     },
     "execution_count": 187,
     "metadata": {},
     "output_type": "execute_result"
    },
    {
     "data": {
      "text/plain": [
       "Top nil feature map classification: \tgoldfish, Carassius auratus 14.650553703308\t\n",
       "14.650553703308\t\n",
       "861 is finished\t\n"
      ]
     },
     "execution_count": 187,
     "metadata": {},
     "output_type": "execute_result"
    },
    {
     "data": {
      "text/plain": [
       "Top nil feature map classification: \tgoldfish, Carassius auratus 11.433992385864\t\n",
       "11.433992385864\t\n",
       "862 is finished\t\n"
      ]
     },
     "execution_count": 187,
     "metadata": {},
     "output_type": "execute_result"
    },
    {
     "data": {
      "text/plain": [
       "Top nil feature map classification: \tgoldfish, Carassius auratus 17.590953826904\t\n",
       "17.590953826904\t\n",
       "863 is finished\t\n"
      ]
     },
     "execution_count": 187,
     "metadata": {},
     "output_type": "execute_result"
    },
    {
     "data": {
      "text/plain": [
       "Top nil feature map classification: \tgoldfish, Carassius auratus 17.164390563965\t\n",
       "17.164390563965\t\n",
       "864 is finished\t\n"
      ]
     },
     "execution_count": 187,
     "metadata": {},
     "output_type": "execute_result"
    },
    {
     "data": {
      "text/plain": [
       "Top nil feature map classification: \tgoldfish, Carassius auratus 11.527697563171\t\n",
       "11.527697563171\t\n",
       "865 is finished\t\n"
      ]
     },
     "execution_count": 187,
     "metadata": {},
     "output_type": "execute_result"
    },
    {
     "data": {
      "text/plain": [
       "Top nil feature map classification: \tgoldfish, Carassius auratus 17.760149002075\t\n",
       "17.760149002075\t\n",
       "866 is finished\t\n"
      ]
     },
     "execution_count": 187,
     "metadata": {},
     "output_type": "execute_result"
    },
    {
     "data": {
      "text/plain": [
       "Top nil feature map classification: \tgoldfish, Carassius auratus 19.685131072998\t\n",
       "19.685131072998\t\n",
       "867 is finished\t\n"
      ]
     },
     "execution_count": 187,
     "metadata": {},
     "output_type": "execute_result"
    },
    {
     "data": {
      "text/plain": [
       "Top nil feature map classification: \tgoldfish, Carassius auratus 17.469404220581\t\n",
       "17.469404220581\t\n",
       "868 is finished\t\n"
      ]
     },
     "execution_count": 187,
     "metadata": {},
     "output_type": "execute_result"
    },
    {
     "data": {
      "text/plain": [
       "Top nil feature map classification: \tgoldfish, Carassius auratus 17.639234542847\t\n",
       "17.639234542847\t\n",
       "869 is finished\t\n"
      ]
     },
     "execution_count": 187,
     "metadata": {},
     "output_type": "execute_result"
    },
    {
     "data": {
      "text/plain": [
       "Top nil feature map classification: \tgoldfish, Carassius auratus 17.209287643433\t\n",
       "17.209287643433\t\n",
       "870 is finished\t\n"
      ]
     },
     "execution_count": 187,
     "metadata": {},
     "output_type": "execute_result"
    },
    {
     "data": {
      "text/plain": [
       "Top nil feature map classification: \tgoldfish, Carassius auratus 16.641258239746\t\n",
       "16.641258239746\t\n",
       "871 is finished\t\n"
      ]
     },
     "execution_count": 187,
     "metadata": {},
     "output_type": "execute_result"
    },
    {
     "data": {
      "text/plain": [
       "Top nil feature map classification: \tgoldfish, Carassius auratus 20.2308177948\t\n",
       "20.2308177948\t\n",
       "872 is finished\t\n"
      ]
     },
     "execution_count": 187,
     "metadata": {},
     "output_type": "execute_result"
    },
    {
     "data": {
      "text/plain": [
       "Top nil feature map classification: \tgoldfish, Carassius auratus 11.656741142273\t\n",
       "11.656741142273\t\n",
       "873 is finished\t\n"
      ]
     },
     "execution_count": 187,
     "metadata": {},
     "output_type": "execute_result"
    },
    {
     "data": {
      "text/plain": [
       "Top nil feature map classification: \tgoldfish, Carassius auratus 10.729097366333\t\n",
       "10.729097366333\t\n",
       "874 is finished\t\n"
      ]
     },
     "execution_count": 187,
     "metadata": {},
     "output_type": "execute_result"
    },
    {
     "data": {
      "text/plain": [
       "Top nil feature map classification: \t"
      ]
     },
     "execution_count": 187,
     "metadata": {},
     "output_type": "execute_result"
    },
    {
     "data": {
      "text/plain": [
       "goldfish, Carassius auratus 14.133971214294\t\n",
       "14.133971214294\t\n",
       "875 is finished\t\n"
      ]
     },
     "execution_count": 187,
     "metadata": {},
     "output_type": "execute_result"
    },
    {
     "data": {
      "text/plain": [
       "Top nil feature map classification: \tgoldfish, Carassius auratus 16.30876159668\t\n",
       "16.30876159668\t\n",
       "876 is finished\t\n"
      ]
     },
     "execution_count": 187,
     "metadata": {},
     "output_type": "execute_result"
    },
    {
     "data": {
      "text/plain": [
       "Top nil feature map classification: \tlorikeet 11.730865478516\t\n",
       "11.579152107239\t\n",
       "877 is finished\t\n"
      ]
     },
     "execution_count": 187,
     "metadata": {},
     "output_type": "execute_result"
    },
    {
     "data": {
      "text/plain": [
       "Top nil feature map classification: \tgoldfish, Carassius auratus 13.938351631165\t\n",
       "13.938351631165\t\n",
       "878 is finished\t\n"
      ]
     },
     "execution_count": 187,
     "metadata": {},
     "output_type": "execute_result"
    },
    {
     "data": {
      "text/plain": [
       "Top nil feature map classification: \tgoldfish, Carassius auratus 16.832946777344\t\n",
       "16.832946777344\t\n",
       "879 is finished\t\n"
      ]
     },
     "execution_count": 187,
     "metadata": {},
     "output_type": "execute_result"
    },
    {
     "data": {
      "text/plain": [
       "Top nil feature map classification: \tgoldfish, Carassius auratus 20.610799789429\t\n",
       "20.610799789429\t\n",
       "880 is finished\t\n"
      ]
     },
     "execution_count": 187,
     "metadata": {},
     "output_type": "execute_result"
    },
    {
     "data": {
      "text/plain": [
       "Top nil feature map classification: \tgoldfish, Carassius auratus 19.778873443604\t\n",
       "19.778873443604\t\n",
       "881 is finished\t\n"
      ]
     },
     "execution_count": 187,
     "metadata": {},
     "output_type": "execute_result"
    },
    {
     "data": {
      "text/plain": [
       "Top nil feature map classification: \tleaf beetle, chrysomelid 11.181021690369\t\n",
       "4.0564675331116\t\n",
       "882 is finished\t\n"
      ]
     },
     "execution_count": 187,
     "metadata": {},
     "output_type": "execute_result"
    },
    {
     "data": {
      "text/plain": [
       "Top nil feature map classification: \tgoldfish, Carassius auratus 12.442461013794\t\n",
       "12.442461013794\t\n",
       "883 is finished\t\n"
      ]
     },
     "execution_count": 187,
     "metadata": {},
     "output_type": "execute_result"
    },
    {
     "data": {
      "text/plain": [
       "Top nil feature map classification: \tgoldfish, Carassius auratus 25.200138092041\t\n",
       "25.200138092041\t\n",
       "884 is finished\t\n"
      ]
     },
     "execution_count": 187,
     "metadata": {},
     "output_type": "execute_result"
    },
    {
     "data": {
      "text/plain": [
       "Top nil feature map classification: \tgoldfish, Carassius auratus 11.811689376831\t\n",
       "11.811689376831\t\n",
       "885 is finished\t\n"
      ]
     },
     "execution_count": 187,
     "metadata": {},
     "output_type": "execute_result"
    },
    {
     "data": {
      "text/plain": [
       "Top nil feature map classification: \tgoldfish, Carassius auratus 16.656688690186\t\n",
       "16.656688690186\t\n",
       "886 is finished\t\n"
      ]
     },
     "execution_count": 187,
     "metadata": {},
     "output_type": "execute_result"
    },
    {
     "data": {
      "text/plain": [
       "Top nil feature map classification: \tgoldfish, Carassius auratus 22.600206375122\t\n",
       "22.600206375122\t\n",
       "887 is finished\t\n"
      ]
     },
     "execution_count": 187,
     "metadata": {},
     "output_type": "execute_result"
    },
    {
     "data": {
      "text/plain": [
       "Top nil feature map classification: \tgoldfish, Carassius auratus 18.457942962646\t\n",
       "18.457942962646\t\n",
       "888 is finished\t\n"
      ]
     },
     "execution_count": 187,
     "metadata": {},
     "output_type": "execute_result"
    },
    {
     "data": {
      "text/plain": [
       "Top nil feature map classification: \tgoldfish, Carassius auratus 25.439641952515\t\n",
       "25.439641952515\t\n",
       "889 is finished\t\n"
      ]
     },
     "execution_count": 187,
     "metadata": {},
     "output_type": "execute_result"
    },
    {
     "data": {
      "text/plain": [
       "Top nil feature map classification: \tgoldfish, Carassius auratus 11.910292625427\t\n",
       "11.910292625427\t\n",
       "890 is finished\t\n"
      ]
     },
     "execution_count": 187,
     "metadata": {},
     "output_type": "execute_result"
    },
    {
     "data": {
      "text/plain": [
       "Top nil feature map classification: \tgoldfish, Carassius auratus 20.236408233643\t\n",
       "20.236408233643\t\n",
       "891 is finished\t\n"
      ]
     },
     "execution_count": 187,
     "metadata": {},
     "output_type": "execute_result"
    },
    {
     "data": {
      "text/plain": [
       "Top nil feature map classification: \tgoldfish, Carassius auratus 15.105484962463\t\n",
       "15.105484962463\t\n",
       "892 is finished\t\n"
      ]
     },
     "execution_count": 187,
     "metadata": {},
     "output_type": "execute_result"
    },
    {
     "data": {
      "text/plain": [
       "Top nil feature map classification: \tgoldfish, Carassius auratus 14.825487136841\t\n",
       "14.825487136841\t\n",
       "893 is finished\t\n"
      ]
     },
     "execution_count": 187,
     "metadata": {},
     "output_type": "execute_result"
    },
    {
     "data": {
      "text/plain": [
       "Top nil feature map classification: \tgoldfish, Carassius auratus 12.878158569336\t\n",
       "12.878158569336\t\n",
       "894 is finished\t\n"
      ]
     },
     "execution_count": 187,
     "metadata": {},
     "output_type": "execute_result"
    },
    {
     "data": {
      "text/plain": [
       "Top nil feature map classification: \tgoldfish, Carassius auratus 15.272438049316\t\n",
       "15.272438049316\t\n",
       "895 is finished\t\n"
      ]
     },
     "execution_count": 187,
     "metadata": {},
     "output_type": "execute_result"
    },
    {
     "data": {
      "text/plain": [
       "Top nil feature map classification: \tgoldfish, Carassius auratus 20.885534286499\t\n",
       "20.885534286499\t\n",
       "896 is finished\t\n"
      ]
     },
     "execution_count": 187,
     "metadata": {},
     "output_type": "execute_result"
    },
    {
     "data": {
      "text/plain": [
       "Top nil feature map classification: \tgoldfish, Carassius auratus 15.36918258667\t\n",
       "15.36918258667\t\n",
       "897 is finished\t\n"
      ]
     },
     "execution_count": 187,
     "metadata": {},
     "output_type": "execute_result"
    },
    {
     "data": {
      "text/plain": [
       "Top nil feature map classification: \tgoldfish, Carassius auratus 19.531381607056\t\n",
       "19.531381607056\t\n",
       "898 is finished\t\n"
      ]
     },
     "execution_count": 187,
     "metadata": {},
     "output_type": "execute_result"
    },
    {
     "data": {
      "text/plain": [
       "Top nil feature map classification: \tgoldfish, Carassius auratus 30.610231399536\t\n",
       "30.610231399536\t\n",
       "899 is finished\t\n"
      ]
     },
     "execution_count": 187,
     "metadata": {},
     "output_type": "execute_result"
    },
    {
     "data": {
      "text/plain": [
       "Top nil feature map classification: \tgoldfish, Carassius auratus 24.499681472778\t\n",
       "24.499681472778\t\n",
       "900 is finished\t\n"
      ]
     },
     "execution_count": 187,
     "metadata": {},
     "output_type": "execute_result"
    },
    {
     "data": {
      "text/plain": [
       "Top nil feature map classification: \tgoldfish, Carassius auratus 21.905307769775\t\n",
       "21.905307769775\t\n",
       "901 is finished\t\n"
      ]
     },
     "execution_count": 187,
     "metadata": {},
     "output_type": "execute_result"
    },
    {
     "data": {
      "text/plain": [
       "Top nil feature map classification: \tgoldfish, Carassius auratus 17.906770706177\t\n",
       "17.906770706177\t\n",
       "902 is finished\t\n"
      ]
     },
     "execution_count": 187,
     "metadata": {},
     "output_type": "execute_result"
    },
    {
     "data": {
      "text/plain": [
       "Top nil feature map classification: \tgoldfish, Carassius auratus 24.59126663208\t\n",
       "24.59126663208\t\n",
       "903 is finished\t\n"
      ]
     },
     "execution_count": 187,
     "metadata": {},
     "output_type": "execute_result"
    },
    {
     "data": {
      "text/plain": [
       "Top nil feature map classification: \tgoldfish, Carassius auratus 16.561819076538\t\n",
       "16.561819076538\t\n",
       "904 is finished\t\n"
      ]
     },
     "execution_count": 187,
     "metadata": {},
     "output_type": "execute_result"
    },
    {
     "data": {
      "text/plain": [
       "Top nil feature map classification: \tgoldfish, Carassius auratus 22.290689468384\t\n",
       "22.290689468384\t\n",
       "905 is finished\t\n"
      ]
     },
     "execution_count": 187,
     "metadata": {},
     "output_type": "execute_result"
    },
    {
     "data": {
      "text/plain": [
       "Top nil feature map classification: \tgoldfish, Carassius auratus 25.645849227905\t\n",
       "25.645849227905\t\n",
       "906 is finished\t\n"
      ]
     },
     "execution_count": 187,
     "metadata": {},
     "output_type": "execute_result"
    },
    {
     "data": {
      "text/plain": [
       "Top nil feature map classification: \tgoldfish, Carassius auratus 18.175363540649\t\n",
       "18.175363540649\t\n",
       "907 is finished\t\n"
      ]
     },
     "execution_count": 187,
     "metadata": {},
     "output_type": "execute_result"
    },
    {
     "data": {
      "text/plain": [
       "Top nil feature map classification: \tgoldfish, Carassius auratus 18.90093421936\t\n",
       "18.90093421936\t\n",
       "908 is finished\t\n"
      ]
     },
     "execution_count": 187,
     "metadata": {},
     "output_type": "execute_result"
    },
    {
     "data": {
      "text/plain": [
       "Top nil feature map classification: \tgoldfish, Carassius auratus 7.451427936554\t\n",
       "7.451427936554\t\n",
       "909 is finished\t\n"
      ]
     },
     "execution_count": 187,
     "metadata": {},
     "output_type": "execute_result"
    },
    {
     "data": {
      "text/plain": [
       "Top nil feature map classification: \tgoldfish, Carassius auratus 25.786273956299\t\n",
       "25.786273956299\t\n",
       "910 is finished\t\n"
      ]
     },
     "execution_count": 187,
     "metadata": {},
     "output_type": "execute_result"
    },
    {
     "data": {
      "text/plain": [
       "Top nil feature map classification: \tgoldfish, Carassius auratus 30.039865493774\t\n",
       "30.039865493774\t\n",
       "911 is finished\t\n"
      ]
     },
     "execution_count": 187,
     "metadata": {},
     "output_type": "execute_result"
    },
    {
     "data": {
      "text/plain": [
       "Top nil feature map classification: \t"
      ]
     },
     "execution_count": 187,
     "metadata": {},
     "output_type": "execute_result"
    },
    {
     "data": {
      "text/plain": [
       "goldfish, Carassius auratus 12.973678588867\t\n",
       "12.973678588867\t\n",
       "912 is finished\t\n"
      ]
     },
     "execution_count": 187,
     "metadata": {},
     "output_type": "execute_result"
    },
    {
     "data": {
      "text/plain": [
       "Top nil feature map classification: \tgoldfish, Carassius auratus 35.508861541748\t\n",
       "35.508861541748\t\n",
       "913 is finished\t\n"
      ]
     },
     "execution_count": 187,
     "metadata": {},
     "output_type": "execute_result"
    },
    {
     "data": {
      "text/plain": [
       "Top nil feature map classification: \tgoldfish, Carassius auratus 11.297027587891\t\n",
       "11.297027587891\t\n",
       "914 is finished\t\n"
      ]
     },
     "execution_count": 187,
     "metadata": {},
     "output_type": "execute_result"
    },
    {
     "data": {
      "text/plain": [
       "Top nil feature map classification: \tgoldfish, Carassius auratus 13.336009979248\t\n",
       "13.336009979248\t\n",
       "915 is finished\t\n"
      ]
     },
     "execution_count": 187,
     "metadata": {},
     "output_type": "execute_result"
    },
    {
     "data": {
      "text/plain": [
       "Top nil feature map classification: \tgoldfish, Carassius auratus 23.499549865723\t\n",
       "23.499549865723\t\n",
       "916 is finished\t\n"
      ]
     },
     "execution_count": 187,
     "metadata": {},
     "output_type": "execute_result"
    },
    {
     "data": {
      "text/plain": [
       "Top nil feature map classification: \tgoldfish, Carassius auratus 24.636121749878\t\n",
       "24.636121749878\t\n",
       "917 is finished\t\n"
      ]
     },
     "execution_count": 187,
     "metadata": {},
     "output_type": "execute_result"
    },
    {
     "data": {
      "text/plain": [
       "Top nil feature map classification: \tgoldfish, Carassius auratus 27.083562850952\t\n",
       "27.083562850952\t\n",
       "918 is finished\t\n"
      ]
     },
     "execution_count": 187,
     "metadata": {},
     "output_type": "execute_result"
    },
    {
     "data": {
      "text/plain": [
       "Top nil feature map classification: \tgoldfish, Carassius auratus 13.210967063904\t\n",
       "13.210967063904\t\n",
       "919 is finished\t\n"
      ]
     },
     "execution_count": 187,
     "metadata": {},
     "output_type": "execute_result"
    },
    {
     "data": {
      "text/plain": [
       "Top nil feature map classification: \tgoldfish, Carassius auratus 13.97917842865\t\n",
       "13.97917842865\t\n",
       "920 is finished\t\n"
      ]
     },
     "execution_count": 187,
     "metadata": {},
     "output_type": "execute_result"
    },
    {
     "data": {
      "text/plain": [
       "Top nil feature map classification: \taxolotl, mud puppy, Ambystoma mexicanum 17.874376296997\t\n",
       "16.965099334717\t\n",
       "921 is finished\t\n"
      ]
     },
     "execution_count": 187,
     "metadata": {},
     "output_type": "execute_result"
    },
    {
     "data": {
      "text/plain": [
       "Top nil feature map classification: \tgoldfish, Carassius auratus 14.869312286377\t\n",
       "14.869312286377\t\n",
       "922 is finished\t\n"
      ]
     },
     "execution_count": 187,
     "metadata": {},
     "output_type": "execute_result"
    },
    {
     "data": {
      "text/plain": [
       "Top nil feature map classification: \tgoldfish, Carassius auratus 25.476064682007\t\n",
       "25.476064682007\t\n",
       "923 is finished\t\n"
      ]
     },
     "execution_count": 187,
     "metadata": {},
     "output_type": "execute_result"
    },
    {
     "data": {
      "text/plain": [
       "Top nil feature map classification: \tgoldfish, Carassius auratus 24.458444595337\t\n",
       "24.458444595337\t\n",
       "924 is finished\t\n"
      ]
     },
     "execution_count": 187,
     "metadata": {},
     "output_type": "execute_result"
    },
    {
     "data": {
      "text/plain": [
       "Top nil feature map classification: \tgoldfish, Carassius auratus 14.908712387085\t\n",
       "14.908712387085\t\n",
       "925 is finished\t\n"
      ]
     },
     "execution_count": 187,
     "metadata": {},
     "output_type": "execute_result"
    },
    {
     "data": {
      "text/plain": [
       "Top nil feature map classification: \tgoldfish, Carassius auratus 15.236669540405\t\n",
       "15.236669540405\t\n",
       "926 is finished\t\n"
      ]
     },
     "execution_count": 187,
     "metadata": {},
     "output_type": "execute_result"
    },
    {
     "data": {
      "text/plain": [
       "Top nil feature map classification: \tgoldfish, Carassius auratus 23.479974746704\t\n",
       "23.479974746704\t\n",
       "927 is finished\t\n"
      ]
     },
     "execution_count": 187,
     "metadata": {},
     "output_type": "execute_result"
    },
    {
     "data": {
      "text/plain": [
       "Top nil feature map classification: \tgoldfish, Carassius auratus 17.98620223999\t\n",
       "17.98620223999\t\n",
       "928 is finished\t\n"
      ]
     },
     "execution_count": 187,
     "metadata": {},
     "output_type": "execute_result"
    },
    {
     "data": {
      "text/plain": [
       "Top nil feature map classification: \tgoldfish, Carassius auratus 18.634395599365\t\n",
       "18.634395599365\t\n",
       "929 is finished\t\n"
      ]
     },
     "execution_count": 187,
     "metadata": {},
     "output_type": "execute_result"
    },
    {
     "data": {
      "text/plain": [
       "Top nil feature map classification: \tgoldfish, Carassius auratus 24.895732879639\t\n",
       "24.895732879639\t\n",
       "930 is finished\t\n"
      ]
     },
     "execution_count": 187,
     "metadata": {},
     "output_type": "execute_result"
    },
    {
     "data": {
      "text/plain": [
       "Top nil feature map classification: \tgoldfish, Carassius auratus 16.912992477417\t\n",
       "16.912992477417\t\n",
       "931 is finished\t\n"
      ]
     },
     "execution_count": 187,
     "metadata": {},
     "output_type": "execute_result"
    },
    {
     "data": {
      "text/plain": [
       "Top nil feature map classification: \tgoldfish, Carassius auratus 22.239305496216\t\n",
       "22.239305496216\t\n",
       "932 is finished\t\n"
      ]
     },
     "execution_count": 187,
     "metadata": {},
     "output_type": "execute_result"
    },
    {
     "data": {
      "text/plain": [
       "Top nil feature map classification: \tgoldfish, Carassius auratus 17.582901000977\t\n",
       "17.582901000977\t\n",
       "933 is finished\t\n"
      ]
     },
     "execution_count": 187,
     "metadata": {},
     "output_type": "execute_result"
    },
    {
     "data": {
      "text/plain": [
       "Top nil feature map classification: \tgoldfish, Carassius auratus 22.162057876587\t\n",
       "22.162057876587\t\n",
       "934 is finished\t\n"
      ]
     },
     "execution_count": 187,
     "metadata": {},
     "output_type": "execute_result"
    },
    {
     "data": {
      "text/plain": [
       "Top nil feature map classification: \tgoldfish, Carassius auratus 12.468324661255\t\n",
       "12.468324661255\t\n",
       "935 is finished\t\n"
      ]
     },
     "execution_count": 187,
     "metadata": {},
     "output_type": "execute_result"
    },
    {
     "data": {
      "text/plain": [
       "Top nil feature map classification: \tpadlock 9.9825878143311\t\n",
       "6.9835209846497\t\n",
       "936 is finished\t\n"
      ]
     },
     "execution_count": 187,
     "metadata": {},
     "output_type": "execute_result"
    },
    {
     "data": {
      "text/plain": [
       "Top nil feature map classification: \tgoldfish, Carassius auratus 15.938014030457\t\n",
       "15.938014030457\t\n",
       "937 is finished\t\n"
      ]
     },
     "execution_count": 187,
     "metadata": {},
     "output_type": "execute_result"
    },
    {
     "data": {
      "text/plain": [
       "Top nil feature map classification: \tanemone fish 20.508436203003\t\n",
       "15.557600021362\t\n",
       "938 is finished\t\n"
      ]
     },
     "execution_count": 187,
     "metadata": {},
     "output_type": "execute_result"
    },
    {
     "data": {
      "text/plain": [
       "Top nil feature map classification: \tgoldfish, Carassius auratus 29.700700759888\t\n",
       "29.700700759888\t\n",
       "939 is finished\t\n"
      ]
     },
     "execution_count": 187,
     "metadata": {},
     "output_type": "execute_result"
    },
    {
     "data": {
      "text/plain": [
       "Top nil feature map classification: \tgoldfish, Carassius auratus 23.406372070312\t\n",
       "23.406372070312\t\n",
       "940 is finished\t\n"
      ]
     },
     "execution_count": 187,
     "metadata": {},
     "output_type": "execute_result"
    },
    {
     "data": {
      "text/plain": [
       "Top nil feature map classification: \tgoldfish, Carassius auratus 17.844846725464\t\n",
       "17.844846725464\t\n",
       "941 is finished\t\n"
      ]
     },
     "execution_count": 187,
     "metadata": {},
     "output_type": "execute_result"
    },
    {
     "data": {
      "text/plain": [
       "Top nil feature map classification: \tgoldfish, Carassius auratus 12.225759506226\t\n",
       "12.225759506226\t\n",
       "942 is finished\t\n"
      ]
     },
     "execution_count": 187,
     "metadata": {},
     "output_type": "execute_result"
    },
    {
     "data": {
      "text/plain": [
       "Top nil feature map classification: \tgoldfish, Carassius auratus 23.355195999146\t\n",
       "23.355195999146\t\n",
       "943 is finished\t\n"
      ]
     },
     "execution_count": 187,
     "metadata": {},
     "output_type": "execute_result"
    },
    {
     "data": {
      "text/plain": [
       "Top nil feature map classification: \tgoldfish, Carassius auratus 11.436221122742\t\n",
       "11.436221122742\t\n",
       "944 is finished\t\n"
      ]
     },
     "execution_count": 187,
     "metadata": {},
     "output_type": "execute_result"
    },
    {
     "data": {
      "text/plain": [
       "Top nil feature map classification: \tgoldfish, Carassius auratus 14.770071029663\t\n",
       "14.770071029663\t\n",
       "945 is finished\t\n"
      ]
     },
     "execution_count": 187,
     "metadata": {},
     "output_type": "execute_result"
    },
    {
     "data": {
      "text/plain": [
       "Top nil feature map classification: \tgoldfish, Carassius auratus 31.648250579834\t\n",
       "31.648250579834\t\n",
       "946 is finished\t\n"
      ]
     },
     "execution_count": 187,
     "metadata": {},
     "output_type": "execute_result"
    },
    {
     "data": {
      "text/plain": [
       "Top nil feature map classification: \tgoldfish, Carassius auratus 25.460065841675\t\n",
       "25.460065841675\t\n",
       "947 is finished\t\n"
      ]
     },
     "execution_count": 187,
     "metadata": {},
     "output_type": "execute_result"
    },
    {
     "data": {
      "text/plain": [
       "Top nil feature map classification: \tgoldfish, Carassius auratus 11.150585174561\t\n",
       "11.150585174561\t\n",
       "948 is finished\t\n"
      ]
     },
     "execution_count": 187,
     "metadata": {},
     "output_type": "execute_result"
    },
    {
     "data": {
      "text/plain": [
       "Top nil feature map classification: \tgoldfish, Carassius auratus 25.266128540039\t\n",
       "25.266128540039\t\n",
       "949 is finished\t\n"
      ]
     },
     "execution_count": 187,
     "metadata": {},
     "output_type": "execute_result"
    },
    {
     "data": {
      "text/plain": [
       "Top nil feature map classification: \twaffle iron 12.656397819519\t\n",
       "10.858192443848\t\n",
       "950 is finished\t\n"
      ]
     },
     "execution_count": 187,
     "metadata": {},
     "output_type": "execute_result"
    },
    {
     "data": {
      "text/plain": [
       "Top nil feature map classification: \tgoldfish, Carassius auratus 13.72390460968\t\n",
       "13.72390460968\t\n",
       "951 is finished\t\n"
      ]
     },
     "execution_count": 187,
     "metadata": {},
     "output_type": "execute_result"
    },
    {
     "data": {
      "text/plain": [
       "Top nil feature map classification: \tgoldfish, Carassius auratus 21.013820648193\t\n",
       "21.013820648193\t\n",
       "952 is finished\t\n"
      ]
     },
     "execution_count": 187,
     "metadata": {},
     "output_type": "execute_result"
    },
    {
     "data": {
      "text/plain": [
       "Top nil feature map classification: \tgoldfish, Carassius auratus 19.026285171509\t\n",
       "19.026285171509\t\n",
       "953 is finished\t\n"
      ]
     },
     "execution_count": 187,
     "metadata": {},
     "output_type": "execute_result"
    },
    {
     "data": {
      "text/plain": [
       "Top nil feature map classification: \tgoldfish, Carassius auratus 29.374269485474\t\n",
       "29.374269485474\t\n",
       "954 is finished\t\n"
      ]
     },
     "execution_count": 187,
     "metadata": {},
     "output_type": "execute_result"
    },
    {
     "data": {
      "text/plain": [
       "Top nil feature map classification: \tgoldfish, Carassius auratus 16.460338592529\t\n",
       "16.460338592529\t\n",
       "955 is finished\t\n"
      ]
     },
     "execution_count": 187,
     "metadata": {},
     "output_type": "execute_result"
    },
    {
     "data": {
      "text/plain": [
       "Top nil feature map classification: \tgoldfish, Carassius auratus 17.72511100769\t\n",
       "17.72511100769\t\n",
       "956 is finished\t\n"
      ]
     },
     "execution_count": 187,
     "metadata": {},
     "output_type": "execute_result"
    },
    {
     "data": {
      "text/plain": [
       "Top nil feature map classification: \tgoldfish, Carassius auratus 25.34121131897\t\n",
       "25.34121131897\t\n",
       "957 is finished\t\n"
      ]
     },
     "execution_count": 187,
     "metadata": {},
     "output_type": "execute_result"
    },
    {
     "data": {
      "text/plain": [
       "Top nil feature map classification: \tgoldfish, Carassius auratus 24.361837387085\t\n",
       "24.361837387085\t\n",
       "958 is finished\t\n"
      ]
     },
     "execution_count": 187,
     "metadata": {},
     "output_type": "execute_result"
    },
    {
     "data": {
      "text/plain": [
       "Top nil feature map classification: \tgoldfish, Carassius auratus 25.103693008423\t\n",
       "25.103693008423\t\n",
       "959 is finished\t\n"
      ]
     },
     "execution_count": 187,
     "metadata": {},
     "output_type": "execute_result"
    },
    {
     "data": {
      "text/plain": [
       "Top nil feature map classification: \tgoldfish, Carassius auratus 25.90288734436\t\n",
       "25.90288734436\t\n",
       "960 is finished\t\n"
      ]
     },
     "execution_count": 187,
     "metadata": {},
     "output_type": "execute_result"
    },
    {
     "data": {
      "text/plain": [
       "Top nil feature map classification: \tgoldfish, Carassius auratus 13.871754646301\t\n",
       "13.871754646301\t\n",
       "961 is finished\t\n"
      ]
     },
     "execution_count": 187,
     "metadata": {},
     "output_type": "execute_result"
    },
    {
     "data": {
      "text/plain": [
       "Top nil feature map classification: \tgoldfish, Carassius auratus 14.917022705078\t\n",
       "14.917022705078\t\n",
       "962 is finished\t\n"
      ]
     },
     "execution_count": 187,
     "metadata": {},
     "output_type": "execute_result"
    },
    {
     "data": {
      "text/plain": [
       "Top nil feature map classification: \tgoldfish, Carassius auratus 11.761201858521\t\n",
       "11.761201858521\t\n",
       "963 is finished\t\n"
      ]
     },
     "execution_count": 187,
     "metadata": {},
     "output_type": "execute_result"
    },
    {
     "data": {
      "text/plain": [
       "Top nil feature map classification: \tgoldfish, Carassius auratus 15.958828926086\t\n",
       "15.958828926086\t\n",
       "964 is finished\t\n"
      ]
     },
     "execution_count": 187,
     "metadata": {},
     "output_type": "execute_result"
    },
    {
     "data": {
      "text/plain": [
       "Top nil feature map classification: \tgoldfish, Carassius auratus 19.39518737793\t\n",
       "19.39518737793\t\n",
       "965 is finished\t\n"
      ]
     },
     "execution_count": 187,
     "metadata": {},
     "output_type": "execute_result"
    },
    {
     "data": {
      "text/plain": [
       "Top nil feature map classification: \tgoldfish, Carassius auratus 12.98083782196\t\n",
       "12.98083782196\t\n",
       "966 is finished\t\n"
      ]
     },
     "execution_count": 187,
     "metadata": {},
     "output_type": "execute_result"
    },
    {
     "data": {
      "text/plain": [
       "Top nil feature map classification: \tgoldfish, Carassius auratus 17.385343551636\t\n",
       "17.385343551636\t\n",
       "967 is finished\t\n"
      ]
     },
     "execution_count": 187,
     "metadata": {},
     "output_type": "execute_result"
    },
    {
     "data": {
      "text/plain": [
       "Top nil feature map classification: \tgoldfish, Carassius auratus 22.134370803833\t\n",
       "22.134370803833\t\n",
       "968 is finished\t\n"
      ]
     },
     "execution_count": 187,
     "metadata": {},
     "output_type": "execute_result"
    },
    {
     "data": {
      "text/plain": [
       "Top nil feature map classification: \tgoldfish, Carassius auratus 28.711330413818\t\n",
       "28.711330413818\t\n",
       "969 is finished\t\n"
      ]
     },
     "execution_count": 187,
     "metadata": {},
     "output_type": "execute_result"
    },
    {
     "data": {
      "text/plain": [
       "Top nil feature map classification: \tsoap dispenser 10.880085945129\t\n",
       "10.048895835876\t\n",
       "970 is finished\t\n"
      ]
     },
     "execution_count": 187,
     "metadata": {},
     "output_type": "execute_result"
    },
    {
     "data": {
      "text/plain": [
       "Top nil feature map classification: \tgoldfish, Carassius auratus 17.009162902832\t\n",
       "17.009162902832\t\n",
       "971 is finished\t\n"
      ]
     },
     "execution_count": 187,
     "metadata": {},
     "output_type": "execute_result"
    },
    {
     "data": {
      "text/plain": [
       "Top nil feature map classification: \tgoldfish, Carassius auratus 14.200214385986\t\n",
       "14.200214385986\t\n",
       "972 is finished\t\n"
      ]
     },
     "execution_count": 187,
     "metadata": {},
     "output_type": "execute_result"
    },
    {
     "data": {
      "text/plain": [
       "Top nil feature map classification: \tgoldfish, Carassius auratus 21.264730453491\t\n",
       "21.264730453491\t\n",
       "973 is finished\t\n"
      ]
     },
     "execution_count": 187,
     "metadata": {},
     "output_type": "execute_result"
    },
    {
     "data": {
      "text/plain": [
       "Top nil feature map classification: \tgoldfish, Carassius auratus 23.499366760254\t\n",
       "23.499366760254\t\n",
       "974 is finished\t\n"
      ]
     },
     "execution_count": 187,
     "metadata": {},
     "output_type": "execute_result"
    },
    {
     "data": {
      "text/plain": [
       "Top nil feature map classification: \tgoldfish, Carassius auratus 26.723762512207\t\n",
       "26.723762512207\t\n",
       "975 is finished\t\n"
      ]
     },
     "execution_count": 187,
     "metadata": {},
     "output_type": "execute_result"
    },
    {
     "data": {
      "text/plain": [
       "Top nil feature map classification: \tgoldfish, Carassius auratus 30.472568511963\t\n",
       "30.472568511963\t\n",
       "976 is finished\t\n"
      ]
     },
     "execution_count": 187,
     "metadata": {},
     "output_type": "execute_result"
    },
    {
     "data": {
      "text/plain": [
       "Top nil feature map classification: \tgoldfish, Carassius auratus 19.924341201782\t\n",
       "19.924341201782\t\n",
       "977 is finished\t\n"
      ]
     },
     "execution_count": 187,
     "metadata": {},
     "output_type": "execute_result"
    },
    {
     "data": {
      "text/plain": [
       "Top nil feature map classification: \tgoldfish, Carassius auratus 20.948843002319\t\n",
       "20.948843002319\t\n",
       "978 is finished\t\n"
      ]
     },
     "execution_count": 187,
     "metadata": {},
     "output_type": "execute_result"
    },
    {
     "data": {
      "text/plain": [
       "Top nil feature map classification: \tgoldfish, Carassius auratus 13.357900619507\t\n",
       "13.357900619507\t\n",
       "979 is finished\t\n"
      ]
     },
     "execution_count": 187,
     "metadata": {},
     "output_type": "execute_result"
    },
    {
     "data": {
      "text/plain": [
       "Top nil feature map classification: \tgoldfish, Carassius auratus 21.630241394043\t\n",
       "21.630241394043\t\n",
       "980 is finished\t\n"
      ]
     },
     "execution_count": 187,
     "metadata": {},
     "output_type": "execute_result"
    },
    {
     "data": {
      "text/plain": [
       "Top nil feature map classification: \tgoldfish, Carassius auratus 13.656171798706\t\n",
       "13.656171798706\t\n",
       "981 is finished\t\n"
      ]
     },
     "execution_count": 187,
     "metadata": {},
     "output_type": "execute_result"
    },
    {
     "data": {
      "text/plain": [
       "Top nil feature map classification: \tgoldfish, Carassius auratus 18.910139083862\t\n",
       "18.910139083862\t\n",
       "982 is finished\t\n"
      ]
     },
     "execution_count": 187,
     "metadata": {},
     "output_type": "execute_result"
    },
    {
     "data": {
      "text/plain": [
       "Top nil feature map classification: \tgoldfish, Carassius auratus 22.291522979736\t\n",
       "22.291522979736\t\n",
       "983 is finished\t\n"
      ]
     },
     "execution_count": 187,
     "metadata": {},
     "output_type": "execute_result"
    },
    {
     "data": {
      "text/plain": [
       "Top nil feature map classification: \tpitcher, ewer 12.998777389526\t\n",
       "12.894135475159\t\n",
       "984 is finished\t\n"
      ]
     },
     "execution_count": 187,
     "metadata": {},
     "output_type": "execute_result"
    },
    {
     "data": {
      "text/plain": [
       "Top nil feature map classification: \tgoldfish, Carassius auratus 23.375812530518\t\n",
       "23.375812530518\t\n",
       "985 is finished\t\n"
      ]
     },
     "execution_count": 187,
     "metadata": {},
     "output_type": "execute_result"
    },
    {
     "data": {
      "text/plain": [
       "Top nil feature map classification: \tgoldfish, Carassius auratus 28.67343711853\t\n",
       "28.67343711853\t\n",
       "986 is finished\t\n"
      ]
     },
     "execution_count": 187,
     "metadata": {},
     "output_type": "execute_result"
    },
    {
     "data": {
      "text/plain": [
       "Top nil feature map classification: \tgoldfish, Carassius auratus 16.619508743286\t\n",
       "16.619508743286\t\n",
       "987 is finished\t\n"
      ]
     },
     "execution_count": 187,
     "metadata": {},
     "output_type": "execute_result"
    },
    {
     "data": {
      "text/plain": [
       "Top nil feature map classification: \tgoldfish, Carassius auratus 12.962393760681\t\n",
       "12.962393760681\t\n",
       "988 is finished\t\n"
      ]
     },
     "execution_count": 187,
     "metadata": {},
     "output_type": "execute_result"
    },
    {
     "data": {
      "text/plain": [
       "Top nil feature map classification: \tgoldfish, Carassius auratus 11.279089927673\t\n",
       "11.279089927673\t\n",
       "989 is finished\t\n"
      ]
     },
     "execution_count": 187,
     "metadata": {},
     "output_type": "execute_result"
    },
    {
     "data": {
      "text/plain": [
       "Top nil feature map classification: \tgoldfish, Carassius auratus 22.013198852539\t\n",
       "22.013198852539\t\n",
       "990 is finished\t\n"
      ]
     },
     "execution_count": 187,
     "metadata": {},
     "output_type": "execute_result"
    },
    {
     "data": {
      "text/plain": [
       "Top nil feature map classification: \tgoldfish, Carassius auratus 26.034215927124\t\n",
       "26.034215927124\t\n",
       "991 is finished\t\n"
      ]
     },
     "execution_count": 187,
     "metadata": {},
     "output_type": "execute_result"
    },
    {
     "data": {
      "text/plain": [
       "Top nil feature map classification: \tgoldfish, Carassius auratus 26.036912918091\t\n",
       "26.036912918091\t\n",
       "992 is finished\t\n"
      ]
     },
     "execution_count": 187,
     "metadata": {},
     "output_type": "execute_result"
    },
    {
     "data": {
      "text/plain": [
       "Top nil feature map classification: \tgoldfish, Carassius auratus 14.98353767395\t\n",
       "14.98353767395\t\n",
       "993 is finished\t\n"
      ]
     },
     "execution_count": 187,
     "metadata": {},
     "output_type": "execute_result"
    },
    {
     "data": {
      "text/plain": [
       "Top nil feature map classification: \tgoldfish, Carassius auratus 29.775230407715\t\n",
       "29.775230407715\t\n",
       "994 is finished\t\n"
      ]
     },
     "execution_count": 187,
     "metadata": {},
     "output_type": "execute_result"
    },
    {
     "data": {
      "text/plain": [
       "Top nil feature map classification: \tgoldfish, Carassius auratus 16.136289596558\t\n",
       "16.136289596558\t\n",
       "995 is finished\t\n"
      ]
     },
     "execution_count": 187,
     "metadata": {},
     "output_type": "execute_result"
    },
    {
     "data": {
      "text/plain": [
       "Top nil feature map classification: \tgoldfish, Carassius auratus 20.02491569519\t\n",
       "20.02491569519\t\n",
       "996 is finished\t\n"
      ]
     },
     "execution_count": 187,
     "metadata": {},
     "output_type": "execute_result"
    },
    {
     "data": {
      "text/plain": [
       "Top nil feature map classification: \tgoldfish, Carassius auratus 20.040866851807\t\n",
       "20.040866851807\t\n",
       "997 is finished\t\n"
      ]
     },
     "execution_count": 187,
     "metadata": {},
     "output_type": "execute_result"
    },
    {
     "data": {
      "text/plain": [
       "Top nil feature map classification: \tgoldfish, Carassius auratus 23.177282333374\t\n",
       "23.177282333374\t\n",
       "998 is finished\t\n"
      ]
     },
     "execution_count": 187,
     "metadata": {},
     "output_type": "execute_result"
    },
    {
     "data": {
      "text/plain": [
       "Top nil feature map classification: \tgoldfish, Carassius auratus 21.286060333252\t\n",
       "21.286060333252\t\n",
       "999 is finished\t\n"
      ]
     },
     "execution_count": 187,
     "metadata": {},
     "output_type": "execute_result"
    },
    {
     "data": {
      "text/plain": [
       "Top nil feature map classification: \tgoldfish, Carassius auratus 21.34708404541\t\n",
       "21.34708404541\t\n",
       "1000 is finished\t\n"
      ]
     },
     "execution_count": 187,
     "metadata": {},
     "output_type": "execute_result"
    },
    {
     "data": {
      "text/plain": [
       "Top nil feature map classification: \tgoldfish, Carassius auratus 9.2180700302124\t\n",
       "9.2180700302124\t\n",
       "1001 is finished\t\n"
      ]
     },
     "execution_count": 187,
     "metadata": {},
     "output_type": "execute_result"
    },
    {
     "data": {
      "text/plain": [
       "Top nil feature map classification: \tgoldfish, Carassius auratus 22.017602920532\t\n",
       "22.017602920532\t\n",
       "1002 is finished\t\n"
      ]
     },
     "execution_count": 187,
     "metadata": {},
     "output_type": "execute_result"
    },
    {
     "data": {
      "text/plain": [
       "Top nil feature map classification: \tgoldfish, Carassius auratus 12.420660018921\t\n",
       "12.420660018921\t\n",
       "1003 is finished\t\n"
      ]
     },
     "execution_count": 187,
     "metadata": {},
     "output_type": "execute_result"
    },
    {
     "data": {
      "text/plain": [
       "Top nil feature map classification: \tgoldfish, Carassius auratus 14.173447608948\t\n",
       "14.173447608948\t\n",
       "1004 is finished\t\n"
      ]
     },
     "execution_count": 187,
     "metadata": {},
     "output_type": "execute_result"
    },
    {
     "data": {
      "text/plain": [
       "Top nil feature map classification: \tgoldfish, Carassius auratus 8.8267097473145\t\n",
       "8.8267097473145\t\n",
       "1005 is finished\t\n"
      ]
     },
     "execution_count": 187,
     "metadata": {},
     "output_type": "execute_result"
    },
    {
     "data": {
      "text/plain": [
       "Top nil feature map classification: \tgoldfish, Carassius auratus 11.435822486877\t\n",
       "11.435822486877\t\n",
       "1006 is finished\t\n"
      ]
     },
     "execution_count": 187,
     "metadata": {},
     "output_type": "execute_result"
    },
    {
     "data": {
      "text/plain": [
       "Top nil feature map classification: \tgoldfish, Carassius auratus 25.51969909668\t\n",
       "25.51969909668\t\n",
       "1007 is finished\t\n"
      ]
     },
     "execution_count": 187,
     "metadata": {},
     "output_type": "execute_result"
    },
    {
     "data": {
      "text/plain": [
       "Top nil feature map classification: \tgoldfish, Carassius auratus 26.231142044067\t\n",
       "26.231142044067\t\n",
       "1008 is finished\t\n"
      ]
     },
     "execution_count": 187,
     "metadata": {},
     "output_type": "execute_result"
    },
    {
     "data": {
      "text/plain": [
       "Top nil feature map classification: \tgoldfish, Carassius auratus 17.492118835449\t\n",
       "17.492118835449\t\n",
       "1009 is finished\t\n"
      ]
     },
     "execution_count": 187,
     "metadata": {},
     "output_type": "execute_result"
    },
    {
     "data": {
      "text/plain": [
       "Top nil feature map classification: \tgoldfish, Carassius auratus 20.636413574219\t\n",
       "20.636413574219\t\n",
       "1010 is finished\t\n"
      ]
     },
     "execution_count": 187,
     "metadata": {},
     "output_type": "execute_result"
    },
    {
     "data": {
      "text/plain": [
       "Top nil feature map classification: \tgoldfish, Carassius auratus 29.705537796021\t\n",
       "29.705537796021\t\n",
       "1011 is finished\t\n"
      ]
     },
     "execution_count": 187,
     "metadata": {},
     "output_type": "execute_result"
    },
    {
     "data": {
      "text/plain": [
       "Top nil feature map classification: \tgoldfish, Carassius auratus 13.94681930542\t\n",
       "13.94681930542\t\n",
       "1012 is finished\t\n"
      ]
     },
     "execution_count": 187,
     "metadata": {},
     "output_type": "execute_result"
    },
    {
     "data": {
      "text/plain": [
       "Top nil feature map classification: \tgoldfish, Carassius auratus 26.844799041748\t\n",
       "26.844799041748\t\n",
       "1013 is finished\t\n"
      ]
     },
     "execution_count": 187,
     "metadata": {},
     "output_type": "execute_result"
    },
    {
     "data": {
      "text/plain": [
       "Top nil feature map classification: \tgoldfish, Carassius auratus 26.990339279175\t\n",
       "26.990339279175\t\n",
       "1014 is finished\t\n"
      ]
     },
     "execution_count": 187,
     "metadata": {},
     "output_type": "execute_result"
    },
    {
     "data": {
      "text/plain": [
       "Top nil feature map classification: \tgoldfish, Carassius auratus 11.668899536133\t\n",
       "11.668899536133\t\n",
       "1015 is finished\t\n"
      ]
     },
     "execution_count": 187,
     "metadata": {},
     "output_type": "execute_result"
    },
    {
     "data": {
      "text/plain": [
       "Top nil feature map classification: \tgoldfish, Carassius auratus 28.521278381348\t\n",
       "28.521278381348\t\n",
       "1016 is finished\t\n"
      ]
     },
     "execution_count": 187,
     "metadata": {},
     "output_type": "execute_result"
    },
    {
     "data": {
      "text/plain": [
       "Top nil feature map classification: \tgoldfish, Carassius auratus 14.847673416138\t\n",
       "14.847673416138\t\n",
       "1017 is finished\t\n"
      ]
     },
     "execution_count": 187,
     "metadata": {},
     "output_type": "execute_result"
    },
    {
     "data": {
      "text/plain": [
       "Top nil feature map classification: \tgoldfish, Carassius auratus 17.027833938599\t\n",
       "17.027833938599\t\n",
       "1018 is finished\t\n"
      ]
     },
     "execution_count": 187,
     "metadata": {},
     "output_type": "execute_result"
    },
    {
     "data": {
      "text/plain": [
       "Top nil feature map classification: \tgoldfish, Carassius auratus 10.917596817017\t\n",
       "10.917596817017\t\n",
       "1019 is finished\t\n"
      ]
     },
     "execution_count": 187,
     "metadata": {},
     "output_type": "execute_result"
    },
    {
     "data": {
      "text/plain": [
       "Top nil feature map classification: \tgoldfish, Carassius auratus 21.851272583008\t\n",
       "21.851272583008\t\n",
       "1020 is finished\t\n"
      ]
     },
     "execution_count": 187,
     "metadata": {},
     "output_type": "execute_result"
    },
    {
     "data": {
      "text/plain": [
       "Top nil feature map classification: \tgoldfish, Carassius auratus 15.013173103333\t\n",
       "15.013173103333\t\n",
       "1021 is finished\t\n"
      ]
     },
     "execution_count": 187,
     "metadata": {},
     "output_type": "execute_result"
    },
    {
     "data": {
      "text/plain": [
       "Top nil feature map classification: \tgoldfish, Carassius auratus 14.346059799194\t\n",
       "14.346059799194\t\n",
       "1022 is finished\t\n"
      ]
     },
     "execution_count": 187,
     "metadata": {},
     "output_type": "execute_result"
    },
    {
     "data": {
      "text/plain": [
       "Top nil feature map classification: \tgoldfish, Carassius auratus 20.337434768677\t\n",
       "20.337434768677\t\n",
       "1023 is finished\t\n"
      ]
     },
     "execution_count": 187,
     "metadata": {},
     "output_type": "execute_result"
    },
    {
     "data": {
      "text/plain": [
       "Top nil feature map classification: \tgoldfish, Carassius auratus 20.706342697144\t\n",
       "20.706342697144\t\n",
       "1024 is finished\t\n"
      ]
     },
     "execution_count": 187,
     "metadata": {},
     "output_type": "execute_result"
    },
    {
     "data": {
      "text/plain": [
       "Top nil feature map classification: \tgoldfish, Carassius auratus 23.666536331177\t\n",
       "23.666536331177\t\n",
       "1025 is finished\t\n"
      ]
     },
     "execution_count": 187,
     "metadata": {},
     "output_type": "execute_result"
    },
    {
     "data": {
      "text/plain": [
       "Top nil feature map classification: \tgoldfish, Carassius auratus 23.730527877808\t\n",
       "23.730527877808\t\n",
       "1026 is finished\t\n"
      ]
     },
     "execution_count": 187,
     "metadata": {},
     "output_type": "execute_result"
    },
    {
     "data": {
      "text/plain": [
       "Top nil feature map classification: \tgoldfish, Carassius auratus 19.809434890747\t\n",
       "19.809434890747\t\n",
       "1027 is finished\t\n"
      ]
     },
     "execution_count": 187,
     "metadata": {},
     "output_type": "execute_result"
    },
    {
     "data": {
      "text/plain": [
       "Top nil feature map classification: \tgoldfish, Carassius auratus 20.005170822144\t\n",
       "20.005170822144\t\n",
       "1028 is finished\t\n"
      ]
     },
     "execution_count": 187,
     "metadata": {},
     "output_type": "execute_result"
    },
    {
     "data": {
      "text/plain": [
       "Top nil feature map classification: \tgoldfish, Carassius auratus 25.263006210327\t\n",
       "25.263006210327\t\n",
       "1029 is finished\t\n"
      ]
     },
     "execution_count": 187,
     "metadata": {},
     "output_type": "execute_result"
    },
    {
     "data": {
      "text/plain": [
       "Top nil feature map classification: \tgoldfish, Carassius auratus 18.040445327759\t\n",
       "18.040445327759\t\n",
       "1030 is finished\t\n"
      ]
     },
     "execution_count": 187,
     "metadata": {},
     "output_type": "execute_result"
    },
    {
     "data": {
      "text/plain": [
       "Top nil feature map classification: \tgoldfish, Carassius auratus 25.007852554321\t\n",
       "25.007852554321\t\n",
       "1031 is finished\t\n"
      ]
     },
     "execution_count": 187,
     "metadata": {},
     "output_type": "execute_result"
    },
    {
     "data": {
      "text/plain": [
       "Top nil feature map classification: \tgoldfish, Carassius auratus 25.182975769043\t\n",
       "25.182975769043\t\n",
       "1032 is finished\t\n"
      ]
     },
     "execution_count": 187,
     "metadata": {},
     "output_type": "execute_result"
    },
    {
     "data": {
      "text/plain": [
       "Top nil feature map classification: \tgoldfish, Carassius auratus 9.5690326690674\t\n",
       "9.5690326690674\t\n",
       "1033 is finished\t\n"
      ]
     },
     "execution_count": 187,
     "metadata": {},
     "output_type": "execute_result"
    },
    {
     "data": {
      "text/plain": [
       "Top nil feature map classification: \tgoldfish, Carassius auratus 8.9297027587891\t\n",
       "8.9297027587891\t\n",
       "1034 is finished\t\n"
      ]
     },
     "execution_count": 187,
     "metadata": {},
     "output_type": "execute_result"
    },
    {
     "data": {
      "text/plain": [
       "Top nil feature map classification: \tgoldfish, Carassius auratus 32.382709503174\t\n",
       "32.382709503174\t\n",
       "1035 is finished\t\n"
      ]
     },
     "execution_count": 187,
     "metadata": {},
     "output_type": "execute_result"
    },
    {
     "data": {
      "text/plain": [
       "Top nil feature map classification: \tgoldfish, Carassius auratus 32.043102264404\t\n",
       "32.043102264404\t\n",
       "1036 is finished\t\n"
      ]
     },
     "execution_count": 187,
     "metadata": {},
     "output_type": "execute_result"
    },
    {
     "data": {
      "text/plain": [
       "Top nil feature map classification: \tgoldfish, Carassius auratus 26.325019836426\t\n",
       "26.325019836426\t\n",
       "1037 is finished\t\n"
      ]
     },
     "execution_count": 187,
     "metadata": {},
     "output_type": "execute_result"
    },
    {
     "data": {
      "text/plain": [
       "Top nil feature map classification: \tgoldfish, Carassius auratus 20.721853256226\t\n",
       "20.721853256226\t\n",
       "1038 is finished\t\n"
      ]
     },
     "execution_count": 187,
     "metadata": {},
     "output_type": "execute_result"
    },
    {
     "data": {
      "text/plain": [
       "Top nil feature map classification: \tgoldfish, Carassius auratus 15.611745834351\t\n",
       "15.611745834351\t\n",
       "1039 is finished\t\n"
      ]
     },
     "execution_count": 187,
     "metadata": {},
     "output_type": "execute_result"
    },
    {
     "data": {
      "text/plain": [
       "Top nil feature map classification: \tgoldfish, Carassius auratus 19.636455535889\t\n",
       "19.636455535889\t\n",
       "1040 is finished\t\n"
      ]
     },
     "execution_count": 187,
     "metadata": {},
     "output_type": "execute_result"
    },
    {
     "data": {
      "text/plain": [
       "Top nil feature map classification: \tgoldfish, Carassius auratus 15.714756011963\t\n",
       "15.714756011963\t\n",
       "1041 is finished\t\n"
      ]
     },
     "execution_count": 187,
     "metadata": {},
     "output_type": "execute_result"
    },
    {
     "data": {
      "text/plain": [
       "Top nil feature map classification: \tgoldfish, Carassius auratus 10.014183044434\t\n",
       "10.014183044434\t\n",
       "1042 is finished\t\n"
      ]
     },
     "execution_count": 187,
     "metadata": {},
     "output_type": "execute_result"
    },
    {
     "data": {
      "text/plain": [
       "Top nil feature map classification: \tgoldfish, Carassius auratus 34.403091430664\t\n",
       "34.403091430664\t\n",
       "1043 is finished\t\n"
      ]
     },
     "execution_count": 187,
     "metadata": {},
     "output_type": "execute_result"
    },
    {
     "data": {
      "text/plain": [
       "Top nil feature map classification: \tgoldfish, Carassius auratus 23.401849746704\t\n",
       "23.401849746704\t\n",
       "1044 is finished\t\n"
      ]
     },
     "execution_count": 187,
     "metadata": {},
     "output_type": "execute_result"
    },
    {
     "data": {
      "text/plain": [
       "Top nil feature map classification: \tgoldfish, Carassius auratus 15.311054229736\t\n",
       "15.311054229736\t\n",
       "1045 is finished\t\n"
      ]
     },
     "execution_count": 187,
     "metadata": {},
     "output_type": "execute_result"
    },
    {
     "data": {
      "text/plain": [
       "Top nil feature map classification: \tgoldfish, Carassius auratus 19.77149772644\t\n",
       "19.77149772644\t\n",
       "1046 is finished\t\n"
      ]
     },
     "execution_count": 187,
     "metadata": {},
     "output_type": "execute_result"
    },
    {
     "data": {
      "text/plain": [
       "Top nil feature map classification: \tgoldfish, Carassius auratus 7.9065871238708\t\n",
       "7.9065871238708\t\n",
       "1047 is finished\t\n"
      ]
     },
     "execution_count": 187,
     "metadata": {},
     "output_type": "execute_result"
    },
    {
     "data": {
      "text/plain": [
       "Top nil feature map classification: \tgoldfish, Carassius auratus 26.50892829895\t\n",
       "26.50892829895\t\n",
       "1048 is finished\t\n"
      ]
     },
     "execution_count": 187,
     "metadata": {},
     "output_type": "execute_result"
    },
    {
     "data": {
      "text/plain": [
       "Top nil feature map classification: \tgoldfish, Carassius auratus 16.601209640503\t\n",
       "16.601209640503\t\n",
       "1049 is finished\t\n"
      ]
     },
     "execution_count": 187,
     "metadata": {},
     "output_type": "execute_result"
    },
    {
     "data": {
      "text/plain": [
       "Top nil feature map classification: \tgoldfish, Carassius auratus 18.028085708618\t\n",
       "18.028085708618\t\n",
       "1050 is finished\t\n"
      ]
     },
     "execution_count": 187,
     "metadata": {},
     "output_type": "execute_result"
    },
    {
     "data": {
      "text/plain": [
       "Top nil feature map classification: \tgoldfish, Carassius auratus 14.337014198303\t\n",
       "14.337014198303\t\n",
       "1051 is finished\t\n"
      ]
     },
     "execution_count": 187,
     "metadata": {},
     "output_type": "execute_result"
    },
    {
     "data": {
      "text/plain": [
       "Top nil feature map classification: \tgoldfish, Carassius auratus 15.540313720703\t\n",
       "15.540313720703\t\n",
       "1052 is finished\t\n"
      ]
     },
     "execution_count": 187,
     "metadata": {},
     "output_type": "execute_result"
    },
    {
     "data": {
      "text/plain": [
       "Top nil feature map classification: \tgoldfish, Carassius auratus 20.572744369507\t\n",
       "20.572744369507\t\n",
       "1053 is finished\t\n"
      ]
     },
     "execution_count": 187,
     "metadata": {},
     "output_type": "execute_result"
    },
    {
     "data": {
      "text/plain": [
       "Top nil feature map classification: \tgoldfish, Carassius auratus 12.84974861145\t\n",
       "12.84974861145\t\n",
       "1054 is finished\t\n"
      ]
     },
     "execution_count": 187,
     "metadata": {},
     "output_type": "execute_result"
    },
    {
     "data": {
      "text/plain": [
       "Top nil feature map classification: \tgoldfish, Carassius auratus 33.518936157227\t\n",
       "33.518936157227\t\n",
       "1055 is finished\t\n"
      ]
     },
     "execution_count": 187,
     "metadata": {},
     "output_type": "execute_result"
    },
    {
     "data": {
      "text/plain": [
       "Top nil feature map classification: \tgoldfish, Carassius auratus 27.799446105957\t\n",
       "27.799446105957\t\n",
       "1056 is finished\t\n"
      ]
     },
     "execution_count": 187,
     "metadata": {},
     "output_type": "execute_result"
    },
    {
     "data": {
      "text/plain": [
       "Top nil feature map classification: \tgoldfish, Carassius auratus 27.791337966919\t\n",
       "27.791337966919\t\n",
       "1057 is finished\t\n"
      ]
     },
     "execution_count": 187,
     "metadata": {},
     "output_type": "execute_result"
    },
    {
     "data": {
      "text/plain": [
       "Top nil feature map classification: \tgoldfish, Carassius auratus 18.175235748291\t\n",
       "18.175235748291\t\n",
       "1058 is finished\t\n"
      ]
     },
     "execution_count": 187,
     "metadata": {},
     "output_type": "execute_result"
    },
    {
     "data": {
      "text/plain": [
       "Top nil feature map classification: \tgoldfish, Carassius auratus 26.90083694458\t\n",
       "26.90083694458\t\n",
       "1059 is finished\t\n"
      ]
     },
     "execution_count": 187,
     "metadata": {},
     "output_type": "execute_result"
    },
    {
     "data": {
      "text/plain": [
       "Top nil feature map classification: \tgoldfish, Carassius auratus 17.771867752075\t\n",
       "17.771867752075\t\n",
       "1060 is finished\t\n"
      ]
     },
     "execution_count": 187,
     "metadata": {},
     "output_type": "execute_result"
    },
    {
     "data": {
      "text/plain": [
       "Top nil feature map classification: \tgoldfish, Carassius auratus 13.011945724487\t\n",
       "13.011945724487\t\n",
       "1061 is finished\t\n"
      ]
     },
     "execution_count": 187,
     "metadata": {},
     "output_type": "execute_result"
    },
    {
     "data": {
      "text/plain": [
       "Top nil feature map classification: \tgoldfish, Carassius auratus 18.441061019897\t\n",
       "18.441061019897\t\n",
       "1062 is finished\t\n"
      ]
     },
     "execution_count": 187,
     "metadata": {},
     "output_type": "execute_result"
    },
    {
     "data": {
      "text/plain": [
       "Top nil feature map classification: \tgoldfish, Carassius auratus 18.104484558105\t\n",
       "18.104484558105\t\n"
      ]
     },
     "execution_count": 187,
     "metadata": {},
     "output_type": "execute_result"
    },
    {
     "data": {
      "text/plain": [
       "1063 is finished\t\n"
      ]
     },
     "execution_count": 187,
     "metadata": {},
     "output_type": "execute_result"
    },
    {
     "data": {
      "text/plain": [
       "Top nil feature map classification: \tgoldfish, Carassius auratus 23.44659614563\t\n",
       "23.44659614563\t\n",
       "1064 is finished\t\n"
      ]
     },
     "execution_count": 187,
     "metadata": {},
     "output_type": "execute_result"
    },
    {
     "data": {
      "text/plain": [
       "Top nil feature map classification: \tgoldfish, Carassius auratus 28.741039276123\t\n",
       "28.741039276123\t\n",
       "1065 is finished\t\n"
      ]
     },
     "execution_count": 187,
     "metadata": {},
     "output_type": "execute_result"
    },
    {
     "data": {
      "text/plain": [
       "Top nil feature map classification: \tgoldfish, Carassius auratus 17.787132263184\t\n",
       "17.787132263184\t\n",
       "1066 is finished\t\n"
      ]
     },
     "execution_count": 187,
     "metadata": {},
     "output_type": "execute_result"
    },
    {
     "data": {
      "text/plain": [
       "Top nil feature map classification: \tgoldfish, Carassius auratus 23.873176574707\t\n",
       "23.873176574707\t\n",
       "1067 is finished\t\n"
      ]
     },
     "execution_count": 187,
     "metadata": {},
     "output_type": "execute_result"
    },
    {
     "data": {
      "text/plain": [
       "Top nil feature map classification: \tgoldfish, Carassius auratus 19.461891174316\t\n",
       "19.461891174316\t\n",
       "1068 is finished\t\n"
      ]
     },
     "execution_count": 187,
     "metadata": {},
     "output_type": "execute_result"
    },
    {
     "data": {
      "text/plain": [
       "Top nil feature map classification: \tgoldfish, Carassius auratus 26.800216674805\t\n",
       "26.800216674805\t\n",
       "1069 is finished\t\n"
      ]
     },
     "execution_count": 187,
     "metadata": {},
     "output_type": "execute_result"
    },
    {
     "data": {
      "text/plain": [
       "Top nil feature map classification: \tgoldfish, Carassius auratus 15.105620384216\t\n",
       "15.105620384216\t\n",
       "1070 is finished\t\n"
      ]
     },
     "execution_count": 187,
     "metadata": {},
     "output_type": "execute_result"
    },
    {
     "data": {
      "text/plain": [
       "Top nil feature map classification: \tgoldfish, Carassius auratus 24.182468414307\t\n",
       "24.182468414307\t\n",
       "1071 is finished\t\n"
      ]
     },
     "execution_count": 187,
     "metadata": {},
     "output_type": "execute_result"
    },
    {
     "data": {
      "text/plain": [
       "Top nil feature map classification: \tnipple 10.085515022278\t\n",
       "9.8207769393921\t\n",
       "1072 is finished\t\n"
      ]
     },
     "execution_count": 187,
     "metadata": {},
     "output_type": "execute_result"
    },
    {
     "data": {
      "text/plain": [
       "Top nil feature map classification: \tgoldfish, Carassius auratus 18.732147216797\t\n",
       "18.732147216797\t\n",
       "1073 is finished\t\n"
      ]
     },
     "execution_count": 187,
     "metadata": {},
     "output_type": "execute_result"
    },
    {
     "data": {
      "text/plain": [
       "Top nil feature map classification: \tgoldfish, Carassius auratus 24.329454421997\t\n",
       "24.329454421997\t\n",
       "1074 is finished\t\n"
      ]
     },
     "execution_count": 187,
     "metadata": {},
     "output_type": "execute_result"
    },
    {
     "data": {
      "text/plain": [
       "Top nil feature map classification: \tgoldfish, Carassius auratus 17.18113899231\t\n",
       "17.18113899231\t\n",
       "1075 is finished\t\n"
      ]
     },
     "execution_count": 187,
     "metadata": {},
     "output_type": "execute_result"
    },
    {
     "data": {
      "text/plain": [
       "Top nil feature map classification: \tgoldfish, Carassius auratus 29.588396072388\t\n",
       "29.588396072388\t\n",
       "1076 is finished\t\n"
      ]
     },
     "execution_count": 187,
     "metadata": {},
     "output_type": "execute_result"
    },
    {
     "data": {
      "text/plain": [
       "Top nil feature map classification: \tgoldfish, Carassius auratus 16.749271392822\t\n",
       "16.749271392822\t\n",
       "1077 is finished\t\n"
      ]
     },
     "execution_count": 187,
     "metadata": {},
     "output_type": "execute_result"
    },
    {
     "data": {
      "text/plain": [
       "Top nil feature map classification: \tgoldfish, Carassius auratus 20.048122406006\t\n",
       "20.048122406006\t\n",
       "1078 is finished\t\n"
      ]
     },
     "execution_count": 187,
     "metadata": {},
     "output_type": "execute_result"
    },
    {
     "data": {
      "text/plain": [
       "Top nil feature map classification: \tgoldfish, Carassius auratus 15.470542907715\t\n",
       "15.470542907715\t\n",
       "1079 is finished\t\n"
      ]
     },
     "execution_count": 187,
     "metadata": {},
     "output_type": "execute_result"
    },
    {
     "data": {
      "text/plain": [
       "Top nil feature map classification: \tgoldfish, Carassius auratus 12.358394622803\t\n",
       "12.358394622803\t\n",
       "1080 is finished\t\n"
      ]
     },
     "execution_count": 187,
     "metadata": {},
     "output_type": "execute_result"
    },
    {
     "data": {
      "text/plain": [
       "Top nil feature map classification: \tgoldfish, Carassius auratus 18.441555023193\t\n",
       "18.441555023193\t\n",
       "1081 is finished\t\n"
      ]
     },
     "execution_count": 187,
     "metadata": {},
     "output_type": "execute_result"
    },
    {
     "data": {
      "text/plain": [
       "Top nil feature map classification: \tgoldfish, Carassius auratus 18.725500106812\t\n",
       "18.725500106812\t\n",
       "1082 is finished\t\n"
      ]
     },
     "execution_count": 187,
     "metadata": {},
     "output_type": "execute_result"
    },
    {
     "data": {
      "text/plain": [
       "Top nil feature map classification: \tgoldfish, Carassius auratus 22.797384262085\t\n",
       "22.797384262085\t\n",
       "1083 is finished\t\n"
      ]
     },
     "execution_count": 187,
     "metadata": {},
     "output_type": "execute_result"
    },
    {
     "data": {
      "text/plain": [
       "Top nil feature map classification: \tgoldfish, Carassius auratus 15.165121078491\t\n",
       "15.165121078491\t\n",
       "1084 is finished\t\n"
      ]
     },
     "execution_count": 187,
     "metadata": {},
     "output_type": "execute_result"
    },
    {
     "data": {
      "text/plain": [
       "Top nil feature map classification: \tvolcano 15.312822341919\t\n",
       "14.553902626038\t\n",
       "1085 is finished\t\n"
      ]
     },
     "execution_count": 187,
     "metadata": {},
     "output_type": "execute_result"
    },
    {
     "data": {
      "text/plain": [
       "Top nil feature map classification: \tgoldfish, Carassius auratus 23.411930084229\t\n",
       "23.411930084229\t\n",
       "1086 is finished\t\n"
      ]
     },
     "execution_count": 187,
     "metadata": {},
     "output_type": "execute_result"
    },
    {
     "data": {
      "text/plain": [
       "Top nil feature map classification: \tshower curtain 9.6417837142944\t\n",
       "9.3907642364502\t\n",
       "1087 is finished\t\n"
      ]
     },
     "execution_count": 187,
     "metadata": {},
     "output_type": "execute_result"
    },
    {
     "data": {
      "text/plain": [
       "Top nil feature map classification: \tgoldfish, Carassius auratus 21.224588394165\t\n",
       "21.224588394165\t\n",
       "1088 is finished\t\n"
      ]
     },
     "execution_count": 187,
     "metadata": {},
     "output_type": "execute_result"
    },
    {
     "data": {
      "text/plain": [
       "Top nil feature map classification: \tgoldfish, Carassius auratus 31.839073181152\t\n",
       "31.839073181152\t\n",
       "1089 is finished\t\n"
      ]
     },
     "execution_count": 187,
     "metadata": {},
     "output_type": "execute_result"
    },
    {
     "data": {
      "text/plain": [
       "Top nil feature map classification: \tgoldfish, Carassius auratus 19.862154006958\t\n",
       "19.862154006958\t\n",
       "1090 is finished\t\n"
      ]
     },
     "execution_count": 187,
     "metadata": {},
     "output_type": "execute_result"
    },
    {
     "data": {
      "text/plain": [
       "Top nil feature map classification: \tgoldfish, Carassius auratus 31.823812484741\t\n",
       "31.823812484741\t\n"
      ]
     },
     "execution_count": 187,
     "metadata": {},
     "output_type": "execute_result"
    },
    {
     "data": {
      "text/plain": [
       "1091 is finished\t\n"
      ]
     },
     "execution_count": 187,
     "metadata": {},
     "output_type": "execute_result"
    },
    {
     "data": {
      "text/plain": [
       "Top nil feature map classification: \ttree frog, tree-frog 11.004084587097\t\n",
       "10.834982872009\t\n",
       "1092 is finished\t\n"
      ]
     },
     "execution_count": 187,
     "metadata": {},
     "output_type": "execute_result"
    },
    {
     "data": {
      "text/plain": [
       "Top nil feature map classification: \tgoldfish, Carassius auratus 20.572191238403\t\n",
       "20.572191238403\t\n",
       "1093 is finished\t\n"
      ]
     },
     "execution_count": 187,
     "metadata": {},
     "output_type": "execute_result"
    },
    {
     "data": {
      "text/plain": [
       "Top nil feature map classification: \tgoldfish, Carassius auratus 22.769823074341\t\n",
       "22.769823074341\t\n",
       "1094 is finished\t\n"
      ]
     },
     "execution_count": 187,
     "metadata": {},
     "output_type": "execute_result"
    },
    {
     "data": {
      "text/plain": [
       "Top nil feature map classification: \tgoldfish, Carassius auratus 20.504161834717\t\n",
       "20.504161834717\t\n",
       "1095 is finished\t\n"
      ]
     },
     "execution_count": 187,
     "metadata": {},
     "output_type": "execute_result"
    },
    {
     "data": {
      "text/plain": [
       "Top nil feature map classification: \tgoldfish, Carassius auratus 20.059637069702\t\n",
       "20.059637069702\t\n",
       "1096 is finished\t\n"
      ]
     },
     "execution_count": 187,
     "metadata": {},
     "output_type": "execute_result"
    },
    {
     "data": {
      "text/plain": [
       "Top nil feature map classification: \tgoldfish, Carassius auratus 20.307378768921\t\n",
       "20.307378768921\t\n",
       "1097 is finished\t\n"
      ]
     },
     "execution_count": 187,
     "metadata": {},
     "output_type": "execute_result"
    },
    {
     "data": {
      "text/plain": [
       "Top nil feature map classification: \tgoldfish, Carassius auratus 15.676089286804\t\n",
       "15.676089286804\t\n",
       "1098 is finished\t\n"
      ]
     },
     "execution_count": 187,
     "metadata": {},
     "output_type": "execute_result"
    },
    {
     "data": {
      "text/plain": [
       "Top nil feature map classification: \tgoldfish, Carassius auratus 19.998037338257\t\n",
       "19.998037338257\t\n",
       "1099 is finished\t\n"
      ]
     },
     "execution_count": 187,
     "metadata": {},
     "output_type": "execute_result"
    },
    {
     "data": {
      "text/plain": [
       "Top nil feature map classification: \tgoldfish, Carassius auratus 29.154054641724\t\n",
       "29.154054641724\t\n",
       "1100 is finished\t\n"
      ]
     },
     "execution_count": 187,
     "metadata": {},
     "output_type": "execute_result"
    },
    {
     "data": {
      "text/plain": [
       "Top nil feature map classification: \tgoldfish, Carassius auratus 27.213258743286\t\n",
       "27.213258743286\t\n",
       "1101 is finished\t\n"
      ]
     },
     "execution_count": 187,
     "metadata": {},
     "output_type": "execute_result"
    },
    {
     "data": {
      "text/plain": [
       "Top nil feature map classification: \tgoldfish, Carassius auratus 16.358814239502\t\n",
       "16.358814239502\t\n",
       "1102 is finished\t\n"
      ]
     },
     "execution_count": 187,
     "metadata": {},
     "output_type": "execute_result"
    },
    {
     "data": {
      "text/plain": [
       "Top nil feature map classification: \tgoldfish, Carassius auratus 19.659677505493\t\n",
       "19.659677505493\t\n",
       "1103 is finished\t\n"
      ]
     },
     "execution_count": 187,
     "metadata": {},
     "output_type": "execute_result"
    },
    {
     "data": {
      "text/plain": [
       "Top nil feature map classification: \tjack-o'-lantern 10.513935089111\t\n",
       "6.2641263008118\t\n",
       "1104 is finished\t\n"
      ]
     },
     "execution_count": 187,
     "metadata": {},
     "output_type": "execute_result"
    },
    {
     "data": {
      "text/plain": [
       "Top nil feature map classification: \tgoldfish, Carassius auratus 23.536743164062\t\n",
       "23.536743164062\t\n",
       "1105 is finished\t\n"
      ]
     },
     "execution_count": 187,
     "metadata": {},
     "output_type": "execute_result"
    },
    {
     "data": {
      "text/plain": [
       "Top nil feature map classification: \tgoldfish, Carassius auratus 17.901809692383\t\n",
       "17.901809692383\t\n",
       "1106 is finished\t\n"
      ]
     },
     "execution_count": 187,
     "metadata": {},
     "output_type": "execute_result"
    },
    {
     "data": {
      "text/plain": [
       "Top nil feature map classification: \tgoldfish, Carassius auratus 17.302980422974\t\n",
       "17.302980422974\t\n",
       "1107 is finished\t\n"
      ]
     },
     "execution_count": 187,
     "metadata": {},
     "output_type": "execute_result"
    },
    {
     "data": {
      "text/plain": [
       "Top nil feature map classification: \tgoldfish, Carassius auratus 19.268926620483\t\n",
       "19.268926620483\t\n",
       "1108 is finished\t\n"
      ]
     },
     "execution_count": 187,
     "metadata": {},
     "output_type": "execute_result"
    },
    {
     "data": {
      "text/plain": [
       "Top nil feature map classification: \tgoldfish, Carassius auratus 17.661699295044\t\n",
       "17.661699295044\t\n",
       "1109 is finished\t\n"
      ]
     },
     "execution_count": 187,
     "metadata": {},
     "output_type": "execute_result"
    },
    {
     "data": {
      "text/plain": [
       "Top nil feature map classification: \tgoldfish, Carassius auratus 21.340593338013\t\n",
       "21.340593338013\t\n",
       "1110 is finished\t\n"
      ]
     },
     "execution_count": 187,
     "metadata": {},
     "output_type": "execute_result"
    },
    {
     "data": {
      "text/plain": [
       "Top nil feature map classification: \tgoldfish, Carassius auratus 22.312931060791\t\n",
       "22.312931060791\t\n",
       "1111 is finished\t\n"
      ]
     },
     "execution_count": 187,
     "metadata": {},
     "output_type": "execute_result"
    },
    {
     "data": {
      "text/plain": [
       "Top nil feature map classification: \tgoldfish, Carassius auratus 11.151275634766\t\n",
       "11.151275634766\t\n",
       "1112 is finished\t\n"
      ]
     },
     "execution_count": 187,
     "metadata": {},
     "output_type": "execute_result"
    },
    {
     "data": {
      "text/plain": [
       "Top nil feature map classification: \tgoldfish, Carassius auratus 26.745704650879\t\n",
       "26.745704650879\t\n",
       "1113 is finished\t\n"
      ]
     },
     "execution_count": 187,
     "metadata": {},
     "output_type": "execute_result"
    },
    {
     "data": {
      "text/plain": [
       "Top nil feature map classification: \tgoldfish, Carassius auratus 22.775442123413\t\n",
       "22.775442123413\t\n",
       "1114 is finished\t\n"
      ]
     },
     "execution_count": 187,
     "metadata": {},
     "output_type": "execute_result"
    },
    {
     "data": {
      "text/plain": [
       "Top nil feature map classification: \tgoldfish, Carassius auratus 16.976316452026\t\n",
       "16.976316452026\t\n",
       "1115 is finished\t\n"
      ]
     },
     "execution_count": 187,
     "metadata": {},
     "output_type": "execute_result"
    },
    {
     "data": {
      "text/plain": [
       "Top nil feature map classification: \teft 20.032808303833\t\n",
       "18.461786270142\t\n",
       "1116 is finished\t\n"
      ]
     },
     "execution_count": 187,
     "metadata": {},
     "output_type": "execute_result"
    },
    {
     "data": {
      "text/plain": [
       "Top nil feature map classification: \tgoldfish, Carassius auratus 24.553865432739\t\n",
       "24.553865432739\t\n",
       "1117 is finished\t\n"
      ]
     },
     "execution_count": 187,
     "metadata": {},
     "output_type": "execute_result"
    },
    {
     "data": {
      "text/plain": [
       "Top nil feature map classification: \tgoldfish, Carassius auratus 15.172328948975\t\n",
       "15.172328948975\t\n",
       "1118 is finished\t\n"
      ]
     },
     "execution_count": 187,
     "metadata": {},
     "output_type": "execute_result"
    },
    {
     "data": {
      "text/plain": [
       "Top nil feature map classification: \tgoldfish, Carassius auratus 17.632947921753\t\n",
       "17.632947921753\t\n",
       "1119 is finished\t\n"
      ]
     },
     "execution_count": 187,
     "metadata": {},
     "output_type": "execute_result"
    },
    {
     "data": {
      "text/plain": [
       "Top nil feature map classification: \tgoldfish, Carassius auratus 14.830741882324\t\n",
       "14.830741882324\t\n",
       "1120 is finished\t\n"
      ]
     },
     "execution_count": 187,
     "metadata": {},
     "output_type": "execute_result"
    },
    {
     "data": {
      "text/plain": [
       "Top nil feature map classification: \tgoldfish, Carassius auratus 29.703538894653\t\n",
       "29.703538894653\t\n",
       "1121 is finished\t\n"
      ]
     },
     "execution_count": 187,
     "metadata": {},
     "output_type": "execute_result"
    },
    {
     "data": {
      "text/plain": [
       "Top nil feature map classification: \tgoldfish, Carassius auratus 14.603753089905\t\n",
       "14.603753089905\t\n",
       "1122 is finished\t\n"
      ]
     },
     "execution_count": 187,
     "metadata": {},
     "output_type": "execute_result"
    },
    {
     "data": {
      "text/plain": [
       "Top nil feature map classification: \tgoldfish, Carassius auratus 15.573477745056\t\n",
       "15.573477745056\t\n",
       "1123 is finished\t\n"
      ]
     },
     "execution_count": 187,
     "metadata": {},
     "output_type": "execute_result"
    },
    {
     "data": {
      "text/plain": [
       "Top nil feature map classification: \tgoldfish, Carassius auratus 26.74419593811\t\n",
       "26.74419593811\t\n",
       "1124 is finished\t\n"
      ]
     },
     "execution_count": 187,
     "metadata": {},
     "output_type": "execute_result"
    },
    {
     "data": {
      "text/plain": [
       "Top nil feature map classification: \tgoldfish, Carassius auratus 23.310060501099\t\n",
       "23.310060501099\t\n",
       "1125 is finished\t\n"
      ]
     },
     "execution_count": 187,
     "metadata": {},
     "output_type": "execute_result"
    },
    {
     "data": {
      "text/plain": [
       "Top nil feature map classification: \tgoldfish, Carassius auratus 21.114368438721\t\n",
       "21.114368438721\t\n",
       "1126 is finished\t\n"
      ]
     },
     "execution_count": 187,
     "metadata": {},
     "output_type": "execute_result"
    },
    {
     "data": {
      "text/plain": [
       "Top nil feature map classification: \tgoldfish, Carassius auratus 22.466478347778\t\n",
       "22.466478347778\t\n",
       "1127 is finished\t\n"
      ]
     },
     "execution_count": 187,
     "metadata": {},
     "output_type": "execute_result"
    },
    {
     "data": {
      "text/plain": [
       "Top nil feature map classification: \tanemone fish 14.596195220947\t\n",
       "14.097591400146\t\n",
       "1128 is finished\t\n"
      ]
     },
     "execution_count": 187,
     "metadata": {},
     "output_type": "execute_result"
    },
    {
     "data": {
      "text/plain": [
       "Top nil feature map classification: \tanemone fish 12.646445274353\t\n",
       "12.545170783997\t\n",
       "1129 is finished\t\n"
      ]
     },
     "execution_count": 187,
     "metadata": {},
     "output_type": "execute_result"
    },
    {
     "data": {
      "text/plain": [
       "Top nil feature map classification: \tgoldfish, Carassius auratus 26.51531791687\t\n",
       "26.51531791687\t\n",
       "1130 is finished\t\n"
      ]
     },
     "execution_count": 187,
     "metadata": {},
     "output_type": "execute_result"
    },
    {
     "data": {
      "text/plain": [
       "Top nil feature map classification: \tgoldfish, Carassius auratus 12.079664230347\t\n",
       "12.079664230347\t\n",
       "1131 is finished\t\n"
      ]
     },
     "execution_count": 187,
     "metadata": {},
     "output_type": "execute_result"
    },
    {
     "data": {
      "text/plain": [
       "Top nil feature map classification: \tgoldfish, Carassius auratus 14.924695014954\t\n",
       "14.924695014954\t\n",
       "1132 is finished\t\n"
      ]
     },
     "execution_count": 187,
     "metadata": {},
     "output_type": "execute_result"
    },
    {
     "data": {
      "text/plain": [
       "Top nil feature map classification: \tanemone fish 21.229370117188\t\n",
       "18.117553710938\t\n",
       "1133 is finished\t\n"
      ]
     },
     "execution_count": 187,
     "metadata": {},
     "output_type": "execute_result"
    },
    {
     "data": {
      "text/plain": [
       "Top nil feature map classification: \tgoldfish, Carassius auratus 14.441447257996\t\n",
       "14.441447257996\t\n",
       "1134 is finished\t\n"
      ]
     },
     "execution_count": 187,
     "metadata": {},
     "output_type": "execute_result"
    },
    {
     "data": {
      "text/plain": [
       "Top nil feature map classification: \tgoldfish, Carassius auratus 23.973934173584\t\n",
       "23.973934173584\t\n",
       "1135 is finished\t\n"
      ]
     },
     "execution_count": 187,
     "metadata": {},
     "output_type": "execute_result"
    },
    {
     "data": {
      "text/plain": [
       "Top nil feature map classification: \tgoldfish, Carassius auratus 12.92288684845\t\n",
       "12.92288684845\t\n",
       "1136 is finished\t\n"
      ]
     },
     "execution_count": 187,
     "metadata": {},
     "output_type": "execute_result"
    },
    {
     "data": {
      "text/plain": [
       "Top nil feature map classification: \tgoldfish, Carassius auratus 9.4774465560913\t\n",
       "9.4774465560913\t\n",
       "1137 is finished\t\n"
      ]
     },
     "execution_count": 187,
     "metadata": {},
     "output_type": "execute_result"
    },
    {
     "data": {
      "text/plain": [
       "Top nil feature map classification: \tgoldfish, Carassius auratus 16.259899139404\t\n",
       "16.259899139404\t\n",
       "1138 is finished\t\n"
      ]
     },
     "execution_count": 187,
     "metadata": {},
     "output_type": "execute_result"
    },
    {
     "data": {
      "text/plain": [
       "Top nil feature map classification: \tgoldfish, Carassius auratus 16.168622970581\t\n",
       "16.168622970581\t\n",
       "1139 is finished\t\n"
      ]
     },
     "execution_count": 187,
     "metadata": {},
     "output_type": "execute_result"
    },
    {
     "data": {
      "text/plain": [
       "Top nil feature map classification: \tgoldfish, Carassius auratus 13.668210029602\t\n",
       "13.668210029602\t\n",
       "1140 is finished\t\n"
      ]
     },
     "execution_count": 187,
     "metadata": {},
     "output_type": "execute_result"
    },
    {
     "data": {
      "text/plain": [
       "Top nil feature map classification: \tgoldfish, Carassius auratus 17.481410980225\t\n",
       "17.481410980225\t\n",
       "1141 is finished\t\n"
      ]
     },
     "execution_count": 187,
     "metadata": {},
     "output_type": "execute_result"
    },
    {
     "data": {
      "text/plain": [
       "Top nil feature map classification: \tgoldfish, Carassius auratus 30.271514892578\t\n",
       "30.271514892578\t\n",
       "1142 is finished\t\n"
      ]
     },
     "execution_count": 187,
     "metadata": {},
     "output_type": "execute_result"
    },
    {
     "data": {
      "text/plain": [
       "Top nil feature map classification: \tgoldfish, Carassius auratus 15.126629829407\t\n",
       "15.126629829407\t\n",
       "1143 is finished\t\n"
      ]
     },
     "execution_count": 187,
     "metadata": {},
     "output_type": "execute_result"
    },
    {
     "data": {
      "text/plain": [
       "Top nil feature map classification: \tgoldfish, Carassius auratus 30.230201721191\t\n",
       "30.230201721191\t\n",
       "1144 is finished\t\n"
      ]
     },
     "execution_count": 187,
     "metadata": {},
     "output_type": "execute_result"
    },
    {
     "data": {
      "text/plain": [
       "Top nil feature map classification: \tgoldfish, Carassius auratus 25.627073287964\t\n",
       "25.627073287964\t\n",
       "1145 is finished\t\n"
      ]
     },
     "execution_count": 187,
     "metadata": {},
     "output_type": "execute_result"
    },
    {
     "data": {
      "text/plain": [
       "Top nil feature map classification: \tgoldfish, Carassius auratus 18.545032501221\t\n",
       "18.545032501221\t\n",
       "1146 is finished\t\n"
      ]
     },
     "execution_count": 187,
     "metadata": {},
     "output_type": "execute_result"
    },
    {
     "data": {
      "text/plain": [
       "Top nil feature map classification: \tgoldfish, Carassius auratus 22.414974212646\t\n",
       "22.414974212646\t\n",
       "1147 is finished\t\n"
      ]
     },
     "execution_count": 187,
     "metadata": {},
     "output_type": "execute_result"
    },
    {
     "data": {
      "text/plain": [
       "Top nil feature map classification: \tperfume, essence 14.041152000427\t\n",
       "12.096119880676\t\n",
       "1148 is finished\t\n"
      ]
     },
     "execution_count": 187,
     "metadata": {},
     "output_type": "execute_result"
    },
    {
     "data": {
      "text/plain": [
       "Top nil feature map classification: \tgoldfish, Carassius auratus 26.559097290039\t\n",
       "26.559097290039\t\n",
       "1149 is finished\t\n"
      ]
     },
     "execution_count": 187,
     "metadata": {},
     "output_type": "execute_result"
    },
    {
     "data": {
      "text/plain": [
       "Top nil feature map classification: \tgoldfish, Carassius auratus 17.127820968628\t\n",
       "17.127820968628\t\n",
       "1150 is finished\t\n"
      ]
     },
     "execution_count": 187,
     "metadata": {},
     "output_type": "execute_result"
    },
    {
     "data": {
      "text/plain": [
       "Top nil feature map classification: \tgoldfish, Carassius auratus 26.133056640625\t\n",
       "26.133056640625\t\n",
       "1151 is finished\t\n"
      ]
     },
     "execution_count": 187,
     "metadata": {},
     "output_type": "execute_result"
    },
    {
     "data": {
      "text/plain": [
       "Top nil feature map classification: \tgoldfish, Carassius auratus 11.132669448853\t\n",
       "11.132669448853\t\n",
       "1152 is finished\t\n"
      ]
     },
     "execution_count": 187,
     "metadata": {},
     "output_type": "execute_result"
    },
    {
     "data": {
      "text/plain": [
       "Top nil feature map classification: \tgoldfish, Carassius auratus 17.136821746826\t\n",
       "17.136821746826\t\n",
       "1153 is finished\t\n"
      ]
     },
     "execution_count": 187,
     "metadata": {},
     "output_type": "execute_result"
    },
    {
     "data": {
      "text/plain": [
       "Top nil feature map classification: \tgoldfish, Carassius auratus 11.072427749634\t\n",
       "11.072427749634\t\n",
       "1154 is finished\t\n"
      ]
     },
     "execution_count": 187,
     "metadata": {},
     "output_type": "execute_result"
    },
    {
     "data": {
      "text/plain": [
       "Top nil feature map classification: \tgoldfish, Carassius auratus 16.395013809204\t\n",
       "16.395013809204\t\n",
       "1155 is finished\t\n"
      ]
     },
     "execution_count": 187,
     "metadata": {},
     "output_type": "execute_result"
    },
    {
     "data": {
      "text/plain": [
       "Top nil feature map classification: \tgoldfish, Carassius auratus 18.93544960022\t\n",
       "18.93544960022\t\n",
       "1156 is finished\t\n"
      ]
     },
     "execution_count": 187,
     "metadata": {},
     "output_type": "execute_result"
    },
    {
     "data": {
      "text/plain": [
       "Top nil feature map classification: \tgoldfish, Carassius auratus 18.253379821777\t\n",
       "18.253379821777\t\n",
       "1157 is finished\t\n"
      ]
     },
     "execution_count": 187,
     "metadata": {},
     "output_type": "execute_result"
    },
    {
     "data": {
      "text/plain": [
       "Top nil feature map classification: \tgoldfish, Carassius auratus 19.694051742554\t\n",
       "19.694051742554\t\n",
       "1158 is finished\t\n"
      ]
     },
     "execution_count": 187,
     "metadata": {},
     "output_type": "execute_result"
    },
    {
     "data": {
      "text/plain": [
       "Top nil feature map classification: \tgoldfish, Carassius auratus 15.291314125061\t\n",
       "15.291314125061\t\n",
       "1159 is finished\t\n"
      ]
     },
     "execution_count": 187,
     "metadata": {},
     "output_type": "execute_result"
    },
    {
     "data": {
      "text/plain": [
       "Top nil feature map classification: \tgoldfish, Carassius auratus 36.116184234619\t\n",
       "36.116184234619\t\n",
       "1160 is finished\t\n"
      ]
     },
     "execution_count": 187,
     "metadata": {},
     "output_type": "execute_result"
    },
    {
     "data": {
      "text/plain": [
       "Top nil feature map classification: \tgoldfish, Carassius auratus 26.652902603149\t\n",
       "26.652902603149\t\n",
       "1161 is finished\t\n"
      ]
     },
     "execution_count": 187,
     "metadata": {},
     "output_type": "execute_result"
    },
    {
     "data": {
      "text/plain": [
       "Top nil feature map classification: \tgoldfish, Carassius auratus 17.851247787476\t\n",
       "17.851247787476\t\n",
       "1162 is finished\t\n"
      ]
     },
     "execution_count": 187,
     "metadata": {},
     "output_type": "execute_result"
    },
    {
     "data": {
      "text/plain": [
       "Top nil feature map classification: \tgoldfish, Carassius auratus 23.118459701538\t\n",
       "23.118459701538\t\n",
       "1163 is finished\t\n"
      ]
     },
     "execution_count": 187,
     "metadata": {},
     "output_type": "execute_result"
    },
    {
     "data": {
      "text/plain": [
       "Top nil feature map classification: \tgoldfish, Carassius auratus 18.244832992554\t\n",
       "18.244832992554\t\n",
       "1164 is finished\t\n"
      ]
     },
     "execution_count": 187,
     "metadata": {},
     "output_type": "execute_result"
    },
    {
     "data": {
      "text/plain": [
       "Top nil feature map classification: \tgoldfish, Carassius auratus 16.24528503418\t\n",
       "16.24528503418\t\n",
       "1165 is finished\t\n"
      ]
     },
     "execution_count": 187,
     "metadata": {},
     "output_type": "execute_result"
    },
    {
     "data": {
      "text/plain": [
       "Top nil feature map classification: \tgoldfish, Carassius auratus 22.558982849121\t\n",
       "22.558982849121\t\n",
       "1166 is finished\t\n"
      ]
     },
     "execution_count": 187,
     "metadata": {},
     "output_type": "execute_result"
    },
    {
     "data": {
      "text/plain": [
       "Top nil feature map classification: \tgoldfish, Carassius auratus 17.972620010376\t\n",
       "17.972620010376\t\n",
       "1167 is finished\t\n"
      ]
     },
     "execution_count": 187,
     "metadata": {},
     "output_type": "execute_result"
    },
    {
     "data": {
      "text/plain": [
       "Top nil feature map classification: \tgoldfish, Carassius auratus 14.878409385681\t\n",
       "14.878409385681\t\n",
       "1168 is finished\t\n"
      ]
     },
     "execution_count": 187,
     "metadata": {},
     "output_type": "execute_result"
    },
    {
     "data": {
      "text/plain": [
       "Top nil feature map classification: \tgoldfish, Carassius auratus 27.289016723633\t\n",
       "27.289016723633\t\n",
       "1169 is finished\t\n"
      ]
     },
     "execution_count": 187,
     "metadata": {},
     "output_type": "execute_result"
    },
    {
     "data": {
      "text/plain": [
       "Top nil feature map classification: \tgoldfish, Carassius auratus 19.230846405029\t\n",
       "19.230846405029\t\n",
       "1170 is finished\t\n"
      ]
     },
     "execution_count": 187,
     "metadata": {},
     "output_type": "execute_result"
    },
    {
     "data": {
      "text/plain": [
       "Top nil feature map classification: \tadmiral 7.9496450424194\t\n",
       "7.8947882652283\t\n",
       "1171 is finished\t\n"
      ]
     },
     "execution_count": 187,
     "metadata": {},
     "output_type": "execute_result"
    },
    {
     "data": {
      "text/plain": [
       "Top nil feature map classification: \tgoldfish, Carassius auratus 16.203908920288\t\n",
       "16.203908920288\t\n",
       "1172 is finished\t\n"
      ]
     },
     "execution_count": 187,
     "metadata": {},
     "output_type": "execute_result"
    },
    {
     "data": {
      "text/plain": [
       "Top nil feature map classification: \tgoldfish, Carassius auratus 12.004467964172\t\n",
       "12.004467964172\t\n",
       "1173 is finished\t\n"
      ]
     },
     "execution_count": 187,
     "metadata": {},
     "output_type": "execute_result"
    },
    {
     "data": {
      "text/plain": [
       "Top nil feature map classification: \tgoldfish, Carassius auratus 20.184871673584\t\n",
       "20.184871673584\t\n",
       "1174 is finished\t\n"
      ]
     },
     "execution_count": 187,
     "metadata": {},
     "output_type": "execute_result"
    },
    {
     "data": {
      "text/plain": [
       "Top nil feature map classification: \tgoldfish, Carassius auratus 20.635168075562\t\n",
       "20.635168075562\t\n",
       "1175 is finished\t\n"
      ]
     },
     "execution_count": 187,
     "metadata": {},
     "output_type": "execute_result"
    },
    {
     "data": {
      "text/plain": [
       "Top nil feature map classification: \tgoldfish, Carassius auratus 15.483357429504\t\n",
       "15.483357429504\t\n",
       "1176 is finished\t\n"
      ]
     },
     "execution_count": 187,
     "metadata": {},
     "output_type": "execute_result"
    },
    {
     "data": {
      "text/plain": [
       "Top nil feature map classification: \tsea slug, nudibranch 16.528184890747\t\n",
       "15.252515792847\t\n",
       "1177 is finished\t\n"
      ]
     },
     "execution_count": 187,
     "metadata": {},
     "output_type": "execute_result"
    },
    {
     "data": {
      "text/plain": [
       "Top nil feature map classification: \tbrain coral 10.822909355164\t\n",
       "9.9489593505859\t\n",
       "1178 is finished\t\n"
      ]
     },
     "execution_count": 187,
     "metadata": {},
     "output_type": "execute_result"
    },
    {
     "data": {
      "text/plain": [
       "Top nil feature map classification: \tgoldfish, Carassius auratus 16.01531791687\t\n",
       "16.01531791687\t\n",
       "1179 is finished\t\n"
      ]
     },
     "execution_count": 187,
     "metadata": {},
     "output_type": "execute_result"
    },
    {
     "data": {
      "text/plain": [
       "Top nil feature map classification: \tgoldfish, Carassius auratus 25.946886062622\t\n",
       "25.946886062622\t\n",
       "1180 is finished\t\n"
      ]
     },
     "execution_count": 187,
     "metadata": {},
     "output_type": "execute_result"
    },
    {
     "data": {
      "text/plain": [
       "Top nil feature map classification: \tgoldfish, Carassius auratus 25.476678848267\t\n",
       "25.476678848267\t\n",
       "1181 is finished\t\n"
      ]
     },
     "execution_count": 187,
     "metadata": {},
     "output_type": "execute_result"
    },
    {
     "data": {
      "text/plain": [
       "Top nil feature map classification: \tgoldfish, Carassius auratus 19.089357376099\t\n",
       "19.089357376099\t\n",
       "1182 is finished\t\n"
      ]
     },
     "execution_count": 187,
     "metadata": {},
     "output_type": "execute_result"
    },
    {
     "data": {
      "text/plain": [
       "Top nil feature map classification: \tgoldfish, Carassius auratus 17.434638977051\t\n",
       "17.434638977051\t\n",
       "1183 is finished\t\n"
      ]
     },
     "execution_count": 187,
     "metadata": {},
     "output_type": "execute_result"
    },
    {
     "data": {
      "text/plain": [
       "Top nil feature map classification: \tgoldfish, Carassius auratus 18.809276580811\t\n",
       "18.809276580811\t\n",
       "1184 is finished\t\n"
      ]
     },
     "execution_count": 187,
     "metadata": {},
     "output_type": "execute_result"
    },
    {
     "data": {
      "text/plain": [
       "Top nil feature map classification: \tgoldfish, Carassius auratus 21.468965530396\t\n",
       "21.468965530396\t\n",
       "1185 is finished\t\n"
      ]
     },
     "execution_count": 187,
     "metadata": {},
     "output_type": "execute_result"
    },
    {
     "data": {
      "text/plain": [
       "Top nil feature map classification: \tanemone fish 10.111323356628\t\n",
       "9.8170337677002\t\n",
       "1186 is finished\t\n"
      ]
     },
     "execution_count": 187,
     "metadata": {},
     "output_type": "execute_result"
    },
    {
     "data": {
      "text/plain": [
       "Top nil feature map classification: \tgoldfish, Carassius auratus 24.772722244263\t\n",
       "24.772722244263\t\n",
       "1187 is finished\t\n"
      ]
     },
     "execution_count": 187,
     "metadata": {},
     "output_type": "execute_result"
    },
    {
     "data": {
      "text/plain": [
       "Top nil feature map classification: \tgoldfish, Carassius auratus 14.844829559326\t\n",
       "14.844829559326\t\n",
       "1188 is finished\t\n"
      ]
     },
     "execution_count": 187,
     "metadata": {},
     "output_type": "execute_result"
    },
    {
     "data": {
      "text/plain": [
       "Top nil feature map classification: \tgoldfish, Carassius auratus 35.095680236816\t\n",
       "35.095680236816\t\n",
       "1189 is finished\t\n"
      ]
     },
     "execution_count": 187,
     "metadata": {},
     "output_type": "execute_result"
    },
    {
     "data": {
      "text/plain": [
       "Top nil feature map classification: \tgoldfish, Carassius auratus 32.154727935791\t\n",
       "32.154727935791\t\n",
       "1190 is finished\t\n"
      ]
     },
     "execution_count": 187,
     "metadata": {},
     "output_type": "execute_result"
    },
    {
     "data": {
      "text/plain": [
       "Top nil feature map classification: \tgoldfish, Carassius auratus 23.186677932739\t\n",
       "23.186677932739\t\n",
       "1191 is finished\t\n"
      ]
     },
     "execution_count": 187,
     "metadata": {},
     "output_type": "execute_result"
    },
    {
     "data": {
      "text/plain": [
       "Top nil feature map classification: \tgoldfish, Carassius auratus 11.507573127747\t\n",
       "11.507573127747\t\n",
       "1192 is finished\t\n"
      ]
     },
     "execution_count": 187,
     "metadata": {},
     "output_type": "execute_result"
    },
    {
     "data": {
      "text/plain": [
       "Top nil feature map classification: \tgoldfish, Carassius auratus 28.46174621582\t\n",
       "28.46174621582\t\n",
       "1193 is finished\t\n"
      ]
     },
     "execution_count": 187,
     "metadata": {},
     "output_type": "execute_result"
    },
    {
     "data": {
      "text/plain": [
       "Top nil feature map classification: \tgoldfish, Carassius auratus 29.749244689941\t\n",
       "29.749244689941\t\n",
       "1194 is finished\t\n"
      ]
     },
     "execution_count": 187,
     "metadata": {},
     "output_type": "execute_result"
    },
    {
     "data": {
      "text/plain": [
       "Top nil feature map classification: \tgoldfish, Carassius auratus 16.82251739502\t\n",
       "16.82251739502\t\n",
       "1195 is finished\t\n"
      ]
     },
     "execution_count": 187,
     "metadata": {},
     "output_type": "execute_result"
    },
    {
     "data": {
      "text/plain": [
       "Top nil feature map classification: \tgoldfish, Carassius auratus 18.557987213135\t\n",
       "18.557987213135\t\n",
       "1196 is finished\t\n"
      ]
     },
     "execution_count": 187,
     "metadata": {},
     "output_type": "execute_result"
    },
    {
     "data": {
      "text/plain": [
       "Top nil feature map classification: \tgoldfish, Carassius auratus 30.177974700928\t\n",
       "30.177974700928\t\n",
       "1197 is finished\t\n"
      ]
     },
     "execution_count": 187,
     "metadata": {},
     "output_type": "execute_result"
    },
    {
     "data": {
      "text/plain": [
       "Top nil feature map classification: \tgoldfish, Carassius auratus 16.276905059814\t\n",
       "16.276905059814\t\n",
       "1198 is finished\t\n"
      ]
     },
     "execution_count": 187,
     "metadata": {},
     "output_type": "execute_result"
    },
    {
     "data": {
      "text/plain": [
       "Top nil feature map classification: \tgoldfish, Carassius auratus 13.031679153442\t\n",
       "13.031679153442\t\n",
       "1199 is finished\t\n"
      ]
     },
     "execution_count": 187,
     "metadata": {},
     "output_type": "execute_result"
    },
    {
     "data": {
      "text/plain": [
       "Top nil feature map classification: \tgoldfish, Carassius auratus 18.710073471069\t\n",
       "18.710073471069\t\n",
       "1200 is finished\t\n"
      ]
     },
     "execution_count": 187,
     "metadata": {},
     "output_type": "execute_result"
    },
    {
     "data": {
      "text/plain": [
       "Top nil feature map classification: \tgoldfish, Carassius auratus 18.076120376587\t\n",
       "18.076120376587\t\n",
       "1201 is finished\t\n"
      ]
     },
     "execution_count": 187,
     "metadata": {},
     "output_type": "execute_result"
    },
    {
     "data": {
      "text/plain": [
       "Top nil feature map classification: \tgoldfish, Carassius auratus 10.195903778076\t\n",
       "10.195903778076\t\n",
       "1202 is finished\t\n"
      ]
     },
     "execution_count": 187,
     "metadata": {},
     "output_type": "execute_result"
    },
    {
     "data": {
      "text/plain": [
       "Top nil feature map classification: \tgoldfish, Carassius auratus 20.138927459717\t\n",
       "20.138927459717\t\n",
       "1203 is finished\t\n"
      ]
     },
     "execution_count": 187,
     "metadata": {},
     "output_type": "execute_result"
    },
    {
     "data": {
      "text/plain": [
       "Top nil feature map classification: \tgoldfish, Carassius auratus 19.905561447144\t\n",
       "19.905561447144\t\n",
       "1204 is finished\t\n"
      ]
     },
     "execution_count": 187,
     "metadata": {},
     "output_type": "execute_result"
    },
    {
     "data": {
      "text/plain": [
       "Top nil feature map classification: \tgoldfish, Carassius auratus 11.669988632202\t\n",
       "11.669988632202\t\n",
       "1205 is finished\t\n"
      ]
     },
     "execution_count": 187,
     "metadata": {},
     "output_type": "execute_result"
    },
    {
     "data": {
      "text/plain": [
       "Top nil feature map classification: \tgoldfish, Carassius auratus 11.207844734192\t\n",
       "11.207844734192\t\n",
       "1206 is finished\t\n"
      ]
     },
     "execution_count": 187,
     "metadata": {},
     "output_type": "execute_result"
    },
    {
     "data": {
      "text/plain": [
       "Top nil feature map classification: \tgoldfish, Carassius auratus 17.709356307983\t\n",
       "17.709356307983\t\n",
       "1207 is finished\t\n"
      ]
     },
     "execution_count": 187,
     "metadata": {},
     "output_type": "execute_result"
    },
    {
     "data": {
      "text/plain": [
       "Top nil feature map classification: \tgoldfish, Carassius auratus 18.140707015991\t\n"
      ]
     },
     "execution_count": 187,
     "metadata": {},
     "output_type": "execute_result"
    },
    {
     "data": {
      "text/plain": [
       "18.140707015991\t\n",
       "1208 is finished\t\n"
      ]
     },
     "execution_count": 187,
     "metadata": {},
     "output_type": "execute_result"
    },
    {
     "data": {
      "text/plain": [
       "Top nil feature map classification: \tgoldfish, Carassius auratus 21.768989562988\t\n",
       "21.768989562988\t\n",
       "1209 is finished\t\n"
      ]
     },
     "execution_count": 187,
     "metadata": {},
     "output_type": "execute_result"
    },
    {
     "data": {
      "text/plain": [
       "Top nil feature map classification: \tgoldfish, Carassius auratus 24.349361419678\t\n",
       "24.349361419678\t\n",
       "1210 is finished\t\n"
      ]
     },
     "execution_count": 187,
     "metadata": {},
     "output_type": "execute_result"
    },
    {
     "data": {
      "text/plain": [
       "Top nil feature map classification: \tgoldfish, Carassius auratus 19.745046615601\t\n",
       "19.745046615601\t\n",
       "1211 is finished\t\n"
      ]
     },
     "execution_count": 187,
     "metadata": {},
     "output_type": "execute_result"
    },
    {
     "data": {
      "text/plain": [
       "Top nil feature map classification: \tanemone fish 9.6408338546753\t\n",
       "6.5835423469543\t\n",
       "1212 is finished\t\n"
      ]
     },
     "execution_count": 187,
     "metadata": {},
     "output_type": "execute_result"
    },
    {
     "data": {
      "text/plain": [
       "Top nil feature map classification: \tgoldfish, Carassius auratus 17.782581329346\t\n",
       "17.782581329346\t\n",
       "1213 is finished\t\n"
      ]
     },
     "execution_count": 187,
     "metadata": {},
     "output_type": "execute_result"
    },
    {
     "data": {
      "text/plain": [
       "Top nil feature map classification: \tgoldfish, Carassius auratus 32.760356903076\t\n",
       "32.760356903076\t\n",
       "1214 is finished\t\n"
      ]
     },
     "execution_count": 187,
     "metadata": {},
     "output_type": "execute_result"
    },
    {
     "data": {
      "text/plain": [
       "Top nil feature map classification: \tanemone fish 18.064500808716\t\n",
       "17.518114089966\t\n",
       "1215 is finished\t\n"
      ]
     },
     "execution_count": 187,
     "metadata": {},
     "output_type": "execute_result"
    },
    {
     "data": {
      "text/plain": [
       "Top nil feature map classification: \tgoldfish, Carassius auratus 26.069913864136\t\n",
       "26.069913864136\t\n",
       "1216 is finished\t\n"
      ]
     },
     "execution_count": 187,
     "metadata": {},
     "output_type": "execute_result"
    },
    {
     "data": {
      "text/plain": [
       "Top nil feature map classification: \tfiddler crab 8.0778026580811\t\n",
       "7.7916889190674\t\n",
       "1217 is finished\t\n"
      ]
     },
     "execution_count": 187,
     "metadata": {},
     "output_type": "execute_result"
    },
    {
     "data": {
      "text/plain": [
       "Top nil feature map classification: \tgoldfish, Carassius auratus 18.081851959229\t\n",
       "18.081851959229\t\n",
       "1218 is finished\t\n"
      ]
     },
     "execution_count": 187,
     "metadata": {},
     "output_type": "execute_result"
    },
    {
     "data": {
      "text/plain": [
       "Top nil feature map classification: \tgoldfish, Carassius auratus 13.242637634277\t\n",
       "13.242637634277\t\n",
       "1219 is finished\t\n"
      ]
     },
     "execution_count": 187,
     "metadata": {},
     "output_type": "execute_result"
    },
    {
     "data": {
      "text/plain": [
       "Top nil feature map classification: \tgoldfish, Carassius auratus 24.796382904053\t\n",
       "24.796382904053\t\n",
       "1220 is finished\t\n"
      ]
     },
     "execution_count": 187,
     "metadata": {},
     "output_type": "execute_result"
    },
    {
     "data": {
      "text/plain": [
       "Top nil feature map classification: \tice cream, icecream 15.669582366943\t\n",
       "13.435269355774\t\n",
       "1221 is finished\t\n"
      ]
     },
     "execution_count": 187,
     "metadata": {},
     "output_type": "execute_result"
    },
    {
     "data": {
      "text/plain": [
       "Top nil feature map classification: \tstingray 15.886744499207\t\n",
       "11.830791473389\t\n",
       "1222 is finished\t\n"
      ]
     },
     "execution_count": 187,
     "metadata": {},
     "output_type": "execute_result"
    },
    {
     "data": {
      "text/plain": [
       "Top nil feature map classification: \tgoldfish, Carassius auratus 13.064300537109\t\n",
       "13.064300537109\t\n",
       "1223 is finished\t\n"
      ]
     },
     "execution_count": 187,
     "metadata": {},
     "output_type": "execute_result"
    },
    {
     "data": {
      "text/plain": [
       "Top nil feature map classification: \tgoldfish, Carassius auratus 17.417549133301\t\n",
       "17.417549133301\t\n",
       "1224 is finished\t\n"
      ]
     },
     "execution_count": 187,
     "metadata": {},
     "output_type": "execute_result"
    },
    {
     "data": {
      "text/plain": [
       "Top nil feature map classification: \tgoldfish, Carassius auratus 28.542764663696\t\n"
      ]
     },
     "execution_count": 187,
     "metadata": {},
     "output_type": "execute_result"
    },
    {
     "data": {
      "text/plain": [
       "28.542764663696\t\n",
       "1225 is finished\t\n"
      ]
     },
     "execution_count": 187,
     "metadata": {},
     "output_type": "execute_result"
    },
    {
     "data": {
      "text/plain": [
       "Top nil feature map classification: \tgoldfish, Carassius auratus 11.921124458313\t\n",
       "11.921124458313\t\n",
       "1226 is finished\t\n"
      ]
     },
     "execution_count": 187,
     "metadata": {},
     "output_type": "execute_result"
    },
    {
     "data": {
      "text/plain": [
       "Top nil feature map classification: \tgoldfish, Carassius auratus 22.687164306641\t\n",
       "22.687164306641\t\n",
       "1227 is finished\t\n"
      ]
     },
     "execution_count": 187,
     "metadata": {},
     "output_type": "execute_result"
    },
    {
     "data": {
      "text/plain": [
       "Top nil feature map classification: \tgoldfish, Carassius auratus 12.002355575562\t\n",
       "12.002355575562\t\n",
       "1228 is finished\t\n"
      ]
     },
     "execution_count": 187,
     "metadata": {},
     "output_type": "execute_result"
    },
    {
     "data": {
      "text/plain": [
       "Top nil feature map classification: \teft 13.724236488342\t\n",
       "5.7947387695312\t\n",
       "1229 is finished\t\n"
      ]
     },
     "execution_count": 187,
     "metadata": {},
     "output_type": "execute_result"
    },
    {
     "data": {
      "text/plain": [
       "Top nil feature map classification: \tleafhopper 13.123863220215\t\n",
       "12.034973144531\t\n",
       "1230 is finished\t\n"
      ]
     },
     "execution_count": 187,
     "metadata": {},
     "output_type": "execute_result"
    },
    {
     "data": {
      "text/plain": [
       "Top nil feature map classification: \tgoldfish, Carassius auratus 19.123991012573\t\n",
       "19.123991012573\t\n",
       "1231 is finished\t\n"
      ]
     },
     "execution_count": 187,
     "metadata": {},
     "output_type": "execute_result"
    },
    {
     "data": {
      "text/plain": [
       "Top nil feature map classification: \tgoldfish, Carassius auratus 23.278665542603\t\n",
       "23.278665542603\t\n",
       "1232 is finished\t\n"
      ]
     },
     "execution_count": 187,
     "metadata": {},
     "output_type": "execute_result"
    },
    {
     "data": {
      "text/plain": [
       "Top nil feature map classification: \tgoldfish, Carassius auratus 12.007075309753\t\n",
       "12.007075309753\t\n",
       "1233 is finished\t\n"
      ]
     },
     "execution_count": 187,
     "metadata": {},
     "output_type": "execute_result"
    },
    {
     "data": {
      "text/plain": [
       "Top nil feature map classification: \tgoldfish, Carassius auratus 22.426710128784\t\n",
       "22.426710128784\t\n",
       "1234 is finished\t\n"
      ]
     },
     "execution_count": 187,
     "metadata": {},
     "output_type": "execute_result"
    },
    {
     "data": {
      "text/plain": [
       "Top nil feature map classification: \tgoldfish, Carassius auratus 9.5041580200195\t\n",
       "9.5041580200195\t\n",
       "1235 is finished\t\n"
      ]
     },
     "execution_count": 187,
     "metadata": {},
     "output_type": "execute_result"
    },
    {
     "data": {
      "text/plain": [
       "Top nil feature map classification: \tgoldfish, Carassius auratus 18.047395706177\t\n",
       "18.047395706177\t\n",
       "1236 is finished\t\n"
      ]
     },
     "execution_count": 187,
     "metadata": {},
     "output_type": "execute_result"
    },
    {
     "data": {
      "text/plain": [
       "Top nil feature map classification: \tgoldfish, Carassius auratus 20.28077507019\t\n",
       "20.28077507019\t\n",
       "1237 is finished\t\n"
      ]
     },
     "execution_count": 187,
     "metadata": {},
     "output_type": "execute_result"
    },
    {
     "data": {
      "text/plain": [
       "Top nil feature map classification: \tgoldfish, Carassius auratus 15.900595664978\t\n",
       "15.900595664978\t\n",
       "1238 is finished\t\n"
      ]
     },
     "execution_count": 187,
     "metadata": {},
     "output_type": "execute_result"
    },
    {
     "data": {
      "text/plain": [
       "Top nil feature map classification: \tgoldfish, Carassius auratus 30.558309555054\t\n",
       "30.558309555054\t\n",
       "1239 is finished\t\n"
      ]
     },
     "execution_count": 187,
     "metadata": {},
     "output_type": "execute_result"
    },
    {
     "data": {
      "text/plain": [
       "Top nil feature map classification: \tgoldfish, Carassius auratus 33.511207580566\t\n",
       "33.511207580566\t\n",
       "1240 is finished\t\n"
      ]
     },
     "execution_count": 187,
     "metadata": {},
     "output_type": "execute_result"
    },
    {
     "data": {
      "text/plain": [
       "Top nil feature map classification: \tgoldfish, Carassius auratus 28.955757141113\t\n",
       "28.955757141113\t\n",
       "1241 is finished\t\n"
      ]
     },
     "execution_count": 187,
     "metadata": {},
     "output_type": "execute_result"
    },
    {
     "data": {
      "text/plain": [
       "Top nil feature map classification: \tgoldfish, Carassius auratus 21.976409912109\t\n",
       "21.976409912109\t\n",
       "1242 is finished\t\n"
      ]
     },
     "execution_count": 187,
     "metadata": {},
     "output_type": "execute_result"
    },
    {
     "data": {
      "text/plain": [
       "Top nil feature map classification: \tbeer glass 15.036533355713\t\n",
       "12.150068283081\t\n",
       "1243 is finished\t\n"
      ]
     },
     "execution_count": 187,
     "metadata": {},
     "output_type": "execute_result"
    },
    {
     "data": {
      "text/plain": [
       "Top nil feature map classification: \tgoldfish, Carassius auratus 16.574653625488\t\n",
       "16.574653625488\t\n",
       "1244 is finished\t\n"
      ]
     },
     "execution_count": 187,
     "metadata": {},
     "output_type": "execute_result"
    },
    {
     "data": {
      "text/plain": [
       "Top nil feature map classification: \tbucket, pail 8.7294044494629\t\n",
       "7.7618975639343\t\n",
       "1245 is finished\t\n"
      ]
     },
     "execution_count": 187,
     "metadata": {},
     "output_type": "execute_result"
    },
    {
     "data": {
      "text/plain": [
       "Top nil feature map classification: \tgoldfish, Carassius auratus 26.511877059937\t\n",
       "26.511877059937\t\n",
       "1246 is finished\t\n"
      ]
     },
     "execution_count": 187,
     "metadata": {},
     "output_type": "execute_result"
    },
    {
     "data": {
      "text/plain": [
       "Top nil feature map classification: \tgoldfish, Carassius auratus 12.768476486206\t\n",
       "12.768476486206\t\n",
       "1247 is finished\t\n"
      ]
     },
     "execution_count": 187,
     "metadata": {},
     "output_type": "execute_result"
    },
    {
     "data": {
      "text/plain": [
       "Top nil feature map classification: \tgoldfish, Carassius auratus 25.306282043457\t\n",
       "25.306282043457\t\n",
       "1248 is finished\t\n"
      ]
     },
     "execution_count": 187,
     "metadata": {},
     "output_type": "execute_result"
    },
    {
     "data": {
      "text/plain": [
       "Top nil feature map classification: \tgoldfish, Carassius auratus 15.534173965454\t\n",
       "15.534173965454\t\n",
       "1249 is finished\t\n"
      ]
     },
     "execution_count": 187,
     "metadata": {},
     "output_type": "execute_result"
    },
    {
     "data": {
      "text/plain": [
       "Top nil feature map classification: \tgoldfish, Carassius auratus 19.996549606323\t\n",
       "19.996549606323\t\n",
       "1250 is finished\t\n"
      ]
     },
     "execution_count": 187,
     "metadata": {},
     "output_type": "execute_result"
    },
    {
     "data": {
      "text/plain": [
       "Top nil feature map classification: \tgoldfish, Carassius auratus 17.920427322388\t\n",
       "17.920427322388\t\n",
       "1251 is finished\t\n"
      ]
     },
     "execution_count": 187,
     "metadata": {},
     "output_type": "execute_result"
    },
    {
     "data": {
      "text/plain": [
       "Top nil feature map classification: \tgoldfish, Carassius auratus 18.44623374939\t\n",
       "18.44623374939\t\n",
       "1252 is finished\t\n"
      ]
     },
     "execution_count": 187,
     "metadata": {},
     "output_type": "execute_result"
    },
    {
     "data": {
      "text/plain": [
       "Top nil feature map classification: \tgoldfish, Carassius auratus 19.295780181885\t\n",
       "19.295780181885\t\n",
       "1253 is finished\t\n"
      ]
     },
     "execution_count": 187,
     "metadata": {},
     "output_type": "execute_result"
    },
    {
     "data": {
      "text/plain": [
       "Top nil feature map classification: \tgoldfish, Carassius auratus 20.852323532104\t\n",
       "20.852323532104\t\n",
       "1254 is finished\t\n"
      ]
     },
     "execution_count": 187,
     "metadata": {},
     "output_type": "execute_result"
    },
    {
     "data": {
      "text/plain": [
       "Top nil feature map classification: \tgoldfish, Carassius auratus 34.821449279785\t\n",
       "34.821449279785\t\n",
       "1255 is finished\t\n"
      ]
     },
     "execution_count": 187,
     "metadata": {},
     "output_type": "execute_result"
    },
    {
     "data": {
      "text/plain": [
       "Top nil feature map classification: \tgoldfish, Carassius auratus 22.023832321167\t\n",
       "22.023832321167\t\n",
       "1256 is finished\t\n"
      ]
     },
     "execution_count": 187,
     "metadata": {},
     "output_type": "execute_result"
    },
    {
     "data": {
      "text/plain": [
       "Top nil feature map classification: \tgoldfish, Carassius auratus 15.226037025452\t\n",
       "15.226037025452\t\n",
       "1257 is finished\t\n"
      ]
     },
     "execution_count": 187,
     "metadata": {},
     "output_type": "execute_result"
    },
    {
     "data": {
      "text/plain": [
       "Top nil feature map classification: \tgoldfish, Carassius auratus 10.30491733551\t\n",
       "10.30491733551\t\n",
       "1258 is finished\t\n"
      ]
     },
     "execution_count": 187,
     "metadata": {},
     "output_type": "execute_result"
    },
    {
     "data": {
      "text/plain": [
       "Top nil feature map classification: \tgoldfish, Carassius auratus 19.414779663086\t\n",
       "19.414779663086\t\n",
       "1259 is finished\t\n"
      ]
     },
     "execution_count": 187,
     "metadata": {},
     "output_type": "execute_result"
    },
    {
     "data": {
      "text/plain": [
       "Top nil feature map classification: \tgoldfish, Carassius auratus 24.208612442017\t\n",
       "24.208612442017\t\n",
       "1260 is finished\t\n"
      ]
     },
     "execution_count": 187,
     "metadata": {},
     "output_type": "execute_result"
    },
    {
     "data": {
      "text/plain": [
       "Top nil feature map classification: \tgoldfish, Carassius auratus 9.4135389328003\t\n",
       "9.4135389328003\t\n",
       "1261 is finished\t\n"
      ]
     },
     "execution_count": 187,
     "metadata": {},
     "output_type": "execute_result"
    },
    {
     "data": {
      "text/plain": [
       "Top nil feature map classification: \tgoldfish, Carassius auratus 26.69889831543\t\n",
       "26.69889831543\t\n",
       "1262 is finished\t\n"
      ]
     },
     "execution_count": 187,
     "metadata": {},
     "output_type": "execute_result"
    },
    {
     "data": {
      "text/plain": [
       "Top nil feature map classification: \tgoldfish, Carassius auratus 17.549070358276\t\n",
       "17.549070358276\t\n",
       "1263 is finished\t\n"
      ]
     },
     "execution_count": 187,
     "metadata": {},
     "output_type": "execute_result"
    },
    {
     "data": {
      "text/plain": [
       "Top nil feature map classification: \tgoldfish, Carassius auratus 16.755979537964\t\n",
       "16.755979537964\t\n",
       "1264 is finished\t\n"
      ]
     },
     "execution_count": 187,
     "metadata": {},
     "output_type": "execute_result"
    },
    {
     "data": {
      "text/plain": [
       "Top nil feature map classification: \tgoldfish, Carassius auratus 25.671371459961\t\n",
       "25.671371459961\t\n",
       "1265 is finished\t\n"
      ]
     },
     "execution_count": 187,
     "metadata": {},
     "output_type": "execute_result"
    },
    {
     "data": {
      "text/plain": [
       "Top nil feature map classification: \tgoldfish, Carassius auratus 24.554611206055\t\n",
       "24.554611206055\t\n",
       "1266 is finished\t\n"
      ]
     },
     "execution_count": 187,
     "metadata": {},
     "output_type": "execute_result"
    },
    {
     "data": {
      "text/plain": [
       "Top nil feature map classification: \tgoldfish, Carassius auratus 25.664018630981\t\n",
       "25.664018630981\t\n",
       "1267 is finished\t\n"
      ]
     },
     "execution_count": 187,
     "metadata": {},
     "output_type": "execute_result"
    },
    {
     "data": {
      "text/plain": [
       "Top nil feature map classification: \tgoldfish, Carassius auratus 16.35334777832\t\n",
       "16.35334777832\t\n",
       "1268 is finished\t\n"
      ]
     },
     "execution_count": 187,
     "metadata": {},
     "output_type": "execute_result"
    },
    {
     "data": {
      "text/plain": [
       "Top nil feature map classification: \tgoldfish, Carassius auratus 21.540109634399\t\n",
       "21.540109634399\t\n",
       "1269 is finished\t\n"
      ]
     },
     "execution_count": 187,
     "metadata": {},
     "output_type": "execute_result"
    },
    {
     "data": {
      "text/plain": [
       "Top nil feature map classification: \tgoldfish, Carassius auratus 18.550695419312\t\n",
       "18.550695419312\t\n",
       "1270 is finished\t\n"
      ]
     },
     "execution_count": 187,
     "metadata": {},
     "output_type": "execute_result"
    },
    {
     "data": {
      "text/plain": [
       "Top nil feature map classification: \tgoldfish, Carassius auratus 24.300996780396\t\n",
       "24.300996780396\t\n",
       "1271 is finished\t\n"
      ]
     },
     "execution_count": 187,
     "metadata": {},
     "output_type": "execute_result"
    },
    {
     "data": {
      "text/plain": [
       "Top nil feature map classification: \tgoldfish, Carassius auratus 14.839977264404\t\n",
       "14.839977264404\t\n",
       "1272 is finished\t\n"
      ]
     },
     "execution_count": 187,
     "metadata": {},
     "output_type": "execute_result"
    },
    {
     "data": {
      "text/plain": [
       "Top nil feature map classification: \tgoldfish, Carassius auratus 12.280833244324\t\n",
       "12.280833244324\t\n",
       "1273 is finished\t\n"
      ]
     },
     "execution_count": 187,
     "metadata": {},
     "output_type": "execute_result"
    },
    {
     "data": {
      "text/plain": [
       "Top nil feature map classification: \tgoldfish, Carassius auratus 15.447758674622\t\n",
       "15.447758674622\t\n",
       "1274 is finished\t\n"
      ]
     },
     "execution_count": 187,
     "metadata": {},
     "output_type": "execute_result"
    },
    {
     "data": {
      "text/plain": [
       "Top nil feature map classification: \tgoldfish, Carassius auratus 21.617984771729\t\n",
       "21.617984771729\t\n",
       "1275 is finished\t\n"
      ]
     },
     "execution_count": 187,
     "metadata": {},
     "output_type": "execute_result"
    },
    {
     "data": {
      "text/plain": [
       "Top nil feature map classification: \tgoldfish, Carassius auratus 25.01682472229\t\n",
       "25.01682472229\t\n",
       "1276 is finished\t\n"
      ]
     },
     "execution_count": 187,
     "metadata": {},
     "output_type": "execute_result"
    },
    {
     "data": {
      "text/plain": [
       "Top nil feature map classification: \tgoldfish, Carassius auratus 16.027294158936\t\n",
       "16.027294158936\t\n",
       "1277 is finished\t\n"
      ]
     },
     "execution_count": 187,
     "metadata": {},
     "output_type": "execute_result"
    },
    {
     "data": {
      "text/plain": [
       "Top nil feature map classification: \tgoldfish, Carassius auratus 16.656845092773\t\n",
       "16.656845092773\t\n",
       "1278 is finished\t\n"
      ]
     },
     "execution_count": 187,
     "metadata": {},
     "output_type": "execute_result"
    },
    {
     "data": {
      "text/plain": [
       "Top nil feature map classification: \tgoldfish, Carassius auratus 18.12425994873\t\n",
       "18.12425994873\t\n",
       "1279 is finished\t\n"
      ]
     },
     "execution_count": 187,
     "metadata": {},
     "output_type": "execute_result"
    },
    {
     "data": {
      "text/plain": [
       "Top nil feature map classification: \tgoldfish, Carassius auratus 13.411986351013\t\n",
       "13.411986351013\t\n",
       "1280 is finished\t\n"
      ]
     },
     "execution_count": 187,
     "metadata": {},
     "output_type": "execute_result"
    },
    {
     "data": {
      "text/plain": [
       "Top nil feature map classification: \tmicrowave, microwave oven 9.8283472061157\t\n",
       "8.4348917007446\t\n",
       "1281 is finished\t\n"
      ]
     },
     "execution_count": 187,
     "metadata": {},
     "output_type": "execute_result"
    },
    {
     "data": {
      "text/plain": [
       "Top nil feature map classification: \tgoldfish, Carassius auratus 8.5518493652344\t\n",
       "8.5518493652344\t\n",
       "1282 is finished\t\n"
      ]
     },
     "execution_count": 187,
     "metadata": {},
     "output_type": "execute_result"
    },
    {
     "data": {
      "text/plain": [
       "Top nil feature map classification: \tanemone fish 16.035224914551\t\n",
       "14.882343292236\t\n",
       "1283 is finished\t\n"
      ]
     },
     "execution_count": 187,
     "metadata": {},
     "output_type": "execute_result"
    },
    {
     "data": {
      "text/plain": [
       "Top nil feature map classification: \tgoldfish, Carassius auratus 29.551237106323\t\n",
       "29.551237106323\t\n",
       "1284 is finished\t\n"
      ]
     },
     "execution_count": 187,
     "metadata": {},
     "output_type": "execute_result"
    },
    {
     "data": {
      "text/plain": [
       "Top nil feature map classification: \tgoldfish, Carassius auratus 18.705707550049\t\n",
       "18.705707550049\t\n",
       "1285 is finished\t\n"
      ]
     },
     "execution_count": 187,
     "metadata": {},
     "output_type": "execute_result"
    },
    {
     "data": {
      "text/plain": [
       "Top nil feature map classification: \tgoldfish, Carassius auratus 13.97802066803\t\n",
       "13.97802066803\t\n",
       "1286 is finished\t\n"
      ]
     },
     "execution_count": 187,
     "metadata": {},
     "output_type": "execute_result"
    },
    {
     "data": {
      "text/plain": [
       "Top nil feature map classification: \tcrayfish, crawfish, crawdad, crawdaddy 9.6926422119141\t\n",
       "9.2721509933472\t\n",
       "1287 is finished\t\n"
      ]
     },
     "execution_count": 187,
     "metadata": {},
     "output_type": "execute_result"
    },
    {
     "data": {
      "text/plain": [
       "Top nil feature map classification: \tgoldfish, Carassius auratus 12.425951957703\t\n",
       "12.425951957703\t\n",
       "1288 is finished\t\n"
      ]
     },
     "execution_count": 187,
     "metadata": {},
     "output_type": "execute_result"
    },
    {
     "data": {
      "text/plain": [
       "Top nil feature map classification: \tgoldfish, Carassius auratus 14.458831787109\t\n",
       "14.458831787109\t\n",
       "1289 is finished\t\n"
      ]
     },
     "execution_count": 187,
     "metadata": {},
     "output_type": "execute_result"
    },
    {
     "data": {
      "text/plain": [
       "Top nil feature map classification: \tgoldfish, Carassius auratus 18.689764022827\t\n",
       "18.689764022827\t\n",
       "1290 is finished\t\n"
      ]
     },
     "execution_count": 187,
     "metadata": {},
     "output_type": "execute_result"
    },
    {
     "data": {
      "text/plain": [
       "Top nil feature map classification: \tgoldfish, Carassius auratus 24.170026779175\t\n"
      ]
     },
     "execution_count": 187,
     "metadata": {},
     "output_type": "execute_result"
    },
    {
     "data": {
      "text/plain": [
       "24.170026779175\t\n",
       "1291 is finished\t\n"
      ]
     },
     "execution_count": 187,
     "metadata": {},
     "output_type": "execute_result"
    },
    {
     "data": {
      "text/plain": [
       "Top nil feature map classification: \tgoldfish, Carassius auratus 13.828735351562\t\n",
       "13.828735351562\t\n",
       "1292 is finished\t\n"
      ]
     },
     "execution_count": 187,
     "metadata": {},
     "output_type": "execute_result"
    },
    {
     "data": {
      "text/plain": [
       "Top nil feature map classification: \tgoldfish, Carassius auratus 12.003299713135\t\n",
       "12.003299713135\t\n",
       "1293 is finished\t\n"
      ]
     },
     "execution_count": 187,
     "metadata": {},
     "output_type": "execute_result"
    },
    {
     "data": {
      "text/plain": [
       "Top nil feature map classification: \tgoldfish, Carassius auratus 11.8782787323\t\n",
       "11.8782787323\t\n",
       "1294 is finished\t\n"
      ]
     },
     "execution_count": 187,
     "metadata": {},
     "output_type": "execute_result"
    },
    {
     "data": {
      "text/plain": [
       "Top nil feature map classification: \tgoldfish, Carassius auratus 10.217166900635\t\n",
       "10.217166900635\t\n",
       "1295 is finished\t\n"
      ]
     },
     "execution_count": 187,
     "metadata": {},
     "output_type": "execute_result"
    },
    {
     "data": {
      "text/plain": [
       "Top nil feature map classification: \tgoldfish, Carassius auratus 15.235214233398\t\n",
       "15.235214233398\t\n",
       "1296 is finished\t\n"
      ]
     },
     "execution_count": 187,
     "metadata": {},
     "output_type": "execute_result"
    },
    {
     "data": {
      "text/plain": [
       "Top nil feature map classification: \tgoldfish, Carassius auratus 14.671661376953\t\n",
       "14.671661376953\t\n",
       "1297 is finished\t\n"
      ]
     },
     "execution_count": 187,
     "metadata": {},
     "output_type": "execute_result"
    },
    {
     "data": {
      "text/plain": [
       "Top nil feature map classification: \tgoldfish, Carassius auratus 16.168018341064\t\n",
       "16.168018341064\t\n",
       "1298 is finished\t\n"
      ]
     },
     "execution_count": 187,
     "metadata": {},
     "output_type": "execute_result"
    },
    {
     "data": {
      "text/plain": [
       "Top nil feature map classification: \tcoral reef 15.277828216553\t\n",
       "13.572606086731\t\n",
       "1299 is finished\t\n"
      ]
     },
     "execution_count": 187,
     "metadata": {},
     "output_type": "execute_result"
    },
    {
     "data": {
      "text/plain": [
       "Top nil feature map classification: \tgoldfish, Carassius auratus 7.9457354545593\t\n",
       "7.9457354545593\t\n",
       "1300 is finished\t\n"
      ]
     },
     "execution_count": 187,
     "metadata": {},
     "output_type": "execute_result"
    },
    {
     "data": {
      "text/plain": [
       "==> Time elapsed: 2190.9037089348 seconds\t\n"
      ]
     },
     "execution_count": 187,
     "metadata": {},
     "output_type": "execute_result"
    }
   ],
   "source": [
    "print '==> Preprocessing'\n",
    "--print(fileList)\n",
    "classifier = nn.Sequential()\n",
    "classifier:add(net:get(2))\n",
    "classifier:add(net:get(3))\n",
    "\n",
    "point_index = torch.Tensor(256)\n",
    "for i=1, 256 do\n",
    "    point_index[i] = i\n",
    "end\n",
    "\n",
    "local specific_object_statistic = {}\n",
    "for i=1, total_files do\n",
    "    specific_object_statistic[i] = { file_name='nil', insertion_curve={}, dropout_curve={}, topN_index={}  }\n",
    "end\n",
    "\n",
    "timer = torch.Timer()\n",
    "--for i=21, 21 do\n",
    "for i=1, total_files do\n",
    "    im = image.load( fileDir..'/'..fileList[i] )\n",
    "    I = preprocess(im, img_mean)\n",
    "\n",
    "    sorted_prob, classes = net:forward(I:cuda()):view(-1):float():sort(true)\n",
    "    label_prob = net:forward(I:cuda()):view(-1):float()\n",
    "    print('Top '..tostring(top_n)..' feature map classification: ', synset_words[classes[1]] .. ' ' .. sorted_prob[1] )\n",
    "    print( label_prob[true_label] )\n",
    "    \n",
    "    print( i..' is finished')\n",
    "    local topN_index = Find_diff_by_drop1( label_prob[true_label] )\n",
    "    --print(topN_index )\n",
    "    local insertion_curve = Insertion( topN_index )\n",
    "    local dropout_curve = Dropout( topN_index )\n",
    "    \n",
    "    specific_object_statistic[i].file_name = fileList[i]\n",
    "    specific_object_statistic[i].insertion_curve = insertion_curve\n",
    "    specific_object_statistic[i].dropout_curve = dropout_curve\n",
    "    specific_object_statistic[i].topN_index = topN_index\n",
    "    --plot = Plot():line( point_index, insertion_curve,'red','Classification Curve'):legend(true):title('Insertion'):draw()\n",
    "    --plot = Plot():line( point_index, dropout_curve,'red','Classification Curve'):legend(true):title('Dropout'):draw() \n",
    "end\n",
    "\n",
    "torch.save('n01443537.t7', specific_object_statistic )\n",
    "print('==> Time elapsed: ' .. timer:time().real .. ' seconds')"
   ]
  },
  {
   "cell_type": "code",
   "execution_count": 142,
   "metadata": {
    "collapsed": false
   },
   "outputs": [
    {
     "data": {
      "image/png": "[encoded data removed]",
      "text/plain": [
       "Console does not support images"
      ]
     },
     "metadata": {
      "image/png": {
       "height": 255,
       "width": 500
      }
     },
     "output_type": "display_data"
    }
   ],
   "source": [
    "img=image.load(fileDir..'/'..fileList[5])\n",
    "itorch.image(img)"
   ]
  },
  {
   "cell_type": "code",
   "execution_count": 188,
   "metadata": {
    "collapsed": false,
    "scrolled": false
   },
   "outputs": [],
   "source": [
    "--test = torch.load('./specific_object_statistic.t7')\n",
    "goldfish = torch.load('./n01443537.t7')\n",
    "--print(test[1].topN_index)\n",
    "-- for i=1, 50 do\n",
    "--     plot = Plot():line( point_index, test[i].insertion_curve,'red','Classification Curve'):legend(true):title('Insertion '..i):draw()\n",
    "--     --plot = Plot():line( point_index, test[i].dropout_curve,'red','Classification Curve'):legend(true):title('Dropout '..i):draw() \n",
    "-- end"
   ]
  },
  {
   "cell_type": "code",
   "execution_count": null,
   "metadata": {
    "collapsed": true
   },
   "outputs": [],
   "source": []
  }
 ],
 "metadata": {
  "kernelspec": {
   "display_name": "iTorch",
   "language": "lua",
   "name": "itorch"
  },
  "language_info": {
   "name": "lua",
   "version": "20100"
  }
 },
 "nbformat": 4,
 "nbformat_minor": 0
}
