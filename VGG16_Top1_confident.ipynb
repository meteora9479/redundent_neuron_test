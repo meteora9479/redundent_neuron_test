{
 "cells": [
  {
   "cell_type": "code",
   "execution_count": 2,
   "metadata": {
    "collapsed": false
   },
   "outputs": [
    {
     "data": {
      "text/plain": [
       "==> Loading network\t\n"
      ]
     },
     "execution_count": 2,
     "metadata": {},
     "output_type": "execute_result"
    },
    {
     "data": {
      "text/plain": [
       "Successfully loaded /usr/local/data/CaffeZoo/VGG_ILSVRC_16_layers/VGG_ILSVRC_16_layers.caffemodel\n"
      ]
     },
     "execution_count": 2,
     "metadata": {},
     "output_type": "execute_result"
    },
    {
     "data": {
      "text/plain": [
       "conv1_1: 64 3 3 3\n",
       "conv1_2: 64 64 3 3\n",
       "conv2_1: 128 64 3 3\n",
       "conv2_2: 128 128 3 3\n"
      ]
     },
     "execution_count": 2,
     "metadata": {},
     "output_type": "execute_result"
    },
    {
     "data": {
      "text/plain": [
       "conv3_1: 256 128 3 3\n",
       "conv3_2: 256 256 3 3\n"
      ]
     },
     "execution_count": 2,
     "metadata": {},
     "output_type": "execute_result"
    },
    {
     "data": {
      "text/plain": [
       "conv3_3: 256 256 3 3\n"
      ]
     },
     "execution_count": 2,
     "metadata": {},
     "output_type": "execute_result"
    },
    {
     "data": {
      "text/plain": [
       "conv4_1: 512 256 3 3\n"
      ]
     },
     "execution_count": 2,
     "metadata": {},
     "output_type": "execute_result"
    },
    {
     "data": {
      "text/plain": [
       "conv4_2: 512 512 3 3\n"
      ]
     },
     "execution_count": 2,
     "metadata": {},
     "output_type": "execute_result"
    },
    {
     "data": {
      "text/plain": [
       "conv4_3: 512 512 3 3\n"
      ]
     },
     "execution_count": 2,
     "metadata": {},
     "output_type": "execute_result"
    },
    {
     "data": {
      "text/plain": [
       "conv5_1: 512 512 3 3\n"
      ]
     },
     "execution_count": 2,
     "metadata": {},
     "output_type": "execute_result"
    },
    {
     "data": {
      "text/plain": [
       "conv5_2: 512 512 3 3\n"
      ]
     },
     "execution_count": 2,
     "metadata": {},
     "output_type": "execute_result"
    },
    {
     "data": {
      "text/plain": [
       "conv5_3: 512 512 3 3\n"
      ]
     },
     "execution_count": 2,
     "metadata": {},
     "output_type": "execute_result"
    },
    {
     "data": {
      "text/plain": [
       "fc6: 1 1 25088 4096\n"
      ]
     },
     "execution_count": 2,
     "metadata": {},
     "output_type": "execute_result"
    },
    {
     "data": {
      "text/plain": [
       "fc7: 1 1 4096 4096\n"
      ]
     },
     "execution_count": 2,
     "metadata": {},
     "output_type": "execute_result"
    },
    {
     "data": {
      "text/plain": [
       "fc8: 1 1 4096 1000\n"
      ]
     },
     "execution_count": 2,
     "metadata": {},
     "output_type": "execute_result"
    },
    {
     "data": {
      "text/plain": [
       "==> Loading synsets\t\n"
      ]
     },
     "execution_count": 2,
     "metadata": {},
     "output_type": "execute_result"
    },
    {
     "data": {
      "text/plain": [
       "==> Loading image and imagenet mean\t\n"
      ]
     },
     "execution_count": 2,
     "metadata": {},
     "output_type": "execute_result"
    },
    {
     "data": {
      "text/plain": [
       "==> Preprocessing\t\n"
      ]
     },
     "execution_count": 2,
     "metadata": {},
     "output_type": "execute_result"
    },
    {
     "data": {
      "text/plain": [
       "predicted class 1: \tgoldfish, Carassius auratus 28.028030395508\t\n",
       "predicted class 2: \ttench, Tinca tinca 14.433183670044\t\n",
       "predicted class 3: \tgar, garfish, garpike, billfish, Lepisosteus osseus 13.182628631592\t\n",
       "predicted class 4: \tcoho, cohoe, coho salmon, blue jack, silver salmon, Oncorhynchus kisutch 13.130925178528\t\n",
       "predicted class 5: \tcoral reef 12.801044464111\t\n",
       "28.028030395508\t\n",
       "nn.Sequential {\n",
       "  [input -> (1) -> (2) -> (3) -> (4) -> (5) -> (6) -> (7) -> (8) -> (9) -> (10) -> output]\n",
       "  (1): cudnn.ReLU\n",
       "  (2): cudnn.SpatialMaxPooling\n",
       "  (3): nn.View\n",
       "  (4): nn.Linear(25088 -> 4096)\n",
       "  (5): cudnn.ReLU\n",
       "  (6): nn.Dropout(0.500000)\n",
       "  (7): nn.Linear(4096 -> 4096)\n",
       "  (8): cudnn.ReLU\n",
       "  (9): nn.Dropout(0.500000)\n",
       "  (10): nn.Linear(4096 -> 1000)\n",
       "}\n",
       "{\n",
       "  gradInput : CudaTensor - empty\n",
       "  modules : \n",
       "    {\n",
       "      1 : \n",
       "        cudnn.ReLU\n",
       "        {\n",
       "      "
      ]
     },
     "execution_count": 2,
     "metadata": {},
     "output_type": "execute_result"
    },
    {
     "data": {
      "text/plain": [
       "    inplace : true\n",
       "          mode : CUDNN_ACTIVATION_RELU\n",
       "          train : false\n",
       "          output : CudaTensor - size: 512x14x14\n",
       "          gradInput : CudaTensor - empty\n",
       "          nElem : 100352\n",
       "          iDesc : cdata<struct cudnnTensorStruct *[1]>: 0x40f91418\n",
       "        }\n",
       "      2 : \n",
       "        cudnn.SpatialMaxPooling\n",
       "        {\n",
       "          dH : 2\n",
       "          dW : 2\n",
       "          padH : 0\n",
       "          gradInput : CudaTensor - size: 512x14x14\n",
       "          oDesc : cdata<struct cudnnTensorStruct *[1]>: 0x40f8e720\n",
       "          iSize : LongStorage - size: 4\n",
       "          iDesc : cdata<struct cudnnTensorStruct *[1]>: 0x40f8ebc8\n",
       "          poolDesc : cdata<struct cudnnPoolingStruct *[1]>: 0x40f8fb40\n",
       "          mode : CUDNN_POOLING_MAX\n",
       "          train : false\n",
       "          kH : 2\n",
       "          ceil_mode : true\n",
       "          output : CudaTensor - size: 512x7x7\n",
       "          padW : 0\n",
       "          kW : 2\n",
       "        }\n",
       "      3 : \n",
       "        nn.View\n",
       "        {\n",
       "          train : false\n",
       "          output : CudaTensor - size: 25088\n",
       "          numInputDims : 3\n",
       "          size : LongStorage - size: 1\n",
       "          numElements : 1\n",
       "        }\n",
       "      4 : \n",
       "        nn.Linear(25088 -> 4096)\n",
       "        {\n",
       "          gradBias : CudaTensor - size: 4096\n",
       "          weight : CudaTensor - size: 4096x25088\n",
       "          train : false\n",
       "          bias : CudaTensor - size: 4096\n",
       "          gradInput : CudaTensor - empty\n",
       "          gradWeight : CudaTensor - size: 4096x25088\n",
       "          output : CudaTensor - size: 4096\n",
       "        }\n",
       "      5 : \n",
       "        cudnn.ReLU\n",
       "        {\n",
       "          inplace : true\n",
       "          mode : CUDNN_ACTIVATION_RELU\n",
       "          train : false\n",
       "          output : CudaTensor - size: 4096\n",
       "          gradInput : CudaTensor - empty\n",
       "          nElem : 4096\n",
       "          iDesc : cdata<struct cudnnTensorStruct *[1]>: 0x41f67830\n",
       "        }\n",
       "      6 : \n",
       "        nn.Dropout(0.500000)\n",
       "        {\n",
       "          v2 : true\n",
       "          noise : CudaTensor - empty\n",
       "          train : false\n",
       "          p : 0.5\n",
       "          gradInput : CudaTensor - empty\n",
       "          output : CudaTensor - size: 4096\n",
       "        }\n",
       "      7 : \n",
       "        nn.Linear(4096 -> 4096)\n",
       "        {\n",
       "          gradBias : CudaTensor - size: 4096\n",
       "          weight : CudaTensor - size: 4096x4096\n",
       "          train : false\n",
       "          bias : CudaTensor - size: 4096\n",
       "          gradInput : CudaTensor - empty\n",
       "          gradWeight : CudaTensor - size: 4096x4096\n",
       "          output : CudaTensor - size: 4096\n",
       "        }\n",
       "      8 : \n",
       "        cudnn.ReLU\n",
       "        {\n",
       "          inplace : true\n",
       "          mode : CUDNN_ACTIVATION_RELU"
      ]
     },
     "execution_count": 2,
     "metadata": {},
     "output_type": "execute_result"
    },
    {
     "data": {
      "text/plain": [
       "\n",
       "          train : false\n",
       "          output : CudaTensor - size: 4096\n",
       "          gradInput : CudaTensor - empty\n",
       "          nElem : 4096\n",
       "          iDesc : cdata<struct cudnnTensorStruct *[1]>: 0x413a8e88\n",
       "        }\n",
       "      9 : \n",
       "        nn.Dropout(0.500000)\n",
       "        {\n",
       "          v2 : true\n",
       "          noise : CudaTensor - empty\n",
       "          train : false\n",
       "          p : 0.5\n",
       "          gradInput : CudaTensor - empty\n",
       "          output : CudaTensor - size: 4096\n",
       "        }\n",
       "      10 : \n",
       "        nn.Linear(4096 -> 1000)\n",
       "        {\n",
       "          gradBias : CudaTensor - size: 1000\n",
       "          weight : CudaTensor - size: 1000x4096\n",
       "          train : false\n",
       "          bias : CudaTensor - size: 1000\n",
       "          gradInput : CudaTensor - empty\n",
       "          gradWeight : CudaTensor - size: 1000x4096\n",
       "          output : CudaTensor - size: 1000\n",
       "        }\n",
       "    }\n",
       "  output : CudaTensor - size: 1000\n",
       "}\n"
      ]
     },
     "execution_count": 2,
     "metadata": {},
     "output_type": "execute_result"
    }
   ],
   "source": [
    "require 'loadcaffe'\n",
    "require 'cudnn'\n",
    "require 'inn'\n",
    "require 'image'\n",
    "require 'dcnn'\n",
    "Plot = require 'itorch.Plot'\n",
    "\n",
    "-- Loads the mapping from net outputs to human readable labels\n",
    "function load_synset()\n",
    "  local file = io.open 'synset_words.txt'\n",
    "  local list = {}\n",
    "  while true do\n",
    "    local line = file:read()\n",
    "    if not line then break end\n",
    "    table.insert(list, string.sub(line,11))\n",
    "  end\n",
    "  return list\n",
    "end\n",
    "\n",
    "-- Converts an image from RGB to BGR format and subtracts mean\n",
    "function preprocess(im, img_mean)\n",
    "  -- rescale the image\n",
    "  local im3 = image.scale(im,224,224,'bilinear')*255\n",
    "  -- RGB2BGR\n",
    "  local im4 = im3:clone()\n",
    "  im4[{1,{},{}}] = im3[{3,{},{}}]\n",
    "  im4[{3,{},{}}] = im3[{1,{},{}}]\n",
    "\n",
    "  -- subtract imagenet mean\n",
    "  return im4 - image.scale(img_mean, 224, 224, 'bilinear')\n",
    "end\n",
    "\n",
    "-- Lua implementation of PHP scandir function\n",
    "function scandir(directory)\n",
    "    local i, t, popen = 0, {}, io.popen\n",
    "    for filename in popen('ls -a \"'..directory..'\"'):lines() do\n",
    "        if filename:match \"%.JPEG$\" then\n",
    "            i = i + 1\n",
    "            t[i] = filename\n",
    "\n",
    "        end\n",
    "    end\n",
    "    return t, i\n",
    "end\n",
    "\n",
    "\n",
    "--fileDir = './test_n01443537'\n",
    "fileDir = './n01443537'\n",
    "fileList, total_files = scandir( fileDir )\n",
    "true_label = 2\n",
    "\n",
    "\n",
    "-- Setting up networks \n",
    "print '==> Loading network'\n",
    "\n",
    "prototxt_name = '/usr/local/data/CaffeZoo/VGG_ILSVRC_16_layers/VGG_ILSVRC_16_layers_deploy.prototxt'\n",
    "binary_name = '/usr/local/data/CaffeZoo/VGG_ILSVRC_16_layers/VGG_ILSVRC_16_layers.caffemodel'\n",
    "\n",
    "net = loadcaffe.load(prototxt_name, binary_name, 'cudnn')\n",
    "\n",
    "net:cuda()\n",
    "-- as we want to classify, let's disable dropouts by enabling evaluation mode\n",
    "net:evaluate()\n",
    "net:remove(40)\n",
    "\n",
    "print '==> Loading synsets'\n",
    "synset_words = load_synset()\n",
    "\n",
    "print '==> Loading image and imagenet mean'\n",
    "image_name = 'Goldfish3.jpg'\n",
    "--image_name = 'test_n01443537/n01443537_10025.JPEG'\n",
    "--image_name = 'lena.jpg'\n",
    "--image_name='people2.jpg'\n",
    "img_mean_name = 'ilsvrc_2012_mean.t7'\n",
    "\n",
    "im = image.load(image_name)\n",
    "img_mean = torch.load(img_mean_name).img_mean:transpose(3,1)\n",
    "\n",
    "\n",
    "\n",
    "\n",
    "-- Have to resize and convert from RGB to BGR and subtract mean\n",
    "print '==> Preprocessing'\n",
    "I = preprocess(im, img_mean)\n",
    "\n",
    "sorted_prob, classes = net:forward(I:cuda()):view(-1):float():sort(true)\n",
    "\n",
    "for i=1,5 do\n",
    "  print('predicted class '..tostring(i)..': ', synset_words[classes[i]] .. ' ' .. sorted_prob[i] )\n",
    "end\n",
    "\n",
    "classifier = nn.Sequential()\n",
    "for i = 30, 39 do\n",
    "    classifier:add( net:get(i) )    \n",
    "end    \n",
    "\n",
    "print(sorted_prob[1])\n",
    "print( classifier )"
   ]
  },
  {
   "cell_type": "code",
   "execution_count": 29,
   "metadata": {
    "collapsed": false
   },
   "outputs": [
    {
     "data": {
      "text/plain": [
       "nn.Sequential {\n",
       "  [input -> (1) -> (2) -> (3) -> (4) -> (5) -> (6) -> (7) -> (8) -> (9) -> (10) -> (11) -> (12) -> (13) -> (14) -> (15) -> (16) -> (17) -> (18) -> (19) -> (20) -> (21) -> (22) -> (23) -> (24) -> (25) -> (26) -> (27) -> (28) -> (29) -> (30) -> (31) -> (32) -> (33) -> (34) -> (35) -> (36) -> (37) -> (38) -> (39) -> output]\n",
       "  (1): cudnn.SpatialConvolution(3 -> 64, 3x3, 1,1, 1,1)\n",
       "  (2): cudnn.ReLU\n",
       "  (3): cudnn.SpatialConvolution(64 -> 64, 3x3, 1,1, 1,1)\n",
       "  (4): cudnn.ReLU\n",
       "  (5): cudnn.SpatialMaxPooling\n",
       "  (6): cudnn.SpatialConvolution(64 -> 128, 3x3, 1,1, 1,1)\n",
       "  (7): cudnn.ReLU\n",
       "  (8): cudnn.SpatialConvolution(128 -> 128, 3x3, 1,1, 1,1)\n",
       "  (9): cudnn.ReLU\n",
       "  (10): cudnn.SpatialMaxPooling\n",
       "  (11): cudnn.SpatialConvolution(128 -> 256, 3x3, 1,1, 1,1)\n",
       "  (12): cudnn.ReLU\n",
       "  (13): cudnn.SpatialConvolution(256 -> 256, 3x3, 1,1, 1,1)\n",
       "  (14): cudnn.ReLU\n",
       "  (15): cudnn.SpatialConvolution(256 -> 256, 3x3, 1,1, 1,1)\n",
       "  (16): cudnn.ReLU\n",
       "  (17): cudnn.SpatialMaxPooling\n",
       "  (18): cudnn.SpatialConvolution(256 -> 512, 3x3, 1,1, 1,1)\n",
       "  (19): cudnn.ReLU\n",
       "  (20): cudnn.SpatialConvolution(512 -> 512, 3x3, 1,1, 1,1)\n",
       "  (21): cudnn.ReLU\n",
       "  (22): cudnn.SpatialConvolution(512 -> 512, 3x3, 1,1, 1,1)\n",
       "  (23): cudnn.ReLU\n",
       "  (24): cudnn.SpatialMaxPooling\n",
       "  (25): cudnn.SpatialConvolution(512 -> 512, 3x3, 1,1, 1,1)\n",
       "  (26): cudnn.ReLU\n",
       "  (27): cudnn.SpatialConvolution(512 -> 512, 3x3, 1,1, 1,1)\n",
       "  (28): cudnn.ReLU\n",
       "  (29): cudnn.SpatialConvolution(512 -> 512, 3x3, 1,1, 1,1)\n",
       "  (30): cudnn.ReLU\n",
       "  (31): cudnn.SpatialMaxPooling\n",
       "  (32): nn.View\n",
       "  (33): nn.Linear(25088 -> 4096)\n",
       "  (34): cudnn.ReLU\n",
       "  (35): nn.Dropout(0.500000)\n",
       "  (36): nn.Linear(4096 -> 4096)\n",
       "  (37): cudnn.ReLU\n",
       "  (38): nn.Dropout(0.500000)\n",
       "  (39): nn.Linear(4096 -> 1000)\n",
       "}\n",
       "{\n",
       "  gradInput : CudaTensor - size: 1x3x224x224\n",
       "  modules : \n",
       "    "
      ]
     },
     "execution_count": 29,
     "metadata": {},
     "output_type": "execute_result"
    },
    {
     "data": {
      "text/plain": [
       "{\n",
       "      1 : \n",
       "        cudnn.SpatialConvolution(3 -> 64, 3x3, 1,1, 1,1)\n",
       "        {\n",
       "          padW : 1\n",
       "          nInputPlane : 3\n",
       "          output : CudaTensor - size: 64x224x224\n",
       "          gradInput : CudaTensor - size: 3x224x224\n",
       "          iDesc : cdata<struct cudnnTensorStruct *[1]>: 0x41f780b8\n",
       "          iSize : LongStorage - size: 4\n",
       "          convDesc : cdata<struct cudnnConvolutionStruct *[1]>: 0x41f783e8\n",
       "          output_offset : 3211264\n",
       "          gradBias : CudaTensor - size: 64\n",
       "          algType : cdata<enum 761 [?]>: 0x401520e8\n",
       "          extraBuffer : CudaTensor - empty\n",
       "          extraBufferSizeInBytes : 0\n",
       "          oDescForBias : cdata<struct cudnnTensorStruct *[1]>: 0x41f78d58\n",
       "          oDesc : cdata<struct cudnnTensorStruct *[1]>: 0x41f78a28\n",
       "          groups : 1\n",
       "          dH : 1\n",
       "          dW : 1\n",
       "          nOutputPlane : 64\n",
       "          padH : 1\n",
       "          kH : 3\n",
       "          weight_offset : 1728\n"
      ]
     },
     "execution_count": 29,
     "metadata": {},
     "output_type": "execute_result"
    },
    {
     "data": {
      "text/plain": [
       "          finput : CudaTensor - empty\n",
       "          biasDesc : cdata<struct cudnnTensorStruct *[1]>: 0x41f77a40\n",
       "          input_offset : 150528\n",
       "          weight : CudaTensor - size: 64x3x3x3\n",
       "          train : false\n",
       "          gradWeight : CudaTensor - size: 64x3x3x3\n",
       "          fgradInput : CudaTensor - empty\n",
       "          kW : 3\n",
       "          bias : CudaTensor - size: 64\n",
       "          weightDesc : cdata<struct cudnnFilterStruct *[1]>: 0x40150ff0\n",
       "        }\n",
       "      2 : \n",
       "        cudnn.ReLU\n",
       "        {\n",
       "          inplace : true\n",
       "          mode : CUDNN_ACTIVATION_RELU\n",
       "          train : false\n",
       "          output : CudaTensor - size: 64x224x224\n",
       "          gradInput : CudaTensor - empty\n",
       "          nElem : 3211264\n",
       "          iDesc : cdata<struct cudnnTensorStruct *[1]>: 0x40152d78\n",
       "        }\n",
       "    "
      ]
     },
     "execution_count": 29,
     "metadata": {},
     "output_type": "execute_result"
    },
    {
     "data": {
      "text/plain": [
       "  3 : \n",
       "        cudnn.SpatialConvolution(64 -> 64, 3x3, 1,1, 1,1)\n",
       "        {\n",
       "          padW : 1\n",
       "          nInputPlane : 64\n",
       "          output : CudaTensor - size: 64x224x224\n",
       "          gradInput : CudaTensor - size: 64x224x224\n",
       "          iDesc : cdata<struct cudnnTensorStruct *[1]>: 0x40153c98\n",
       "          iSize : LongStorage - size: 4\n",
       "          convDesc : cdata<struct cudnnConvolutionStruct *[1]>: 0x40153fc8\n",
       "          output_offset : 3211264\n",
       "          gradBias : CudaTensor - size: 64\n",
       "          algType : cdata<enum 761 [?]>: 0x40154c70\n",
       "          extraBuffer : CudaTensor - empty\n",
       "          extraBufferSizeInBytes : 0\n",
       "          oDescForBias : cdata<struct cudnnTensorStruct *[1]>: 0x40154938\n",
       "          oDesc : cdata<struct cudnnTensorStruct *[1]>: 0x40154608\n",
       "          groups : 1\n",
       "          dH : 1\n",
       "          dW : 1\n",
       "          nOutputPlane : 64\n",
       "          padH : 1"
      ]
     },
     "execution_count": 29,
     "metadata": {},
     "output_type": "execute_result"
    },
    {
     "data": {
      "text/plain": [
       "\n",
       "          kH : 3\n",
       "          weight_offset : 36864\n",
       "          finput : CudaTensor - empty\n",
       "          biasDesc : cdata<struct cudnnTensorStruct *[1]>: 0x40153620\n",
       "          input_offset : 3211264\n",
       "          weight : CudaTensor - size: 64x64x3x3\n",
       "          train : false\n",
       "          gradWeight : CudaTensor - size: 64x64x3x3\n",
       "          fgradInput : CudaTensor - empty\n",
       "          kW : 3\n",
       "          bias : CudaTensor - size: 64\n",
       "          weightDesc : cdata<struct cudnnFilterStruct *[1]>: 0x40153258\n",
       "        }\n",
       "      4 : \n",
       "        cudnn.ReLU\n",
       "        {\n",
       "          inplace : true\n",
       "          mode : CUDNN_ACTIVATION_RELU\n",
       "          train : false\n",
       "          output : CudaTensor - size: 64x224x224\n",
       "          gradInput : CudaTensor - empty\n"
      ]
     },
     "execution_count": 29,
     "metadata": {},
     "output_type": "execute_result"
    },
    {
     "data": {
      "text/plain": [
       "          nElem : 3211264\n",
       "          iDesc : cdata<struct cudnnTensorStruct *[1]>: 0x40155900\n",
       "        }\n",
       "      5 : \n",
       "        cudnn.SpatialMaxPooling\n",
       "        {\n",
       "          dH : 2\n",
       "          dW : 2\n",
       "          padH : 0\n",
       "          gradInput : CudaTensor - size: 64x224x224\n",
       "          oDesc : cdata<struct cudnnTensorStruct *[1]>: 0x40156620\n",
       "          iSize : LongStorage - size: 4\n",
       "          iDesc : cdata<struct cudnnTensorStruct *[1]>: 0x401562f0\n",
       "          poolDesc : cdata<struct cudnnPoolingStruct *[1]>: 0x40155de0\n",
       "          mode : CUDNN_POOLING_MAX\n",
       "          train : false\n",
       "          kH : 2\n",
       "          ceil_mode : true\n",
       "          output : CudaTensor - size: 64x112x112\n",
       "          padW : 0\n",
       "          kW : 2\n",
       "        }\n",
       "      6 : \n",
       "        cudnn.SpatialConvolution(64 -> 128, 3x3, 1,1, 1,1)\n",
       "        {\n",
       "          padW : 1\n"
      ]
     },
     "execution_count": 29,
     "metadata": {},
     "output_type": "execute_result"
    },
    {
     "data": {
      "text/plain": [
       "          nInputPlane : 64\n",
       "          output : CudaTensor - size: 128x112x112\n",
       "          gradInput : CudaTensor - size: 64x112x112\n",
       "          iDesc : cdata<struct cudnnTensorStruct *[1]>: 0x400744c0\n",
       "          iSize : LongStorage - size: 4\n",
       "          convDesc : cdata<struct cudnnConvolutionStruct *[1]>: 0x40074a10\n",
       "          output_offset : 1605632\n",
       "          gradBias : CudaTensor - size: 128\n",
       "          algType : cdata<enum 761 [?]>: 0x40159438\n",
       "          extraBuffer : CudaTensor - size: 576\n",
       "          extraBufferSizeInBytes : 2304\n",
       "          oDescForBias : cdata<struct cudnnTensorStruct *[1]>: 0x40159100\n",
       "          oDesc : cdata<struct cudnnTensorStruct *[1]>: 0x40158dd0\n",
       "          groups : 1\n",
       "          dH : 1\n",
       "          dW : 1\n",
       "          nOutputPlane : 128\n",
       "          padH : 1\n",
       "          kH : 3\n",
       "          weight_offset : 73728\n"
      ]
     },
     "execution_count": 29,
     "metadata": {},
     "output_type": "execute_result"
    },
    {
     "data": {
      "text/plain": [
       "          finput : CudaTensor - empty\n",
       "          biasDesc : cdata<struct cudnnTensorStruct *[1]>: 0x401571e8\n",
       "          input_offset : 802816\n",
       "          weight : CudaTensor - size: 128x64x3x3\n",
       "          train : false\n",
       "          gradWeight : CudaTensor - size: 128x64x3x3\n",
       "          fgradInput : CudaTensor - empty\n",
       "          kW : 3\n",
       "          bias : CudaTensor - size: 128\n",
       "          weightDesc : cdata<struct cudnnFilterStruct *[1]>: 0x40156e20\n",
       "        }\n",
       "      7 : \n",
       "        cudnn.ReLU\n",
       "        {\n",
       "          inplace : true\n",
       "          mode : CUDNN_ACTIVATION_RELU\n",
       "          train : false\n",
       "          output : CudaTensor - size: 128x112x112\n",
       "          gradInput : CudaTensor - empty\n",
       "          nElem : 1605632\n",
       "          iDesc : cdata<struct cudnnTensorStruct *[1]>: 0x4015a0c8\n",
       "       "
      ]
     },
     "execution_count": 29,
     "metadata": {},
     "output_type": "execute_result"
    },
    {
     "data": {
      "text/plain": [
       " }\n",
       "      8 : \n",
       "        cudnn.SpatialConvolution(128 -> 128, 3x3, 1,1, 1,1)\n",
       "        {\n",
       "          padW : 1\n",
       "          nInputPlane : 128\n",
       "          output : CudaTensor - size: 128x112x112\n",
       "          gradInput : CudaTensor - size: 128x112x112\n",
       "          iDesc : cdata<struct cudnnTensorStruct *[1]>: 0x4015afe8\n",
       "          iSize : LongStorage - size: 4\n",
       "          convDesc : cdata<struct cudnnConvolutionStruct *[1]>: 0x4015b318\n",
       "          output_offset : 1605632\n",
       "          gradBias : CudaTensor - size: 128\n",
       "          algType : cdata<enum 761 [?]>: 0x4015bfc0\n",
       "          extraBuffer : CudaTensor - size: 1152\n",
       "          extraBufferSizeInBytes : 4608\n",
       "          oDescForBias : cdata<struct cudnnTensorStruct *[1]>: 0x4015bc88\n",
       "          oDesc : cdata<struct cudnnTensorStruct *[1]>: 0x4015b958\n",
       "          groups : 1\n",
       "          dH : 1\n",
       "          dW : 1\n",
       "          nOutputPlane : 128\n",
       "          padH : 1\n",
       "          kH : 3\n",
       "          weight_offset : 147456"
      ]
     },
     "execution_count": 29,
     "metadata": {},
     "output_type": "execute_result"
    },
    {
     "data": {
      "text/plain": [
       "\n",
       "          finput : CudaTensor - empty\n",
       "          biasDesc : cdata<struct cudnnTensorStruct *[1]>: 0x4015a970\n",
       "          input_offset : 1605632\n",
       "          weight : CudaTensor - size: 128x128x3x3\n",
       "          train : false\n",
       "          gradWeight : CudaTensor - size: 128x128x3x3\n",
       "          fgradInput : CudaTensor - empty\n",
       "          kW : 3\n",
       "          bias : CudaTensor - size: 128\n",
       "          weightDesc : cdata<struct cudnnFilterStruct *[1]>: 0x4015a5a8\n",
       "        }\n",
       "      9 : \n",
       "        cudnn.ReLU\n",
       "        {\n",
       "          inplace : true\n",
       "          mode : CUDNN_ACTIVATION_RELU\n",
       "          train : false\n",
       "          output : CudaTensor - size: 128x112x112\n",
       "          gradInput : CudaTensor - empty\n",
       "          nElem : 1605632\n",
       "          iDesc : cdata<struct cudnnTensorStruct *[1]>: 0x4015cc50\n",
       "  "
      ]
     },
     "execution_count": 29,
     "metadata": {},
     "output_type": "execute_result"
    },
    {
     "data": {
      "text/plain": [
       "      }\n",
       "      10 : \n",
       "        cudnn.SpatialMaxPooling\n",
       "        {\n",
       "          dH : 2\n",
       "          dW : 2\n",
       "          padH : 0\n",
       "          gradInput : CudaTensor - size: 128x112x112\n",
       "          oDesc : cdata<struct cudnnTensorStruct *[1]>: 0x4015d970\n",
       "          iSize : LongStorage - size: 4\n",
       "          iDesc : cdata<struct cudnnTensorStruct *[1]>: 0x4015d640\n",
       "          poolDesc : cdata<struct cudnnPoolingStruct *[1]>: 0x4015d130\n",
       "          mode : CUDNN_POOLING_MAX\n",
       "          train : false\n",
       "          kH : 2\n",
       "          ceil_mode : true\n",
       "          output : CudaTensor - size: 128x56x56\n",
       "          padW : 0\n",
       "          kW : 2\n",
       "        }\n",
       "      11 : \n",
       "        cudnn.SpatialConvolution(128 -> 256, 3x3, 1,1, 1,1)\n",
       "        {\n",
       "          padW : 1\n",
       "          nInputPlane : 128\n",
       "    "
      ]
     },
     "execution_count": 29,
     "metadata": {},
     "output_type": "execute_result"
    },
    {
     "data": {
      "text/plain": [
       "      output : CudaTensor - size: 256x56x56\n",
       "          gradInput : CudaTensor - size: 128x56x56\n",
       "          iDesc : cdata<struct cudnnTensorStruct *[1]>: 0x4015ebb0\n",
       "          iSize : LongStorage - size: 4\n",
       "          convDesc : cdata<struct cudnnConvolutionStruct *[1]>: 0x4015eee0\n",
       "          output_offset : 802816\n",
       "          gradBias : CudaTensor - size: 256\n",
       "          algType : cdata<enum 761 [?]>: 0x4015fb88\n",
       "          extraBuffer : CudaTensor - size: 1152\n",
       "          extraBufferSizeInBytes : 4608\n",
       "          oDescForBias : cdata<struct cudnnTensorStruct *[1]>: 0x4015f850\n",
       "          oDesc : cdata<struct cudnnTensorStruct *[1]>: 0x4015f520\n",
       "          groups : 1\n",
       "          dH : 1\n",
       "          dW : 1\n",
       "          nOutputPlane : 256\n",
       "          padH : 1\n",
       "          kH : 3\n",
       "          weight_offset : 294912\n",
       "          finput : CudaTensor - empty\n",
       "          biasDesc : cdata<struct cudnnTensorStruct *[1]>: 0x4015e538\n",
       "     "
      ]
     },
     "execution_count": 29,
     "metadata": {},
     "output_type": "execute_result"
    },
    {
     "data": {
      "text/plain": [
       "     input_offset : 401408\n",
       "          weight : CudaTensor - size: 256x128x3x3\n",
       "          train : false\n",
       "          gradWeight : CudaTensor - size: 256x128x3x3\n",
       "          fgradInput : CudaTensor - empty\n",
       "          kW : 3\n",
       "          bias : CudaTensor - size: 256\n",
       "          weightDesc : cdata<struct cudnnFilterStruct *[1]>: 0x4015e170\n",
       "        }\n",
       "      12 : \n",
       "        cudnn.ReLU\n",
       "        {\n",
       "          inplace : true\n",
       "          mode : CUDNN_ACTIVATION_RELU\n",
       "          train : false\n",
       "          output : CudaTensor - size: 256x56x56\n",
       "          gradInput : CudaTensor - empty\n",
       "          nElem : 802816\n",
       "          iDesc : cdata<struct cudnnTensorStruct *[1]>: 0x40160818\n",
       "        }\n",
       "      13 : \n",
       "        cudnn.SpatialConvolution(256 -> 256, 3x3, 1,1, 1,1)\n",
       "        {\n",
       "          padW : 1\n",
       "          nInputPlane : 256\n",
       "          output : CudaTensor - size: 256x56x56\n",
       "          gradInput : CudaTensor - size: 256x56x56\n",
       "          iDesc : cdata<struct cudnnTensorStruct *[1]>: 0x40161738\n"
      ]
     },
     "execution_count": 29,
     "metadata": {},
     "output_type": "execute_result"
    },
    {
     "data": {
      "text/plain": [
       "          iSize : LongStorage - size: 4\n",
       "          convDesc : cdata<struct cudnnConvolutionStruct *[1]>: 0x40161a68\n",
       "          output_offset : 802816\n",
       "          gradBias : CudaTensor - size: 256\n",
       "          algType : cdata<enum 761 [?]>: 0x40162710\n",
       "          extraBuffer : CudaTensor - size: 2304\n",
       "          extraBufferSizeInBytes : 9216\n",
       "          oDescForBias : cdata<struct cudnnTensorStruct *[1]>: 0x401623d8\n",
       "          oDesc : cdata<struct cudnnTensorStruct *[1]>: 0x401620a8\n",
       "          groups : 1\n",
       "          dH : 1\n",
       "          dW : 1\n",
       "          nOutputPlane : 256\n",
       "          padH : 1\n",
       "          kH : 3\n",
       "          weight_offset : 589824\n",
       "          finput : CudaTensor - empty\n",
       "          biasDesc : cdata<struct cudnnTensorStruct *[1]>: 0x401610c0\n",
       "          input_offset : 802816\n",
       "          weight : CudaTensor - size: 256x256x3x3\n",
       "          train : false\n",
       "        "
      ]
     },
     "execution_count": 29,
     "metadata": {},
     "output_type": "execute_result"
    },
    {
     "data": {
      "text/plain": [
       "  gradWeight : CudaTensor - size: 256x256x3x3\n",
       "          fgradInput : CudaTensor - empty\n",
       "          kW : 3\n",
       "          bias : CudaTensor - size: 256\n",
       "          weightDesc : cdata<struct cudnnFilterStruct *[1]>: 0x40160cf8\n",
       "        }\n",
       "      14 : \n",
       "        cudnn.ReLU\n",
       "        {\n",
       "          inplace : true\n",
       "          mode : CUDNN_ACTIVATION_RELU\n",
       "          train : false\n",
       "          output : CudaTensor - size: 256x56x56\n",
       "          gradInput : CudaTensor - empty\n",
       "          nElem : 802816\n",
       "          iDesc : cdata<struct cudnnTensorStruct *[1]>: 0x401633a0\n",
       "        }\n",
       "      15 : \n",
       "        cudnn.SpatialConvolution(256 -> 256, 3x3, 1,1, 1,1)\n",
       "        {\n",
       "          padW : 1\n",
       "          nInputPlane : 256\n",
       "          output : CudaTensor - size: 256x56x56\n",
       "          gradInput : CudaTensor - size: 256x56x56\n",
       "          iDesc : cdata<struct cudnnTensorStruct *[1]>: 0x40164250\n"
      ]
     },
     "execution_count": 29,
     "metadata": {},
     "output_type": "execute_result"
    },
    {
     "data": {
      "text/plain": [
       "          iSize : LongStorage - size: 4\n",
       "          convDesc : cdata<struct cudnnConvolutionStruct *[1]>: 0x40164580\n",
       "          output_offset : 802816\n",
       "          gradBias : CudaTensor - size: 256\n",
       "          algType : cdata<enum 761 [?]>: 0x40165228\n",
       "          extraBuffer : CudaTensor - size: 2304\n",
       "          extraBufferSizeInBytes : 9216\n",
       "          oDescForBias : cdata<struct cudnnTensorStruct *[1]>: 0x40164ef0\n",
       "          oDesc : cdata<struct cudnnTensorStruct *[1]>: 0x40164bc0\n",
       "          groups : 1\n",
       "          dH : 1\n",
       "          dW : 1\n",
       "          nOutputPlane : 256\n",
       "          padH : 1\n",
       "          kH : 3\n",
       "          weight_offset : 589824\n",
       "          finput : CudaTensor - empty\n",
       "          biasDesc : cdata<struct cudnnTensorStruct *[1]>: 0x40163c48\n",
       "          input_offset : 802816\n",
       "          weight : CudaTensor - size: 256x256x3x3\n",
       "          train : false\n",
       "     "
      ]
     },
     "execution_count": 29,
     "metadata": {},
     "output_type": "execute_result"
    },
    {
     "data": {
      "text/plain": [
       "     gradWeight : CudaTensor - size: 256x256x3x3\n",
       "          fgradInput : CudaTensor - empty\n",
       "          kW : 3\n",
       "          bias : CudaTensor - size: 256\n",
       "          weightDesc : cdata<struct cudnnFilterStruct *[1]>: 0x40163880\n",
       "        }\n",
       "      16 : \n",
       "        cudnn.ReLU\n",
       "        {\n",
       "          inplace : true\n",
       "          mode : CUDNN_ACTIVATION_RELU\n",
       "          train : false\n",
       "          output : CudaTensor - size: 256x56x56\n",
       "          gradInput : CudaTensor - empty\n",
       "          nElem : 802816\n",
       "          iDesc : cdata<struct cudnnTensorStruct *[1]>: 0x40165eb8\n",
       "        }\n",
       "      17 : \n",
       "        cudnn.SpatialMaxPooling\n",
       "        {\n",
       "          dH : 2\n",
       "          dW : 2\n",
       "          padH : 0\n",
       "          gradInput : CudaTensor - size: 256x56x56\n",
       "          oDesc : cdata<struct cudnnTensorStruct *[1]>: 0x40166bd8\n"
      ]
     },
     "execution_count": 29,
     "metadata": {},
     "output_type": "execute_result"
    },
    {
     "data": {
      "text/plain": [
       "          iSize : LongStorage - size: 4\n",
       "          iDesc : cdata<struct cudnnTensorStruct *[1]>: 0x401668a8\n",
       "          poolDesc : cdata<struct cudnnPoolingStruct *[1]>: 0x40166398\n",
       "          mode : CUDNN_POOLING_MAX\n",
       "          train : false\n",
       "          kH : 2\n",
       "          ceil_mode : true\n",
       "          output : CudaTensor - size: 256x28x28\n",
       "          padW : 0\n",
       "          kW : 2\n",
       "        }\n",
       "      18 : \n",
       "        cudnn.SpatialConvolution(256 -> 512, 3x3, 1,1, 1,1)\n",
       "        {\n",
       "          padW : 1\n",
       "          nInputPlane : 256\n",
       "          output : CudaTensor - size: 512x28x28\n",
       "          gradInput : CudaTensor - size: 256x28x28\n",
       "          iDesc : cdata<struct cudnnTensorStruct *[1]>: 0x40167e18\n",
       "          iSize : LongStorage - size: 4\n",
       "          convDesc : cdata<struct cudnnConvolutionStruct *[1]>: 0x40168148\n",
       "          output_offset : 401408\n",
       "          gradBias : CudaTensor - size: 512\n",
       "          algType : cdata<enum 761 [?]>: 0x40168df0\n",
       "          extraBuffer : CudaTensor - size: 2304\n",
       "          extraBufferSizeInBytes : 9216\n"
      ]
     },
     "execution_count": 29,
     "metadata": {},
     "output_type": "execute_result"
    },
    {
     "data": {
      "text/plain": [
       "          oDescForBias : cdata<struct cudnnTensorStruct *[1]>: 0x40168ab8\n",
       "          oDesc : cdata<struct cudnnTensorStruct *[1]>: 0x40168788\n",
       "          groups : 1\n",
       "          dH : 1\n",
       "          dW : 1\n",
       "          nOutputPlane : 512\n",
       "          padH : 1\n",
       "          kH : 3\n",
       "          weight_offset : 1179648\n",
       "          finput : CudaTensor - empty\n",
       "          biasDesc : cdata<struct cudnnTensorStruct *[1]>: 0x401677a0\n",
       "          input_offset : 200704\n",
       "          weight : CudaTensor - size: 512x256x3x3\n",
       "          train : false\n",
       "          gradWeight : CudaTensor - size: 512x256x3x3\n",
       "          fgradInput : CudaTensor - empty\n",
       "          kW : 3\n",
       "          bias : CudaTensor - size: 512\n",
       "          weightDesc : cdata<struct cudnnFilterStruct *[1]>: 0x401673d8\n",
       "        }\n",
       "      19 : \n",
       "        cudnn.ReLU\n",
       "        {\n"
      ]
     },
     "execution_count": 29,
     "metadata": {},
     "output_type": "execute_result"
    },
    {
     "data": {
      "text/plain": [
       "          inplace : true\n",
       "          mode : CUDNN_ACTIVATION_RELU\n",
       "          train : false\n",
       "          output : CudaTensor - size: 512x28x28\n",
       "          gradInput : CudaTensor - empty\n",
       "          nElem : 401408\n",
       "          iDesc : cdata<struct cudnnTensorStruct *[1]>: 0x40169a80\n",
       "        }\n",
       "      20 : \n",
       "        cudnn.SpatialConvolution(512 -> 512, 3x3, 1,1, 1,1)\n",
       "        {\n",
       "          padW : 1\n",
       "          nInputPlane : 512\n",
       "          output : CudaTensor - size: 512x28x28\n",
       "          gradInput : CudaTensor - size: 512x28x28\n",
       "          iDesc : cdata<struct cudnnTensorStruct *[1]>: 0x4016a9a0\n",
       "          iSize : LongStorage - size: 4\n",
       "          convDesc : cdata<struct cudnnConvolutionStruct *[1]>: 0x4016acd0\n",
       "          output_offset : 401408\n",
       "          gradBias : CudaTensor - size: 512\n",
       "          algType : cdata<enum 761 [?]>: 0x4016b978\n",
       "          extraBuffer : CudaTensor - size: 4608\n",
       "          extraBufferSizeInBytes : 18432\n"
      ]
     },
     "execution_count": 29,
     "metadata": {},
     "output_type": "execute_result"
    },
    {
     "data": {
      "text/plain": [
       "          oDescForBias : cdata<struct cudnnTensorStruct *[1]>: 0x4016b640\n",
       "          oDesc : cdata<struct cudnnTensorStruct *[1]>: 0x4016b310\n",
       "          groups : 1\n",
       "          dH : 1\n",
       "    "
      ]
     },
     "execution_count": 29,
     "metadata": {},
     "output_type": "execute_result"
    },
    {
     "data": {
      "text/plain": [
       "      dW : 1\n",
       "          nOutputPlane : 512\n",
       "          padH : 1\n",
       "          kH : 3\n",
       "          weight_offset : 2359296\n",
       "          finput : CudaTensor - empty\n",
       "          biasDesc : cdata<struct cudnnTensorStruct *[1]>: 0x4016a328\n",
       "          input_offset : 401408\n",
       "          weight : CudaTensor - size: 512x512x3x3\n",
       "          train : false\n",
       "          gradWeight : CudaTensor - size: 512x512x3x3\n",
       "          fgradInput : CudaTensor - empty\n",
       "          kW : 3\n",
       "          bias : CudaTensor - size: 512\n",
       "          weightDesc : cdata<struct cudnnFilterStruct *[1]>: 0x40169f60\n",
       "        }\n",
       "      21 : \n",
       "        cudnn.ReLU\n",
       "        {\n",
       "          inplace : true\n",
       "          mode : CUDNN_ACTIVATION_RELU\n",
       "          train : false\n",
       "          output : CudaTensor - size: 512x28x28\n",
       "          gradInput : CudaTensor - empty\n"
      ]
     },
     "execution_count": 29,
     "metadata": {},
     "output_type": "execute_result"
    },
    {
     "data": {
      "text/plain": [
       "          nElem : 401408\n",
       "          iDesc : cdata<struct cudnnTensorStruct *[1]>: 0x4016c608\n",
       "        }\n",
       "      22 : \n",
       "        cudnn.SpatialConvolution(512 -> 512, 3x3, 1,1, 1,1)\n",
       "        {\n",
       "          padW : 1\n",
       "          nInputPlane : 512\n",
       "          output : CudaTensor - size: 512x28x28\n",
       "          gradInput : CudaTensor - size: 512x28x28\n",
       "          iDesc : cdata<struct cudnnTensorStruct *[1]>: 0x4016d4b8\n",
       "          iSize : LongStorage - size: 4\n",
       "          convDesc : cdata<struct cudnnConvolutionStruct *[1]>: 0x4016d7e8\n",
       "          output_offset : 401408\n",
       "          gradBias : CudaTensor - size: 512\n",
       "          algType : cdata<enum 761 [?]>: 0x4016e490\n",
       "          extraBuffer : CudaTensor - size: 4608\n",
       "          extraBufferSizeInBytes : 18432\n",
       "          oDescForBias : cdata<struct cudnnTensorStruct *[1]>: 0x4016e158\n",
       "          oDesc : cdata<struct cudnnTensorStruct *[1]>: 0x4016de28\n",
       "          groups : 1\n",
       "          dH : 1\n",
       "          dW : 1\n",
       "          nOutputPlane : 512\n",
       "          padH : 1\n",
       "          kH : 3\n",
       "          weight_offset : 2359296\n",
       "          finput : CudaTensor - empty\n",
       "          biasDesc : cdata<struct cudnnTensorStruct *[1]>: 0x4016ceb0\n",
       "          input_offset : 401408\n",
       "          weight : CudaTensor - size: 512x512x3x3\n",
       "      "
      ]
     },
     "execution_count": 29,
     "metadata": {},
     "output_type": "execute_result"
    },
    {
     "data": {
      "text/plain": [
       "    train : false\n",
       "          gradWeight : CudaTensor - size: 512x512x3x3\n",
       "          fgradInput : CudaTensor - empty\n",
       "          kW : 3\n",
       "          bias : CudaTensor - size: 512\n",
       "          weightDesc : cdata<struct cudnnFilterStruct *[1]>: 0x4016cae8\n",
       "        }\n",
       "      23 : \n",
       "        cudnn.ReLU\n",
       "        {\n",
       "          inplace : true\n",
       "          mode : CUDNN_ACTIVATION_RELU\n",
       "          train : false\n",
       "          output : CudaTensor - size: 512x28x28\n",
       "          gradInput : CudaTensor - empty\n",
       "          nElem : 401408\n",
       "          iDesc : cdata<struct cudnnTensorStruct *[1]>: 0x4016f120\n",
       "        }\n",
       "      24 : \n",
       "        cudnn.SpatialMaxPooling\n",
       "        {\n",
       "          dH : 2\n",
       "          dW : 2\n",
       "          padH : 0\n",
       "          gradInput : CudaTensor - size: 512x28x28\n",
       "          oDesc : cdata<struct cudnnTensorStruct *[1]>: 0x4016fe40\n",
       "          iSize : LongStorage - size: 4\n",
       "          iDesc : cdata<struct cudnnTensorStruct *[1]>: 0x4016fb10\n",
       "          poolDesc : cdata<struct cudnnPoolingStruct *[1]>: 0x4016f600\n",
       "          mode : CUDNN_POOLING_MAX\n"
      ]
     },
     "execution_count": 29,
     "metadata": {},
     "output_type": "execute_result"
    },
    {
     "data": {
      "text/plain": [
       "          train : false\n",
       "          kH : 2\n",
       "          ceil_mode : true\n",
       "          output : CudaTensor - size: 512x14x14\n",
       "          padW : 0\n",
       "          kW : 2\n",
       "        }\n",
       "      25 : \n",
       "        cudnn.SpatialConvolution(512 -> 512, 3x3, 1,1, 1,1)\n",
       "        {\n",
       "          padW : 1\n",
       "          nInputPlane : 512\n",
       "          output : CudaTensor - size: 512x14x14\n",
       "          gradInput : CudaTensor - size: 512x14x14\n",
       "          iDesc : cdata<struct cudnnTensorStruct *[1]>: 0x40171080\n",
       "          iSize : LongStorage - size: 4\n",
       "          convDesc : cdata<struct cudnnConvolutionStruct *[1]>: 0x401713b0\n",
       "          output_offset : 100352\n",
       "          gradBias : CudaTensor - size: 512\n",
       "          algType : cdata<enum 761 [?]>: 0x407580a0\n",
       "          extraBuffer : CudaTensor - size: 4608\n",
       "          extraBufferSizeInBytes : 18432\n",
       "          oDescForBias : cdata<struct cudnnTensorStruct *[1]>: 0x40171d20\n",
       "          oDesc : cdata<struct cudnnTensorStruct *[1]>: 0x401719f0\n",
       "          groups : 1\n",
       "          dH : 1\n",
       "     "
      ]
     },
     "execution_count": 29,
     "metadata": {},
     "output_type": "execute_result"
    },
    {
     "data": {
      "text/plain": [
       "     dW : 1\n",
       "          nOutputPlane : 512\n",
       "          padH : 1\n",
       "          kH : 3\n",
       "          weight_offset : 2359296\n",
       "          finput : CudaTensor - empty\n",
       "          biasDesc : cdata<struct cudnnTensorStruct *[1]>: 0x40170a08\n",
       "          input_offset : 100352\n",
       "          weight : CudaTensor - size: 512x512x3x3\n",
       "          train : false\n",
       "          gradWeight : CudaTensor - size: 512x512x3x3\n",
       "          fgradInput : CudaTensor - empty\n",
       "          kW : 3\n",
       "          bias : CudaTensor - size: 512\n",
       "          weightDesc : cdata<struct cudnnFilterStruct *[1]>: 0x40170640\n",
       "        }\n",
       "      26 : \n",
       "        cudnn.ReLU\n",
       "        {\n",
       "          inplace : true\n",
       "          mode : CUDNN_ACTIVATION_RELU\n",
       "          train : false\n",
       "          output : CudaTensor - size: 512x14x14\n",
       "          gradInput : CudaTensor - empty\n",
       "          nElem : 100352\n",
       "          iDesc : cdata<struct cudnnTensorStruct *[1]>: 0x40758d30\n",
       "        }\n",
       "      27 : \n"
      ]
     },
     "execution_count": 29,
     "metadata": {},
     "output_type": "execute_result"
    },
    {
     "data": {
      "text/plain": [
       "        cudnn.SpatialConvolution(512 -> 512, 3x3, 1,1, 1,1)\n",
       "        {\n",
       "          padW : 1\n",
       "          nInputPlane : 512\n",
       "          output : CudaTensor - size: 512x14x14\n",
       "          gradInput : CudaTensor - size: 512x14x14\n",
       "          iDesc : cdata<struct cudnnTensorStruct *[1]>: 0x40759be0\n",
       "          iSize : LongStorage - size: 4\n",
       "          convDesc : cdata<struct cudnnConvolutionStruct *[1]>: 0x40759f10\n",
       "          output_offset : 100352\n",
       "          gradBias : CudaTensor - size: 512\n",
       "          algType : cdata<enum 761 [?]>: 0x4075abb8\n",
       "          extraBuffer : CudaTensor - size: 4608\n",
       "          extraBufferSizeInBytes : 18432\n",
       "          oDescForBias : cdata<struct cudnnTensorStruct *[1]>: 0x4075a880\n",
       "          oDesc : cdata<struct cudnnTensorStruct *[1]>: 0x4075a550\n",
       "          groups : 1\n",
       "          dH : 1\n",
       "          dW : 1\n",
       "          nOutputPlane : 512\n",
       "          padH : 1\n",
       "          kH : 3\n",
       "          weight_offset : 2359296\n",
       "          finput : CudaTensor - empty\n",
       "          biasDesc : cdata<struct cudnnTensorStruct *[1]>: 0x407595d8\n",
       "          input_offset : 100352\n"
      ]
     },
     "execution_count": 29,
     "metadata": {},
     "output_type": "execute_result"
    },
    {
     "data": {
      "text/plain": [
       "          weight : CudaTensor - size: 512x512x3x3\n",
       "          train : false\n",
       "          gradWeight : CudaTensor - size: 512x512x3x3\n",
       "          fgradInput : CudaTensor - empty\n",
       "          kW : 3\n",
       "          bias : CudaTensor - size: 512\n",
       "          weightDesc : cdata<struct cudnnFilterStruct *[1]>: 0x40759210\n",
       "        }\n",
       "      28 : \n",
       "        cudnn.ReLU\n",
       "        {\n",
       "          inplace : true\n",
       "          mode : CUDNN_ACTIVATION_RELU\n",
       "          train : false\n",
       "          output : CudaTensor - size: 512x14x14\n",
       "          gradInput : CudaTensor - empty\n",
       "          nElem : 100352\n",
       "          iDesc : cdata<struct cudnnTensorStruct *[1]>: 0x4075b848\n",
       "        }\n",
       "      29 : \n",
       "        cudnn.SpatialConvolution(512 -> 512, 3x3, 1,1, 1,1)\n",
       "        {\n",
       "          padW : 1\n",
       "          nInputPlane : 512\n",
       "          output : CudaTensor - size: 512x14x14\n",
       "          gradInput : CudaTensor - size: 512x14x14\n",
       "          iDesc : cdata<struct cudnnTensorStruct *[1]>: 0x4075c6f8\n"
      ]
     },
     "execution_count": 29,
     "metadata": {},
     "output_type": "execute_result"
    },
    {
     "data": {
      "text/plain": [
       "          iSize : LongStorage - size: 4\n",
       "          convDesc : cdata<struct cudnnConvolutionStruct *[1]>: 0x4075ca28\n",
       "          output_offset : 100352\n",
       "          gradBias : CudaTensor - size: 512\n",
       "          algType : cdata<enum 761 [?]>: 0x4075d6d0\n",
       "          extraBuffer : CudaTensor - size: 4608\n",
       "          extraBufferSizeInBytes : 18432\n",
       "          oDescForBias : cdata<struct cudnnTensorStruct *[1]>: 0x4075d398\n",
       "          oDesc : cdata<struct cudnnTensorStruct *[1]>: 0x4075d068\n",
       "          groups : 1\n",
       "          dH : 1\n",
       "          dW : 1\n",
       "          nOutputPlane : 512\n",
       "          padH : 1\n",
       "          kH : 3\n",
       "          weight_offset : 2359296\n",
       "          finput : CudaTensor - empty\n",
       "          biasDesc : cdata<struct cudnnTensorStruct *[1]>: 0x4075c0f0\n",
       "          input_offset : 100352\n",
       "          weight : CudaTensor - size: 512x512x3x3\n",
       "          train : false\n",
       "          gradWeight : CudaTensor - size: 512x512x3x3\n",
       "          fgradInput : CudaTensor - empty\n",
       "          kW : 3\n",
       "          bias : CudaTensor - size: 512\n"
      ]
     },
     "execution_count": 29,
     "metadata": {},
     "output_type": "execute_result"
    },
    {
     "data": {
      "text/plain": [
       "          weightDesc : cdata<struct cudnnFilterStruct *[1]>: 0x4075bd28\n",
       "        }\n",
       "      30 : \n",
       "        cudnn.ReLU\n",
       "        {\n",
       "          inplace : true\n",
       "          mode : CUDNN_ACTIVATION_RELU\n",
       "          train : false\n",
       "          output : CudaTensor - size: 512x14x14\n",
       "          gradInput : CudaTensor - empty\n",
       "          nElem : 100352\n",
       "          iDesc : cdata<struct cudnnTensorStruct *[1]>: 0x4075e360\n",
       "        }\n",
       "      31 : \n",
       "        cudnn.SpatialMaxPooling\n",
       "        {\n",
       "          dH : 2\n",
       "          dW : 2\n",
       "          padH : 0\n",
       "          gradInput : CudaTensor - size: 512x14x14\n",
       "          oDesc : cdata<struct cudnnTensorStruct *[1]>: 0x4075f080\n",
       "          iSize : LongStorage - size: 4\n",
       "          iDesc : cdata<struct cudnnTensorStruct *[1]>: 0x4075ed50\n",
       "          poolDesc : cdata<struct cudnnPoolingStruct *[1]>: 0x4075e840\n",
       "          mode : CUDNN_POOLING_MAX\n",
       "          train : false\n",
       "          kH : 2\n",
       "          ceil_mode : true\n",
       "          output : CudaTensor - size: 512x7x7\n",
       "          padW : 0\n",
       "          kW : 2\n",
       "        }\n",
       "      32 : \n",
       "        nn.View\n",
       "      "
      ]
     },
     "execution_count": 29,
     "metadata": {},
     "output_type": "execute_result"
    },
    {
     "data": {
      "text/plain": [
       "  {\n",
       "          train : false\n",
       "          output : CudaTensor - size: 25088\n",
       "          numInputDims : 3\n",
       "          size : LongStorage - size: 1\n",
       "          numElements : 1\n",
       "        }\n",
       "      33 : \n",
       "        nn.Linear(25088 -> 4096)\n",
       "        {\n",
       "          gradBias : CudaTensor - size: 4096\n",
       "          weight : CudaTensor - size: 4096x25088\n",
       "          train : false\n",
       "          bias : CudaTensor - size: 4096\n",
       "          gradInput : CudaTensor - empty\n",
       "          gradWeight : CudaTensor - size: 4096x25088\n",
       "          output : CudaTensor - size: 4096\n",
       "        }\n",
       "      34 : \n",
       "        cudnn.ReLU\n",
       "        {\n",
       "          inplace : true\n",
       "          mode : CUDNN_ACTIVATION_RELU\n",
       "          train : false\n",
       "          output : CudaTensor - size: 4096\n",
       "          gradInput : CudaTensor - empty\n",
       "          nElem : 4096\n",
       "          iDesc : cdata<struct cudnnTensorStruct *[1]>: 0x4075fb88\n",
       "        }\n",
       "     "
      ]
     },
     "execution_count": 29,
     "metadata": {},
     "output_type": "execute_result"
    },
    {
     "data": {
      "text/plain": [
       " 35 : \n",
       "        nn.Dropout(0.500000)\n",
       "        {\n",
       "          v2 : true\n",
       "          noise : CudaTensor - empty\n",
       "          train : false\n",
       "          p : 0.5\n",
       "          gradInput : CudaTensor - empty\n",
       "          output : CudaTensor - size: 4096\n",
       "        }\n",
       "      36 : \n",
       "        nn.Linear(4096 -> 4096)\n",
       "        {\n",
       "          gradBias : CudaTensor - size: 4096\n",
       "          weight : CudaTensor - size: 4096x4096\n",
       "          train : false\n",
       "          bias : CudaTensor - size: 4096\n",
       "          gradInput : CudaTensor - empty\n",
       "          gradWeight : CudaTensor - size: 4096x4096\n",
       "          output : CudaTensor - size: 4096\n",
       "        }\n",
       "      37 : \n",
       "        cudnn.ReLU\n",
       "        {\n",
       "          inplace : true\n",
       "          mode : CUDNN_ACTIVATION_RELU\n",
       "          train : false\n",
       "          output : CudaTensor - size: 4096\n",
       "          gradInput : CudaTensor - empty\n"
      ]
     },
     "execution_count": 29,
     "metadata": {},
     "output_type": "execute_result"
    },
    {
     "data": {
      "text/plain": [
       "          nElem : 4096\n",
       "          iDesc : cdata<struct cudnnTensorStruct *[1]>: 0x407601e8\n",
       "        }\n",
       "      38 : \n",
       "        nn.Dropout(0.500000)\n",
       "        {\n",
       "          v2 : true\n",
       "          noise : CudaTensor - empty\n",
       "          train : false\n",
       "          p : 0.5\n",
       "          gradInput : CudaTensor - empty\n",
       "          output : CudaTensor - size: 4096\n",
       "        }\n",
       "      39 : \n",
       "        nn.Linear(4096 -> 1000)\n",
       "        {\n",
       "          gradBias : CudaTensor - size: 1000\n",
       "          weight : CudaTensor - size: 1000x4096\n",
       "          train : false\n",
       "          bias : CudaTensor - size: 1000\n",
       "          gradInput : CudaTensor - empty\n",
       "          gradWeight : CudaTensor - size: 1000x4096\n",
       "          output : CudaTensor - size: 1000\n",
       "        }\n",
       "    }\n",
       "  train : false\n",
       "  output : CudaTensor - size: 1000\n",
       "}\n"
      ]
     },
     "execution_count": 29,
     "metadata": {},
     "output_type": "execute_result"
    }
   ],
   "source": [
    "print(net)"
   ]
  },
  {
   "cell_type": "code",
   "execution_count": 34,
   "metadata": {
    "collapsed": false
   },
   "outputs": [],
   "source": [
    "function Find_diff_by_drop1( output_org )\n",
    "    local topN_index = {}\n",
    "    local n = 512\n",
    "    for i=1, n do\n",
    "        topN_index[i] = { idx=0, diff=nil }\n",
    "    end\n",
    "\n",
    "    for i=1, net:get(29).output:size(1) do\n",
    "        local incomplete_fm = net:get(29).output:clone()\n",
    "        incomplete_fm[i]:zero()\n",
    "        local label_prob = {}\n",
    "        label_prob = classifier:forward(incomplete_fm):view(-1):float()\n",
    "        --local diff = output_org - NormalizedMax( sorted_prob )\n",
    "        local diff = output_org - label_prob[true_label]\n",
    "        --print( i.. '  '..diff )\n",
    "\n",
    "        if topN_index[n].diff == nil then \n",
    "            topN_index[n].diff = diff\n",
    "            topN_index[n].idx = i\n",
    "\n",
    "            local idx = n-1\n",
    "            while idx>=1 and topN_index[idx].diff == nil do\n",
    "                topN_index[idx].diff = topN_index[idx+1].diff\n",
    "                topN_index[idx].idx = topN_index[idx+1].idx\n",
    "                topN_index[idx+1].diff = nil\n",
    "                idx = idx - 1\n",
    "            end\n",
    "        \n",
    "            if i==512 then\n",
    "                for j=1,n-1 do \n",
    "                    for k=n,j+1,-1 do\n",
    "                        -- print(k ..' '.. j )\n",
    "                        if topN_index[k].diff > topN_index[k-1].diff then  \n",
    "                            temp_diff = topN_index[k].diff\n",
    "                            temp_idx = topN_index[k].idx\n",
    "                            topN_index[k].diff = topN_index[k-1].diff\n",
    "                            topN_index[k].idx = topN_index[k-1].idx\n",
    "                            topN_index[k-1].diff = temp_diff\n",
    "                            topN_index[k-1].idx = temp_idx\n",
    "                        end\n",
    "                    end\n",
    "                end\n",
    "            end\n",
    "        else\n",
    "            local temp_diff = nil\n",
    "            local temp_idx = 0\n",
    "            if n>1 then\n",
    "                for j=1,n-1 do \n",
    "                    for k=n,j+1,-1 do\n",
    "                        -- print(k ..' '.. j )\n",
    "                        if topN_index[k].diff > topN_index[k-1].diff then  \n",
    "                            temp_diff = topN_index[k].diff\n",
    "                            temp_idx = topN_index[k].idx\n",
    "                            topN_index[k].diff = topN_index[k-1].diff\n",
    "                            topN_index[k].idx = topN_index[k-1].idx\n",
    "                            topN_index[k-1].diff = temp_diff\n",
    "                            topN_index[k-1].idx = temp_idx\n",
    "                        end\n",
    "                    end\n",
    "                end\n",
    "            end\n",
    "\n",
    "            if topN_index[n].diff < diff then\n",
    "                topN_index[n].diff = diff\n",
    "                topN_index[n].idx = i\n",
    "            end\n",
    "        end\n",
    "    end\n",
    "--     for i=1,n do\n",
    "--         print( 'Top'.. i ..' drop down : ' .. topN_index[i].idx .. ' Diff: ' .. topN_index[i].diff) \n",
    "--     end\n",
    "    return topN_index\n",
    "end\n",
    "\n",
    "function Insertion( topN_index )\n",
    "    local classification_curve = torch.Tensor(512)\n",
    "    \n",
    "    for top_n=1, 512 do\n",
    "        local incomplete_fm = net:get(29).output:clone()\n",
    "        for i=1,net:get(29).output:size(1) do\n",
    "            local drop = true\n",
    "            for j=1,top_n do\n",
    "                if i == topN_index[j].idx then\n",
    "                    drop = false\n",
    "                end  \n",
    "            end\n",
    "\n",
    "            if drop == true then\n",
    "                --print(i)\n",
    "                incomplete_fm[i]:zero()\n",
    "            end\n",
    "        end\n",
    "\n",
    "        local sorted_prob = {}\n",
    "        local classess = {}\n",
    "        sorted_prob, classes = classifier:forward(incomplete_fm):view(-1):float():sort(true)\n",
    "        --output_org, average = NormalizedMax( sorted_prob )\n",
    "        --local ratio_of_mean_error = (output_org - average)/average\n",
    "\n",
    "--         for i=1,3 do\n",
    "--             print('Top '..tostring(top_n)..' feature map classification: ', synset_words[classes[i]] .. ' ' .. sorted_prob[i] )\n",
    "--         end\n",
    "        \n",
    "        --print(classes[1])\n",
    "        if true_label == classes[1] then\n",
    "            classification_curve[top_n]= sorted_prob[1] \n",
    "        else\n",
    "            classification_curve[top_n] = 0\n",
    "        end\n",
    "    end\n",
    "    \n",
    "    return classification_curve\n",
    "end\n",
    "\n",
    "function Dropout( topN_index )\n",
    "    local classification_curve = torch.Tensor(512)\n",
    "    \n",
    "    for top_n=1, 512 do\n",
    "        local incomplete_fm = net:get(29).output:clone()\n",
    "        for i=1,net:get(29).output:size(1) do\n",
    "            local drop = false\n",
    "            for j=1,top_n do\n",
    "                if i == topN_index[j].idx then\n",
    "                    drop = true\n",
    "                end  \n",
    "            end\n",
    "\n",
    "            if drop == true then\n",
    "                --print(i)\n",
    "                --print('Drop neuron :'.. i)\n",
    "                incomplete_fm[i]:zero()\n",
    "            end\n",
    "        end\n",
    "\n",
    "        local sorted_prob = {}\n",
    "        local classess = {}\n",
    "        sorted_prob, classes = classifier:forward(incomplete_fm):view(-1):float():sort(true)\n",
    "        --output_org, average = NormalizedMax( sorted_prob )\n",
    "        --local ratio_of_mean_error = (output_org - average)/average\n",
    "\n",
    "        --print('Top '..tostring(top_n)..' feature map classification: ', synset_words[classes[1]] .. ' ' .. sorted_prob[1] )\n",
    "\n",
    "        --print(classes[1])\n",
    "        if true_label == classes[1] then\n",
    "            classification_curve[top_n]= sorted_prob[1] \n",
    "        else\n",
    "            classification_curve[top_n] = 0\n",
    "        end\n",
    "    end\n",
    "    \n",
    "    return classification_curve\n",
    "end"
   ]
  },
  {
   "cell_type": "code",
   "execution_count": 35,
   "metadata": {
    "collapsed": true
   },
   "outputs": [
    {
     "data": {
      "text/plain": [
       "Top nil feature map classification: \tgoldfish, Carassius auratus 14.527448654175\t\n",
       "14.527448654175\t\n",
       "1 is finished\t\n"
      ]
     },
     "execution_count": 35,
     "metadata": {},
     "output_type": "execute_result"
    },
    {
     "data": {
      "text/plain": [
       "Top nil feature map classification: \tgoldfish, Carassius auratus 31.3736743927\t\n",
       "31.3736743927\t\n",
       "2 is finished\t\n"
      ]
     },
     "execution_count": 35,
     "metadata": {},
     "output_type": "execute_result"
    },
    {
     "data": {
      "text/plain": [
       "Top nil feature map classification: \tgoldfish, Carassius auratus 7.2146134376526\t\n",
       "7.2146134376526\t\n",
       "3 is finished\t\n"
      ]
     },
     "execution_count": 35,
     "metadata": {},
     "output_type": "execute_result"
    },
    {
     "data": {
      "text/plain": [
       "Top nil feature map classification: \tgoldfish, Carassius auratus 11.683025360107\t\n"
      ]
     },
     "execution_count": 35,
     "metadata": {},
     "output_type": "execute_result"
    },
    {
     "data": {
      "text/plain": [
       "11.683025360107\t\n",
       "4 is finished\t\n"
      ]
     },
     "execution_count": 35,
     "metadata": {},
     "output_type": "execute_result"
    },
    {
     "data": {
      "text/plain": [
       "Top nil feature map classification: \tgoldfish, Carassius auratus 27.296636581421\t\n",
       "27.296636581421\t\n",
       "5 is finished\t\n"
      ]
     },
     "execution_count": 35,
     "metadata": {},
     "output_type": "execute_result"
    },
    {
     "data": {
      "text/plain": [
       "Top nil feature map classification: \tgoldfish, Carassius auratus 10.829147338867\t\n",
       "10.829147338867\t\n",
       "6 is finished\t\n"
      ]
     },
     "execution_count": 35,
     "metadata": {},
     "output_type": "execute_result"
    },
    {
     "data": {
      "text/plain": [
       "Top nil feature map classification: \tgoldfish, Carassius auratus 13.361289024353\t\n",
       "13.361289024353\t\n",
       "7 is finished\t\n"
      ]
     },
     "execution_count": 35,
     "metadata": {},
     "output_type": "execute_result"
    },
    {
     "data": {
      "text/plain": [
       "Top nil feature map classification: \tgoldfish, Carassius auratus 14.710634231567\t\n",
       "14.710634231567\t\n",
       "8 is finished\t\n"
      ]
     },
     "execution_count": 35,
     "metadata": {},
     "output_type": "execute_result"
    },
    {
     "data": {
      "text/plain": [
       "Top nil feature map classification: \tgoldfish, Carassius auratus 22.221050262451\t\n",
       "22.221050262451\t\n",
       "9 is finished\t\n"
      ]
     },
     "execution_count": 35,
     "metadata": {},
     "output_type": "execute_result"
    },
    {
     "data": {
      "text/plain": [
       "Top nil feature map classification: \tgoldfish, Carassius auratus 10.508856773376\t\n",
       "10.508856773376\t\n",
       "10 is finished\t\n"
      ]
     },
     "execution_count": 35,
     "metadata": {},
     "output_type": "execute_result"
    },
    {
     "data": {
      "text/plain": [
       "Top nil feature map classification: \tgoldfish, Carassius auratus 11.517441749573\t\n",
       "11.517441749573\t\n",
       "11 is finished\t\n"
      ]
     },
     "execution_count": 35,
     "metadata": {},
     "output_type": "execute_result"
    },
    {
     "data": {
      "text/plain": [
       "Top nil feature map classification: \tgoldfish, Carassius auratus 15.513450622559\t\n",
       "15.513450622559\t\n",
       "12 is finished\t\n"
      ]
     },
     "execution_count": 35,
     "metadata": {},
     "output_type": "execute_result"
    },
    {
     "data": {
      "text/plain": [
       "Top nil feature map classification: \tgoldfish, Carassius auratus 9.3154354095459\t\n",
       "9.3154354095459\t\n",
       "13 is finished\t\n"
      ]
     },
     "execution_count": 35,
     "metadata": {},
     "output_type": "execute_result"
    },
    {
     "data": {
      "text/plain": [
       "Top nil feature map classification: \toystercatcher, oyster catcher 7.2590322494507\t\n",
       "2.7663202285767\t\n",
       "14 is finished\t\n"
      ]
     },
     "execution_count": 35,
     "metadata": {},
     "output_type": "execute_result"
    },
    {
     "data": {
      "text/plain": [
       "Top nil feature map classification: \tgoldfish, Carassius auratus 12.772992134094\t\n",
       "12.772992134094\t\n",
       "15 is finished\t\n"
      ]
     },
     "execution_count": 35,
     "metadata": {},
     "output_type": "execute_result"
    },
    {
     "data": {
      "text/plain": [
       "Top nil feature map classification: \tgoldfish, Carassius auratus 15.809110641479\t\n",
       "15.809110641479\t\n",
       "16 is finished\t\n"
      ]
     },
     "execution_count": 35,
     "metadata": {},
     "output_type": "execute_result"
    },
    {
     "data": {
      "text/plain": [
       "Top nil feature map classification: \tgoldfish, Carassius auratus 19.968050003052\t\n",
       "19.968050003052\t\n",
       "17 is finished\t\n"
      ]
     },
     "execution_count": 35,
     "metadata": {},
     "output_type": "execute_result"
    },
    {
     "data": {
      "text/plain": [
       "Top nil feature map classification: \tgoldfish, Carassius auratus 36.885921478271\t\n",
       "36.885921478271\t\n",
       "18 is finished\t\n"
      ]
     },
     "execution_count": 35,
     "metadata": {},
     "output_type": "execute_result"
    },
    {
     "data": {
      "text/plain": [
       "Top nil feature map classification: \tgoldfish, Carassius auratus 21.736934661865\t\n",
       "21.736934661865\t\n",
       "19 is finished\t\n"
      ]
     },
     "execution_count": 35,
     "metadata": {},
     "output_type": "execute_result"
    },
    {
     "data": {
      "text/plain": [
       "Top nil feature map classification: \tgoldfish, Carassius auratus 26.213541030884\t\n",
       "26.213541030884\t\n",
       "20 is finished\t\n"
      ]
     },
     "execution_count": 35,
     "metadata": {},
     "output_type": "execute_result"
    },
    {
     "data": {
      "text/plain": [
       "Top nil feature map classification: \tgoldfish, Carassius auratus 29.996644973755\t\n",
       "29.996644973755\t\n",
       "21 is finished\t\n"
      ]
     },
     "execution_count": 35,
     "metadata": {},
     "output_type": "execute_result"
    },
    {
     "data": {
      "text/plain": [
       "Top nil feature map classification: \tgoldfish, Carassius auratus 35.500137329102\t\n",
       "35.500137329102\t\n",
       "22 is finished\t\n"
      ]
     },
     "execution_count": 35,
     "metadata": {},
     "output_type": "execute_result"
    },
    {
     "data": {
      "text/plain": [
       "Top nil feature map classification: \tgoldfish, Carassius auratus 25.07513999939\t\n",
       "25.07513999939\t\n",
       "23 is finished\t\n"
      ]
     },
     "execution_count": 35,
     "metadata": {},
     "output_type": "execute_result"
    },
    {
     "data": {
      "text/plain": [
       "Top nil feature map classification: \tgoldfish, Carassius auratus 15.672426223755\t\n",
       "15.672426223755\t\n",
       "24 is finished\t\n"
      ]
     },
     "execution_count": 35,
     "metadata": {},
     "output_type": "execute_result"
    },
    {
     "data": {
      "text/plain": [
       "Top nil feature map classification: \tgoldfish, Carassius auratus 8.743688583374\t\n",
       "8.743688583374\t\n",
       "25 is finished\t\n"
      ]
     },
     "execution_count": 35,
     "metadata": {},
     "output_type": "execute_result"
    },
    {
     "data": {
      "text/plain": [
       "Top nil feature map classification: \tgoldfish, Carassius auratus 9.8292026519775\t\n",
       "9.8292026519775\t\n",
       "26 is finished\t\n"
      ]
     },
     "execution_count": 35,
     "metadata": {},
     "output_type": "execute_result"
    },
    {
     "data": {
      "text/plain": [
       "Top nil feature map classification: \tgoldfish, Carassius auratus 20.183216094971\t\n",
       "20.183216094971\t\n",
       "27 is finished\t\n"
      ]
     },
     "execution_count": 35,
     "metadata": {},
     "output_type": "execute_result"
    },
    {
     "data": {
      "text/plain": [
       "Top nil feature map classification: \tgoldfish, Carassius auratus 15.922475814819\t\n",
       "15.922475814819\t\n",
       "28 is finished\t\n"
      ]
     },
     "execution_count": 35,
     "metadata": {},
     "output_type": "execute_result"
    },
    {
     "data": {
      "text/plain": [
       "Top nil feature map classification: \tgoldfish, Carassius auratus 21.245210647583\t\n",
       "21.245210647583\t\n",
       "29 is finished\t\n"
      ]
     },
     "execution_count": 35,
     "metadata": {},
     "output_type": "execute_result"
    },
    {
     "data": {
      "text/plain": [
       "Top nil feature map classification: \tgoldfish, Carassius auratus 25.37587928772\t\n",
       "25.37587928772\t\n",
       "30 is finished\t\n"
      ]
     },
     "execution_count": 35,
     "metadata": {},
     "output_type": "execute_result"
    },
    {
     "data": {
      "text/plain": [
       "Top nil feature map classification: \tgoldfish, Carassius auratus 21.283323287964\t\n",
       "21.283323287964\t\n",
       "31 is finished\t\n"
      ]
     },
     "execution_count": 35,
     "metadata": {},
     "output_type": "execute_result"
    },
    {
     "data": {
      "text/plain": [
       "Top nil feature map classification: \tgoldfish, Carassius auratus 11.545614242554\t\n",
       "11.545614242554\t\n",
       "32 is finished\t\n"
      ]
     },
     "execution_count": 35,
     "metadata": {},
     "output_type": "execute_result"
    },
    {
     "data": {
      "text/plain": [
       "Top nil feature map classification: \tgoldfish, Carassius auratus 22.545650482178\t\n",
       "22.545650482178\t\n",
       "33 is finished\t\n"
      ]
     },
     "execution_count": 35,
     "metadata": {},
     "output_type": "execute_result"
    },
    {
     "data": {
      "text/plain": [
       "Top nil feature map classification: \tstarfish, sea star 10.488761901855\t\n",
       "9.8635177612305\t\n",
       "34 is finished\t\n"
      ]
     },
     "execution_count": 35,
     "metadata": {},
     "output_type": "execute_result"
    },
    {
     "data": {
      "text/plain": [
       "Top nil feature map classification: \tgoldfish, Carassius auratus 20.071979522705\t\n",
       "20.071979522705\t\n",
       "35 is finished\t\n"
      ]
     },
     "execution_count": 35,
     "metadata": {},
     "output_type": "execute_result"
    },
    {
     "data": {
      "text/plain": [
       "Top nil feature map classification: \tgoldfish, Carassius auratus 22.610263824463\t\n",
       "22.610263824463\t\n",
       "36 is finished\t\n"
      ]
     },
     "execution_count": 35,
     "metadata": {},
     "output_type": "execute_result"
    },
    {
     "data": {
      "text/plain": [
       "Top nil feature map classification: \tgoldfish, Carassius auratus 17.883176803589\t\n",
       "17.883176803589\t\n",
       "37 is finished\t\n"
      ]
     },
     "execution_count": 35,
     "metadata": {},
     "output_type": "execute_result"
    },
    {
     "data": {
      "text/plain": [
       "Top nil feature map classification: \tgoldfish, Carassius auratus 39.909812927246\t\n",
       "39.909812927246\t\n",
       "38 is finished\t\n"
      ]
     },
     "execution_count": 35,
     "metadata": {},
     "output_type": "execute_result"
    },
    {
     "data": {
      "text/plain": [
       "Top nil feature map classification: \tgoldfish, Carassius auratus 20.252017974854\t\n",
       "20.252017974854\t\n",
       "39 is finished\t\n"
      ]
     },
     "execution_count": 35,
     "metadata": {},
     "output_type": "execute_result"
    },
    {
     "data": {
      "text/plain": [
       "Top nil feature map classification: \tgoldfish, Carassius auratus 19.103713989258\t\n",
       "19.103713989258\t\n",
       "40 is finished\t\n"
      ]
     },
     "execution_count": 35,
     "metadata": {},
     "output_type": "execute_result"
    },
    {
     "data": {
      "text/plain": [
       "Top nil feature map classification: \tgoldfish, Carassius auratus 22.901664733887\t\n",
       "22.901664733887\t\n",
       "41 is finished\t\n"
      ]
     },
     "execution_count": 35,
     "metadata": {},
     "output_type": "execute_result"
    },
    {
     "data": {
      "text/plain": [
       "Top nil feature map classification: \tgoldfish, Carassius auratus 12.169890403748\t\n",
       "12.169890403748\t\n",
       "42 is finished\t\n"
      ]
     },
     "execution_count": 35,
     "metadata": {},
     "output_type": "execute_result"
    },
    {
     "data": {
      "text/plain": [
       "Top nil feature map classification: \tgoldfish, Carassius auratus 33.246448516846\t\n",
       "33.246448516846\t\n",
       "43 is finished\t\n"
      ]
     },
     "execution_count": 35,
     "metadata": {},
     "output_type": "execute_result"
    },
    {
     "data": {
      "text/plain": [
       "Top nil feature map classification: \tgoldfish, Carassius auratus 16.487983703613\t\n",
       "16.487983703613\t\n",
       "44 is finished\t\n"
      ]
     },
     "execution_count": 35,
     "metadata": {},
     "output_type": "execute_result"
    },
    {
     "data": {
      "text/plain": [
       "Top nil feature map classification: \tgoldfish, Carassius auratus 19.436603546143\t\n",
       "19.436603546143\t\n",
       "45 is finished\t\n"
      ]
     },
     "execution_count": 35,
     "metadata": {},
     "output_type": "execute_result"
    },
    {
     "data": {
      "text/plain": [
       "Top nil feature map classification: \tgoldfish, Carassius auratus 18.731695175171\t\n",
       "18.731695175171\t\n",
       "46 is finished\t\n"
      ]
     },
     "execution_count": 35,
     "metadata": {},
     "output_type": "execute_result"
    },
    {
     "data": {
      "text/plain": [
       "Top nil feature map classification: \tgoldfish, Carassius auratus 15.749071121216\t\n",
       "15.749071121216\t\n",
       "47 is finished\t\n"
      ]
     },
     "execution_count": 35,
     "metadata": {},
     "output_type": "execute_result"
    },
    {
     "data": {
      "text/plain": [
       "Top nil feature map classification: \tgoldfish, Carassius auratus 28.678314208984\t\n",
       "28.678314208984\t\n",
       "48 is finished\t\n"
      ]
     },
     "execution_count": 35,
     "metadata": {},
     "output_type": "execute_result"
    },
    {
     "data": {
      "text/plain": [
       "Top nil feature map classification: \tgoldfish, Carassius auratus 17.069890975952\t\n",
       "17.069890975952\t\n",
       "49 is finished\t\n"
      ]
     },
     "execution_count": 35,
     "metadata": {},
     "output_type": "execute_result"
    },
    {
     "data": {
      "text/plain": [
       "Top nil feature map classification: \tgoldfish, Carassius auratus 16.637571334839\t\n",
       "16.637571334839\t\n",
       "50 is finished\t\n"
      ]
     },
     "execution_count": 35,
     "metadata": {},
     "output_type": "execute_result"
    },
    {
     "data": {
      "text/plain": [
       "Top nil feature map classification: \tgoldfish, Carassius auratus 17.142009735107\t\n",
       "17.142009735107\t\n",
       "51 is finished\t\n"
      ]
     },
     "execution_count": 35,
     "metadata": {},
     "output_type": "execute_result"
    },
    {
     "data": {
      "text/plain": [
       "Top nil feature map classification: \tgoldfish, Carassius auratus 23.380477905273\t\n",
       "23.380477905273\t\n",
       "52 is finished\t\n"
      ]
     },
     "execution_count": 35,
     "metadata": {},
     "output_type": "execute_result"
    },
    {
     "data": {
      "text/plain": [
       "Top nil feature map classification: \tgoldfish, Carassius auratus 15.630523681641\t\n",
       "15.630523681641\t\n",
       "53 is finished\t\n"
      ]
     },
     "execution_count": 35,
     "metadata": {},
     "output_type": "execute_result"
    },
    {
     "data": {
      "text/plain": [
       "Top nil feature map classification: \tgoldfish, Carassius auratus 25.843486785889\t\n",
       "25.843486785889\t\n",
       "54 is finished\t\n"
      ]
     },
     "execution_count": 35,
     "metadata": {},
     "output_type": "execute_result"
    },
    {
     "data": {
      "text/plain": [
       "Top nil feature map classification: \tdoormat, welcome mat 7.2951655387878\t\n",
       "2.3092894554138\t\n",
       "55 is finished\t\n"
      ]
     },
     "execution_count": 35,
     "metadata": {},
     "output_type": "execute_result"
    },
    {
     "data": {
      "text/plain": [
       "Top nil feature map classification: \tgoldfish, Carassius auratus 27.495777130127\t\n",
       "27.495777130127\t\n",
       "56 is finished\t\n"
      ]
     },
     "execution_count": 35,
     "metadata": {},
     "output_type": "execute_result"
    },
    {
     "data": {
      "text/plain": [
       "Top nil feature map classification: \tstarfish, sea star 5.7164072990417\t\n",
       "3.4833376407623\t\n",
       "57 is finished\t\n"
      ]
     },
     "execution_count": 35,
     "metadata": {},
     "output_type": "execute_result"
    },
    {
     "data": {
      "text/plain": [
       "Top nil feature map classification: \tgoldfish, Carassius auratus 26.122482299805\t\n",
       "26.122482299805\t\n",
       "58 is finished\t\n"
      ]
     },
     "execution_count": 35,
     "metadata": {},
     "output_type": "execute_result"
    },
    {
     "data": {
      "text/plain": [
       "Top nil feature map classification: \twater snake 12.472724914551\t\n",
       "9.9932832717896\t\n",
       "59 is finished\t\n"
      ]
     },
     "execution_count": 35,
     "metadata": {},
     "output_type": "execute_result"
    },
    {
     "data": {
      "text/plain": [
       "Top nil feature map classification: \tgoldfish, Carassius auratus 26.952577590942\t\n",
       "26.952577590942\t\n",
       "60 is finished\t\n"
      ]
     },
     "execution_count": 35,
     "metadata": {},
     "output_type": "execute_result"
    },
    {
     "data": {
      "text/plain": [
       "Top nil feature map classification: \tgoldfish, Carassius auratus 15.935182571411\t\n",
       "15.935182571411\t\n",
       "61 is finished\t\n"
      ]
     },
     "execution_count": 35,
     "metadata": {},
     "output_type": "execute_result"
    },
    {
     "data": {
      "text/plain": [
       "Top nil feature map classification: \tgoldfish, Carassius auratus 15.810367584229\t\n",
       "15.810367584229\t\n",
       "62 is finished\t\n"
      ]
     },
     "execution_count": 35,
     "metadata": {},
     "output_type": "execute_result"
    },
    {
     "data": {
      "text/plain": [
       "Top nil feature map classification: \tgoldfish, Carassius auratus 20.018880844116\t\n",
       "20.018880844116\t\n",
       "63 is finished\t\n"
      ]
     },
     "execution_count": 35,
     "metadata": {},
     "output_type": "execute_result"
    },
    {
     "data": {
      "text/plain": [
       "Top nil feature map classification: \tgoldfish, Carassius auratus 21.053747177124\t\n",
       "21.053747177124\t\n",
       "64 is finished\t\n"
      ]
     },
     "execution_count": 35,
     "metadata": {},
     "output_type": "execute_result"
    },
    {
     "data": {
      "text/plain": [
       "Top nil feature map classification: \tgoldfish, Carassius auratus 26.492727279663\t\n",
       "26.492727279663\t\n",
       "65 is finished\t\n"
      ]
     },
     "execution_count": 35,
     "metadata": {},
     "output_type": "execute_result"
    },
    {
     "data": {
      "text/plain": [
       "Top nil feature map classification: \tgoldfish, Carassius auratus 29.658933639526\t\n",
       "29.658933639526\t\n",
       "66 is finished\t\n"
      ]
     },
     "execution_count": 35,
     "metadata": {},
     "output_type": "execute_result"
    },
    {
     "data": {
      "text/plain": [
       "Top nil feature map classification: \tgoldfish, Carassius auratus 22.45171546936\t\n",
       "22.45171546936\t\n",
       "67 is finished\t\n"
      ]
     },
     "execution_count": 35,
     "metadata": {},
     "output_type": "execute_result"
    },
    {
     "data": {
      "text/plain": [
       "Top nil feature map classification: \ttelevision, television system 7.4984269142151\t\n",
       "2.2191295623779\t\n",
       "68 is finished\t\n"
      ]
     },
     "execution_count": 35,
     "metadata": {},
     "output_type": "execute_result"
    },
    {
     "data": {
      "text/plain": [
       "Top nil feature map classification: \tgoldfish, Carassius auratus 15.715376853943\t\n",
       "15.715376853943\t\n",
       "69 is finished\t\n"
      ]
     },
     "execution_count": 35,
     "metadata": {},
     "output_type": "execute_result"
    },
    {
     "data": {
      "text/plain": [
       "Top nil feature map classification: \tgoldfish, Carassius auratus 14.646152496338\t\n",
       "14.646152496338\t\n"
      ]
     },
     "execution_count": 35,
     "metadata": {},
     "output_type": "execute_result"
    },
    {
     "data": {
      "text/plain": [
       "70 is finished\t\n"
      ]
     },
     "execution_count": 35,
     "metadata": {},
     "output_type": "execute_result"
    },
    {
     "data": {
      "text/plain": [
       "Top nil feature map classification: \tgoldfish, Carassius auratus 21.611654281616\t\n",
       "21.611654281616\t\n",
       "71 is finished\t\n"
      ]
     },
     "execution_count": 35,
     "metadata": {},
     "output_type": "execute_result"
    },
    {
     "data": {
      "text/plain": [
       "Top nil feature map classification: \tgoldfish, Carassius auratus 32.216506958008\t\n",
       "32.216506958008\t\n",
       "72 is finished\t\n"
      ]
     },
     "execution_count": 35,
     "metadata": {},
     "output_type": "execute_result"
    },
    {
     "data": {
      "text/plain": [
       "Top nil feature map classification: \tgoldfish, Carassius auratus 12.425738334656\t\n",
       "12.425738334656\t\n",
       "73 is finished\t\n"
      ]
     },
     "execution_count": 35,
     "metadata": {},
     "output_type": "execute_result"
    },
    {
     "data": {
      "text/plain": [
       "Top nil feature map classification: \tgoldfish, Carassius auratus 19.724016189575\t\n",
       "19.724016189575\t\n",
       "74 is finished\t\n"
      ]
     },
     "execution_count": 35,
     "metadata": {},
     "output_type": "execute_result"
    },
    {
     "data": {
      "text/plain": [
       "Top nil feature map classification: \tgoldfish, Carassius auratus 25.389308929443\t\n",
       "25.389308929443\t\n",
       "75 is finished\t\n"
      ]
     },
     "execution_count": 35,
     "metadata": {},
     "output_type": "execute_result"
    },
    {
     "data": {
      "text/plain": [
       "Top nil feature map classification: \tgoldfish, Carassius auratus 19.544954299927\t\n",
       "19.544954299927\t\n",
       "76 is finished\t\n"
      ]
     },
     "execution_count": 35,
     "metadata": {},
     "output_type": "execute_result"
    },
    {
     "data": {
      "text/plain": [
       "Top nil feature map classification: \tgoldfish, Carassius auratus 16.898166656494\t\n",
       "16.898166656494\t\n",
       "77 is finished\t\n"
      ]
     },
     "execution_count": 35,
     "metadata": {},
     "output_type": "execute_result"
    },
    {
     "data": {
      "text/plain": [
       "Top nil feature map classification: \tgoldfish, Carassius auratus 12.198139190674\t\n",
       "12.198139190674\t\n",
       "78 is finished\t\n"
      ]
     },
     "execution_count": 35,
     "metadata": {},
     "output_type": "execute_result"
    },
    {
     "data": {
      "text/plain": [
       "Top nil feature map classification: \tgoldfish, Carassius auratus 29.377632141113\t\n",
       "29.377632141113\t\n",
       "79 is finished\t\n"
      ]
     },
     "execution_count": 35,
     "metadata": {},
     "output_type": "execute_result"
    },
    {
     "data": {
      "text/plain": [
       "Top nil feature map classification: \tgoldfish, Carassius auratus 29.17014503479\t\n",
       "29.17014503479\t\n",
       "80 is finished\t\n"
      ]
     },
     "execution_count": 35,
     "metadata": {},
     "output_type": "execute_result"
    },
    {
     "data": {
      "text/plain": [
       "Top nil feature map classification: \tgoldfish, Carassius auratus 30.553525924683\t\n",
       "30.553525924683\t\n",
       "81 is finished\t\n"
      ]
     },
     "execution_count": 35,
     "metadata": {},
     "output_type": "execute_result"
    },
    {
     "data": {
      "text/plain": [
       "Top nil feature map classification: \tgoldfish, Carassius auratus 16.475902557373\t"
      ]
     },
     "execution_count": 35,
     "metadata": {},
     "output_type": "execute_result"
    },
    {
     "data": {
      "text/plain": [
       "\n",
       "16.475902557373\t\n",
       "82 is finished\t\n"
      ]
     },
     "execution_count": 35,
     "metadata": {},
     "output_type": "execute_result"
    },
    {
     "data": {
      "text/plain": [
       "Top nil feature map classification: \tgoldfish, Carassius auratus 31.677606582642\t\n",
       "31.677606582642\t\n",
       "83 is finished\t\n"
      ]
     },
     "execution_count": 35,
     "metadata": {},
     "output_type": "execute_result"
    },
    {
     "data": {
      "text/plain": [
       "Top nil feature map classification: \tgoldfish, Carassius auratus 13.443224906921\t\n",
       "13.443224906921\t\n",
       "84 is finished\t\n"
      ]
     },
     "execution_count": 35,
     "metadata": {},
     "output_type": "execute_result"
    },
    {
     "data": {
      "text/plain": [
       "Top nil feature map classification: \tgoldfish, Carassius auratus 26.581642150879\t\n",
       "26.581642150879\t\n",
       "85 is finished\t\n"
      ]
     },
     "execution_count": 35,
     "metadata": {},
     "output_type": "execute_result"
    },
    {
     "data": {
      "text/plain": [
       "Top nil feature map classification: \tgoldfish, Carassius auratus 22.825765609741\t\n",
       "22.825765609741\t\n",
       "86 is finished\t\n"
      ]
     },
     "execution_count": 35,
     "metadata": {},
     "output_type": "execute_result"
    },
    {
     "data": {
      "text/plain": [
       "Top nil feature map classification: \tgoldfish, Carassius auratus 25.580282211304\t\n",
       "25.580282211304\t\n",
       "87 is finished\t\n"
      ]
     },
     "execution_count": 35,
     "metadata": {},
     "output_type": "execute_result"
    },
    {
     "data": {
      "text/plain": [
       "Top nil feature map classification: \tgoldfish, Carassius auratus 32.717525482178\t\n",
       "32.717525482178\t\n",
       "88 is finished\t\n"
      ]
     },
     "execution_count": 35,
     "metadata": {},
     "output_type": "execute_result"
    },
    {
     "data": {
      "text/plain": [
       "Top nil feature map classification: \tgoldfish, Carassius auratus 27.899520874023\t\n",
       "27.899520874023\t\n",
       "89 is finished\t\n"
      ]
     },
     "execution_count": 35,
     "metadata": {},
     "output_type": "execute_result"
    },
    {
     "data": {
      "text/plain": [
       "Top nil feature map classification: \tgoldfish, Carassius auratus 25.001678466797\t\n",
       "25.001678466797\t\n",
       "90 is finished\t\n"
      ]
     },
     "execution_count": 35,
     "metadata": {},
     "output_type": "execute_result"
    },
    {
     "data": {
      "text/plain": [
       "Top nil feature map classification: \tgoldfish, Carassius auratus 21.700244903564\t\n"
      ]
     },
     "execution_count": 35,
     "metadata": {},
     "output_type": "execute_result"
    },
    {
     "data": {
      "text/plain": [
       "21.700244903564\t\n",
       "91 is finished\t\n"
      ]
     },
     "execution_count": 35,
     "metadata": {},
     "output_type": "execute_result"
    },
    {
     "data": {
      "text/plain": [
       "Top nil feature map classification: \tgoldfish, Carassius auratus 25.04412651062\t\n",
       "25.04412651062\t\n",
       "92 is finished\t\n"
      ]
     },
     "execution_count": 35,
     "metadata": {},
     "output_type": "execute_result"
    },
    {
     "data": {
      "text/plain": [
       "Top nil feature map classification: \tgoldfish, Carassius auratus 46.781288146973\t\n",
       "46.781288146973\t\n",
       "93 is finished\t\n"
      ]
     },
     "execution_count": 35,
     "metadata": {},
     "output_type": "execute_result"
    },
    {
     "data": {
      "text/plain": [
       "Top nil feature map classification: \tgoldfish, Carassius auratus 20.836513519287\t\n",
       "20.836513519287\t\n",
       "94 is finished\t\n"
      ]
     },
     "execution_count": 35,
     "metadata": {},
     "output_type": "execute_result"
    },
    {
     "data": {
      "text/plain": [
       "Top nil feature map classification: \tgoldfish, Carassius auratus 29.415910720825\t\n",
       "29.415910720825\t\n",
       "95 is finished\t\n"
      ]
     },
     "execution_count": 35,
     "metadata": {},
     "output_type": "execute_result"
    },
    {
     "data": {
      "text/plain": [
       "Top nil feature map classification: \tgoldfish, Carassius auratus 20.424453735352\t\n",
       "20.424453735352\t\n",
       "96 is finished\t\n"
      ]
     },
     "execution_count": 35,
     "metadata": {},
     "output_type": "execute_result"
    },
    {
     "data": {
      "text/plain": [
       "Top nil feature map classification: \tgoldfish, Carassius auratus 17.525362014771\t\n",
       "17.525362014771\t\n",
       "97 is finished\t\n"
      ]
     },
     "execution_count": 35,
     "metadata": {},
     "output_type": "execute_result"
    },
    {
     "data": {
      "text/plain": [
       "Top nil feature map classification: \tgoldfish, Carassius auratus 30.84627532959\t\n",
       "30.84627532959\t\n",
       "98 is finished\t\n"
      ]
     },
     "execution_count": 35,
     "metadata": {},
     "output_type": "execute_result"
    },
    {
     "data": {
      "text/plain": [
       "Top nil feature map classification: \tgoldfish, Carassius auratus 16.136938095093\t\n",
       "16.136938095093\t\n",
       "99 is finished\t\n"
      ]
     },
     "execution_count": 35,
     "metadata": {},
     "output_type": "execute_result"
    },
    {
     "data": {
      "text/plain": [
       "Top nil feature map classification: \twater snake 11.117745399475\t\n",
       "7.1284947395325\t\n",
       "100 is finished\t\n"
      ]
     },
     "execution_count": 35,
     "metadata": {},
     "output_type": "execute_result"
    },
    {
     "data": {
      "text/plain": [
       "Top nil feature map classification: \tgoldfish, Carassius auratus 37.498397827148\t\n",
       "37.498397827148\t\n",
       "101 is finished\t\n"
      ]
     },
     "execution_count": 35,
     "metadata": {},
     "output_type": "execute_result"
    },
    {
     "data": {
      "text/plain": [
       "Top nil feature map classification: \tgoldfish, Carassius auratus 18.484792709351\t\n",
       "18.484792709351\t\n",
       "102 is finished\t\n"
      ]
     },
     "execution_count": 35,
     "metadata": {},
     "output_type": "execute_result"
    },
    {
     "data": {
      "text/plain": [
       "Top nil feature map classification: \tgoldfish, Carassius auratus 23.709278106689\t\n",
       "23.709278106689\t\n",
       "103 is finished\t\n"
      ]
     },
     "execution_count": 35,
     "metadata": {},
     "output_type": "execute_result"
    },
    {
     "data": {
      "text/plain": [
       "Top nil feature map classification: \tgoldfish, Carassius auratus 17.011674880981\t\n",
       "17.011674880981\t\n",
       "104 is finished\t\n"
      ]
     },
     "execution_count": 35,
     "metadata": {},
     "output_type": "execute_result"
    },
    {
     "data": {
      "text/plain": [
       "Top nil feature map classification: \tsoup bowl 10.054137229919\t\n",
       "3.5467562675476\t\n",
       "105 is finished\t\n"
      ]
     },
     "execution_count": 35,
     "metadata": {},
     "output_type": "execute_result"
    },
    {
     "data": {
      "text/plain": [
       "Top nil feature map classification: \tgoldfish, Carassius auratus 32.29052734375\t\n",
       "32.29052734375\t\n",
       "106 is finished\t\n"
      ]
     },
     "execution_count": 35,
     "metadata": {},
     "output_type": "execute_result"
    },
    {
     "data": {
      "text/plain": [
       "Top nil feature map classification: \tgoldfish, Carassius auratus 10.574831008911\t\n",
       "10.574831008911\t\n",
       "107 is finished\t\n"
      ]
     },
     "execution_count": 35,
     "metadata": {},
     "output_type": "execute_result"
    },
    {
     "data": {
      "text/plain": [
       "Top nil feature map classification: \tgoldfish, Carassius auratus 16.838338851929\t\n",
       "16.838338851929\t\n",
       "108 is finished\t\n"
      ]
     },
     "execution_count": 35,
     "metadata": {},
     "output_type": "execute_result"
    },
    {
     "data": {
      "text/plain": [
       "Top nil feature map classification: \tgoldfish, Carassius auratus 25.684768676758\t\n",
       "25.684768676758\t\n",
       "109 is finished\t\n"
      ]
     },
     "execution_count": 35,
     "metadata": {},
     "output_type": "execute_result"
    },
    {
     "data": {
      "text/plain": [
       "Top nil feature map classification: \tcandle, taper, wax light 10.14013004303\t\n",
       "7.5824823379517\t\n",
       "110 is finished\t\n"
      ]
     },
     "execution_count": 35,
     "metadata": {},
     "output_type": "execute_result"
    },
    {
     "data": {
      "text/plain": [
       "Top nil feature map classification: \tgoldfish, Carassius auratus 29.231845855713\t\n",
       "29.231845855713\t\n",
       "111 is finished\t\n"
      ]
     },
     "execution_count": 35,
     "metadata": {},
     "output_type": "execute_result"
    },
    {
     "data": {
      "text/plain": [
       "Top nil feature map classification: \tgoldfish, Carassius auratus 25.555658340454\t\n",
       "25.555658340454\t\n",
       "112 is finished\t\n"
      ]
     },
     "execution_count": 35,
     "metadata": {},
     "output_type": "execute_result"
    },
    {
     "data": {
      "text/plain": [
       "Top nil feature map classification: \tgoldfish, Carassius auratus 27.232795715332\t\n",
       "27.232795715332\t\n",
       "113 is finished\t\n"
      ]
     },
     "execution_count": 35,
     "metadata": {},
     "output_type": "execute_result"
    },
    {
     "data": {
      "text/plain": [
       "Top nil feature map classification: \tgoldfish, Carassius auratus 22.230562210083\t\n",
       "22.230562210083\t\n",
       "114 is finished\t\n"
      ]
     },
     "execution_count": 35,
     "metadata": {},
     "output_type": "execute_result"
    },
    {
     "data": {
      "text/plain": [
       "Top nil feature map classification: \tgoldfish, Carassius auratus 26.601943969727\t\n",
       "26.601943969727\t\n",
       "115 is finished\t\n"
      ]
     },
     "execution_count": 35,
     "metadata": {},
     "output_type": "execute_result"
    },
    {
     "data": {
      "text/plain": [
       "Top nil feature map classification: \tgoldfish, Carassius auratus 18.317737579346\t\n",
       "18.317737579346\t\n",
       "116 is finished\t\n"
      ]
     },
     "execution_count": 35,
     "metadata": {},
     "output_type": "execute_result"
    },
    {
     "data": {
      "text/plain": [
       "Top nil feature map classification: \tgoldfish, Carassius auratus 27.020748138428\t\n"
      ]
     },
     "execution_count": 35,
     "metadata": {},
     "output_type": "execute_result"
    },
    {
     "data": {
      "text/plain": [
       "27.020748138428\t\n",
       "117 is finished\t\n"
      ]
     },
     "execution_count": 35,
     "metadata": {},
     "output_type": "execute_result"
    },
    {
     "data": {
      "text/plain": [
       "Top nil feature map classification: \tgoldfish, Carassius auratus 25.523927688599\t\n",
       "25.523927688599\t\n",
       "118 is finished\t\n"
      ]
     },
     "execution_count": 35,
     "metadata": {},
     "output_type": "execute_result"
    },
    {
     "data": {
      "text/plain": [
       "Top nil feature map classification: \tcoral reef 14.714605331421\t\n",
       "12.782678604126\t\n",
       "119 is finished\t\n"
      ]
     },
     "execution_count": 35,
     "metadata": {},
     "output_type": "execute_result"
    },
    {
     "data": {
      "text/plain": [
       "Top nil feature map classification: \tgoldfish, Carassius auratus 11.779216766357\t\n",
       "11.779216766357\t\n",
       "120 is finished\t\n"
      ]
     },
     "execution_count": 35,
     "metadata": {},
     "output_type": "execute_result"
    },
    {
     "data": {
      "text/plain": [
       "Top nil feature map classification: \tgoldfish, Carassius auratus 18.926147460938\t\n",
       "18.926147460938\t\n",
       "121 is finished\t\n"
      ]
     },
     "execution_count": 35,
     "metadata": {},
     "output_type": "execute_result"
    },
    {
     "data": {
      "text/plain": [
       "Top nil feature map classification: \tgoldfish, Carassius auratus 10.211426734924\t\n"
      ]
     },
     "execution_count": 35,
     "metadata": {},
     "output_type": "execute_result"
    },
    {
     "data": {
      "text/plain": [
       "10.211426734924\t\n",
       "122 is finished\t\n"
      ]
     },
     "execution_count": 35,
     "metadata": {},
     "output_type": "execute_result"
    },
    {
     "data": {
      "text/plain": [
       "Top nil feature map classification: \tgoldfish, Carassius auratus 22.25467300415\t\n",
       "22.25467300415\t\n",
       "123 is finished\t\n"
      ]
     },
     "execution_count": 35,
     "metadata": {},
     "output_type": "execute_result"
    },
    {
     "data": {
      "text/plain": [
       "Top nil feature map classification: \tgoldfish, Carassius auratus 24.734945297241\t\n",
       "24.734945297241\t\n",
       "124 is finished\t\n"
      ]
     },
     "execution_count": 35,
     "metadata": {},
     "output_type": "execute_result"
    },
    {
     "data": {
      "text/plain": [
       "Top nil feature map classification: \teft 16.891250610352\t\n",
       "16.726457595825\t\n",
       "125 is finished\t\n"
      ]
     },
     "execution_count": 35,
     "metadata": {},
     "output_type": "execute_result"
    },
    {
     "data": {
      "text/plain": [
       "Top nil feature map classification: \tgoldfish, Carassius auratus 32.732227325439\t\n",
       "32.732227325439\t\n",
       "126 is finished\t\n"
      ]
     },
     "execution_count": 35,
     "metadata": {},
     "output_type": "execute_result"
    },
    {
     "data": {
      "text/plain": [
       "Top nil feature map classification: \tshower cap 8.0120143890381\t\n",
       "3.3049466609955\t\n",
       "127 is finished\t\n"
      ]
     },
     "execution_count": 35,
     "metadata": {},
     "output_type": "execute_result"
    },
    {
     "data": {
      "text/plain": [
       "Top nil feature map classification: \tgoldfish, Carassius auratus 28.937520980835\t\n",
       "28.937520980835\t\n",
       "128 is finished\t\n"
      ]
     },
     "execution_count": 35,
     "metadata": {},
     "output_type": "execute_result"
    },
    {
     "data": {
      "text/plain": [
       "Top nil feature map classification: \tgoldfish, Carassius auratus 21.095991134644\t\n",
       "21.095991134644\t\n",
       "129 is finished\t\n"
      ]
     },
     "execution_count": 35,
     "metadata": {},
     "output_type": "execute_result"
    },
    {
     "data": {
      "text/plain": [
       "Top nil feature map classification: \tconch 19.637666702271\t\n",
       "17.09635925293\t\n",
       "130 is finished\t\n"
      ]
     },
     "execution_count": 35,
     "metadata": {},
     "output_type": "execute_result"
    },
    {
     "data": {
      "text/plain": [
       "Top nil feature map classification: \tgoldfish, Carassius auratus 17.268440246582\t\n",
       "17.268440246582\t\n",
       "131 is finished\t\n"
      ]
     },
     "execution_count": 35,
     "metadata": {},
     "output_type": "execute_result"
    },
    {
     "data": {
      "text/plain": [
       "Top nil feature map classification: \tgoldfish, Carassius auratus 25.135606765747\t\n",
       "25.135606765747\t\n",
       "132 is finished\t\n"
      ]
     },
     "execution_count": 35,
     "metadata": {},
     "output_type": "execute_result"
    },
    {
     "data": {
      "text/plain": [
       "Top nil feature map classification: \tgoldfish, Carassius auratus 12.608521461487\t\n",
       "12.608521461487\t\n",
       "133 is finished\t\n"
      ]
     },
     "execution_count": 35,
     "metadata": {},
     "output_type": "execute_result"
    },
    {
     "data": {
      "text/plain": [
       "Top nil feature map classification: \tgoldfish, Carassius auratus 19.118572235107\t\n",
       "19.118572235107\t\n",
       "134 is finished\t\n"
      ]
     },
     "execution_count": 35,
     "metadata": {},
     "output_type": "execute_result"
    },
    {
     "data": {
      "text/plain": [
       "Top nil feature map classification: \tgoldfish, Carassius auratus 19.643419265747\t\n",
       "19.643419265747\t\n",
       "135 is finished\t\n"
      ]
     },
     "execution_count": 35,
     "metadata": {},
     "output_type": "execute_result"
    },
    {
     "data": {
      "text/plain": [
       "Top nil feature map classification: \tgoldfish, Carassius auratus 15.099168777466\t\n",
       "15.099168777466\t\n",
       "136 is finished\t\n"
      ]
     },
     "execution_count": 35,
     "metadata": {},
     "output_type": "execute_result"
    },
    {
     "data": {
      "text/plain": [
       "Top nil feature map classification: \tgoldfish, Carassius auratus 11.834283828735\t\n",
       "11.834283828735\t\n",
       "137 is finished\t\n"
      ]
     },
     "execution_count": 35,
     "metadata": {},
     "output_type": "execute_result"
    },
    {
     "data": {
      "text/plain": [
       "Top nil feature map classification: \tgoldfish, Carassius auratus 14.692891120911\t\n",
       "14.692891120911\t\n",
       "138 is finished\t\n"
      ]
     },
     "execution_count": 35,
     "metadata": {},
     "output_type": "execute_result"
    },
    {
     "data": {
      "text/plain": [
       "Top nil feature map classification: \tgoldfish, Carassius auratus 25.638509750366\t\n",
       "25.638509750366\t\n",
       "139 is finished\t\n"
      ]
     },
     "execution_count": 35,
     "metadata": {},
     "output_type": "execute_result"
    },
    {
     "data": {
      "text/plain": [
       "Top nil feature map classification: \tgoldfish, Carassius auratus 19.676124572754\t\n",
       "19.676124572754\t\n",
       "140 is finished\t\n"
      ]
     },
     "execution_count": 35,
     "metadata": {},
     "output_type": "execute_result"
    },
    {
     "data": {
      "text/plain": [
       "Top nil feature map classification: \tgoldfish, Carassius auratus 26.252599716187\t\n",
       "26.252599716187\t\n",
       "141 is finished\t\n"
      ]
     },
     "execution_count": 35,
     "metadata": {},
     "output_type": "execute_result"
    },
    {
     "data": {
      "text/plain": [
       "Top nil feature map classification: \tgoldfish, Carassius auratus 19.997457504272\t\n",
       "19.997457504272\t\n",
       "142 is finished\t\n"
      ]
     },
     "execution_count": 35,
     "metadata": {},
     "output_type": "execute_result"
    },
    {
     "data": {
      "text/plain": [
       "Top nil feature map classification: \tgoldfish, Carassius auratus 16.319307327271\t\n",
       "16.319307327271\t\n",
       "143 is finished\t\n"
      ]
     },
     "execution_count": 35,
     "metadata": {},
     "output_type": "execute_result"
    },
    {
     "data": {
      "text/plain": [
       "Top nil feature map classification: \tgoldfish, Carassius auratus 11.786159515381\t\n",
       "11.786159515381\t\n",
       "144 is finished\t\n"
      ]
     },
     "execution_count": 35,
     "metadata": {},
     "output_type": "execute_result"
    },
    {
     "data": {
      "text/plain": [
       "Top nil feature map classification: \tgoldfish, Carassius auratus 14.357019424438\t\n",
       "14.357019424438\t\n",
       "145 is finished\t\n"
      ]
     },
     "execution_count": 35,
     "metadata": {},
     "output_type": "execute_result"
    },
    {
     "data": {
      "text/plain": [
       "Top nil feature map classification: \tgoldfish, Carassius auratus 10.607625961304\t\n",
       "10.607625961304\t\n",
       "146 is finished\t\n"
      ]
     },
     "execution_count": 35,
     "metadata": {},
     "output_type": "execute_result"
    },
    {
     "data": {
      "text/plain": [
       "Top nil feature map classification: \tice lolly, lolly, lollipop, popsicle 8.8568229675293\t\n",
       "7.0804190635681\t\n",
       "147 is finished\t\n"
      ]
     },
     "execution_count": 35,
     "metadata": {},
     "output_type": "execute_result"
    },
    {
     "data": {
      "text/plain": [
       "Top nil feature map classification: \tgoldfish, Carassius auratus 24.888593673706\t\n",
       "24.888593673706\t\n",
       "148 is finished\t\n"
      ]
     },
     "execution_count": 35,
     "metadata": {},
     "output_type": "execute_result"
    },
    {
     "data": {
      "text/plain": [
       "Top nil feature map classification: \tgoldfish, Carassius auratus 28.695482254028\t\n",
       "28.695482254028\t\n",
       "149 is finished\t\n"
      ]
     },
     "execution_count": 35,
     "metadata": {},
     "output_type": "execute_result"
    },
    {
     "data": {
      "text/plain": [
       "Top nil feature map classification: \tgoldfish, Carassius auratus 30.911436080933\t\n",
       "30.911436080933\t\n",
       "150 is finished\t\n"
      ]
     },
     "execution_count": 35,
     "metadata": {},
     "output_type": "execute_result"
    },
    {
     "data": {
      "text/plain": [
       "Top nil feature map classification: \tgoldfish, Carassius auratus 21.928834915161\t\n",
       "21.928834915161\t\n",
       "151 is finished\t\n"
      ]
     },
     "execution_count": 35,
     "metadata": {},
     "output_type": "execute_result"
    },
    {
     "data": {
      "text/plain": [
       "Top nil feature map classification: \tgoldfish, Carassius auratus 11.607866287231\t\n",
       "11.607866287231\t\n",
       "152 is finished\t\n"
      ]
     },
     "execution_count": 35,
     "metadata": {},
     "output_type": "execute_result"
    },
    {
     "data": {
      "text/plain": [
       "Top nil feature map classification: \tgoldfish, Carassius auratus 27.640628814697\t\n",
       "27.640628814697\t\n",
       "153 is finished\t\n"
      ]
     },
     "execution_count": 35,
     "metadata": {},
     "output_type": "execute_result"
    },
    {
     "data": {
      "text/plain": [
       "Top nil feature map classification: \tgoldfish, Carassius auratus 16.181198120117\t\n",
       "16.181198120117\t\n",
       "154 is finished\t\n"
      ]
     },
     "execution_count": 35,
     "metadata": {},
     "output_type": "execute_result"
    },
    {
     "data": {
      "text/plain": [
       "Top nil feature map classification: \tgoldfish, Carassius auratus 17.178861618042\t\n",
       "17.178861618042\t\n",
       "155 is finished\t\n"
      ]
     },
     "execution_count": 35,
     "metadata": {},
     "output_type": "execute_result"
    },
    {
     "data": {
      "text/plain": [
       "Top nil feature map classification: \tgoldfish, Carassius auratus 32.274925231934\t\n",
       "32.274925231934\t\n",
       "156 is finished\t\n"
      ]
     },
     "execution_count": 35,
     "metadata": {},
     "output_type": "execute_result"
    },
    {
     "data": {
      "text/plain": [
       "Top nil feature map classification: \tgoldfish, Carassius auratus 26.176765441895\t\n",
       "26.176765441895\t\n",
       "157 is finished\t\n"
      ]
     },
     "execution_count": 35,
     "metadata": {},
     "output_type": "execute_result"
    },
    {
     "data": {
      "text/plain": [
       "Top nil feature map classification: \tgoldfish, Carassius auratus 10.695657730103\t\n",
       "10.695657730103\t\n",
       "158 is finished\t\n"
      ]
     },
     "execution_count": 35,
     "metadata": {},
     "output_type": "execute_result"
    },
    {
     "data": {
      "text/plain": [
       "Top nil feature map classification: \tgoldfish, Carassius auratus 25.433887481689\t\n",
       "25.433887481689\t\n",
       "159 is finished\t\n"
      ]
     },
     "execution_count": 35,
     "metadata": {},
     "output_type": "execute_result"
    },
    {
     "data": {
      "text/plain": [
       "Top nil feature map classification: \tpinwheel 9.6190929412842\t\n",
       "8.6946220397949\t\n",
       "160 is finished\t\n"
      ]
     },
     "execution_count": 35,
     "metadata": {},
     "output_type": "execute_result"
    },
    {
     "data": {
      "text/plain": [
       "Top nil feature map classification: \tgoldfish, Carassius auratus 15.969423294067\t\n",
       "15.969423294067\t\n",
       "161 is finished\t\n"
      ]
     },
     "execution_count": 35,
     "metadata": {},
     "output_type": "execute_result"
    },
    {
     "data": {
      "text/plain": [
       "Top nil feature map classification: \tgoldfish, Carassius auratus 23.621845245361\t\n",
       "23.621845245361\t\n",
       "162 is finished\t\n"
      ]
     },
     "execution_count": 35,
     "metadata": {},
     "output_type": "execute_result"
    },
    {
     "data": {
      "text/plain": [
       "Top nil feature map classification: \tgoldfish, Carassius auratus 20.076211929321\t\n",
       "20.076211929321\t\n",
       "163 is finished\t\n"
      ]
     },
     "execution_count": 35,
     "metadata": {},
     "output_type": "execute_result"
    },
    {
     "data": {
      "text/plain": [
       "Top nil feature map classification: \tgoldfish, Carassius auratus 13.439601898193\t\n",
       "13.439601898193\t\n",
       "164 is finished\t\n"
      ]
     },
     "execution_count": 35,
     "metadata": {},
     "output_type": "execute_result"
    },
    {
     "data": {
      "text/plain": [
       "Top nil feature map classification: \tgoldfish, Carassius auratus 16.485439300537\t\n",
       "16.485439300537\t\n",
       "165 is finished\t\n"
      ]
     },
     "execution_count": 35,
     "metadata": {},
     "output_type": "execute_result"
    },
    {
     "data": {
      "text/plain": [
       "Top nil feature map classification: \tgoldfish, Carassius auratus 23.364027023315\t\n",
       "23.364027023315\t\n",
       "166 is finished\t\n"
      ]
     },
     "execution_count": 35,
     "metadata": {},
     "output_type": "execute_result"
    },
    {
     "data": {
      "text/plain": [
       "Top nil feature map classification: \tsoup bowl 7.0874528884888\t\n",
       "6.2780756950378\t\n",
       "167 is finished\t\n"
      ]
     },
     "execution_count": 35,
     "metadata": {},
     "output_type": "execute_result"
    },
    {
     "data": {
      "text/plain": [
       "Top nil feature map classification: \tgoldfish, Carassius auratus 11.927087783813\t\n",
       "11.927087783813\t\n",
       "168 is finished\t\n"
      ]
     },
     "execution_count": 35,
     "metadata": {},
     "output_type": "execute_result"
    },
    {
     "data": {
      "text/plain": [
       "Top nil feature map classification: \taltar 11.008859634399\t\n",
       "9.7495985031128\t\n",
       "169 is finished\t\n"
      ]
     },
     "execution_count": 35,
     "metadata": {},
     "output_type": "execute_result"
    },
    {
     "data": {
      "text/plain": [
       "Top nil feature map classification: \tgoldfish, Carassius auratus 20.767999649048\t\n",
       "20.767999649048\t\n",
       "170 is finished\t\n"
      ]
     },
     "execution_count": 35,
     "metadata": {},
     "output_type": "execute_result"
    },
    {
     "data": {
      "text/plain": [
       "Top nil feature map classification: \tgoldfish, Carassius auratus 16.160297393799\t\n",
       "16.160297393799\t\n",
       "171 is finished\t\n"
      ]
     },
     "execution_count": 35,
     "metadata": {},
     "output_type": "execute_result"
    },
    {
     "data": {
      "text/plain": [
       "Top nil feature map classification: \tgoldfish, Carassius auratus 18.436004638672\t\n",
       "18.436004638672\t\n",
       "172 is finished\t\n"
      ]
     },
     "execution_count": 35,
     "metadata": {},
     "output_type": "execute_result"
    },
    {
     "data": {
      "text/plain": [
       "Top nil feature map classification: \tgoldfish, Carassius auratus 16.746858596802\t\n",
       "16.746858596802\t\n",
       "173 is finished\t\n"
      ]
     },
     "execution_count": 35,
     "metadata": {},
     "output_type": "execute_result"
    },
    {
     "data": {
      "text/plain": [
       "Top nil feature map classification: \tgoldfish, Carassius auratus 19.799406051636\t\n",
       "19.799406051636\t\n",
       "174 is finished\t\n"
      ]
     },
     "execution_count": 35,
     "metadata": {},
     "output_type": "execute_result"
    },
    {
     "data": {
      "text/plain": [
       "Top nil feature map classification: \tgoldfish, Carassius auratus 23.89813041687\t\n",
       "23.89813041687\t\n",
       "175 is finished\t\n"
      ]
     },
     "execution_count": 35,
     "metadata": {},
     "output_type": "execute_result"
    },
    {
     "data": {
      "text/plain": [
       "Top nil feature map classification: \tgoldfish, Carassius auratus 10.688584327698\t\n",
       "10.688584327698\t\n",
       "176 is finished\t\n"
      ]
     },
     "execution_count": 35,
     "metadata": {},
     "output_type": "execute_result"
    },
    {
     "data": {
      "text/plain": [
       "Top nil feature map classification: \tgoldfish, Carassius auratus 33.231117248535\t\n",
       "33.231117248535\t\n",
       "177 is finished\t\n"
      ]
     },
     "execution_count": 35,
     "metadata": {},
     "output_type": "execute_result"
    },
    {
     "data": {
      "text/plain": [
       "Top nil feature map classification: \tgoldfish, Carassius auratus 26.331575393677\t\n",
       "26.331575393677\t\n",
       "178 is finished\t\n"
      ]
     },
     "execution_count": 35,
     "metadata": {},
     "output_type": "execute_result"
    },
    {
     "data": {
      "text/plain": [
       "Top nil feature map classification: \tgoldfish, Carassius auratus 19.433120727539\t\n",
       "19.433120727539\t\n",
       "179 is finished\t\n"
      ]
     },
     "execution_count": 35,
     "metadata": {},
     "output_type": "execute_result"
    },
    {
     "data": {
      "text/plain": [
       "Top nil feature map classification: \tpencil sharpener 8.6978406906128\t\n",
       "8.6255502700806\t\n",
       "180 is finished\t\n"
      ]
     },
     "execution_count": 35,
     "metadata": {},
     "output_type": "execute_result"
    },
    {
     "data": {
      "text/plain": [
       "Top nil feature map classification: \tgoldfish, Carassius auratus 23.027231216431\t\n",
       "23.027231216431\t\n",
       "181 is finished\t\n"
      ]
     },
     "execution_count": 35,
     "metadata": {},
     "output_type": "execute_result"
    },
    {
     "data": {
      "text/plain": [
       "Top nil feature map classification: \tgoldfish, Carassius auratus 10.534405708313\t\n",
       "10.534405708313\t\n",
       "182 is finished\t\n"
      ]
     },
     "execution_count": 35,
     "metadata": {},
     "output_type": "execute_result"
    },
    {
     "data": {
      "text/plain": [
       "Top nil feature map classification: \tgoldfish, Carassius auratus 13.759716033936\t\n",
       "13.759716033936\t\n",
       "183 is finished\t\n"
      ]
     },
     "execution_count": 35,
     "metadata": {},
     "output_type": "execute_result"
    },
    {
     "data": {
      "text/plain": [
       "Top nil feature map classification: \tgoldfish, Carassius auratus 23.339305877686\t\n",
       "23.339305877686\t\n",
       "184 is finished\t\n"
      ]
     },
     "execution_count": 35,
     "metadata": {},
     "output_type": "execute_result"
    },
    {
     "data": {
      "text/plain": [
       "Top nil feature map classification: \tgoldfish, Carassius auratus 13.886038780212\t\n",
       "13.886038780212\t\n",
       "185 is finished\t\n"
      ]
     },
     "execution_count": 35,
     "metadata": {},
     "output_type": "execute_result"
    },
    {
     "data": {
      "text/plain": [
       "Top nil feature map classification: \tgoldfish, Carassius auratus 29.3069896698\t\n",
       "29.3069896698\t\n",
       "186 is finished\t\n"
      ]
     },
     "execution_count": 35,
     "metadata": {},
     "output_type": "execute_result"
    },
    {
     "data": {
      "text/plain": [
       "Top nil feature map classification: \tgoldfish, Carassius auratus 10.693246841431\t\n",
       "10.693246841431\t\n",
       "187 is finished\t\n"
      ]
     },
     "execution_count": 35,
     "metadata": {},
     "output_type": "execute_result"
    },
    {
     "data": {
      "text/plain": [
       "Top nil feature map classification: \tgoldfish, Carassius auratus 45.302276611328\t\n",
       "45.302276611328\t\n",
       "188 is finished\t\n"
      ]
     },
     "execution_count": 35,
     "metadata": {},
     "output_type": "execute_result"
    },
    {
     "data": {
      "text/plain": [
       "Top nil feature map classification: \tgoldfish, Carassius auratus 26.148195266724\t\n",
       "26.148195266724\t\n",
       "189 is finished\t\n"
      ]
     },
     "execution_count": 35,
     "metadata": {},
     "output_type": "execute_result"
    },
    {
     "data": {
      "text/plain": [
       "Top nil feature map classification: \tgoldfish, Carassius auratus 24.140428543091\t\n",
       "24.140428543091\t\n",
       "190 is finished\t\n"
      ]
     },
     "execution_count": 35,
     "metadata": {},
     "output_type": "execute_result"
    },
    {
     "data": {
      "text/plain": [
       "Top nil feature map classification: \tgoldfish, Carassius auratus 23.076990127563\t\n",
       "23.076990127563\t\n",
       "191 is finished\t\n"
      ]
     },
     "execution_count": 35,
     "metadata": {},
     "output_type": "execute_result"
    },
    {
     "data": {
      "text/plain": [
       "Top nil feature map classification: \tbubble 11.135743141174\t\n",
       "5.6253933906555\t\n",
       "192 is finished\t\n"
      ]
     },
     "execution_count": 35,
     "metadata": {},
     "output_type": "execute_result"
    },
    {
     "data": {
      "text/plain": [
       "Top nil feature map classification: \tgoldfish, Carassius auratus 15.765377998352\t\n",
       "15.765377998352\t\n",
       "193 is finished\t\n"
      ]
     },
     "execution_count": 35,
     "metadata": {},
     "output_type": "execute_result"
    },
    {
     "data": {
      "text/plain": [
       "Top nil feature map classification: \tgoldfish, Carassius auratus 17.900630950928\t\n",
       "17.900630950928\t\n",
       "194 is finished\t\n"
      ]
     },
     "execution_count": 35,
     "metadata": {},
     "output_type": "execute_result"
    },
    {
     "data": {
      "text/plain": [
       "Top nil feature map classification: \tgoldfish, Carassius auratus 14.766445159912\t\n",
       "14.766445159912\t\n",
       "195 is finished\t\n"
      ]
     },
     "execution_count": 35,
     "metadata": {},
     "output_type": "execute_result"
    },
    {
     "data": {
      "text/plain": [
       "Top nil feature map classification: \tgoldfish, Carassius auratus 20.763000488281\t\n",
       "20.763000488281\t\n",
       "196 is finished\t\n"
      ]
     },
     "execution_count": 35,
     "metadata": {},
     "output_type": "execute_result"
    },
    {
     "data": {
      "text/plain": [
       "Top nil feature map classification: \tgoldfish, Carassius auratus 22.945026397705\t\n",
       "22.945026397705\t\n",
       "197 is finished\t\n"
      ]
     },
     "execution_count": 35,
     "metadata": {},
     "output_type": "execute_result"
    },
    {
     "data": {
      "text/plain": [
       "Top nil feature map classification: \tgoldfish, Carassius auratus 28.890218734741\t\n",
       "28.890218734741\t\n",
       "198 is finished\t\n"
      ]
     },
     "execution_count": 35,
     "metadata": {},
     "output_type": "execute_result"
    },
    {
     "data": {
      "text/plain": [
       "Top nil feature map classification: \tgoldfish, Carassius auratus 9.1286401748657\t\n",
       "9.1286401748657\t\n",
       "199 is finished\t\n"
      ]
     },
     "execution_count": 35,
     "metadata": {},
     "output_type": "execute_result"
    },
    {
     "data": {
      "text/plain": [
       "Top nil feature map classification: \tgoldfish, Carassius auratus 9.4350843429565\t\n",
       "9.4350843429565\t\n",
       "200 is finished\t\n"
      ]
     },
     "execution_count": 35,
     "metadata": {},
     "output_type": "execute_result"
    },
    {
     "data": {
      "text/plain": [
       "Top nil feature map classification: \tgoldfish, Carassius auratus 15.441035270691\t\n",
       "15.441035270691\t\n",
       "201 is finished\t\n"
      ]
     },
     "execution_count": 35,
     "metadata": {},
     "output_type": "execute_result"
    },
    {
     "data": {
      "text/plain": [
       "Top nil feature map classification: \tscuba diver 7.7670097351074\t\n",
       "6.7729797363281\t\n",
       "202 is finished\t\n"
      ]
     },
     "execution_count": 35,
     "metadata": {},
     "output_type": "execute_result"
    },
    {
     "data": {
      "text/plain": [
       "Top nil feature map classification: \tgoldfish, Carassius auratus 20.08166885376\t\n",
       "20.08166885376\t\n",
       "203 is finished\t\n"
      ]
     },
     "execution_count": 35,
     "metadata": {},
     "output_type": "execute_result"
    },
    {
     "data": {
      "text/plain": [
       "Top nil feature map classification: \tgoldfish, Carassius auratus 26.948181152344\t\n",
       "26.948181152344\t\n",
       "204 is finished\t\n"
      ]
     },
     "execution_count": 35,
     "metadata": {},
     "output_type": "execute_result"
    },
    {
     "data": {
      "text/plain": [
       "Top nil feature map classification: \tgoldfish, Carassius auratus 15.651576042175\t\n",
       "15.651576042175\t\n",
       "205 is finished\t\n"
      ]
     },
     "execution_count": 35,
     "metadata": {},
     "output_type": "execute_result"
    },
    {
     "data": {
      "text/plain": [
       "Top nil feature map classification: \tgoldfish, Carassius auratus 8.0999717712402\t\n",
       "8.0999717712402\t\n",
       "206 is finished\t\n"
      ]
     },
     "execution_count": 35,
     "metadata": {},
     "output_type": "execute_result"
    },
    {
     "data": {
      "text/plain": [
       "Top nil feature map classification: \tgoldfish, Carassius auratus 11.600300788879\t\n",
       "11.600300788879\t\n",
       "207 is finished\t\n"
      ]
     },
     "execution_count": 35,
     "metadata": {},
     "output_type": "execute_result"
    },
    {
     "data": {
      "text/plain": [
       "Top nil feature map classification: \tgoldfish, Carassius auratus 23.304220199585\t\n",
       "23.304220199585\t\n",
       "208 is finished\t\n"
      ]
     },
     "execution_count": 35,
     "metadata": {},
     "output_type": "execute_result"
    },
    {
     "data": {
      "text/plain": [
       "Top nil feature map classification: \tgoldfish, Carassius auratus 17.893407821655\t\n",
       "17.893407821655\t\n",
       "209 is finished\t\n"
      ]
     },
     "execution_count": 35,
     "metadata": {},
     "output_type": "execute_result"
    },
    {
     "data": {
      "text/plain": [
       "Top nil feature map classification: \tgoldfish, Carassius auratus 21.522651672363\t\n",
       "21.522651672363\t\n",
       "210 is finished\t\n"
      ]
     },
     "execution_count": 35,
     "metadata": {},
     "output_type": "execute_result"
    },
    {
     "data": {
      "text/plain": [
       "Top nil feature map classification: \tgoldfish, Carassius auratus 23.119916915894\t\n",
       "23.119916915894\t\n",
       "211 is finished\t\n"
      ]
     },
     "execution_count": 35,
     "metadata": {},
     "output_type": "execute_result"
    },
    {
     "data": {
      "text/plain": [
       "Top nil feature map classification: \tgoldfish, Carassius auratus 20.750158309937\t\n",
       "20.750158309937\t\n",
       "212 is finished\t\n"
      ]
     },
     "execution_count": 35,
     "metadata": {},
     "output_type": "execute_result"
    },
    {
     "data": {
      "text/plain": [
       "Top nil feature map classification: \tgoldfish, Carassius auratus 22.449234008789\t\n",
       "22.449234008789\t\n",
       "213 is finished\t\n"
      ]
     },
     "execution_count": 35,
     "metadata": {},
     "output_type": "execute_result"
    },
    {
     "data": {
      "text/plain": [
       "Top nil feature map classification: \tgoldfish, Carassius auratus 23.903720855713\t\n",
       "23.903720855713\t\n",
       "214 is finished\t\n"
      ]
     },
     "execution_count": 35,
     "metadata": {},
     "output_type": "execute_result"
    },
    {
     "data": {
      "text/plain": [
       "Top nil feature map classification: \tgoldfish, Carassius auratus 9.4010534286499\t\n",
       "9.4010534286499\t\n",
       "215 is finished\t\n"
      ]
     },
     "execution_count": 35,
     "metadata": {},
     "output_type": "execute_result"
    },
    {
     "data": {
      "text/plain": [
       "Top nil feature map classification: \tgoldfish, Carassius auratus 14.587979316711\t\n",
       "14.587979316711\t\n",
       "216 is finished\t\n"
      ]
     },
     "execution_count": 35,
     "metadata": {},
     "output_type": "execute_result"
    },
    {
     "data": {
      "text/plain": [
       "Top nil feature map classification: \tgoldfish, Carassius auratus 24.138156890869\t\n",
       "24.138156890869\t\n",
       "217 is finished\t\n"
      ]
     },
     "execution_count": 35,
     "metadata": {},
     "output_type": "execute_result"
    },
    {
     "data": {
      "text/plain": [
       "Top nil feature map classification: \tgoldfish, Carassius auratus 28.683301925659\t\n",
       "28.683301925659\t\n",
       "218 is finished\t\n"
      ]
     },
     "execution_count": 35,
     "metadata": {},
     "output_type": "execute_result"
    },
    {
     "data": {
      "text/plain": [
       "Top nil feature map classification: \tgoldfish, Carassius auratus 13.696730613708\t\n",
       "13.696730613708\t\n",
       "219 is finished\t\n"
      ]
     },
     "execution_count": 35,
     "metadata": {},
     "output_type": "execute_result"
    },
    {
     "data": {
      "text/plain": [
       "Top nil feature map classification: \tgoldfish, Carassius auratus 10.589731216431\t\n",
       "10.589731216431\t\n",
       "220 is finished\t\n"
      ]
     },
     "execution_count": 35,
     "metadata": {},
     "output_type": "execute_result"
    },
    {
     "data": {
      "text/plain": [
       "Top nil feature map classification: \tgoldfish, Carassius auratus 23.422693252563\t\n",
       "23.422693252563\t\n",
       "221 is finished\t\n"
      ]
     },
     "execution_count": 35,
     "metadata": {},
     "output_type": "execute_result"
    },
    {
     "data": {
      "text/plain": [
       "Top nil feature map classification: \tgoldfish, Carassius auratus 32.51180267334\t\n",
       "32.51180267334\t\n",
       "222 is finished\t\n"
      ]
     },
     "execution_count": 35,
     "metadata": {},
     "output_type": "execute_result"
    },
    {
     "data": {
      "text/plain": [
       "Top nil feature map classification: \tgoldfish, Carassius auratus 22.91109085083\t\n",
       "22.91109085083\t\n",
       "223 is finished\t\n"
      ]
     },
     "execution_count": 35,
     "metadata": {},
     "output_type": "execute_result"
    },
    {
     "data": {
      "text/plain": [
       "Top nil feature map classification: \tgoldfish, Carassius auratus 19.824995040894\t\n",
       "19.824995040894\t\n",
       "224 is finished\t\n"
      ]
     },
     "execution_count": 35,
     "metadata": {},
     "output_type": "execute_result"
    },
    {
     "data": {
      "text/plain": [
       "Top nil feature map classification: \tgoldfish, Carassius auratus 14.571892738342\t\n",
       "14.571892738342\t\n",
       "225 is finished\t\n"
      ]
     },
     "execution_count": 35,
     "metadata": {},
     "output_type": "execute_result"
    },
    {
     "data": {
      "text/plain": [
       "Top nil feature map classification: \tgoldfish, Carassius auratus 27.752256393433\t\n",
       "27.752256393433\t\n",
       "226 is finished\t\n"
      ]
     },
     "execution_count": 35,
     "metadata": {},
     "output_type": "execute_result"
    },
    {
     "data": {
      "text/plain": [
       "Top nil feature map classification: \tgoldfish, Carassius auratus 33.556076049805\t\n",
       "33.556076049805\t\n",
       "227 is finished\t\n"
      ]
     },
     "execution_count": 35,
     "metadata": {},
     "output_type": "execute_result"
    },
    {
     "data": {
      "text/plain": [
       "Top nil feature map classification: \tgoldfish, Carassius auratus 26.380149841309\t\n",
       "26.380149841309\t\n",
       "228 is finished\t\n"
      ]
     },
     "execution_count": 35,
     "metadata": {},
     "output_type": "execute_result"
    },
    {
     "data": {
      "text/plain": [
       "Top nil feature map classification: \tgoldfish, Carassius auratus 15.405663490295\t\n",
       "15.405663490295\t\n",
       "229 is finished\t\n"
      ]
     },
     "execution_count": 35,
     "metadata": {},
     "output_type": "execute_result"
    },
    {
     "data": {
      "text/plain": [
       "Top nil feature map classification: \tgoldfish, Carassius auratus 10.566007614136\t\n",
       "10.566007614136\t\n",
       "230 is finished\t\n"
      ]
     },
     "execution_count": 35,
     "metadata": {},
     "output_type": "execute_result"
    },
    {
     "data": {
      "text/plain": [
       "Top nil feature map classification: \tgoldfish, Carassius auratus 20.327007293701\t\n",
       "20.327007293701\t\n",
       "231 is finished\t\n"
      ]
     },
     "execution_count": 35,
     "metadata": {},
     "output_type": "execute_result"
    },
    {
     "data": {
      "text/plain": [
       "Top nil feature map classification: \tchest 8.0966596603394\t\n",
       "5.5683617591858\t\n",
       "232 is finished\t\n"
      ]
     },
     "execution_count": 35,
     "metadata": {},
     "output_type": "execute_result"
    },
    {
     "data": {
      "text/plain": [
       "Top nil feature map classification: \tgoldfish, Carassius auratus 15.090817451477\t\n",
       "15.090817451477\t\n",
       "233 is finished\t\n"
      ]
     },
     "execution_count": 35,
     "metadata": {},
     "output_type": "execute_result"
    },
    {
     "data": {
      "text/plain": [
       "Top nil feature map classification: \tgoldfish, Carassius auratus 21.564626693726\t\n",
       "21.564626693726\t\n",
       "234 is finished\t\n"
      ]
     },
     "execution_count": 35,
     "metadata": {},
     "output_type": "execute_result"
    },
    {
     "data": {
      "text/plain": [
       "Top nil feature map classification: \tgoldfish, Carassius auratus 21.701658248901\t\n",
       "21.701658248901\t\n",
       "235 is finished\t\n"
      ]
     },
     "execution_count": 35,
     "metadata": {},
     "output_type": "execute_result"
    },
    {
     "data": {
      "text/plain": [
       "Top nil feature map classification: \thourglass 12.230556488037\t\n",
       "4.2728981971741\t\n",
       "236 is finished\t\n"
      ]
     },
     "execution_count": 35,
     "metadata": {},
     "output_type": "execute_result"
    },
    {
     "data": {
      "text/plain": [
       "Top nil feature map classification: \tgoldfish, Carassius auratus 22.786151885986\t\n",
       "22.786151885986\t\n",
       "237 is finished\t\n"
      ]
     },
     "execution_count": 35,
     "metadata": {},
     "output_type": "execute_result"
    },
    {
     "data": {
      "text/plain": [
       "Top nil feature map classification: \tshower curtain 9.9708261489868\t\n",
       "6.9603590965271\t\n",
       "238 is finished\t\n"
      ]
     },
     "execution_count": 35,
     "metadata": {},
     "output_type": "execute_result"
    },
    {
     "data": {
      "text/plain": [
       "Top nil feature map classification: \tgoldfish, Carassius auratus 19.582006454468\t\n",
       "19.582006454468\t\n",
       "239 is finished\t\n"
      ]
     },
     "execution_count": 35,
     "metadata": {},
     "output_type": "execute_result"
    },
    {
     "data": {
      "text/plain": [
       "Top nil feature map classification: \tgoldfish, Carassius auratus 40.868320465088\t\n",
       "40.868320465088\t\n",
       "240 is finished\t\n"
      ]
     },
     "execution_count": 35,
     "metadata": {},
     "output_type": "execute_result"
    },
    {
     "data": {
      "text/plain": [
       "Top nil feature map classification: \tgoldfish, Carassius auratus 11.126521110535\t\n",
       "11.126521110535\t\n",
       "241 is finished\t\n"
      ]
     },
     "execution_count": 35,
     "metadata": {},
     "output_type": "execute_result"
    },
    {
     "data": {
      "text/plain": [
       "Top nil feature map classification: \tgoldfish, Carassius auratus 13.320269584656\t\n",
       "13.320269584656\t\n",
       "242 is finished\t\n"
      ]
     },
     "execution_count": 35,
     "metadata": {},
     "output_type": "execute_result"
    },
    {
     "data": {
      "text/plain": [
       "Top nil feature map classification: \tgoldfish, Carassius auratus 29.213998794556\t\n",
       "29.213998794556\t\n",
       "243 is finished\t\n"
      ]
     },
     "execution_count": 35,
     "metadata": {},
     "output_type": "execute_result"
    },
    {
     "data": {
      "text/plain": [
       "Top nil feature map classification: \tgoldfish, Carassius auratus 20.600807189941\t\n",
       "20.600807189941\t\n",
       "244 is finished\t\n"
      ]
     },
     "execution_count": 35,
     "metadata": {},
     "output_type": "execute_result"
    },
    {
     "data": {
      "text/plain": [
       "Top nil feature map classification: \tgoldfish, Carassius auratus 18.268058776855\t\n",
       "18.268058776855\t\n",
       "245 is finished\t\n"
      ]
     },
     "execution_count": 35,
     "metadata": {},
     "output_type": "execute_result"
    },
    {
     "data": {
      "text/plain": [
       "Top nil feature map classification: \tgoldfish, Carassius auratus 7.8873333930969\t\n",
       "7.8873333930969\t\n",
       "246 is finished\t\n"
      ]
     },
     "execution_count": 35,
     "metadata": {},
     "output_type": "execute_result"
    },
    {
     "data": {
      "text/plain": [
       "Top nil feature map classification: \tgoldfish, Carassius auratus 45.21558380127\t\n",
       "45.21558380127\t\n",
       "247 is finished\t\n"
      ]
     },
     "execution_count": 35,
     "metadata": {},
     "output_type": "execute_result"
    },
    {
     "data": {
      "text/plain": [
       "Top nil feature map classification: \tgoldfish, Carassius auratus 18.070781707764\t\n",
       "18.070781707764\t\n",
       "248 is finished\t\n"
      ]
     },
     "execution_count": 35,
     "metadata": {},
     "output_type": "execute_result"
    },
    {
     "data": {
      "text/plain": [
       "Top nil feature map classification: \tgoldfish, Carassius auratus 15.003944396973\t\n",
       "15.003944396973\t\n",
       "249 is finished\t\n"
      ]
     },
     "execution_count": 35,
     "metadata": {},
     "output_type": "execute_result"
    },
    {
     "data": {
      "text/plain": [
       "Top nil feature map classification: \tgoldfish, Carassius auratus 19.586929321289\t\n"
      ]
     },
     "execution_count": 35,
     "metadata": {},
     "output_type": "execute_result"
    },
    {
     "data": {
      "text/plain": [
       "19.586929321289\t\n",
       "250 is finished\t\n"
      ]
     },
     "execution_count": 35,
     "metadata": {},
     "output_type": "execute_result"
    },
    {
     "data": {
      "text/plain": [
       "Top nil feature map classification: \tAmerican alligator, Alligator mississipiensis 7.0267176628113\t\n",
       "6.5379199981689\t\n",
       "251 is finished\t\n"
      ]
     },
     "execution_count": 35,
     "metadata": {},
     "output_type": "execute_result"
    },
    {
     "data": {
      "text/plain": [
       "Top nil feature map classification: \tgoldfish, Carassius auratus 27.718860626221\t\n",
       "27.718860626221\t\n",
       "252 is finished\t\n"
      ]
     },
     "execution_count": 35,
     "metadata": {},
     "output_type": "execute_result"
    },
    {
     "data": {
      "text/plain": [
       "Top nil feature map classification: \tconsomme 12.291240692139\t\n",
       "6.9220051765442\t\n",
       "253 is finished\t\n"
      ]
     },
     "execution_count": 35,
     "metadata": {},
     "output_type": "execute_result"
    },
    {
     "data": {
      "text/plain": [
       "Top nil feature map classification: \tgoldfish, Carassius auratus 28.394971847534\t\n",
       "28.394971847534\t\n",
       "254 is finished\t\n"
      ]
     },
     "execution_count": 35,
     "metadata": {},
     "output_type": "execute_result"
    },
    {
     "data": {
      "text/plain": [
       "Top nil feature map classification: \tgoldfish, Carassius auratus 28.071453094482\t\n",
       "28.071453094482\t\n",
       "255 is finished\t\n"
      ]
     },
     "execution_count": 35,
     "metadata": {},
     "output_type": "execute_result"
    },
    {
     "data": {
      "text/plain": [
       "Top nil feature map classification: \tgoldfish, Carassius auratus 22.554309844971\t\n",
       "22.554309844971\t\n",
       "256 is finished\t\n"
      ]
     },
     "execution_count": 35,
     "metadata": {},
     "output_type": "execute_result"
    },
    {
     "data": {
      "text/plain": [
       "Top nil feature map classification: \tgoldfish, Carassius auratus 15.381593704224\t\n",
       "15.381593704224\t\n",
       "257 is finished\t\n"
      ]
     },
     "execution_count": 35,
     "metadata": {},
     "output_type": "execute_result"
    },
    {
     "data": {
      "text/plain": [
       "Top nil feature map classification: \tgoldfish, Carassius auratus 14.822881698608\t\n",
       "14.822881698608\t\n",
       "258 is finished\t\n"
      ]
     },
     "execution_count": 35,
     "metadata": {},
     "output_type": "execute_result"
    },
    {
     "data": {
      "text/plain": [
       "Top nil feature map classification: \tgoldfish, Carassius auratus 15.729208946228\t\n",
       "15.729208946228\t\n",
       "259 is finished\t\n"
      ]
     },
     "execution_count": 35,
     "metadata": {},
     "output_type": "execute_result"
    },
    {
     "data": {
      "text/plain": [
       "Top nil feature map classification: \tgoldfish, Carassius auratus 19.3681640625\t\n",
       "19.3681640625\t\n",
       "260 is finished\t\n"
      ]
     },
     "execution_count": 35,
     "metadata": {},
     "output_type": "execute_result"
    },
    {
     "data": {
      "text/plain": [
       "Top nil feature map classification: \tgoldfish, Carassius auratus 15.692613601685\t\n",
       "15.692613601685\t\n",
       "261 is finished\t\n"
      ]
     },
     "execution_count": 35,
     "metadata": {},
     "output_type": "execute_result"
    },
    {
     "data": {
      "text/plain": [
       "Top nil feature map classification: \tgoldfish, Carassius auratus 21.51767539978\t\n",
       "21.51767539978\t\n",
       "262 is finished\t\n"
      ]
     },
     "execution_count": 35,
     "metadata": {},
     "output_type": "execute_result"
    },
    {
     "data": {
      "text/plain": [
       "Top nil feature map classification: \tgoldfish, Carassius auratus 21.979272842407\t\n",
       "21.979272842407\t\n",
       "263 is finished\t\n"
      ]
     },
     "execution_count": 35,
     "metadata": {},
     "output_type": "execute_result"
    },
    {
     "data": {
      "text/plain": [
       "Top nil feature map classification: \tgoldfish, Carassius auratus 16.355857849121\t\n",
       "16.355857849121\t\n",
       "264 is finished\t\n"
      ]
     },
     "execution_count": 35,
     "metadata": {},
     "output_type": "execute_result"
    },
    {
     "data": {
      "text/plain": [
       "Top nil feature map classification: \tgoldfish, Carassius auratus 13.704123497009\t\n",
       "13.704123497009\t\n",
       "265 is finished\t\n"
      ]
     },
     "execution_count": 35,
     "metadata": {},
     "output_type": "execute_result"
    },
    {
     "data": {
      "text/plain": [
       "Top nil feature map classification: \tgoldfish, Carassius auratus 10.805027961731\t\n",
       "10.805027961731\t\n",
       "266 is finished\t\n"
      ]
     },
     "execution_count": 35,
     "metadata": {},
     "output_type": "execute_result"
    },
    {
     "data": {
      "text/plain": [
       "Top nil feature map classification: \tgoldfish, Carassius auratus 30.951700210571\t\n",
       "30.951700210571\t\n",
       "267 is finished\t\n"
      ]
     },
     "execution_count": 35,
     "metadata": {},
     "output_type": "execute_result"
    },
    {
     "data": {
      "text/plain": [
       "Top nil feature map classification: \tgoldfish, Carassius auratus 34.657810211182\t\n",
       "34.657810211182\t\n",
       "268 is finished\t\n"
      ]
     },
     "execution_count": 35,
     "metadata": {},
     "output_type": "execute_result"
    },
    {
     "data": {
      "text/plain": [
       "Top nil feature map classification: \tgoldfish, Carassius auratus 34.170146942139\t\n",
       "34.170146942139\t\n",
       "269 is finished\t\n"
      ]
     },
     "execution_count": 35,
     "metadata": {},
     "output_type": "execute_result"
    },
    {
     "data": {
      "text/plain": [
       "Top nil feature map classification: \tgoldfish, Carassius auratus 22.198568344116\t\n",
       "22.198568344116\t\n",
       "270 is finished\t\n"
      ]
     },
     "execution_count": 35,
     "metadata": {},
     "output_type": "execute_result"
    },
    {
     "data": {
      "text/plain": [
       "Top nil feature map classification: \tgoldfish, Carassius auratus 29.594654083252\t\n",
       "29.594654083252\t\n",
       "271 is finished\t\n"
      ]
     },
     "execution_count": 35,
     "metadata": {},
     "output_type": "execute_result"
    },
    {
     "data": {
      "text/plain": [
       "Top nil feature map classification: \tgoldfish, Carassius auratus 21.285364151001\t\n",
       "21.285364151001\t\n",
       "272 is finished\t\n"
      ]
     },
     "execution_count": 35,
     "metadata": {},
     "output_type": "execute_result"
    },
    {
     "data": {
      "text/plain": [
       "Top nil feature map classification: \tfiddler crab 12.803182601929\t\n",
       "11.850348472595\t\n"
      ]
     },
     "execution_count": 35,
     "metadata": {},
     "output_type": "execute_result"
    },
    {
     "data": {
      "text/plain": [
       "273 is finished\t\n"
      ]
     },
     "execution_count": 35,
     "metadata": {},
     "output_type": "execute_result"
    },
    {
     "data": {
      "text/plain": [
       "Top nil feature map classification: \tgoldfish, Carassius auratus 30.586721420288\t\n",
       "30.586721420288\t\n",
       "274 is finished\t\n"
      ]
     },
     "execution_count": 35,
     "metadata": {},
     "output_type": "execute_result"
    },
    {
     "data": {
      "text/plain": [
       "Top nil feature map classification: \tgoldfish, Carassius auratus 19.37869644165\t\n",
       "19.37869644165\t\n",
       "275 is finished\t\n"
      ]
     },
     "execution_count": 35,
     "metadata": {},
     "output_type": "execute_result"
    },
    {
     "data": {
      "text/plain": [
       "Top nil feature map classification: \tgoldfish, Carassius auratus 23.545450210571\t\n",
       "23.545450210571\t\n",
       "276 is finished\t\n"
      ]
     },
     "execution_count": 35,
     "metadata": {},
     "output_type": "execute_result"
    },
    {
     "data": {
      "text/plain": [
       "Top nil feature map classification: \tgoldfish, Carassius auratus 34.085601806641\t\n",
       "34.085601806641\t\n",
       "277 is finished\t\n"
      ]
     },
     "execution_count": 35,
     "metadata": {},
     "output_type": "execute_result"
    },
    {
     "data": {
      "text/plain": [
       "Top nil feature map classification: \tgoldfish, Carassius auratus 21.787693023682\t\n",
       "21.787693023682\t\n",
       "278 is finished\t\n"
      ]
     },
     "execution_count": 35,
     "metadata": {},
     "output_type": "execute_result"
    },
    {
     "data": {
      "text/plain": [
       "Top nil feature map classification: \tgoldfish, Carassius auratus 13.453030586243\t\n",
       "13.453030586243\t\n",
       "279 is finished\t\n"
      ]
     },
     "execution_count": 35,
     "metadata": {},
     "output_type": "execute_result"
    },
    {
     "data": {
      "text/plain": [
       "Top nil feature map classification: \tgoldfish, Carassius auratus 22.335176467896\t\n",
       "22.335176467896\t\n",
       "280 is finished\t\n"
      ]
     },
     "execution_count": 35,
     "metadata": {},
     "output_type": "execute_result"
    },
    {
     "data": {
      "text/plain": [
       "Top nil feature map classification: \tgoldfish, Carassius auratus 29.161108016968\t\n",
       "29.161108016968\t\n",
       "281 is finished\t\n"
      ]
     },
     "execution_count": 35,
     "metadata": {},
     "output_type": "execute_result"
    },
    {
     "data": {
      "text/plain": [
       "Top nil feature map classification: \tgoldfish, Carassius auratus 25.577459335327\t\n",
       "25.577459335327\t\n",
       "282 is finished\t\n"
      ]
     },
     "execution_count": 35,
     "metadata": {},
     "output_type": "execute_result"
    },
    {
     "data": {
      "text/plain": [
       "Top nil feature map classification: \tgoldfish, Carassius auratus 22.347141265869\t\n",
       "22.347141265869\t\n",
       "283 is finished\t\n"
      ]
     },
     "execution_count": 35,
     "metadata": {},
     "output_type": "execute_result"
    },
    {
     "data": {
      "text/plain": [
       "Top nil feature map classification: \tgoldfish, Carassius auratus 25.383708953857\t\n",
       "25.383708953857\t\n",
       "284 is finished\t\n"
      ]
     },
     "execution_count": 35,
     "metadata": {},
     "output_type": "execute_result"
    },
    {
     "data": {
      "text/plain": [
       "Top nil feature map classification: \tgoldfish, Carassius auratus 22.854879379272\t\n",
       "22.854879379272\t\n",
       "285 is finished\t\n"
      ]
     },
     "execution_count": 35,
     "metadata": {},
     "output_type": "execute_result"
    },
    {
     "data": {
      "text/plain": [
       "Top nil feature map classification: \teel 27.777881622314\t\n",
       "25.587362289429\t\n",
       "286 is finished\t\n"
      ]
     },
     "execution_count": 35,
     "metadata": {},
     "output_type": "execute_result"
    },
    {
     "data": {
      "text/plain": [
       "Top nil feature map classification: \tchime, bell, gong 10.063170433044\t\n",
       "5.8504271507263\t\n",
       "287 is finished\t\n"
      ]
     },
     "execution_count": 35,
     "metadata": {},
     "output_type": "execute_result"
    },
    {
     "data": {
      "text/plain": [
       "Top nil feature map classification: \tgoldfish, Carassius auratus 28.506130218506\t\n",
       "28.506130218506\t\n",
       "288 is finished\t\n"
      ]
     },
     "execution_count": 35,
     "metadata": {},
     "output_type": "execute_result"
    },
    {
     "data": {
      "text/plain": [
       "Top nil feature map classification: \tgoldfish, Carassius auratus 22.839321136475\t\n",
       "22.839321136475\t\n",
       "289 is finished\t\n"
      ]
     },
     "execution_count": 35,
     "metadata": {},
     "output_type": "execute_result"
    },
    {
     "data": {
      "text/plain": [
       "Top nil feature map classification: \tgoldfish, Carassius auratus 28.067066192627\t\n",
       "28.067066192627\t\n",
       "290 is finished\t\n"
      ]
     },
     "execution_count": 35,
     "metadata": {},
     "output_type": "execute_result"
    },
    {
     "data": {
      "text/plain": [
       "Top nil feature map classification: \tgoldfish, Carassius auratus 21.952440261841\t\n",
       "21.952440261841\t\n",
       "291 is finished\t\n"
      ]
     },
     "execution_count": 35,
     "metadata": {},
     "output_type": "execute_result"
    },
    {
     "data": {
      "text/plain": [
       "Top nil feature map classification: \tgoldfish, Carassius auratus 19.366382598877\t\n",
       "19.366382598877\t\n",
       "292 is finished\t\n"
      ]
     },
     "execution_count": 35,
     "metadata": {},
     "output_type": "execute_result"
    },
    {
     "data": {
      "text/plain": [
       "Top nil feature map classification: \tgoldfish, Carassius auratus 21.554309844971\t\n",
       "21.554309844971\t\n",
       "293 is finished\t\n"
      ]
     },
     "execution_count": 35,
     "metadata": {},
     "output_type": "execute_result"
    },
    {
     "data": {
      "text/plain": [
       "Top nil feature map classification: \tgoldfish, Carassius auratus 16.613357543945\t\n",
       "16.613357543945\t\n",
       "294 is finished\t\n"
      ]
     },
     "execution_count": 35,
     "metadata": {},
     "output_type": "execute_result"
    },
    {
     "data": {
      "text/plain": [
       "Top nil feature map classification: \tgoldfish, Carassius auratus 21.400272369385\t\n",
       "21.400272369385\t\n",
       "295 is finished\t\n"
      ]
     },
     "execution_count": 35,
     "metadata": {},
     "output_type": "execute_result"
    },
    {
     "data": {
      "text/plain": [
       "Top nil feature map classification: \tgoldfish, Carassius auratus 27.613290786743\t\n",
       "27.613290786743\t\n",
       "296 is finished\t\n"
      ]
     },
     "execution_count": 35,
     "metadata": {},
     "output_type": "execute_result"
    },
    {
     "data": {
      "text/plain": [
       "Top nil feature map classification: \tgoldfish, Carassius auratus 25.060207366943\t\n",
       "25.060207366943\t\n",
       "297 is finished\t\n"
      ]
     },
     "execution_count": 35,
     "metadata": {},
     "output_type": "execute_result"
    },
    {
     "data": {
      "text/plain": [
       "Top nil feature map classification: \tgoldfish, Carassius auratus 14.011590957642\t\n",
       "14.011590957642\t\n",
       "298 is finished\t\n"
      ]
     },
     "execution_count": 35,
     "metadata": {},
     "output_type": "execute_result"
    },
    {
     "data": {
      "text/plain": [
       "Top nil feature map classification: \tgoldfish, Carassius auratus 25.100421905518\t\n",
       "25.100421905518\t\n",
       "299 is finished\t\n"
      ]
     },
     "execution_count": 35,
     "metadata": {},
     "output_type": "execute_result"
    },
    {
     "data": {
      "text/plain": [
       "Top nil feature map classification: \tgoldfish, Carassius auratus 36.732036590576\t\n",
       "36.732036590576\t\n",
       "300 is finished\t\n"
      ]
     },
     "execution_count": 35,
     "metadata": {},
     "output_type": "execute_result"
    },
    {
     "data": {
      "text/plain": [
       "Top nil feature map classification: \tgoldfish, Carassius auratus 19.355602264404\t\n",
       "19.355602264404\t\n",
       "301 is finished\t\n"
      ]
     },
     "execution_count": 35,
     "metadata": {},
     "output_type": "execute_result"
    },
    {
     "data": {
      "text/plain": [
       "Top nil feature map classification: \tgoldfish, Carassius auratus 14.266519546509\t\n",
       "14.266519546509\t\n",
       "302 is finished\t\n"
      ]
     },
     "execution_count": 35,
     "metadata": {},
     "output_type": "execute_result"
    },
    {
     "data": {
      "text/plain": [
       "Top nil feature map classification: \t"
      ]
     },
     "execution_count": 35,
     "metadata": {},
     "output_type": "execute_result"
    },
    {
     "data": {
      "text/plain": [
       "goldfish, Carassius auratus 32.692665100098\t\n",
       "32.692665100098\t\n",
       "303 is finished\t\n"
      ]
     },
     "execution_count": 35,
     "metadata": {},
     "output_type": "execute_result"
    },
    {
     "data": {
      "text/plain": [
       "Top nil feature map classification: \tgoldfish, Carassius auratus 15.95520401001\t\n",
       "15.95520401001\t\n",
       "304 is finished\t\n"
      ]
     },
     "execution_count": 35,
     "metadata": {},
     "output_type": "execute_result"
    },
    {
     "data": {
      "text/plain": [
       "Top nil feature map classification: \tgoldfish, Carassius auratus 32.987354278564\t\n",
       "32.987354278564\t\n",
       "305 is finished\t\n"
      ]
     },
     "execution_count": 35,
     "metadata": {},
     "output_type": "execute_result"
    },
    {
     "data": {
      "text/plain": [
       "Top nil feature map classification: \tgoldfish, Carassius auratus 26.890707015991\t\n",
       "26.890707015991\t\n",
       "306 is finished\t\n"
      ]
     },
     "execution_count": 35,
     "metadata": {},
     "output_type": "execute_result"
    },
    {
     "data": {
      "text/plain": [
       "Top nil feature map classification: \tgoldfish, Carassius auratus 13.329314231873\t\n",
       "13.329314231873\t\n",
       "307 is finished\t\n"
      ]
     },
     "execution_count": 35,
     "metadata": {},
     "output_type": "execute_result"
    },
    {
     "data": {
      "text/plain": [
       "Top nil feature map classification: \tgoldfish, Carassius auratus 29.601276397705\t\n",
       "29.601276397705\t\n",
       "308 is finished\t\n"
      ]
     },
     "execution_count": 35,
     "metadata": {},
     "output_type": "execute_result"
    },
    {
     "data": {
      "text/plain": [
       "Top nil feature map classification: \tgoldfish, Carassius auratus 27.764410018921\t\n",
       "27.764410018921\t\n",
       "309 is finished\t\n"
      ]
     },
     "execution_count": 35,
     "metadata": {},
     "output_type": "execute_result"
    },
    {
     "data": {
      "text/plain": [
       "Top nil feature map classification: \tgoldfish, Carassius auratus 23.45652961731\t\n",
       "23.45652961731\t\n",
       "310 is finished\t\n"
      ]
     },
     "execution_count": 35,
     "metadata": {},
     "output_type": "execute_result"
    },
    {
     "data": {
      "text/plain": [
       "Top nil feature map classification: \teft 13.704441070557\t\n",
       "12.463182449341\t\n",
       "311 is finished\t\n"
      ]
     },
     "execution_count": 35,
     "metadata": {},
     "output_type": "execute_result"
    },
    {
     "data": {
      "text/plain": [
       "Top nil feature map classification: \tmenu 12.640339851379\t\n",
       "6.5083031654358\t\n",
       "312 is finished\t\n"
      ]
     },
     "execution_count": 35,
     "metadata": {},
     "output_type": "execute_result"
    },
    {
     "data": {
      "text/plain": [
       "Top nil feature map classification: \tgoldfish, Carassius auratus 12.629211425781\t\n",
       "12.629211425781\t\n",
       "313 is finished\t\n"
      ]
     },
     "execution_count": 35,
     "metadata": {},
     "output_type": "execute_result"
    },
    {
     "data": {
      "text/plain": [
       "Top nil feature map classification: \tgoldfish, Carassius auratus 35.642997741699\t\n",
       "35.642997741699\t\n",
       "314 is finished\t\n"
      ]
     },
     "execution_count": 35,
     "metadata": {},
     "output_type": "execute_result"
    },
    {
     "data": {
      "text/plain": [
       "Top nil feature map classification: \tgoldfish, Carassius auratus 38.914222717285\t\n",
       "38.914222717285\t\n",
       "315 is finished\t\n"
      ]
     },
     "execution_count": 35,
     "metadata": {},
     "output_type": "execute_result"
    },
    {
     "data": {
      "text/plain": [
       "Top nil feature map classification: \tgoldfish, Carassius auratus 17.846084594727\t\n",
       "17.846084594727\t\n",
       "316 is finished\t\n"
      ]
     },
     "execution_count": 35,
     "metadata": {},
     "output_type": "execute_result"
    },
    {
     "data": {
      "text/plain": [
       "Top nil feature map classification: \tgoldfish, Carassius auratus 33.839447021484\t\n",
       "33.839447021484\t\n",
       "317 is finished\t\n"
      ]
     },
     "execution_count": 35,
     "metadata": {},
     "output_type": "execute_result"
    },
    {
     "data": {
      "text/plain": [
       "Top nil feature map classification: \tgoldfish, Carassius auratus 31.631080627441\t\n",
       "31.631080627441\t\n",
       "318 is finished\t\n"
      ]
     },
     "execution_count": 35,
     "metadata": {},
     "output_type": "execute_result"
    },
    {
     "data": {
      "text/plain": [
       "Top nil feature map classification: \t"
      ]
     },
     "execution_count": 35,
     "metadata": {},
     "output_type": "execute_result"
    },
    {
     "data": {
      "text/plain": [
       "goldfish, Carassius auratus 25.178331375122\t\n",
       "25.178331375122\t\n",
       "319 is finished\t\n"
      ]
     },
     "execution_count": 35,
     "metadata": {},
     "output_type": "execute_result"
    },
    {
     "data": {
      "text/plain": [
       "Top nil feature map classification: \tgoldfish, Carassius auratus 25.134889602661\t\n",
       "25.134889602661\t\n",
       "320 is finished\t\n"
      ]
     },
     "execution_count": 35,
     "metadata": {},
     "output_type": "execute_result"
    },
    {
     "data": {
      "text/plain": [
       "Top nil feature map classification: \tgoldfish, Carassius auratus 22.903882980347\t\n",
       "22.903882980347\t\n",
       "321 is finished\t\n"
      ]
     },
     "execution_count": 35,
     "metadata": {},
     "output_type": "execute_result"
    },
    {
     "data": {
      "text/plain": [
       "Top nil feature map classification: \tgoldfish, Carassius auratus 21.561784744263\t\n",
       "21.561784744263\t\n",
       "322 is finished\t\n"
      ]
     },
     "execution_count": 35,
     "metadata": {},
     "output_type": "execute_result"
    },
    {
     "data": {
      "text/plain": [
       "Top nil feature map classification: \tgoldfish, Carassius auratus 11.806836128235\t\n",
       "11.806836128235\t\n",
       "323 is finished\t\n"
      ]
     },
     "execution_count": 35,
     "metadata": {},
     "output_type": "execute_result"
    },
    {
     "data": {
      "text/plain": [
       "Top nil feature map classification: \tgoldfish, Carassius auratus 26.283193588257\t\n",
       "26.283193588257\t\n",
       "324 is finished\t\n"
      ]
     },
     "execution_count": 35,
     "metadata": {},
     "output_type": "execute_result"
    },
    {
     "data": {
      "text/plain": [
       "Top nil feature map classification: \tgoldfish, Carassius auratus 35.309879302979\t\n",
       "35.309879302979\t\n",
       "325 is finished\t\n"
      ]
     },
     "execution_count": 35,
     "metadata": {},
     "output_type": "execute_result"
    },
    {
     "data": {
      "text/plain": [
       "Top nil feature map classification: \tgoldfish, Carassius auratus 25.273015975952\t\n",
       "25.273015975952\t\n",
       "326 is finished\t\n"
      ]
     },
     "execution_count": 35,
     "metadata": {},
     "output_type": "execute_result"
    },
    {
     "data": {
      "text/plain": [
       "Top nil feature map classification: \tgoldfish, Carassius auratus 42.913555145264\t\n",
       "42.913555145264\t\n",
       "327 is finished\t\n"
      ]
     },
     "execution_count": 35,
     "metadata": {},
     "output_type": "execute_result"
    },
    {
     "data": {
      "text/plain": [
       "Top nil feature map classification: \tgoldfish, Carassius auratus 32.505771636963\t\n",
       "32.505771636963\t\n",
       "328 is finished\t\n"
      ]
     },
     "execution_count": 35,
     "metadata": {},
     "output_type": "execute_result"
    },
    {
     "data": {
      "text/plain": [
       "Top nil feature map classification: \tanemone fish 26.37512588501\t\n",
       "19.906183242798\t\n",
       "329 is finished\t\n"
      ]
     },
     "execution_count": 35,
     "metadata": {},
     "output_type": "execute_result"
    },
    {
     "data": {
      "text/plain": [
       "Top nil feature map classification: \tgoldfish, Carassius auratus 8.9831819534302\t\n",
       "8.9831819534302\t\n",
       "330 is finished\t\n"
      ]
     },
     "execution_count": 35,
     "metadata": {},
     "output_type": "execute_result"
    },
    {
     "data": {
      "text/plain": [
       "Top nil feature map classification: \tgoldfish, Carassius auratus 31.416658401489\t\n",
       "31.416658401489\t\n",
       "331 is finished\t\n"
      ]
     },
     "execution_count": 35,
     "metadata": {},
     "output_type": "execute_result"
    },
    {
     "data": {
      "text/plain": [
       "Top nil feature map classification: \tgoldfish, Carassius auratus 19.70493888855\t\n",
       "19.70493888855\t\n",
       "332 is finished\t\n"
      ]
     },
     "execution_count": 35,
     "metadata": {},
     "output_type": "execute_result"
    },
    {
     "data": {
      "text/plain": [
       "Top nil feature map classification: \tgoldfish, Carassius auratus 21.839586257935\t\n",
       "21.839586257935\t\n",
       "333 is finished\t\n"
      ]
     },
     "execution_count": 35,
     "metadata": {},
     "output_type": "execute_result"
    },
    {
     "data": {
      "text/plain": [
       "Top nil feature map classification: \tgoldfish, Carassius auratus 19.687978744507\t\n",
       "19.687978744507\t\n",
       "334 is finished\t\n"
      ]
     },
     "execution_count": 35,
     "metadata": {},
     "output_type": "execute_result"
    },
    {
     "data": {
      "text/plain": [
       "Top nil feature map classification: \tgoldfish, Carassius auratus 34.99382019043\t\n"
      ]
     },
     "execution_count": 35,
     "metadata": {},
     "output_type": "execute_result"
    },
    {
     "data": {
      "text/plain": [
       "34.99382019043\t\n",
       "335 is finished\t\n"
      ]
     },
     "execution_count": 35,
     "metadata": {},
     "output_type": "execute_result"
    },
    {
     "data": {
      "text/plain": [
       "Top nil feature map classification: \tgoldfish, Carassius auratus 30.117855072021\t\n",
       "30.117855072021\t\n",
       "336 is finished\t\n"
      ]
     },
     "execution_count": 35,
     "metadata": {},
     "output_type": "execute_result"
    },
    {
     "data": {
      "text/plain": [
       "Top nil feature map classification: \tgoldfish, Carassius auratus 18.635068893433\t\n",
       "18.635068893433\t\n",
       "337 is finished\t\n"
      ]
     },
     "execution_count": 35,
     "metadata": {},
     "output_type": "execute_result"
    },
    {
     "data": {
      "text/plain": [
       "Top nil feature map classification: \tgoldfish, Carassius auratus 12.11509513855\t\n",
       "12.11509513855\t\n",
       "338 is finished\t\n"
      ]
     },
     "execution_count": 35,
     "metadata": {},
     "output_type": "execute_result"
    },
    {
     "data": {
      "text/plain": [
       "Top nil feature map classification: \tgoldfish, Carassius auratus 15.850435256958\t\n",
       "15.850435256958\t\n",
       "339 is finished\t\n"
      ]
     },
     "execution_count": 35,
     "metadata": {},
     "output_type": "execute_result"
    },
    {
     "data": {
      "text/plain": [
       "Top nil feature map classification: \tgoldfish, Carassius auratus 19.292984008789\t\n",
       "19.292984008789\t\n",
       "340 is finished\t\n"
      ]
     },
     "execution_count": 35,
     "metadata": {},
     "output_type": "execute_result"
    },
    {
     "data": {
      "text/plain": [
       "Top nil feature map classification: \tgoldfish, Carassius auratus 19.608304977417\t\n",
       "19.608304977417\t\n",
       "341 is finished\t\n"
      ]
     },
     "execution_count": 35,
     "metadata": {},
     "output_type": "execute_result"
    },
    {
     "data": {
      "text/plain": [
       "Top nil feature map classification: \tgoldfish, Carassius auratus 32.849666595459\t\n",
       "32.849666595459\t\n",
       "342 is finished\t\n"
      ]
     },
     "execution_count": 35,
     "metadata": {},
     "output_type": "execute_result"
    },
    {
     "data": {
      "text/plain": [
       "Top nil feature map classification: \tgoldfish, Carassius auratus 37.483005523682\t\n",
       "37.483005523682\t\n",
       "343 is finished\t\n"
      ]
     },
     "execution_count": 35,
     "metadata": {},
     "output_type": "execute_result"
    },
    {
     "data": {
      "text/plain": [
       "Top nil feature map classification: \tgoldfish, Carassius auratus 13.684766769409\t\n",
       "13.684766769409\t\n",
       "344 is finished\t\n"
      ]
     },
     "execution_count": 35,
     "metadata": {},
     "output_type": "execute_result"
    },
    {
     "data": {
      "text/plain": [
       "Top nil feature map classification: \tgoldfish, Carassius auratus 15.423278808594\t\n",
       "15.423278808594\t\n",
       "345 is finished\t\n"
      ]
     },
     "execution_count": 35,
     "metadata": {},
     "output_type": "execute_result"
    },
    {
     "data": {
      "text/plain": [
       "Top nil feature map classification: \tgoldfish, Carassius auratus 20.024978637695\t\n",
       "20.024978637695\t\n",
       "346 is finished\t\n"
      ]
     },
     "execution_count": 35,
     "metadata": {},
     "output_type": "execute_result"
    },
    {
     "data": {
      "text/plain": [
       "Top nil feature map classification: \tgoldfish, Carassius auratus 22.099727630615\t\n",
       "22.099727630615\t\n",
       "347 is finished\t\n"
      ]
     },
     "execution_count": 35,
     "metadata": {},
     "output_type": "execute_result"
    },
    {
     "data": {
      "text/plain": [
       "Top nil feature map classification: \tgoldfish, Carassius auratus 19.998924255371\t\n",
       "19.998924255371\t\n",
       "348 is finished\t\n"
      ]
     },
     "execution_count": 35,
     "metadata": {},
     "output_type": "execute_result"
    },
    {
     "data": {
      "text/plain": [
       "Top nil feature map classification: \t"
      ]
     },
     "execution_count": 35,
     "metadata": {},
     "output_type": "execute_result"
    },
    {
     "data": {
      "text/plain": [
       "goldfish, Carassius auratus 13.151964187622\t\n",
       "13.151964187622\t\n",
       "349 is finished\t\n"
      ]
     },
     "execution_count": 35,
     "metadata": {},
     "output_type": "execute_result"
    },
    {
     "data": {
      "text/plain": [
       "Top nil feature map classification: \tgoldfish, Carassius auratus 25.652799606323\t\n",
       "25.652799606323\t\n",
       "350 is finished\t\n"
      ]
     },
     "execution_count": 35,
     "metadata": {},
     "output_type": "execute_result"
    },
    {
     "data": {
      "text/plain": [
       "Top nil feature map classification: \tgoldfish, Carassius auratus 14.809693336487\t\n",
       "14.809693336487\t\n",
       "351 is finished\t\n"
      ]
     },
     "execution_count": 35,
     "metadata": {},
     "output_type": "execute_result"
    },
    {
     "data": {
      "text/plain": [
       "Top nil feature map classification: \tgoldfish, Carassius auratus 21.063123703003\t\n",
       "21.063123703003\t\n",
       "352 is finished\t\n"
      ]
     },
     "execution_count": 35,
     "metadata": {},
     "output_type": "execute_result"
    },
    {
     "data": {
      "text/plain": [
       "Top nil feature map classification: \tgoldfish, Carassius auratus 19.771188735962\t\n",
       "19.771188735962\t\n",
       "353 is finished\t\n"
      ]
     },
     "execution_count": 35,
     "metadata": {},
     "output_type": "execute_result"
    },
    {
     "data": {
      "text/plain": [
       "Top nil feature map classification: \tgoldfish, Carassius auratus 24.319368362427\t\n",
       "24.319368362427\t\n",
       "354 is finished\t\n"
      ]
     },
     "execution_count": 35,
     "metadata": {},
     "output_type": "execute_result"
    },
    {
     "data": {
      "text/plain": [
       "Top nil feature map classification: \tgoldfish, Carassius auratus 26.795972824097\t\n",
       "26.795972824097\t\n",
       "355 is finished\t\n"
      ]
     },
     "execution_count": 35,
     "metadata": {},
     "output_type": "execute_result"
    },
    {
     "data": {
      "text/plain": [
       "Top nil feature map classification: \tgoldfish, Carassius auratus 28.558710098267\t\n",
       "28.558710098267\t\n",
       "356 is finished\t\n"
      ]
     },
     "execution_count": 35,
     "metadata": {},
     "output_type": "execute_result"
    },
    {
     "data": {
      "text/plain": [
       "Top nil feature map classification: \tgoldfish, Carassius auratus 23.927192687988\t\n",
       "23.927192687988\t\n",
       "357 is finished\t\n"
      ]
     },
     "execution_count": 35,
     "metadata": {},
     "output_type": "execute_result"
    },
    {
     "data": {
      "text/plain": [
       "Top nil feature map classification: \tgoldfish, Carassius auratus 19.844997406006\t\n",
       "19.844997406006\t\n",
       "358 is finished\t\n"
      ]
     },
     "execution_count": 35,
     "metadata": {},
     "output_type": "execute_result"
    },
    {
     "data": {
      "text/plain": [
       "Top nil feature map classification: \tgoldfish, Carassius auratus 25.049509048462\t\n",
       "25.049509048462\t\n",
       "359 is finished\t\n"
      ]
     },
     "execution_count": 35,
     "metadata": {},
     "output_type": "execute_result"
    },
    {
     "data": {
      "text/plain": [
       "Top nil feature map classification: \tgoldfish, Carassius auratus 15.146501541138\t\n",
       "15.146501541138\t\n",
       "360 is finished\t\n"
      ]
     },
     "execution_count": 35,
     "metadata": {},
     "output_type": "execute_result"
    },
    {
     "data": {
      "text/plain": [
       "Top nil feature map classification: \tgoldfish, Carassius auratus 12.753137588501\t\n",
       "12.753137588501\t\n",
       "361 is finished\t\n"
      ]
     },
     "execution_count": 35,
     "metadata": {},
     "output_type": "execute_result"
    },
    {
     "data": {
      "text/plain": [
       "Top nil feature map classification: \tgoldfish, Carassius auratus 24.210468292236\t\n",
       "24.210468292236\t\n",
       "362 is finished\t\n"
      ]
     },
     "execution_count": 35,
     "metadata": {},
     "output_type": "execute_result"
    },
    {
     "data": {
      "text/plain": [
       "Top nil feature map classification: \tgoldfish, Carassius auratus 16.683626174927\t\n",
       "16.683626174927\t\n",
       "363 is finished\t\n"
      ]
     },
     "execution_count": 35,
     "metadata": {},
     "output_type": "execute_result"
    },
    {
     "data": {
      "text/plain": [
       "Top nil feature map classification: \tgoldfish, Carassius auratus 23.143690109253\t\n",
       "23.143690109253\t\n",
       "364 is finished\t\n"
      ]
     },
     "execution_count": 35,
     "metadata": {},
     "output_type": "execute_result"
    },
    {
     "data": {
      "text/plain": [
       "Top nil feature map classification: \tgoldfish, Carassius auratus 14.795539855957\t\n",
       "14.795539855957\t\n",
       "365 is finished\t\n"
      ]
     },
     "execution_count": 35,
     "metadata": {},
     "output_type": "execute_result"
    },
    {
     "data": {
      "text/plain": [
       "Top nil feature map classification: \tgoldfish, Carassius auratus 17.149951934814\t\n",
       "17.149951934814\t\n",
       "366 is finished\t\n"
      ]
     },
     "execution_count": 35,
     "metadata": {},
     "output_type": "execute_result"
    },
    {
     "data": {
      "text/plain": [
       "Top nil feature map classification: \tgoldfish, Carassius auratus 28.414661407471\t\n",
       "28.414661407471\t\n",
       "367 is finished\t\n"
      ]
     },
     "execution_count": 35,
     "metadata": {},
     "output_type": "execute_result"
    },
    {
     "data": {
      "text/plain": [
       "Top nil feature map classification: \tgoldfish, Carassius auratus 32.216663360596\t\n"
      ]
     },
     "execution_count": 35,
     "metadata": {},
     "output_type": "execute_result"
    },
    {
     "data": {
      "text/plain": [
       "32.216663360596\t\n",
       "368 is finished\t\n"
      ]
     },
     "execution_count": 35,
     "metadata": {},
     "output_type": "execute_result"
    },
    {
     "data": {
      "text/plain": [
       "Top nil feature map classification: \tgoldfish, Carassius auratus 14.078280448914\t\n",
       "14.078280448914\t\n",
       "369 is finished\t\n"
      ]
     },
     "execution_count": 35,
     "metadata": {},
     "output_type": "execute_result"
    },
    {
     "data": {
      "text/plain": [
       "Top nil feature map classification: \tgoldfish, Carassius auratus 11.951629638672\t\n",
       "11.951629638672\t\n",
       "370 is finished\t\n"
      ]
     },
     "execution_count": 35,
     "metadata": {},
     "output_type": "execute_result"
    },
    {
     "data": {
      "text/plain": [
       "Top nil feature map classification: \tgoldfish, Carassius auratus 14.73638343811\t\n",
       "14.73638343811\t\n",
       "371 is finished\t\n"
      ]
     },
     "execution_count": 35,
     "metadata": {},
     "output_type": "execute_result"
    },
    {
     "data": {
      "text/plain": [
       "Top nil feature map classification: \tgoldfish, Carassius auratus 12.83890914917\t\n",
       "12.83890914917\t\n",
       "372 is finished\t\n"
      ]
     },
     "execution_count": 35,
     "metadata": {},
     "output_type": "execute_result"
    },
    {
     "data": {
      "text/plain": [
       "Top nil feature map classification: \tgoldfish, Carassius auratus 27.414642333984\t\n",
       "27.414642333984\t\n",
       "373 is finished\t\n"
      ]
     },
     "execution_count": 35,
     "metadata": {},
     "output_type": "execute_result"
    },
    {
     "data": {
      "text/plain": [
       "Top nil feature map classification: \tgoldfish, Carassius auratus 15.194825172424\t\n",
       "15.194825172424\t\n",
       "374 is finished\t\n"
      ]
     },
     "execution_count": 35,
     "metadata": {},
     "output_type": "execute_result"
    },
    {
     "data": {
      "text/plain": [
       "Top nil feature map classification: \tconfectionery, confectionary, candy store 6.9999833106995\t\n",
       "6.5091795921326\t\n",
       "375 is finished\t\n"
      ]
     },
     "execution_count": 35,
     "metadata": {},
     "output_type": "execute_result"
    },
    {
     "data": {
      "text/plain": [
       "Top nil feature map classification: \tgoldfish, Carassius auratus 13.806119918823\t\n",
       "13.806119918823\t\n",
       "376 is finished\t\n"
      ]
     },
     "execution_count": 35,
     "metadata": {},
     "output_type": "execute_result"
    },
    {
     "data": {
      "text/plain": [
       "Top nil feature map classification: \tgoldfish, Carassius auratus 24.127201080322\t\n",
       "24.127201080322\t\n",
       "377 is finished\t\n"
      ]
     },
     "execution_count": 35,
     "metadata": {},
     "output_type": "execute_result"
    },
    {
     "data": {
      "text/plain": [
       "Top nil feature map classification: \tgoldfish, Carassius auratus 18.304014205933\t\n",
       "18.304014205933\t\n",
       "378 is finished\t\n"
      ]
     },
     "execution_count": 35,
     "metadata": {},
     "output_type": "execute_result"
    },
    {
     "data": {
      "text/plain": [
       "Top nil feature map classification: \tvolcano 11.173993110657\t\n",
       "9.4893026351929\t\n",
       "379 is finished\t\n"
      ]
     },
     "execution_count": 35,
     "metadata": {},
     "output_type": "execute_result"
    },
    {
     "data": {
      "text/plain": [
       "Top nil feature map classification: \tgoldfish, Carassius auratus 26.896816253662\t\n",
       "26.896816253662\t\n",
       "380 is finished\t\n"
      ]
     },
     "execution_count": 35,
     "metadata": {},
     "output_type": "execute_result"
    },
    {
     "data": {
      "text/plain": [
       "Top nil feature map classification: \tgoldfish, Carassius auratus 21.33482170105\t\n",
       "21.33482170105\t\n",
       "381 is finished\t\n"
      ]
     },
     "execution_count": 35,
     "metadata": {},
     "output_type": "execute_result"
    },
    {
     "data": {
      "text/plain": [
       "Top nil feature map classification: \tgoldfish, Carassius auratus 17.198040008545\t\n",
       "17.198040008545\t\n",
       "382 is finished\t\n"
      ]
     },
     "execution_count": 35,
     "metadata": {},
     "output_type": "execute_result"
    },
    {
     "data": {
      "text/plain": [
       "Top nil feature map classification: \tgoldfish, Carassius auratus 22.212928771973\t\n",
       "22.212928771973\t\n",
       "383 is finished\t\n"
      ]
     },
     "execution_count": 35,
     "metadata": {},
     "output_type": "execute_result"
    },
    {
     "data": {
      "text/plain": [
       "Top nil feature map classification: \tgoldfish, Carassius auratus 14.024444580078\t\n"
      ]
     },
     "execution_count": 35,
     "metadata": {},
     "output_type": "execute_result"
    },
    {
     "data": {
      "text/plain": [
       "14.024444580078\t\n",
       "384 is finished\t\n"
      ]
     },
     "execution_count": 35,
     "metadata": {},
     "output_type": "execute_result"
    },
    {
     "data": {
      "text/plain": [
       "Top nil feature map classification: \tgoldfish, Carassius auratus 20.18236541748\t\n",
       "20.18236541748\t\n",
       "385 is finished\t\n"
      ]
     },
     "execution_count": 35,
     "metadata": {},
     "output_type": "execute_result"
    },
    {
     "data": {
      "text/plain": [
       "Top nil feature map classification: \tgoldfish, Carassius auratus 22.873701095581\t\n",
       "22.873701095581\t\n",
       "386 is finished\t\n"
      ]
     },
     "execution_count": 35,
     "metadata": {},
     "output_type": "execute_result"
    },
    {
     "data": {
      "text/plain": [
       "Top nil feature map classification: \tgoldfish, Carassius auratus 35.666347503662\t\n",
       "35.666347503662\t\n",
       "387 is finished\t\n"
      ]
     },
     "execution_count": 35,
     "metadata": {},
     "output_type": "execute_result"
    },
    {
     "data": {
      "text/plain": [
       "Top nil feature map classification: \tgoldfish, Carassius auratus 20.036653518677\t\n",
       "20.036653518677\t\n",
       "388 is finished\t\n"
      ]
     },
     "execution_count": 35,
     "metadata": {},
     "output_type": "execute_result"
    },
    {
     "data": {
      "text/plain": [
       "Top nil feature map classification: \tgoldfish, Carassius auratus 20.413635253906\t\n",
       "20.413635253906\t\n",
       "389 is finished\t\n"
      ]
     },
     "execution_count": 35,
     "metadata": {},
     "output_type": "execute_result"
    },
    {
     "data": {
      "text/plain": [
       "Top nil feature map classification: \tgoldfish, Carassius auratus 18.142660140991\t\n",
       "18.142660140991\t\n",
       "390 is finished\t\n"
      ]
     },
     "execution_count": 35,
     "metadata": {},
     "output_type": "execute_result"
    },
    {
     "data": {
      "text/plain": [
       "Top nil feature map classification: \tgoldfish, Carassius auratus 13.048732757568\t\n",
       "13.048732757568\t\n",
       "391 is finished\t\n"
      ]
     },
     "execution_count": 35,
     "metadata": {},
     "output_type": "execute_result"
    },
    {
     "data": {
      "text/plain": [
       "Top nil feature map classification: \tgoldfish, Carassius auratus 17.202787399292\t\n",
       "17.202787399292\t\n",
       "392 is finished\t\n"
      ]
     },
     "execution_count": 35,
     "metadata": {},
     "output_type": "execute_result"
    },
    {
     "data": {
      "text/plain": [
       "Top nil feature map classification: \tgoldfish, Carassius auratus 17.179916381836\t\n",
       "17.179916381836\t\n",
       "393 is finished\t\n"
      ]
     },
     "execution_count": 35,
     "metadata": {},
     "output_type": "execute_result"
    },
    {
     "data": {
      "text/plain": [
       "Top nil feature map classification: \tgoldfish, Carassius auratus 26.026441574097\t\n",
       "26.026441574097\t\n",
       "394 is finished\t\n"
      ]
     },
     "execution_count": 35,
     "metadata": {},
     "output_type": "execute_result"
    },
    {
     "data": {
      "text/plain": [
       "Top nil feature map classification: \tcoral reef 16.601169586182\t\n",
       "10.284627914429\t\n",
       "395 is finished\t\n"
      ]
     },
     "execution_count": 35,
     "metadata": {},
     "output_type": "execute_result"
    },
    {
     "data": {
      "text/plain": [
       "Top nil feature map classification: \tgoldfish, Carassius auratus 15.962736129761\t\n",
       "15.962736129761\t\n",
       "396 is finished\t\n"
      ]
     },
     "execution_count": 35,
     "metadata": {},
     "output_type": "execute_result"
    },
    {
     "data": {
      "text/plain": [
       "Top nil feature map classification: \tgoldfish, Carassius auratus 27.231586456299\t\n",
       "27.231586456299\t\n",
       "397 is finished\t\n"
      ]
     },
     "execution_count": 35,
     "metadata": {},
     "output_type": "execute_result"
    },
    {
     "data": {
      "text/plain": [
       "Top nil feature map classification: \tgoldfish, Carassius auratus 22.449493408203\t\n",
       "22.449493408203\t\n",
       "398 is finished\t\n"
      ]
     },
     "execution_count": 35,
     "metadata": {},
     "output_type": "execute_result"
    },
    {
     "data": {
      "text/plain": [
       "Top nil feature map classification: \tgoldfish, Carassius auratus 28.58554649353\t\n",
       "28.58554649353\t\n",
       "399 is finished\t\n"
      ]
     },
     "execution_count": 35,
     "metadata": {},
     "output_type": "execute_result"
    },
    {
     "data": {
      "text/plain": [
       "Top nil feature map classification: \tvase 11.432563781738\t\n",
       "6.6294984817505\t\n",
       "400 is finished\t\n"
      ]
     },
     "execution_count": 35,
     "metadata": {},
     "output_type": "execute_result"
    },
    {
     "data": {
      "text/plain": [
       "Top nil feature map classification: \tgoldfish, Carassius auratus 22.056859970093\t\n",
       "22.056859970093\t\n",
       "401 is finished\t\n"
      ]
     },
     "execution_count": 35,
     "metadata": {},
     "output_type": "execute_result"
    },
    {
     "data": {
      "text/plain": [
       "Top nil feature map classification: \tgoldfish, Carassius auratus 23.15818977356\t\n",
       "23.15818977356\t\n",
       "402 is finished\t\n"
      ]
     },
     "execution_count": 35,
     "metadata": {},
     "output_type": "execute_result"
    },
    {
     "data": {
      "text/plain": [
       "Top nil feature map classification: \tgoldfish, Carassius auratus 24.396770477295\t\n",
       "24.396770477295\t\n",
       "403 is finished\t\n"
      ]
     },
     "execution_count": 35,
     "metadata": {},
     "output_type": "execute_result"
    },
    {
     "data": {
      "text/plain": [
       "Top nil feature map classification: \tgoldfish, Carassius auratus 16.840229034424\t\n",
       "16.840229034424\t\n",
       "404 is finished\t\n"
      ]
     },
     "execution_count": 35,
     "metadata": {},
     "output_type": "execute_result"
    },
    {
     "data": {
      "text/plain": [
       "Top nil feature map classification: \tgoldfish, Carassius auratus 40.917919158936\t\n",
       "40.917919158936\t\n",
       "405 is finished\t\n"
      ]
     },
     "execution_count": 35,
     "metadata": {},
     "output_type": "execute_result"
    },
    {
     "data": {
      "text/plain": [
       "Top nil feature map classification: \tgoldfish, Carassius auratus 30.911809921265\t\n",
       "30.911809921265\t\n",
       "406 is finished\t\n"
      ]
     },
     "execution_count": 35,
     "metadata": {},
     "output_type": "execute_result"
    },
    {
     "data": {
      "text/plain": [
       "Top nil feature map classification: \tgoldfish, Carassius auratus 30.313062667847\t\n",
       "30.313062667847\t\n",
       "407 is finished\t\n"
      ]
     },
     "execution_count": 35,
     "metadata": {},
     "output_type": "execute_result"
    },
    {
     "data": {
      "text/plain": [
       "Top nil feature map classification: \tgoldfish, Carassius auratus 11.917537689209\t\n",
       "11.917537689209\t\n",
       "408 is finished\t\n"
      ]
     },
     "execution_count": 35,
     "metadata": {},
     "output_type": "execute_result"
    },
    {
     "data": {
      "text/plain": [
       "Top nil feature map classification: \tgoldfish, Carassius auratus 24.057735443115\t\n",
       "24.057735443115\t\n",
       "409 is finished\t\n"
      ]
     },
     "execution_count": 35,
     "metadata": {},
     "output_type": "execute_result"
    },
    {
     "data": {
      "text/plain": [
       "Top nil feature map classification: \tgoldfish, Carassius auratus 24.877103805542\t\n",
       "24.877103805542\t\n",
       "410 is finished\t\n"
      ]
     },
     "execution_count": 35,
     "metadata": {},
     "output_type": "execute_result"
    },
    {
     "data": {
      "text/plain": [
       "Top nil feature map classification: \tgoldfish, Carassius auratus 24.344682693481\t\n",
       "24.344682693481\t\n",
       "411 is finished\t\n"
      ]
     },
     "execution_count": 35,
     "metadata": {},
     "output_type": "execute_result"
    },
    {
     "data": {
      "text/plain": [
       "Top nil feature map classification: \tgoldfish, Carassius auratus 32.715099334717\t\n",
       "32.715099334717\t\n",
       "412 is finished\t\n"
      ]
     },
     "execution_count": 35,
     "metadata": {},
     "output_type": "execute_result"
    },
    {
     "data": {
      "text/plain": [
       "Top nil feature map classification: \tgoldfish, Carassius auratus 23.211130142212\t\n",
       "23.211130142212\t\n",
       "413 is finished\t\n"
      ]
     },
     "execution_count": 35,
     "metadata": {},
     "output_type": "execute_result"
    },
    {
     "data": {
      "text/plain": [
       "Top nil feature map classification: \tgoldfish, Carassius auratus 10.827819824219\t\n",
       "10.827819824219\t\n",
       "414 is finished\t\n"
      ]
     },
     "execution_count": 35,
     "metadata": {},
     "output_type": "execute_result"
    },
    {
     "data": {
      "text/plain": [
       "Top nil feature map classification: \tgoldfish, Carassius auratus 23.811220169067\t\n",
       "23.811220169067\t\n",
       "415 is finished\t\n"
      ]
     },
     "execution_count": 35,
     "metadata": {},
     "output_type": "execute_result"
    },
    {
     "data": {
      "text/plain": [
       "Top nil feature map classification: \tgoldfish, Carassius auratus 19.70768737793\t\n",
       "19.70768737793\t\n",
       "416 is finished\t\n"
      ]
     },
     "execution_count": 35,
     "metadata": {},
     "output_type": "execute_result"
    },
    {
     "data": {
      "text/plain": [
       "Top nil feature map classification: \tgoldfish, Carassius auratus 14.620872497559\t\n",
       "14.620872497559\t\n",
       "417 is finished\t\n"
      ]
     },
     "execution_count": 35,
     "metadata": {},
     "output_type": "execute_result"
    },
    {
     "data": {
      "text/plain": [
       "Top nil feature map classification: \tgoldfish, Carassius auratus 28.890260696411\t\n",
       "28.890260696411\t\n",
       "418 is finished\t\n"
      ]
     },
     "execution_count": 35,
     "metadata": {},
     "output_type": "execute_result"
    },
    {
     "data": {
      "text/plain": [
       "Top nil feature map classification: \tgoldfish, Carassius auratus 40.030921936035\t\n",
       "40.030921936035\t\n",
       "419 is finished\t\n"
      ]
     },
     "execution_count": 35,
     "metadata": {},
     "output_type": "execute_result"
    },
    {
     "data": {
      "text/plain": [
       "Top nil feature map classification: \tgoldfish, Carassius auratus 19.189924240112\t\n",
       "19.189924240112\t\n",
       "420 is finished\t\n"
      ]
     },
     "execution_count": 35,
     "metadata": {},
     "output_type": "execute_result"
    },
    {
     "data": {
      "text/plain": [
       "Top nil feature map classification: \tgoldfish, Carassius auratus 21.98087310791\t\n",
       "21.98087310791\t\n",
       "421 is finished\t\n"
      ]
     },
     "execution_count": 35,
     "metadata": {},
     "output_type": "execute_result"
    },
    {
     "data": {
      "text/plain": [
       "Top nil feature map classification: \tgoldfish, Carassius auratus 15.383514404297\t\n",
       "15.383514404297\t\n",
       "422 is finished\t\n"
      ]
     },
     "execution_count": 35,
     "metadata": {},
     "output_type": "execute_result"
    },
    {
     "data": {
      "text/plain": [
       "Top nil feature map classification: \tgoldfish, Carassius auratus 16.20041847229\t\n",
       "16.20041847229\t\n",
       "423 is finished\t\n"
      ]
     },
     "execution_count": 35,
     "metadata": {},
     "output_type": "execute_result"
    },
    {
     "data": {
      "text/plain": [
       "Top nil feature map classification: \tgoldfish, Carassius auratus 29.087324142456\t\n",
       "29.087324142456\t\n",
       "424 is finished\t\n"
      ]
     },
     "execution_count": 35,
     "metadata": {},
     "output_type": "execute_result"
    },
    {
     "data": {
      "text/plain": [
       "Top nil feature map classification: \tgoldfish, Carassius auratus 25.675268173218\t\n",
       "25.675268173218\t\n",
       "425 is finished\t\n"
      ]
     },
     "execution_count": 35,
     "metadata": {},
     "output_type": "execute_result"
    },
    {
     "data": {
      "text/plain": [
       "Top nil feature map classification: \tgoldfish, Carassius auratus 22.020801544189\t\n",
       "22.020801544189\t\n",
       "426 is finished\t\n"
      ]
     },
     "execution_count": 35,
     "metadata": {},
     "output_type": "execute_result"
    },
    {
     "data": {
      "text/plain": [
       "Top nil feature map classification: \tgoldfish, Carassius auratus 27.84789276123\t\n",
       "27.84789276123\t\n",
       "427 is finished\t\n"
      ]
     },
     "execution_count": 35,
     "metadata": {},
     "output_type": "execute_result"
    },
    {
     "data": {
      "text/plain": [
       "Top nil feature map classification: \tgoldfish, Carassius auratus 28.180000305176\t\n",
       "28.180000305176\t\n",
       "428 is finished\t\n"
      ]
     },
     "execution_count": 35,
     "metadata": {},
     "output_type": "execute_result"
    },
    {
     "data": {
      "text/plain": [
       "Top nil feature map classification: \tgoldfish, Carassius auratus 9.5288238525391\t\n",
       "9.5288238525391\t\n",
       "429 is finished\t\n"
      ]
     },
     "execution_count": 35,
     "metadata": {},
     "output_type": "execute_result"
    },
    {
     "data": {
      "text/plain": [
       "Top nil feature map classification: \tgoldfish, Carassius auratus 8.3220520019531\t\n",
       "8.3220520019531\t\n",
       "430 is finished\t\n"
      ]
     },
     "execution_count": 35,
     "metadata": {},
     "output_type": "execute_result"
    },
    {
     "data": {
      "text/plain": [
       "Top nil feature map classification: \tgoldfish, Carassius auratus 26.492931365967\t\n",
       "26.492931365967\t\n",
       "431 is finished\t\n"
      ]
     },
     "execution_count": 35,
     "metadata": {},
     "output_type": "execute_result"
    },
    {
     "data": {
      "text/plain": [
       "Top nil feature map classification: \tgoldfish, Carassius auratus 22.38588142395\t\n",
       "22.38588142395\t\n",
       "432 is finished\t\n"
      ]
     },
     "execution_count": 35,
     "metadata": {},
     "output_type": "execute_result"
    },
    {
     "data": {
      "text/plain": [
       "Top nil feature map classification: \tgoldfish, Carassius auratus 22.264324188232\t\n",
       "22.264324188232\t\n",
       "433 is finished\t\n"
      ]
     },
     "execution_count": 35,
     "metadata": {},
     "output_type": "execute_result"
    },
    {
     "data": {
      "text/plain": [
       "Top nil feature map classification: \tgoldfish, Carassius auratus 23.032077789307\t\n",
       "23.032077789307\t\n",
       "434 is finished\t\n"
      ]
     },
     "execution_count": 35,
     "metadata": {},
     "output_type": "execute_result"
    },
    {
     "data": {
      "text/plain": [
       "Top nil feature map classification: \tgoldfish, Carassius auratus 27.9603099823\t\n",
       "27.9603099823\t\n",
       "435 is finished\t\n"
      ]
     },
     "execution_count": 35,
     "metadata": {},
     "output_type": "execute_result"
    },
    {
     "data": {
      "text/plain": [
       "Top nil feature map classification: \tgoldfish, Carassius auratus 16.6009349823\t\n",
       "16.6009349823\t\n",
       "436 is finished\t\n"
      ]
     },
     "execution_count": 35,
     "metadata": {},
     "output_type": "execute_result"
    },
    {
     "data": {
      "text/plain": [
       "Top nil feature map classification: \tgoldfish, Carassius auratus 17.192905426025\t\n",
       "17.192905426025\t\n",
       "437 is finished\t\n"
      ]
     },
     "execution_count": 35,
     "metadata": {},
     "output_type": "execute_result"
    },
    {
     "data": {
      "text/plain": [
       "Top nil feature map classification: \tgoldfish, Carassius auratus 21.677560806274\t\n",
       "21.677560806274\t\n",
       "438 is finished\t\n"
      ]
     },
     "execution_count": 35,
     "metadata": {},
     "output_type": "execute_result"
    },
    {
     "data": {
      "text/plain": [
       "Top nil feature map classification: \tgoldfish, Carassius auratus 16.889633178711\t\n",
       "16.889633178711\t\n",
       "439 is finished\t\n"
      ]
     },
     "execution_count": 35,
     "metadata": {},
     "output_type": "execute_result"
    },
    {
     "data": {
      "text/plain": [
       "Top nil feature map classification: \tgoldfish, Carassius auratus 13.551306724548\t\n",
       "13.551306724548\t\n",
       "440 is finished\t\n"
      ]
     },
     "execution_count": 35,
     "metadata": {},
     "output_type": "execute_result"
    },
    {
     "data": {
      "text/plain": [
       "Top nil feature map classification: \tgoldfish, Carassius auratus 27.401845932007\t\n",
       "27.401845932007\t\n",
       "441 is finished\t\n"
      ]
     },
     "execution_count": 35,
     "metadata": {},
     "output_type": "execute_result"
    },
    {
     "data": {
      "text/plain": [
       "Top nil feature map classification: \tgoldfish, Carassius auratus 14.082096099854\t\n",
       "14.082096099854\t\n",
       "442 is finished\t\n"
      ]
     },
     "execution_count": 35,
     "metadata": {},
     "output_type": "execute_result"
    },
    {
     "data": {
      "text/plain": [
       "Top nil feature map classification: \tgoldfish, Carassius auratus 18.584463119507\t\n",
       "18.584463119507\t\n",
       "443 is finished\t\n"
      ]
     },
     "execution_count": 35,
     "metadata": {},
     "output_type": "execute_result"
    },
    {
     "data": {
      "text/plain": [
       "Top nil feature map classification: \tgoldfish, Carassius auratus 42.067554473877\t\n",
       "42.067554473877\t\n",
       "444 is finished\t\n"
      ]
     },
     "execution_count": 35,
     "metadata": {},
     "output_type": "execute_result"
    },
    {
     "data": {
      "text/plain": [
       "Top nil feature map classification: \tgoldfish, Carassius auratus 10.97780418396\t\n",
       "10.97780418396\t\n",
       "445 is finished\t\n"
      ]
     },
     "execution_count": 35,
     "metadata": {},
     "output_type": "execute_result"
    },
    {
     "data": {
      "text/plain": [
       "Top nil feature map classification: \tgoldfish, Carassius auratus 13.347421646118\t\n"
      ]
     },
     "execution_count": 35,
     "metadata": {},
     "output_type": "execute_result"
    },
    {
     "data": {
      "text/plain": [
       "13.347421646118\t\n",
       "446 is finished\t\n"
      ]
     },
     "execution_count": 35,
     "metadata": {},
     "output_type": "execute_result"
    },
    {
     "data": {
      "text/plain": [
       "Top nil feature map classification: \tgoldfish, Carassius auratus 16.954704284668\t\n",
       "16.954704284668\t\n",
       "447 is finished\t\n"
      ]
     },
     "execution_count": 35,
     "metadata": {},
     "output_type": "execute_result"
    },
    {
     "data": {
      "text/plain": [
       "Top nil feature map classification: \tgoldfish, Carassius auratus 22.268663406372\t\n",
       "22.268663406372\t\n",
       "448 is finished\t\n"
      ]
     },
     "execution_count": 35,
     "metadata": {},
     "output_type": "execute_result"
    },
    {
     "data": {
      "text/plain": [
       "Top nil feature map classification: \tgoldfish, Carassius auratus 10.09513092041\t\n",
       "10.09513092041\t\n",
       "449 is finished\t\n"
      ]
     },
     "execution_count": 35,
     "metadata": {},
     "output_type": "execute_result"
    },
    {
     "data": {
      "text/plain": [
       "Top nil feature map classification: \tgoldfish, Carassius auratus 13.471829414368\t\n",
       "13.471829414368\t\n",
       "450 is finished\t\n"
      ]
     },
     "execution_count": 35,
     "metadata": {},
     "output_type": "execute_result"
    },
    {
     "data": {
      "text/plain": [
       "Top nil feature map classification: \tgoldfish, Carassius auratus 27.47162437439\t\n",
       "27.47162437439\t\n",
       "451 is finished\t\n"
      ]
     },
     "execution_count": 35,
     "metadata": {},
     "output_type": "execute_result"
    },
    {
     "data": {
      "text/plain": [
       "Top nil feature map classification: \tgoldfish, Carassius auratus 38.120788574219\t\n",
       "38.120788574219\t\n",
       "452 is finished\t\n"
      ]
     },
     "execution_count": 35,
     "metadata": {},
     "output_type": "execute_result"
    },
    {
     "data": {
      "text/plain": [
       "Top nil feature map classification: \tgoldfish, Carassius auratus 24.823892593384\t\n",
       "24.823892593384\t\n",
       "453 is finished\t\n"
      ]
     },
     "execution_count": 35,
     "metadata": {},
     "output_type": "execute_result"
    },
    {
     "data": {
      "text/plain": [
       "Top nil feature map classification: \tgoldfish, Carassius auratus 10.872735977173\t\n",
       "10.872735977173\t\n",
       "454 is finished\t\n"
      ]
     },
     "execution_count": 35,
     "metadata": {},
     "output_type": "execute_result"
    },
    {
     "data": {
      "text/plain": [
       "Top nil feature map classification: \tgoldfish, Carassius auratus 28.694925308228\t\n",
       "28.694925308228\t\n",
       "455 is finished\t\n"
      ]
     },
     "execution_count": 35,
     "metadata": {},
     "output_type": "execute_result"
    },
    {
     "data": {
      "text/plain": [
       "Top nil feature map classification: \trock crab, Cancer irroratus 11.257487297058\t\n",
       "10.900646209717\t\n",
       "456 is finished\t\n"
      ]
     },
     "execution_count": 35,
     "metadata": {},
     "output_type": "execute_result"
    },
    {
     "data": {
      "text/plain": [
       "Top nil feature map classification: \tgoblet 10.710807800293\t\n",
       "8.0715446472168\t\n",
       "457 is finished\t\n"
      ]
     },
     "execution_count": 35,
     "metadata": {},
     "output_type": "execute_result"
    },
    {
     "data": {
      "text/plain": [
       "Top nil feature map classification: \tgoldfish, Carassius auratus 8.8829383850098\t\n",
       "8.8829383850098\t\n",
       "458 is finished\t\n"
      ]
     },
     "execution_count": 35,
     "metadata": {},
     "output_type": "execute_result"
    },
    {
     "data": {
      "text/plain": [
       "Top nil feature map classification: \tgoldfish, Carassius auratus 19.623125076294\t\n",
       "19.623125076294\t\n",
       "459 is finished\t\n"
      ]
     },
     "execution_count": 35,
     "metadata": {},
     "output_type": "execute_result"
    },
    {
     "data": {
      "text/plain": [
       "Top nil feature map classification: \tgoldfish, Carassius auratus 17.833280563354\t\n",
       "17.833280563354\t\n",
       "460 is finished\t\n"
      ]
     },
     "execution_count": 35,
     "metadata": {},
     "output_type": "execute_result"
    },
    {
     "data": {
      "text/plain": [
       "Top nil feature map classification: \tgreenhouse, nursery, glasshouse 8.4504222869873\t\n",
       "6.9698405265808\t\n",
       "461 is finished\t\n"
      ]
     },
     "execution_count": 35,
     "metadata": {},
     "output_type": "execute_result"
    },
    {
     "data": {
      "text/plain": [
       "Top nil feature map classification: \tgoldfish, Carassius auratus 17.004333496094\t\n",
       "17.004333496094\t\n",
       "462 is finished\t\n"
      ]
     },
     "execution_count": 35,
     "metadata": {},
     "output_type": "execute_result"
    },
    {
     "data": {
      "text/plain": [
       "Top nil feature map classification: \tgoldfish, Carassius auratus 16.971437454224\t\n",
       "16.971437454224\t\n",
       "463 is finished\t\n"
      ]
     },
     "execution_count": 35,
     "metadata": {},
     "output_type": "execute_result"
    },
    {
     "data": {
      "text/plain": [
       "Top nil feature map classification: \tgoldfish, Carassius auratus 20.351249694824\t\n",
       "20.351249694824\t\n",
       "464 is finished\t\n"
      ]
     },
     "execution_count": 35,
     "metadata": {},
     "output_type": "execute_result"
    },
    {
     "data": {
      "text/plain": [
       "Top nil feature map classification: \tgoldfish, Carassius auratus 23.885646820068\t\n",
       "23.885646820068\t\n",
       "465 is finished\t\n"
      ]
     },
     "execution_count": 35,
     "metadata": {},
     "output_type": "execute_result"
    },
    {
     "data": {
      "text/plain": [
       "Top nil feature map classification: \tgoldfish, Carassius auratus 23.849115371704\t\n",
       "23.849115371704\t\n",
       "466 is finished\t\n"
      ]
     },
     "execution_count": 35,
     "metadata": {},
     "output_type": "execute_result"
    },
    {
     "data": {
      "text/plain": [
       "Top nil feature map classification: \tgoldfish, Carassius auratus 28.888492584229\t\n",
       "28.888492584229\t\n",
       "467 is finished\t\n"
      ]
     },
     "execution_count": 35,
     "metadata": {},
     "output_type": "execute_result"
    },
    {
     "data": {
      "text/plain": [
       "Top nil feature map classification: \tgoldfish, Carassius auratus 30.795431137085\t\n",
       "30.795431137085\t\n",
       "468 is finished\t\n"
      ]
     },
     "execution_count": 35,
     "metadata": {},
     "output_type": "execute_result"
    },
    {
     "data": {
      "text/plain": [
       "Top nil feature map classification: \tgoldfish, Carassius auratus 19.068479537964\t\n",
       "19.068479537964\t\n",
       "469 is finished\t\n"
      ]
     },
     "execution_count": 35,
     "metadata": {},
     "output_type": "execute_result"
    },
    {
     "data": {
      "text/plain": [
       "Top nil feature map classification: \tpitcher, ewer 9.3961362838745\t\n",
       "6.2839245796204\t\n",
       "470 is finished\t\n"
      ]
     },
     "execution_count": 35,
     "metadata": {},
     "output_type": "execute_result"
    },
    {
     "data": {
      "text/plain": [
       "Top nil feature map classification: \tgoldfish, Carassius auratus 27.105606079102\t\n",
       "27.105606079102\t\n",
       "471 is finished\t\n"
      ]
     },
     "execution_count": 35,
     "metadata": {},
     "output_type": "execute_result"
    },
    {
     "data": {
      "text/plain": [
       "Top nil feature map classification: \tgoldfish, Carassius auratus 17.599903106689\t\n",
       "17.599903106689\t\n",
       "472 is finished\t\n"
      ]
     },
     "execution_count": 35,
     "metadata": {},
     "output_type": "execute_result"
    },
    {
     "data": {
      "text/plain": [
       "Top nil feature map classification: \tplastic bag 6.583517074585\t\n",
       "5.8935208320618\t\n",
       "473 is finished\t\n"
      ]
     },
     "execution_count": 35,
     "metadata": {},
     "output_type": "execute_result"
    },
    {
     "data": {
      "text/plain": [
       "Top nil feature map classification: \tgoldfish, Carassius auratus 15.682811737061\t\n",
       "15.682811737061\t\n",
       "474 is finished\t\n"
      ]
     },
     "execution_count": 35,
     "metadata": {},
     "output_type": "execute_result"
    },
    {
     "data": {
      "text/plain": [
       "Top nil feature map classification: \tgoldfish, Carassius auratus 21.646575927734\t\n",
       "21.646575927734\t\n",
       "475 is finished\t\n"
      ]
     },
     "execution_count": 35,
     "metadata": {},
     "output_type": "execute_result"
    },
    {
     "data": {
      "text/plain": [
       "Top nil feature map classification: \tgoldfish, Carassius auratus 10.252447128296\t\n",
       "10.252447128296\t\n",
       "476 is finished\t\n"
      ]
     },
     "execution_count": 35,
     "metadata": {},
     "output_type": "execute_result"
    },
    {
     "data": {
      "text/plain": [
       "Top nil feature map classification: \tgoldfish, Carassius auratus 12.304640769958\t\n",
       "12.304640769958\t\n",
       "477 is finished\t\n"
      ]
     },
     "execution_count": 35,
     "metadata": {},
     "output_type": "execute_result"
    },
    {
     "data": {
      "text/plain": [
       "Top nil feature map classification: \tgoldfish, Carassius auratus 22.065359115601\t\n",
       "22.065359115601\t\n",
       "478 is finished\t\n"
      ]
     },
     "execution_count": 35,
     "metadata": {},
     "output_type": "execute_result"
    },
    {
     "data": {
      "text/plain": [
       "Top nil feature map classification: \tgoldfish, Carassius auratus 30.358852386475\t\n"
      ]
     },
     "execution_count": 35,
     "metadata": {},
     "output_type": "execute_result"
    },
    {
     "data": {
      "text/plain": [
       "30.358852386475\t\n",
       "479 is finished\t\n"
      ]
     },
     "execution_count": 35,
     "metadata": {},
     "output_type": "execute_result"
    },
    {
     "data": {
      "text/plain": [
       "Top nil feature map classification: \tgoldfish, Carassius auratus 17.286506652832\t\n",
       "17.286506652832\t\n",
       "480 is finished\t\n"
      ]
     },
     "execution_count": 35,
     "metadata": {},
     "output_type": "execute_result"
    },
    {
     "data": {
      "text/plain": [
       "Top nil feature map classification: \tgoldfish, Carassius auratus 12.279320716858\t\n",
       "12.279320716858\t\n",
       "481 is finished\t\n"
      ]
     },
     "execution_count": 35,
     "metadata": {},
     "output_type": "execute_result"
    },
    {
     "data": {
      "text/plain": [
       "Top nil feature map classification: \tgoldfish, Carassius auratus 13.892420768738\t\n",
       "13.892420768738\t\n",
       "482 is finished\t\n"
      ]
     },
     "execution_count": 35,
     "metadata": {},
     "output_type": "execute_result"
    },
    {
     "data": {
      "text/plain": [
       "Top nil feature map classification: \tgoldfish, Carassius auratus 20.04211807251\t\n",
       "20.04211807251\t\n",
       "483 is finished\t\n"
      ]
     },
     "execution_count": 35,
     "metadata": {},
     "output_type": "execute_result"
    },
    {
     "data": {
      "text/plain": [
       "Top nil feature map classification: \tgoldfish, Carassius auratus 23.728658676147\t\n",
       "23.728658676147\t\n",
       "484 is finished\t\n"
      ]
     },
     "execution_count": 35,
     "metadata": {},
     "output_type": "execute_result"
    },
    {
     "data": {
      "text/plain": [
       "Top nil feature map classification: \tsea anemone, anemone 10.969099998474\t\n",
       "10.48051071167\t\n",
       "485 is finished\t\n"
      ]
     },
     "execution_count": 35,
     "metadata": {},
     "output_type": "execute_result"
    },
    {
     "data": {
      "text/plain": [
       "Top nil feature map classification: \tgoldfish, Carassius auratus 32.499172210693\t\n",
       "32.499172210693\t\n"
      ]
     },
     "execution_count": 35,
     "metadata": {},
     "output_type": "execute_result"
    },
    {
     "data": {
      "text/plain": [
       "486 is finished\t\n"
      ]
     },
     "execution_count": 35,
     "metadata": {},
     "output_type": "execute_result"
    },
    {
     "data": {
      "text/plain": [
       "Top nil feature map classification: \tgoldfish, Carassius auratus 17.735801696777\t\n",
       "17.735801696777\t\n",
       "487 is finished\t\n"
      ]
     },
     "execution_count": 35,
     "metadata": {},
     "output_type": "execute_result"
    },
    {
     "data": {
      "text/plain": [
       "Top nil feature map classification: \tgoldfish, Carassius auratus 24.121103286743\t\n",
       "24.121103286743\t\n",
       "488 is finished\t\n"
      ]
     },
     "execution_count": 35,
     "metadata": {},
     "output_type": "execute_result"
    },
    {
     "data": {
      "text/plain": [
       "Top nil feature map classification: \tgoldfish, Carassius auratus 42.415874481201\t\n",
       "42.415874481201\t\n",
       "489 is finished\t\n"
      ]
     },
     "execution_count": 35,
     "metadata": {},
     "output_type": "execute_result"
    },
    {
     "data": {
      "text/plain": [
       "Top nil feature map classification: \tgoldfish, Carassius auratus 26.091325759888\t\n",
       "26.091325759888\t\n",
       "490 is finished\t\n"
      ]
     },
     "execution_count": 35,
     "metadata": {},
     "output_type": "execute_result"
    },
    {
     "data": {
      "text/plain": [
       "Top nil feature map classification: \tgoldfish, Carassius auratus 13.746236801147\t\n",
       "13.746236801147\t\n",
       "491 is finished\t\n"
      ]
     },
     "execution_count": 35,
     "metadata": {},
     "output_type": "execute_result"
    },
    {
     "data": {
      "text/plain": [
       "Top nil feature map classification: \tGila monster, Heloderma suspectum 8.1916561126709\t\n",
       "6.2565984725952\t\n",
       "492 is finished\t\n"
      ]
     },
     "execution_count": 35,
     "metadata": {},
     "output_type": "execute_result"
    },
    {
     "data": {
      "text/plain": [
       "Top nil feature map classification: \tgoldfish, Carassius auratus 14.27311706543\t\n",
       "14.27311706543\t\n",
       "493 is finished\t\n"
      ]
     },
     "execution_count": 35,
     "metadata": {},
     "output_type": "execute_result"
    },
    {
     "data": {
      "text/plain": [
       "Top nil feature map classification: \tgoldfish, Carassius auratus 6.7325248718262\t\n",
       "6.7325248718262\t\n",
       "494 is finished\t\n"
      ]
     },
     "execution_count": 35,
     "metadata": {},
     "output_type": "execute_result"
    },
    {
     "data": {
      "text/plain": [
       "Top nil feature map classification: \tgoldfish, Carassius auratus 33.322448730469\t\n",
       "33.322448730469\t\n",
       "495 is finished\t\n"
      ]
     },
     "execution_count": 35,
     "metadata": {},
     "output_type": "execute_result"
    },
    {
     "data": {
      "text/plain": [
       "Top nil feature map classification: \tgoldfish, Carassius auratus 8.611536026001\t\n",
       "8.611536026001\t\n",
       "496 is finished\t\n"
      ]
     },
     "execution_count": 35,
     "metadata": {},
     "output_type": "execute_result"
    },
    {
     "data": {
      "text/plain": [
       "Top nil feature map classification: \tgoldfish, Carassius auratus 25.780073165894\t\n",
       "25.780073165894\t\n",
       "497 is finished\t\n"
      ]
     },
     "execution_count": 35,
     "metadata": {},
     "output_type": "execute_result"
    },
    {
     "data": {
      "text/plain": [
       "Top nil feature map classification: \tgoldfish, Carassius auratus 18.972162246704\t\n",
       "18.972162246704\t\n",
       "498 is finished\t\n"
      ]
     },
     "execution_count": 35,
     "metadata": {},
     "output_type": "execute_result"
    },
    {
     "data": {
      "text/plain": [
       "Top nil feature map classification: \tgoldfish, Carassius auratus 21.772407531738\t\n",
       "21.772407531738\t\n",
       "499 is finished\t\n"
      ]
     },
     "execution_count": 35,
     "metadata": {},
     "output_type": "execute_result"
    },
    {
     "data": {
      "text/plain": [
       "Top nil feature map classification: \tgoldfish, Carassius auratus 15.099635124207\t\n",
       "15.099635124207\t\n",
       "500 is finished\t\n"
      ]
     },
     "execution_count": 35,
     "metadata": {},
     "output_type": "execute_result"
    },
    {
     "data": {
      "text/plain": [
       "Top nil feature map classification: \tgoldfish, Carassius auratus 24.200817108154\t\n",
       "24.200817108154\t\n",
       "501 is finished\t\n"
      ]
     },
     "execution_count": 35,
     "metadata": {},
     "output_type": "execute_result"
    },
    {
     "data": {
      "text/plain": [
       "Top nil feature map classification: \tgoldfish, Carassius auratus 26.648410797119\t\n",
       "26.648410797119\t\n",
       "502 is finished\t\n"
      ]
     },
     "execution_count": 35,
     "metadata": {},
     "output_type": "execute_result"
    },
    {
     "data": {
      "text/plain": [
       "Top nil feature map classification: \tgoldfish, Carassius auratus 15.495649337769\t\n",
       "15.495649337769\t\n",
       "503 is finished\t\n"
      ]
     },
     "execution_count": 35,
     "metadata": {},
     "output_type": "execute_result"
    },
    {
     "data": {
      "text/plain": [
       "Top nil feature map classification: \tgoldfish, Carassius auratus 22.6305103302\t\n",
       "22.6305103302\t\n",
       "504 is finished\t\n"
      ]
     },
     "execution_count": 35,
     "metadata": {},
     "output_type": "execute_result"
    },
    {
     "data": {
      "text/plain": [
       "Top nil feature map classification: \tgoldfish, Carassius auratus 24.376363754272\t\n",
       "24.376363754272\t\n",
       "505 is finished\t\n"
      ]
     },
     "execution_count": 35,
     "metadata": {},
     "output_type": "execute_result"
    },
    {
     "data": {
      "text/plain": [
       "Top nil feature map classification: \tgoldfish, Carassius auratus 22.122776031494\t\n",
       "22.122776031494\t\n",
       "506 is finished\t\n"
      ]
     },
     "execution_count": 35,
     "metadata": {},
     "output_type": "execute_result"
    },
    {
     "data": {
      "text/plain": [
       "Top nil feature map classification: \tgoldfish, Carassius auratus 32.49303817749\t\n",
       "32.49303817749\t\n",
       "507 is finished\t\n"
      ]
     },
     "execution_count": 35,
     "metadata": {},
     "output_type": "execute_result"
    },
    {
     "data": {
      "text/plain": [
       "Top nil feature map classification: \tDutch oven 10.578890800476\t\n",
       "9.2172813415527\t\n",
       "508 is finished\t\n"
      ]
     },
     "execution_count": 35,
     "metadata": {},
     "output_type": "execute_result"
    },
    {
     "data": {
      "text/plain": [
       "Top nil feature map classification: \tgoldfish, Carassius auratus 18.235204696655\t\n",
       "18.235204696655\t\n",
       "509 is finished\t\n"
      ]
     },
     "execution_count": 35,
     "metadata": {},
     "output_type": "execute_result"
    },
    {
     "data": {
      "text/plain": [
       "Top nil feature map classification: \tgoldfish, Carassius auratus 16.621215820312\t\n",
       "16.621215820312\t\n",
       "510 is finished\t\n"
      ]
     },
     "execution_count": 35,
     "metadata": {},
     "output_type": "execute_result"
    },
    {
     "data": {
      "text/plain": [
       "Top nil feature map classification: \tgoldfish, Carassius auratus 26.069093704224\t\n",
       "26.069093704224\t\n",
       "511 is finished\t\n"
      ]
     },
     "execution_count": 35,
     "metadata": {},
     "output_type": "execute_result"
    },
    {
     "data": {
      "text/plain": [
       "Top nil feature map classification: \tgoldfish, Carassius auratus 18.421293258667\t\n",
       "18.421293258667\t\n",
       "512 is finished\t\n"
      ]
     },
     "execution_count": 35,
     "metadata": {},
     "output_type": "execute_result"
    },
    {
     "data": {
      "text/plain": [
       "Top nil feature map classification: \tcoral reef 15.195395469666\t\n",
       "12.840474128723\t\n",
       "513 is finished\t\n"
      ]
     },
     "execution_count": 35,
     "metadata": {},
     "output_type": "execute_result"
    },
    {
     "data": {
      "text/plain": [
       "Top nil feature map classification: \tgoldfish, Carassius auratus 21.243669509888\t\n",
       "21.243669509888\t\n",
       "514 is finished\t\n"
      ]
     },
     "execution_count": 35,
     "metadata": {},
     "output_type": "execute_result"
    },
    {
     "data": {
      "text/plain": [
       "Top nil feature map classification: \tgoldfish, Carassius auratus 13.348341941833\t\n",
       "13.348341941833\t\n",
       "515 is finished\t\n"
      ]
     },
     "execution_count": 35,
     "metadata": {},
     "output_type": "execute_result"
    },
    {
     "data": {
      "text/plain": [
       "Top nil feature map classification: \tgoldfish, Carassius auratus 11.525094032288\t\n",
       "11.525094032288\t\n",
       "516 is finished\t\n"
      ]
     },
     "execution_count": 35,
     "metadata": {},
     "output_type": "execute_result"
    },
    {
     "data": {
      "text/plain": [
       "Top nil feature map classification: \tgoldfish, Carassius auratus 11.151655197144\t\n",
       "11.151655197144\t\n",
       "517 is finished\t\n"
      ]
     },
     "execution_count": 35,
     "metadata": {},
     "output_type": "execute_result"
    },
    {
     "data": {
      "text/plain": [
       "Top nil feature map classification: \tgoldfish, Carassius auratus 18.853904724121\t\n",
       "18.853904724121\t\n",
       "518 is finished\t\n"
      ]
     },
     "execution_count": 35,
     "metadata": {},
     "output_type": "execute_result"
    },
    {
     "data": {
      "text/plain": [
       "Top nil feature map classification: \tgoldfish, Carassius auratus 26.412254333496\t\n",
       "26.412254333496\t\n",
       "519 is finished\t\n"
      ]
     },
     "execution_count": 35,
     "metadata": {},
     "output_type": "execute_result"
    },
    {
     "data": {
      "text/plain": [
       "Top nil feature map classification: \tjellyfish 7.796329498291\t\n",
       "5.3544158935547\t\n",
       "520 is finished\t\n"
      ]
     },
     "execution_count": 35,
     "metadata": {},
     "output_type": "execute_result"
    },
    {
     "data": {
      "text/plain": [
       "Top nil feature map classification: \tcaldron, cauldron 13.286979675293\t\n",
       "8.8399448394775\t\n",
       "521 is finished\t\n"
      ]
     },
     "execution_count": 35,
     "metadata": {},
     "output_type": "execute_result"
    },
    {
     "data": {
      "text/plain": [
       "Top nil feature map classification: \tgoldfish, Carassius auratus 11.738681793213\t\n",
       "11.738681793213\t\n",
       "522 is finished\t\n"
      ]
     },
     "execution_count": 35,
     "metadata": {},
     "output_type": "execute_result"
    },
    {
     "data": {
      "text/plain": [
       "Top nil feature map classification: \tgoldfish, Carassius auratus 10.183591842651\t\n",
       "10.183591842651\t\n",
       "523 is finished\t\n"
      ]
     },
     "execution_count": 35,
     "metadata": {},
     "output_type": "execute_result"
    },
    {
     "data": {
      "text/plain": [
       "Top nil feature map classification: \tgoldfish, Carassius auratus 12.327514648438\t\n",
       "12.327514648438\t\n",
       "524 is finished\t\n"
      ]
     },
     "execution_count": 35,
     "metadata": {},
     "output_type": "execute_result"
    },
    {
     "data": {
      "text/plain": [
       "Top nil feature map classification: \tgoldfish, Carassius auratus 20.001916885376\t\n",
       "20.001916885376\t\n",
       "525 is finished\t\n"
      ]
     },
     "execution_count": 35,
     "metadata": {},
     "output_type": "execute_result"
    },
    {
     "data": {
      "text/plain": [
       "Top nil feature map classification: \tgoldfish, Carassius auratus 26.076147079468\t\n",
       "26.076147079468\t\n",
       "526 is finished\t\n"
      ]
     },
     "execution_count": 35,
     "metadata": {},
     "output_type": "execute_result"
    },
    {
     "data": {
      "text/plain": [
       "Top nil feature map classification: \tgoldfish, Carassius auratus 18.549806594849\t\n",
       "18.549806594849\t\n",
       "527 is finished\t\n"
      ]
     },
     "execution_count": 35,
     "metadata": {},
     "output_type": "execute_result"
    },
    {
     "data": {
      "text/plain": [
       "Top nil feature map classification: \tgoldfish, Carassius auratus 16.926486968994\t\n",
       "16.926486968994\t\n",
       "528 is finished\t\n"
      ]
     },
     "execution_count": 35,
     "metadata": {},
     "output_type": "execute_result"
    },
    {
     "data": {
      "text/plain": [
       "Top nil feature map classification: \tgoldfish, Carassius auratus 26.541687011719\t\n",
       "26.541687011719\t\n",
       "529 is finished\t\n"
      ]
     },
     "execution_count": 35,
     "metadata": {},
     "output_type": "execute_result"
    },
    {
     "data": {
      "text/plain": [
       "Top nil feature map classification: \tgoldfish, Carassius auratus 15.443572998047\t\n",
       "15.443572998047\t\n",
       "530 is finished\t\n"
      ]
     },
     "execution_count": 35,
     "metadata": {},
     "output_type": "execute_result"
    },
    {
     "data": {
      "text/plain": [
       "Top nil feature map classification: \tgoldfish, Carassius auratus 19.218774795532\t\n",
       "19.218774795532\t\n",
       "531 is finished\t\n"
      ]
     },
     "execution_count": 35,
     "metadata": {},
     "output_type": "execute_result"
    },
    {
     "data": {
      "text/plain": [
       "Top nil feature map classification: \tgoldfish, Carassius auratus 29.393781661987\t\n",
       "29.393781661987\t\n",
       "532 is finished\t\n"
      ]
     },
     "execution_count": 35,
     "metadata": {},
     "output_type": "execute_result"
    },
    {
     "data": {
      "text/plain": [
       "Top nil feature map classification: \tgoldfish, Carassius auratus 24.506269454956\t\n",
       "24.506269454956\t\n",
       "533 is finished\t\n"
      ]
     },
     "execution_count": 35,
     "metadata": {},
     "output_type": "execute_result"
    },
    {
     "data": {
      "text/plain": [
       "Top nil feature map classification: \tgoldfish, Carassius auratus 8.5843076705933\t\n",
       "8.5843076705933\t\n",
       "534 is finished\t\n"
      ]
     },
     "execution_count": 35,
     "metadata": {},
     "output_type": "execute_result"
    },
    {
     "data": {
      "text/plain": [
       "Top nil feature map classification: \tcar mirror 8.0600261688232\t\n",
       "5.349404335022\t\n",
       "535 is finished\t\n"
      ]
     },
     "execution_count": 35,
     "metadata": {},
     "output_type": "execute_result"
    },
    {
     "data": {
      "text/plain": [
       "Top nil feature map classification: \tgoldfish, Carassius auratus 14.741106987\t\n",
       "14.741106987\t\n",
       "536 is finished\t\n"
      ]
     },
     "execution_count": 35,
     "metadata": {},
     "output_type": "execute_result"
    },
    {
     "data": {
      "text/plain": [
       "Top nil feature map classification: \tgoldfish, Carassius auratus 12.500198364258\t\n",
       "12.500198364258\t\n",
       "537 is finished\t\n"
      ]
     },
     "execution_count": 35,
     "metadata": {},
     "output_type": "execute_result"
    },
    {
     "data": {
      "text/plain": [
       "Top nil feature map classification: \tgoldfish, Carassius auratus 19.910497665405\t\n",
       "19.910497665405\t\n",
       "538 is finished\t\n"
      ]
     },
     "execution_count": 35,
     "metadata": {},
     "output_type": "execute_result"
    },
    {
     "data": {
      "text/plain": [
       "Top nil feature map classification: \tgoldfish, Carassius auratus 14.109993934631\t\n",
       "14.109993934631\t\n",
       "539 is finished\t\n"
      ]
     },
     "execution_count": 35,
     "metadata": {},
     "output_type": "execute_result"
    },
    {
     "data": {
      "text/plain": [
       "Top nil feature map classification: \tgoldfish, Carassius auratus 21.12398147583\t\n",
       "21.12398147583\t\n",
       "540 is finished\t\n"
      ]
     },
     "execution_count": 35,
     "metadata": {},
     "output_type": "execute_result"
    },
    {
     "data": {
      "text/plain": [
       "Top nil feature map classification: \tgoldfish, Carassius auratus 28.330808639526\t\n",
       "28.330808639526\t\n",
       "541 is finished\t\n"
      ]
     },
     "execution_count": 35,
     "metadata": {},
     "output_type": "execute_result"
    },
    {
     "data": {
      "text/plain": [
       "Top nil feature map classification: \tgoldfish, Carassius auratus 25.493900299072\t\n",
       "25.493900299072\t\n",
       "542 is finished\t\n"
      ]
     },
     "execution_count": 35,
     "metadata": {},
     "output_type": "execute_result"
    },
    {
     "data": {
      "text/plain": [
       "Top nil feature map classification: \tgoldfish, Carassius auratus 25.160280227661\t\n",
       "25.160280227661\t\n",
       "543 is finished\t\n"
      ]
     },
     "execution_count": 35,
     "metadata": {},
     "output_type": "execute_result"
    },
    {
     "data": {
      "text/plain": [
       "Top nil feature map classification: \tgoldfish, Carassius auratus 23.89363861084\t\n",
       "23.89363861084\t\n",
       "544 is finished\t\n"
      ]
     },
     "execution_count": 35,
     "metadata": {},
     "output_type": "execute_result"
    },
    {
     "data": {
      "text/plain": [
       "Top nil feature map classification: \tgoldfish, Carassius auratus 32.382774353027\t\n",
       "32.382774353027\t\n",
       "545 is finished\t\n"
      ]
     },
     "execution_count": 35,
     "metadata": {},
     "output_type": "execute_result"
    },
    {
     "data": {
      "text/plain": [
       "Top nil feature map classification: \tgoldfish, Carassius auratus 19.969476699829\t\n",
       "19.969476699829\t\n",
       "546 is finished\t\n"
      ]
     },
     "execution_count": 35,
     "metadata": {},
     "output_type": "execute_result"
    },
    {
     "data": {
      "text/plain": [
       "Top nil feature map classification: \tgoldfish, Carassius auratus 23.758926391602\t\n",
       "23.758926391602\t\n",
       "547 is finished\t\n"
      ]
     },
     "execution_count": 35,
     "metadata": {},
     "output_type": "execute_result"
    },
    {
     "data": {
      "text/plain": [
       "Top nil feature map classification: \tgoldfish, Carassius auratus 13.686525344849\t\n",
       "13.686525344849\t\n",
       "548 is finished\t\n"
      ]
     },
     "execution_count": 35,
     "metadata": {},
     "output_type": "execute_result"
    },
    {
     "data": {
      "text/plain": [
       "Top nil feature map classification: \tgoldfish, Carassius auratus 13.51117515564\t\n",
       "13.51117515564\t\n",
       "549 is finished\t\n"
      ]
     },
     "execution_count": 35,
     "metadata": {},
     "output_type": "execute_result"
    },
    {
     "data": {
      "text/plain": [
       "Top nil feature map classification: \tgoldfish, Carassius auratus 14.564416885376\t\n",
       "14.564416885376\t\n",
       "550 is finished\t\n"
      ]
     },
     "execution_count": 35,
     "metadata": {},
     "output_type": "execute_result"
    },
    {
     "data": {
      "text/plain": [
       "Top nil feature map classification: \tgoldfish, Carassius auratus 10.208094596863\t\n",
       "10.208094596863\t\n",
       "551 is finished\t\n"
      ]
     },
     "execution_count": 35,
     "metadata": {},
     "output_type": "execute_result"
    },
    {
     "data": {
      "text/plain": [
       "Top nil feature map classification: \tgoldfish, Carassius auratus 19.500822067261\t\n",
       "19.500822067261\t\n",
       "552 is finished\t\n"
      ]
     },
     "execution_count": 35,
     "metadata": {},
     "output_type": "execute_result"
    },
    {
     "data": {
      "text/plain": [
       "Top nil feature map classification: \tgoldfish, Carassius auratus 30.385791778564\t\n",
       "30.385791778564\t\n",
       "553 is finished\t\n"
      ]
     },
     "execution_count": 35,
     "metadata": {},
     "output_type": "execute_result"
    },
    {
     "data": {
      "text/plain": [
       "Top nil feature map classification: \tgoldfish, Carassius auratus 27.628087997437\t\n",
       "27.628087997437\t\n",
       "554 is finished\t\n"
      ]
     },
     "execution_count": 35,
     "metadata": {},
     "output_type": "execute_result"
    },
    {
     "data": {
      "text/plain": [
       "Top nil feature map classification: \tgoldfish, Carassius auratus 23.072984695435\t\n",
       "23.072984695435\t\n",
       "555 is finished\t\n"
      ]
     },
     "execution_count": 35,
     "metadata": {},
     "output_type": "execute_result"
    },
    {
     "data": {
      "text/plain": [
       "Top nil feature map classification: \tgoldfish, Carassius auratus 28.777872085571\t\n",
       "28.777872085571\t\n",
       "556 is finished\t\n"
      ]
     },
     "execution_count": 35,
     "metadata": {},
     "output_type": "execute_result"
    },
    {
     "data": {
      "text/plain": [
       "Top nil feature map classification: \tgoldfish, Carassius auratus 18.718154907227\t\n",
       "18.718154907227\t\n",
       "557 is finished\t\n"
      ]
     },
     "execution_count": 35,
     "metadata": {},
     "output_type": "execute_result"
    },
    {
     "data": {
      "text/plain": [
       "Top nil feature map classification: \tgoldfish, Carassius auratus 22.636205673218\t\n"
      ]
     },
     "execution_count": 35,
     "metadata": {},
     "output_type": "execute_result"
    },
    {
     "data": {
      "text/plain": [
       "22.636205673218\t\n",
       "558 is finished\t\n"
      ]
     },
     "execution_count": 35,
     "metadata": {},
     "output_type": "execute_result"
    },
    {
     "data": {
      "text/plain": [
       "Top nil feature map classification: \tgoldfish, Carassius auratus 27.195020675659\t\n",
       "27.195020675659\t\n",
       "559 is finished\t\n"
      ]
     },
     "execution_count": 35,
     "metadata": {},
     "output_type": "execute_result"
    },
    {
     "data": {
      "text/plain": [
       "Top nil feature map classification: \tgoldfish, Carassius auratus 21.068105697632\t\n",
       "21.068105697632\t\n",
       "560 is finished\t\n"
      ]
     },
     "execution_count": 35,
     "metadata": {},
     "output_type": "execute_result"
    },
    {
     "data": {
      "text/plain": [
       "Top nil feature map classification: \tgoldfish, Carassius auratus 21.595109939575\t\n",
       "21.595109939575\t\n",
       "561 is finished\t\n"
      ]
     },
     "execution_count": 35,
     "metadata": {},
     "output_type": "execute_result"
    },
    {
     "data": {
      "text/plain": [
       "Top nil feature map classification: \tgoldfish, Carassius auratus 27.89785194397\t\n",
       "27.89785194397\t\n",
       "562 is finished\t\n"
      ]
     },
     "execution_count": 35,
     "metadata": {},
     "output_type": "execute_result"
    },
    {
     "data": {
      "text/plain": [
       "Top nil feature map classification: \tgoldfish, Carassius auratus 23.952854156494\t\n",
       "23.952854156494\t\n",
       "563 is finished\t\n"
      ]
     },
     "execution_count": 35,
     "metadata": {},
     "output_type": "execute_result"
    },
    {
     "data": {
      "text/plain": [
       "Top nil feature map classification: \tcrayfish, crawfish, crawdad, crawdaddy 12.353275299072\t\n",
       "12.175499916077\t\n",
       "564 is finished\t\n"
      ]
     },
     "execution_count": 35,
     "metadata": {},
     "output_type": "execute_result"
    },
    {
     "data": {
      "text/plain": [
       "Top nil feature map classification: \tgoldfish, Carassius auratus 32.975536346436\t\n",
       "32.975536346436\t\n",
       "565 is finished\t\n"
      ]
     },
     "execution_count": 35,
     "metadata": {},
     "output_type": "execute_result"
    },
    {
     "data": {
      "text/plain": [
       "Top nil feature map classification: \tmacaw 18.656873703003\t\n",
       "15.355262756348\t\n",
       "566 is finished\t\n"
      ]
     },
     "execution_count": 35,
     "metadata": {},
     "output_type": "execute_result"
    },
    {
     "data": {
      "text/plain": [
       "Top nil feature map classification: \tgoldfish, Carassius auratus 9.4269943237305\t\n",
       "9.4269943237305\t\n",
       "567 is finished\t\n"
      ]
     },
     "execution_count": 35,
     "metadata": {},
     "output_type": "execute_result"
    },
    {
     "data": {
      "text/plain": [
       "Top nil feature map classification: \twok 9.097541809082\t\n",
       "8.916708946228\t\n",
       "568 is finished\t\n"
      ]
     },
     "execution_count": 35,
     "metadata": {},
     "output_type": "execute_result"
    },
    {
     "data": {
      "text/plain": [
       "Top nil feature map classification: \tgoldfish, Carassius auratus 19.603565216064\t\n",
       "19.603565216064\t\n",
       "569 is finished\t\n"
      ]
     },
     "execution_count": 35,
     "metadata": {},
     "output_type": "execute_result"
    },
    {
     "data": {
      "text/plain": [
       "Top nil feature map classification: \tgoldfish, Carassius auratus 9.9998111724854\t\n",
       "9.9998111724854\t\n",
       "570 is finished\t\n"
      ]
     },
     "execution_count": 35,
     "metadata": {},
     "output_type": "execute_result"
    },
    {
     "data": {
      "text/plain": [
       "Top nil feature map classification: \tgoldfish, Carassius auratus 21.729072570801\t\n",
       "21.729072570801\t\n",
       "571 is finished\t\n"
      ]
     },
     "execution_count": 35,
     "metadata": {},
     "output_type": "execute_result"
    },
    {
     "data": {
      "text/plain": [
       "Top nil feature map classification: \tgoldfish, Carassius auratus 18.900308609009\t\n",
       "18.900308609009\t\n",
       "572 is finished\t\n"
      ]
     },
     "execution_count": 35,
     "metadata": {},
     "output_type": "execute_result"
    },
    {
     "data": {
      "text/plain": [
       "Top nil feature map classification: \tgoldfish, Carassius auratus 18.841102600098\t\n",
       "18.841102600098\t\n",
       "573 is finished\t\n"
      ]
     },
     "execution_count": 35,
     "metadata": {},
     "output_type": "execute_result"
    },
    {
     "data": {
      "text/plain": [
       "Top nil feature map classification: \tgoldfish, Carassius auratus 31.424352645874\t\n",
       "31.424352645874\t\n",
       "574 is finished\t\n"
      ]
     },
     "execution_count": 35,
     "metadata": {},
     "output_type": "execute_result"
    },
    {
     "data": {
      "text/plain": [
       "Top nil feature map classification: \tgoldfish, Carassius auratus 15.972631454468\t\n",
       "15.972631454468\t\n",
       "575 is finished\t\n"
      ]
     },
     "execution_count": 35,
     "metadata": {},
     "output_type": "execute_result"
    },
    {
     "data": {
      "text/plain": [
       "Top nil feature map classification: \tgoldfish, Carassius auratus 12.547061920166\t\n",
       "12.547061920166\t\n",
       "576 is finished\t\n"
      ]
     },
     "execution_count": 35,
     "metadata": {},
     "output_type": "execute_result"
    },
    {
     "data": {
      "text/plain": [
       "Top nil feature map classification: \tgoldfish, Carassius auratus 14.302846908569\t\n",
       "14.302846908569\t\n",
       "577 is finished\t\n"
      ]
     },
     "execution_count": 35,
     "metadata": {},
     "output_type": "execute_result"
    },
    {
     "data": {
      "text/plain": [
       "Top nil feature map classification: \tgoldfish, Carassius auratus 12.775919914246\t\n",
       "12.775919914246\t\n",
       "578 is finished\t\n"
      ]
     },
     "execution_count": 35,
     "metadata": {},
     "output_type": "execute_result"
    },
    {
     "data": {
      "text/plain": [
       "Top nil feature map classification: \tgoldfish, Carassius auratus 19.601671218872\t\n",
       "19.601671218872\t\n",
       "579 is finished\t\n"
      ]
     },
     "execution_count": 35,
     "metadata": {},
     "output_type": "execute_result"
    },
    {
     "data": {
      "text/plain": [
       "Top nil feature map classification: \tgoldfish, Carassius auratus 23.740875244141\t\n",
       "23.740875244141\t\n",
       "580 is finished\t\n"
      ]
     },
     "execution_count": 35,
     "metadata": {},
     "output_type": "execute_result"
    },
    {
     "data": {
      "text/plain": [
       "Top nil feature map classification: \tgoldfish, Carassius auratus 24.99750328064\t\n",
       "24.99750328064\t\n",
       "581 is finished\t\n"
      ]
     },
     "execution_count": 35,
     "metadata": {},
     "output_type": "execute_result"
    },
    {
     "data": {
      "text/plain": [
       "Top nil feature map classification: \tgoldfish, Carassius auratus 26.031225204468\t\n",
       "26.031225204468\t\n",
       "582 is finished\t\n"
      ]
     },
     "execution_count": 35,
     "metadata": {},
     "output_type": "execute_result"
    },
    {
     "data": {
      "text/plain": [
       "Top nil feature map classification: \tcoral reef 13.005573272705\t\n",
       "11.984869003296\t\n",
       "583 is finished\t\n"
      ]
     },
     "execution_count": 35,
     "metadata": {},
     "output_type": "execute_result"
    },
    {
     "data": {
      "text/plain": [
       "Top nil feature map classification: \tgoldfish, Carassius auratus 13.00105381012\t\n",
       "13.00105381012\t\n",
       "584 is finished\t\n"
      ]
     },
     "execution_count": 35,
     "metadata": {},
     "output_type": "execute_result"
    },
    {
     "data": {
      "text/plain": [
       "Top nil feature map classification: \tgoldfish, Carassius auratus 15.407368659973\t\n",
       "15.407368659973\t\n",
       "585 is finished\t\n"
      ]
     },
     "execution_count": 35,
     "metadata": {},
     "output_type": "execute_result"
    },
    {
     "data": {
      "text/plain": [
       "Top nil feature map classification: \tgoldfish, Carassius auratus 24.755277633667\t\n",
       "24.755277633667\t\n",
       "586 is finished\t\n"
      ]
     },
     "execution_count": 35,
     "metadata": {},
     "output_type": "execute_result"
    },
    {
     "data": {
      "text/plain": [
       "Top nil feature map classification: \teel 11.157420158386\t\n",
       "10.126328468323\t\n",
       "587 is finished\t\n"
      ]
     },
     "execution_count": 35,
     "metadata": {},
     "output_type": "execute_result"
    },
    {
     "data": {
      "text/plain": [
       "Top nil feature map classification: \tgoldfish, Carassius auratus 9.1741342544556\t\n",
       "9.1741342544556\t\n",
       "588 is finished\t\n"
      ]
     },
     "execution_count": 35,
     "metadata": {},
     "output_type": "execute_result"
    },
    {
     "data": {
      "text/plain": [
       "Top nil feature map classification: \tgoldfish, Carassius auratus 32.373851776123\t\n",
       "32.373851776123\t\n",
       "589 is finished\t\n"
      ]
     },
     "execution_count": 35,
     "metadata": {},
     "output_type": "execute_result"
    },
    {
     "data": {
      "text/plain": [
       "Top nil feature map classification: \tgoldfish, Carassius auratus 12.945592880249\t\n",
       "12.945592880249\t\n",
       "590 is finished\t\n"
      ]
     },
     "execution_count": 35,
     "metadata": {},
     "output_type": "execute_result"
    },
    {
     "data": {
      "text/plain": [
       "Top nil feature map classification: \t"
      ]
     },
     "execution_count": 35,
     "metadata": {},
     "output_type": "execute_result"
    },
    {
     "data": {
      "text/plain": [
       "bubble 9.6618690490723\t\n",
       "4.8840599060059\t\n",
       "591 is finished\t\n"
      ]
     },
     "execution_count": 35,
     "metadata": {},
     "output_type": "execute_result"
    },
    {
     "data": {
      "text/plain": [
       "Top nil feature map classification: \tgoldfish, Carassius auratus 34.659557342529\t\n",
       "34.659557342529\t\n",
       "592 is finished\t\n"
      ]
     },
     "execution_count": 35,
     "metadata": {},
     "output_type": "execute_result"
    },
    {
     "data": {
      "text/plain": [
       "Top nil feature map classification: \tgoldfish, Carassius auratus 19.607355117798\t\n",
       "19.607355117798\t\n",
       "593 is finished\t\n"
      ]
     },
     "execution_count": 35,
     "metadata": {},
     "output_type": "execute_result"
    },
    {
     "data": {
      "text/plain": [
       "Top nil feature map classification: \tsnail 11.689735412598\t\n",
       "10.864460945129\t\n",
       "594 is finished\t\n"
      ]
     },
     "execution_count": 35,
     "metadata": {},
     "output_type": "execute_result"
    },
    {
     "data": {
      "text/plain": [
       "Top nil feature map classification: \tgoldfish, Carassius auratus 22.961595535278\t\n",
       "22.961595535278\t\n",
       "595 is finished\t\n"
      ]
     },
     "execution_count": 35,
     "metadata": {},
     "output_type": "execute_result"
    },
    {
     "data": {
      "text/plain": [
       "Top nil feature map classification: \tgoldfish, Carassius auratus 10.252435684204\t\n",
       "10.252435684204\t\n",
       "596 is finished\t\n"
      ]
     },
     "execution_count": 35,
     "metadata": {},
     "output_type": "execute_result"
    },
    {
     "data": {
      "text/plain": [
       "Top nil feature map classification: \tgoldfish, Carassius auratus 9.4452781677246\t\n",
       "9.4452781677246\t\n",
       "597 is finished\t\n"
      ]
     },
     "execution_count": 35,
     "metadata": {},
     "output_type": "execute_result"
    },
    {
     "data": {
      "text/plain": [
       "Top nil feature map classification: \tgoldfish, Carassius auratus 24.7151927948\t\n",
       "24.7151927948\t\n",
       "598 is finished\t\n"
      ]
     },
     "execution_count": 35,
     "metadata": {},
     "output_type": "execute_result"
    },
    {
     "data": {
      "text/plain": [
       "Top nil feature map classification: \tgoldfish, Carassius auratus 42.048709869385\t\n",
       "42.048709869385\t\n",
       "599 is finished\t\n"
      ]
     },
     "execution_count": 35,
     "metadata": {},
     "output_type": "execute_result"
    },
    {
     "data": {
      "text/plain": [
       "Top nil feature map classification: \tgoldfish, Carassius auratus 32.873924255371\t\n",
       "32.873924255371\t\n",
       "600 is finished\t\n"
      ]
     },
     "execution_count": 35,
     "metadata": {},
     "output_type": "execute_result"
    },
    {
     "data": {
      "text/plain": [
       "Top nil feature map classification: \tgoldfish, Carassius auratus 26.288541793823\t\n",
       "26.288541793823\t\n",
       "601 is finished\t\n"
      ]
     },
     "execution_count": 35,
     "metadata": {},
     "output_type": "execute_result"
    },
    {
     "data": {
      "text/plain": [
       "Top nil feature map classification: \tgoldfish, Carassius auratus 34.218677520752\t\n",
       "34.218677520752\t\n",
       "602 is finished\t\n"
      ]
     },
     "execution_count": 35,
     "metadata": {},
     "output_type": "execute_result"
    },
    {
     "data": {
      "text/plain": [
       "Top nil feature map classification: \tgoldfish, Carassius auratus 30.690185546875\t\n",
       "30.690185546875\t\n",
       "603 is finished\t\n"
      ]
     },
     "execution_count": 35,
     "metadata": {},
     "output_type": "execute_result"
    },
    {
     "data": {
      "text/plain": [
       "Top nil feature map classification: \tgoldfish, Carassius auratus 24.891136169434\t\n",
       "24.891136169434\t\n",
       "604 is finished\t\n"
      ]
     },
     "execution_count": 35,
     "metadata": {},
     "output_type": "execute_result"
    },
    {
     "data": {
      "text/plain": [
       "Top nil feature map classification: \tgoldfish, Carassius auratus 30.762414932251\t\n",
       "30.762414932251\t\n",
       "605 is finished\t\n"
      ]
     },
     "execution_count": 35,
     "metadata": {},
     "output_type": "execute_result"
    },
    {
     "data": {
      "text/plain": [
       "Top nil feature map classification: \tcrayfish, crawfish, crawdad, crawdaddy 12.74450302124\t\n",
       "10.129034042358\t\n",
       "606 is finished\t\n"
      ]
     },
     "execution_count": 35,
     "metadata": {},
     "output_type": "execute_result"
    },
    {
     "data": {
      "text/plain": [
       "Top nil feature map classification: \tgoldfish, Carassius auratus 19.323028564453\t\n",
       "19.323028564453\t\n",
       "607 is finished\t\n"
      ]
     },
     "execution_count": 35,
     "metadata": {},
     "output_type": "execute_result"
    },
    {
     "data": {
      "text/plain": [
       "Top nil feature map classification: \tgoldfish, Carassius auratus 18.187355041504\t\n",
       "18.187355041504\t\n",
       "608 is finished\t\n"
      ]
     },
     "execution_count": 35,
     "metadata": {},
     "output_type": "execute_result"
    },
    {
     "data": {
      "text/plain": [
       "Top nil feature map classification: \tgoldfish, Carassius auratus 22.479249954224\t\n",
       "22.479249954224\t\n",
       "609 is finished\t\n"
      ]
     },
     "execution_count": 35,
     "metadata": {},
     "output_type": "execute_result"
    },
    {
     "data": {
      "text/plain": [
       "Top nil feature map classification: \tgoldfish, Carassius auratus 32.732536315918\t\n",
       "32.732536315918\t\n",
       "610 is finished\t\n"
      ]
     },
     "execution_count": 35,
     "metadata": {},
     "output_type": "execute_result"
    },
    {
     "data": {
      "text/plain": [
       "Top nil feature map classification: \tgoldfish, Carassius auratus 18.857416152954\t\n",
       "18.857416152954\t\n",
       "611 is finished\t\n"
      ]
     },
     "execution_count": 35,
     "metadata": {},
     "output_type": "execute_result"
    },
    {
     "data": {
      "text/plain": [
       "Top nil feature map classification: \tgoldfish, Carassius auratus 13.065437316895\t\n",
       "13.065437316895\t\n",
       "612 is finished\t\n"
      ]
     },
     "execution_count": 35,
     "metadata": {},
     "output_type": "execute_result"
    },
    {
     "data": {
      "text/plain": [
       "Top nil feature map classification: \tgoldfish, Carassius auratus 16.983852386475\t\n",
       "16.983852386475\t\n",
       "613 is finished\t\n"
      ]
     },
     "execution_count": 35,
     "metadata": {},
     "output_type": "execute_result"
    },
    {
     "data": {
      "text/plain": [
       "Top nil feature map classification: \tgoldfish, Carassius auratus 17.116222381592\t\n",
       "17.116222381592\t\n",
       "614 is finished\t\n"
      ]
     },
     "execution_count": 35,
     "metadata": {},
     "output_type": "execute_result"
    },
    {
     "data": {
      "text/plain": [
       "Top nil feature map classification: \tgoldfish, Carassius auratus 21.835664749146\t\n",
       "21.835664749146\t\n",
       "615 is finished\t\n"
      ]
     },
     "execution_count": 35,
     "metadata": {},
     "output_type": "execute_result"
    },
    {
     "data": {
      "text/plain": [
       "Top nil feature map classification: \tgoldfish, Carassius auratus 14.148861885071\t\n",
       "14.148861885071\t\n",
       "616 is finished\t\n"
      ]
     },
     "execution_count": 35,
     "metadata": {},
     "output_type": "execute_result"
    },
    {
     "data": {
      "text/plain": [
       "Top nil feature map classification: \tgoldfish, Carassius auratus 25.949111938477\t\n",
       "25.949111938477\t\n",
       "617 is finished\t\n"
      ]
     },
     "execution_count": 35,
     "metadata": {},
     "output_type": "execute_result"
    },
    {
     "data": {
      "text/plain": [
       "Top nil feature map classification: \tgoldfish, Carassius auratus 20.629009246826\t\n",
       "20.629009246826\t\n",
       "618 is finished\t\n"
      ]
     },
     "execution_count": 35,
     "metadata": {},
     "output_type": "execute_result"
    },
    {
     "data": {
      "text/plain": [
       "Top nil feature map classification: \tgoldfish, Carassius auratus 13.397099494934\t\n",
       "13.397099494934\t\n",
       "619 is finished\t\n"
      ]
     },
     "execution_count": 35,
     "metadata": {},
     "output_type": "execute_result"
    },
    {
     "data": {
      "text/plain": [
       "Top nil feature map classification: \tgoldfish, Carassius auratus 20.818723678589\t\n",
       "20.818723678589\t\n",
       "620 is finished\t\n"
      ]
     },
     "execution_count": 35,
     "metadata": {},
     "output_type": "execute_result"
    },
    {
     "data": {
      "text/plain": [
       "Top nil feature map classification: \tgoldfish, Carassius auratus 11.31983089447\t\n",
       "11.31983089447\t\n",
       "621 is finished\t\n"
      ]
     },
     "execution_count": 35,
     "metadata": {},
     "output_type": "execute_result"
    },
    {
     "data": {
      "text/plain": [
       "Top nil feature map classification: \tgoldfish, Carassius auratus 22.948900222778\t\n",
       "22.948900222778\t\n",
       "622 is finished\t\n"
      ]
     },
     "execution_count": 35,
     "metadata": {},
     "output_type": "execute_result"
    },
    {
     "data": {
      "text/plain": [
       "Top nil feature map classification: \tgoldfish, Carassius auratus 21.948003768921\t\n",
       "21.948003768921\t\n",
       "623 is finished\t\n"
      ]
     },
     "execution_count": 35,
     "metadata": {},
     "output_type": "execute_result"
    },
    {
     "data": {
      "text/plain": [
       "Top nil feature map classification: \tgoldfish, Carassius auratus 23.584352493286\t\n",
       "23.584352493286\t\n",
       "624 is finished\t\n"
      ]
     },
     "execution_count": 35,
     "metadata": {},
     "output_type": "execute_result"
    },
    {
     "data": {
      "text/plain": [
       "Top nil feature map classification: \tgoldfish, Carassius auratus 35.648124694824\t\n",
       "35.648124694824\t\n",
       "625 is finished\t\n"
      ]
     },
     "execution_count": 35,
     "metadata": {},
     "output_type": "execute_result"
    },
    {
     "data": {
      "text/plain": [
       "Top nil feature map classification: \tgoldfish, Carassius auratus 15.185645103455\t\n",
       "15.185645103455\t\n",
       "626 is finished\t\n"
      ]
     },
     "execution_count": 35,
     "metadata": {},
     "output_type": "execute_result"
    },
    {
     "data": {
      "text/plain": [
       "Top nil feature map classification: \tshower curtain 8.6182737350464\t\n",
       "5.4737167358398\t\n",
       "627 is finished\t\n"
      ]
     },
     "execution_count": 35,
     "metadata": {},
     "output_type": "execute_result"
    },
    {
     "data": {
      "text/plain": [
       "Top nil feature map classification: \tgoldfish, Carassius auratus 17.104457855225\t\n",
       "17.104457855225\t\n",
       "628 is finished\t\n"
      ]
     },
     "execution_count": 35,
     "metadata": {},
     "output_type": "execute_result"
    },
    {
     "data": {
      "text/plain": [
       "Top nil feature map classification: \tgoldfish, Carassius auratus 35.462738037109\t\n",
       "35.462738037109\t\n",
       "629 is finished\t\n"
      ]
     },
     "execution_count": 35,
     "metadata": {},
     "output_type": "execute_result"
    },
    {
     "data": {
      "text/plain": [
       "Top nil feature map classification: \tgoldfish, Carassius auratus 24.655700683594\t\n",
       "24.655700683594\t\n",
       "630 is finished\t\n"
      ]
     },
     "execution_count": 35,
     "metadata": {},
     "output_type": "execute_result"
    },
    {
     "data": {
      "text/plain": [
       "Top nil feature map classification: \tgoldfish, Carassius auratus 18.015794754028\t\n",
       "18.015794754028\t\n",
       "631 is finished\t\n"
      ]
     },
     "execution_count": 35,
     "metadata": {},
     "output_type": "execute_result"
    },
    {
     "data": {
      "text/plain": [
       "Top nil feature map classification: \tgoldfish, Carassius auratus 20.433431625366\t\n",
       "20.433431625366\t\n",
       "632 is finished\t\n"
      ]
     },
     "execution_count": 35,
     "metadata": {},
     "output_type": "execute_result"
    },
    {
     "data": {
      "text/plain": [
       "Top nil feature map classification: \tgoldfish, Carassius auratus 23.184869766235\t\n",
       "23.184869766235\t\n",
       "633 is finished\t\n"
      ]
     },
     "execution_count": 35,
     "metadata": {},
     "output_type": "execute_result"
    },
    {
     "data": {
      "text/plain": [
       "Top nil feature map classification: \tgoldfish, Carassius auratus 19.002412796021\t\n",
       "19.002412796021\t\n",
       "634 is finished\t\n"
      ]
     },
     "execution_count": 35,
     "metadata": {},
     "output_type": "execute_result"
    },
    {
     "data": {
      "text/plain": [
       "Top nil feature map classification: \tgoldfish, Carassius auratus 38.464282989502\t\n",
       "38.464282989502\t\n",
       "635 is finished\t\n"
      ]
     },
     "execution_count": 35,
     "metadata": {},
     "output_type": "execute_result"
    },
    {
     "data": {
      "text/plain": [
       "Top nil feature map classification: \tgoldfish, Carassius auratus 14.649133682251\t\n",
       "14.649133682251\t\n",
       "636 is finished\t\n"
      ]
     },
     "execution_count": 35,
     "metadata": {},
     "output_type": "execute_result"
    },
    {
     "data": {
      "text/plain": [
       "Top nil feature map classification: \tgoldfish, Carassius auratus 12.565707206726\t\n",
       "12.565707206726\t\n",
       "637 is finished\t\n"
      ]
     },
     "execution_count": 35,
     "metadata": {},
     "output_type": "execute_result"
    },
    {
     "data": {
      "text/plain": [
       "Top nil feature map classification: \tgoldfish, Carassius auratus 18.298957824707\t\n",
       "18.298957824707\t\n",
       "638 is finished\t\n"
      ]
     },
     "execution_count": 35,
     "metadata": {},
     "output_type": "execute_result"
    },
    {
     "data": {
      "text/plain": [
       "Top nil feature map classification: \tgoldfish, Carassius auratus 29.755746841431\t\n",
       "29.755746841431\t\n",
       "639 is finished\t\n"
      ]
     },
     "execution_count": 35,
     "metadata": {},
     "output_type": "execute_result"
    },
    {
     "data": {
      "text/plain": [
       "Top nil feature map classification: \tgoldfish, Carassius auratus 20.194906234741\t\n",
       "20.194906234741\t\n",
       "640 is finished\t\n"
      ]
     },
     "execution_count": 35,
     "metadata": {},
     "output_type": "execute_result"
    },
    {
     "data": {
      "text/plain": [
       "Top nil feature map classification: \tgoldfish, Carassius auratus 25.772033691406\t\n",
       "25.772033691406\t\n",
       "641 is finished\t\n"
      ]
     },
     "execution_count": 35,
     "metadata": {},
     "output_type": "execute_result"
    },
    {
     "data": {
      "text/plain": [
       "Top nil feature map classification: \tgoldfish, Carassius auratus 11.658178329468\t\n",
       "11.658178329468\t\n",
       "642 is finished\t\n"
      ]
     },
     "execution_count": 35,
     "metadata": {},
     "output_type": "execute_result"
    },
    {
     "data": {
      "text/plain": [
       "Top nil feature map classification: \tgoldfish, Carassius auratus 12.646543502808\t\n",
       "12.646543502808\t\n",
       "643 is finished\t\n"
      ]
     },
     "execution_count": 35,
     "metadata": {},
     "output_type": "execute_result"
    },
    {
     "data": {
      "text/plain": [
       "Top nil feature map classification: \tgoblet 14.166272163391\t\n",
       "6.973240852356\t\n",
       "644 is finished\t\n"
      ]
     },
     "execution_count": 35,
     "metadata": {},
     "output_type": "execute_result"
    },
    {
     "data": {
      "text/plain": [
       "Top nil feature map classification: \tgoldfish, Carassius auratus 22.757598876953\t\n",
       "22.757598876953\t\n",
       "645 is finished\t\n"
      ]
     },
     "execution_count": 35,
     "metadata": {},
     "output_type": "execute_result"
    },
    {
     "data": {
      "text/plain": [
       "Top nil feature map classification: \tgoldfish, Carassius auratus 16.564111709595\t\n",
       "16.564111709595\t\n",
       "646 is finished\t\n"
      ]
     },
     "execution_count": 35,
     "metadata": {},
     "output_type": "execute_result"
    },
    {
     "data": {
      "text/plain": [
       "Top nil feature map classification: \tgoldfish, Carassius auratus 25.650587081909\t\n",
       "25.650587081909\t\n",
       "647 is finished\t\n"
      ]
     },
     "execution_count": 35,
     "metadata": {},
     "output_type": "execute_result"
    },
    {
     "data": {
      "text/plain": [
       "Top nil feature map classification: \tgoldfish, Carassius auratus 12.079943656921\t\n",
       "12.079943656921\t\n",
       "648 is finished\t\n"
      ]
     },
     "execution_count": 35,
     "metadata": {},
     "output_type": "execute_result"
    },
    {
     "data": {
      "text/plain": [
       "Top nil feature map classification: \tgoldfish, Carassius auratus 32.39852142334\t\n",
       "32.39852142334\t\n",
       "649 is finished\t\n"
      ]
     },
     "execution_count": 35,
     "metadata": {},
     "output_type": "execute_result"
    },
    {
     "data": {
      "text/plain": [
       "Top nil feature map classification: \tgoldfish, Carassius auratus 17.691316604614\t\n",
       "17.691316604614\t\n",
       "650 is finished\t\n"
      ]
     },
     "execution_count": 35,
     "metadata": {},
     "output_type": "execute_result"
    },
    {
     "data": {
      "text/plain": [
       "Top nil feature map classification: \tgoldfish, Carassius auratus 12.821426391602\t\n",
       "12.821426391602\t\n",
       "651 is finished\t\n"
      ]
     },
     "execution_count": 35,
     "metadata": {},
     "output_type": "execute_result"
    },
    {
     "data": {
      "text/plain": [
       "Top nil feature map classification: \tgoldfish, Carassius auratus 21.212303161621\t\n",
       "21.212303161621\t\n",
       "652 is finished\t\n"
      ]
     },
     "execution_count": 35,
     "metadata": {},
     "output_type": "execute_result"
    },
    {
     "data": {
      "text/plain": [
       "Top nil feature map classification: \tgoldfish, Carassius auratus 27.81097984314\t\n",
       "27.81097984314\t\n",
       "653 is finished\t\n"
      ]
     },
     "execution_count": 35,
     "metadata": {},
     "output_type": "execute_result"
    },
    {
     "data": {
      "text/plain": [
       "Top nil feature map classification: \tgoldfish, Carassius auratus 26.916471481323\t\n",
       "26.916471481323\t\n",
       "654 is finished\t\n"
      ]
     },
     "execution_count": 35,
     "metadata": {},
     "output_type": "execute_result"
    },
    {
     "data": {
      "text/plain": [
       "Top nil feature map classification: \tgoldfish, Carassius auratus 20.510622024536\t\n",
       "20.510622024536\t\n",
       "655 is finished\t\n"
      ]
     },
     "execution_count": 35,
     "metadata": {},
     "output_type": "execute_result"
    },
    {
     "data": {
      "text/plain": [
       "Top nil feature map classification: \tgoldfish, Carassius auratus 15.587942123413\t\n",
       "15.587942123413\t\n",
       "656 is finished\t\n"
      ]
     },
     "execution_count": 35,
     "metadata": {},
     "output_type": "execute_result"
    },
    {
     "data": {
      "text/plain": [
       "Top nil feature map classification: \tgoldfish, Carassius auratus 23.902244567871\t\n",
       "23.902244567871\t\n",
       "657 is finished\t\n"
      ]
     },
     "execution_count": 35,
     "metadata": {},
     "output_type": "execute_result"
    },
    {
     "data": {
      "text/plain": [
       "Top nil feature map classification: \tgoldfish, Carassius auratus 11.189099311829\t\n",
       "11.189099311829\t\n",
       "658 is finished\t\n"
      ]
     },
     "execution_count": 35,
     "metadata": {},
     "output_type": "execute_result"
    },
    {
     "data": {
      "text/plain": [
       "Top nil feature map classification: \tgoldfish, Carassius auratus 12.218747138977\t\n",
       "12.218747138977\t\n",
       "659 is finished\t\n"
      ]
     },
     "execution_count": 35,
     "metadata": {},
     "output_type": "execute_result"
    },
    {
     "data": {
      "text/plain": [
       "Top nil feature map classification: \tgoldfish, Carassius auratus 10.472943305969\t\n",
       "10.472943305969\t\n",
       "660 is finished\t\n"
      ]
     },
     "execution_count": 35,
     "metadata": {},
     "output_type": "execute_result"
    },
    {
     "data": {
      "text/plain": [
       "Top nil feature map classification: \tgoldfish, Carassius auratus 19.771989822388\t\n",
       "19.771989822388\t\n",
       "661 is finished\t\n"
      ]
     },
     "execution_count": 35,
     "metadata": {},
     "output_type": "execute_result"
    },
    {
     "data": {
      "text/plain": [
       "Top nil feature map classification: \tgoldfish, Carassius auratus 10.367650032043\t\n",
       "10.367650032043\t\n",
       "662 is finished\t\n"
      ]
     },
     "execution_count": 35,
     "metadata": {},
     "output_type": "execute_result"
    },
    {
     "data": {
      "text/plain": [
       "Top nil feature map classification: \tgoldfish, Carassius auratus 25.243637084961\t\n",
       "25.243637084961\t\n",
       "663 is finished\t\n"
      ]
     },
     "execution_count": 35,
     "metadata": {},
     "output_type": "execute_result"
    },
    {
     "data": {
      "text/plain": [
       "Top nil feature map classification: \tgoldfish, Carassius auratus 16.972953796387\t\n",
       "16.972953796387\t\n",
       "664 is finished\t\n"
      ]
     },
     "execution_count": 35,
     "metadata": {},
     "output_type": "execute_result"
    },
    {
     "data": {
      "text/plain": [
       "Top nil feature map classification: \tplastic bag 7.1689777374268\t\n",
       "1.363902926445\t\n",
       "665 is finished\t\n"
      ]
     },
     "execution_count": 35,
     "metadata": {},
     "output_type": "execute_result"
    },
    {
     "data": {
      "text/plain": [
       "Top nil feature map classification: \tgoldfish, Carassius auratus 8.7586622238159\t\n",
       "8.7586622238159\t\n",
       "666 is finished\t\n"
      ]
     },
     "execution_count": 35,
     "metadata": {},
     "output_type": "execute_result"
    },
    {
     "data": {
      "text/plain": [
       "Top nil feature map classification: \tgoldfish, Carassius auratus 20.666645050049\t\n",
       "20.666645050049\t\n",
       "667 is finished\t\n"
      ]
     },
     "execution_count": 35,
     "metadata": {},
     "output_type": "execute_result"
    },
    {
     "data": {
      "text/plain": [
       "Top nil feature map classification: \tgoldfish, Carassius auratus 12.005484580994\t\n",
       "12.005484580994\t\n",
       "668 is finished\t\n"
      ]
     },
     "execution_count": 35,
     "metadata": {},
     "output_type": "execute_result"
    },
    {
     "data": {
      "text/plain": [
       "Top nil feature map classification: \tgoldfish, Carassius auratus 18.070064544678\t\n",
       "18.070064544678\t\n",
       "669 is finished\t\n"
      ]
     },
     "execution_count": 35,
     "metadata": {},
     "output_type": "execute_result"
    },
    {
     "data": {
      "text/plain": [
       "Top nil feature map classification: \tgoldfish, Carassius auratus 21.999429702759\t\n",
       "21.999429702759\t\n",
       "670 is finished\t\n"
      ]
     },
     "execution_count": 35,
     "metadata": {},
     "output_type": "execute_result"
    },
    {
     "data": {
      "text/plain": [
       "Top nil feature map classification: \tgoldfish, Carassius auratus 30.296869277954\t\n",
       "30.296869277954\t\n",
       "671 is finished\t\n"
      ]
     },
     "execution_count": 35,
     "metadata": {},
     "output_type": "execute_result"
    },
    {
     "data": {
      "text/plain": [
       "Top nil feature map classification: \tanemone fish 20.668115615845\t\n",
       "20.226497650146\t\n",
       "672 is finished\t\n"
      ]
     },
     "execution_count": 35,
     "metadata": {},
     "output_type": "execute_result"
    },
    {
     "data": {
      "text/plain": [
       "Top nil feature map classification: \tgoldfish, Carassius auratus 21.810596466064\t\n",
       "21.810596466064\t\n",
       "673 is finished\t\n"
      ]
     },
     "execution_count": 35,
     "metadata": {},
     "output_type": "execute_result"
    },
    {
     "data": {
      "text/plain": [
       "Top nil feature map classification: \ttorch 10.989840507507\t\n",
       "3.1264665126801\t\n",
       "674 is finished\t\n"
      ]
     },
     "execution_count": 35,
     "metadata": {},
     "output_type": "execute_result"
    },
    {
     "data": {
      "text/plain": [
       "Top nil feature map classification: \tgoldfish, Carassius auratus 13.180902481079\t\n",
       "13.180902481079\t\n",
       "675 is finished\t\n"
      ]
     },
     "execution_count": 35,
     "metadata": {},
     "output_type": "execute_result"
    },
    {
     "data": {
      "text/plain": [
       "Top nil feature map classification: \tcoral reef 15.149295806885\t\n",
       "11.468410491943\t\n",
       "676 is finished\t\n"
      ]
     },
     "execution_count": 35,
     "metadata": {},
     "output_type": "execute_result"
    },
    {
     "data": {
      "text/plain": [
       "Top nil feature map classification: \tgoldfish, Carassius auratus 33.047409057617\t\n",
       "33.047409057617\t\n",
       "677 is finished\t\n"
      ]
     },
     "execution_count": 35,
     "metadata": {},
     "output_type": "execute_result"
    },
    {
     "data": {
      "text/plain": [
       "Top nil feature map classification: \tgoldfish, Carassius auratus 21.514543533325\t\n",
       "21.514543533325\t\n",
       "678 is finished\t\n"
      ]
     },
     "execution_count": 35,
     "metadata": {},
     "output_type": "execute_result"
    },
    {
     "data": {
      "text/plain": [
       "Top nil feature map classification: \tgoldfish, Carassius auratus 12.217916488647\t\n",
       "12.217916488647\t\n",
       "679 is finished\t\n"
      ]
     },
     "execution_count": 35,
     "metadata": {},
     "output_type": "execute_result"
    },
    {
     "data": {
      "text/plain": [
       "Top nil feature map classification: \tgoldfish, Carassius auratus 22.013757705688\t\n",
       "22.013757705688\t\n",
       "680 is finished\t\n"
      ]
     },
     "execution_count": 35,
     "metadata": {},
     "output_type": "execute_result"
    },
    {
     "data": {
      "text/plain": [
       "Top nil feature map classification: \tgoldfish, Carassius auratus 20.673761367798\t\n",
       "20.673761367798\t\n",
       "681 is finished\t\n"
      ]
     },
     "execution_count": 35,
     "metadata": {},
     "output_type": "execute_result"
    },
    {
     "data": {
      "text/plain": [
       "Top nil feature map classification: \tgoldfish, Carassius auratus 19.231866836548\t\n"
      ]
     },
     "execution_count": 35,
     "metadata": {},
     "output_type": "execute_result"
    },
    {
     "data": {
      "text/plain": [
       "19.231866836548\t\n",
       "682 is finished\t\n"
      ]
     },
     "execution_count": 35,
     "metadata": {},
     "output_type": "execute_result"
    },
    {
     "data": {
      "text/plain": [
       "Top nil feature map classification: \tgoldfish, Carassius auratus 35.023281097412\t\n",
       "35.023281097412\t\n",
       "683 is finished\t\n"
      ]
     },
     "execution_count": 35,
     "metadata": {},
     "output_type": "execute_result"
    },
    {
     "data": {
      "text/plain": [
       "Top nil feature map classification: \tquill, quill pen 12.555330276489\t\n",
       "8.4355096817017\t\n",
       "684 is finished\t\n"
      ]
     },
     "execution_count": 35,
     "metadata": {},
     "output_type": "execute_result"
    },
    {
     "data": {
      "text/plain": [
       "Top nil feature map classification: \tgoldfish, Carassius auratus 29.38117980957\t\n",
       "29.38117980957\t\n",
       "685 is finished\t\n"
      ]
     },
     "execution_count": 35,
     "metadata": {},
     "output_type": "execute_result"
    },
    {
     "data": {
      "text/plain": [
       "Top nil feature map classification: \tgoldfish, Carassius auratus 11.075204849243\t\n",
       "11.075204849243\t\n",
       "686 is finished\t\n"
      ]
     },
     "execution_count": 35,
     "metadata": {},
     "output_type": "execute_result"
    },
    {
     "data": {
      "text/plain": [
       "Top nil feature map classification: \tgoldfish, Carassius auratus 10.570275306702\t\n",
       "10.570275306702\t\n",
       "687 is finished\t\n"
      ]
     },
     "execution_count": 35,
     "metadata": {},
     "output_type": "execute_result"
    },
    {
     "data": {
      "text/plain": [
       "Top nil feature map classification: \tgoldfish, Carassius auratus 25.934669494629\t\n",
       "25.934669494629\t\n",
       "688 is finished\t\n"
      ]
     },
     "execution_count": 35,
     "metadata": {},
     "output_type": "execute_result"
    },
    {
     "data": {
      "text/plain": [
       "Top nil feature map classification: \tgoldfish, Carassius auratus 10.015398979187\t\n",
       "10.015398979187\t\n",
       "689 is finished\t\n"
      ]
     },
     "execution_count": 35,
     "metadata": {},
     "output_type": "execute_result"
    },
    {
     "data": {
      "text/plain": [
       "Top nil feature map classification: \tGila monster, Heloderma suspectum 9.5103168487549\t\n",
       "3.3774907588959\t\n",
       "690 is finished\t\n"
      ]
     },
     "execution_count": 35,
     "metadata": {},
     "output_type": "execute_result"
    },
    {
     "data": {
      "text/plain": [
       "Top nil feature map classification: \tgoldfish, Carassius auratus 11.170303344727\t\n",
       "11.170303344727\t\n",
       "691 is finished\t\n"
      ]
     },
     "execution_count": 35,
     "metadata": {},
     "output_type": "execute_result"
    },
    {
     "data": {
      "text/plain": [
       "Top nil feature map classification: \tgoldfish, Carassius auratus 15.132287979126\t\n",
       "15.132287979126\t\n",
       "692 is finished\t\n"
      ]
     },
     "execution_count": 35,
     "metadata": {},
     "output_type": "execute_result"
    },
    {
     "data": {
      "text/plain": [
       "Top nil feature map classification: \tgoldfish, Carassius auratus 21.616981506348\t\n",
       "21.616981506348\t\n",
       "693 is finished\t\n"
      ]
     },
     "execution_count": 35,
     "metadata": {},
     "output_type": "execute_result"
    },
    {
     "data": {
      "text/plain": [
       "Top nil feature map classification: \tshower curtain 8.1436328887939\t\n",
       "8.0692892074585\t\n",
       "694 is finished\t\n"
      ]
     },
     "execution_count": 35,
     "metadata": {},
     "output_type": "execute_result"
    },
    {
     "data": {
      "text/plain": [
       "Top nil feature map classification: \tcandle, taper, wax light 8.9402780532837\t\n",
       "6.5979604721069\t\n",
       "695 is finished\t\n"
      ]
     },
     "execution_count": 35,
     "metadata": {},
     "output_type": "execute_result"
    },
    {
     "data": {
      "text/plain": [
       "Top nil feature map classification: \tgoldfish, Carassius auratus 16.72163772583\t\n",
       "16.72163772583\t\n",
       "696 is finished\t\n"
      ]
     },
     "execution_count": 35,
     "metadata": {},
     "output_type": "execute_result"
    },
    {
     "data": {
      "text/plain": [
       "Top nil feature map classification: \torange 13.035556793213\t\n",
       "11.810744285583\t\n",
       "697 is finished\t\n"
      ]
     },
     "execution_count": 35,
     "metadata": {},
     "output_type": "execute_result"
    },
    {
     "data": {
      "text/plain": [
       "Top nil feature map classification: \tmortar 11.572484970093\t\n",
       "6.3476572036743\t\n",
       "698 is finished\t\n"
      ]
     },
     "execution_count": 35,
     "metadata": {},
     "output_type": "execute_result"
    },
    {
     "data": {
      "text/plain": [
       "Top nil feature map classification: \tgoldfish, Carassius auratus 24.197532653809\t\n",
       "24.197532653809\t\n",
       "699 is finished\t\n"
      ]
     },
     "execution_count": 35,
     "metadata": {},
     "output_type": "execute_result"
    },
    {
     "data": {
      "text/plain": [
       "Top nil feature map classification: \tconch 7.034939289093\t\n",
       "6.5907068252563\t\n",
       "700 is finished\t\n"
      ]
     },
     "execution_count": 35,
     "metadata": {},
     "output_type": "execute_result"
    },
    {
     "data": {
      "text/plain": [
       "Top nil feature map classification: \tgoldfish, Carassius auratus 10.868515014648\t\n",
       "10.868515014648\t\n",
       "701 is finished\t\n"
      ]
     },
     "execution_count": 35,
     "metadata": {},
     "output_type": "execute_result"
    },
    {
     "data": {
      "text/plain": [
       "Top nil feature map classification: \tgoldfish, Carassius auratus 17.13205909729\t\n",
       "17.13205909729\t\n",
       "702 is finished\t\n"
      ]
     },
     "execution_count": 35,
     "metadata": {},
     "output_type": "execute_result"
    },
    {
     "data": {
      "text/plain": [
       "Top nil feature map classification: \tgoldfish, Carassius auratus 29.784271240234\t\n",
       "29.784271240234\t\n",
       "703 is finished\t\n"
      ]
     },
     "execution_count": 35,
     "metadata": {},
     "output_type": "execute_result"
    },
    {
     "data": {
      "text/plain": [
       "Top nil feature map classification: \tgoldfish, Carassius auratus 17.650196075439\t\n",
       "17.650196075439\t\n",
       "704 is finished\t\n"
      ]
     },
     "execution_count": 35,
     "metadata": {},
     "output_type": "execute_result"
    },
    {
     "data": {
      "text/plain": [
       "Top nil feature map classification: \trapeseed 13.366193771362\t\n",
       "8.3637542724609\t\n",
       "705 is finished\t\n"
      ]
     },
     "execution_count": 35,
     "metadata": {},
     "output_type": "execute_result"
    },
    {
     "data": {
      "text/plain": [
       "Top nil feature map classification: \tgoldfish, Carassius auratus 30.3625831604\t\n",
       "30.3625831604\t\n",
       "706 is finished\t\n"
      ]
     },
     "execution_count": 35,
     "metadata": {},
     "output_type": "execute_result"
    },
    {
     "data": {
      "text/plain": [
       "Top nil feature map classification: \tgoldfish, Carassius auratus 19.283155441284\t\n",
       "19.283155441284\t\n",
       "707 is finished\t\n"
      ]
     },
     "execution_count": 35,
     "metadata": {},
     "output_type": "execute_result"
    },
    {
     "data": {
      "text/plain": [
       "Top nil feature map classification: \tgoldfish, Carassius auratus 21.524393081665\t\n",
       "21.524393081665\t\n",
       "708 is finished\t\n"
      ]
     },
     "execution_count": 35,
     "metadata": {},
     "output_type": "execute_result"
    },
    {
     "data": {
      "text/plain": [
       "Top nil feature map classification: \tgoldfish, Carassius auratus 22.502462387085\t\n",
       "22.502462387085\t\n",
       "709 is finished\t\n"
      ]
     },
     "execution_count": 35,
     "metadata": {},
     "output_type": "execute_result"
    },
    {
     "data": {
      "text/plain": [
       "Top nil feature map classification: \tlionfish 18.01997756958\t\n",
       "10.02564907074\t"
      ]
     },
     "execution_count": 35,
     "metadata": {},
     "output_type": "execute_result"
    },
    {
     "data": {
      "text/plain": [
       "\n",
       "710 is finished\t\n"
      ]
     },
     "execution_count": 35,
     "metadata": {},
     "output_type": "execute_result"
    },
    {
     "data": {
      "text/plain": [
       "Top nil feature map classification: \tgoldfish, Carassius auratus 28.204149246216\t\n",
       "28.204149246216\t\n",
       "711 is finished\t\n"
      ]
     },
     "execution_count": 35,
     "metadata": {},
     "output_type": "execute_result"
    },
    {
     "data": {
      "text/plain": [
       "Top nil feature map classification: \tgoldfish, Carassius auratus 14.459658622742\t\n",
       "14.459658622742\t\n",
       "712 is finished\t\n"
      ]
     },
     "execution_count": 35,
     "metadata": {},
     "output_type": "execute_result"
    },
    {
     "data": {
      "text/plain": [
       "Top nil feature map classification: \tgoldfish, Carassius auratus 27.272802352905\t\n",
       "27.272802352905\t\n",
       "713 is finished\t\n"
      ]
     },
     "execution_count": 35,
     "metadata": {},
     "output_type": "execute_result"
    },
    {
     "data": {
      "text/plain": [
       "Top nil feature map classification: \tgoldfish, Carassius auratus 29.616300582886\t\n",
       "29.616300582886\t\n",
       "714 is finished\t\n"
      ]
     },
     "execution_count": 35,
     "metadata": {},
     "output_type": "execute_result"
    },
    {
     "data": {
      "text/plain": [
       "Top nil feature map classification: \tplastic bag 7.4941697120667\t\n",
       "7.3386335372925\t\n",
       "715 is finished\t\n"
      ]
     },
     "execution_count": 35,
     "metadata": {},
     "output_type": "execute_result"
    },
    {
     "data": {
      "text/plain": [
       "Top nil feature map classification: \teft 13.357791900635\t\n",
       "12.917378425598\t\n",
       "716 is finished\t\n"
      ]
     },
     "execution_count": 35,
     "metadata": {},
     "output_type": "execute_result"
    },
    {
     "data": {
      "text/plain": [
       "Top nil feature map classification: \tgoldfish, Carassius auratus 27.132034301758\t\n",
       "27.132034301758\t\n",
       "717 is finished\t\n"
      ]
     },
     "execution_count": 35,
     "metadata": {},
     "output_type": "execute_result"
    },
    {
     "data": {
      "text/plain": [
       "Top nil feature map classification: \tgoldfish, Carassius auratus 19.721090316772\t\n",
       "19.721090316772\t\n",
       "718 is finished\t\n"
      ]
     },
     "execution_count": 35,
     "metadata": {},
     "output_type": "execute_result"
    },
    {
     "data": {
      "text/plain": [
       "Top nil feature map classification: \tgoldfish, Carassius auratus 20.141344070435\t\n",
       "20.141344070435\t\n",
       "719 is finished\t\n"
      ]
     },
     "execution_count": 35,
     "metadata": {},
     "output_type": "execute_result"
    },
    {
     "data": {
      "text/plain": [
       "Top nil feature map classification: \tgoldfish, Carassius auratus 10.539951324463\t\n",
       "10.539951324463\t\n",
       "720 is finished\t\n"
      ]
     },
     "execution_count": 35,
     "metadata": {},
     "output_type": "execute_result"
    },
    {
     "data": {
      "text/plain": [
       "Top nil feature map classification: \tgoldfish, Carassius auratus 12.799864768982\t\n",
       "12.799864768982\t\n",
       "721 is finished\t\n"
      ]
     },
     "execution_count": 35,
     "metadata": {},
     "output_type": "execute_result"
    },
    {
     "data": {
      "text/plain": [
       "Top nil feature map classification: \tgoldfish, Carassius auratus 30.010271072388\t\n",
       "30.010271072388\t\n",
       "722 is finished\t\n"
      ]
     },
     "execution_count": 35,
     "metadata": {},
     "output_type": "execute_result"
    },
    {
     "data": {
      "text/plain": [
       "Top nil feature map classification: \tgoldfish, Carassius auratus 11.104486465454\t\n",
       "11.104486465454\t\n",
       "723 is finished\t\n"
      ]
     },
     "execution_count": 35,
     "metadata": {},
     "output_type": "execute_result"
    },
    {
     "data": {
      "text/plain": [
       "Top nil feature map classification: \tgoldfish, Carassius auratus 35.803337097168\t\n",
       "35.803337097168\t\n",
       "724 is finished\t\n"
      ]
     },
     "execution_count": 35,
     "metadata": {},
     "output_type": "execute_result"
    },
    {
     "data": {
      "text/plain": [
       "Top nil feature map classification: \tgoldfish, Carassius auratus 15.172387123108\t\n",
       "15.172387123108\t\n",
       "725 is finished\t\n"
      ]
     },
     "execution_count": 35,
     "metadata": {},
     "output_type": "execute_result"
    },
    {
     "data": {
      "text/plain": [
       "Top nil feature map classification: \tshopping basket 9.9273977279663\t\n",
       "3.2189383506775\t\n",
       "726 is finished\t\n"
      ]
     },
     "execution_count": 35,
     "metadata": {},
     "output_type": "execute_result"
    },
    {
     "data": {
      "text/plain": [
       "Top nil feature map classification: \tgoldfish, Carassius auratus 27.192741394043\t\n",
       "27.192741394043\t\n",
       "727 is finished\t\n"
      ]
     },
     "execution_count": 35,
     "metadata": {},
     "output_type": "execute_result"
    },
    {
     "data": {
      "text/plain": [
       "Top nil feature map classification: \t"
      ]
     },
     "execution_count": 35,
     "metadata": {},
     "output_type": "execute_result"
    },
    {
     "data": {
      "text/plain": [
       "goldfish, Carassius auratus 13.091079711914\t\n",
       "13.091079711914\t\n",
       "728 is finished\t\n"
      ]
     },
     "execution_count": 35,
     "metadata": {},
     "output_type": "execute_result"
    },
    {
     "data": {
      "text/plain": [
       "Top nil feature map classification: \tgoldfish, Carassius auratus 19.89421081543\t\n",
       "19.89421081543\t\n",
       "729 is finished\t\n"
      ]
     },
     "execution_count": 35,
     "metadata": {},
     "output_type": "execute_result"
    },
    {
     "data": {
      "text/plain": [
       "Top nil feature map classification: \tgoldfish, Carassius auratus 10.349966049194\t\n",
       "10.349966049194\t\n",
       "730 is finished\t\n"
      ]
     },
     "execution_count": 35,
     "metadata": {},
     "output_type": "execute_result"
    },
    {
     "data": {
      "text/plain": [
       "Top nil feature map classification: \tsea slug, nudibranch 9.1138124465942\t\n",
       "8.241024017334\t\n",
       "731 is finished\t\n"
      ]
     },
     "execution_count": 35,
     "metadata": {},
     "output_type": "execute_result"
    },
    {
     "data": {
      "text/plain": [
       "Top nil feature map classification: \tgoldfish, Carassius auratus 26.752109527588\t\n",
       "26.752109527588\t\n",
       "732 is finished\t\n"
      ]
     },
     "execution_count": 35,
     "metadata": {},
     "output_type": "execute_result"
    },
    {
     "data": {
      "text/plain": [
       "Top nil feature map classification: \tgoldfish, Carassius auratus 19.528308868408\t\n",
       "19.528308868408\t\n",
       "733 is finished\t\n"
      ]
     },
     "execution_count": 35,
     "metadata": {},
     "output_type": "execute_result"
    },
    {
     "data": {
      "text/plain": [
       "Top nil feature map classification: \tcandle, taper, wax light 13.090944290161\t\n",
       "8.742579460144\t\n",
       "734 is finished\t\n"
      ]
     },
     "execution_count": 35,
     "metadata": {},
     "output_type": "execute_result"
    },
    {
     "data": {
      "text/plain": [
       "Top nil feature map classification: \tgoldfish, Carassius auratus 29.458549499512\t\n",
       "29.458549499512\t\n",
       "735 is finished\t\n"
      ]
     },
     "execution_count": 35,
     "metadata": {},
     "output_type": "execute_result"
    },
    {
     "data": {
      "text/plain": [
       "Top nil feature map classification: \tgoldfish, Carassius auratus 15.781762123108\t\n",
       "15.781762123108\t\n",
       "736 is finished\t\n"
      ]
     },
     "execution_count": 35,
     "metadata": {},
     "output_type": "execute_result"
    },
    {
     "data": {
      "text/plain": [
       "Top nil feature map classification: \tgoldfish, Carassius auratus 25.474199295044\t\n",
       "25.474199295044\t\n",
       "737 is finished\t\n"
      ]
     },
     "execution_count": 35,
     "metadata": {},
     "output_type": "execute_result"
    },
    {
     "data": {
      "text/plain": [
       "Top nil feature map classification: \tgoldfish, Carassius auratus 19.121061325073\t\n",
       "19.121061325073\t\n",
       "738 is finished\t"
      ]
     },
     "execution_count": 35,
     "metadata": {},
     "output_type": "execute_result"
    },
    {
     "data": {
      "text/plain": [
       "\n"
      ]
     },
     "execution_count": 35,
     "metadata": {},
     "output_type": "execute_result"
    },
    {
     "data": {
      "text/plain": [
       "Top nil feature map classification: \tgoldfish, Carassius auratus 14.616537094116\t\n",
       "14.616537094116\t\n",
       "739 is finished\t\n"
      ]
     },
     "execution_count": 35,
     "metadata": {},
     "output_type": "execute_result"
    },
    {
     "data": {
      "text/plain": [
       "Top nil feature map classification: \tgoldfish, Carassius auratus 39.153522491455\t\n",
       "39.153522491455\t\n",
       "740 is finished\t\n"
      ]
     },
     "execution_count": 35,
     "metadata": {},
     "output_type": "execute_result"
    },
    {
     "data": {
      "text/plain": [
       "Top nil feature map classification: \tgoldfish, Carassius auratus 11.410460472107\t\n",
       "11.410460472107\t\n",
       "741 is finished\t\n"
      ]
     },
     "execution_count": 35,
     "metadata": {},
     "output_type": "execute_result"
    },
    {
     "data": {
      "text/plain": [
       "Top nil feature map classification: \tgoldfish, Carassius auratus 19.533964157104\t\n",
       "19.533964157104\t\n",
       "742 is finished\t\n"
      ]
     },
     "execution_count": 35,
     "metadata": {},
     "output_type": "execute_result"
    },
    {
     "data": {
      "text/plain": [
       "Top nil feature map classification: \tgoldfish, Carassius auratus 11.113254547119\t\n",
       "11.113254547119\t\n",
       "743 is finished\t\n"
      ]
     },
     "execution_count": 35,
     "metadata": {},
     "output_type": "execute_result"
    },
    {
     "data": {
      "text/plain": [
       "Top nil feature map classification: \tgoldfish, Carassius auratus 22.790929794312\t\n",
       "22.790929794312\t\n",
       "744 is finished\t\n"
      ]
     },
     "execution_count": 35,
     "metadata": {},
     "output_type": "execute_result"
    },
    {
     "data": {
      "text/plain": [
       "Top nil feature map classification: \tgoldfish, Carassius auratus 27.942043304443\t\n",
       "27.942043304443\t\n",
       "745 is finished\t\n"
      ]
     },
     "execution_count": 35,
     "metadata": {},
     "output_type": "execute_result"
    },
    {
     "data": {
      "text/plain": [
       "Top nil feature map classification: \tgoldfish, Carassius auratus 25.738641738892\t\n",
       "25.738641738892\t\n",
       "746 is finished\t\n"
      ]
     },
     "execution_count": 35,
     "metadata": {},
     "output_type": "execute_result"
    },
    {
     "data": {
      "text/plain": [
       "Top nil feature map classification: \tgoblet 11.594646453857\t\n",
       "7.3147573471069\t\n",
       "747 is finished\t\n"
      ]
     },
     "execution_count": 35,
     "metadata": {},
     "output_type": "execute_result"
    },
    {
     "data": {
      "text/plain": [
       "Top nil feature map classification: \tgoldfish, Carassius auratus 27.382579803467\t\n",
       "27.382579803467\t\n",
       "748 is finished\t\n"
      ]
     },
     "execution_count": 35,
     "metadata": {},
     "output_type": "execute_result"
    },
    {
     "data": {
      "text/plain": [
       "Top nil feature map classification: \tgoldfish, Carassius auratus 17.935836791992\t\n",
       "17.935836791992\t\n",
       "749 is finished\t\n"
      ]
     },
     "execution_count": 35,
     "metadata": {},
     "output_type": "execute_result"
    },
    {
     "data": {
      "text/plain": [
       "Top nil feature map classification: \tgoldfish, Carassius auratus 13.059966087341\t\n",
       "13.059966087341\t\n",
       "750 is finished\t\n"
      ]
     },
     "execution_count": 35,
     "metadata": {},
     "output_type": "execute_result"
    },
    {
     "data": {
      "text/plain": [
       "Top nil feature map classification: \tgoldfish, Carassius auratus 16.239112854004\t\n",
       "16.239112854004\t\n",
       "751 is finished\t\n"
      ]
     },
     "execution_count": 35,
     "metadata": {},
     "output_type": "execute_result"
    },
    {
     "data": {
      "text/plain": [
       "Top nil feature map classification: \tgoldfish, Carassius auratus 14.856108665466\t\n",
       "14.856108665466\t\n",
       "752 is finished\t\n"
      ]
     },
     "execution_count": 35,
     "metadata": {},
     "output_type": "execute_result"
    },
    {
     "data": {
      "text/plain": [
       "Top nil feature map classification: \tgoldfish, Carassius auratus 23.813249588013\t\n",
       "23.813249588013\t\n",
       "753 is finished\t\n"
      ]
     },
     "execution_count": 35,
     "metadata": {},
     "output_type": "execute_result"
    },
    {
     "data": {
      "text/plain": [
       "Top nil feature map classification: \tgoldfish, Carassius auratus 25.709060668945\t\n",
       "25.709060668945\t\n",
       "754 is finished\t\n"
      ]
     },
     "execution_count": 35,
     "metadata": {},
     "output_type": "execute_result"
    },
    {
     "data": {
      "text/plain": [
       "Top nil feature map classification: \tgoldfish, Carassius auratus 15.821310997009\t\n",
       "15.821310997009\t\n",
       "755 is finished\t\n"
      ]
     },
     "execution_count": 35,
     "metadata": {},
     "output_type": "execute_result"
    },
    {
     "data": {
      "text/plain": [
       "Top nil feature map classification: \tgoldfish, Carassius auratus 30.984045028687\t\n",
       "30.984045028687\t\n",
       "756 is finished\t\n"
      ]
     },
     "execution_count": 35,
     "metadata": {},
     "output_type": "execute_result"
    },
    {
     "data": {
      "text/plain": [
       "Top nil feature map classification: \tgoldfish, Carassius auratus 27.657438278198\t\n",
       "27.657438278198\t\n",
       "757 is finished\t\n"
      ]
     },
     "execution_count": 35,
     "metadata": {},
     "output_type": "execute_result"
    },
    {
     "data": {
      "text/plain": [
       "Top nil feature map classification: \tgoldfish, Carassius auratus 7.8940739631653\t\n",
       "7.8940739631653\t\n",
       "758 is finished\t\n"
      ]
     },
     "execution_count": 35,
     "metadata": {},
     "output_type": "execute_result"
    },
    {
     "data": {
      "text/plain": [
       "Top nil feature map classification: \tgoldfish, Carassius auratus 10.331523895264\t\n",
       "10.331523895264\t\n",
       "759 is finished\t\n"
      ]
     },
     "execution_count": 35,
     "metadata": {},
     "output_type": "execute_result"
    },
    {
     "data": {
      "text/plain": [
       "Top nil feature map classification: \tgoldfish, Carassius auratus 9.8617963790894\t\n",
       "9.8617963790894\t\n",
       "760 is finished\t\n"
      ]
     },
     "execution_count": 35,
     "metadata": {},
     "output_type": "execute_result"
    },
    {
     "data": {
      "text/plain": [
       "Top nil feature map classification: \tgoldfish, Carassius auratus 14.935684204102\t\n",
       "14.935684204102\t\n",
       "761 is finished\t\n"
      ]
     },
     "execution_count": 35,
     "metadata": {},
     "output_type": "execute_result"
    },
    {
     "data": {
      "text/plain": [
       "Top nil feature map classification: \tgoldfish, Carassius auratus 19.014108657837\t\n",
       "19.014108657837\t\n",
       "762 is finished\t\n"
      ]
     },
     "execution_count": 35,
     "metadata": {},
     "output_type": "execute_result"
    },
    {
     "data": {
      "text/plain": [
       "Top nil feature map classification: \tgoldfish, Carassius auratus 19.305990219116\t\n",
       "19.305990219116\t\n",
       "763 is finished\t\n"
      ]
     },
     "execution_count": 35,
     "metadata": {},
     "output_type": "execute_result"
    },
    {
     "data": {
      "text/plain": [
       "Top nil feature map classification: \tgoldfish, Carassius auratus 19.559476852417\t\n",
       "19.559476852417\t\n",
       "764 is finished\t\n"
      ]
     },
     "execution_count": 35,
     "metadata": {},
     "output_type": "execute_result"
    },
    {
     "data": {
      "text/plain": [
       "Top nil feature map classification: \tgoldfish, Carassius auratus 13.430145263672\t\n",
       "13.430145263672\t\n",
       "765 is finished\t\n"
      ]
     },
     "execution_count": 35,
     "metadata": {},
     "output_type": "execute_result"
    },
    {
     "data": {
      "text/plain": [
       "Top nil feature map classification: \tpiggy bank, penny bank 13.997403144836\t\n",
       "13.155325889587\t\n",
       "766 is finished\t\n"
      ]
     },
     "execution_count": 35,
     "metadata": {},
     "output_type": "execute_result"
    },
    {
     "data": {
      "text/plain": [
       "Top nil feature map classification: \tgoldfish, Carassius auratus 18.586193084717\t\n",
       "18.586193084717\t\n",
       "767 is finished\t\n"
      ]
     },
     "execution_count": 35,
     "metadata": {},
     "output_type": "execute_result"
    },
    {
     "data": {
      "text/plain": [
       "Top nil feature map classification: \tgoldfish, Carassius auratus 25.825262069702\t\n",
       "25.825262069702\t\n",
       "768 is finished\t\n"
      ]
     },
     "execution_count": 35,
     "metadata": {},
     "output_type": "execute_result"
    },
    {
     "data": {
      "text/plain": [
       "Top nil feature map classification: \tgoldfish, Carassius auratus 16.269931793213\t\n",
       "16.269931793213\t\n",
       "769 is finished\t\n"
      ]
     },
     "execution_count": 35,
     "metadata": {},
     "output_type": "execute_result"
    },
    {
     "data": {
      "text/plain": [
       "Top nil feature map classification: \tgoldfish, Carassius auratus 14.293956756592\t\n",
       "14.293956756592\t\n",
       "770 is finished\t\n"
      ]
     },
     "execution_count": 35,
     "metadata": {},
     "output_type": "execute_result"
    },
    {
     "data": {
      "text/plain": [
       "Top nil feature map classification: \tgoldfish, Carassius auratus 15.825518608093\t\n",
       "15.825518608093\t\n",
       "771 is finished\t\n"
      ]
     },
     "execution_count": 35,
     "metadata": {},
     "output_type": "execute_result"
    },
    {
     "data": {
      "text/plain": [
       "Top nil feature map classification: \tjellyfish 13.197702407837\t\n",
       "9.2272472381592\t\n",
       "772 is finished\t\n"
      ]
     },
     "execution_count": 35,
     "metadata": {},
     "output_type": "execute_result"
    },
    {
     "data": {
      "text/plain": [
       "Top nil feature map classification: \tgoldfish, Carassius auratus 18.244382858276\t\n",
       "18.244382858276\t\n",
       "773 is finished\t\n"
      ]
     },
     "execution_count": 35,
     "metadata": {},
     "output_type": "execute_result"
    },
    {
     "data": {
      "text/plain": [
       "Top nil feature map classification: \tgoldfish, Carassius auratus 13.303023338318\t\n",
       "13.303023338318\t\n",
       "774 is finished\t\n"
      ]
     },
     "execution_count": 35,
     "metadata": {},
     "output_type": "execute_result"
    },
    {
     "data": {
      "text/plain": [
       "Top nil feature map classification: \tgoldfish, Carassius auratus 13.545243263245\t\n",
       "13.545243263245\t\n",
       "775 is finished\t\n"
      ]
     },
     "execution_count": 35,
     "metadata": {},
     "output_type": "execute_result"
    },
    {
     "data": {
      "text/plain": [
       "Top nil feature map classification: \tgoldfish, Carassius auratus 19.773855209351\t\n",
       "19.773855209351\t\n",
       "776 is finished\t\n"
      ]
     },
     "execution_count": 35,
     "metadata": {},
     "output_type": "execute_result"
    },
    {
     "data": {
      "text/plain": [
       "Top nil feature map classification: \tgoldfish, Carassius auratus 21.042945861816\t\n",
       "21.042945861816\t\n",
       "777 is finished\t\n"
      ]
     },
     "execution_count": 35,
     "metadata": {},
     "output_type": "execute_result"
    },
    {
     "data": {
      "text/plain": [
       "Top nil feature map classification: \tgoldfish, Carassius auratus 20.427215576172\t\n",
       "20.427215576172\t\n",
       "778 is finished\t\n"
      ]
     },
     "execution_count": 35,
     "metadata": {},
     "output_type": "execute_result"
    },
    {
     "data": {
      "text/plain": [
       "Top nil feature map classification: \tgoldfish, Carassius auratus 27.260410308838\t\n",
       "27.260410308838\t\n",
       "779 is finished\t\n"
      ]
     },
     "execution_count": 35,
     "metadata": {},
     "output_type": "execute_result"
    },
    {
     "data": {
      "text/plain": [
       "Top nil feature map classification: \tgoldfish, Carassius auratus 33.102043151855\t\n",
       "33.102043151855\t\n",
       "780 is finished\t\n"
      ]
     },
     "execution_count": 35,
     "metadata": {},
     "output_type": "execute_result"
    },
    {
     "data": {
      "text/plain": [
       "Top nil feature map classification: \tgoldfish, Carassius auratus 13.899833679199\t\n",
       "13.899833679199\t\n",
       "781 is finished\t\n"
      ]
     },
     "execution_count": 35,
     "metadata": {},
     "output_type": "execute_result"
    },
    {
     "data": {
      "text/plain": [
       "Top nil feature map classification: \tgoldfish, Carassius auratus 33.249897003174\t\n",
       "33.249897003174\t\n",
       "782 is finished\t\n"
      ]
     },
     "execution_count": 35,
     "metadata": {},
     "output_type": "execute_result"
    },
    {
     "data": {
      "text/plain": [
       "Top nil feature map classification: \tgoldfish, Carassius auratus 23.603689193726\t\n",
       "23.603689193726\t\n",
       "783 is finished\t\n"
      ]
     },
     "execution_count": 35,
     "metadata": {},
     "output_type": "execute_result"
    },
    {
     "data": {
      "text/plain": [
       "Top nil feature map classification: \tgoldfish, Carassius auratus 14.629167556763\t\n",
       "14.629167556763\t\n",
       "784 is finished\t\n"
      ]
     },
     "execution_count": 35,
     "metadata": {},
     "output_type": "execute_result"
    },
    {
     "data": {
      "text/plain": [
       "Top nil feature map classification: \tgoldfish, Carassius auratus 23.511209487915\t\n",
       "23.511209487915\t\n",
       "785 is finished\t\n"
      ]
     },
     "execution_count": 35,
     "metadata": {},
     "output_type": "execute_result"
    },
    {
     "data": {
      "text/plain": [
       "Top nil feature map classification: \tstarfish, sea star 10.375570297241\t\n",
       "8.2103176116943\t\n",
       "786 is finished\t\n"
      ]
     },
     "execution_count": 35,
     "metadata": {},
     "output_type": "execute_result"
    },
    {
     "data": {
      "text/plain": [
       "Top nil feature map classification: \thummingbird 6.5241012573242\t\n",
       "6.0462894439697\t\n",
       "787 is finished\t\n"
      ]
     },
     "execution_count": 35,
     "metadata": {},
     "output_type": "execute_result"
    },
    {
     "data": {
      "text/plain": [
       "Top nil feature map classification: \twater jug 12.487049102783\t\n",
       "6.4661717414856\t\n",
       "788 is finished\t\n"
      ]
     },
     "execution_count": 35,
     "metadata": {},
     "output_type": "execute_result"
    },
    {
     "data": {
      "text/plain": [
       "Top nil feature map classification: \tgoldfish, Carassius auratus 14.601185798645\t\n",
       "14.601185798645\t\n",
       "789 is finished\t\n"
      ]
     },
     "execution_count": 35,
     "metadata": {},
     "output_type": "execute_result"
    },
    {
     "data": {
      "text/plain": [
       "Top nil feature map classification: \tgoldfish, Carassius auratus 14.36311340332\t\n",
       "14.36311340332\t\n",
       "790 is finished\t\n"
      ]
     },
     "execution_count": 35,
     "metadata": {},
     "output_type": "execute_result"
    },
    {
     "data": {
      "text/plain": [
       "Top nil feature map classification: \tgoldfish, Carassius auratus 20.734670639038\t\n",
       "20.734670639038\t\n",
       "791 is finished\t\n"
      ]
     },
     "execution_count": 35,
     "metadata": {},
     "output_type": "execute_result"
    },
    {
     "data": {
      "text/plain": [
       "Top nil feature map classification: \tgoldfish, Carassius auratus 23.870878219604\t\n",
       "23.870878219604\t\n",
       "792 is finished\t\n"
      ]
     },
     "execution_count": 35,
     "metadata": {},
     "output_type": "execute_result"
    },
    {
     "data": {
      "text/plain": [
       "Top nil feature map classification: \tgoldfish, Carassius auratus 16.603662490845\t\n",
       "16.603662490845\t\n",
       "793 is finished\t\n"
      ]
     },
     "execution_count": 35,
     "metadata": {},
     "output_type": "execute_result"
    },
    {
     "data": {
      "text/plain": [
       "Top nil feature map classification: \tspotlight, spot 12.858380317688\t\n",
       "8.913857460022\t\n",
       "794 is finished\t\n"
      ]
     },
     "execution_count": 35,
     "metadata": {},
     "output_type": "execute_result"
    },
    {
     "data": {
      "text/plain": [
       "Top nil feature map classification: \tgoldfish, Carassius auratus 22.906837463379\t\n",
       "22.906837463379\t\n",
       "795 is finished\t\n"
      ]
     },
     "execution_count": 35,
     "metadata": {},
     "output_type": "execute_result"
    },
    {
     "data": {
      "text/plain": [
       "Top nil feature map classification: \tgoldfish, Carassius auratus 23.117107391357\t\n",
       "23.117107391357\t\n",
       "796 is finished\t\n"
      ]
     },
     "execution_count": 35,
     "metadata": {},
     "output_type": "execute_result"
    },
    {
     "data": {
      "text/plain": [
       "Top nil feature map classification: \tgoldfish, Carassius auratus 29.585229873657\t\n",
       "29.585229873657\t\n",
       "797 is finished\t\n"
      ]
     },
     "execution_count": 35,
     "metadata": {},
     "output_type": "execute_result"
    },
    {
     "data": {
      "text/plain": [
       "Top nil feature map classification: \tgoldfish, Carassius auratus 21.253120422363\t\n",
       "21.253120422363\t\n",
       "798 is finished\t\n"
      ]
     },
     "execution_count": 35,
     "metadata": {},
     "output_type": "execute_result"
    },
    {
     "data": {
      "text/plain": [
       "Top nil feature map classification: \tgoldfish, Carassius auratus 17.533977508545\t\n",
       "17.533977508545\t\n",
       "799 is finished\t\n"
      ]
     },
     "execution_count": 35,
     "metadata": {},
     "output_type": "execute_result"
    },
    {
     "data": {
      "text/plain": [
       "Top nil feature map classification: \tgoldfish, Carassius auratus 32.989929199219\t\n",
       "32.989929199219\t\n",
       "800 is finished\t\n"
      ]
     },
     "execution_count": 35,
     "metadata": {},
     "output_type": "execute_result"
    },
    {
     "data": {
      "text/plain": [
       "Top nil feature map classification: \tvolcano 8.1761426925659\t\n",
       "8.0723781585693\t\n",
       "801 is finished\t\n"
      ]
     },
     "execution_count": 35,
     "metadata": {},
     "output_type": "execute_result"
    },
    {
     "data": {
      "text/plain": [
       "Top nil feature map classification: \tgoldfish, Carassius auratus 17.673305511475\t\n",
       "17.673305511475\t\n",
       "802 is finished\t\n"
      ]
     },
     "execution_count": 35,
     "metadata": {},
     "output_type": "execute_result"
    },
    {
     "data": {
      "text/plain": [
       "Top nil feature map classification: \tgoldfish, Carassius auratus 16.174320220947\t\n"
      ]
     },
     "execution_count": 35,
     "metadata": {},
     "output_type": "execute_result"
    },
    {
     "data": {
      "text/plain": [
       "16.174320220947\t\n",
       "803 is finished\t\n"
      ]
     },
     "execution_count": 35,
     "metadata": {},
     "output_type": "execute_result"
    },
    {
     "data": {
      "text/plain": [
       "Top nil feature map classification: \tgoldfish, Carassius auratus 27.49151802063\t\n",
       "27.49151802063\t\n",
       "804 is finished\t\n"
      ]
     },
     "execution_count": 35,
     "metadata": {},
     "output_type": "execute_result"
    },
    {
     "data": {
      "text/plain": [
       "Top nil feature map classification: \tgoldfish, Carassius auratus 17.884721755981\t\n",
       "17.884721755981\t\n",
       "805 is finished\t\n"
      ]
     },
     "execution_count": 35,
     "metadata": {},
     "output_type": "execute_result"
    },
    {
     "data": {
      "text/plain": [
       "Top nil feature map classification: \tgoldfish, Carassius auratus 11.228839874268\t\n",
       "11.228839874268\t\n",
       "806 is finished\t\n"
      ]
     },
     "execution_count": 35,
     "metadata": {},
     "output_type": "execute_result"
    },
    {
     "data": {
      "text/plain": [
       "Top nil feature map classification: \taltar 10.071702003479\t\n",
       "4.4416213035583\t\n",
       "807 is finished\t\n"
      ]
     },
     "execution_count": 35,
     "metadata": {},
     "output_type": "execute_result"
    },
    {
     "data": {
      "text/plain": [
       "Top nil feature map classification: \tgoldfish, Carassius auratus 27.868406295776\t\n",
       "27.868406295776\t\n",
       "808 is finished\t\n"
      ]
     },
     "execution_count": 35,
     "metadata": {},
     "output_type": "execute_result"
    },
    {
     "data": {
      "text/plain": [
       "Top nil feature map classification: \tgoldfish, Carassius auratus 33.907737731934\t\n",
       "33.907737731934\t\n",
       "809 is finished\t\n"
      ]
     },
     "execution_count": 35,
     "metadata": {},
     "output_type": "execute_result"
    },
    {
     "data": {
      "text/plain": [
       "Top nil feature map classification: \tgoldfish, Carassius auratus 34.685024261475\t\n",
       "34.685024261475\t\n",
       "810 is finished\t\n"
      ]
     },
     "execution_count": 35,
     "metadata": {},
     "output_type": "execute_result"
    },
    {
     "data": {
      "text/plain": [
       "Top nil feature map classification: \tmeasuring cup 12.457455635071\t\n",
       "8.7251663208008\t\n",
       "811 is finished\t\n"
      ]
     },
     "execution_count": 35,
     "metadata": {},
     "output_type": "execute_result"
    },
    {
     "data": {
      "text/plain": [
       "Top nil feature map classification: \tgoldfish, Carassius auratus 12.023303985596\t\n",
       "12.023303985596\t\n",
       "812 is finished\t\n"
      ]
     },
     "execution_count": 35,
     "metadata": {},
     "output_type": "execute_result"
    },
    {
     "data": {
      "text/plain": [
       "Top nil feature map classification: \tgoldfish, Carassius auratus 16.952425003052\t\n",
       "16.952425003052\t\n",
       "813 is finished\t\n"
      ]
     },
     "execution_count": 35,
     "metadata": {},
     "output_type": "execute_result"
    },
    {
     "data": {
      "text/plain": [
       "Top nil feature map classification: \tgoldfish, Carassius auratus 25.736724853516\t\n",
       "25.736724853516\t\n",
       "814 is finished\t\n"
      ]
     },
     "execution_count": 35,
     "metadata": {},
     "output_type": "execute_result"
    },
    {
     "data": {
      "text/plain": [
       "Top nil feature map classification: \tbubble 7.9887719154358\t\n",
       "5.3042736053467\t\n",
       "815 is finished\t\n"
      ]
     },
     "execution_count": 35,
     "metadata": {},
     "output_type": "execute_result"
    },
    {
     "data": {
      "text/plain": [
       "Top nil feature map classification: \tgoldfish, Carassius auratus 19.808267593384\t\n",
       "19.808267593384\t\n",
       "816 is finished\t\n"
      ]
     },
     "execution_count": 35,
     "metadata": {},
     "output_type": "execute_result"
    },
    {
     "data": {
      "text/plain": [
       "Top nil feature map classification: \tgoldfish, Carassius auratus 18.188520431519\t\n",
       "18.188520431519\t\n",
       "817 is finished\t\n"
      ]
     },
     "execution_count": 35,
     "metadata": {},
     "output_type": "execute_result"
    },
    {
     "data": {
      "text/plain": [
       "Top nil feature map classification: \tgoldfish, Carassius auratus 23.37321472168\t\n",
       "23.37321472168\t\n",
       "818 is finished\t\n"
      ]
     },
     "execution_count": 35,
     "metadata": {},
     "output_type": "execute_result"
    },
    {
     "data": {
      "text/plain": [
       "Top nil feature map classification: \tshower curtain 8.8520078659058\t\n",
       "6.9943809509277\t\n",
       "819 is finished\t\n"
      ]
     },
     "execution_count": 35,
     "metadata": {},
     "output_type": "execute_result"
    },
    {
     "data": {
      "text/plain": [
       "Top nil feature map classification: \tgoldfish, Carassius auratus 10.204060554504\t\n",
       "10.204060554504\t\n",
       "820 is finished\t\n"
      ]
     },
     "execution_count": 35,
     "metadata": {},
     "output_type": "execute_result"
    },
    {
     "data": {
      "text/plain": [
       "Top nil feature map classification: \tgoldfish, Carassius auratus 11.128973960876\t\n",
       "11.128973960876\t\n",
       "821 is finished\t\n"
      ]
     },
     "execution_count": 35,
     "metadata": {},
     "output_type": "execute_result"
    },
    {
     "data": {
      "text/plain": [
       "Top nil feature map classification: \tgoldfish, Carassius auratus 13.91339969635\t\n",
       "13.91339969635\t\n",
       "822 is finished\t\n"
      ]
     },
     "execution_count": 35,
     "metadata": {},
     "output_type": "execute_result"
    },
    {
     "data": {
      "text/plain": [
       "Top nil feature map classification: \tgoldfish, Carassius auratus 24.154150009155\t\n",
       "24.154150009155\t\n",
       "823 is finished\t\n"
      ]
     },
     "execution_count": 35,
     "metadata": {},
     "output_type": "execute_result"
    },
    {
     "data": {
      "text/plain": [
       "Top nil feature map classification: \tgoblet 11.644057273865\t\n",
       "8.8085784912109\t\n",
       "824 is finished\t\n"
      ]
     },
     "execution_count": 35,
     "metadata": {},
     "output_type": "execute_result"
    },
    {
     "data": {
      "text/plain": [
       "Top nil feature map classification: \twater jug 12.861190795898\t\n",
       "7.589937210083\t\n",
       "825 is finished\t\n"
      ]
     },
     "execution_count": 35,
     "metadata": {},
     "output_type": "execute_result"
    },
    {
     "data": {
      "text/plain": [
       "Top nil feature map classification: \tgoldfish, Carassius auratus 12.389105796814\t\n",
       "12.389105796814\t\n",
       "826 is finished\t\n"
      ]
     },
     "execution_count": 35,
     "metadata": {},
     "output_type": "execute_result"
    },
    {
     "data": {
      "text/plain": [
       "Top nil feature map classification: \twater jug 9.5773057937622\t\n",
       "7.3321032524109\t\n",
       "827 is finished\t\n"
      ]
     },
     "execution_count": 35,
     "metadata": {},
     "output_type": "execute_result"
    },
    {
     "data": {
      "text/plain": [
       "Top nil feature map classification: \tgoldfish, Carassius auratus 20.334552764893\t\n",
       "20.334552764893\t\n",
       "828 is finished\t\n"
      ]
     },
     "execution_count": 35,
     "metadata": {},
     "output_type": "execute_result"
    },
    {
     "data": {
      "text/plain": [
       "Top nil feature map classification: \tgoldfish, Carassius auratus 16.432754516602\t\n",
       "16.432754516602\t\n",
       "829 is finished\t\n"
      ]
     },
     "execution_count": 35,
     "metadata": {},
     "output_type": "execute_result"
    },
    {
     "data": {
      "text/plain": [
       "Top nil feature map classification: \tgoldfish, Carassius auratus 33.555126190186\t\n",
       "33.555126190186\t\n",
       "830 is finished\t\n"
      ]
     },
     "execution_count": 35,
     "metadata": {},
     "output_type": "execute_result"
    },
    {
     "data": {
      "text/plain": [
       "Top nil feature map classification: \tgoldfish, Carassius auratus 19.72243309021\t\n",
       "19.72243309021\t\n",
       "831 is finished\t\n"
      ]
     },
     "execution_count": 35,
     "metadata": {},
     "output_type": "execute_result"
    },
    {
     "data": {
      "text/plain": [
       "Top nil feature map classification: \tgoldfish, Carassius auratus 27.824142456055\t\n",
       "27.824142456055\t\n",
       "832 is finished\t\n"
      ]
     },
     "execution_count": 35,
     "metadata": {},
     "output_type": "execute_result"
    },
    {
     "data": {
      "text/plain": [
       "Top nil feature map classification: \tgoldfish, Carassius auratus 31.72790145874\t\n",
       "31.72790145874\t\n",
       "833 is finished\t\n"
      ]
     },
     "execution_count": 35,
     "metadata": {},
     "output_type": "execute_result"
    },
    {
     "data": {
      "text/plain": [
       "Top nil feature map classification: \tgoldfish, Carassius auratus 25.395685195923\t\n",
       "25.395685195923\t\n",
       "834 is finished\t\n"
      ]
     },
     "execution_count": 35,
     "metadata": {},
     "output_type": "execute_result"
    },
    {
     "data": {
      "text/plain": [
       "Top nil feature map classification: \tgoldfish, Carassius auratus 36.212089538574\t\n",
       "36.212089538574\t\n",
       "835 is finished\t\n"
      ]
     },
     "execution_count": 35,
     "metadata": {},
     "output_type": "execute_result"
    },
    {
     "data": {
      "text/plain": [
       "Top nil feature map classification: \tgoldfish, Carassius auratus 29.487340927124\t\n",
       "29.487340927124\t\n",
       "836 is finished\t\n"
      ]
     },
     "execution_count": 35,
     "metadata": {},
     "output_type": "execute_result"
    },
    {
     "data": {
      "text/plain": [
       "Top nil feature map classification: \tgoldfish, Carassius auratus 24.603061676025\t\n",
       "24.603061676025\t\n",
       "837 is finished\t\n"
      ]
     },
     "execution_count": 35,
     "metadata": {},
     "output_type": "execute_result"
    },
    {
     "data": {
      "text/plain": [
       "Top nil feature map classification: \tgoldfish, Carassius auratus 20.285551071167\t\n",
       "20.285551071167\t\n",
       "838 is finished\t\n"
      ]
     },
     "execution_count": 35,
     "metadata": {},
     "output_type": "execute_result"
    },
    {
     "data": {
      "text/plain": [
       "Top nil feature map classification: \tgoldfish, Carassius auratus 22.632860183716\t\n",
       "22.632860183716\t\n",
       "839 is finished\t\n"
      ]
     },
     "execution_count": 35,
     "metadata": {},
     "output_type": "execute_result"
    },
    {
     "data": {
      "text/plain": [
       "Top nil feature map classification: \tgoldfish, Carassius auratus 17.152057647705\t\n",
       "17.152057647705\t\n",
       "840 is finished\t\n"
      ]
     },
     "execution_count": 35,
     "metadata": {},
     "output_type": "execute_result"
    },
    {
     "data": {
      "text/plain": [
       "Top nil feature map classification: \tgoldfish, Carassius auratus 17.229055404663\t\n",
       "17.229055404663\t\n",
       "841 is finished\t\n"
      ]
     },
     "execution_count": 35,
     "metadata": {},
     "output_type": "execute_result"
    },
    {
     "data": {
      "text/plain": [
       "Top nil feature map classification: \tgoldfish, Carassius auratus 20.63743019104\t\n",
       "20.63743019104\t\n",
       "842 is finished\t\n"
      ]
     },
     "execution_count": 35,
     "metadata": {},
     "output_type": "execute_result"
    },
    {
     "data": {
      "text/plain": [
       "Top nil feature map classification: \tgoldfish, Carassius auratus 16.368583679199\t\n",
       "16.368583679199\t\n",
       "843 is finished\t\n"
      ]
     },
     "execution_count": 35,
     "metadata": {},
     "output_type": "execute_result"
    },
    {
     "data": {
      "text/plain": [
       "Top nil feature map classification: \tgoldfish, Carassius auratus 11.143712043762\t\n",
       "11.143712043762\t\n",
       "844 is finished\t\n"
      ]
     },
     "execution_count": 35,
     "metadata": {},
     "output_type": "execute_result"
    },
    {
     "data": {
      "text/plain": [
       "Top nil feature map classification: \tgoldfish, Carassius auratus 17.886684417725\t\n",
       "17.886684417725\t\n",
       "845 is finished\t\n"
      ]
     },
     "execution_count": 35,
     "metadata": {},
     "output_type": "execute_result"
    },
    {
     "data": {
      "text/plain": [
       "Top nil feature map classification: \tgoldfish, Carassius auratus 13.762899398804\t\n",
       "13.762899398804\t\n",
       "846 is finished\t\n"
      ]
     },
     "execution_count": 35,
     "metadata": {},
     "output_type": "execute_result"
    },
    {
     "data": {
      "text/plain": [
       "Top nil feature map classification: \tgoldfish, Carassius auratus 26.955980300903\t\n",
       "26.955980300903\t\n",
       "847 is finished\t\n"
      ]
     },
     "execution_count": 35,
     "metadata": {},
     "output_type": "execute_result"
    },
    {
     "data": {
      "text/plain": [
       "Top nil feature map classification: \tgoldfish, Carassius auratus 30.424200057983\t\n",
       "30.424200057983\t\n",
       "848 is finished\t\n"
      ]
     },
     "execution_count": 35,
     "metadata": {},
     "output_type": "execute_result"
    },
    {
     "data": {
      "text/plain": [
       "Top nil feature map classification: \t"
      ]
     },
     "execution_count": 35,
     "metadata": {},
     "output_type": "execute_result"
    },
    {
     "data": {
      "text/plain": [
       "goldfish, Carassius auratus 17.741418838501\t\n",
       "17.741418838501\t\n",
       "849 is finished\t\n"
      ]
     },
     "execution_count": 35,
     "metadata": {},
     "output_type": "execute_result"
    },
    {
     "data": {
      "text/plain": [
       "Top nil feature map classification: \tgoldfish, Carassius auratus 13.67956829071\t\n",
       "13.67956829071\t\n",
       "850 is finished\t\n"
      ]
     },
     "execution_count": 35,
     "metadata": {},
     "output_type": "execute_result"
    },
    {
     "data": {
      "text/plain": [
       "Top nil feature map classification: \tlorikeet 8.5992183685303\t\n",
       "7.9204850196838\t\n",
       "851 is finished\t\n"
      ]
     },
     "execution_count": 35,
     "metadata": {},
     "output_type": "execute_result"
    },
    {
     "data": {
      "text/plain": [
       "Top nil feature map classification: \tcoral reef 10.671870231628\t\n",
       "6.7929501533508\t\n",
       "852 is finished\t\n"
      ]
     },
     "execution_count": 35,
     "metadata": {},
     "output_type": "execute_result"
    },
    {
     "data": {
      "text/plain": [
       "Top nil feature map classification: \tgoldfish, Carassius auratus 16.197265625\t\n",
       "16.197265625\t\n",
       "853 is finished\t\n"
      ]
     },
     "execution_count": 35,
     "metadata": {},
     "output_type": "execute_result"
    },
    {
     "data": {
      "text/plain": [
       "Top nil feature map classification: \tgoldfish, Carassius auratus 13.788382530212\t\n",
       "13.788382530212\t\n",
       "854 is finished\t\n"
      ]
     },
     "execution_count": 35,
     "metadata": {},
     "output_type": "execute_result"
    },
    {
     "data": {
      "text/plain": [
       "Top nil feature map classification: \tsea slug, nudibranch 13.902449607849\t\n",
       "12.211929321289\t\n",
       "855 is finished\t\n"
      ]
     },
     "execution_count": 35,
     "metadata": {},
     "output_type": "execute_result"
    },
    {
     "data": {
      "text/plain": [
       "Top nil feature map classification: \tgoldfish, Carassius auratus 12.441195487976\t\n",
       "12.441195487976\t\n",
       "856 is finished\t\n"
      ]
     },
     "execution_count": 35,
     "metadata": {},
     "output_type": "execute_result"
    },
    {
     "data": {
      "text/plain": [
       "Top nil feature map classification: \tgoldfish, Carassius auratus 30.600214004517\t\n",
       "30.600214004517\t\n",
       "857 is finished\t\n"
      ]
     },
     "execution_count": 35,
     "metadata": {},
     "output_type": "execute_result"
    },
    {
     "data": {
      "text/plain": [
       "Top nil feature map classification: \tgoldfish, Carassius auratus 26.094032287598\t\n",
       "26.094032287598\t\n",
       "858 is finished\t\n"
      ]
     },
     "execution_count": 35,
     "metadata": {},
     "output_type": "execute_result"
    },
    {
     "data": {
      "text/plain": [
       "Top nil feature map classification: \tgoldfish, Carassius auratus 12.854181289673\t\n",
       "12.854181289673\t\n",
       "859 is finished\t\n"
      ]
     },
     "execution_count": 35,
     "metadata": {},
     "output_type": "execute_result"
    },
    {
     "data": {
      "text/plain": [
       "Top nil feature map classification: \tcoral reef 11.771795272827\t\n",
       "6.0805053710938\t\n",
       "860 is finished\t\n"
      ]
     },
     "execution_count": 35,
     "metadata": {},
     "output_type": "execute_result"
    },
    {
     "data": {
      "text/plain": [
       "Top nil feature map classification: \tgoldfish, Carassius auratus 21.180807113647\t\n",
       "21.180807113647\t\n",
       "861 is finished\t\n"
      ]
     },
     "execution_count": 35,
     "metadata": {},
     "output_type": "execute_result"
    },
    {
     "data": {
      "text/plain": [
       "Top nil feature map classification: \tgoldfish, Carassius auratus 17.738922119141\t\n",
       "17.738922119141\t\n",
       "862 is finished\t\n"
      ]
     },
     "execution_count": 35,
     "metadata": {},
     "output_type": "execute_result"
    },
    {
     "data": {
      "text/plain": [
       "Top nil feature map classification: \tgoldfish, Carassius auratus 18.978178024292\t\n",
       "18.978178024292\t\n",
       "863 is finished\t\n"
      ]
     },
     "execution_count": 35,
     "metadata": {},
     "output_type": "execute_result"
    },
    {
     "data": {
      "text/plain": [
       "Top nil feature map classification: \tgoldfish, Carassius auratus 12.556305885315\t\n",
       "12.556305885315\t\n",
       "864 is finished\t\n"
      ]
     },
     "execution_count": 35,
     "metadata": {},
     "output_type": "execute_result"
    },
    {
     "data": {
      "text/plain": [
       "Top nil feature map classification: \tgoldfish, Carassius auratus 18.028764724731\t\n",
       "18.028764724731\t\n",
       "865 is finished\t\n"
      ]
     },
     "execution_count": 35,
     "metadata": {},
     "output_type": "execute_result"
    },
    {
     "data": {
      "text/plain": [
       "Top nil feature map classification: \tgoldfish, Carassius auratus 29.963592529297\t\n",
       "29.963592529297\t\n",
       "866 is finished\t\n"
      ]
     },
     "execution_count": 35,
     "metadata": {},
     "output_type": "execute_result"
    },
    {
     "data": {
      "text/plain": [
       "Top nil feature map classification: \tgoldfish, Carassius auratus 26.167604446411\t\n",
       "26.167604446411\t\n",
       "867 is finished\t\n"
      ]
     },
     "execution_count": 35,
     "metadata": {},
     "output_type": "execute_result"
    },
    {
     "data": {
      "text/plain": [
       "Top nil feature map classification: \tgoldfish, Carassius auratus 26.823354721069\t\n",
       "26.823354721069\t\n",
       "868 is finished\t\n"
      ]
     },
     "execution_count": 35,
     "metadata": {},
     "output_type": "execute_result"
    },
    {
     "data": {
      "text/plain": [
       "Top nil feature map classification: \tgoldfish, Carassius auratus 27.258392333984\t\n",
       "27.258392333984\t\n",
       "869 is finished\t\n"
      ]
     },
     "execution_count": 35,
     "metadata": {},
     "output_type": "execute_result"
    },
    {
     "data": {
      "text/plain": [
       "Top nil feature map classification: \tgoldfish, Carassius auratus 25.936498641968\t\n",
       "25.936498641968\t\n",
       "870 is finished\t\n"
      ]
     },
     "execution_count": 35,
     "metadata": {},
     "output_type": "execute_result"
    },
    {
     "data": {
      "text/plain": [
       "Top nil feature map classification: \tgoldfish, Carassius auratus 16.055822372437\t\n",
       "16.055822372437\t\n",
       "871 is finished\t\n"
      ]
     },
     "execution_count": 35,
     "metadata": {},
     "output_type": "execute_result"
    },
    {
     "data": {
      "text/plain": [
       "Top nil feature map classification: \tgoldfish, Carassius auratus 13.202494621277\t\n",
       "13.202494621277\t\n",
       "872 is finished\t\n"
      ]
     },
     "execution_count": 35,
     "metadata": {},
     "output_type": "execute_result"
    },
    {
     "data": {
      "text/plain": [
       "Top nil feature map classification: \tgoldfish, Carassius auratus 13.169208526611\t\n",
       "13.169208526611\t\n",
       "873 is finished\t\n"
      ]
     },
     "execution_count": 35,
     "metadata": {},
     "output_type": "execute_result"
    },
    {
     "data": {
      "text/plain": [
       "Top nil feature map classification: \tgoldfish, Carassius auratus 16.219310760498\t\n",
       "16.219310760498\t\n",
       "874 is finished\t\n"
      ]
     },
     "execution_count": 35,
     "metadata": {},
     "output_type": "execute_result"
    },
    {
     "data": {
      "text/plain": [
       "Top nil feature map classification: \tgoldfish, Carassius auratus 11.919809341431\t\n",
       "11.919809341431\t\n",
       "875 is finished\t\n"
      ]
     },
     "execution_count": 35,
     "metadata": {},
     "output_type": "execute_result"
    },
    {
     "data": {
      "text/plain": [
       "Top nil feature map classification: \tgoldfish, Carassius auratus 21.962959289551\t\n",
       "21.962959289551\t\n",
       "876 is finished\t\n"
      ]
     },
     "execution_count": 35,
     "metadata": {},
     "output_type": "execute_result"
    },
    {
     "data": {
      "text/plain": [
       "Top nil feature map classification: \tgoldfish, Carassius auratus 10.382175445557\t\n",
       "10.382175445557\t\n",
       "877 is finished\t\n"
      ]
     },
     "execution_count": 35,
     "metadata": {},
     "output_type": "execute_result"
    },
    {
     "data": {
      "text/plain": [
       "Top nil feature map classification: \tteapot 11.197839736938\t\n",
       "8.4801912307739\t\n",
       "878 is finished\t\n"
      ]
     },
     "execution_count": 35,
     "metadata": {},
     "output_type": "execute_result"
    },
    {
     "data": {
      "text/plain": [
       "Top nil feature map classification: \tgoldfish, Carassius auratus 27.238927841187\t\n",
       "27.238927841187\t\n",
       "879 is finished\t\n"
      ]
     },
     "execution_count": 35,
     "metadata": {},
     "output_type": "execute_result"
    },
    {
     "data": {
      "text/plain": [
       "Top nil feature map classification: \tgoldfish, Carassius auratus 21.052333831787\t\n",
       "21.052333831787\t\n",
       "880 is finished\t\n"
      ]
     },
     "execution_count": 35,
     "metadata": {},
     "output_type": "execute_result"
    },
    {
     "data": {
      "text/plain": [
       "Top nil feature map classification: \tgoldfish, Carassius auratus 31.264503479004\t\n",
       "31.264503479004\t\n",
       "881 is finished\t\n"
      ]
     },
     "execution_count": 35,
     "metadata": {},
     "output_type": "execute_result"
    },
    {
     "data": {
      "text/plain": [
       "Top nil feature map classification: \ttree frog, tree-frog 11.060581207275\t\n",
       "8.5928649902344\t\n",
       "882 is finished\t\n"
      ]
     },
     "execution_count": 35,
     "metadata": {},
     "output_type": "execute_result"
    },
    {
     "data": {
      "text/plain": [
       "Top nil feature map classification: \tgoldfish, Carassius auratus 5.6896686553955\t\n",
       "5.6896686553955\t\n",
       "883 is finished\t\n"
      ]
     },
     "execution_count": 35,
     "metadata": {},
     "output_type": "execute_result"
    },
    {
     "data": {
      "text/plain": [
       "Top nil feature map classification: \tgoldfish, Carassius auratus 24.377931594849\t\n",
       "24.377931594849\t\n",
       "884 is finished\t\n"
      ]
     },
     "execution_count": 35,
     "metadata": {},
     "output_type": "execute_result"
    },
    {
     "data": {
      "text/plain": [
       "Top nil feature map classification: \tgoldfish, Carassius auratus 18.352426528931\t\n",
       "18.352426528931\t\n",
       "885 is finished\t\n"
      ]
     },
     "execution_count": 35,
     "metadata": {},
     "output_type": "execute_result"
    },
    {
     "data": {
      "text/plain": [
       "Top nil feature map classification: \tgoldfish, Carassius auratus 17.824754714966\t\n",
       "17.824754714966\t\n",
       "886 is finished\t\n"
      ]
     },
     "execution_count": 35,
     "metadata": {},
     "output_type": "execute_result"
    },
    {
     "data": {
      "text/plain": [
       "Top nil feature map classification: \tgoldfish, Carassius auratus 19.0286693573\t\n",
       "19.0286693573\t\n",
       "887 is finished\t\n"
      ]
     },
     "execution_count": 35,
     "metadata": {},
     "output_type": "execute_result"
    },
    {
     "data": {
      "text/plain": [
       "Top nil feature map classification: \tgoldfish, Carassius auratus 23.216718673706\t\n",
       "23.216718673706\t\n",
       "888 is finished\t\n"
      ]
     },
     "execution_count": 35,
     "metadata": {},
     "output_type": "execute_result"
    },
    {
     "data": {
      "text/plain": [
       "Top nil feature map classification: \tgoldfish, Carassius auratus 24.173892974854\t\n"
      ]
     },
     "execution_count": 35,
     "metadata": {},
     "output_type": "execute_result"
    },
    {
     "data": {
      "text/plain": [
       "24.173892974854\t\n",
       "889 is finished\t\n"
      ]
     },
     "execution_count": 35,
     "metadata": {},
     "output_type": "execute_result"
    },
    {
     "data": {
      "text/plain": [
       "Top nil feature map classification: \tgoldfish, Carassius auratus 12.1834897995\t\n",
       "12.1834897995\t\n",
       "890 is finished\t\n"
      ]
     },
     "execution_count": 35,
     "metadata": {},
     "output_type": "execute_result"
    },
    {
     "data": {
      "text/plain": [
       "Top nil feature map classification: \tgoldfish, Carassius auratus 19.893726348877\t\n",
       "19.893726348877\t\n",
       "891 is finished\t\n"
      ]
     },
     "execution_count": 35,
     "metadata": {},
     "output_type": "execute_result"
    },
    {
     "data": {
      "text/plain": [
       "Top nil feature map classification: \tgoldfish, Carassius auratus 19.390617370605\t\n",
       "19.390617370605\t\n",
       "892 is finished\t\n"
      ]
     },
     "execution_count": 35,
     "metadata": {},
     "output_type": "execute_result"
    },
    {
     "data": {
      "text/plain": [
       "Top nil feature map classification: \tgoldfish, Carassius auratus 16.447765350342\t\n",
       "16.447765350342\t\n",
       "893 is finished\t\n"
      ]
     },
     "execution_count": 35,
     "metadata": {},
     "output_type": "execute_result"
    },
    {
     "data": {
      "text/plain": [
       "Top nil feature map classification: \tgoldfish, Carassius auratus 23.993183135986\t\n",
       "23.993183135986\t\n",
       "894 is finished\t\n"
      ]
     },
     "execution_count": 35,
     "metadata": {},
     "output_type": "execute_result"
    },
    {
     "data": {
      "text/plain": [
       "Top nil feature map classification: \tgoldfish, Carassius auratus 16.224901199341\t\n",
       "16.224901199341\t\n",
       "895 is finished\t\n"
      ]
     },
     "execution_count": 35,
     "metadata": {},
     "output_type": "execute_result"
    },
    {
     "data": {
      "text/plain": [
       "Top nil feature map classification: \tgoldfish, Carassius auratus 22.059534072876\t\n",
       "22.059534072876\t\n",
       "896 is finished\t\n"
      ]
     },
     "execution_count": 35,
     "metadata": {},
     "output_type": "execute_result"
    },
    {
     "data": {
      "text/plain": [
       "Top nil feature map classification: \tgoldfish, Carassius auratus 19.09218788147\t\n",
       "19.09218788147\t\n",
       "897 is finished\t\n"
      ]
     },
     "execution_count": 35,
     "metadata": {},
     "output_type": "execute_result"
    },
    {
     "data": {
      "text/plain": [
       "Top nil feature map classification: \tgoldfish, Carassius auratus 37.750175476074\t\n",
       "37.750175476074\t\n",
       "898 is finished\t\n"
      ]
     },
     "execution_count": 35,
     "metadata": {},
     "output_type": "execute_result"
    },
    {
     "data": {
      "text/plain": [
       "Top nil feature map classification: \tgoldfish, Carassius auratus 28.289119720459\t\n",
       "28.289119720459\t\n",
       "899 is finished\t\n"
      ]
     },
     "execution_count": 35,
     "metadata": {},
     "output_type": "execute_result"
    },
    {
     "data": {
      "text/plain": [
       "Top nil feature map classification: \tgoldfish, Carassius auratus 30.565927505493\t\n",
       "30.565927505493\t\n",
       "900 is finished\t\n"
      ]
     },
     "execution_count": 35,
     "metadata": {},
     "output_type": "execute_result"
    },
    {
     "data": {
      "text/plain": [
       "Top nil feature map classification: \tgoldfish, Carassius auratus 20.440420150757\t\n",
       "20.440420150757\t\n",
       "901 is finished\t\n"
      ]
     },
     "execution_count": 35,
     "metadata": {},
     "output_type": "execute_result"
    },
    {
     "data": {
      "text/plain": [
       "Top nil feature map classification: \tgoldfish, Carassius auratus 20.164924621582\t\n",
       "20.164924621582\t\n",
       "902 is finished\t\n"
      ]
     },
     "execution_count": 35,
     "metadata": {},
     "output_type": "execute_result"
    },
    {
     "data": {
      "text/plain": [
       "Top nil feature map classification: \tgoldfish, Carassius auratus 23.478736877441\t\n",
       "23.478736877441\t\n",
       "903 is finished\t\n"
      ]
     },
     "execution_count": 35,
     "metadata": {},
     "output_type": "execute_result"
    },
    {
     "data": {
      "text/plain": [
       "Top nil feature map classification: \tgoldfish, Carassius auratus 11.645277023315\t\n",
       "11.645277023315\t\n",
       "904 is finished\t\n"
      ]
     },
     "execution_count": 35,
     "metadata": {},
     "output_type": "execute_result"
    },
    {
     "data": {
      "text/plain": [
       "Top nil feature map classification: \tgoldfish, Carassius auratus 19.705720901489\t\n",
       "19.705720901489\t\n",
       "905 is finished\t\n"
      ]
     },
     "execution_count": 35,
     "metadata": {},
     "output_type": "execute_result"
    },
    {
     "data": {
      "text/plain": [
       "Top nil feature map classification: \tgoldfish, Carassius auratus 38.685890197754\t\n",
       "38.685890197754\t\n",
       "906 is finished\t\n"
      ]
     },
     "execution_count": 35,
     "metadata": {},
     "output_type": "execute_result"
    },
    {
     "data": {
      "text/plain": [
       "Top nil feature map classification: \tgoldfish, Carassius auratus 19.506637573242\t\n",
       "19.506637573242\t\n",
       "907 is finished\t\n"
      ]
     },
     "execution_count": 35,
     "metadata": {},
     "output_type": "execute_result"
    },
    {
     "data": {
      "text/plain": [
       "Top nil feature map classification: \tgoldfish, Carassius auratus 36.843898773193\t\n",
       "36.843898773193\t\n",
       "908 is finished\t\n"
      ]
     },
     "execution_count": 35,
     "metadata": {},
     "output_type": "execute_result"
    },
    {
     "data": {
      "text/plain": [
       "Top nil feature map classification: \tgoldfish, Carassius auratus 9.6710948944092\t\n",
       "9.6710948944092\t\n",
       "909 is finished\t\n"
      ]
     },
     "execution_count": 35,
     "metadata": {},
     "output_type": "execute_result"
    },
    {
     "data": {
      "text/plain": [
       "Top nil feature map classification: \tgoldfish, Carassius auratus 29.633195877075\t\n",
       "29.633195877075\t\n",
       "910 is finished\t\n"
      ]
     },
     "execution_count": 35,
     "metadata": {},
     "output_type": "execute_result"
    },
    {
     "data": {
      "text/plain": [
       "Top nil feature map classification: \tgoldfish, Carassius auratus 32.397834777832\t\n"
      ]
     },
     "execution_count": 35,
     "metadata": {},
     "output_type": "execute_result"
    },
    {
     "data": {
      "text/plain": [
       "32.397834777832\t\n",
       "911 is finished\t\n"
      ]
     },
     "execution_count": 35,
     "metadata": {},
     "output_type": "execute_result"
    },
    {
     "data": {
      "text/plain": [
       "Top nil feature map classification: \tgoldfish, Carassius auratus 12.509554862976\t\n",
       "12.509554862976\t\n",
       "912 is finished\t\n"
      ]
     },
     "execution_count": 35,
     "metadata": {},
     "output_type": "execute_result"
    },
    {
     "data": {
      "text/plain": [
       "Top nil feature map classification: \tgoldfish, Carassius auratus 36.799350738525\t\n",
       "36.799350738525\t\n",
       "913 is finished\t\n"
      ]
     },
     "execution_count": 35,
     "metadata": {},
     "output_type": "execute_result"
    },
    {
     "data": {
      "text/plain": [
       "Top nil feature map classification: \tgoldfish, Carassius auratus 19.035293579102\t\n",
       "19.035293579102\t\n",
       "914 is finished\t\n"
      ]
     },
     "execution_count": 35,
     "metadata": {},
     "output_type": "execute_result"
    },
    {
     "data": {
      "text/plain": [
       "Top nil feature map classification: \tgoldfish, Carassius auratus 19.07243347168\t\n",
       "19.07243347168\t\n",
       "915 is finished\t\n"
      ]
     },
     "execution_count": 35,
     "metadata": {},
     "output_type": "execute_result"
    },
    {
     "data": {
      "text/plain": [
       "Top nil feature map classification: \tgoldfish, Carassius auratus 17.792964935303\t\n",
       "17.792964935303\t\n",
       "916 is finished\t\n"
      ]
     },
     "execution_count": 35,
     "metadata": {},
     "output_type": "execute_result"
    },
    {
     "data": {
      "text/plain": [
       "Top nil feature map classification: \tgoldfish, Carassius auratus 32.711887359619\t\n",
       "32.711887359619\t\n",
       "917 is finished\t\n"
      ]
     },
     "execution_count": 35,
     "metadata": {},
     "output_type": "execute_result"
    },
    {
     "data": {
      "text/plain": [
       "Top nil feature map classification: \tgoldfish, Carassius auratus 21.754102706909\t\n",
       "21.754102706909\t\n",
       "918 is finished\t\n"
      ]
     },
     "execution_count": 35,
     "metadata": {},
     "output_type": "execute_result"
    },
    {
     "data": {
      "text/plain": [
       "Top nil feature map classification: \tgoldfish, Carassius auratus 18.285655975342\t\n",
       "18.285655975342\t\n",
       "919 is finished\t\n"
      ]
     },
     "execution_count": 35,
     "metadata": {},
     "output_type": "execute_result"
    },
    {
     "data": {
      "text/plain": [
       "Top nil feature map classification: \tgoldfish, Carassius auratus 15.136405944824\t\n",
       "15.136405944824\t\n",
       "920 is finished\t\n"
      ]
     },
     "execution_count": 35,
     "metadata": {},
     "output_type": "execute_result"
    },
    {
     "data": {
      "text/plain": [
       "Top nil feature map classification: \tgoldfish, Carassius auratus 18.399728775024\t\n",
       "18.399728775024\t\n"
      ]
     },
     "execution_count": 35,
     "metadata": {},
     "output_type": "execute_result"
    },
    {
     "data": {
      "text/plain": [
       "921 is finished\t\n"
      ]
     },
     "execution_count": 35,
     "metadata": {},
     "output_type": "execute_result"
    },
    {
     "data": {
      "text/plain": [
       "Top nil feature map classification: \tgoldfish, Carassius auratus 12.862506866455\t\n",
       "12.862506866455\t\n",
       "922 is finished\t\n"
      ]
     },
     "execution_count": 35,
     "metadata": {},
     "output_type": "execute_result"
    },
    {
     "data": {
      "text/plain": [
       "Top nil feature map classification: \tgoldfish, Carassius auratus 28.634763717651\t\n",
       "28.634763717651\t\n",
       "923 is finished\t\n"
      ]
     },
     "execution_count": 35,
     "metadata": {},
     "output_type": "execute_result"
    },
    {
     "data": {
      "text/plain": [
       "Top nil feature map classification: \tgoldfish, Carassius auratus 39.32368850708\t\n",
       "39.32368850708\t\n",
       "924 is finished\t\n"
      ]
     },
     "execution_count": 35,
     "metadata": {},
     "output_type": "execute_result"
    },
    {
     "data": {
      "text/plain": [
       "Top nil feature map classification: \tgoldfish, Carassius auratus 16.468414306641\t\n",
       "16.468414306641\t\n",
       "925 is finished\t\n"
      ]
     },
     "execution_count": 35,
     "metadata": {},
     "output_type": "execute_result"
    },
    {
     "data": {
      "text/plain": [
       "Top nil feature map classification: \tgoldfish, Carassius auratus 16.138816833496\t\n",
       "16.138816833496\t\n",
       "926 is finished\t\n"
      ]
     },
     "execution_count": 35,
     "metadata": {},
     "output_type": "execute_result"
    },
    {
     "data": {
      "text/plain": [
       "Top nil feature map classification: \tgoldfish, Carassius auratus 29.505891799927\t\n",
       "29.505891799927\t\n",
       "927 is finished\t\n"
      ]
     },
     "execution_count": 35,
     "metadata": {},
     "output_type": "execute_result"
    },
    {
     "data": {
      "text/plain": [
       "Top nil feature map classification: \tgoldfish, Carassius auratus 17.724855422974\t\n",
       "17.724855422974\t\n",
       "928 is finished\t\n"
      ]
     },
     "execution_count": 35,
     "metadata": {},
     "output_type": "execute_result"
    },
    {
     "data": {
      "text/plain": [
       "Top nil feature map classification: \tgoldfish, Carassius auratus 32.228977203369\t\n",
       "32.228977203369\t\n",
       "929 is finished\t\n"
      ]
     },
     "execution_count": 35,
     "metadata": {},
     "output_type": "execute_result"
    },
    {
     "data": {
      "text/plain": [
       "Top nil feature map classification: \tgoldfish, Carassius auratus 19.396081924438\t\n",
       "19.396081924438\t\n",
       "930 is finished\t\n"
      ]
     },
     "execution_count": 35,
     "metadata": {},
     "output_type": "execute_result"
    },
    {
     "data": {
      "text/plain": [
       "Top nil feature map classification: \tgoldfish, Carassius auratus 14.101243019104\t\n",
       "14.101243019104\t\n",
       "931 is finished\t\n"
      ]
     },
     "execution_count": 35,
     "metadata": {},
     "output_type": "execute_result"
    },
    {
     "data": {
      "text/plain": [
       "Top nil feature map classification: \tgoldfish, Carassius auratus 29.019639968872\t\n",
       "29.019639968872\t\n",
       "932 is finished\t\n"
      ]
     },
     "execution_count": 35,
     "metadata": {},
     "output_type": "execute_result"
    },
    {
     "data": {
      "text/plain": [
       "Top nil feature map classification: \tgoldfish, Carassius auratus 19.446872711182\t\n",
       "19.446872711182\t\n",
       "933 is finished\t\n"
      ]
     },
     "execution_count": 35,
     "metadata": {},
     "output_type": "execute_result"
    },
    {
     "data": {
      "text/plain": [
       "Top nil feature map classification: \tgoldfish, Carassius auratus 31.717859268188\t\n",
       "31.717859268188\t\n",
       "934 is finished\t\n"
      ]
     },
     "execution_count": 35,
     "metadata": {},
     "output_type": "execute_result"
    },
    {
     "data": {
      "text/plain": [
       "Top nil feature map classification: \tgoldfish, Carassius auratus 16.816287994385\t\n",
       "16.816287994385\t\n",
       "935 is finished\t\n"
      ]
     },
     "execution_count": 35,
     "metadata": {},
     "output_type": "execute_result"
    },
    {
     "data": {
      "text/plain": [
       "Top nil feature map classification: \tgoldfish, Carassius auratus 15.149475097656\t\n",
       "15.149475097656\t\n",
       "936 is finished\t\n"
      ]
     },
     "execution_count": 35,
     "metadata": {},
     "output_type": "execute_result"
    },
    {
     "data": {
      "text/plain": [
       "Top nil feature map classification: \tgoldfish, Carassius auratus 13.04708480835\t\n",
       "13.04708480835\t\n",
       "937 is finished\t\n"
      ]
     },
     "execution_count": 35,
     "metadata": {},
     "output_type": "execute_result"
    },
    {
     "data": {
      "text/plain": [
       "Top nil feature map classification: \tgoldfish, Carassius auratus 12.9192943573\t\n",
       "12.9192943573\t\n",
       "938 is finished\t\n"
      ]
     },
     "execution_count": 35,
     "metadata": {},
     "output_type": "execute_result"
    },
    {
     "data": {
      "text/plain": [
       "Top nil feature map classification: \tgoldfish, Carassius auratus 22.169921875\t\n",
       "22.169921875\t\n",
       "939 is finished\t\n"
      ]
     },
     "execution_count": 35,
     "metadata": {},
     "output_type": "execute_result"
    },
    {
     "data": {
      "text/plain": [
       "Top nil feature map classification: \tgoldfish, Carassius auratus 25.147052764893\t\n",
       "25.147052764893\t\n",
       "940 is finished\t\n"
      ]
     },
     "execution_count": 35,
     "metadata": {},
     "output_type": "execute_result"
    },
    {
     "data": {
      "text/plain": [
       "Top nil feature map classification: \tgoldfish, Carassius auratus 18.874513626099\t\n",
       "18.874513626099\t\n",
       "941 is finished\t\n"
      ]
     },
     "execution_count": 35,
     "metadata": {},
     "output_type": "execute_result"
    },
    {
     "data": {
      "text/plain": [
       "Top nil feature map classification: \tgoldfish, Carassius auratus 21.84609413147\t\n",
       "21.84609413147\t\n",
       "942 is finished\t\n"
      ]
     },
     "execution_count": 35,
     "metadata": {},
     "output_type": "execute_result"
    },
    {
     "data": {
      "text/plain": [
       "Top nil feature map classification: \tgoldfish, Carassius auratus 38.741245269775\t\n"
      ]
     },
     "execution_count": 35,
     "metadata": {},
     "output_type": "execute_result"
    },
    {
     "data": {
      "text/plain": [
       "38.741245269775\t\n",
       "943 is finished\t\n"
      ]
     },
     "execution_count": 35,
     "metadata": {},
     "output_type": "execute_result"
    },
    {
     "data": {
      "text/plain": [
       "Top nil feature map classification: \tgoldfish, Carassius auratus 13.720708847046\t\n",
       "13.720708847046\t\n",
       "944 is finished\t\n"
      ]
     },
     "execution_count": 35,
     "metadata": {},
     "output_type": "execute_result"
    },
    {
     "data": {
      "text/plain": [
       "Top nil feature map classification: \tjigsaw puzzle 9.1464328765869\t\n",
       "8.66286277771\t\n",
       "945 is finished\t\n"
      ]
     },
     "execution_count": 35,
     "metadata": {},
     "output_type": "execute_result"
    },
    {
     "data": {
      "text/plain": [
       "Top nil feature map classification: \tgoldfish, Carassius auratus 33.970481872559\t\n",
       "33.970481872559\t\n",
       "946 is finished\t\n"
      ]
     },
     "execution_count": 35,
     "metadata": {},
     "output_type": "execute_result"
    },
    {
     "data": {
      "text/plain": [
       "Top nil feature map classification: \tgoldfish, Carassius auratus 23.883056640625\t\n",
       "23.883056640625\t\n",
       "947 is finished\t\n"
      ]
     },
     "execution_count": 35,
     "metadata": {},
     "output_type": "execute_result"
    },
    {
     "data": {
      "text/plain": [
       "Top nil feature map classification: \tgoldfish, Carassius auratus 21.986055374146\t\n",
       "21.986055374146\t\n",
       "948 is finished\t\n"
      ]
     },
     "execution_count": 35,
     "metadata": {},
     "output_type": "execute_result"
    },
    {
     "data": {
      "text/plain": [
       "Top nil feature map classification: \tgoldfish, Carassius auratus 19.194667816162\t\n",
       "19.194667816162\t\n",
       "949 is finished\t\n"
      ]
     },
     "execution_count": 35,
     "metadata": {},
     "output_type": "execute_result"
    },
    {
     "data": {
      "text/plain": [
       "Top nil feature map classification: \tgoldfish, Carassius auratus 8.6515913009644\t\n",
       "8.6515913009644\t\n",
       "950 is finished\t\n"
      ]
     },
     "execution_count": 35,
     "metadata": {},
     "output_type": "execute_result"
    },
    {
     "data": {
      "text/plain": [
       "Top nil feature map classification: \tgoldfish, Carassius auratus 21.409948348999\t\n",
       "21.409948348999\t\n",
       "951 is finished\t\n"
      ]
     },
     "execution_count": 35,
     "metadata": {},
     "output_type": "execute_result"
    },
    {
     "data": {
      "text/plain": [
       "Top nil feature map classification: \tgoldfish, Carassius auratus 25.238563537598\t\n",
       "25.238563537598\t\n",
       "952 is finished\t\n"
      ]
     },
     "execution_count": 35,
     "metadata": {},
     "output_type": "execute_result"
    },
    {
     "data": {
      "text/plain": [
       "Top nil feature map classification: \tgoldfish, Carassius auratus 19.454767227173\t\n",
       "19.454767227173\t\n",
       "953 is finished\t\n"
      ]
     },
     "execution_count": 35,
     "metadata": {},
     "output_type": "execute_result"
    },
    {
     "data": {
      "text/plain": [
       "Top nil feature map classification: \tgoldfish, Carassius auratus 23.24146270752\t\n",
       "23.24146270752\t\n",
       "954 is finished\t\n"
      ]
     },
     "execution_count": 35,
     "metadata": {},
     "output_type": "execute_result"
    },
    {
     "data": {
      "text/plain": [
       "Top nil feature map classification: \tgoldfish, Carassius auratus 23.049383163452\t\n",
       "23.049383163452\t\n",
       "955 is finished\t\n"
      ]
     },
     "execution_count": 35,
     "metadata": {},
     "output_type": "execute_result"
    },
    {
     "data": {
      "text/plain": [
       "Top nil feature map classification: \tgoldfish, Carassius auratus 18.837255477905\t\n",
       "18.837255477905\t\n",
       "956 is finished\t\n"
      ]
     },
     "execution_count": 35,
     "metadata": {},
     "output_type": "execute_result"
    },
    {
     "data": {
      "text/plain": [
       "Top nil feature map classification: \tgoldfish, Carassius auratus 36.927555084229\t\n",
       "36.927555084229\t\n",
       "957 is finished\t\n"
      ]
     },
     "execution_count": 35,
     "metadata": {},
     "output_type": "execute_result"
    },
    {
     "data": {
      "text/plain": [
       "Top nil feature map classification: \tgoldfish, Carassius auratus 23.446544647217\t\n",
       "23.446544647217\t\n",
       "958 is finished\t\n"
      ]
     },
     "execution_count": 35,
     "metadata": {},
     "output_type": "execute_result"
    },
    {
     "data": {
      "text/plain": [
       "Top nil feature map classification: \tgoldfish, Carassius auratus 24.762411117554\t\n",
       "24.762411117554\t\n",
       "959 is finished\t\n"
      ]
     },
     "execution_count": 35,
     "metadata": {},
     "output_type": "execute_result"
    },
    {
     "data": {
      "text/plain": [
       "Top nil feature map classification: \tgoldfish, Carassius auratus 26.133960723877\t\n",
       "26.133960723877\t\n",
       "960 is finished\t\n"
      ]
     },
     "execution_count": 35,
     "metadata": {},
     "output_type": "execute_result"
    },
    {
     "data": {
      "text/plain": [
       "Top nil feature map classification: \tgoldfish, Carassius auratus 20.028091430664\t\n",
       "20.028091430664\t\n",
       "961 is finished\t\n"
      ]
     },
     "execution_count": 35,
     "metadata": {},
     "output_type": "execute_result"
    },
    {
     "data": {
      "text/plain": [
       "Top nil feature map classification: \tgoldfish, Carassius auratus 21.047992706299\t\n",
       "21.047992706299\t\n",
       "962 is finished\t\n"
      ]
     },
     "execution_count": 35,
     "metadata": {},
     "output_type": "execute_result"
    },
    {
     "data": {
      "text/plain": [
       "Top nil feature map classification: \tgoldfish, Carassius auratus 18.244142532349\t\n",
       "18.244142532349\t\n",
       "963 is finished\t\n"
      ]
     },
     "execution_count": 35,
     "metadata": {},
     "output_type": "execute_result"
    },
    {
     "data": {
      "text/plain": [
       "Top nil feature map classification: \tbell pepper 10.589774131775\t\n",
       "8.9983758926392\t\n",
       "964 is finished\t\n"
      ]
     },
     "execution_count": 35,
     "metadata": {},
     "output_type": "execute_result"
    },
    {
     "data": {
      "text/plain": [
       "Top nil feature map classification: \tgoldfish, Carassius auratus 25.821413040161\t\n",
       "25.821413040161\t\n",
       "965 is finished\t\n"
      ]
     },
     "execution_count": 35,
     "metadata": {},
     "output_type": "execute_result"
    },
    {
     "data": {
      "text/plain": [
       "Top nil feature map classification: \tgoldfish, Carassius auratus 12.253574371338\t\n",
       "12.253574371338\t\n",
       "966 is finished\t\n"
      ]
     },
     "execution_count": 35,
     "metadata": {},
     "output_type": "execute_result"
    },
    {
     "data": {
      "text/plain": [
       "Top nil feature map classification: \tgoldfish, Carassius auratus 21.430610656738\t\n",
       "21.430610656738\t\n",
       "967 is finished\t\n"
      ]
     },
     "execution_count": 35,
     "metadata": {},
     "output_type": "execute_result"
    },
    {
     "data": {
      "text/plain": [
       "Top nil feature map classification: \tgoldfish, Carassius auratus 33.957389831543\t\n",
       "33.957389831543\t\n",
       "968 is finished\t\n"
      ]
     },
     "execution_count": 35,
     "metadata": {},
     "output_type": "execute_result"
    },
    {
     "data": {
      "text/plain": [
       "Top nil feature map classification: \tgoldfish, Carassius auratus 26.235527038574\t\n",
       "26.235527038574\t\n",
       "969 is finished\t\n"
      ]
     },
     "execution_count": 35,
     "metadata": {},
     "output_type": "execute_result"
    },
    {
     "data": {
      "text/plain": [
       "Top nil feature map classification: \tsoap dispenser 9.7621488571167\t\n",
       "3.8521881103516\t\n",
       "970 is finished\t\n"
      ]
     },
     "execution_count": 35,
     "metadata": {},
     "output_type": "execute_result"
    },
    {
     "data": {
      "text/plain": [
       "Top nil feature map classification: \tgoldfish, Carassius auratus 24.400922775269\t\n",
       "24.400922775269\t\n",
       "971 is finished\t\n"
      ]
     },
     "execution_count": 35,
     "metadata": {},
     "output_type": "execute_result"
    },
    {
     "data": {
      "text/plain": [
       "Top nil feature map classification: \tgoldfish, Carassius auratus 16.952152252197\t\n",
       "16.952152252197\t\n",
       "972 is finished\t\n"
      ]
     },
     "execution_count": 35,
     "metadata": {},
     "output_type": "execute_result"
    },
    {
     "data": {
      "text/plain": [
       "Top nil feature map classification: \tgoldfish, Carassius auratus 14.522302627563\t\n",
       "14.522302627563\t\n",
       "973 is finished\t\n"
      ]
     },
     "execution_count": 35,
     "metadata": {},
     "output_type": "execute_result"
    },
    {
     "data": {
      "text/plain": [
       "Top nil feature map classification: \tgoldfish, Carassius auratus 28.279493331909\t\n",
       "28.279493331909\t\n",
       "974 is finished\t\n"
      ]
     },
     "execution_count": 35,
     "metadata": {},
     "output_type": "execute_result"
    },
    {
     "data": {
      "text/plain": [
       "Top nil feature map classification: \tgoldfish, Carassius auratus 25.522258758545\t\n",
       "25.522258758545\t\n",
       "975 is finished\t\n"
      ]
     },
     "execution_count": 35,
     "metadata": {},
     "output_type": "execute_result"
    },
    {
     "data": {
      "text/plain": [
       "Top nil feature map classification: \tgoldfish, Carassius auratus 37.568672180176\t\n",
       "37.568672180176\t\n",
       "976 is finished\t\n"
      ]
     },
     "execution_count": 35,
     "metadata": {},
     "output_type": "execute_result"
    },
    {
     "data": {
      "text/plain": [
       "Top nil feature map classification: \tgoldfish, Carassius auratus 16.555139541626\t\n",
       "16.555139541626\t\n",
       "977 is finished\t\n"
      ]
     },
     "execution_count": 35,
     "metadata": {},
     "output_type": "execute_result"
    },
    {
     "data": {
      "text/plain": [
       "Top nil feature map classification: \tgoldfish, Carassius auratus 23.16269493103\t\n",
       "23.16269493103\t\n",
       "978 is finished\t\n"
      ]
     },
     "execution_count": 35,
     "metadata": {},
     "output_type": "execute_result"
    },
    {
     "data": {
      "text/plain": [
       "Top nil feature map classification: \tgoldfish, Carassius auratus 21.443069458008\t\n",
       "21.443069458008\t\n",
       "979 is finished\t\n"
      ]
     },
     "execution_count": 35,
     "metadata": {},
     "output_type": "execute_result"
    },
    {
     "data": {
      "text/plain": [
       "Top nil feature map classification: \tgoldfish, Carassius auratus 18.295137405396\t\n",
       "18.295137405396\t\n",
       "980 is finished\t\n"
      ]
     },
     "execution_count": 35,
     "metadata": {},
     "output_type": "execute_result"
    },
    {
     "data": {
      "text/plain": [
       "Top nil feature map classification: \tgoldfish, Carassius auratus 13.636510848999\t\n",
       "13.636510848999\t\n",
       "981 is finished\t\n"
      ]
     },
     "execution_count": 35,
     "metadata": {},
     "output_type": "execute_result"
    },
    {
     "data": {
      "text/plain": [
       "Top nil feature map classification: \tgoldfish, Carassius auratus 25.04772567749\t\n",
       "25.04772567749\t\n",
       "982 is finished\t\n"
      ]
     },
     "execution_count": 35,
     "metadata": {},
     "output_type": "execute_result"
    },
    {
     "data": {
      "text/plain": [
       "Top nil feature map classification: \tgoldfish, Carassius auratus 25.10634803772\t\n",
       "25.10634803772\t\n",
       "983 is finished\t\n"
      ]
     },
     "execution_count": 35,
     "metadata": {},
     "output_type": "execute_result"
    },
    {
     "data": {
      "text/plain": [
       "Top nil feature map classification: \tgoldfish, Carassius auratus 13.644679069519\t\n",
       "13.644679069519\t\n",
       "984 is finished\t\n"
      ]
     },
     "execution_count": 35,
     "metadata": {},
     "output_type": "execute_result"
    },
    {
     "data": {
      "text/plain": [
       "Top nil feature map classification: \tgoldfish, Carassius auratus 27.128255844116\t\n",
       "27.128255844116\t\n",
       "985 is finished\t\n"
      ]
     },
     "execution_count": 35,
     "metadata": {},
     "output_type": "execute_result"
    },
    {
     "data": {
      "text/plain": [
       "Top nil feature map classification: \tgoldfish, Carassius auratus 34.867755889893\t\n",
       "34.867755889893\t\n",
       "986 is finished\t\n"
      ]
     },
     "execution_count": 35,
     "metadata": {},
     "output_type": "execute_result"
    },
    {
     "data": {
      "text/plain": [
       "Top nil feature map classification: \tgoldfish, Carassius auratus 16.300102233887\t\n",
       "16.300102233887\t\n",
       "987 is finished\t\n"
      ]
     },
     "execution_count": 35,
     "metadata": {},
     "output_type": "execute_result"
    },
    {
     "data": {
      "text/plain": [
       "Top nil feature map classification: \tgoldfish, Carassius auratus 17.046686172485\t\n",
       "17.046686172485\t\n",
       "988 is finished\t\n"
      ]
     },
     "execution_count": 35,
     "metadata": {},
     "output_type": "execute_result"
    },
    {
     "data": {
      "text/plain": [
       "Top nil feature map classification: \tbook jacket, dust cover, dust jacket, dust wrapper 11.480112075806\t\n",
       "9.5061388015747\t\n",
       "989 is finished\t\n"
      ]
     },
     "execution_count": 35,
     "metadata": {},
     "output_type": "execute_result"
    },
    {
     "data": {
      "text/plain": [
       "Top nil feature map classification: \tgoldfish, Carassius auratus 17.248783111572\t\n",
       "17.248783111572\t\n",
       "990 is finished\t\n"
      ]
     },
     "execution_count": 35,
     "metadata": {},
     "output_type": "execute_result"
    },
    {
     "data": {
      "text/plain": [
       "Top nil feature map classification: \tgoldfish, Carassius auratus 28.752010345459\t\n",
       "28.752010345459\t\n",
       "991 is finished\t\n"
      ]
     },
     "execution_count": 35,
     "metadata": {},
     "output_type": "execute_result"
    },
    {
     "data": {
      "text/plain": [
       "Top nil feature map classification: \tgoldfish, Carassius auratus 35.04927444458\t\n",
       "35.04927444458\t\n",
       "992 is finished\t\n"
      ]
     },
     "execution_count": 35,
     "metadata": {},
     "output_type": "execute_result"
    },
    {
     "data": {
      "text/plain": [
       "Top nil feature map classification: \tgoldfish, Carassius auratus 18.153659820557\t\n",
       "18.153659820557\t\n",
       "993 is finished\t\n"
      ]
     },
     "execution_count": 35,
     "metadata": {},
     "output_type": "execute_result"
    },
    {
     "data": {
      "text/plain": [
       "Top nil feature map classification: \tgoldfish, Carassius auratus 29.134094238281\t\n",
       "29.134094238281\t\n",
       "994 is finished\t\n"
      ]
     },
     "execution_count": 35,
     "metadata": {},
     "output_type": "execute_result"
    },
    {
     "data": {
      "text/plain": [
       "Top nil feature map classification: \tgoldfish, Carassius auratus 14.588394165039\t\n",
       "14.588394165039\t\n",
       "995 is finished\t\n"
      ]
     },
     "execution_count": 35,
     "metadata": {},
     "output_type": "execute_result"
    },
    {
     "data": {
      "text/plain": [
       "Top nil feature map classification: \tgoldfish, Carassius auratus 36.026706695557\t\n",
       "36.026706695557\t\n",
       "996 is finished\t\n"
      ]
     },
     "execution_count": 35,
     "metadata": {},
     "output_type": "execute_result"
    },
    {
     "data": {
      "text/plain": [
       "Top nil feature map classification: \tgoldfish, Carassius auratus 16.701107025146\t\n",
       "16.701107025146\t\n",
       "997 is finished\t\n"
      ]
     },
     "execution_count": 35,
     "metadata": {},
     "output_type": "execute_result"
    },
    {
     "data": {
      "text/plain": [
       "Top nil feature map classification: \tgoldfish, Carassius auratus 29.316257476807\t\n",
       "29.316257476807\t\n",
       "998 is finished\t\n"
      ]
     },
     "execution_count": 35,
     "metadata": {},
     "output_type": "execute_result"
    },
    {
     "data": {
      "text/plain": [
       "Top nil feature map classification: \tgoldfish, Carassius auratus 18.928050994873\t\n",
       "18.928050994873\t\n",
       "999 is finished\t\n"
      ]
     },
     "execution_count": 35,
     "metadata": {},
     "output_type": "execute_result"
    },
    {
     "data": {
      "text/plain": [
       "Top nil feature map classification: \tgoldfish, Carassius auratus 19.238819122314\t\n",
       "19.238819122314\t\n",
       "1000 is finished\t\n"
      ]
     },
     "execution_count": 35,
     "metadata": {},
     "output_type": "execute_result"
    },
    {
     "data": {
      "text/plain": [
       "Top nil feature map classification: \tgoldfish, Carassius auratus 11.981997489929\t\n",
       "11.981997489929\t\n",
       "1001 is finished\t\n"
      ]
     },
     "execution_count": 35,
     "metadata": {},
     "output_type": "execute_result"
    },
    {
     "data": {
      "text/plain": [
       "Top nil feature map classification: \tgoldfish, Carassius auratus 26.558237075806\t\n",
       "26.558237075806\t\n",
       "1002 is finished\t\n"
      ]
     },
     "execution_count": 35,
     "metadata": {},
     "output_type": "execute_result"
    },
    {
     "data": {
      "text/plain": [
       "Top nil feature map classification: \tgoldfish, Carassius auratus 15.763852119446\t\n",
       "15.763852119446\t\n",
       "1003 is finished\t\n"
      ]
     },
     "execution_count": 35,
     "metadata": {},
     "output_type": "execute_result"
    },
    {
     "data": {
      "text/plain": [
       "Top nil feature map classification: \tgoldfish, Carassius auratus 23.05004119873\t\n",
       "23.05004119873\t\n",
       "1004 is finished\t\n"
      ]
     },
     "execution_count": 35,
     "metadata": {},
     "output_type": "execute_result"
    },
    {
     "data": {
      "text/plain": [
       "Top nil feature map classification: \taxolotl, mud puppy, Ambystoma mexicanum 12.888255119324\t\n",
       "11.515120506287\t\n",
       "1005 is finished\t\n"
      ]
     },
     "execution_count": 35,
     "metadata": {},
     "output_type": "execute_result"
    },
    {
     "data": {
      "text/plain": [
       "Top nil feature map classification: \tgoldfish, Carassius auratus 12.325389862061\t\n",
       "12.325389862061\t\n",
       "1006 is finished\t\n"
      ]
     },
     "execution_count": 35,
     "metadata": {},
     "output_type": "execute_result"
    },
    {
     "data": {
      "text/plain": [
       "Top nil feature map classification: \tgoldfish, Carassius auratus 26.571069717407\t\n",
       "26.571069717407\t\n",
       "1007 is finished\t\n"
      ]
     },
     "execution_count": 35,
     "metadata": {},
     "output_type": "execute_result"
    },
    {
     "data": {
      "text/plain": [
       "Top nil feature map classification: \tgoldfish, Carassius auratus 33.50980758667\t\n",
       "33.50980758667\t\n",
       "1008 is finished\t\n"
      ]
     },
     "execution_count": 35,
     "metadata": {},
     "output_type": "execute_result"
    },
    {
     "data": {
      "text/plain": [
       "Top nil feature map classification: \tgoldfish, Carassius auratus 39.756980895996\t\n",
       "39.756980895996\t\n",
       "1009 is finished\t\n"
      ]
     },
     "execution_count": 35,
     "metadata": {},
     "output_type": "execute_result"
    },
    {
     "data": {
      "text/plain": [
       "Top nil feature map classification: \tgoldfish, Carassius auratus 21.591941833496\t\n",
       "21.591941833496\t\n",
       "1010 is finished\t\n"
      ]
     },
     "execution_count": 35,
     "metadata": {},
     "output_type": "execute_result"
    },
    {
     "data": {
      "text/plain": [
       "Top nil feature map classification: \tgoldfish, Carassius auratus 36.72338104248\t\n",
       "36.72338104248\t\n",
       "1011 is finished\t\n"
      ]
     },
     "execution_count": 35,
     "metadata": {},
     "output_type": "execute_result"
    },
    {
     "data": {
      "text/plain": [
       "Top nil feature map classification: \tgoldfish, Carassius auratus 16.205669403076\t\n",
       "16.205669403076\t\n",
       "1012 is finished\t\n"
      ]
     },
     "execution_count": 35,
     "metadata": {},
     "output_type": "execute_result"
    },
    {
     "data": {
      "text/plain": [
       "Top nil feature map classification: \tgoldfish, Carassius auratus 36.886096954346\t\n",
       "36.886096954346\t\n",
       "1013 is finished\t\n"
      ]
     },
     "execution_count": 35,
     "metadata": {},
     "output_type": "execute_result"
    },
    {
     "data": {
      "text/plain": [
       "Top nil feature map classification: \tgoldfish, Carassius auratus 26.757806777954\t\n",
       "26.757806777954\t\n",
       "1014 is finished\t\n"
      ]
     },
     "execution_count": 35,
     "metadata": {},
     "output_type": "execute_result"
    },
    {
     "data": {
      "text/plain": [
       "Top nil feature map classification: \tcandle, taper, wax light 10.003642082214\t\n",
       "9.1516819000244\t\n",
       "1015 is finished\t\n"
      ]
     },
     "execution_count": 35,
     "metadata": {},
     "output_type": "execute_result"
    },
    {
     "data": {
      "text/plain": [
       "Top nil feature map classification: \tgoldfish, Carassius auratus 28.146726608276\t\n",
       "28.146726608276\t\n",
       "1016 is finished\t\n"
      ]
     },
     "execution_count": 35,
     "metadata": {},
     "output_type": "execute_result"
    },
    {
     "data": {
      "text/plain": [
       "Top nil feature map classification: \tgoldfish, Carassius auratus 12.646785736084\t\n",
       "12.646785736084\t\n",
       "1017 is finished\t\n"
      ]
     },
     "execution_count": 35,
     "metadata": {},
     "output_type": "execute_result"
    },
    {
     "data": {
      "text/plain": [
       "Top nil feature map classification: \tgoldfish, Carassius auratus 18.454523086548\t\n",
       "18.454523086548\t\n",
       "1018 is finished\t\n"
      ]
     },
     "execution_count": 35,
     "metadata": {},
     "output_type": "execute_result"
    },
    {
     "data": {
      "text/plain": [
       "Top nil feature map classification: \tgoldfish, Carassius auratus 19.125589370728\t\n",
       "19.125589370728\t\n",
       "1019 is finished\t\n"
      ]
     },
     "execution_count": 35,
     "metadata": {},
     "output_type": "execute_result"
    },
    {
     "data": {
      "text/plain": [
       "Top nil feature map classification: \tgoldfish, Carassius auratus 24.645990371704\t"
      ]
     },
     "execution_count": 35,
     "metadata": {},
     "output_type": "execute_result"
    },
    {
     "data": {
      "text/plain": [
       "\n",
       "24.645990371704\t\n",
       "1020 is finished\t\n"
      ]
     },
     "execution_count": 35,
     "metadata": {},
     "output_type": "execute_result"
    },
    {
     "data": {
      "text/plain": [
       "Top nil feature map classification: \tgoldfish, Carassius auratus 18.519229888916\t\n",
       "18.519229888916\t\n",
       "1021 is finished\t\n"
      ]
     },
     "execution_count": 35,
     "metadata": {},
     "output_type": "execute_result"
    },
    {
     "data": {
      "text/plain": [
       "Top nil feature map classification: \tgoldfish, Carassius auratus 15.611610412598\t\n",
       "15.611610412598\t\n",
       "1022 is finished\t\n"
      ]
     },
     "execution_count": 35,
     "metadata": {},
     "output_type": "execute_result"
    },
    {
     "data": {
      "text/plain": [
       "Top nil feature map classification: \tgoldfish, Carassius auratus 17.930654525757\t\n",
       "17.930654525757\t\n",
       "1023 is finished\t\n"
      ]
     },
     "execution_count": 35,
     "metadata": {},
     "output_type": "execute_result"
    },
    {
     "data": {
      "text/plain": [
       "Top nil feature map classification: \tgoldfish, Carassius auratus 24.700643539429\t\n",
       "24.700643539429\t\n",
       "1024 is finished\t\n"
      ]
     },
     "execution_count": 35,
     "metadata": {},
     "output_type": "execute_result"
    },
    {
     "data": {
      "text/plain": [
       "Top nil feature map classification: \tgoldfish, Carassius auratus 25.643487930298\t\n",
       "25.643487930298\t\n",
       "1025 is finished\t\n"
      ]
     },
     "execution_count": 35,
     "metadata": {},
     "output_type": "execute_result"
    },
    {
     "data": {
      "text/plain": [
       "Top nil feature map classification: \tgoldfish, Carassius auratus 21.950199127197\t\n",
       "21.950199127197\t\n",
       "1026 is finished\t\n"
      ]
     },
     "execution_count": 35,
     "metadata": {},
     "output_type": "execute_result"
    },
    {
     "data": {
      "text/plain": [
       "Top nil feature map classification: \tgoldfish, Carassius auratus 31.439939498901\t\n",
       "31.439939498901\t\n",
       "1027 is finished\t\n"
      ]
     },
     "execution_count": 35,
     "metadata": {},
     "output_type": "execute_result"
    },
    {
     "data": {
      "text/plain": [
       "Top nil feature map classification: \tgoldfish, Carassius auratus 26.03115272522\t\n",
       "26.03115272522\t\n",
       "1028 is finished\t\n"
      ]
     },
     "execution_count": 35,
     "metadata": {},
     "output_type": "execute_result"
    },
    {
     "data": {
      "text/plain": [
       "Top nil feature map classification: \tgoldfish, Carassius auratus 24.429044723511\t\n",
       "24.429044723511\t\n",
       "1029 is finished\t\n"
      ]
     },
     "execution_count": 35,
     "metadata": {},
     "output_type": "execute_result"
    },
    {
     "data": {
      "text/plain": [
       "Top nil feature map classification: \tgoldfish, Carassius auratus 11.815365791321\t\n",
       "11.815365791321\t\n",
       "1030 is finished\t\n"
      ]
     },
     "execution_count": 35,
     "metadata": {},
     "output_type": "execute_result"
    },
    {
     "data": {
      "text/plain": [
       "Top nil feature map classification: \tgoldfish, Carassius auratus 27.664192199707\t\n",
       "27.664192199707\t\n",
       "1031 is finished\t\n"
      ]
     },
     "execution_count": 35,
     "metadata": {},
     "output_type": "execute_result"
    },
    {
     "data": {
      "text/plain": [
       "Top nil feature map classification: \tgoldfish, Carassius auratus 27.972002029419\t\n",
       "27.972002029419\t\n",
       "1032 is finished\t\n"
      ]
     },
     "execution_count": 35,
     "metadata": {},
     "output_type": "execute_result"
    },
    {
     "data": {
      "text/plain": [
       "Top nil feature map classification: \tgoldfish, Carassius auratus 10.951111793518\t\n",
       "10.951111793518\t\n",
       "1033 is finished\t\n"
      ]
     },
     "execution_count": 35,
     "metadata": {},
     "output_type": "execute_result"
    },
    {
     "data": {
      "text/plain": [
       "Top nil feature map classification: \taxolotl, mud puppy, Ambystoma mexicanum 14.833908081055\t\n",
       "13.696620941162\t\n",
       "1034 is finished\t\n"
      ]
     },
     "execution_count": 35,
     "metadata": {},
     "output_type": "execute_result"
    },
    {
     "data": {
      "text/plain": [
       "Top nil feature map classification: \tgoldfish, Carassius auratus 31.739706039429\t\n",
       "31.739706039429\t\n",
       "1035 is finished\t\n"
      ]
     },
     "execution_count": 35,
     "metadata": {},
     "output_type": "execute_result"
    },
    {
     "data": {
      "text/plain": [
       "Top nil feature map classification: \tgoldfish, Carassius auratus 28.724098205566\t\n",
       "28.724098205566\t\n",
       "1036 is finished\t\n"
      ]
     },
     "execution_count": 35,
     "metadata": {},
     "output_type": "execute_result"
    },
    {
     "data": {
      "text/plain": [
       "Top nil feature map classification: \tgoldfish, Carassius auratus 24.390560150146\t\n",
       "24.390560150146\t\n",
       "1037 is finished\t\n"
      ]
     },
     "execution_count": 35,
     "metadata": {},
     "output_type": "execute_result"
    },
    {
     "data": {
      "text/plain": [
       "Top nil feature map classification: \tgoldfish, Carassius auratus 26.177135467529\t\n",
       "26.177135467529\t\n",
       "1038 is finished\t\n"
      ]
     },
     "execution_count": 35,
     "metadata": {},
     "output_type": "execute_result"
    },
    {
     "data": {
      "text/plain": [
       "Top nil feature map classification: \tgoldfish, Carassius auratus 24.702152252197\t\n",
       "24.702152252197\t\n",
       "1039 is finished\t\n"
      ]
     },
     "execution_count": 35,
     "metadata": {},
     "output_type": "execute_result"
    },
    {
     "data": {
      "text/plain": [
       "Top nil feature map classification: \tgoldfish, Carassius auratus 28.691123962402\t\n",
       "28.691123962402\t\n",
       "1040 is finished\t\n"
      ]
     },
     "execution_count": 35,
     "metadata": {},
     "output_type": "execute_result"
    },
    {
     "data": {
      "text/plain": [
       "Top nil feature map classification: \tgoldfish, Carassius auratus 23.056951522827\t\n",
       "23.056951522827\t\n",
       "1041 is finished\t\n"
      ]
     },
     "execution_count": 35,
     "metadata": {},
     "output_type": "execute_result"
    },
    {
     "data": {
      "text/plain": [
       "Top nil feature map classification: \tgoldfish, Carassius auratus 7.4405570030212\t\n",
       "7.4405570030212\t\n",
       "1042 is finished\t\n"
      ]
     },
     "execution_count": 35,
     "metadata": {},
     "output_type": "execute_result"
    },
    {
     "data": {
      "text/plain": [
       "Top nil feature map classification: \tgoldfish, Carassius auratus 40.160057067871\t\n",
       "40.160057067871\t\n",
       "1043 is finished\t\n"
      ]
     },
     "execution_count": 35,
     "metadata": {},
     "output_type": "execute_result"
    },
    {
     "data": {
      "text/plain": [
       "Top nil feature map classification: \tgoldfish, Carassius auratus 42.262763977051\t\n",
       "42.262763977051\t\n",
       "1044 is finished\t\n"
      ]
     },
     "execution_count": 35,
     "metadata": {},
     "output_type": "execute_result"
    },
    {
     "data": {
      "text/plain": [
       "Top nil feature map classification: \tgoldfish, Carassius auratus 20.101316452026\t\n",
       "20.101316452026\t\n",
       "1045 is finished\t\n"
      ]
     },
     "execution_count": 35,
     "metadata": {},
     "output_type": "execute_result"
    },
    {
     "data": {
      "text/plain": [
       "Top nil feature map classification: \tgoldfish, Carassius auratus 27.85174369812\t\n",
       "27.85174369812\t\n",
       "1046 is finished\t\n"
      ]
     },
     "execution_count": 35,
     "metadata": {},
     "output_type": "execute_result"
    },
    {
     "data": {
      "text/plain": [
       "Top nil feature map classification: \tfire screen, fireguard 7.8988437652588\t\n",
       "4.2740020751953\t\n",
       "1047 is finished\t\n"
      ]
     },
     "execution_count": 35,
     "metadata": {},
     "output_type": "execute_result"
    },
    {
     "data": {
      "text/plain": [
       "Top nil feature map classification: \tgoldfish, Carassius auratus 21.394683837891\t\n",
       "21.394683837891\t\n",
       "1048 is finished\t\n"
      ]
     },
     "execution_count": 35,
     "metadata": {},
     "output_type": "execute_result"
    },
    {
     "data": {
      "text/plain": [
       "Top nil feature map classification: \tgoldfish, Carassius auratus 22.302492141724\t\n",
       "22.302492141724\t\n",
       "1049 is finished\t\n"
      ]
     },
     "execution_count": 35,
     "metadata": {},
     "output_type": "execute_result"
    },
    {
     "data": {
      "text/plain": [
       "Top nil feature map classification: \tgoldfish, Carassius auratus 20.693380355835\t\n",
       "20.693380355835\t\n",
       "1050 is finished\t\n"
      ]
     },
     "execution_count": 35,
     "metadata": {},
     "output_type": "execute_result"
    },
    {
     "data": {
      "text/plain": [
       "Top nil feature map classification: \tgoldfish, Carassius auratus 21.287347793579\t\n",
       "21.287347793579\t\n",
       "1051 is finished\t\n"
      ]
     },
     "execution_count": 35,
     "metadata": {},
     "output_type": "execute_result"
    },
    {
     "data": {
      "text/plain": [
       "Top nil feature map classification: \tgoldfish, Carassius auratus 14.332337379456\t\n",
       "14.332337379456\t\n",
       "1052 is finished\t\n"
      ]
     },
     "execution_count": 35,
     "metadata": {},
     "output_type": "execute_result"
    },
    {
     "data": {
      "text/plain": [
       "Top nil feature map classification: \tstarfish, sea star 10.403383255005\t\n",
       "10.012422561646\t\n",
       "1053 is finished\t\n"
      ]
     },
     "execution_count": 35,
     "metadata": {},
     "output_type": "execute_result"
    },
    {
     "data": {
      "text/plain": [
       "Top nil feature map classification: \tgoldfish, Carassius auratus 16.16633605957\t\n",
       "16.16633605957\t\n",
       "1054 is finished\t\n"
      ]
     },
     "execution_count": 35,
     "metadata": {},
     "output_type": "execute_result"
    },
    {
     "data": {
      "text/plain": [
       "Top nil feature map classification: \tgoldfish, Carassius auratus 35.05704498291\t\n",
       "35.05704498291\t\n",
       "1055 is finished\t\n"
      ]
     },
     "execution_count": 35,
     "metadata": {},
     "output_type": "execute_result"
    },
    {
     "data": {
      "text/plain": [
       "Top nil feature map classification: \tgoldfish, Carassius auratus 31.487730026245\t\n",
       "31.487730026245\t\n",
       "1056 is finished\t\n"
      ]
     },
     "execution_count": 35,
     "metadata": {},
     "output_type": "execute_result"
    },
    {
     "data": {
      "text/plain": [
       "Top nil feature map classification: \tgoldfish, Carassius auratus 31.409620285034\t\n",
       "31.409620285034\t\n",
       "1057 is finished\t\n"
      ]
     },
     "execution_count": 35,
     "metadata": {},
     "output_type": "execute_result"
    },
    {
     "data": {
      "text/plain": [
       "Top nil feature map classification: \tgoldfish, Carassius auratus 22.137842178345\t\n",
       "22.137842178345\t\n",
       "1058 is finished\t\n"
      ]
     },
     "execution_count": 35,
     "metadata": {},
     "output_type": "execute_result"
    },
    {
     "data": {
      "text/plain": [
       "Top nil feature map classification: \tgoldfish, Carassius auratus 26.727584838867\t\n",
       "26.727584838867\t\n",
       "1059 is finished\t\n"
      ]
     },
     "execution_count": 35,
     "metadata": {},
     "output_type": "execute_result"
    },
    {
     "data": {
      "text/plain": [
       "Top nil feature map classification: \tgoldfish, Carassius auratus 17.76460647583\t\n",
       "17.76460647583\t\n",
       "1060 is finished\t\n"
      ]
     },
     "execution_count": 35,
     "metadata": {},
     "output_type": "execute_result"
    },
    {
     "data": {
      "text/plain": [
       "Top nil feature map classification: \tgoldfish, Carassius auratus 14.91557598114\t\n",
       "14.91557598114\t\n",
       "1061 is finished\t\n"
      ]
     },
     "execution_count": 35,
     "metadata": {},
     "output_type": "execute_result"
    },
    {
     "data": {
      "text/plain": [
       "Top nil feature map classification: \tgoldfish, Carassius auratus 25.098453521729\t\n",
       "25.098453521729\t\n",
       "1062 is finished\t\n"
      ]
     },
     "execution_count": 35,
     "metadata": {},
     "output_type": "execute_result"
    },
    {
     "data": {
      "text/plain": [
       "Top nil feature map classification: \tgoldfish, Carassius auratus 14.287027359009\t\n",
       "14.287027359009\t\n",
       "1063 is finished\t\n"
      ]
     },
     "execution_count": 35,
     "metadata": {},
     "output_type": "execute_result"
    },
    {
     "data": {
      "text/plain": [
       "Top nil feature map classification: \tgoldfish, Carassius auratus 18.362470626831\t\n",
       "18.362470626831\t\n",
       "1064 is finished\t\n"
      ]
     },
     "execution_count": 35,
     "metadata": {},
     "output_type": "execute_result"
    },
    {
     "data": {
      "text/plain": [
       "Top nil feature map classification: \tgoldfish, Carassius auratus 31.825931549072\t\n",
       "31.825931549072\t\n",
       "1065 is finished\t"
      ]
     },
     "execution_count": 35,
     "metadata": {},
     "output_type": "execute_result"
    },
    {
     "data": {
      "text/plain": [
       "\n"
      ]
     },
     "execution_count": 35,
     "metadata": {},
     "output_type": "execute_result"
    },
    {
     "data": {
      "text/plain": [
       "Top nil feature map classification: \tgoldfish, Carassius auratus 20.402885437012\t\n",
       "20.402885437012\t\n",
       "1066 is finished\t\n"
      ]
     },
     "execution_count": 35,
     "metadata": {},
     "output_type": "execute_result"
    },
    {
     "data": {
      "text/plain": [
       "Top nil feature map classification: \tgoldfish, Carassius auratus 33.360446929932\t\n",
       "33.360446929932\t\n",
       "1067 is finished\t\n"
      ]
     },
     "execution_count": 35,
     "metadata": {},
     "output_type": "execute_result"
    },
    {
     "data": {
      "text/plain": [
       "Top nil feature map classification: \tgoldfish, Carassius auratus 30.165142059326\t\n",
       "30.165142059326\t\n",
       "1068 is finished\t\n"
      ]
     },
     "execution_count": 35,
     "metadata": {},
     "output_type": "execute_result"
    },
    {
     "data": {
      "text/plain": [
       "Top nil feature map classification: \tgoldfish, Carassius auratus 35.82474899292\t\n",
       "35.82474899292\t\n",
       "1069 is finished\t\n"
      ]
     },
     "execution_count": 35,
     "metadata": {},
     "output_type": "execute_result"
    },
    {
     "data": {
      "text/plain": [
       "Top nil feature map classification: \tgoldfish, Carassius auratus 21.967355728149\t\n",
       "21.967355728149\t\n",
       "1070 is finished\t\n"
      ]
     },
     "execution_count": 35,
     "metadata": {},
     "output_type": "execute_result"
    },
    {
     "data": {
      "text/plain": [
       "Top nil feature map classification: \tgoldfish, Carassius auratus 30.131025314331\t\n",
       "30.131025314331\t\n",
       "1071 is finished\t\n"
      ]
     },
     "execution_count": 35,
     "metadata": {},
     "output_type": "execute_result"
    },
    {
     "data": {
      "text/plain": [
       "Top nil feature map classification: \tgoldfish, Carassius auratus 11.423603057861\t\n",
       "11.423603057861\t\n",
       "1072 is finished\t\n"
      ]
     },
     "execution_count": 35,
     "metadata": {},
     "output_type": "execute_result"
    },
    {
     "data": {
      "text/plain": [
       "Top nil feature map classification: \tgoldfish, Carassius auratus 22.246015548706\t\n",
       "22.246015548706\t\n",
       "1073 is finished\t\n"
      ]
     },
     "execution_count": 35,
     "metadata": {},
     "output_type": "execute_result"
    },
    {
     "data": {
      "text/plain": [
       "Top nil feature map classification: \tgoldfish, Carassius auratus 23.210412979126\t\n",
       "23.210412979126\t\n",
       "1074 is finished\t\n"
      ]
     },
     "execution_count": 35,
     "metadata": {},
     "output_type": "execute_result"
    },
    {
     "data": {
      "text/plain": [
       "Top nil feature map classification: \tgoldfish, Carassius auratus 18.124546051025\t\n",
       "18.124546051025\t\n",
       "1075 is finished\t\n"
      ]
     },
     "execution_count": 35,
     "metadata": {},
     "output_type": "execute_result"
    },
    {
     "data": {
      "text/plain": [
       "Top nil feature map classification: \tgoldfish, Carassius auratus 35.444324493408\t\n",
       "35.444324493408\t\n",
       "1076 is finished\t\n"
      ]
     },
     "execution_count": 35,
     "metadata": {},
     "output_type": "execute_result"
    },
    {
     "data": {
      "text/plain": [
       "Top nil feature map classification: \tgoldfish, Carassius auratus 24.028917312622\t\n",
       "24.028917312622\t\n",
       "1077 is finished\t\n"
      ]
     },
     "execution_count": 35,
     "metadata": {},
     "output_type": "execute_result"
    },
    {
     "data": {
      "text/plain": [
       "Top nil feature map classification: \tgoldfish, Carassius auratus 25.288850784302\t\n",
       "25.288850784302\t\n",
       "1078 is finished\t\n"
      ]
     },
     "execution_count": 35,
     "metadata": {},
     "output_type": "execute_result"
    },
    {
     "data": {
      "text/plain": [
       "Top nil feature map classification: \tgoldfish, Carassius auratus 14.471076011658\t\n",
       "14.471076011658\t\n",
       "1079 is finished\t\n"
      ]
     },
     "execution_count": 35,
     "metadata": {},
     "output_type": "execute_result"
    },
    {
     "data": {
      "text/plain": [
       "Top nil feature map classification: \tgoldfish, Carassius auratus 15.001700401306\t\n",
       "15.001700401306\t\n",
       "1080 is finished\t\n"
      ]
     },
     "execution_count": 35,
     "metadata": {},
     "output_type": "execute_result"
    },
    {
     "data": {
      "text/plain": [
       "Top nil feature map classification: \tgoldfish, Carassius auratus 18.370719909668\t\n",
       "18.370719909668\t\n",
       "1081 is finished\t\n"
      ]
     },
     "execution_count": 35,
     "metadata": {},
     "output_type": "execute_result"
    },
    {
     "data": {
      "text/plain": [
       "Top nil feature map classification: \tgoldfish, Carassius auratus 22.420713424683\t\n",
       "22.420713424683\t\n",
       "1082 is finished\t\n"
      ]
     },
     "execution_count": 35,
     "metadata": {},
     "output_type": "execute_result"
    },
    {
     "data": {
      "text/plain": [
       "Top nil feature map classification: \tgoldfish, Carassius auratus 35.837905883789\t\n",
       "35.837905883789\t\n",
       "1083 is finished\t\n"
      ]
     },
     "execution_count": 35,
     "metadata": {},
     "output_type": "execute_result"
    },
    {
     "data": {
      "text/plain": [
       "Top nil feature map classification: \tgoldfish, Carassius auratus 13.568705558777\t\n",
       "13.568705558777\t\n",
       "1084 is finished\t\n"
      ]
     },
     "execution_count": 35,
     "metadata": {},
     "output_type": "execute_result"
    },
    {
     "data": {
      "text/plain": [
       "Top nil feature map classification: \tgoldfish, Carassius auratus 15.95742225647\t\n",
       "15.95742225647\t\n",
       "1085 is finished\t\n"
      ]
     },
     "execution_count": 35,
     "metadata": {},
     "output_type": "execute_result"
    },
    {
     "data": {
      "text/plain": [
       "Top nil feature map classification: \tgoldfish, Carassius auratus 26.707078933716\t\n",
       "26.707078933716\t\n",
       "1086 is finished\t\n"
      ]
     },
     "execution_count": 35,
     "metadata": {},
     "output_type": "execute_result"
    },
    {
     "data": {
      "text/plain": [
       "Top nil feature map classification: \tgoldfish, Carassius auratus 10.106132507324\t\n",
       "10.106132507324\t\n",
       "1087 is finished\t\n"
      ]
     },
     "execution_count": 35,
     "metadata": {},
     "output_type": "execute_result"
    },
    {
     "data": {
      "text/plain": [
       "Top nil feature map classification: \tgoldfish, Carassius auratus 23.520998001099\t\n",
       "23.520998001099\t\n",
       "1088 is finished\t\n"
      ]
     },
     "execution_count": 35,
     "metadata": {},
     "output_type": "execute_result"
    },
    {
     "data": {
      "text/plain": [
       "Top nil feature map classification: \tgoldfish, Carassius auratus 26.770133972168\t\n",
       "26.770133972168\t\n",
       "1089 is finished\t\n"
      ]
     },
     "execution_count": 35,
     "metadata": {},
     "output_type": "execute_result"
    },
    {
     "data": {
      "text/plain": [
       "Top nil feature map classification: \tgoldfish, Carassius auratus 28.126834869385\t\n",
       "28.126834869385\t\n",
       "1090 is finished\t\n"
      ]
     },
     "execution_count": 35,
     "metadata": {},
     "output_type": "execute_result"
    },
    {
     "data": {
      "text/plain": [
       "Top nil feature map classification: \tgoldfish, Carassius auratus 27.66835975647\t\n",
       "27.66835975647\t\n",
       "1091 is finished\t\n"
      ]
     },
     "execution_count": 35,
     "metadata": {},
     "output_type": "execute_result"
    },
    {
     "data": {
      "text/plain": [
       "Top nil feature map classification: \tgoldfish, Carassius auratus 16.406719207764\t\n",
       "16.406719207764\t\n",
       "1092 is finished\t\n"
      ]
     },
     "execution_count": 35,
     "metadata": {},
     "output_type": "execute_result"
    },
    {
     "data": {
      "text/plain": [
       "Top nil feature map classification: \tgoldfish, Carassius auratus 20.667331695557\t\n",
       "20.667331695557\t\n",
       "1093 is finished\t\n"
      ]
     },
     "execution_count": 35,
     "metadata": {},
     "output_type": "execute_result"
    },
    {
     "data": {
      "text/plain": [
       "Top nil feature map classification: \tgoldfish, Carassius auratus 28.074655532837\t\n",
       "28.074655532837\t\n",
       "1094 is finished\t\n"
      ]
     },
     "execution_count": 35,
     "metadata": {},
     "output_type": "execute_result"
    },
    {
     "data": {
      "text/plain": [
       "Top nil feature map classification: \tgoldfish, Carassius auratus 24.142446517944\t\n",
       "24.142446517944\t\n",
       "1095 is finished\t\n"
      ]
     },
     "execution_count": 35,
     "metadata": {},
     "output_type": "execute_result"
    },
    {
     "data": {
      "text/plain": [
       "Top nil feature map classification: \tgoldfish, Carassius auratus 26.565368652344\t\n",
       "26.565368652344\t\n",
       "1096 is finished\t\n"
      ]
     },
     "execution_count": 35,
     "metadata": {},
     "output_type": "execute_result"
    },
    {
     "data": {
      "text/plain": [
       "Top nil feature map classification: \tgoldfish, Carassius auratus 26.949724197388\t\n",
       "26.949724197388\t\n",
       "1097 is finished\t\n"
      ]
     },
     "execution_count": 35,
     "metadata": {},
     "output_type": "execute_result"
    },
    {
     "data": {
      "text/plain": [
       "Top nil feature map classification: \tgoldfish, Carassius auratus 22.954467773438\t\n",
       "22.954467773438\t\n",
       "1098 is finished\t\n"
      ]
     },
     "execution_count": 35,
     "metadata": {},
     "output_type": "execute_result"
    },
    {
     "data": {
      "text/plain": [
       "Top nil feature map classification: \tgoldfish, Carassius auratus 23.315753936768\t\n",
       "23.315753936768\t\n",
       "1099 is finished\t\n"
      ]
     },
     "execution_count": 35,
     "metadata": {},
     "output_type": "execute_result"
    },
    {
     "data": {
      "text/plain": [
       "Top nil feature map classification: \tgoldfish, Carassius auratus 21.244388580322\t\n",
       "21.244388580322\t\n",
       "1100 is finished\t\n"
      ]
     },
     "execution_count": 35,
     "metadata": {},
     "output_type": "execute_result"
    },
    {
     "data": {
      "text/plain": [
       "Top nil feature map classification: \tgoldfish, Carassius auratus 24.493356704712\t\n",
       "24.493356704712\t\n",
       "1101 is finished\t\n"
      ]
     },
     "execution_count": 35,
     "metadata": {},
     "output_type": "execute_result"
    },
    {
     "data": {
      "text/plain": [
       "Top nil feature map classification: \tgoldfish, Carassius auratus 23.968078613281\t\n",
       "23.968078613281\t\n",
       "1102 is finished\t\n"
      ]
     },
     "execution_count": 35,
     "metadata": {},
     "output_type": "execute_result"
    },
    {
     "data": {
      "text/plain": [
       "Top nil feature map classification: \tgoldfish, Carassius auratus 23.028425216675\t\n",
       "23.028425216675\t\n",
       "1103 is finished\t\n"
      ]
     },
     "execution_count": 35,
     "metadata": {},
     "output_type": "execute_result"
    },
    {
     "data": {
      "text/plain": [
       "Top nil feature map classification: \tgoldfish, Carassius auratus 11.15890789032\t\n",
       "11.15890789032\t\n",
       "1104 is finished\t\n"
      ]
     },
     "execution_count": 35,
     "metadata": {},
     "output_type": "execute_result"
    },
    {
     "data": {
      "text/plain": [
       "Top nil feature map classification: \tgoldfish, Carassius auratus 26.324407577515\t\n",
       "26.324407577515\t\n",
       "1105 is finished\t\n"
      ]
     },
     "execution_count": 35,
     "metadata": {},
     "output_type": "execute_result"
    },
    {
     "data": {
      "text/plain": [
       "Top nil feature map classification: \tgoldfish, Carassius auratus 22.525369644165\t\n",
       "22.525369644165\t\n",
       "1106 is finished\t\n"
      ]
     },
     "execution_count": 35,
     "metadata": {},
     "output_type": "execute_result"
    },
    {
     "data": {
      "text/plain": [
       "Top nil feature map classification: \tgoldfish, Carassius auratus 24.615598678589\t\n",
       "24.615598678589\t\n",
       "1107 is finished\t\n"
      ]
     },
     "execution_count": 35,
     "metadata": {},
     "output_type": "execute_result"
    },
    {
     "data": {
      "text/plain": [
       "Top nil feature map classification: \tgoldfish, Carassius auratus 16.764024734497\t\n",
       "16.764024734497\t\n",
       "1108 is finished\t\n"
      ]
     },
     "execution_count": 35,
     "metadata": {},
     "output_type": "execute_result"
    },
    {
     "data": {
      "text/plain": [
       "Top nil feature map classification: \tgoldfish, Carassius auratus 11.968823432922\t\n",
       "11.968823432922\t\n",
       "1109 is finished\t\n"
      ]
     },
     "execution_count": 35,
     "metadata": {},
     "output_type": "execute_result"
    },
    {
     "data": {
      "text/plain": [
       "Top nil feature map classification: \tgoldfish, Carassius auratus 15.649423599243\t\n",
       "15.649423599243\t\n",
       "1110 is finished\t\n"
      ]
     },
     "execution_count": 35,
     "metadata": {},
     "output_type": "execute_result"
    },
    {
     "data": {
      "text/plain": [
       "Top nil feature map classification: \tgoldfish, Carassius auratus 18.287214279175\t\n",
       "18.287214279175\t\n",
       "1111 is finished\t\n"
      ]
     },
     "execution_count": 35,
     "metadata": {},
     "output_type": "execute_result"
    },
    {
     "data": {
      "text/plain": [
       "Top nil feature map classification: \tgoldfish, Carassius auratus 17.546514511108\t\n",
       "17.546514511108\t\n",
       "1112 is finished\t\n"
      ]
     },
     "execution_count": 35,
     "metadata": {},
     "output_type": "execute_result"
    },
    {
     "data": {
      "text/plain": [
       "Top nil feature map classification: \tgoldfish, Carassius auratus 28.467252731323\t\n",
       "28.467252731323\t\n",
       "1113 is finished\t\n"
      ]
     },
     "execution_count": 35,
     "metadata": {},
     "output_type": "execute_result"
    },
    {
     "data": {
      "text/plain": [
       "Top nil feature map classification: \tgoldfish, Carassius auratus 21.702610015869\t\n",
       "21.702610015869\t\n",
       "1114 is finished\t\n"
      ]
     },
     "execution_count": 35,
     "metadata": {},
     "output_type": "execute_result"
    },
    {
     "data": {
      "text/plain": [
       "Top nil feature map classification: \tgoldfish, Carassius auratus 18.60101890564\t\n",
       "18.60101890564\t\n",
       "1115 is finished\t\n"
      ]
     },
     "execution_count": 35,
     "metadata": {},
     "output_type": "execute_result"
    },
    {
     "data": {
      "text/plain": [
       "Top nil feature map classification: \tgoldfish, Carassius auratus 18.049873352051\t\n",
       "18.049873352051\t\n",
       "1116 is finished\t\n"
      ]
     },
     "execution_count": 35,
     "metadata": {},
     "output_type": "execute_result"
    },
    {
     "data": {
      "text/plain": [
       "Top nil feature map classification: \tgoldfish, Carassius auratus 35.671970367432\t\n",
       "35.671970367432\t\n",
       "1117 is finished\t\n"
      ]
     },
     "execution_count": 35,
     "metadata": {},
     "output_type": "execute_result"
    },
    {
     "data": {
      "text/plain": [
       "Top nil feature map classification: \tgoldfish, Carassius auratus 17.872470855713\t\n",
       "17.872470855713\t\n",
       "1118 is finished\t\n"
      ]
     },
     "execution_count": 35,
     "metadata": {},
     "output_type": "execute_result"
    },
    {
     "data": {
      "text/plain": [
       "Top nil feature map classification: \tgoldfish, Carassius auratus 15.956771850586\t\n",
       "15.956771850586\t\n",
       "1119 is finished\t\n"
      ]
     },
     "execution_count": 35,
     "metadata": {},
     "output_type": "execute_result"
    },
    {
     "data": {
      "text/plain": [
       "Top nil feature map classification: \tgoldfish, Carassius auratus 30.593753814697\t\n",
       "30.593753814697\t\n",
       "1120 is finished\t\n"
      ]
     },
     "execution_count": 35,
     "metadata": {},
     "output_type": "execute_result"
    },
    {
     "data": {
      "text/plain": [
       "Top nil feature map classification: \tgoldfish, Carassius auratus 29.157972335815\t\n",
       "29.157972335815\t\n",
       "1121 is finished\t\n"
      ]
     },
     "execution_count": 35,
     "metadata": {},
     "output_type": "execute_result"
    },
    {
     "data": {
      "text/plain": [
       "Top nil feature map classification: \tgoldfish, Carassius auratus 19.659440994263\t\n",
       "19.659440994263\t\n",
       "1122 is finished\t\n"
      ]
     },
     "execution_count": 35,
     "metadata": {},
     "output_type": "execute_result"
    },
    {
     "data": {
      "text/plain": [
       "Top nil feature map classification: \tgoldfish, Carassius auratus 19.184236526489\t\n",
       "19.184236526489\t\n",
       "1123 is finished\t\n"
      ]
     },
     "execution_count": 35,
     "metadata": {},
     "output_type": "execute_result"
    },
    {
     "data": {
      "text/plain": [
       "Top nil feature map classification: \tgoldfish, Carassius auratus 27.537244796753\t\n",
       "27.537244796753\t\n",
       "1124 is finished\t\n"
      ]
     },
     "execution_count": 35,
     "metadata": {},
     "output_type": "execute_result"
    },
    {
     "data": {
      "text/plain": [
       "Top nil feature map classification: \tgoldfish, Carassius auratus 21.552766799927\t\n",
       "21.552766799927\t\n",
       "1125 is finished\t\n"
      ]
     },
     "execution_count": 35,
     "metadata": {},
     "output_type": "execute_result"
    },
    {
     "data": {
      "text/plain": [
       "Top nil feature map classification: \tgoldfish, Carassius auratus 26.737628936768\t\n",
       "26.737628936768\t\n",
       "1126 is finished\t\n"
      ]
     },
     "execution_count": 35,
     "metadata": {},
     "output_type": "execute_result"
    },
    {
     "data": {
      "text/plain": [
       "Top nil feature map classification: \tgoldfish, Carassius auratus 28.00754737854\t\n",
       "28.00754737854\t\n",
       "1127 is finished\t\n"
      ]
     },
     "execution_count": 35,
     "metadata": {},
     "output_type": "execute_result"
    },
    {
     "data": {
      "text/plain": [
       "Top nil feature map classification: \tgoldfish, Carassius auratus 26.671897888184\t\n",
       "26.671897888184\t\n",
       "1128 is finished\t\n"
      ]
     },
     "execution_count": 35,
     "metadata": {},
     "output_type": "execute_result"
    },
    {
     "data": {
      "text/plain": [
       "Top nil feature map classification: \tgoldfish, Carassius auratus 23.599391937256\t\n",
       "23.599391937256\t\n",
       "1129 is finished\t\n"
      ]
     },
     "execution_count": 35,
     "metadata": {},
     "output_type": "execute_result"
    },
    {
     "data": {
      "text/plain": [
       "Top nil feature map classification: \tgoldfish, Carassius auratus 27.817153930664\t\n",
       "27.817153930664\t\n",
       "1130 is finished\t\n"
      ]
     },
     "execution_count": 35,
     "metadata": {},
     "output_type": "execute_result"
    },
    {
     "data": {
      "text/plain": [
       "Top nil feature map classification: \tgoldfish, Carassius auratus 21.796031951904\t\n",
       "21.796031951904\t\n",
       "1131 is finished\t\n"
      ]
     },
     "execution_count": 35,
     "metadata": {},
     "output_type": "execute_result"
    },
    {
     "data": {
      "text/plain": [
       "Top nil feature map classification: \tgoldfish, Carassius auratus 12.432573318481\t\n",
       "12.432573318481\t\n",
       "1132 is finished\t\n"
      ]
     },
     "execution_count": 35,
     "metadata": {},
     "output_type": "execute_result"
    },
    {
     "data": {
      "text/plain": [
       "Top nil feature map classification: \tgoldfish, Carassius auratus 20.462451934814\t\n",
       "20.462451934814\t\n",
       "1133 is finished\t\n"
      ]
     },
     "execution_count": 35,
     "metadata": {},
     "output_type": "execute_result"
    },
    {
     "data": {
      "text/plain": [
       "Top nil feature map classification: \tgoldfish, Carassius auratus 21.693799972534\t\n",
       "21.693799972534\t\n",
       "1134 is finished\t\n"
      ]
     },
     "execution_count": 35,
     "metadata": {},
     "output_type": "execute_result"
    },
    {
     "data": {
      "text/plain": [
       "Top nil feature map classification: \tgoldfish, Carassius auratus 22.69623374939\t\n",
       "22.69623374939\t\n",
       "1135 is finished\t\n"
      ]
     },
     "execution_count": 35,
     "metadata": {},
     "output_type": "execute_result"
    },
    {
     "data": {
      "text/plain": [
       "Top nil feature map classification: \tgoldfish, Carassius auratus 10.057264328003\t\n",
       "10.057264328003\t\n",
       "1136 is finished\t\n"
      ]
     },
     "execution_count": 35,
     "metadata": {},
     "output_type": "execute_result"
    },
    {
     "data": {
      "text/plain": [
       "Top nil feature map classification: \tgoldfish, Carassius auratus 10.184098243713\t\n",
       "10.184098243713\t\n",
       "1137 is finished\t\n"
      ]
     },
     "execution_count": 35,
     "metadata": {},
     "output_type": "execute_result"
    },
    {
     "data": {
      "text/plain": [
       "Top nil feature map classification: \tgoldfish, Carassius auratus 14.630043983459\t\n",
       "14.630043983459\t\n",
       "1138 is finished\t\n"
      ]
     },
     "execution_count": 35,
     "metadata": {},
     "output_type": "execute_result"
    },
    {
     "data": {
      "text/plain": [
       "Top nil feature map classification: \tgoldfish, Carassius auratus 29.511016845703\t\n",
       "29.511016845703\t\n",
       "1139 is finished\t\n"
      ]
     },
     "execution_count": 35,
     "metadata": {},
     "output_type": "execute_result"
    },
    {
     "data": {
      "text/plain": [
       "Top nil feature map classification: \tgoldfish, Carassius auratus 10.898933410645\t\n",
       "10.898933410645\t\n",
       "1140 is finished\t\n"
      ]
     },
     "execution_count": 35,
     "metadata": {},
     "output_type": "execute_result"
    },
    {
     "data": {
      "text/plain": [
       "Top nil feature map classification: \tgoldfish, Carassius auratus 18.821727752686\t\n",
       "18.821727752686\t\n",
       "1141 is finished\t\n"
      ]
     },
     "execution_count": 35,
     "metadata": {},
     "output_type": "execute_result"
    },
    {
     "data": {
      "text/plain": [
       "Top nil feature map classification: \tgoldfish, Carassius auratus 38.238288879395\t\n",
       "38.238288879395\t\n",
       "1142 is finished\t\n"
      ]
     },
     "execution_count": 35,
     "metadata": {},
     "output_type": "execute_result"
    },
    {
     "data": {
      "text/plain": [
       "Top nil feature map classification: \tgoldfish, Carassius auratus 17.032361984253\t\n",
       "17.032361984253\t\n",
       "1143 is finished\t\n"
      ]
     },
     "execution_count": 35,
     "metadata": {},
     "output_type": "execute_result"
    },
    {
     "data": {
      "text/plain": [
       "Top nil feature map classification: \tgoldfish, Carassius auratus 28.152032852173\t\n",
       "28.152032852173\t\n",
       "1144 is finished\t\n"
      ]
     },
     "execution_count": 35,
     "metadata": {},
     "output_type": "execute_result"
    },
    {
     "data": {
      "text/plain": [
       "Top nil feature map classification: \tgoldfish, Carassius auratus 30.433134078979\t\n",
       "30.433134078979\t\n",
       "1145 is finished\t\n"
      ]
     },
     "execution_count": 35,
     "metadata": {},
     "output_type": "execute_result"
    },
    {
     "data": {
      "text/plain": [
       "Top nil feature map classification: \tgoldfish, Carassius auratus 19.410364151001\t\n",
       "19.410364151001\t\n",
       "1146 is finished\t\n"
      ]
     },
     "execution_count": 35,
     "metadata": {},
     "output_type": "execute_result"
    },
    {
     "data": {
      "text/plain": [
       "Top nil feature map classification: \tgoldfish, Carassius auratus 43.66809463501\t\n",
       "43.66809463501\t\n",
       "1147 is finished\t\n"
      ]
     },
     "execution_count": 35,
     "metadata": {},
     "output_type": "execute_result"
    },
    {
     "data": {
      "text/plain": [
       "Top nil feature map classification: \tbeer glass 11.035032272339\t\n",
       "7.3811573982239\t\n",
       "1148 is finished\t\n"
      ]
     },
     "execution_count": 35,
     "metadata": {},
     "output_type": "execute_result"
    },
    {
     "data": {
      "text/plain": [
       "Top nil feature map classification: \tgoldfish, Carassius auratus 26.80152130127\t\n",
       "26.80152130127\t\n",
       "1149 is finished\t\n"
      ]
     },
     "execution_count": 35,
     "metadata": {},
     "output_type": "execute_result"
    },
    {
     "data": {
      "text/plain": [
       "Top nil feature map classification: \tgoldfish, Carassius auratus 24.809188842773\t\n",
       "24.809188842773\t\n",
       "1150 is finished\t\n"
      ]
     },
     "execution_count": 35,
     "metadata": {},
     "output_type": "execute_result"
    },
    {
     "data": {
      "text/plain": [
       "Top nil feature map classification: \tgoldfish, Carassius auratus 26.810115814209\t\n",
       "26.810115814209\t\n",
       "1151 is finished\t\n"
      ]
     },
     "execution_count": 35,
     "metadata": {},
     "output_type": "execute_result"
    },
    {
     "data": {
      "text/plain": [
       "Top nil feature map classification: \tgoldfish, Carassius auratus 16.989864349365\t\n",
       "16.989864349365\t\n",
       "1152 is finished\t\n"
      ]
     },
     "execution_count": 35,
     "metadata": {},
     "output_type": "execute_result"
    },
    {
     "data": {
      "text/plain": [
       "Top nil feature map classification: \tgoldfish, Carassius auratus 26.088983535767\t\n",
       "26.088983535767\t\n",
       "1153 is finished\t\n"
      ]
     },
     "execution_count": 35,
     "metadata": {},
     "output_type": "execute_result"
    },
    {
     "data": {
      "text/plain": [
       "Top nil feature map classification: \tgoldfish, Carassius auratus 8.7694683074951\t\n",
       "8.7694683074951\t\n",
       "1154 is finished\t\n"
      ]
     },
     "execution_count": 35,
     "metadata": {},
     "output_type": "execute_result"
    },
    {
     "data": {
      "text/plain": [
       "Top nil feature map classification: \tgoldfish, Carassius auratus 19.735330581665\t\n",
       "19.735330581665\t\n",
       "1155 is finished\t\n"
      ]
     },
     "execution_count": 35,
     "metadata": {},
     "output_type": "execute_result"
    },
    {
     "data": {
      "text/plain": [
       "Top nil feature map classification: \tgoldfish, Carassius auratus 28.161205291748\t\n",
       "28.161205291748\t\n",
       "1156 is finished\t\n"
      ]
     },
     "execution_count": 35,
     "metadata": {},
     "output_type": "execute_result"
    },
    {
     "data": {
      "text/plain": [
       "Top nil feature map classification: \tgoldfish, Carassius auratus 23.28412437439\t\n",
       "23.28412437439\t\n",
       "1157 is finished\t\n"
      ]
     },
     "execution_count": 35,
     "metadata": {},
     "output_type": "execute_result"
    },
    {
     "data": {
      "text/plain": [
       "Top nil feature map classification: \tgoldfish, Carassius auratus 16.221933364868\t\n",
       "16.221933364868\t\n",
       "1158 is finished\t\n"
      ]
     },
     "execution_count": 35,
     "metadata": {},
     "output_type": "execute_result"
    },
    {
     "data": {
      "text/plain": [
       "Top nil feature map classification: \tgoldfish, Carassius auratus 16.98433303833\t\n",
       "16.98433303833\t\n",
       "1159 is finished\t\n"
      ]
     },
     "execution_count": 35,
     "metadata": {},
     "output_type": "execute_result"
    },
    {
     "data": {
      "text/plain": [
       "Top nil feature map classification: \tgoldfish, Carassius auratus 33.871242523193\t\n",
       "33.871242523193\t\n",
       "1160 is finished\t\n"
      ]
     },
     "execution_count": 35,
     "metadata": {},
     "output_type": "execute_result"
    },
    {
     "data": {
      "text/plain": [
       "Top nil feature map classification: \tgoldfish, Carassius auratus 32.524871826172\t\n",
       "32.524871826172\t\n",
       "1161 is finished\t\n"
      ]
     },
     "execution_count": 35,
     "metadata": {},
     "output_type": "execute_result"
    },
    {
     "data": {
      "text/plain": [
       "Top nil feature map classification: \tgoldfish, Carassius auratus 29.765682220459\t\n",
       "29.765682220459\t\n",
       "1162 is finished\t\n"
      ]
     },
     "execution_count": 35,
     "metadata": {},
     "output_type": "execute_result"
    },
    {
     "data": {
      "text/plain": [
       "Top nil feature map classification: \tgoldfish, Carassius auratus 32.768993377686\t\n",
       "32.768993377686\t\n",
       "1163 is finished\t\n"
      ]
     },
     "execution_count": 35,
     "metadata": {},
     "output_type": "execute_result"
    },
    {
     "data": {
      "text/plain": [
       "Top nil feature map classification: \tgoldfish, Carassius auratus 25.961975097656\t\n",
       "25.961975097656\t\n",
       "1164 is finished\t\n"
      ]
     },
     "execution_count": 35,
     "metadata": {},
     "output_type": "execute_result"
    },
    {
     "data": {
      "text/plain": [
       "Top nil feature map classification: \tgoldfish, Carassius auratus 31.869626998901\t\n",
       "31.869626998901\t\n",
       "1165 is finished\t\n"
      ]
     },
     "execution_count": 35,
     "metadata": {},
     "output_type": "execute_result"
    },
    {
     "data": {
      "text/plain": [
       "Top nil feature map classification: \tgoldfish, Carassius auratus 29.478137969971\t\n",
       "29.478137969971\t\n",
       "1166 is finished\t\n"
      ]
     },
     "execution_count": 35,
     "metadata": {},
     "output_type": "execute_result"
    },
    {
     "data": {
      "text/plain": [
       "Top nil feature map classification: \tgoldfish, Carassius auratus 17.052518844604\t\n",
       "17.052518844604\t\n",
       "1167 is finished\t\n"
      ]
     },
     "execution_count": 35,
     "metadata": {},
     "output_type": "execute_result"
    },
    {
     "data": {
      "text/plain": [
       "Top nil feature map classification: \tgoldfish, Carassius auratus 20.064596176147\t\n",
       "20.064596176147\t\n",
       "1168 is finished\t\n"
      ]
     },
     "execution_count": 35,
     "metadata": {},
     "output_type": "execute_result"
    },
    {
     "data": {
      "text/plain": [
       "Top nil feature map classification: \tgoldfish, Carassius auratus 32.125843048096\t\n",
       "32.125843048096\t\n",
       "1169 is finished\t\n"
      ]
     },
     "execution_count": 35,
     "metadata": {},
     "output_type": "execute_result"
    },
    {
     "data": {
      "text/plain": [
       "Top nil feature map classification: \tgoldfish, Carassius auratus 19.487270355225\t\n",
       "19.487270355225\t\n",
       "1170 is finished\t\n"
      ]
     },
     "execution_count": 35,
     "metadata": {},
     "output_type": "execute_result"
    },
    {
     "data": {
      "text/plain": [
       "Top nil feature map classification: \tDutch oven 8.824728012085\t\n",
       "8.6417942047119\t\n",
       "1171 is finished\t\n"
      ]
     },
     "execution_count": 35,
     "metadata": {},
     "output_type": "execute_result"
    },
    {
     "data": {
      "text/plain": [
       "Top nil feature map classification: \tgoldfish, Carassius auratus 21.873659133911\t\n",
       "21.873659133911\t\n",
       "1172 is finished\t\n"
      ]
     },
     "execution_count": 35,
     "metadata": {},
     "output_type": "execute_result"
    },
    {
     "data": {
      "text/plain": [
       "Top nil feature map classification: \tgoldfish, Carassius auratus 14.539570808411\t\n",
       "14.539570808411\t\n",
       "1173 is finished\t\n"
      ]
     },
     "execution_count": 35,
     "metadata": {},
     "output_type": "execute_result"
    },
    {
     "data": {
      "text/plain": [
       "Top nil feature map classification: \tgoldfish, Carassius auratus 25.488801956177\t\n",
       "25.488801956177\t\n",
       "1174 is finished\t\n"
      ]
     },
     "execution_count": 35,
     "metadata": {},
     "output_type": "execute_result"
    },
    {
     "data": {
      "text/plain": [
       "Top nil feature map classification: \tgoldfish, Carassius auratus 21.751831054688\t\n",
       "21.751831054688\t\n",
       "1175 is finished\t\n"
      ]
     },
     "execution_count": 35,
     "metadata": {},
     "output_type": "execute_result"
    },
    {
     "data": {
      "text/plain": [
       "Top nil feature map classification: \tgoldfish, Carassius auratus 11.707990646362\t\n",
       "11.707990646362\t\n",
       "1176 is finished\t\n"
      ]
     },
     "execution_count": 35,
     "metadata": {},
     "output_type": "execute_result"
    },
    {
     "data": {
      "text/plain": [
       "Top nil feature map classification: \tgoldfish, Carassius auratus 12.36745262146\t\n",
       "12.36745262146\t\n",
       "1177 is finished\t\n"
      ]
     },
     "execution_count": 35,
     "metadata": {},
     "output_type": "execute_result"
    },
    {
     "data": {
      "text/plain": [
       "Top nil feature map classification: \teel 13.298360824585\t\n",
       "11.232959747314\t\n",
       "1178 is finished\t\n"
      ]
     },
     "execution_count": 35,
     "metadata": {},
     "output_type": "execute_result"
    },
    {
     "data": {
      "text/plain": [
       "Top nil feature map classification: \tgoldfish, Carassius auratus 21.698112487793\t\n",
       "21.698112487793\t\n",
       "1179 is finished\t\n"
      ]
     },
     "execution_count": 35,
     "metadata": {},
     "output_type": "execute_result"
    },
    {
     "data": {
      "text/plain": [
       "Top nil feature map classification: \tgoldfish, Carassius auratus 24.929870605469\t\n",
       "24.929870605469\t\n",
       "1180 is finished\t\n"
      ]
     },
     "execution_count": 35,
     "metadata": {},
     "output_type": "execute_result"
    },
    {
     "data": {
      "text/plain": [
       "Top nil feature map classification: \tgoldfish, Carassius auratus 20.705701828003\t\n",
       "20.705701828003\t\n"
      ]
     },
     "execution_count": 35,
     "metadata": {},
     "output_type": "execute_result"
    },
    {
     "data": {
      "text/plain": [
       "1181 is finished\t\n"
      ]
     },
     "execution_count": 35,
     "metadata": {},
     "output_type": "execute_result"
    },
    {
     "data": {
      "text/plain": [
       "Top nil feature map classification: \tgoldfish, Carassius auratus 31.002828598022\t\n",
       "31.002828598022\t\n",
       "1182 is finished\t\n"
      ]
     },
     "execution_count": 35,
     "metadata": {},
     "output_type": "execute_result"
    },
    {
     "data": {
      "text/plain": [
       "Top nil feature map classification: \tgoldfish, Carassius auratus 16.822261810303\t\n",
       "16.822261810303\t\n",
       "1183 is finished\t\n"
      ]
     },
     "execution_count": 35,
     "metadata": {},
     "output_type": "execute_result"
    },
    {
     "data": {
      "text/plain": [
       "Top nil feature map classification: \tgoldfish, Carassius auratus 19.282724380493\t\n",
       "19.282724380493\t\n",
       "1184 is finished\t\n"
      ]
     },
     "execution_count": 35,
     "metadata": {},
     "output_type": "execute_result"
    },
    {
     "data": {
      "text/plain": [
       "Top nil feature map classification: \tgoldfish, Carassius auratus 23.783897399902\t\n",
       "23.783897399902\t\n",
       "1185 is finished\t\n"
      ]
     },
     "execution_count": 35,
     "metadata": {},
     "output_type": "execute_result"
    },
    {
     "data": {
      "text/plain": [
       "Top nil feature map classification: \tgoldfish, Carassius auratus 13.439788818359\t\n",
       "13.439788818359\t\n",
       "1186 is finished\t\n"
      ]
     },
     "execution_count": 35,
     "metadata": {},
     "output_type": "execute_result"
    },
    {
     "data": {
      "text/plain": [
       "Top nil feature map classification: \tgoldfish, Carassius auratus 32.733993530273\t\n",
       "32.733993530273\t\n",
       "1187 is finished\t\n"
      ]
     },
     "execution_count": 35,
     "metadata": {},
     "output_type": "execute_result"
    },
    {
     "data": {
      "text/plain": [
       "Top nil feature map classification: \tgoldfish, Carassius auratus 13.065587043762\t\n",
       "13.065587043762\t\n",
       "1188 is finished\t\n"
      ]
     },
     "execution_count": 35,
     "metadata": {},
     "output_type": "execute_result"
    },
    {
     "data": {
      "text/plain": [
       "Top nil feature map classification: \tgoldfish, Carassius auratus 42.966934204102\t\n",
       "42.966934204102\t\n",
       "1189 is finished\t\n"
      ]
     },
     "execution_count": 35,
     "metadata": {},
     "output_type": "execute_result"
    },
    {
     "data": {
      "text/plain": [
       "Top nil feature map classification: \tgoldfish, Carassius auratus 31.938982009888\t\n",
       "31.938982009888\t\n",
       "1190 is finished\t\n"
      ]
     },
     "execution_count": 35,
     "metadata": {},
     "output_type": "execute_result"
    },
    {
     "data": {
      "text/plain": [
       "Top nil feature map classification: \tgoldfish, Carassius auratus 35.992206573486\t\n",
       "35.992206573486\t\n",
       "1191 is finished\t\n"
      ]
     },
     "execution_count": 35,
     "metadata": {},
     "output_type": "execute_result"
    },
    {
     "data": {
      "text/plain": [
       "Top nil feature map classification: \tgoldfish, Carassius auratus 15.853174209595\t\n",
       "15.853174209595\t\n",
       "1192 is finished\t\n"
      ]
     },
     "execution_count": 35,
     "metadata": {},
     "output_type": "execute_result"
    },
    {
     "data": {
      "text/plain": [
       "Top nil feature map classification: \tgoldfish, Carassius auratus 41.570262908936\t\n",
       "41.570262908936\t\n",
       "1193 is finished\t\n"
      ]
     },
     "execution_count": 35,
     "metadata": {},
     "output_type": "execute_result"
    },
    {
     "data": {
      "text/plain": [
       "Top nil feature map classification: \tgoldfish, Carassius auratus 25.932674407959\t\n",
       "25.932674407959\t\n",
       "1194 is finished\t\n"
      ]
     },
     "execution_count": 35,
     "metadata": {},
     "output_type": "execute_result"
    },
    {
     "data": {
      "text/plain": [
       "Top nil feature map classification: \tgoldfish, Carassius auratus 24.842544555664\t\n",
       "24.842544555664\t\n",
       "1195 is finished\t\n"
      ]
     },
     "execution_count": 35,
     "metadata": {},
     "output_type": "execute_result"
    },
    {
     "data": {
      "text/plain": [
       "Top nil feature map classification: \tgoldfish, Carassius auratus 23.504989624023\t\n",
       "23.504989624023\t\n",
       "1196 is finished\t\n"
      ]
     },
     "execution_count": 35,
     "metadata": {},
     "output_type": "execute_result"
    },
    {
     "data": {
      "text/plain": [
       "Top nil feature map classification: \tgoldfish, Carassius auratus 42.471626281738\t\n",
       "42.471626281738\t\n",
       "1197 is finished\t\n"
      ]
     },
     "execution_count": 35,
     "metadata": {},
     "output_type": "execute_result"
    },
    {
     "data": {
      "text/plain": [
       "Top nil feature map classification: \tgoldfish, Carassius auratus 11.486337661743\t\n",
       "11.486337661743\t\n",
       "1198 is finished\t\n"
      ]
     },
     "execution_count": 35,
     "metadata": {},
     "output_type": "execute_result"
    },
    {
     "data": {
      "text/plain": [
       "Top nil feature map classification: \tgoldfish, Carassius auratus 18.523498535156\t\n",
       "18.523498535156\t\n",
       "1199 is finished\t\n"
      ]
     },
     "execution_count": 35,
     "metadata": {},
     "output_type": "execute_result"
    },
    {
     "data": {
      "text/plain": [
       "Top nil feature map classification: \tgoldfish, Carassius auratus 14.123579978943\t\n",
       "14.123579978943\t\n",
       "1200 is finished\t\n"
      ]
     },
     "execution_count": 35,
     "metadata": {},
     "output_type": "execute_result"
    },
    {
     "data": {
      "text/plain": [
       "Top nil feature map classification: \tgoldfish, Carassius auratus 27.269678115845\t\n",
       "27.269678115845\t\n",
       "1201 is finished\t\n"
      ]
     },
     "execution_count": 35,
     "metadata": {},
     "output_type": "execute_result"
    },
    {
     "data": {
      "text/plain": [
       "Top nil feature map classification: \tgoldfish, Carassius auratus 10.254377365112\t\n",
       "10.254377365112\t\n",
       "1202 is finished\t\n"
      ]
     },
     "execution_count": 35,
     "metadata": {},
     "output_type": "execute_result"
    },
    {
     "data": {
      "text/plain": [
       "Top nil feature map classification: \tgoldfish, Carassius auratus 15.767355918884\t\n",
       "15.767355918884\t\n",
       "1203 is finished\t\n"
      ]
     },
     "execution_count": 35,
     "metadata": {},
     "output_type": "execute_result"
    },
    {
     "data": {
      "text/plain": [
       "Top nil feature map classification: \tgoldfish, Carassius auratus 30.895471572876\t\n",
       "30.895471572876\t\n",
       "1204 is finished\t\n"
      ]
     },
     "execution_count": 35,
     "metadata": {},
     "output_type": "execute_result"
    },
    {
     "data": {
      "text/plain": [
       "Top nil feature map classification: \tgoldfish, Carassius auratus 16.405294418335\t\n",
       "16.405294418335\t\n",
       "1205 is finished\t\n"
      ]
     },
     "execution_count": 35,
     "metadata": {},
     "output_type": "execute_result"
    },
    {
     "data": {
      "text/plain": [
       "Top nil feature map classification: \tgoldfish, Carassius auratus 10.851058959961\t\n",
       "10.851058959961\t\n",
       "1206 is finished\t\n"
      ]
     },
     "execution_count": 35,
     "metadata": {},
     "output_type": "execute_result"
    },
    {
     "data": {
      "text/plain": [
       "Top nil feature map classification: \tgoldfish, Carassius auratus 21.628845214844\t\n",
       "21.628845214844\t\n",
       "1207 is finished\t\n"
      ]
     },
     "execution_count": 35,
     "metadata": {},
     "output_type": "execute_result"
    },
    {
     "data": {
      "text/plain": [
       "Top nil feature map classification: \tgoldfish, Carassius auratus 22.919527053833\t\n",
       "22.919527053833\t\n",
       "1208 is finished\t\n"
      ]
     },
     "execution_count": 35,
     "metadata": {},
     "output_type": "execute_result"
    },
    {
     "data": {
      "text/plain": [
       "Top nil feature map classification: \tgoldfish, Carassius auratus 27.175689697266\t\n",
       "27.175689697266\t\n",
       "1209 is finished\t\n"
      ]
     },
     "execution_count": 35,
     "metadata": {},
     "output_type": "execute_result"
    },
    {
     "data": {
      "text/plain": [
       "Top nil feature map classification: \tgoldfish, Carassius auratus 29.708246231079\t\n",
       "29.708246231079\t\n",
       "1210 is finished\t\n"
      ]
     },
     "execution_count": 35,
     "metadata": {},
     "output_type": "execute_result"
    },
    {
     "data": {
      "text/plain": [
       "Top nil feature map classification: \tgoldfish, Carassius auratus 28.788633346558\t\n",
       "28.788633346558\t\n",
       "1211 is finished\t\n"
      ]
     },
     "execution_count": 35,
     "metadata": {},
     "output_type": "execute_result"
    },
    {
     "data": {
      "text/plain": [
       "Top nil feature map classification: \tgoldfish, Carassius auratus 13.474338531494\t\n",
       "13.474338531494\t\n",
       "1212 is finished\t\n"
      ]
     },
     "execution_count": 35,
     "metadata": {},
     "output_type": "execute_result"
    },
    {
     "data": {
      "text/plain": [
       "Top nil feature map classification: \tgoldfish, Carassius auratus 17.475069046021\t\n",
       "17.475069046021\t\n",
       "1213 is finished\t\n"
      ]
     },
     "execution_count": 35,
     "metadata": {},
     "output_type": "execute_result"
    },
    {
     "data": {
      "text/plain": [
       "Top nil feature map classification: \tgoldfish, Carassius auratus 20.274740219116\t\n",
       "20.274740219116\t\n",
       "1214 is finished\t\n"
      ]
     },
     "execution_count": 35,
     "metadata": {},
     "output_type": "execute_result"
    },
    {
     "data": {
      "text/plain": [
       "Top nil feature map classification: \tgoldfish, Carassius auratus 27.401866912842\t\n",
       "27.401866912842\t\n",
       "1215 is finished\t\n"
      ]
     },
     "execution_count": 35,
     "metadata": {},
     "output_type": "execute_result"
    },
    {
     "data": {
      "text/plain": [
       "Top nil feature map classification: \tgoldfish, Carassius auratus 23.046304702759\t\n",
       "23.046304702759\t\n",
       "1216 is finished\t\n"
      ]
     },
     "execution_count": 35,
     "metadata": {},
     "output_type": "execute_result"
    },
    {
     "data": {
      "text/plain": [
       "Top nil feature map classification: \trock beauty, Holocanthus tricolor 8.4374446868896\t\n",
       "7.4897928237915\t\n",
       "1217 is finished\t\n"
      ]
     },
     "execution_count": 35,
     "metadata": {},
     "output_type": "execute_result"
    },
    {
     "data": {
      "text/plain": [
       "Top nil feature map classification: \tgoldfish, Carassius auratus 26.225875854492\t\n",
       "26.225875854492\t\n",
       "1218 is finished\t\n"
      ]
     },
     "execution_count": 35,
     "metadata": {},
     "output_type": "execute_result"
    },
    {
     "data": {
      "text/plain": [
       "Top nil feature map classification: \tgoldfish, Carassius auratus 23.757272720337\t\n",
       "23.757272720337\t\n",
       "1219 is finished\t\n"
      ]
     },
     "execution_count": 35,
     "metadata": {},
     "output_type": "execute_result"
    },
    {
     "data": {
      "text/plain": [
       "Top nil feature map classification: \tgoldfish, Carassius auratus 18.804969787598\t\n",
       "18.804969787598\t\n",
       "1220 is finished\t\n"
      ]
     },
     "execution_count": 35,
     "metadata": {},
     "output_type": "execute_result"
    },
    {
     "data": {
      "text/plain": [
       "Top nil feature map classification: \teft 12.287930488586\t\n",
       "11.332418441772\t\n",
       "1221 is finished\t\n"
      ]
     },
     "execution_count": 35,
     "metadata": {},
     "output_type": "execute_result"
    },
    {
     "data": {
      "text/plain": [
       "Top nil feature map classification: \tconch 13.258883476257\t\n",
       "8.5620012283325\t\n",
       "1222 is finished\t\n"
      ]
     },
     "execution_count": 35,
     "metadata": {},
     "output_type": "execute_result"
    },
    {
     "data": {
      "text/plain": [
       "Top nil feature map classification: \tgoldfish, Carassius auratus 13.311500549316\t\n",
       "13.311500549316\t\n",
       "1223 is finished\t\n"
      ]
     },
     "execution_count": 35,
     "metadata": {},
     "output_type": "execute_result"
    },
    {
     "data": {
      "text/plain": [
       "Top nil feature map classification: \tgoldfish, Carassius auratus 25.65350151062\t\n",
       "25.65350151062\t\n",
       "1224 is finished\t\n"
      ]
     },
     "execution_count": 35,
     "metadata": {},
     "output_type": "execute_result"
    },
    {
     "data": {
      "text/plain": [
       "Top nil feature map classification: \tgoldfish, Carassius auratus 38.978626251221\t\n",
       "38.978626251221\t\n",
       "1225 is finished\t\n"
      ]
     },
     "execution_count": 35,
     "metadata": {},
     "output_type": "execute_result"
    },
    {
     "data": {
      "text/plain": [
       "Top nil feature map classification: \tgoldfish, Carassius auratus 19.154403686523\t\n",
       "19.154403686523\t\n",
       "1226 is finished\t\n"
      ]
     },
     "execution_count": 35,
     "metadata": {},
     "output_type": "execute_result"
    },
    {
     "data": {
      "text/plain": [
       "Top nil feature map classification: \tgoldfish, Carassius auratus 24.167697906494\t\n",
       "24.167697906494\t\n",
       "1227 is finished\t\n"
      ]
     },
     "execution_count": 35,
     "metadata": {},
     "output_type": "execute_result"
    },
    {
     "data": {
      "text/plain": [
       "Top nil feature map classification: \tgoldfish, Carassius auratus 12.254364967346\t\n",
       "12.254364967346\t\n",
       "1228 is finished\t\n"
      ]
     },
     "execution_count": 35,
     "metadata": {},
     "output_type": "execute_result"
    },
    {
     "data": {
      "text/plain": [
       "Top nil feature map classification: \teft 11.860893249512\t\n",
       "4.4923777580261\t\n",
       "1229 is finished\t\n"
      ]
     },
     "execution_count": 35,
     "metadata": {},
     "output_type": "execute_result"
    },
    {
     "data": {
      "text/plain": [
       "Top nil feature map classification: \tleafhopper 11.969593048096\t\n",
       "11.524095535278\t\n",
       "1230 is finished\t\n"
      ]
     },
     "execution_count": 35,
     "metadata": {},
     "output_type": "execute_result"
    },
    {
     "data": {
      "text/plain": [
       "Top nil feature map classification: \tgoldfish, Carassius auratus 26.254199981689\t\n",
       "26.254199981689\t\n",
       "1231 is finished\t\n"
      ]
     },
     "execution_count": 35,
     "metadata": {},
     "output_type": "execute_result"
    },
    {
     "data": {
      "text/plain": [
       "Top nil feature map classification: \tgoldfish, Carassius auratus 23.713544845581\t\n",
       "23.713544845581\t\n",
       "1232 is finished\t\n"
      ]
     },
     "execution_count": 35,
     "metadata": {},
     "output_type": "execute_result"
    },
    {
     "data": {
      "text/plain": [
       "Top nil feature map classification: \tgoldfish, Carassius auratus 12.194588661194\t\n",
       "12.194588661194\t\n",
       "1233 is finished\t\n"
      ]
     },
     "execution_count": 35,
     "metadata": {},
     "output_type": "execute_result"
    },
    {
     "data": {
      "text/plain": [
       "Top nil feature map classification: \tgoldfish, Carassius auratus 18.004510879517\t\n",
       "18.004510879517\t\n",
       "1234 is finished\t\n"
      ]
     },
     "execution_count": 35,
     "metadata": {},
     "output_type": "execute_result"
    },
    {
     "data": {
      "text/plain": [
       "Top nil feature map classification: \tgoldfish, Carassius auratus 9.8114986419678\t\n",
       "9.8114986419678\t\n",
       "1235 is finished\t\n"
      ]
     },
     "execution_count": 35,
     "metadata": {},
     "output_type": "execute_result"
    },
    {
     "data": {
      "text/plain": [
       "Top nil feature map classification: \tgoldfish, Carassius auratus 23.7102394104\t\n",
       "23.7102394104\t\n",
       "1236 is finished\t\n"
      ]
     },
     "execution_count": 35,
     "metadata": {},
     "output_type": "execute_result"
    },
    {
     "data": {
      "text/plain": [
       "Top nil feature map classification: \tgoldfish, Carassius auratus 27.491884231567\t\n",
       "27.491884231567\t\n",
       "1237 is finished\t\n"
      ]
     },
     "execution_count": 35,
     "metadata": {},
     "output_type": "execute_result"
    },
    {
     "data": {
      "text/plain": [
       "Top nil feature map classification: \tgoldfish, Carassius auratus 18.775564193726\t\n",
       "18.775564193726\t\n",
       "1238 is finished\t\n"
      ]
     },
     "execution_count": 35,
     "metadata": {},
     "output_type": "execute_result"
    },
    {
     "data": {
      "text/plain": [
       "Top nil feature map classification: \tgoldfish, Carassius auratus 33.133403778076\t\n",
       "33.133403778076\t\n",
       "1239 is finished\t\n"
      ]
     },
     "execution_count": 35,
     "metadata": {},
     "output_type": "execute_result"
    },
    {
     "data": {
      "text/plain": [
       "Top nil feature map classification: \tgoldfish, Carassius auratus 37.675815582275\t\n",
       "37.675815582275\t\n",
       "1240 is finished\t\n"
      ]
     },
     "execution_count": 35,
     "metadata": {},
     "output_type": "execute_result"
    },
    {
     "data": {
      "text/plain": [
       "Top nil feature map classification: \tgoldfish, Carassius auratus 30.958139419556\t\n",
       "30.958139419556\t\n",
       "1241 is finished\t\n"
      ]
     },
     "execution_count": 35,
     "metadata": {},
     "output_type": "execute_result"
    },
    {
     "data": {
      "text/plain": [
       "Top nil feature map classification: \tgoldfish, Carassius auratus 26.006608963013\t\n",
       "26.006608963013\t\n",
       "1242 is finished\t\n"
      ]
     },
     "execution_count": 35,
     "metadata": {},
     "output_type": "execute_result"
    },
    {
     "data": {
      "text/plain": [
       "Top nil feature map classification: \tbeer glass 13.859810829163\t\n",
       "11.402129173279\t\n",
       "1243 is finished\t\n"
      ]
     },
     "execution_count": 35,
     "metadata": {},
     "output_type": "execute_result"
    },
    {
     "data": {
      "text/plain": [
       "Top nil feature map classification: \tgoldfish, Carassius auratus 21.362684249878\t\n",
       "21.362684249878\t\n",
       "1244 is finished\t\n"
      ]
     },
     "execution_count": 35,
     "metadata": {},
     "output_type": "execute_result"
    },
    {
     "data": {
      "text/plain": [
       "Top nil feature map classification: \tbucket, pail 9.3748741149902\t\n",
       "4.9248962402344\t\n",
       "1245 is finished\t\n"
      ]
     },
     "execution_count": 35,
     "metadata": {},
     "output_type": "execute_result"
    },
    {
     "data": {
      "text/plain": [
       "Top nil feature map classification: \tgoldfish, Carassius auratus 31.896551132202\t\n",
       "31.896551132202\t\n",
       "1246 is finished\t\n"
      ]
     },
     "execution_count": 35,
     "metadata": {},
     "output_type": "execute_result"
    },
    {
     "data": {
      "text/plain": [
       "Top nil feature map classification: \tgoldfish, Carassius auratus 13.72585105896\t\n",
       "13.72585105896\t\n",
       "1247 is finished\t\n"
      ]
     },
     "execution_count": 35,
     "metadata": {},
     "output_type": "execute_result"
    },
    {
     "data": {
      "text/plain": [
       "Top nil feature map classification: \tgoldfish, Carassius auratus 17.985067367554\t\n",
       "17.985067367554\t\n",
       "1248 is finished\t\n"
      ]
     },
     "execution_count": 35,
     "metadata": {},
     "output_type": "execute_result"
    },
    {
     "data": {
      "text/plain": [
       "Top nil feature map classification: \tgoldfish, Carassius auratus 19.369506835938\t\n",
       "19.369506835938\t\n",
       "1249 is finished\t\n"
      ]
     },
     "execution_count": 35,
     "metadata": {},
     "output_type": "execute_result"
    },
    {
     "data": {
      "text/plain": [
       "Top nil feature map classification: \tgoldfish, Carassius auratus 23.747646331787\t\n",
       "23.747646331787\t\n",
       "1250 is finished\t\n"
      ]
     },
     "execution_count": 35,
     "metadata": {},
     "output_type": "execute_result"
    },
    {
     "data": {
      "text/plain": [
       "Top nil feature map classification: \tgoldfish, Carassius auratus 26.018909454346\t\n",
       "26.018909454346\t\n",
       "1251 is finished\t\n"
      ]
     },
     "execution_count": 35,
     "metadata": {},
     "output_type": "execute_result"
    },
    {
     "data": {
      "text/plain": [
       "Top nil feature map classification: \tgoldfish, Carassius auratus 27.283700942993\t\n",
       "27.283700942993\t\n",
       "1252 is finished\t\n"
      ]
     },
     "execution_count": 35,
     "metadata": {},
     "output_type": "execute_result"
    },
    {
     "data": {
      "text/plain": [
       "Top nil feature map classification: \tgoldfish, Carassius auratus 18.95468711853\t\n",
       "18.95468711853\t\n",
       "1253 is finished\t\n"
      ]
     },
     "execution_count": 35,
     "metadata": {},
     "output_type": "execute_result"
    },
    {
     "data": {
      "text/plain": [
       "Top nil feature map classification: \tgoldfish, Carassius auratus 22.261814117432\t\n",
       "22.261814117432\t\n",
       "1254 is finished\t\n"
      ]
     },
     "execution_count": 35,
     "metadata": {},
     "output_type": "execute_result"
    },
    {
     "data": {
      "text/plain": [
       "Top nil feature map classification: \tgoldfish, Carassius auratus 35.299922943115\t\n",
       "35.299922943115\t\n",
       "1255 is finished\t\n"
      ]
     },
     "execution_count": 35,
     "metadata": {},
     "output_type": "execute_result"
    },
    {
     "data": {
      "text/plain": [
       "Top nil feature map classification: \tgoldfish, Carassius auratus 22.357242584229\t\n",
       "22.357242584229\t\n",
       "1256 is finished\t\n"
      ]
     },
     "execution_count": 35,
     "metadata": {},
     "output_type": "execute_result"
    },
    {
     "data": {
      "text/plain": [
       "Top nil feature map classification: \tgoldfish, Carassius auratus 25.943315505981\t\n",
       "25.943315505981\t\n",
       "1257 is finished\t\n"
      ]
     },
     "execution_count": 35,
     "metadata": {},
     "output_type": "execute_result"
    },
    {
     "data": {
      "text/plain": [
       "Top nil feature map classification: \tgoldfish, Carassius auratus 25.277515411377\t\n",
       "25.277515411377\t\n",
       "1258 is finished\t\n"
      ]
     },
     "execution_count": 35,
     "metadata": {},
     "output_type": "execute_result"
    },
    {
     "data": {
      "text/plain": [
       "Top nil feature map classification: \tgoldfish, Carassius auratus 29.018049240112\t\n",
       "29.018049240112\t\n",
       "1259 is finished\t\n"
      ]
     },
     "execution_count": 35,
     "metadata": {},
     "output_type": "execute_result"
    },
    {
     "data": {
      "text/plain": [
       "Top nil feature map classification: \tgoldfish, Carassius auratus 35.468013763428\t\n",
       "35.468013763428\t\n",
       "1260 is finished\t\n"
      ]
     },
     "execution_count": 35,
     "metadata": {},
     "output_type": "execute_result"
    },
    {
     "data": {
      "text/plain": [
       "Top nil feature map classification: \tgoldfish, Carassius auratus 12.614459037781\t\n",
       "12.614459037781\t\n",
       "1261 is finished\t\n"
      ]
     },
     "execution_count": 35,
     "metadata": {},
     "output_type": "execute_result"
    },
    {
     "data": {
      "text/plain": [
       "Top nil feature map classification: \tgoldfish, Carassius auratus 40.131252288818\t\n",
       "40.131252288818\t\n",
       "1262 is finished\t\n"
      ]
     },
     "execution_count": 35,
     "metadata": {},
     "output_type": "execute_result"
    },
    {
     "data": {
      "text/plain": [
       "Top nil feature map classification: \tgoldfish, Carassius auratus 18.083911895752\t\n",
       "18.083911895752\t\n",
       "1263 is finished\t\n"
      ]
     },
     "execution_count": 35,
     "metadata": {},
     "output_type": "execute_result"
    },
    {
     "data": {
      "text/plain": [
       "Top nil feature map classification: \tgoldfish, Carassius auratus 14.851991653442\t\n",
       "14.851991653442\t\n",
       "1264 is finished\t\n"
      ]
     },
     "execution_count": 35,
     "metadata": {},
     "output_type": "execute_result"
    },
    {
     "data": {
      "text/plain": [
       "Top nil feature map classification: \tgoldfish, Carassius auratus 23.846225738525\t\n",
       "23.846225738525\t\n",
       "1265 is finished\t\n"
      ]
     },
     "execution_count": 35,
     "metadata": {},
     "output_type": "execute_result"
    },
    {
     "data": {
      "text/plain": [
       "Top nil feature map classification: \tgoldfish, Carassius auratus 27.407516479492\t\n",
       "27.407516479492\t\n",
       "1266 is finished\t\n"
      ]
     },
     "execution_count": 35,
     "metadata": {},
     "output_type": "execute_result"
    },
    {
     "data": {
      "text/plain": [
       "Top nil feature map classification: \tgoldfish, Carassius auratus 38.164134979248\t\n",
       "38.164134979248\t\n",
       "1267 is finished\t\n"
      ]
     },
     "execution_count": 35,
     "metadata": {},
     "output_type": "execute_result"
    },
    {
     "data": {
      "text/plain": [
       "Top nil feature map classification: \tgoldfish, Carassius auratus 17.664783477783\t\n",
       "17.664783477783\t\n",
       "1268 is finished\t\n"
      ]
     },
     "execution_count": 35,
     "metadata": {},
     "output_type": "execute_result"
    },
    {
     "data": {
      "text/plain": [
       "Top nil feature map classification: \tgoldfish, Carassius auratus 29.930337905884\t\n",
       "29.930337905884\t\n",
       "1269 is finished\t\n"
      ]
     },
     "execution_count": 35,
     "metadata": {},
     "output_type": "execute_result"
    },
    {
     "data": {
      "text/plain": [
       "Top nil feature map classification: \tgoldfish, Carassius auratus 23.240783691406\t\n",
       "23.240783691406\t\n",
       "1270 is finished\t\n"
      ]
     },
     "execution_count": 35,
     "metadata": {},
     "output_type": "execute_result"
    },
    {
     "data": {
      "text/plain": [
       "Top nil feature map classification: \tgoldfish, Carassius auratus 31.635953903198\t\n",
       "31.635953903198\t\n",
       "1271 is finished\t\n"
      ]
     },
     "execution_count": 35,
     "metadata": {},
     "output_type": "execute_result"
    },
    {
     "data": {
      "text/plain": [
       "Top nil feature map classification: \tgoldfish, Carassius auratus 9.2820997238159\t\n",
       "9.2820997238159\t\n",
       "1272 is finished\t\n"
      ]
     },
     "execution_count": 35,
     "metadata": {},
     "output_type": "execute_result"
    },
    {
     "data": {
      "text/plain": [
       "Top nil feature map classification: \tgoldfish, Carassius auratus 19.150289535522\t\n",
       "19.150289535522\t\n",
       "1273 is finished\t\n"
      ]
     },
     "execution_count": 35,
     "metadata": {},
     "output_type": "execute_result"
    },
    {
     "data": {
      "text/plain": [
       "Top nil feature map classification: \tgoldfish, Carassius auratus 9.0218315124512\t\n",
       "9.0218315124512\t\n",
       "1274 is finished\t\n"
      ]
     },
     "execution_count": 35,
     "metadata": {},
     "output_type": "execute_result"
    },
    {
     "data": {
      "text/plain": [
       "Top nil feature map classification: \tgoldfish, Carassius auratus 28.098754882812\t\n",
       "28.098754882812\t\n",
       "1275 is finished\t\n"
      ]
     },
     "execution_count": 35,
     "metadata": {},
     "output_type": "execute_result"
    },
    {
     "data": {
      "text/plain": [
       "Top nil feature map classification: \tgoldfish, Carassius auratus 29.999042510986\t\n",
       "29.999042510986\t\n",
       "1276 is finished\t\n"
      ]
     },
     "execution_count": 35,
     "metadata": {},
     "output_type": "execute_result"
    },
    {
     "data": {
      "text/plain": [
       "Top nil feature map classification: \tgoldfish, Carassius auratus 24.344575881958\t\n",
       "24.344575881958\t\n",
       "1277 is finished\t\n"
      ]
     },
     "execution_count": 35,
     "metadata": {},
     "output_type": "execute_result"
    },
    {
     "data": {
      "text/plain": [
       "Top nil feature map classification: \tgoldfish, Carassius auratus 17.877141952515\t\n",
       "17.877141952515\t\n",
       "1278 is finished\t\n"
      ]
     },
     "execution_count": 35,
     "metadata": {},
     "output_type": "execute_result"
    },
    {
     "data": {
      "text/plain": [
       "Top nil feature map classification: \tgoldfish, Carassius auratus 22.775457382202\t\n",
       "22.775457382202\t\n",
       "1279 is finished\t\n"
      ]
     },
     "execution_count": 35,
     "metadata": {},
     "output_type": "execute_result"
    },
    {
     "data": {
      "text/plain": [
       "Top nil feature map classification: \tgoldfish, Carassius auratus 10.87583065033\t\n",
       "10.87583065033\t\n",
       "1280 is finished\t\n"
      ]
     },
     "execution_count": 35,
     "metadata": {},
     "output_type": "execute_result"
    },
    {
     "data": {
      "text/plain": [
       "Top nil feature map classification: \tmicrowave, microwave oven 8.4519987106323\t\n",
       "6.123459815979\t\n",
       "1281 is finished\t\n"
      ]
     },
     "execution_count": 35,
     "metadata": {},
     "output_type": "execute_result"
    },
    {
     "data": {
      "text/plain": [
       "Top nil feature map classification: \tchambered nautilus, pearly nautilus, nautilus 7.0747885704041\t\n",
       "6.5996227264404\t\n",
       "1282 is finished\t\n"
      ]
     },
     "execution_count": 35,
     "metadata": {},
     "output_type": "execute_result"
    },
    {
     "data": {
      "text/plain": [
       "Top nil feature map classification: \tgoldfish, Carassius auratus 35.983020782471\t\n",
       "35.983020782471\t\n",
       "1283 is finished\t\n"
      ]
     },
     "execution_count": 35,
     "metadata": {},
     "output_type": "execute_result"
    },
    {
     "data": {
      "text/plain": [
       "Top nil feature map classification: \tgoldfish, Carassius auratus 39.59801864624\t\n",
       "39.59801864624\t\n",
       "1284 is finished\t\n"
      ]
     },
     "execution_count": 35,
     "metadata": {},
     "output_type": "execute_result"
    },
    {
     "data": {
      "text/plain": [
       "Top nil feature map classification: \tgoldfish, Carassius auratus 20.607202529907\t\n",
       "20.607202529907\t\n",
       "1285 is finished\t\n"
      ]
     },
     "execution_count": 35,
     "metadata": {},
     "output_type": "execute_result"
    },
    {
     "data": {
      "text/plain": [
       "Top nil feature map classification: \tgoldfish, Carassius auratus 10.509246826172\t\n"
      ]
     },
     "execution_count": 35,
     "metadata": {},
     "output_type": "execute_result"
    },
    {
     "data": {
      "text/plain": [
       "10.509246826172\t\n",
       "1286 is finished\t\n"
      ]
     },
     "execution_count": 35,
     "metadata": {},
     "output_type": "execute_result"
    },
    {
     "data": {
      "text/plain": [
       "Top nil feature map classification: \tgoldfish, Carassius auratus 11.785614013672\t\n",
       "11.785614013672\t\n",
       "1287 is finished\t\n"
      ]
     },
     "execution_count": 35,
     "metadata": {},
     "output_type": "execute_result"
    },
    {
     "data": {
      "text/plain": [
       "Top nil feature map classification: \tgoldfish, Carassius auratus 14.232905387878\t\n",
       "14.232905387878\t\n",
       "1288 is finished\t\n"
      ]
     },
     "execution_count": 35,
     "metadata": {},
     "output_type": "execute_result"
    },
    {
     "data": {
      "text/plain": [
       "Top nil feature map classification: \tgoldfish, Carassius auratus 20.58030128479\t\n",
       "20.58030128479\t\n",
       "1289 is finished\t\n"
      ]
     },
     "execution_count": 35,
     "metadata": {},
     "output_type": "execute_result"
    },
    {
     "data": {
      "text/plain": [
       "Top nil feature map classification: \tgoldfish, Carassius auratus 20.050874710083\t\n",
       "20.050874710083\t\n",
       "1290 is finished\t\n"
      ]
     },
     "execution_count": 35,
     "metadata": {},
     "output_type": "execute_result"
    },
    {
     "data": {
      "text/plain": [
       "Top nil feature map classification: \tgoldfish, Carassius auratus 25.742496490479\t\n",
       "25.742496490479\t\n",
       "1291 is finished\t\n"
      ]
     },
     "execution_count": 35,
     "metadata": {},
     "output_type": "execute_result"
    },
    {
     "data": {
      "text/plain": [
       "Top nil feature map classification: \tgoldfish, Carassius auratus 24.267267227173\t\n",
       "24.267267227173\t\n",
       "1292 is finished\t\n"
      ]
     },
     "execution_count": 35,
     "metadata": {},
     "output_type": "execute_result"
    },
    {
     "data": {
      "text/plain": [
       "Top nil feature map classification: \tgoldfish, Carassius auratus 17.605548858643\t\n",
       "17.605548858643\t\n",
       "1293 is finished\t\n"
      ]
     },
     "execution_count": 35,
     "metadata": {},
     "output_type": "execute_result"
    },
    {
     "data": {
      "text/plain": [
       "Top nil feature map classification: \tgoldfish, Carassius auratus 10.183263778687\t\n",
       "10.183263778687\t\n",
       "1294 is finished\t\n"
      ]
     },
     "execution_count": 35,
     "metadata": {},
     "output_type": "execute_result"
    },
    {
     "data": {
      "text/plain": [
       "Top nil feature map classification: \tgoldfish, Carassius auratus 15.752061843872\t\n",
       "15.752061843872\t\n",
       "1295 is finished\t\n"
      ]
     },
     "execution_count": 35,
     "metadata": {},
     "output_type": "execute_result"
    },
    {
     "data": {
      "text/plain": [
       "Top nil feature map classification: \tgoldfish, Carassius auratus 17.299589157104\t\n",
       "17.299589157104\t\n",
       "1296 is finished\t\n"
      ]
     },
     "execution_count": 35,
     "metadata": {},
     "output_type": "execute_result"
    },
    {
     "data": {
      "text/plain": [
       "Top nil feature map classification: \tgoldfish, Carassius auratus 13.091245651245\t\n",
       "13.091245651245\t\n",
       "1297 is finished\t\n"
      ]
     },
     "execution_count": 35,
     "metadata": {},
     "output_type": "execute_result"
    },
    {
     "data": {
      "text/plain": [
       "Top nil feature map classification: \tgoldfish, Carassius auratus 23.739200592041\t\n",
       "23.739200592041\t\n",
       "1298 is finished\t\n"
      ]
     },
     "execution_count": 35,
     "metadata": {},
     "output_type": "execute_result"
    },
    {
     "data": {
      "text/plain": [
       "Top nil feature map classification: \tcoral reef 16.33020401001\t\n",
       "12.153344154358\t\n",
       "1299 is finished\t\n"
      ]
     },
     "execution_count": 35,
     "metadata": {},
     "output_type": "execute_result"
    },
    {
     "data": {
      "text/plain": [
       "Top nil feature map classification: \tvault 6.4092540740967\t\n",
       "3.9638035297394\t\n",
       "1300 is finished\t\n"
      ]
     },
     "execution_count": 35,
     "metadata": {},
     "output_type": "execute_result"
    },
    {
     "data": {
      "text/plain": [
       "==> Time elapsed: 7730.4199860096 seconds\t\n"
      ]
     },
     "execution_count": 35,
     "metadata": {},
     "output_type": "execute_result"
    }
   ],
   "source": [
    "point_index = torch.Tensor(512)\n",
    "for i=1, 512 do\n",
    "    point_index[i] = i\n",
    "end\n",
    "\n",
    "local specific_object_statistic = {}\n",
    "for i=1, total_files do\n",
    "    specific_object_statistic[i] = { file_name='nil', insertion_curve={}, dropout_curve={}, topN_index={}  }\n",
    "end\n",
    "\n",
    "timer = torch.Timer()\n",
    "--for i=21, 21 do\n",
    "for i=1, total_files do\n",
    "    im = image.load( fileDir..'/'..fileList[i] )\n",
    "    I = preprocess(im, img_mean)\n",
    "\n",
    "    sorted_prob, classes = net:forward(I:cuda()):view(-1):float():sort(true)\n",
    "    label_prob = net:forward(I:cuda()):view(-1):float()\n",
    "    print('Top '..tostring(top_n)..' feature map classification: ', synset_words[classes[1]] .. ' ' .. sorted_prob[1] )\n",
    "    print( label_prob[true_label] )\n",
    "    \n",
    "    print( i..' is finished')\n",
    "    local topN_index = Find_diff_by_drop1( label_prob[true_label] )\n",
    "    --print(topN_index )\n",
    "    local insertion_curve = Insertion( topN_index )\n",
    "    local dropout_curve = Dropout( topN_index )\n",
    "    \n",
    "    specific_object_statistic[i].file_name = fileList[i]\n",
    "    specific_object_statistic[i].insertion_curve = insertion_curve\n",
    "    specific_object_statistic[i].dropout_curve = dropout_curve\n",
    "    specific_object_statistic[i].topN_index = topN_index\n",
    "    --plot = Plot():line( point_index, insertion_curve,'red','Classification Curve'):legend(true):title('Insertion'):draw()\n",
    "    --plot = Plot():line( point_index, dropout_curve,'red','Classification Curve'):legend(true):title('Dropout'):draw() \n",
    "end\n",
    "\n",
    "--torch.save('VGG_n01443537.t7', specific_object_statistic )\n",
    "print('==> Time elapsed: ' .. timer:time().real .. ' seconds')"
   ]
  },
  {
   "cell_type": "code",
   "execution_count": 4,
   "metadata": {
    "collapsed": false
   },
   "outputs": [
    {
     "data": {
      "text/plain": [
       "top1 accuracy : 0.90846153846154\t\n",
       "==> Time elapsed: 96.991717100143 seconds\t\n"
      ]
     },
     "execution_count": 4,
     "metadata": {},
     "output_type": "execute_result"
    }
   ],
   "source": [
    "top1_hit = 0\n",
    "\n",
    "\n",
    "timer = torch.Timer()\n",
    "\n",
    "for i=1, total_files do\n",
    "    im = image.load( fileDir..'/'..fileList[i] )\n",
    "    I = preprocess(im, img_mean)\n",
    "\n",
    "    sorted_prob, classes = net:forward(I:cuda()):view(-1):float():sort(true)\n",
    "    label_prob = net:forward(I:cuda()):view(-1):float()\n",
    "    if true_label == classes[1] then\n",
    "        top1_hit = top1_hit + 1\n",
    "    end\n",
    "--     print('Top '..tostring(top_n)..' feature map classification: ', synset_words[classes[1]] .. ' ' .. sorted_prob[1] )\n",
    "--     print( label_prob[true_label] )\n",
    "--     print( i..' is finished')         \n",
    "end\n",
    "\n",
    "print( 'top1 accuracy : ' .. top1_hit/ total_files )\n",
    "\n",
    "\n",
    "--torch.save('VGG_n01443537.t7', specific_object_statistic )\n",
    "print('==> Time elapsed: ' .. timer:time().real .. ' seconds')"
   ]
  },
  {
   "cell_type": "code",
   "execution_count": null,
   "metadata": {
    "collapsed": true
   },
   "outputs": [],
   "source": []
  }
 ],
 "metadata": {
  "kernelspec": {
   "display_name": "iTorch",
   "language": "lua",
   "name": "itorch"
  },
  "language_info": {
   "name": "lua",
   "version": "20100"
  }
 },
 "nbformat": 4,
 "nbformat_minor": 0
}
